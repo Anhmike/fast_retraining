{
 "cells": [
  {
   "cell_type": "markdown",
   "metadata": {
    "deletable": true,
    "editable": true
   },
   "source": [
    "# Experiment 01: Airline dataset\n",
    "\n",
    "In this notebook we are going to perform a prediction experiment with XGBoost and LightGBM using the Airline dataset. We are also going to analyze if the dataset has [concept drift](https://en.wikipedia.org/wiki/Concept_drift). \n",
    "\n",
    "In this experiment we use [the airline dataset](http://kt.ijs.si/elena_ikonomovska/data.html) to predict arrival delay. The dataset consists of a large amount of records, containing flight arrival and departure details for all the commercial flights within the USA, from October 1987 to April 2008. Its size is around 116 million records and 5.76 GB of memory.\n",
    "\n",
    "The machine we used was an [Azure NV24 VM](https://azure.microsoft.com/en-gb/blog/azure-n-series-general-availability-on-december-1/), which has [NVIDIA M60](http://www.nvidia.com/object/tesla-m60.html) GPUs. Its operating system is Ubuntu 16.04.\n",
    "\n",
    "For both XGBoost and LightGBM we compiled from source, to get the last improvements. In XGboost we used the commit `6776292951565c8cd72e69afd9d94de1474f00c0` of May 26th. For LightGBM we used the commit `73968a96829e212b333c88cd44725c8c39c03ad1` of June 2nd. To get these versions and replicate our experiments:\n",
    "```python\n",
    "git clone --recursive *url_of_library*\n",
    "git checkout *oldcommit*\n",
    "git submodule update --recursive\n",
    "```"
   ]
  },
  {
   "cell_type": "code",
   "execution_count": 1,
   "metadata": {
    "collapsed": false,
    "deletable": true,
    "editable": true
   },
   "outputs": [
    {
     "name": "stderr",
     "output_type": "stream",
     "text": [
      "Using TensorFlow backend.\n"
     ]
    },
    {
     "name": "stdout",
     "output_type": "stream",
     "text": [
      "System version: 3.5.2 |Anaconda custom (64-bit)| (default, Jul  2 2016, 17:53:06) \n",
      "[GCC 4.4.7 20120313 (Red Hat 4.4.7-1)]\n",
      "XGBoost version: 0.6\n",
      "LightGBM version: 0.2\n"
     ]
    }
   ],
   "source": [
    "import json\n",
    "import sys\n",
    "import warnings\n",
    "\n",
    "import matplotlib.pylab as plt\n",
    "import numpy as np\n",
    "import pandas as pd\n",
    "import pkg_resources\n",
    "from IPython.display import SVG, display\n",
    "from bokeh.io import export_svgs\n",
    "from bokeh.io import output_notebook, show\n",
    "from bokeh.plotting import figure\n",
    "from libs.conversion import convert_cols_categorical_to_numeric, convert_related_cols_categorical_to_numeric\n",
    "from libs.loaders import load_airline\n",
    "from libs.notebook_memory_management import start_watching_memory\n",
    "from libs.timer import Timer\n",
    "from libs.utils import get_number_processors\n",
    "from lightgbm.sklearn import LGBMRegressor, LGBMClassifier\n",
    "from sklearn.metrics import (accuracy_score, roc_auc_score, f1_score, precision_score,\n",
    "                             recall_score)\n",
    "from libs.metrics import classification_metrics_binary, classification_metrics_binary_prob, binarize_prediction\n",
    "from toolz import curry\n",
    "from xgboost import XGBRegressor\n",
    "\n",
    "print(\"System version: {}\".format(sys.version))\n",
    "print(\"XGBoost version: {}\".format(pkg_resources.get_distribution('xgboost').version))\n",
    "print(\"LightGBM version: {}\".format(pkg_resources.get_distribution('lightgbm').version))\n",
    "\n",
    "warnings.filterwarnings(\"ignore\", category=DeprecationWarning)"
   ]
  },
  {
   "cell_type": "markdown",
   "metadata": {
    "deletable": true,
    "editable": true
   },
   "source": [
    "The dataset we are going to use in this notebook is huge, therefore we want to monitor the memory consumption. "
   ]
  },
  {
   "cell_type": "code",
   "execution_count": 2,
   "metadata": {
    "collapsed": false,
    "deletable": true,
    "editable": true
   },
   "outputs": [
    {
     "data": {
      "text/html": [
       "\n",
       "    <div class=\"bk-root\">\n",
       "        <a href=\"http://bokeh.pydata.org\" target=\"_blank\" class=\"bk-logo bk-logo-small bk-logo-notebook\"></a>\n",
       "        <span id=\"8e9b47a9-ddd4-44a4-8307-f6d835e4c6bf\">Loading BokehJS ...</span>\n",
       "    </div>"
      ]
     },
     "metadata": {},
     "output_type": "display_data"
    },
    {
     "data": {
      "application/javascript": [
       "\n",
       "(function(global) {\n",
       "  function now() {\n",
       "    return new Date();\n",
       "  }\n",
       "\n",
       "  var force = true;\n",
       "\n",
       "  if (typeof (window._bokeh_onload_callbacks) === \"undefined\" || force === true) {\n",
       "    window._bokeh_onload_callbacks = [];\n",
       "    window._bokeh_is_loading = undefined;\n",
       "  }\n",
       "\n",
       "\n",
       "  \n",
       "  if (typeof (window._bokeh_timeout) === \"undefined\" || force === true) {\n",
       "    window._bokeh_timeout = Date.now() + 5000;\n",
       "    window._bokeh_failed_load = false;\n",
       "  }\n",
       "\n",
       "  var NB_LOAD_WARNING = {'data': {'text/html':\n",
       "     \"<div style='background-color: #fdd'>\\n\"+\n",
       "     \"<p>\\n\"+\n",
       "     \"BokehJS does not appear to have successfully loaded. If loading BokehJS from CDN, this \\n\"+\n",
       "     \"may be due to a slow or bad network connection. Possible fixes:\\n\"+\n",
       "     \"</p>\\n\"+\n",
       "     \"<ul>\\n\"+\n",
       "     \"<li>re-rerun `output_notebook()` to attempt to load from CDN again, or</li>\\n\"+\n",
       "     \"<li>use INLINE resources instead, as so:</li>\\n\"+\n",
       "     \"</ul>\\n\"+\n",
       "     \"<code>\\n\"+\n",
       "     \"from bokeh.resources import INLINE\\n\"+\n",
       "     \"output_notebook(resources=INLINE)\\n\"+\n",
       "     \"</code>\\n\"+\n",
       "     \"</div>\"}};\n",
       "\n",
       "  function display_loaded() {\n",
       "    if (window.Bokeh !== undefined) {\n",
       "      var el = document.getElementById(\"8e9b47a9-ddd4-44a4-8307-f6d835e4c6bf\");\n",
       "      el.textContent = \"BokehJS \" + Bokeh.version + \" successfully loaded.\";\n",
       "    } else if (Date.now() < window._bokeh_timeout) {\n",
       "      setTimeout(display_loaded, 100)\n",
       "    }\n",
       "  }\n",
       "\n",
       "  function run_callbacks() {\n",
       "    try {\n",
       "      window._bokeh_onload_callbacks.forEach(function(callback) { callback() });\n",
       "    }\n",
       "    finally {\n",
       "      delete window._bokeh_onload_callbacks\n",
       "    }\n",
       "    console.info(\"Bokeh: all callbacks have finished\");\n",
       "  }\n",
       "\n",
       "  function load_libs(js_urls, callback) {\n",
       "    window._bokeh_onload_callbacks.push(callback);\n",
       "    if (window._bokeh_is_loading > 0) {\n",
       "      console.log(\"Bokeh: BokehJS is being loaded, scheduling callback at\", now());\n",
       "      return null;\n",
       "    }\n",
       "    if (js_urls == null || js_urls.length === 0) {\n",
       "      run_callbacks();\n",
       "      return null;\n",
       "    }\n",
       "    console.log(\"Bokeh: BokehJS not loaded, scheduling load and callback at\", now());\n",
       "    window._bokeh_is_loading = js_urls.length;\n",
       "    for (var i = 0; i < js_urls.length; i++) {\n",
       "      var url = js_urls[i];\n",
       "      var s = document.createElement('script');\n",
       "      s.src = url;\n",
       "      s.async = false;\n",
       "      s.onreadystatechange = s.onload = function() {\n",
       "        window._bokeh_is_loading--;\n",
       "        if (window._bokeh_is_loading === 0) {\n",
       "          console.log(\"Bokeh: all BokehJS libraries loaded\");\n",
       "          run_callbacks()\n",
       "        }\n",
       "      };\n",
       "      s.onerror = function() {\n",
       "        console.warn(\"failed to load library \" + url);\n",
       "      };\n",
       "      console.log(\"Bokeh: injecting script tag for BokehJS library: \", url);\n",
       "      document.getElementsByTagName(\"head\")[0].appendChild(s);\n",
       "    }\n",
       "  };var element = document.getElementById(\"8e9b47a9-ddd4-44a4-8307-f6d835e4c6bf\");\n",
       "  if (element == null) {\n",
       "    console.log(\"Bokeh: ERROR: autoload.js configured with elementid '8e9b47a9-ddd4-44a4-8307-f6d835e4c6bf' but no matching script tag was found. \")\n",
       "    return false;\n",
       "  }\n",
       "\n",
       "  var js_urls = [\"https://cdn.pydata.org/bokeh/release/bokeh-0.12.6.min.js\", \"https://cdn.pydata.org/bokeh/release/bokeh-widgets-0.12.6.min.js\"];\n",
       "\n",
       "  var inline_js = [\n",
       "    function(Bokeh) {\n",
       "      Bokeh.set_log_level(\"info\");\n",
       "    },\n",
       "    \n",
       "    function(Bokeh) {\n",
       "      \n",
       "    },\n",
       "    \n",
       "    function(Bokeh) {\n",
       "      \n",
       "      document.getElementById(\"8e9b47a9-ddd4-44a4-8307-f6d835e4c6bf\").textContent = \"BokehJS is loading...\";\n",
       "    },\n",
       "    function(Bokeh) {\n",
       "      console.log(\"Bokeh: injecting CSS: https://cdn.pydata.org/bokeh/release/bokeh-0.12.6.min.css\");\n",
       "      Bokeh.embed.inject_css(\"https://cdn.pydata.org/bokeh/release/bokeh-0.12.6.min.css\");\n",
       "      console.log(\"Bokeh: injecting CSS: https://cdn.pydata.org/bokeh/release/bokeh-widgets-0.12.6.min.css\");\n",
       "      Bokeh.embed.inject_css(\"https://cdn.pydata.org/bokeh/release/bokeh-widgets-0.12.6.min.css\");\n",
       "    }\n",
       "  ];\n",
       "\n",
       "  function run_inline_js() {\n",
       "    \n",
       "    if ((window.Bokeh !== undefined) || (force === true)) {\n",
       "      for (var i = 0; i < inline_js.length; i++) {\n",
       "        inline_js[i](window.Bokeh);\n",
       "      }if (force === true) {\n",
       "        display_loaded();\n",
       "      }} else if (Date.now() < window._bokeh_timeout) {\n",
       "      setTimeout(run_inline_js, 100);\n",
       "    } else if (!window._bokeh_failed_load) {\n",
       "      console.log(\"Bokeh: BokehJS failed to load within specified timeout.\");\n",
       "      window._bokeh_failed_load = true;\n",
       "    } else if (force !== true) {\n",
       "      var cell = $(document.getElementById(\"8e9b47a9-ddd4-44a4-8307-f6d835e4c6bf\")).parents('.cell').data().cell;\n",
       "      cell.output_area.append_execute_result(NB_LOAD_WARNING)\n",
       "    }\n",
       "\n",
       "  }\n",
       "\n",
       "  if (window._bokeh_is_loading === 0) {\n",
       "    console.log(\"Bokeh: BokehJS loaded, going straight to plotting\");\n",
       "    run_inline_js();\n",
       "  } else {\n",
       "    load_libs(js_urls, function() {\n",
       "      console.log(\"Bokeh: BokehJS plotting callback run at\", now());\n",
       "      run_inline_js();\n",
       "    });\n",
       "  }\n",
       "}(this));"
      ]
     },
     "metadata": {},
     "output_type": "display_data"
    }
   ],
   "source": [
    "output_notebook()"
   ]
  },
  {
   "cell_type": "code",
   "execution_count": 3,
   "metadata": {
    "collapsed": false,
    "deletable": true,
    "editable": true
   },
   "outputs": [
    {
     "name": "stdout",
     "output_type": "stream",
     "text": [
      "In [3] used 12.0430 MiB RAM in 18.05s, total RAM usage 271.04 MiB\n"
     ]
    }
   ],
   "source": [
    "start_watching_memory()"
   ]
  },
  {
   "cell_type": "markdown",
   "metadata": {
    "deletable": true,
    "editable": true
   },
   "source": [
    "# 1) XGBoost vs LightGBM benchmark\n",
    "In the next section we compare both libraries speed, accuracy and other metrics for the dataset of airline arrival delay. \n",
    "\n",
    "### Data loading and management"
   ]
  },
  {
   "cell_type": "code",
   "execution_count": 4,
   "metadata": {
    "collapsed": false,
    "deletable": true,
    "editable": true
   },
   "outputs": [
    {
     "name": "stderr",
     "output_type": "stream",
     "text": [
      "INFO:libs.loaders:MOUNT_POINT not found in environment. Defaulting to /fileshare\n"
     ]
    },
    {
     "name": "stdout",
     "output_type": "stream",
     "text": [
      "(115069017, 14)\n",
      "CPU times: user 1min 29s, sys: 18.9 s, total: 1min 48s\n",
      "Wall time: 4min 56s\n",
      "In [4] used 21994.3711 MiB RAM in 296.71s, total RAM usage 22265.41 MiB\n"
     ]
    }
   ],
   "source": [
    "%%time\n",
    "df_plane = load_airline()\n",
    "print(df_plane.shape)"
   ]
  },
  {
   "cell_type": "code",
   "execution_count": 5,
   "metadata": {
    "collapsed": false,
    "deletable": true,
    "editable": true
   },
   "outputs": [
    {
     "data": {
      "text/html": [
       "<div>\n",
       "<table border=\"1\" class=\"dataframe\">\n",
       "  <thead>\n",
       "    <tr style=\"text-align: right;\">\n",
       "      <th></th>\n",
       "      <th>Year</th>\n",
       "      <th>Month</th>\n",
       "      <th>DayofMonth</th>\n",
       "      <th>DayofWeek</th>\n",
       "      <th>CRSDepTime</th>\n",
       "      <th>CRSArrTime</th>\n",
       "      <th>UniqueCarrier</th>\n",
       "      <th>FlightNum</th>\n",
       "      <th>ActualElapsedTime</th>\n",
       "      <th>Origin</th>\n",
       "      <th>Dest</th>\n",
       "      <th>Distance</th>\n",
       "      <th>Diverted</th>\n",
       "      <th>ArrDelay</th>\n",
       "    </tr>\n",
       "  </thead>\n",
       "  <tbody>\n",
       "    <tr>\n",
       "      <th>0</th>\n",
       "      <td>1987</td>\n",
       "      <td>10</td>\n",
       "      <td>1</td>\n",
       "      <td>4</td>\n",
       "      <td>1</td>\n",
       "      <td>556</td>\n",
       "      <td>AA</td>\n",
       "      <td>190</td>\n",
       "      <td>247</td>\n",
       "      <td>SFO</td>\n",
       "      <td>ORD</td>\n",
       "      <td>1846</td>\n",
       "      <td>0</td>\n",
       "      <td>27</td>\n",
       "    </tr>\n",
       "    <tr>\n",
       "      <th>1</th>\n",
       "      <td>1987</td>\n",
       "      <td>10</td>\n",
       "      <td>1</td>\n",
       "      <td>4</td>\n",
       "      <td>5</td>\n",
       "      <td>114</td>\n",
       "      <td>EA</td>\n",
       "      <td>57</td>\n",
       "      <td>74</td>\n",
       "      <td>LAX</td>\n",
       "      <td>SFO</td>\n",
       "      <td>337</td>\n",
       "      <td>0</td>\n",
       "      <td>5</td>\n",
       "    </tr>\n",
       "    <tr>\n",
       "      <th>2</th>\n",
       "      <td>1987</td>\n",
       "      <td>10</td>\n",
       "      <td>1</td>\n",
       "      <td>4</td>\n",
       "      <td>5</td>\n",
       "      <td>35</td>\n",
       "      <td>HP</td>\n",
       "      <td>351</td>\n",
       "      <td>167</td>\n",
       "      <td>ICT</td>\n",
       "      <td>LAS</td>\n",
       "      <td>987</td>\n",
       "      <td>0</td>\n",
       "      <td>17</td>\n",
       "    </tr>\n",
       "    <tr>\n",
       "      <th>3</th>\n",
       "      <td>1987</td>\n",
       "      <td>10</td>\n",
       "      <td>1</td>\n",
       "      <td>4</td>\n",
       "      <td>5</td>\n",
       "      <td>40</td>\n",
       "      <td>DL</td>\n",
       "      <td>251</td>\n",
       "      <td>35</td>\n",
       "      <td>MCO</td>\n",
       "      <td>PBI</td>\n",
       "      <td>142</td>\n",
       "      <td>0</td>\n",
       "      <td>-2</td>\n",
       "    </tr>\n",
       "    <tr>\n",
       "      <th>4</th>\n",
       "      <td>1987</td>\n",
       "      <td>10</td>\n",
       "      <td>1</td>\n",
       "      <td>4</td>\n",
       "      <td>8</td>\n",
       "      <td>517</td>\n",
       "      <td>UA</td>\n",
       "      <td>500</td>\n",
       "      <td>208</td>\n",
       "      <td>LAS</td>\n",
       "      <td>ORD</td>\n",
       "      <td>1515</td>\n",
       "      <td>0</td>\n",
       "      <td>17</td>\n",
       "    </tr>\n",
       "  </tbody>\n",
       "</table>\n",
       "</div>"
      ],
      "text/plain": [
       "   Year  Month  DayofMonth  DayofWeek  CRSDepTime  CRSArrTime UniqueCarrier  \\\n",
       "0  1987     10           1          4           1         556            AA   \n",
       "1  1987     10           1          4           5         114            EA   \n",
       "2  1987     10           1          4           5          35            HP   \n",
       "3  1987     10           1          4           5          40            DL   \n",
       "4  1987     10           1          4           8         517            UA   \n",
       "\n",
       "   FlightNum  ActualElapsedTime Origin Dest  Distance  Diverted  ArrDelay  \n",
       "0        190                247    SFO  ORD      1846         0        27  \n",
       "1         57                 74    LAX  SFO       337         0         5  \n",
       "2        351                167    ICT  LAS       987         0        17  \n",
       "3        251                 35    MCO  PBI       142         0        -2  \n",
       "4        500                208    LAS  ORD      1515         0        17  "
      ]
     },
     "execution_count": 5,
     "metadata": {},
     "output_type": "execute_result"
    },
    {
     "name": "stdout",
     "output_type": "stream",
     "text": [
      "In [5] used 0.2305 MiB RAM in 0.12s, total RAM usage 22265.64 MiB\n"
     ]
    }
   ],
   "source": [
    "df_plane.head()"
   ]
  },
  {
   "cell_type": "markdown",
   "metadata": {
    "deletable": true,
    "editable": true
   },
   "source": [
    "The first step is to convert the categorical features to numeric features."
   ]
  },
  {
   "cell_type": "code",
   "execution_count": 6,
   "metadata": {
    "collapsed": false,
    "deletable": true,
    "editable": true
   },
   "outputs": [
    {
     "name": "stdout",
     "output_type": "stream",
     "text": [
      "CPU times: user 1min 34s, sys: 13.6 s, total: 1min 48s\n",
      "Wall time: 1min 48s\n",
      "In [6] used 5270.4883 MiB RAM in 108.91s, total RAM usage 27536.13 MiB\n"
     ]
    }
   ],
   "source": [
    "%%time\n",
    "df_plane_numeric = convert_related_cols_categorical_to_numeric(df_plane, col_list=['Origin','Dest'])\n",
    "del df_plane"
   ]
  },
  {
   "cell_type": "code",
   "execution_count": 7,
   "metadata": {
    "collapsed": false,
    "deletable": true,
    "editable": true
   },
   "outputs": [
    {
     "data": {
      "text/html": [
       "<div>\n",
       "<table border=\"1\" class=\"dataframe\">\n",
       "  <thead>\n",
       "    <tr style=\"text-align: right;\">\n",
       "      <th></th>\n",
       "      <th>Year</th>\n",
       "      <th>Month</th>\n",
       "      <th>DayofMonth</th>\n",
       "      <th>DayofWeek</th>\n",
       "      <th>CRSDepTime</th>\n",
       "      <th>CRSArrTime</th>\n",
       "      <th>UniqueCarrier</th>\n",
       "      <th>FlightNum</th>\n",
       "      <th>ActualElapsedTime</th>\n",
       "      <th>Origin</th>\n",
       "      <th>Dest</th>\n",
       "      <th>Distance</th>\n",
       "      <th>Diverted</th>\n",
       "      <th>ArrDelay</th>\n",
       "    </tr>\n",
       "  </thead>\n",
       "  <tbody>\n",
       "    <tr>\n",
       "      <th>0</th>\n",
       "      <td>1987</td>\n",
       "      <td>10</td>\n",
       "      <td>1</td>\n",
       "      <td>4</td>\n",
       "      <td>1</td>\n",
       "      <td>556</td>\n",
       "      <td>AA</td>\n",
       "      <td>190</td>\n",
       "      <td>247</td>\n",
       "      <td>0</td>\n",
       "      <td>33</td>\n",
       "      <td>1846</td>\n",
       "      <td>0</td>\n",
       "      <td>27</td>\n",
       "    </tr>\n",
       "    <tr>\n",
       "      <th>1</th>\n",
       "      <td>1987</td>\n",
       "      <td>10</td>\n",
       "      <td>1</td>\n",
       "      <td>4</td>\n",
       "      <td>5</td>\n",
       "      <td>114</td>\n",
       "      <td>EA</td>\n",
       "      <td>57</td>\n",
       "      <td>74</td>\n",
       "      <td>1</td>\n",
       "      <td>0</td>\n",
       "      <td>337</td>\n",
       "      <td>0</td>\n",
       "      <td>5</td>\n",
       "    </tr>\n",
       "    <tr>\n",
       "      <th>2</th>\n",
       "      <td>1987</td>\n",
       "      <td>10</td>\n",
       "      <td>1</td>\n",
       "      <td>4</td>\n",
       "      <td>5</td>\n",
       "      <td>35</td>\n",
       "      <td>HP</td>\n",
       "      <td>351</td>\n",
       "      <td>167</td>\n",
       "      <td>2</td>\n",
       "      <td>4</td>\n",
       "      <td>987</td>\n",
       "      <td>0</td>\n",
       "      <td>17</td>\n",
       "    </tr>\n",
       "    <tr>\n",
       "      <th>3</th>\n",
       "      <td>1987</td>\n",
       "      <td>10</td>\n",
       "      <td>1</td>\n",
       "      <td>4</td>\n",
       "      <td>5</td>\n",
       "      <td>40</td>\n",
       "      <td>DL</td>\n",
       "      <td>251</td>\n",
       "      <td>35</td>\n",
       "      <td>3</td>\n",
       "      <td>41</td>\n",
       "      <td>142</td>\n",
       "      <td>0</td>\n",
       "      <td>-2</td>\n",
       "    </tr>\n",
       "    <tr>\n",
       "      <th>4</th>\n",
       "      <td>1987</td>\n",
       "      <td>10</td>\n",
       "      <td>1</td>\n",
       "      <td>4</td>\n",
       "      <td>8</td>\n",
       "      <td>517</td>\n",
       "      <td>UA</td>\n",
       "      <td>500</td>\n",
       "      <td>208</td>\n",
       "      <td>4</td>\n",
       "      <td>33</td>\n",
       "      <td>1515</td>\n",
       "      <td>0</td>\n",
       "      <td>17</td>\n",
       "    </tr>\n",
       "  </tbody>\n",
       "</table>\n",
       "</div>"
      ],
      "text/plain": [
       "   Year  Month  DayofMonth  DayofWeek  CRSDepTime  CRSArrTime UniqueCarrier  \\\n",
       "0  1987     10           1          4           1         556            AA   \n",
       "1  1987     10           1          4           5         114            EA   \n",
       "2  1987     10           1          4           5          35            HP   \n",
       "3  1987     10           1          4           5          40            DL   \n",
       "4  1987     10           1          4           8         517            UA   \n",
       "\n",
       "   FlightNum  ActualElapsedTime  Origin  Dest  Distance  Diverted  ArrDelay  \n",
       "0        190                247       0    33      1846         0        27  \n",
       "1         57                 74       1     0       337         0         5  \n",
       "2        351                167       2     4       987         0        17  \n",
       "3        251                 35       3    41       142         0        -2  \n",
       "4        500                208       4    33      1515         0        17  "
      ]
     },
     "execution_count": 7,
     "metadata": {},
     "output_type": "execute_result"
    },
    {
     "name": "stdout",
     "output_type": "stream",
     "text": [
      "In [7] used 0.0039 MiB RAM in 0.12s, total RAM usage 27536.13 MiB\n"
     ]
    }
   ],
   "source": [
    "df_plane_numeric.head()"
   ]
  },
  {
   "cell_type": "code",
   "execution_count": 8,
   "metadata": {
    "collapsed": false,
    "deletable": true,
    "editable": true
   },
   "outputs": [
    {
     "name": "stdout",
     "output_type": "stream",
     "text": [
      "CPU times: user 51.4 s, sys: 10.6 s, total: 1min 1s\n",
      "Wall time: 1min 2s\n",
      "In [8] used 13168.8477 MiB RAM in 62.48s, total RAM usage 40704.98 MiB\n"
     ]
    }
   ],
   "source": [
    "%%time\n",
    "df_plane_numeric = convert_cols_categorical_to_numeric(df_plane_numeric, col_list='UniqueCarrier')"
   ]
  },
  {
   "cell_type": "code",
   "execution_count": 9,
   "metadata": {
    "collapsed": false,
    "deletable": true,
    "editable": true,
    "scrolled": false
   },
   "outputs": [
    {
     "data": {
      "text/html": [
       "<div>\n",
       "<table border=\"1\" class=\"dataframe\">\n",
       "  <thead>\n",
       "    <tr style=\"text-align: right;\">\n",
       "      <th></th>\n",
       "      <th>Year</th>\n",
       "      <th>Month</th>\n",
       "      <th>DayofMonth</th>\n",
       "      <th>DayofWeek</th>\n",
       "      <th>CRSDepTime</th>\n",
       "      <th>CRSArrTime</th>\n",
       "      <th>UniqueCarrier</th>\n",
       "      <th>FlightNum</th>\n",
       "      <th>ActualElapsedTime</th>\n",
       "      <th>Origin</th>\n",
       "      <th>Dest</th>\n",
       "      <th>Distance</th>\n",
       "      <th>Diverted</th>\n",
       "      <th>ArrDelay</th>\n",
       "    </tr>\n",
       "  </thead>\n",
       "  <tbody>\n",
       "    <tr>\n",
       "      <th>0</th>\n",
       "      <td>1987</td>\n",
       "      <td>10</td>\n",
       "      <td>1</td>\n",
       "      <td>4</td>\n",
       "      <td>1</td>\n",
       "      <td>556</td>\n",
       "      <td>0</td>\n",
       "      <td>190</td>\n",
       "      <td>247</td>\n",
       "      <td>0</td>\n",
       "      <td>33</td>\n",
       "      <td>1846</td>\n",
       "      <td>0</td>\n",
       "      <td>27</td>\n",
       "    </tr>\n",
       "    <tr>\n",
       "      <th>1</th>\n",
       "      <td>1987</td>\n",
       "      <td>10</td>\n",
       "      <td>1</td>\n",
       "      <td>4</td>\n",
       "      <td>5</td>\n",
       "      <td>114</td>\n",
       "      <td>1</td>\n",
       "      <td>57</td>\n",
       "      <td>74</td>\n",
       "      <td>1</td>\n",
       "      <td>0</td>\n",
       "      <td>337</td>\n",
       "      <td>0</td>\n",
       "      <td>5</td>\n",
       "    </tr>\n",
       "    <tr>\n",
       "      <th>2</th>\n",
       "      <td>1987</td>\n",
       "      <td>10</td>\n",
       "      <td>1</td>\n",
       "      <td>4</td>\n",
       "      <td>5</td>\n",
       "      <td>35</td>\n",
       "      <td>2</td>\n",
       "      <td>351</td>\n",
       "      <td>167</td>\n",
       "      <td>2</td>\n",
       "      <td>4</td>\n",
       "      <td>987</td>\n",
       "      <td>0</td>\n",
       "      <td>17</td>\n",
       "    </tr>\n",
       "    <tr>\n",
       "      <th>3</th>\n",
       "      <td>1987</td>\n",
       "      <td>10</td>\n",
       "      <td>1</td>\n",
       "      <td>4</td>\n",
       "      <td>5</td>\n",
       "      <td>40</td>\n",
       "      <td>3</td>\n",
       "      <td>251</td>\n",
       "      <td>35</td>\n",
       "      <td>3</td>\n",
       "      <td>41</td>\n",
       "      <td>142</td>\n",
       "      <td>0</td>\n",
       "      <td>-2</td>\n",
       "    </tr>\n",
       "    <tr>\n",
       "      <th>4</th>\n",
       "      <td>1987</td>\n",
       "      <td>10</td>\n",
       "      <td>1</td>\n",
       "      <td>4</td>\n",
       "      <td>8</td>\n",
       "      <td>517</td>\n",
       "      <td>4</td>\n",
       "      <td>500</td>\n",
       "      <td>208</td>\n",
       "      <td>4</td>\n",
       "      <td>33</td>\n",
       "      <td>1515</td>\n",
       "      <td>0</td>\n",
       "      <td>17</td>\n",
       "    </tr>\n",
       "  </tbody>\n",
       "</table>\n",
       "</div>"
      ],
      "text/plain": [
       "   Year  Month  DayofMonth  DayofWeek  CRSDepTime  CRSArrTime  UniqueCarrier  \\\n",
       "0  1987     10           1          4           1         556              0   \n",
       "1  1987     10           1          4           5         114              1   \n",
       "2  1987     10           1          4           5          35              2   \n",
       "3  1987     10           1          4           5          40              3   \n",
       "4  1987     10           1          4           8         517              4   \n",
       "\n",
       "   FlightNum  ActualElapsedTime  Origin  Dest  Distance  Diverted  ArrDelay  \n",
       "0        190                247       0    33      1846         0        27  \n",
       "1         57                 74       1     0       337         0         5  \n",
       "2        351                167       2     4       987         0        17  \n",
       "3        251                 35       3    41       142         0        -2  \n",
       "4        500                208       4    33      1515         0        17  "
      ]
     },
     "execution_count": 9,
     "metadata": {},
     "output_type": "execute_result"
    },
    {
     "name": "stdout",
     "output_type": "stream",
     "text": [
      "In [9] used 0.0117 MiB RAM in 0.11s, total RAM usage 40704.99 MiB\n"
     ]
    }
   ],
   "source": [
    "df_plane_numeric.head()"
   ]
  },
  {
   "cell_type": "markdown",
   "metadata": {
    "deletable": true,
    "editable": true
   },
   "source": [
    "To simplify the pipeline, we are going to set a classification problem where the goal is to classify wheather a flight has arrived delayed or not. For that we need to binarize the variable `ArrDelay`.\n",
    "\n",
    "If you want to extend this experiment, you can set a regression problem and try to identify the number of minutes of delay a fight has. Both XGBoost and LightGBM have regression classes."
   ]
  },
  {
   "cell_type": "code",
   "execution_count": 10,
   "metadata": {
    "collapsed": false,
    "deletable": true,
    "editable": true
   },
   "outputs": [
    {
     "name": "stdout",
     "output_type": "stream",
     "text": [
      "In [10] used 3072.6328 MiB RAM in 12.85s, total RAM usage 43777.62 MiB\n"
     ]
    }
   ],
   "source": [
    "df_plane_numeric = df_plane_numeric.apply(lambda x: x.astype('int16'))"
   ]
  },
  {
   "cell_type": "code",
   "execution_count": 11,
   "metadata": {
    "collapsed": false,
    "deletable": true,
    "editable": true
   },
   "outputs": [
    {
     "name": "stdout",
     "output_type": "stream",
     "text": [
      "CPU times: user 296 ms, sys: 376 ms, total: 672 ms\n",
      "Wall time: 674 ms\n",
      "In [11] used 877.9766 MiB RAM in 0.81s, total RAM usage 44655.60 MiB\n"
     ]
    }
   ],
   "source": [
    "%%time\n",
    "df_plane_numeric['ArrDelayBinary'] = 1*(df_plane_numeric['ArrDelay'] > 0)"
   ]
  },
  {
   "cell_type": "code",
   "execution_count": 12,
   "metadata": {
    "collapsed": false,
    "deletable": true,
    "editable": true
   },
   "outputs": [
    {
     "data": {
      "text/html": [
       "<div>\n",
       "<table border=\"1\" class=\"dataframe\">\n",
       "  <thead>\n",
       "    <tr style=\"text-align: right;\">\n",
       "      <th></th>\n",
       "      <th>Year</th>\n",
       "      <th>Month</th>\n",
       "      <th>DayofMonth</th>\n",
       "      <th>DayofWeek</th>\n",
       "      <th>CRSDepTime</th>\n",
       "      <th>CRSArrTime</th>\n",
       "      <th>UniqueCarrier</th>\n",
       "      <th>FlightNum</th>\n",
       "      <th>ActualElapsedTime</th>\n",
       "      <th>Origin</th>\n",
       "      <th>Dest</th>\n",
       "      <th>Distance</th>\n",
       "      <th>Diverted</th>\n",
       "      <th>ArrDelay</th>\n",
       "      <th>ArrDelayBinary</th>\n",
       "    </tr>\n",
       "  </thead>\n",
       "  <tbody>\n",
       "    <tr>\n",
       "      <th>0</th>\n",
       "      <td>1987</td>\n",
       "      <td>10</td>\n",
       "      <td>1</td>\n",
       "      <td>4</td>\n",
       "      <td>1</td>\n",
       "      <td>556</td>\n",
       "      <td>0</td>\n",
       "      <td>190</td>\n",
       "      <td>247</td>\n",
       "      <td>0</td>\n",
       "      <td>33</td>\n",
       "      <td>1846</td>\n",
       "      <td>0</td>\n",
       "      <td>27</td>\n",
       "      <td>1</td>\n",
       "    </tr>\n",
       "    <tr>\n",
       "      <th>1</th>\n",
       "      <td>1987</td>\n",
       "      <td>10</td>\n",
       "      <td>1</td>\n",
       "      <td>4</td>\n",
       "      <td>5</td>\n",
       "      <td>114</td>\n",
       "      <td>1</td>\n",
       "      <td>57</td>\n",
       "      <td>74</td>\n",
       "      <td>1</td>\n",
       "      <td>0</td>\n",
       "      <td>337</td>\n",
       "      <td>0</td>\n",
       "      <td>5</td>\n",
       "      <td>1</td>\n",
       "    </tr>\n",
       "    <tr>\n",
       "      <th>2</th>\n",
       "      <td>1987</td>\n",
       "      <td>10</td>\n",
       "      <td>1</td>\n",
       "      <td>4</td>\n",
       "      <td>5</td>\n",
       "      <td>35</td>\n",
       "      <td>2</td>\n",
       "      <td>351</td>\n",
       "      <td>167</td>\n",
       "      <td>2</td>\n",
       "      <td>4</td>\n",
       "      <td>987</td>\n",
       "      <td>0</td>\n",
       "      <td>17</td>\n",
       "      <td>1</td>\n",
       "    </tr>\n",
       "    <tr>\n",
       "      <th>3</th>\n",
       "      <td>1987</td>\n",
       "      <td>10</td>\n",
       "      <td>1</td>\n",
       "      <td>4</td>\n",
       "      <td>5</td>\n",
       "      <td>40</td>\n",
       "      <td>3</td>\n",
       "      <td>251</td>\n",
       "      <td>35</td>\n",
       "      <td>3</td>\n",
       "      <td>41</td>\n",
       "      <td>142</td>\n",
       "      <td>0</td>\n",
       "      <td>-2</td>\n",
       "      <td>0</td>\n",
       "    </tr>\n",
       "    <tr>\n",
       "      <th>4</th>\n",
       "      <td>1987</td>\n",
       "      <td>10</td>\n",
       "      <td>1</td>\n",
       "      <td>4</td>\n",
       "      <td>8</td>\n",
       "      <td>517</td>\n",
       "      <td>4</td>\n",
       "      <td>500</td>\n",
       "      <td>208</td>\n",
       "      <td>4</td>\n",
       "      <td>33</td>\n",
       "      <td>1515</td>\n",
       "      <td>0</td>\n",
       "      <td>17</td>\n",
       "      <td>1</td>\n",
       "    </tr>\n",
       "  </tbody>\n",
       "</table>\n",
       "</div>"
      ],
      "text/plain": [
       "   Year  Month  DayofMonth  DayofWeek  CRSDepTime  CRSArrTime  UniqueCarrier  \\\n",
       "0  1987     10           1          4           1         556              0   \n",
       "1  1987     10           1          4           5         114              1   \n",
       "2  1987     10           1          4           5          35              2   \n",
       "3  1987     10           1          4           5          40              3   \n",
       "4  1987     10           1          4           8         517              4   \n",
       "\n",
       "   FlightNum  ActualElapsedTime  Origin  Dest  Distance  Diverted  ArrDelay  \\\n",
       "0        190                247       0    33      1846         0        27   \n",
       "1         57                 74       1     0       337         0         5   \n",
       "2        351                167       2     4       987         0        17   \n",
       "3        251                 35       3    41       142         0        -2   \n",
       "4        500                208       4    33      1515         0        17   \n",
       "\n",
       "   ArrDelayBinary  \n",
       "0               1  \n",
       "1               1  \n",
       "2               1  \n",
       "3               0  \n",
       "4               1  "
      ]
     },
     "execution_count": 12,
     "metadata": {},
     "output_type": "execute_result"
    },
    {
     "name": "stdout",
     "output_type": "stream",
     "text": [
      "In [12] used 0.0000 MiB RAM in 0.11s, total RAM usage 44655.60 MiB\n"
     ]
    }
   ],
   "source": [
    "df_plane_numeric.head()"
   ]
  },
  {
   "cell_type": "markdown",
   "metadata": {
    "deletable": true,
    "editable": true
   },
   "source": [
    "Once the features are prepared, let's split the dataset into train and test set. We won't use validation for this example (however, you can try to add it)."
   ]
  },
  {
   "cell_type": "code",
   "execution_count": 13,
   "metadata": {
    "collapsed": false,
    "deletable": true,
    "editable": true
   },
   "outputs": [
    {
     "name": "stdout",
     "output_type": "stream",
     "text": [
      "In [13] used 0.0000 MiB RAM in 0.11s, total RAM usage 44655.60 MiB\n"
     ]
    }
   ],
   "source": [
    "def split_train_val_test_df(df, val_size=0.2, test_size=0.2):\n",
    "    train, validate, test = np.split(df.sample(frac=1), \n",
    "                                     [int((1-val_size-test_size)*len(df)), int((1-test_size)*len(df))])\n",
    "    return train, validate, test"
   ]
  },
  {
   "cell_type": "code",
   "execution_count": 14,
   "metadata": {
    "collapsed": false,
    "deletable": true,
    "editable": true
   },
   "outputs": [
    {
     "name": "stdout",
     "output_type": "stream",
     "text": [
      "(92055213, 15)\n",
      "(0, 15)\n",
      "(23013804, 15)\n",
      "CPU times: user 34.7 s, sys: 3.46 s, total: 38.1 s\n",
      "Wall time: 38.3 s\n",
      "In [14] used 4653.3594 MiB RAM in 38.45s, total RAM usage 49308.96 MiB\n"
     ]
    }
   ],
   "source": [
    "%%time\n",
    "train, validate, test = split_train_val_test_df(df_plane_numeric, val_size=0, test_size=0.2)\n",
    "print(train.shape)\n",
    "print(validate.shape)\n",
    "print(test.shape)"
   ]
  },
  {
   "cell_type": "code",
   "execution_count": 15,
   "metadata": {
    "collapsed": false,
    "deletable": true,
    "editable": true
   },
   "outputs": [
    {
     "name": "stdout",
     "output_type": "stream",
     "text": [
      "In [15] used 0.0039 MiB RAM in 0.10s, total RAM usage 49308.96 MiB\n"
     ]
    }
   ],
   "source": [
    "def generate_feables(df):\n",
    "    X = df[df.columns.difference(['ArrDelay', 'ArrDelayBinary'])]\n",
    "    y = df['ArrDelayBinary']\n",
    "    return X,y"
   ]
  },
  {
   "cell_type": "code",
   "execution_count": 16,
   "metadata": {
    "collapsed": false,
    "deletable": true,
    "editable": true
   },
   "outputs": [
    {
     "name": "stdout",
     "output_type": "stream",
     "text": [
      "CPU times: user 768 ms, sys: 708 ms, total: 1.48 s\n",
      "Wall time: 1.51 s\n",
      "In [16] used 2853.1641 MiB RAM in 1.61s, total RAM usage 52162.13 MiB\n"
     ]
    }
   ],
   "source": [
    "%%time\n",
    "X_train, y_train = generate_feables(train)\n",
    "X_val, y_val = generate_feables(validate)\n",
    "X_test, y_test = generate_feables(test)"
   ]
  },
  {
   "cell_type": "code",
   "execution_count": 17,
   "metadata": {
    "collapsed": false,
    "deletable": true,
    "editable": true
   },
   "outputs": [
    {
     "name": "stdout",
     "output_type": "stream",
     "text": [
      "In [17] used 0.0000 MiB RAM in 0.10s, total RAM usage 52162.13 MiB\n"
     ]
    }
   ],
   "source": [
    "del train, validate, test"
   ]
  },
  {
   "cell_type": "markdown",
   "metadata": {
    "deletable": true,
    "editable": true
   },
   "source": [
    "### Training \n",
    "Now we are going to create two pipelines, one of XGBoost and one for LightGBM. The technology behind both libraries is different, so it is difficult to compare them in the exact same model setting. XGBoost grows the trees depth-wise and controls model complexity with `max_depth`. Instead, LightGBM uses a leaf-wise algorithm and controls the model complexity by `num_leaves`. As a tradeoff, we use XGBoost with `max_depth=8`, which will have max number leaves of 255, and compare it with LightGBM with `num_leaves=255`. "
   ]
  },
  {
   "cell_type": "code",
   "execution_count": 18,
   "metadata": {
    "collapsed": false,
    "deletable": true,
    "editable": true
   },
   "outputs": [
    {
     "name": "stdout",
     "output_type": "stream",
     "text": [
      "In [18] used 0.0000 MiB RAM in 0.10s, total RAM usage 52162.13 MiB\n"
     ]
    }
   ],
   "source": [
    "results_dict = dict()"
   ]
  },
  {
   "cell_type": "code",
   "execution_count": 19,
   "metadata": {
    "collapsed": false,
    "deletable": true,
    "editable": true
   },
   "outputs": [
    {
     "name": "stdout",
     "output_type": "stream",
     "text": [
      "24\n",
      "In [19] used 0.0000 MiB RAM in 0.10s, total RAM usage 52162.13 MiB\n"
     ]
    }
   ],
   "source": [
    "number_processors = get_number_processors()\n",
    "print(number_processors)"
   ]
  },
  {
   "cell_type": "markdown",
   "metadata": {
    "collapsed": true,
    "deletable": true,
    "editable": true
   },
   "source": [
    "Let's start with the XGBoost classifier."
   ]
  },
  {
   "cell_type": "code",
   "execution_count": 20,
   "metadata": {
    "collapsed": false,
    "deletable": true,
    "editable": true
   },
   "outputs": [
    {
     "name": "stdout",
     "output_type": "stream",
     "text": [
      "In [20] used 0.1016 MiB RAM in 0.10s, total RAM usage 52162.23 MiB\n"
     ]
    }
   ],
   "source": [
    "xgb_clf_pipeline = XGBRegressor(max_depth=8,\n",
    "                                n_estimators=50,\n",
    "                                min_child_weight=30,\n",
    "                                learning_rate=0.1,\n",
    "                                colsample_bytree=0.80,\n",
    "                                scale_pos_weight=2,\n",
    "                                gamma=0.1,\n",
    "                                reg_lambda=1,\n",
    "                                subsample=1,\n",
    "                                n_jobs=number_processors,\n",
    "                                random_state=77)"
   ]
  },
  {
   "cell_type": "code",
   "execution_count": 21,
   "metadata": {
    "collapsed": false,
    "deletable": true,
    "editable": true
   },
   "outputs": [
    {
     "name": "stdout",
     "output_type": "stream",
     "text": [
      "In [21] used 20403.8633 MiB RAM in 7268.58s, total RAM usage 72566.09 MiB\n"
     ]
    }
   ],
   "source": [
    "with Timer() as t:\n",
    "    xgb_clf_pipeline.fit(X_train, y_train)"
   ]
  },
  {
   "cell_type": "code",
   "execution_count": 22,
   "metadata": {
    "collapsed": false,
    "deletable": true,
    "editable": true
   },
   "outputs": [
    {
     "name": "stdout",
     "output_type": "stream",
     "text": [
      "In [22] used 0.0000 MiB RAM in 0.10s, total RAM usage 72566.09 MiB\n"
     ]
    }
   ],
   "source": [
    "results_dict['xgb']={\n",
    "    'train_time': t.interval\n",
    "}"
   ]
  },
  {
   "cell_type": "markdown",
   "metadata": {
    "deletable": true,
    "editable": true
   },
   "source": [
    "Training XGBoost model with leave-wise growth"
   ]
  },
  {
   "cell_type": "code",
   "execution_count": 23,
   "metadata": {
    "collapsed": false,
    "deletable": true,
    "editable": true
   },
   "outputs": [
    {
     "name": "stdout",
     "output_type": "stream",
     "text": [
      "In [23] used 0.0000 MiB RAM in 0.10s, total RAM usage 72566.09 MiB\n"
     ]
    }
   ],
   "source": [
    "xgb_hist_clf_pipeline = XGBRegressor(max_depth=0,\n",
    "                                    n_estimators=50,\n",
    "                                    min_child_weight=30,\n",
    "                                    learning_rate=0.1,\n",
    "                                    colsample_bytree=0.80,\n",
    "                                    scale_pos_weight=2,\n",
    "                                    gamma=0.1,\n",
    "                                    reg_lambda=1,\n",
    "                                    subsample=1,\n",
    "                                    max_leaves=255,\n",
    "                                    grow_policy='lossguide',\n",
    "                                    tree_method='hist',\n",
    "                                    n_jobs=number_processors,\n",
    "                                    random_state=77)"
   ]
  },
  {
   "cell_type": "code",
   "execution_count": 24,
   "metadata": {
    "collapsed": false,
    "deletable": true,
    "editable": true
   },
   "outputs": [
    {
     "name": "stdout",
     "output_type": "stream",
     "text": [
      "In [24] used 23254.1719 MiB RAM in 416.74s, total RAM usage 95820.27 MiB\n"
     ]
    }
   ],
   "source": [
    "with Timer() as t:\n",
    "    xgb_hist_clf_pipeline.fit(X_train, y_train)"
   ]
  },
  {
   "cell_type": "code",
   "execution_count": 25,
   "metadata": {
    "collapsed": false,
    "deletable": true,
    "editable": true
   },
   "outputs": [
    {
     "name": "stdout",
     "output_type": "stream",
     "text": [
      "In [25] used 0.0078 MiB RAM in 0.10s, total RAM usage 95820.27 MiB\n"
     ]
    }
   ],
   "source": [
    "results_dict['xgb_hist']={\n",
    "    'train_time': t.interval\n",
    "}"
   ]
  },
  {
   "cell_type": "markdown",
   "metadata": {
    "deletable": true,
    "editable": true
   },
   "source": [
    "Training LightGBM model"
   ]
  },
  {
   "cell_type": "code",
   "execution_count": 26,
   "metadata": {
    "collapsed": false,
    "deletable": true,
    "editable": true
   },
   "outputs": [
    {
     "name": "stdout",
     "output_type": "stream",
     "text": [
      "In [26] used 0.0000 MiB RAM in 0.10s, total RAM usage 95820.27 MiB\n"
     ]
    }
   ],
   "source": [
    "lgbm_clf_pipeline = LGBMRegressor(num_leaves=255,\n",
    "                                  n_estimators=50,\n",
    "                                  min_child_weight=30,\n",
    "                                  learning_rate=0.1,\n",
    "                                  colsample_bytree=0.80,\n",
    "                                  scale_pos_weight=2,\n",
    "                                  min_split_gain=0.1,\n",
    "                                  reg_lambda=1,\n",
    "                                  subsample=1,\n",
    "                                  nthread=number_processors,\n",
    "                                  seed=77)"
   ]
  },
  {
   "cell_type": "code",
   "execution_count": 27,
   "metadata": {
    "collapsed": false,
    "deletable": true,
    "editable": true
   },
   "outputs": [
    {
     "name": "stdout",
     "output_type": "stream",
     "text": [
      "In [27] used 5463.3906 MiB RAM in 340.69s, total RAM usage 101283.66 MiB\n"
     ]
    }
   ],
   "source": [
    "with Timer() as t:\n",
    "    lgbm_clf_pipeline.fit(X_train, y_train)"
   ]
  },
  {
   "cell_type": "code",
   "execution_count": 28,
   "metadata": {
    "collapsed": false,
    "deletable": true,
    "editable": true
   },
   "outputs": [
    {
     "name": "stdout",
     "output_type": "stream",
     "text": [
      "In [28] used -2282.5586 MiB RAM in 0.11s, total RAM usage 99001.11 MiB\n"
     ]
    }
   ],
   "source": [
    "results_dict['lgbm']={\n",
    "    'train_time': t.interval\n",
    "}"
   ]
  },
  {
   "cell_type": "markdown",
   "metadata": {
    "deletable": true,
    "editable": true
   },
   "source": [
    "As it can be seen in the results, given the specific versions and parameters of both XGBoost and LightGBM and in this specific dataset, LightGBM is faster. \n",
    "\n",
    "In general terms, leaf-wise algorithms are more efficient, they converge much faster than depth-wise. However, it may cause over-fitting when the data is small or there are too many leaves."
   ]
  },
  {
   "cell_type": "markdown",
   "metadata": {
    "deletable": true,
    "editable": true
   },
   "source": [
    "### Evaluation\n",
    "Now let's evaluate the model in the test set."
   ]
  },
  {
   "cell_type": "code",
   "execution_count": 29,
   "metadata": {
    "collapsed": false,
    "deletable": true,
    "editable": true
   },
   "outputs": [
    {
     "name": "stdout",
     "output_type": "stream",
     "text": [
      "In [29] used 180.3672 MiB RAM in 10.28s, total RAM usage 99181.47 MiB\n"
     ]
    }
   ],
   "source": [
    "with Timer() as t:\n",
    "    y_prob_xgb = np.clip(xgb_clf_pipeline.predict(X_test), 0.0001, 0.9999)"
   ]
  },
  {
   "cell_type": "code",
   "execution_count": 30,
   "metadata": {
    "collapsed": false,
    "deletable": true,
    "editable": true
   },
   "outputs": [
    {
     "name": "stdout",
     "output_type": "stream",
     "text": [
      "In [30] used 0.0039 MiB RAM in 0.10s, total RAM usage 99181.48 MiB\n"
     ]
    }
   ],
   "source": [
    "results_dict['xgb']['test_time'] = t.interval"
   ]
  },
  {
   "cell_type": "code",
   "execution_count": 31,
   "metadata": {
    "collapsed": false,
    "deletable": true,
    "editable": true
   },
   "outputs": [
    {
     "name": "stdout",
     "output_type": "stream",
     "text": [
      "In [31] used 87.7930 MiB RAM in 11.72s, total RAM usage 99269.27 MiB\n"
     ]
    }
   ],
   "source": [
    "with Timer() as t:\n",
    "    y_prob_xgb_hist = np.clip(xgb_hist_clf_pipeline.predict(X_test), 0.0001, 0.9999)"
   ]
  },
  {
   "cell_type": "code",
   "execution_count": 32,
   "metadata": {
    "collapsed": false,
    "deletable": true,
    "editable": true
   },
   "outputs": [
    {
     "name": "stdout",
     "output_type": "stream",
     "text": [
      "In [32] used 0.0078 MiB RAM in 0.10s, total RAM usage 99269.28 MiB\n"
     ]
    }
   ],
   "source": [
    "results_dict['xgb_hist']['test_time'] = t.interval"
   ]
  },
  {
   "cell_type": "code",
   "execution_count": 33,
   "metadata": {
    "collapsed": false,
    "deletable": true,
    "editable": true
   },
   "outputs": [
    {
     "name": "stdout",
     "output_type": "stream",
     "text": [
      "In [33] used 746.2188 MiB RAM in 12.16s, total RAM usage 100015.50 MiB\n"
     ]
    }
   ],
   "source": [
    "with Timer() as t:\n",
    "    y_prob_lgbm = np.clip(lgbm_clf_pipeline.predict(X_test), 0.0001, 0.9999)"
   ]
  },
  {
   "cell_type": "code",
   "execution_count": 34,
   "metadata": {
    "collapsed": false,
    "deletable": true,
    "editable": true
   },
   "outputs": [
    {
     "name": "stdout",
     "output_type": "stream",
     "text": [
      "In [34] used 0.0000 MiB RAM in 0.10s, total RAM usage 100015.50 MiB\n"
     ]
    }
   ],
   "source": [
    "results_dict['lgbm']['test_time'] = t.interval"
   ]
  },
  {
   "cell_type": "markdown",
   "metadata": {
    "deletable": true,
    "editable": true
   },
   "source": [
    "### Metrics\n",
    "We are going to obtain some metrics to evaluate the performance of each of the models."
   ]
  },
  {
   "cell_type": "code",
   "execution_count": 35,
   "metadata": {
    "collapsed": false,
    "deletable": true,
    "editable": true
   },
   "outputs": [
    {
     "name": "stdout",
     "output_type": "stream",
     "text": [
      "In [35] used 526.6250 MiB RAM in 0.52s, total RAM usage 100542.12 MiB\n"
     ]
    }
   ],
   "source": [
    "y_pred_xgb = binarize_prediction(y_prob_xgb)\n",
    "y_pred_xgb_hist = binarize_prediction(y_prob_xgb_hist)\n",
    "y_pred_lgbm = binarize_prediction(y_prob_lgbm)"
   ]
  },
  {
   "cell_type": "code",
   "execution_count": 36,
   "metadata": {
    "collapsed": false,
    "deletable": true,
    "editable": true
   },
   "outputs": [
    {
     "name": "stdout",
     "output_type": "stream",
     "text": [
      "In [36] used 517.6094 MiB RAM in 26.92s, total RAM usage 101059.73 MiB\n"
     ]
    }
   ],
   "source": [
    "report_xgb = classification_metrics_binary(y_test, y_pred_xgb)\n",
    "report2_xgb = classification_metrics_binary_prob(y_test, y_prob_xgb)\n",
    "report_xgb.update(report2_xgb)"
   ]
  },
  {
   "cell_type": "code",
   "execution_count": 37,
   "metadata": {
    "collapsed": false,
    "deletable": true,
    "editable": true
   },
   "outputs": [
    {
     "name": "stdout",
     "output_type": "stream",
     "text": [
      "In [37] used 0.0039 MiB RAM in 0.10s, total RAM usage 101059.73 MiB\n"
     ]
    }
   ],
   "source": [
    "results_dict['xgb']['performance'] = report_xgb"
   ]
  },
  {
   "cell_type": "code",
   "execution_count": 38,
   "metadata": {
    "collapsed": false,
    "deletable": true,
    "editable": true
   },
   "outputs": [
    {
     "name": "stdout",
     "output_type": "stream",
     "text": [
      "In [38] used 14.1133 MiB RAM in 23.85s, total RAM usage 101073.85 MiB\n"
     ]
    }
   ],
   "source": [
    "report_xgb_hist = classification_metrics_binary(y_test, y_pred_xgb_hist)\n",
    "report2_xgb_hist = classification_metrics_binary_prob(y_test, y_prob_xgb_hist)\n",
    "report_xgb_hist.update(report2_xgb_hist)"
   ]
  },
  {
   "cell_type": "code",
   "execution_count": 39,
   "metadata": {
    "collapsed": false,
    "deletable": true,
    "editable": true
   },
   "outputs": [
    {
     "name": "stdout",
     "output_type": "stream",
     "text": [
      "In [39] used 0.0039 MiB RAM in 0.10s, total RAM usage 101073.85 MiB\n"
     ]
    }
   ],
   "source": [
    "results_dict['xgb_hist']['performance'] = report_xgb_hist"
   ]
  },
  {
   "cell_type": "code",
   "execution_count": 40,
   "metadata": {
    "collapsed": false,
    "deletable": true,
    "editable": true
   },
   "outputs": [
    {
     "name": "stdout",
     "output_type": "stream",
     "text": [
      "In [40] used 0.0000 MiB RAM in 25.18s, total RAM usage 101073.85 MiB\n"
     ]
    }
   ],
   "source": [
    "report_lgbm = classification_metrics_binary(y_test, y_pred_lgbm)\n",
    "report2_lgbm = classification_metrics_binary_prob(y_test, y_prob_lgbm)\n",
    "report_lgbm.update(report2_lgbm)"
   ]
  },
  {
   "cell_type": "code",
   "execution_count": 41,
   "metadata": {
    "collapsed": false,
    "deletable": true,
    "editable": true
   },
   "outputs": [
    {
     "name": "stdout",
     "output_type": "stream",
     "text": [
      "In [41] used 0.0000 MiB RAM in 0.10s, total RAM usage 101073.85 MiB\n"
     ]
    }
   ],
   "source": [
    "results_dict['lgbm']['performance'] = report_lgbm"
   ]
  },
  {
   "cell_type": "code",
   "execution_count": 42,
   "metadata": {
    "collapsed": false,
    "deletable": true,
    "editable": true
   },
   "outputs": [
    {
     "name": "stdout",
     "output_type": "stream",
     "text": [
      "{\n",
      "    \"lgbm\": {\n",
      "        \"performance\": {\n",
      "            \"AUC\": 0.8089440012596557,\n",
      "            \"Accuracy\": 0.7357180064625561,\n",
      "            \"F1\": 0.6941205450307804,\n",
      "            \"Precision\": 0.7701217434739469,\n",
      "            \"Recall\": 0.6317726394571114\n",
      "        },\n",
      "        \"test_time\": 11.95346931399763,\n",
      "        \"train_time\": 337.04530743800206\n",
      "    },\n",
      "    \"xgb\": {\n",
      "        \"performance\": {\n",
      "            \"AUC\": 0.7850011114714786,\n",
      "            \"Accuracy\": 0.6293210805132433,\n",
      "            \"F1\": 0.6976245180307368,\n",
      "            \"Precision\": 0.5691896488110514,\n",
      "            \"Recall\": 0.9009106033700574\n",
      "        },\n",
      "        \"test_time\": 10.075740259999293,\n",
      "        \"train_time\": 7197.378043801\n",
      "    },\n",
      "    \"xgb_hist\": {\n",
      "        \"performance\": {\n",
      "            \"AUC\": 0.807842644202481,\n",
      "            \"Accuracy\": 0.6732816964983277,\n",
      "            \"F1\": 0.716900958176553,\n",
      "            \"Precision\": 0.6088530428953446,\n",
      "            \"Recall\": 0.8715712075869363\n",
      "        },\n",
      "        \"test_time\": 11.461563738001132,\n",
      "        \"train_time\": 412.2725300980019\n",
      "    }\n",
      "}\n",
      "In [42] used 0.0000 MiB RAM in 0.10s, total RAM usage 101073.85 MiB\n"
     ]
    }
   ],
   "source": [
    "# Results\n",
    "print(json.dumps(results_dict, indent=4, sort_keys=True))"
   ]
  },
  {
   "cell_type": "markdown",
   "metadata": {
    "deletable": true,
    "editable": true
   },
   "source": [
    "The experiment shows a fairly similar performance in both libraries, being LightGBM slightly better."
   ]
  },
  {
   "cell_type": "code",
   "execution_count": 43,
   "metadata": {
    "collapsed": false,
    "deletable": true,
    "editable": true
   },
   "outputs": [
    {
     "name": "stdout",
     "output_type": "stream",
     "text": [
      "In [43] used -48613.8477 MiB RAM in 0.78s, total RAM usage 52460.00 MiB\n"
     ]
    }
   ],
   "source": [
    "del xgb_clf_pipeline, xgb_hist_clf_pipeline, lgbm_clf_pipeline, X_train, X_test, X_val"
   ]
  },
  {
   "cell_type": "markdown",
   "metadata": {
    "collapsed": true,
    "deletable": true,
    "editable": true
   },
   "source": [
    "# 2) Concept drift\n",
    "In this section we are trying to find concept drift in the dataset to check if retraining is valuable.\n",
    "\n",
    "### Data management\n",
    "We are going to pack the data yearly to try to find concept drift"
   ]
  },
  {
   "cell_type": "code",
   "execution_count": 44,
   "metadata": {
    "collapsed": false,
    "deletable": true,
    "editable": true
   },
   "outputs": [
    {
     "name": "stdout",
     "output_type": "stream",
     "text": [
      "In [44] used 0.0000 MiB RAM in 0.10s, total RAM usage 52460.00 MiB\n"
     ]
    }
   ],
   "source": [
    "initial_year = 1987\n",
    "num_ini = 5"
   ]
  },
  {
   "cell_type": "code",
   "execution_count": 45,
   "metadata": {
    "collapsed": false,
    "deletable": true,
    "editable": true
   },
   "outputs": [
    {
     "name": "stdout",
     "output_type": "stream",
     "text": [
      "In [45] used 0.0000 MiB RAM in 0.10s, total RAM usage 52460.00 MiB\n"
     ]
    }
   ],
   "source": [
    "def generate_subset_by_year(df, year_ini, year_end):\n",
    "    return df[df['Year'].isin(range(year_ini, year_end))]"
   ]
  },
  {
   "cell_type": "code",
   "execution_count": 46,
   "metadata": {
    "collapsed": false,
    "deletable": true,
    "editable": true
   },
   "outputs": [
    {
     "name": "stdout",
     "output_type": "stream",
     "text": [
      "(16810190, 15)\n",
      "CPU times: user 35.7 s, sys: 2.61 s, total: 38.3 s\n",
      "Wall time: 38.5 s\n",
      "In [46] used 448.8867 MiB RAM in 38.64s, total RAM usage 52908.89 MiB\n"
     ]
    }
   ],
   "source": [
    "%%time\n",
    "subset_base = generate_subset_by_year(df_plane_numeric, initial_year, initial_year + num_ini)\n",
    "print(subset_base.shape)"
   ]
  },
  {
   "cell_type": "code",
   "execution_count": 47,
   "metadata": {
    "collapsed": false,
    "deletable": true,
    "editable": true
   },
   "outputs": [
    {
     "name": "stdout",
     "output_type": "stream",
     "text": [
      "(98258827, 15)\n",
      "CPU times: user 52.6 s, sys: 4.64 s, total: 57.2 s\n",
      "Wall time: 57.9 s\n",
      "In [47] used 10267.1094 MiB RAM in 57.96s, total RAM usage 63176.00 MiB\n"
     ]
    }
   ],
   "source": [
    "%%time\n",
    "rest_df = df_plane_numeric.loc[df_plane_numeric.index.difference(subset_base.index)]\n",
    "print(rest_df.shape)"
   ]
  },
  {
   "cell_type": "markdown",
   "metadata": {
    "deletable": true,
    "editable": true
   },
   "source": [
    "### Traininig\n",
    "Let's see what happens when we train on a subset of data and then evaluate in the data of the following years."
   ]
  },
  {
   "cell_type": "code",
   "execution_count": 48,
   "metadata": {
    "collapsed": false,
    "deletable": true,
    "editable": true
   },
   "outputs": [
    {
     "name": "stdout",
     "output_type": "stream",
     "text": [
      "In [48] used 416.8203 MiB RAM in 0.31s, total RAM usage 63592.82 MiB\n"
     ]
    }
   ],
   "source": [
    "X_train, y_train = generate_feables(subset_base)\n",
    "del(subset_base)"
   ]
  },
  {
   "cell_type": "code",
   "execution_count": 49,
   "metadata": {
    "collapsed": false,
    "deletable": true,
    "editable": true
   },
   "outputs": [
    {
     "name": "stdout",
     "output_type": "stream",
     "text": [
      "In [49] used 0.0000 MiB RAM in 0.10s, total RAM usage 63592.82 MiB\n"
     ]
    }
   ],
   "source": [
    "clf = LGBMClassifier(num_leaves=255,\n",
    "                    n_estimators=100,\n",
    "                    min_child_weight=30,\n",
    "                    learning_rate=0.1,\n",
    "                    subsample=0.80,\n",
    "                    colsample_bytree=0.80,\n",
    "                    seed=42)"
   ]
  },
  {
   "cell_type": "code",
   "execution_count": 50,
   "metadata": {
    "collapsed": false,
    "deletable": true,
    "editable": true
   },
   "outputs": [
    {
     "name": "stdout",
     "output_type": "stream",
     "text": [
      "CPU times: user 27min 54s, sys: 54.9 s, total: 28min 48s\n",
      "Wall time: 1min 17s\n"
     ]
    },
    {
     "data": {
      "text/plain": [
       "LGBMClassifier(boosting_type='gbdt', colsample_bytree=0.8, learning_rate=0.1,\n",
       "        max_bin=255, max_depth=-1, min_child_samples=10,\n",
       "        min_child_weight=30, min_split_gain=0, n_estimators=100,\n",
       "        nthread=-1, num_leaves=255, objective='binary', reg_alpha=0,\n",
       "        reg_lambda=0, seed=42, silent=True, subsample=0.8,\n",
       "        subsample_for_bin=50000, subsample_freq=1)"
      ]
     },
     "execution_count": 50,
     "metadata": {},
     "output_type": "execute_result"
    },
    {
     "name": "stdout",
     "output_type": "stream",
     "text": [
      "In [50] used -23983.4883 MiB RAM in 77.80s, total RAM usage 39609.33 MiB\n"
     ]
    }
   ],
   "source": [
    "%%time\n",
    "clf.fit(X_train, y_train)"
   ]
  },
  {
   "cell_type": "markdown",
   "metadata": {
    "deletable": true,
    "editable": true
   },
   "source": [
    "### Prediction"
   ]
  },
  {
   "cell_type": "code",
   "execution_count": 51,
   "metadata": {
    "collapsed": false,
    "deletable": true,
    "editable": true
   },
   "outputs": [
    {
     "name": "stdout",
     "output_type": "stream",
     "text": [
      "In [51] used 0.0000 MiB RAM in 0.11s, total RAM usage 39609.33 MiB\n"
     ]
    }
   ],
   "source": [
    "@curry\n",
    "def predict_accuracy(clf, test_df):\n",
    "    X_test, y_test = generate_feables(test_df)\n",
    "    y_pred = clf.predict(X_test)\n",
    "    return accuracy_score(y_test, y_pred)"
   ]
  },
  {
   "cell_type": "code",
   "execution_count": 52,
   "metadata": {
    "collapsed": false,
    "deletable": true,
    "editable": true
   },
   "outputs": [
    {
     "name": "stdout",
     "output_type": "stream",
     "text": [
      "Year\n",
      "1992    0.757375\n",
      "1993    0.756093\n",
      "1994    0.744296\n",
      "1995    0.731503\n",
      "1996    0.722490\n",
      "1997    0.720751\n",
      "1998    0.706178\n",
      "1999    0.700762\n",
      "2000    0.689513\n",
      "2001    0.674223\n",
      "2002    0.680176\n",
      "2003    0.686131\n",
      "2004    0.680697\n",
      "2005    0.673467\n",
      "2006    0.663597\n",
      "2007    0.651520\n",
      "2008    0.636613\n",
      "dtype: float64\n",
      "CPU times: user 35min 20s, sys: 17.4 s, total: 35min 37s\n",
      "Wall time: 1min 59s\n",
      "In [52] used 2624.0000 MiB RAM in 119.96s, total RAM usage 42233.33 MiB\n"
     ]
    }
   ],
   "source": [
    "%%time\n",
    "accuracy_series = rest_df.groupby('Year').apply(predict_accuracy(clf))\n",
    "print(accuracy_series)"
   ]
  },
  {
   "cell_type": "markdown",
   "metadata": {
    "deletable": true,
    "editable": true
   },
   "source": [
    "From the results we can observe that the accuracy of the model gets worse as the years pass on."
   ]
  },
  {
   "cell_type": "markdown",
   "metadata": {
    "deletable": true,
    "editable": true
   },
   "source": [
    "### Retraining\n",
    "Now let's see what happens when we retrain and evaluate in the data of the following years."
   ]
  },
  {
   "cell_type": "code",
   "execution_count": 53,
   "metadata": {
    "collapsed": false,
    "deletable": true,
    "editable": true
   },
   "outputs": [
    {
     "name": "stdout",
     "output_type": "stream",
     "text": [
      "In [53] used 0.0000 MiB RAM in 0.10s, total RAM usage 42233.33 MiB\n"
     ]
    }
   ],
   "source": [
    "new_init = 15"
   ]
  },
  {
   "cell_type": "code",
   "execution_count": 54,
   "metadata": {
    "collapsed": false,
    "deletable": true,
    "editable": true
   },
   "outputs": [
    {
     "name": "stdout",
     "output_type": "stream",
     "text": [
      "(69425349, 15)\n",
      "CPU times: user 1min 57s, sys: 3.61 s, total: 2min 1s\n",
      "Wall time: 2min 2s\n",
      "In [54] used 1853.8594 MiB RAM in 122.20s, total RAM usage 44087.19 MiB\n"
     ]
    }
   ],
   "source": [
    "%%time\n",
    "subset_retrain = generate_subset_by_year(df_plane_numeric, initial_year, initial_year + new_init) \n",
    "print(subset_retrain.shape)"
   ]
  },
  {
   "cell_type": "code",
   "execution_count": 55,
   "metadata": {
    "collapsed": false,
    "deletable": true,
    "editable": true
   },
   "outputs": [
    {
     "name": "stdout",
     "output_type": "stream",
     "text": [
      "In [55] used 1304.6250 MiB RAM in 0.98s, total RAM usage 45391.82 MiB\n"
     ]
    }
   ],
   "source": [
    "X_train, y_train = generate_feables(subset_retrain)"
   ]
  },
  {
   "cell_type": "code",
   "execution_count": 56,
   "metadata": {
    "collapsed": false,
    "deletable": true,
    "editable": true
   },
   "outputs": [
    {
     "name": "stdout",
     "output_type": "stream",
     "text": [
      "In [56] used 0.0000 MiB RAM in 0.10s, total RAM usage 45391.82 MiB\n"
     ]
    }
   ],
   "source": [
    "clf_retrain = LGBMClassifier(num_leaves=255,\n",
    "                            n_estimators=100,\n",
    "                            min_child_weight=30,\n",
    "                            learning_rate=0.1,\n",
    "                            subsample=0.80,\n",
    "                            colsample_bytree=0.80,\n",
    "                            seed=42)"
   ]
  },
  {
   "cell_type": "code",
   "execution_count": 57,
   "metadata": {
    "collapsed": false,
    "deletable": true,
    "editable": true
   },
   "outputs": [
    {
     "name": "stdout",
     "output_type": "stream",
     "text": [
      "CPU times: user 1h 42min 36s, sys: 2min 58s, total: 1h 45min 34s\n",
      "Wall time: 4min 45s\n"
     ]
    },
    {
     "data": {
      "text/plain": [
       "LGBMClassifier(boosting_type='gbdt', colsample_bytree=0.8, learning_rate=0.1,\n",
       "        max_bin=255, max_depth=-1, min_child_samples=10,\n",
       "        min_child_weight=30, min_split_gain=0, n_estimators=100,\n",
       "        nthread=-1, num_leaves=255, objective='binary', reg_alpha=0,\n",
       "        reg_lambda=0, seed=42, silent=True, subsample=0.8,\n",
       "        subsample_for_bin=50000, subsample_freq=1)"
      ]
     },
     "execution_count": 57,
     "metadata": {},
     "output_type": "execute_result"
    },
    {
     "name": "stdout",
     "output_type": "stream",
     "text": [
      "In [57] used 4105.0039 MiB RAM in 286.01s, total RAM usage 49496.82 MiB\n"
     ]
    }
   ],
   "source": [
    "%%time\n",
    "clf_retrain.fit(X_train, y_train)"
   ]
  },
  {
   "cell_type": "markdown",
   "metadata": {
    "deletable": true,
    "editable": true
   },
   "source": [
    "### Prediction"
   ]
  },
  {
   "cell_type": "code",
   "execution_count": 58,
   "metadata": {
    "collapsed": false,
    "deletable": true,
    "editable": true
   },
   "outputs": [
    {
     "name": "stdout",
     "output_type": "stream",
     "text": [
      "(45643668, 15)\n",
      "CPU times: user 32.6 s, sys: 2.86 s, total: 35.4 s\n",
      "Wall time: 34 s\n",
      "In [58] used -1695.8203 MiB RAM in 34.12s, total RAM usage 47801.00 MiB\n"
     ]
    }
   ],
   "source": [
    "%%time\n",
    "rest_df = df_plane_numeric.loc[df_plane_numeric.index.difference(subset_retrain.index)]\n",
    "print(rest_df.shape)"
   ]
  },
  {
   "cell_type": "code",
   "execution_count": 59,
   "metadata": {
    "collapsed": false,
    "deletable": true,
    "editable": true
   },
   "outputs": [
    {
     "name": "stdout",
     "output_type": "stream",
     "text": [
      "Year\n",
      "2002    0.749985\n",
      "2003    0.748284\n",
      "2004    0.724928\n",
      "2005    0.719791\n",
      "2006    0.707446\n",
      "2007    0.695424\n",
      "2008    0.697949\n",
      "dtype: float64\n",
      "CPU times: user 14min 19s, sys: 33.7 s, total: 14min 53s\n",
      "Wall time: 51.8 s\n",
      "In [59] used -318.1523 MiB RAM in 51.98s, total RAM usage 47482.85 MiB\n"
     ]
    }
   ],
   "source": [
    "%%time\n",
    "accuracy_retrain = rest_df.groupby('Year').apply(predict_accuracy(clf_retrain))\n",
    "print(accuracy_retrain)"
   ]
  },
  {
   "cell_type": "markdown",
   "metadata": {
    "deletable": true,
    "editable": true
   },
   "source": [
    "### Plot"
   ]
  },
  {
   "cell_type": "code",
   "execution_count": 60,
   "metadata": {
    "collapsed": false,
    "deletable": true,
    "editable": true
   },
   "outputs": [
    {
     "name": "stdout",
     "output_type": "stream",
     "text": [
      "In [60] used 0.0000 MiB RAM in 0.11s, total RAM usage 47482.85 MiB\n"
     ]
    }
   ],
   "source": [
    "def plot_metrics(metric1, metric2, legend1=None, legend2=None, x_label=None, y_label=None):\n",
    "    lists = sorted(metric1.items()) \n",
    "    x, y = zip(*lists) \n",
    "    fig, ax = plt.subplots()\n",
    "    ax.plot(x, y, label=legend1, color='#5975a4')\n",
    "    lists2 = sorted(metric2.items()) \n",
    "    x2, y2 = zip(*lists2) \n",
    "    ax.plot(x2, y2, label=legend2, color='#5f9e6f')\n",
    "    legend = ax.legend(loc=0)\n",
    "    ax.set_xlabel(x_label)\n",
    "    ax.set_ylabel(y_label)\n",
    "    plt.show()\n",
    "    return ax"
   ]
  },
  {
   "cell_type": "code",
   "execution_count": 61,
   "metadata": {
    "collapsed": false,
    "deletable": true,
    "editable": true
   },
   "outputs": [
    {
     "name": "stdout",
     "output_type": "stream",
     "text": [
      "In [61] used 0.0000 MiB RAM in 0.10s, total RAM usage 47482.85 MiB\n"
     ]
    }
   ],
   "source": [
    "from bokeh.models.sources import ColumnDataSource\n",
    "from bokeh.models import HoverTool"
   ]
  },
  {
   "cell_type": "code",
   "execution_count": 62,
   "metadata": {
    "collapsed": false,
    "deletable": true,
    "editable": true
   },
   "outputs": [
    {
     "name": "stdout",
     "output_type": "stream",
     "text": [
      "In [62] used 0.1094 MiB RAM in 0.26s, total RAM usage 47482.96 MiB\n"
     ]
    }
   ],
   "source": [
    "data_cds = ColumnDataSource(pd.DataFrame({\n",
    "    'train_acc': accuracy_series,\n",
    "    'retrain_acc': accuracy_retrain\n",
    "}))"
   ]
  },
  {
   "cell_type": "code",
   "execution_count": 63,
   "metadata": {
    "collapsed": false,
    "deletable": true,
    "editable": true
   },
   "outputs": [
    {
     "data": {
      "text/html": [
       "\n",
       "\n",
       "    <div class=\"bk-root\">\n",
       "        <div class=\"bk-plotdiv\" id=\"6412bb74-83e4-49ad-9248-f41a391683a9\"></div>\n",
       "    </div>\n",
       "<script type=\"text/javascript\">\n",
       "  \n",
       "  (function(global) {\n",
       "    function now() {\n",
       "      return new Date();\n",
       "    }\n",
       "  \n",
       "    var force = false;\n",
       "  \n",
       "    if (typeof (window._bokeh_onload_callbacks) === \"undefined\" || force === true) {\n",
       "      window._bokeh_onload_callbacks = [];\n",
       "      window._bokeh_is_loading = undefined;\n",
       "    }\n",
       "  \n",
       "  \n",
       "    \n",
       "    if (typeof (window._bokeh_timeout) === \"undefined\" || force === true) {\n",
       "      window._bokeh_timeout = Date.now() + 0;\n",
       "      window._bokeh_failed_load = false;\n",
       "    }\n",
       "  \n",
       "    var NB_LOAD_WARNING = {'data': {'text/html':\n",
       "       \"<div style='background-color: #fdd'>\\n\"+\n",
       "       \"<p>\\n\"+\n",
       "       \"BokehJS does not appear to have successfully loaded. If loading BokehJS from CDN, this \\n\"+\n",
       "       \"may be due to a slow or bad network connection. Possible fixes:\\n\"+\n",
       "       \"</p>\\n\"+\n",
       "       \"<ul>\\n\"+\n",
       "       \"<li>re-rerun `output_notebook()` to attempt to load from CDN again, or</li>\\n\"+\n",
       "       \"<li>use INLINE resources instead, as so:</li>\\n\"+\n",
       "       \"</ul>\\n\"+\n",
       "       \"<code>\\n\"+\n",
       "       \"from bokeh.resources import INLINE\\n\"+\n",
       "       \"output_notebook(resources=INLINE)\\n\"+\n",
       "       \"</code>\\n\"+\n",
       "       \"</div>\"}};\n",
       "  \n",
       "    function display_loaded() {\n",
       "      if (window.Bokeh !== undefined) {\n",
       "        var el = document.getElementById(\"6412bb74-83e4-49ad-9248-f41a391683a9\");\n",
       "        el.textContent = \"BokehJS \" + Bokeh.version + \" successfully loaded.\";\n",
       "      } else if (Date.now() < window._bokeh_timeout) {\n",
       "        setTimeout(display_loaded, 100)\n",
       "      }\n",
       "    }\n",
       "  \n",
       "    function run_callbacks() {\n",
       "      try {\n",
       "        window._bokeh_onload_callbacks.forEach(function(callback) { callback() });\n",
       "      }\n",
       "      finally {\n",
       "        delete window._bokeh_onload_callbacks\n",
       "      }\n",
       "      console.info(\"Bokeh: all callbacks have finished\");\n",
       "    }\n",
       "  \n",
       "    function load_libs(js_urls, callback) {\n",
       "      window._bokeh_onload_callbacks.push(callback);\n",
       "      if (window._bokeh_is_loading > 0) {\n",
       "        console.log(\"Bokeh: BokehJS is being loaded, scheduling callback at\", now());\n",
       "        return null;\n",
       "      }\n",
       "      if (js_urls == null || js_urls.length === 0) {\n",
       "        run_callbacks();\n",
       "        return null;\n",
       "      }\n",
       "      console.log(\"Bokeh: BokehJS not loaded, scheduling load and callback at\", now());\n",
       "      window._bokeh_is_loading = js_urls.length;\n",
       "      for (var i = 0; i < js_urls.length; i++) {\n",
       "        var url = js_urls[i];\n",
       "        var s = document.createElement('script');\n",
       "        s.src = url;\n",
       "        s.async = false;\n",
       "        s.onreadystatechange = s.onload = function() {\n",
       "          window._bokeh_is_loading--;\n",
       "          if (window._bokeh_is_loading === 0) {\n",
       "            console.log(\"Bokeh: all BokehJS libraries loaded\");\n",
       "            run_callbacks()\n",
       "          }\n",
       "        };\n",
       "        s.onerror = function() {\n",
       "          console.warn(\"failed to load library \" + url);\n",
       "        };\n",
       "        console.log(\"Bokeh: injecting script tag for BokehJS library: \", url);\n",
       "        document.getElementsByTagName(\"head\")[0].appendChild(s);\n",
       "      }\n",
       "    };var element = document.getElementById(\"6412bb74-83e4-49ad-9248-f41a391683a9\");\n",
       "    if (element == null) {\n",
       "      console.log(\"Bokeh: ERROR: autoload.js configured with elementid '6412bb74-83e4-49ad-9248-f41a391683a9' but no matching script tag was found. \")\n",
       "      return false;\n",
       "    }\n",
       "  \n",
       "    var js_urls = [];\n",
       "  \n",
       "    var inline_js = [\n",
       "      function(Bokeh) {\n",
       "        (function() {\n",
       "          var fn = function() {\n",
       "            var docs_json = {\"84aa62cc-140d-4956-aec1-7b8a521efd10\":{\"roots\":{\"references\":[{\"attributes\":{\"bottom_units\":\"screen\",\"fill_alpha\":{\"value\":0.5},\"fill_color\":{\"value\":\"lightgrey\"},\"left_units\":\"screen\",\"level\":\"overlay\",\"line_alpha\":{\"value\":1.0},\"line_color\":{\"value\":\"black\"},\"line_dash\":[4,4],\"line_width\":{\"value\":2},\"plot\":null,\"render_mode\":\"css\",\"right_units\":\"screen\",\"top_units\":\"screen\"},\"id\":\"dd306c39-983c-4791-9bbf-24c9591dc649\",\"type\":\"BoxAnnotation\"},{\"attributes\":{},\"id\":\"cad8bb68-90ed-4982-a6dc-457801335afc\",\"type\":\"BasicTicker\"},{\"attributes\":{\"label\":{\"value\":\" Retrain AUC\"},\"renderers\":[{\"id\":\"e6f1824e-c8da-4c61-ab88-a1e6b1f23a76\",\"type\":\"GlyphRenderer\"}]},\"id\":\"49de88b1-a5a0-4bff-b789-411226a6a8ab\",\"type\":\"LegendItem\"},{\"attributes\":{\"plot\":{\"id\":\"c16d4e1d-f49a-47f7-b998-18efc665de90\",\"subtype\":\"Figure\",\"type\":\"Plot\"}},\"id\":\"351d1bf6-83e8-4926-8fa3-35d2e0ea5787\",\"type\":\"PanTool\"},{\"attributes\":{\"callback\":null,\"mode\":\"vline\",\"plot\":{\"id\":\"c16d4e1d-f49a-47f7-b998-18efc665de90\",\"subtype\":\"Figure\",\"type\":\"Plot\"},\"renderers\":[{\"id\":\"5829b2b5-81f4-49dc-ab0b-abcb331884fb\",\"type\":\"GlyphRenderer\"}],\"tooltips\":[[\"Train\",\"@{train_acc}{0.4f}\"],[\"Retrain\",\"@{retrain_acc}{0.4f}\"]]},\"id\":\"d288022f-3e01-4bd0-a43d-7c8eaed65d4a\",\"type\":\"HoverTool\"},{\"attributes\":{},\"id\":\"b3ad9fb5-52eb-48b5-a486-cad52d04a70d\",\"type\":\"ToolEvents\"},{\"attributes\":{},\"id\":\"5af56f79-01d8-4c57-b373-41cd8b64594b\",\"type\":\"BasicTickFormatter\"},{\"attributes\":{\"plot\":{\"id\":\"c16d4e1d-f49a-47f7-b998-18efc665de90\",\"subtype\":\"Figure\",\"type\":\"Plot\"},\"ticker\":{\"id\":\"b74f9848-eac2-44d1-9eeb-f992b9557bfd\",\"type\":\"BasicTicker\"}},\"id\":\"18bd3b70-e0a6-455a-8e54-848d32fe033f\",\"type\":\"Grid\"},{\"attributes\":{\"plot\":{\"id\":\"c16d4e1d-f49a-47f7-b998-18efc665de90\",\"subtype\":\"Figure\",\"type\":\"Plot\"}},\"id\":\"1c404860-852b-4166-a3d7-b86d1acb0b3a\",\"type\":\"ResetTool\"},{\"attributes\":{\"items\":[{\"id\":\"14014d2a-1b00-4a61-9023-b02cc0e69753\",\"type\":\"LegendItem\"},{\"id\":\"49de88b1-a5a0-4bff-b789-411226a6a8ab\",\"type\":\"LegendItem\"}],\"plot\":{\"id\":\"c16d4e1d-f49a-47f7-b998-18efc665de90\",\"subtype\":\"Figure\",\"type\":\"Plot\"}},\"id\":\"8ea6bbfd-8ded-422c-a5a9-bdb7dec545ff\",\"type\":\"Legend\"},{\"attributes\":{\"plot\":{\"id\":\"c16d4e1d-f49a-47f7-b998-18efc665de90\",\"subtype\":\"Figure\",\"type\":\"Plot\"}},\"id\":\"a1f81ff1-d9d4-4775-8046-16a3fc670569\",\"type\":\"WheelZoomTool\"},{\"attributes\":{\"line_alpha\":{\"value\":0.1},\"line_cap\":\"round\",\"line_color\":{\"value\":\"#1f77b4\"},\"line_width\":{\"value\":6},\"x\":{\"field\":\"Year\"},\"y\":{\"field\":\"retrain_acc\"}},\"id\":\"b3f0e6e3-8e83-4cc1-8090-872a3a730c9a\",\"type\":\"Line\"},{\"attributes\":{},\"id\":\"bd1701cd-21b2-49a4-a544-51205a504a0c\",\"type\":\"LinearScale\"},{\"attributes\":{},\"id\":\"52575e89-9686-41a8-831a-a777c0127208\",\"type\":\"BasicTickFormatter\"},{\"attributes\":{\"line_alpha\":{\"value\":0.1},\"line_cap\":\"round\",\"line_color\":{\"value\":\"#1f77b4\"},\"line_width\":{\"value\":6},\"x\":{\"field\":\"Year\"},\"y\":{\"field\":\"train_acc\"}},\"id\":\"f0f5abbf-c940-4688-af9a-2dc494e9e320\",\"type\":\"Line\"},{\"attributes\":{},\"id\":\"b74f9848-eac2-44d1-9eeb-f992b9557bfd\",\"type\":\"BasicTicker\"},{\"attributes\":{\"axis_label\":\"Accuracy\",\"formatter\":{\"id\":\"52575e89-9686-41a8-831a-a777c0127208\",\"type\":\"BasicTickFormatter\"},\"plot\":{\"id\":\"c16d4e1d-f49a-47f7-b998-18efc665de90\",\"subtype\":\"Figure\",\"type\":\"Plot\"},\"ticker\":{\"id\":\"cad8bb68-90ed-4982-a6dc-457801335afc\",\"type\":\"BasicTicker\"}},\"id\":\"247bd9ef-e7cc-413e-ae6f-2c1632e7046c\",\"type\":\"LinearAxis\"},{\"attributes\":{\"active_drag\":\"auto\",\"active_inspect\":\"auto\",\"active_scroll\":\"auto\",\"active_tap\":\"auto\",\"tools\":[{\"id\":\"351d1bf6-83e8-4926-8fa3-35d2e0ea5787\",\"type\":\"PanTool\"},{\"id\":\"a1f81ff1-d9d4-4775-8046-16a3fc670569\",\"type\":\"WheelZoomTool\"},{\"id\":\"be3a90fb-b2cd-43af-982c-cfa78da62f46\",\"type\":\"BoxZoomTool\"},{\"id\":\"1c404860-852b-4166-a3d7-b86d1acb0b3a\",\"type\":\"ResetTool\"},{\"id\":\"d288022f-3e01-4bd0-a43d-7c8eaed65d4a\",\"type\":\"HoverTool\"}]},\"id\":\"70eae5ec-3744-452d-ad1c-b037535a872b\",\"type\":\"Toolbar\"},{\"attributes\":{\"line_cap\":\"round\",\"line_color\":{\"value\":\"#5975a4\"},\"line_width\":{\"value\":6},\"x\":{\"field\":\"Year\"},\"y\":{\"field\":\"train_acc\"}},\"id\":\"364354bf-354d-4fee-a226-87f142fcb2be\",\"type\":\"Line\"},{\"attributes\":{\"formatter\":{\"id\":\"5af56f79-01d8-4c57-b373-41cd8b64594b\",\"type\":\"BasicTickFormatter\"},\"plot\":{\"id\":\"c16d4e1d-f49a-47f7-b998-18efc665de90\",\"subtype\":\"Figure\",\"type\":\"Plot\"},\"ticker\":{\"id\":\"b74f9848-eac2-44d1-9eeb-f992b9557bfd\",\"type\":\"BasicTicker\"}},\"id\":\"1fc302bd-9dd6-4b7d-9f81-5c6a8916ba1c\",\"type\":\"LinearAxis\"},{\"attributes\":{\"data_source\":{\"id\":\"750d5039-e1b8-44f2-a1be-9cbeb3a20204\",\"type\":\"ColumnDataSource\"},\"glyph\":{\"id\":\"4e06a4f0-1f39-4cf8-89bd-72169936fbe1\",\"type\":\"Line\"},\"hover_glyph\":null,\"muted_glyph\":null,\"nonselection_glyph\":{\"id\":\"b3f0e6e3-8e83-4cc1-8090-872a3a730c9a\",\"type\":\"Line\"},\"selection_glyph\":null},\"id\":\"e6f1824e-c8da-4c61-ab88-a1e6b1f23a76\",\"type\":\"GlyphRenderer\"},{\"attributes\":{\"below\":[{\"id\":\"1fc302bd-9dd6-4b7d-9f81-5c6a8916ba1c\",\"type\":\"LinearAxis\"}],\"left\":[{\"id\":\"247bd9ef-e7cc-413e-ae6f-2c1632e7046c\",\"type\":\"LinearAxis\"}],\"plot_height\":350,\"plot_width\":700,\"renderers\":[{\"id\":\"1fc302bd-9dd6-4b7d-9f81-5c6a8916ba1c\",\"type\":\"LinearAxis\"},{\"id\":\"18bd3b70-e0a6-455a-8e54-848d32fe033f\",\"type\":\"Grid\"},{\"id\":\"247bd9ef-e7cc-413e-ae6f-2c1632e7046c\",\"type\":\"LinearAxis\"},{\"id\":\"615f93e6-cb1f-4767-928c-998437a3df36\",\"type\":\"Grid\"},{\"id\":\"dd306c39-983c-4791-9bbf-24c9591dc649\",\"type\":\"BoxAnnotation\"},{\"id\":\"8ea6bbfd-8ded-422c-a5a9-bdb7dec545ff\",\"type\":\"Legend\"},{\"id\":\"5829b2b5-81f4-49dc-ab0b-abcb331884fb\",\"type\":\"GlyphRenderer\"},{\"id\":\"e6f1824e-c8da-4c61-ab88-a1e6b1f23a76\",\"type\":\"GlyphRenderer\"}],\"title\":{\"id\":\"70a16ec0-b1f3-4818-83ae-3b3ce837ffa2\",\"type\":\"Title\"},\"tool_events\":{\"id\":\"b3ad9fb5-52eb-48b5-a486-cad52d04a70d\",\"type\":\"ToolEvents\"},\"toolbar\":{\"id\":\"70eae5ec-3744-452d-ad1c-b037535a872b\",\"type\":\"Toolbar\"},\"x_range\":{\"id\":\"2015c2d6-d939-4cfc-a7b9-1e88192bc197\",\"type\":\"DataRange1d\"},\"x_scale\":{\"id\":\"bd1701cd-21b2-49a4-a544-51205a504a0c\",\"type\":\"LinearScale\"},\"y_range\":{\"id\":\"93b47a2d-75d4-406d-a592-a1219da27392\",\"type\":\"DataRange1d\"},\"y_scale\":{\"id\":\"c8df63ee-ff52-4c56-9c4f-32f41ba1e5dc\",\"type\":\"LinearScale\"}},\"id\":\"c16d4e1d-f49a-47f7-b998-18efc665de90\",\"subtype\":\"Figure\",\"type\":\"Plot\"},{\"attributes\":{\"plot\":null,\"text\":\"\"},\"id\":\"70a16ec0-b1f3-4818-83ae-3b3ce837ffa2\",\"type\":\"Title\"},{\"attributes\":{\"callback\":null},\"id\":\"2015c2d6-d939-4cfc-a7b9-1e88192bc197\",\"type\":\"DataRange1d\"},{\"attributes\":{\"dimension\":1,\"plot\":{\"id\":\"c16d4e1d-f49a-47f7-b998-18efc665de90\",\"subtype\":\"Figure\",\"type\":\"Plot\"},\"ticker\":{\"id\":\"cad8bb68-90ed-4982-a6dc-457801335afc\",\"type\":\"BasicTicker\"}},\"id\":\"615f93e6-cb1f-4767-928c-998437a3df36\",\"type\":\"Grid\"},{\"attributes\":{},\"id\":\"c8df63ee-ff52-4c56-9c4f-32f41ba1e5dc\",\"type\":\"LinearScale\"},{\"attributes\":{\"line_cap\":\"round\",\"line_color\":{\"value\":\"#a1bae3\"},\"line_width\":{\"value\":6},\"x\":{\"field\":\"Year\"},\"y\":{\"field\":\"retrain_acc\"}},\"id\":\"4e06a4f0-1f39-4cf8-89bd-72169936fbe1\",\"type\":\"Line\"},{\"attributes\":{\"callback\":null,\"column_names\":[\"retrain_acc\",\"Year\",\"train_acc\"],\"data\":{\"Year\":[1992,1993,1994,1995,1996,1997,1998,1999,2000,2001,2002,2003,2004,2005,2006,2007,2008],\"retrain_acc\":{\"__ndarray__\":\"AAAAAAAA+H8AAAAAAAD4fwAAAAAAAPh/AAAAAAAA+H8AAAAAAAD4fwAAAAAAAPh/AAAAAAAA+H8AAAAAAAD4fwAAAAAAAPh/AAAAAAAA+H9p7Z6H4P/nP+LNMkfw8ec/yUzwYZwy5z+P6ZsthwjnP3PZJ0hlo+Y/HpCZJ+pA5j+TOzRemFXmPw==\",\"dtype\":\"float64\",\"shape\":[17]},\"train_acc\":{\"__ndarray__\":\"XSTXhGs86D8amxN06THoP5N2tEJG0ec/Vx2k8ndo5z/OEjdfox7nP2T0+yhlEOc//MgQPQOZ5j9Hkax0pGzmP6pJ/U59EOY/HhetHjyT5T+9rVecAMTlPxLE717J9OU/EKZYBkXI5T+IXGYtCo3lP56mOGAwPOU/RdeycEHZ5D//c+OhIV/kPw==\",\"dtype\":\"float64\",\"shape\":[17]}}},\"id\":\"750d5039-e1b8-44f2-a1be-9cbeb3a20204\",\"type\":\"ColumnDataSource\"},{\"attributes\":{\"callback\":null},\"id\":\"93b47a2d-75d4-406d-a592-a1219da27392\",\"type\":\"DataRange1d\"},{\"attributes\":{\"data_source\":{\"id\":\"750d5039-e1b8-44f2-a1be-9cbeb3a20204\",\"type\":\"ColumnDataSource\"},\"glyph\":{\"id\":\"364354bf-354d-4fee-a226-87f142fcb2be\",\"type\":\"Line\"},\"hover_glyph\":null,\"muted_glyph\":null,\"nonselection_glyph\":{\"id\":\"f0f5abbf-c940-4688-af9a-2dc494e9e320\",\"type\":\"Line\"},\"selection_glyph\":null},\"id\":\"5829b2b5-81f4-49dc-ab0b-abcb331884fb\",\"type\":\"GlyphRenderer\"},{\"attributes\":{\"overlay\":{\"id\":\"dd306c39-983c-4791-9bbf-24c9591dc649\",\"type\":\"BoxAnnotation\"},\"plot\":{\"id\":\"c16d4e1d-f49a-47f7-b998-18efc665de90\",\"subtype\":\"Figure\",\"type\":\"Plot\"}},\"id\":\"be3a90fb-b2cd-43af-982c-cfa78da62f46\",\"type\":\"BoxZoomTool\"},{\"attributes\":{\"label\":{\"value\":\" Train AUC\"},\"renderers\":[{\"id\":\"5829b2b5-81f4-49dc-ab0b-abcb331884fb\",\"type\":\"GlyphRenderer\"}]},\"id\":\"14014d2a-1b00-4a61-9023-b02cc0e69753\",\"type\":\"LegendItem\"}],\"root_ids\":[\"c16d4e1d-f49a-47f7-b998-18efc665de90\"]},\"title\":\"Bokeh Application\",\"version\":\"0.12.6\"}};\n",
       "            var render_items = [{\"docid\":\"84aa62cc-140d-4956-aec1-7b8a521efd10\",\"elementid\":\"6412bb74-83e4-49ad-9248-f41a391683a9\",\"modelid\":\"c16d4e1d-f49a-47f7-b998-18efc665de90\"}];\n",
       "            \n",
       "            Bokeh.embed.embed_items(docs_json, render_items);\n",
       "          };\n",
       "          if (document.readyState != \"loading\") fn();\n",
       "          else document.addEventListener(\"DOMContentLoaded\", fn);\n",
       "        })();\n",
       "      },\n",
       "      function(Bokeh) {\n",
       "      }\n",
       "    ];\n",
       "  \n",
       "    function run_inline_js() {\n",
       "      \n",
       "      if ((window.Bokeh !== undefined) || (force === true)) {\n",
       "        for (var i = 0; i < inline_js.length; i++) {\n",
       "          inline_js[i](window.Bokeh);\n",
       "        }if (force === true) {\n",
       "          display_loaded();\n",
       "        }} else if (Date.now() < window._bokeh_timeout) {\n",
       "        setTimeout(run_inline_js, 100);\n",
       "      } else if (!window._bokeh_failed_load) {\n",
       "        console.log(\"Bokeh: BokehJS failed to load within specified timeout.\");\n",
       "        window._bokeh_failed_load = true;\n",
       "      } else if (force !== true) {\n",
       "        var cell = $(document.getElementById(\"6412bb74-83e4-49ad-9248-f41a391683a9\")).parents('.cell').data().cell;\n",
       "        cell.output_area.append_execute_result(NB_LOAD_WARNING)\n",
       "      }\n",
       "  \n",
       "    }\n",
       "  \n",
       "    if (window._bokeh_is_loading === 0) {\n",
       "      console.log(\"Bokeh: BokehJS loaded, going straight to plotting\");\n",
       "      run_inline_js();\n",
       "    } else {\n",
       "      load_libs(js_urls, function() {\n",
       "        console.log(\"Bokeh: BokehJS plotting callback run at\", now());\n",
       "        run_inline_js();\n",
       "      });\n",
       "    }\n",
       "  }(this));\n",
       "</script>"
      ]
     },
     "metadata": {},
     "output_type": "display_data"
    },
    {
     "name": "stdout",
     "output_type": "stream",
     "text": [
      "In [63] used 0.0000 MiB RAM in 0.19s, total RAM usage 47482.96 MiB\n"
     ]
    }
   ],
   "source": [
    "# Airline Retrain Results\n",
    "p = figure(y_axis_label='Accuracy', plot_width=700, plot_height=350, tools=\"pan,wheel_zoom,box_zoom,reset\")\n",
    "l1 = p.line('Year', 'train_acc', legend=' Train AUC', line_color=\"#5975a4\", source=data_cds, line_width=6, line_cap=\"round\")\n",
    "p.line('Year', 'retrain_acc', legend=' Retrain AUC', line_color=\"#a1bae3\", source=data_cds, line_width=6, line_cap=\"round\")\n",
    "l1_hover = HoverTool(renderers=[l1], tooltips=[( 'Train',  '@{train_acc}{0.4f}' ), ( 'Retrain',  '@{retrain_acc}{0.4f}' )], mode='vline')\n",
    "p.add_tools(l1_hover)\n",
    "show(p)"
   ]
  },
  {
   "cell_type": "code",
   "execution_count": 64,
   "metadata": {
    "collapsed": false,
    "deletable": true,
    "editable": true
   },
   "outputs": [
    {
     "data": {
      "image/svg+xml": [
       "<svg height=\"350\" style=\"width: 700px; height: 350px;\" version=\"1.1\" width=\"700\" xmlns=\"http://www.w3.org/2000/svg\" xmlns:xlink=\"http://www.w3.org/1999/xlink\"><defs/><g><g/><g transform=\"scale(1,1) translate(0.5,0.5)\"><rect fill=\"#FFFFFF\" height=\"350\" stroke=\"none\" width=\"700\" x=\"0\" y=\"0\"/><rect fill=\"#ffffff\" height=\"350\" stroke=\"none\" width=\"700\" x=\"0\" y=\"0\"/><rect fill=\"#FFFFFF\" height=\"318.9925\" stroke=\"none\" width=\"609.38875\" x=\"60.61125000000001\" y=\"4\"/><rect fill=\"#ffffff\" height=\"318.9925\" stroke=\"none\" width=\"609.38875\" x=\"60.61125000000001\" y=\"4\"/><g><rect fill=\"none\" height=\"318.9925\" stroke=\"#e5e5e5\" stroke-miterlimit=\"10\" width=\"609.38875\" x=\"60.61125000000001\" y=\"4\"/></g><g><g><path d=\" M 192 323 L 192 4\" fill=\"none\" paint-order=\"fill stroke markers\" stroke=\"#e5e5e5\" stroke-miterlimit=\"10\"/><path d=\" M 365 323 L 365 4\" fill=\"none\" paint-order=\"fill stroke markers\" stroke=\"#e5e5e5\" stroke-miterlimit=\"10\"/><path d=\" M 538 323 L 538 4\" fill=\"none\" paint-order=\"fill stroke markers\" stroke=\"#e5e5e5\" stroke-miterlimit=\"10\"/></g><g><path d=\" M 61 300 L 670 300\" fill=\"none\" paint-order=\"fill stroke markers\" stroke=\"#e5e5e5\" stroke-miterlimit=\"10\"/><path d=\" M 61 252 L 670 252\" fill=\"none\" paint-order=\"fill stroke markers\" stroke=\"#e5e5e5\" stroke-miterlimit=\"10\"/><path d=\" M 61 204 L 670 204\" fill=\"none\" paint-order=\"fill stroke markers\" stroke=\"#e5e5e5\" stroke-miterlimit=\"10\"/><path d=\" M 61 156 L 670 156\" fill=\"none\" paint-order=\"fill stroke markers\" stroke=\"#e5e5e5\" stroke-miterlimit=\"10\"/><path d=\" M 61 108 L 670 108\" fill=\"none\" paint-order=\"fill stroke markers\" stroke=\"#e5e5e5\" stroke-miterlimit=\"10\"/><path d=\" M 61 60 L 670 60\" fill=\"none\" paint-order=\"fill stroke markers\" stroke=\"#e5e5e5\" stroke-miterlimit=\"10\"/><path d=\" M 61 12 L 670 12\" fill=\"none\" paint-order=\"fill stroke markers\" stroke=\"#e5e5e5\" stroke-miterlimit=\"10\"/></g><g><path fill=\"none\" stroke=\"none\"/><path d=\" M 88.31073863635538 18.499659090909063 L 122.93509943180834 21.57992110994155 L 157.5594602272613 49.90755722339122 L 192.1838210227288 80.62963214066508 L 226.80818181818177 102.2717543800386 L 261.4325426136347 106.4468526856715 L 296.0569034090877 141.44180978745203 L 330.68126420454064 154.44819472117342 L 365.3056249999936 181.46126007785006 L 399.92998579544656 218.17753466642603 L 434.5543465908995 203.88215660540027 L 469.178707386367 189.58189003684333 L 503.80306818182 202.63128683593732 L 538.4274289772729 219.99351960512536 L 573.0517897727259 243.6935567083258 L 607.6761505681789 272.69418824346644 L 642.3005113636318 308.4928409090912\" fill=\"none\" paint-order=\"fill stroke markers\" stroke=\"#5975a4\" stroke-linecap=\"round\" stroke-miterlimit=\"10\" stroke-width=\"6\"/></g><g><path fill=\"none\" stroke=\"none\"/><path d=\" M 88.31073863635538 NaN\" fill=\"none\" paint-order=\"fill stroke markers\" stroke=\"#a1bae3\" stroke-linecap=\"round\" stroke-miterlimit=\"10\" stroke-width=\"6\"/><path fill=\"none\" stroke=\"none\"/><path d=\" M 157.5594602272613 NaN\" fill=\"none\" paint-order=\"fill stroke markers\" stroke=\"#a1bae3\" stroke-linecap=\"round\" stroke-miterlimit=\"10\" stroke-width=\"6\"/><path fill=\"none\" stroke=\"none\"/><path d=\" M 226.80818181818177 NaN\" fill=\"none\" paint-order=\"fill stroke markers\" stroke=\"#a1bae3\" stroke-linecap=\"round\" stroke-miterlimit=\"10\" stroke-width=\"6\"/><path fill=\"none\" stroke=\"none\"/><path d=\" M 296.0569034090877 NaN\" fill=\"none\" paint-order=\"fill stroke markers\" stroke=\"#a1bae3\" stroke-linecap=\"round\" stroke-miterlimit=\"10\" stroke-width=\"6\"/><path fill=\"none\" stroke=\"none\"/><path d=\" M 365.3056249999936 NaN\" fill=\"none\" paint-order=\"fill stroke markers\" stroke=\"#a1bae3\" stroke-linecap=\"round\" stroke-miterlimit=\"10\" stroke-width=\"6\"/><path fill=\"none\" stroke=\"none\"/><path d=\" M 434.5543465908995 36.24679122154407 L 469.178707386367 40.33262113837645 L 503.80306818182 96.41709672599472 L 538.4274289772729 108.75296459884657 L 573.0517897727259 138.3982147763188 L 607.6761505681789 167.26623972006973 L 642.3005113636318 161.20409579074317\" fill=\"none\" paint-order=\"fill stroke markers\" stroke=\"#a1bae3\" stroke-linecap=\"round\" stroke-miterlimit=\"10\" stroke-width=\"6\"/></g></g><g><g/><g><path d=\" M 527.328125 14 L 660 14 L 660 77 L 527.328125 77 L 527.328125 14 Z\" fill=\"#ffffff\" fill-opacity=\"0.95\" paint-order=\"fill stroke markers\" stroke=\"#e5e5e5\" stroke-miterlimit=\"10\" stroke-opacity=\"0.5\"/><text dominant-baseline=\"central\" fill=\"#444444\" font-family=\"helvetica\" font-size=\"10pt\" font-style=\"normal\" font-weight=\"normal\" stroke=\"none\" text-anchor=\"start\" text-decoration=\"normal\" x=\"562.328125\" y=\"34\"> Train AUC</text><g><path d=\" M 537.328125 34 L 557.328125 34\" fill=\"none\" paint-order=\"fill stroke markers\" stroke=\"#5975a4\" stroke-linecap=\"round\" stroke-miterlimit=\"10\" stroke-width=\"6\"/></g><text dominant-baseline=\"central\" fill=\"#444444\" font-family=\"helvetica\" font-size=\"10pt\" font-style=\"normal\" font-weight=\"normal\" stroke=\"none\" text-anchor=\"start\" text-decoration=\"normal\" x=\"562.328125\" y=\"57\"> Retrain AUC</text><g><path d=\" M 537.328125 57 L 557.328125 57\" fill=\"none\" paint-order=\"fill stroke markers\" stroke=\"#a1bae3\" stroke-linecap=\"round\" stroke-miterlimit=\"10\" stroke-width=\"6\"/></g></g></g><g><g><path d=\" M 61 323 L 670 323\" fill=\"none\" paint-order=\"fill stroke markers\" stroke=\"black\" stroke-miterlimit=\"10\"/><path d=\" M 192 329 L 192 321\" fill=\"none\" paint-order=\"fill stroke markers\" stroke=\"black\" stroke-miterlimit=\"10\"/><path d=\" M 365 329 L 365 321\" fill=\"none\" paint-order=\"fill stroke markers\" stroke=\"black\" stroke-miterlimit=\"10\"/><path d=\" M 538 329 L 538 321\" fill=\"none\" paint-order=\"fill stroke markers\" stroke=\"black\" stroke-miterlimit=\"10\"/><path d=\" M 158 327 L 158 323\" fill=\"none\" paint-order=\"fill stroke markers\" stroke=\"black\" stroke-miterlimit=\"10\"/><path d=\" M 123 327 L 123 323\" fill=\"none\" paint-order=\"fill stroke markers\" stroke=\"black\" stroke-miterlimit=\"10\"/><path d=\" M 88 327 L 88 323\" fill=\"none\" paint-order=\"fill stroke markers\" stroke=\"black\" stroke-miterlimit=\"10\"/><path d=\" M 192 327 L 192 323\" fill=\"none\" paint-order=\"fill stroke markers\" stroke=\"black\" stroke-miterlimit=\"10\"/><path d=\" M 227 327 L 227 323\" fill=\"none\" paint-order=\"fill stroke markers\" stroke=\"black\" stroke-miterlimit=\"10\"/><path d=\" M 261 327 L 261 323\" fill=\"none\" paint-order=\"fill stroke markers\" stroke=\"black\" stroke-miterlimit=\"10\"/><path d=\" M 296 327 L 296 323\" fill=\"none\" paint-order=\"fill stroke markers\" stroke=\"black\" stroke-miterlimit=\"10\"/><path d=\" M 331 327 L 331 323\" fill=\"none\" paint-order=\"fill stroke markers\" stroke=\"black\" stroke-miterlimit=\"10\"/><path d=\" M 365 327 L 365 323\" fill=\"none\" paint-order=\"fill stroke markers\" stroke=\"black\" stroke-miterlimit=\"10\"/><path d=\" M 400 327 L 400 323\" fill=\"none\" paint-order=\"fill stroke markers\" stroke=\"black\" stroke-miterlimit=\"10\"/><path d=\" M 435 327 L 435 323\" fill=\"none\" paint-order=\"fill stroke markers\" stroke=\"black\" stroke-miterlimit=\"10\"/><path d=\" M 469 327 L 469 323\" fill=\"none\" paint-order=\"fill stroke markers\" stroke=\"black\" stroke-miterlimit=\"10\"/><path d=\" M 504 327 L 504 323\" fill=\"none\" paint-order=\"fill stroke markers\" stroke=\"black\" stroke-miterlimit=\"10\"/><path d=\" M 538 327 L 538 323\" fill=\"none\" paint-order=\"fill stroke markers\" stroke=\"black\" stroke-miterlimit=\"10\"/><path d=\" M 573 327 L 573 323\" fill=\"none\" paint-order=\"fill stroke markers\" stroke=\"black\" stroke-miterlimit=\"10\"/><path d=\" M 608 327 L 608 323\" fill=\"none\" paint-order=\"fill stroke markers\" stroke=\"black\" stroke-miterlimit=\"10\"/><path d=\" M 642 327 L 642 323\" fill=\"none\" paint-order=\"fill stroke markers\" stroke=\"black\" stroke-miterlimit=\"10\"/><text dominant-baseline=\"hanging\" fill=\"#444444\" font-family=\"helvetica\" font-size=\"8pt\" font-style=\"normal\" font-weight=\"normal\" stroke=\"none\" text-anchor=\"middle\" text-decoration=\"normal\" x=\"192\" y=\"334\">1995</text><text dominant-baseline=\"hanging\" fill=\"#444444\" font-family=\"helvetica\" font-size=\"8pt\" font-style=\"normal\" font-weight=\"normal\" stroke=\"none\" text-anchor=\"middle\" text-decoration=\"normal\" x=\"365\" y=\"334\">2000</text><text dominant-baseline=\"hanging\" fill=\"#444444\" font-family=\"helvetica\" font-size=\"8pt\" font-style=\"normal\" font-weight=\"normal\" stroke=\"none\" text-anchor=\"middle\" text-decoration=\"normal\" x=\"538\" y=\"334\">2005</text><text dominant-baseline=\"hanging\" fill=\"#444444\" font-family=\"helvetica\" font-size=\"10pt\" font-style=\"italic\" font-weight=\"normal\" stroke=\"none\" text-anchor=\"middle\" text-decoration=\"normal\" x=\"365.3056250000009\" y=\"354.00000000000006\"/></g><g><path d=\" M 61 323 L 61 4\" fill=\"none\" paint-order=\"fill stroke markers\" stroke=\"black\" stroke-miterlimit=\"10\"/><path d=\" M 55 300 L 63 300\" fill=\"none\" paint-order=\"fill stroke markers\" stroke=\"black\" stroke-miterlimit=\"10\"/><path d=\" M 55 252 L 63 252\" fill=\"none\" paint-order=\"fill stroke markers\" stroke=\"black\" stroke-miterlimit=\"10\"/><path d=\" M 55 204 L 63 204\" fill=\"none\" paint-order=\"fill stroke markers\" stroke=\"black\" stroke-miterlimit=\"10\"/><path d=\" M 55 156 L 63 156\" fill=\"none\" paint-order=\"fill stroke markers\" stroke=\"black\" stroke-miterlimit=\"10\"/><path d=\" M 55 108 L 63 108\" fill=\"none\" paint-order=\"fill stroke markers\" stroke=\"black\" stroke-miterlimit=\"10\"/><path d=\" M 55 60 L 63 60\" fill=\"none\" paint-order=\"fill stroke markers\" stroke=\"black\" stroke-miterlimit=\"10\"/><path d=\" M 55 12 L 63 12\" fill=\"none\" paint-order=\"fill stroke markers\" stroke=\"black\" stroke-miterlimit=\"10\"/><path d=\" M 57 310 L 61 310\" fill=\"none\" paint-order=\"fill stroke markers\" stroke=\"black\" stroke-miterlimit=\"10\"/><path d=\" M 57 320 L 61 320\" fill=\"none\" paint-order=\"fill stroke markers\" stroke=\"black\" stroke-miterlimit=\"10\"/><path d=\" M 57 300 L 61 300\" fill=\"none\" paint-order=\"fill stroke markers\" stroke=\"black\" stroke-miterlimit=\"10\"/><path d=\" M 57 291 L 61 291\" fill=\"none\" paint-order=\"fill stroke markers\" stroke=\"black\" stroke-miterlimit=\"10\"/><path d=\" M 57 281 L 61 281\" fill=\"none\" paint-order=\"fill stroke markers\" stroke=\"black\" stroke-miterlimit=\"10\"/><path d=\" M 57 272 L 61 272\" fill=\"none\" paint-order=\"fill stroke markers\" stroke=\"black\" stroke-miterlimit=\"10\"/><path d=\" M 57 262 L 61 262\" fill=\"none\" paint-order=\"fill stroke markers\" stroke=\"black\" stroke-miterlimit=\"10\"/><path d=\" M 57 252 L 61 252\" fill=\"none\" paint-order=\"fill stroke markers\" stroke=\"black\" stroke-miterlimit=\"10\"/><path d=\" M 57 243 L 61 243\" fill=\"none\" paint-order=\"fill stroke markers\" stroke=\"black\" stroke-miterlimit=\"10\"/><path d=\" M 57 233 L 61 233\" fill=\"none\" paint-order=\"fill stroke markers\" stroke=\"black\" stroke-miterlimit=\"10\"/><path d=\" M 57 224 L 61 224\" fill=\"none\" paint-order=\"fill stroke markers\" stroke=\"black\" stroke-miterlimit=\"10\"/><path d=\" M 57 214 L 61 214\" fill=\"none\" paint-order=\"fill stroke markers\" stroke=\"black\" stroke-miterlimit=\"10\"/><path d=\" M 57 204 L 61 204\" fill=\"none\" paint-order=\"fill stroke markers\" stroke=\"black\" stroke-miterlimit=\"10\"/><path d=\" M 57 195 L 61 195\" fill=\"none\" paint-order=\"fill stroke markers\" stroke=\"black\" stroke-miterlimit=\"10\"/><path d=\" M 57 185 L 61 185\" fill=\"none\" paint-order=\"fill stroke markers\" stroke=\"black\" stroke-miterlimit=\"10\"/><path d=\" M 57 175 L 61 175\" fill=\"none\" paint-order=\"fill stroke markers\" stroke=\"black\" stroke-miterlimit=\"10\"/><path d=\" M 57 166 L 61 166\" fill=\"none\" paint-order=\"fill stroke markers\" stroke=\"black\" stroke-miterlimit=\"10\"/><path d=\" M 57 156 L 61 156\" fill=\"none\" paint-order=\"fill stroke markers\" stroke=\"black\" stroke-miterlimit=\"10\"/><path d=\" M 57 147 L 61 147\" fill=\"none\" paint-order=\"fill stroke markers\" stroke=\"black\" stroke-miterlimit=\"10\"/><path d=\" M 57 137 L 61 137\" fill=\"none\" paint-order=\"fill stroke markers\" stroke=\"black\" stroke-miterlimit=\"10\"/><path d=\" M 57 127 L 61 127\" fill=\"none\" paint-order=\"fill stroke markers\" stroke=\"black\" stroke-miterlimit=\"10\"/><path d=\" M 57 118 L 61 118\" fill=\"none\" paint-order=\"fill stroke markers\" stroke=\"black\" stroke-miterlimit=\"10\"/><path d=\" M 57 108 L 61 108\" fill=\"none\" paint-order=\"fill stroke markers\" stroke=\"black\" stroke-miterlimit=\"10\"/><path d=\" M 57 99 L 61 99\" fill=\"none\" paint-order=\"fill stroke markers\" stroke=\"black\" stroke-miterlimit=\"10\"/><path d=\" M 57 89 L 61 89\" fill=\"none\" paint-order=\"fill stroke markers\" stroke=\"black\" stroke-miterlimit=\"10\"/><path d=\" M 57 79 L 61 79\" fill=\"none\" paint-order=\"fill stroke markers\" stroke=\"black\" stroke-miterlimit=\"10\"/><path d=\" M 57 70 L 61 70\" fill=\"none\" paint-order=\"fill stroke markers\" stroke=\"black\" stroke-miterlimit=\"10\"/><path d=\" M 57 60 L 61 60\" fill=\"none\" paint-order=\"fill stroke markers\" stroke=\"black\" stroke-miterlimit=\"10\"/><path d=\" M 57 51 L 61 51\" fill=\"none\" paint-order=\"fill stroke markers\" stroke=\"black\" stroke-miterlimit=\"10\"/><path d=\" M 57 41 L 61 41\" fill=\"none\" paint-order=\"fill stroke markers\" stroke=\"black\" stroke-miterlimit=\"10\"/><path d=\" M 57 31 L 61 31\" fill=\"none\" paint-order=\"fill stroke markers\" stroke=\"black\" stroke-miterlimit=\"10\"/><path d=\" M 57 22 L 61 22\" fill=\"none\" paint-order=\"fill stroke markers\" stroke=\"black\" stroke-miterlimit=\"10\"/><path d=\" M 57 12 L 61 12\" fill=\"none\" paint-order=\"fill stroke markers\" stroke=\"black\" stroke-miterlimit=\"10\"/><text dominant-baseline=\"central\" fill=\"#444444\" font-family=\"helvetica\" font-size=\"8pt\" font-style=\"normal\" font-weight=\"normal\" stroke=\"none\" text-anchor=\"end\" text-decoration=\"normal\" x=\"50\" y=\"300\">0.64</text><text dominant-baseline=\"central\" fill=\"#444444\" font-family=\"helvetica\" font-size=\"8pt\" font-style=\"normal\" font-weight=\"normal\" stroke=\"none\" text-anchor=\"end\" text-decoration=\"normal\" x=\"50\" y=\"252\">0.66</text><text dominant-baseline=\"central\" fill=\"#444444\" font-family=\"helvetica\" font-size=\"8pt\" font-style=\"normal\" font-weight=\"normal\" stroke=\"none\" text-anchor=\"end\" text-decoration=\"normal\" x=\"50\" y=\"204\">0.68</text><text dominant-baseline=\"central\" fill=\"#444444\" font-family=\"helvetica\" font-size=\"8pt\" font-style=\"normal\" font-weight=\"normal\" stroke=\"none\" text-anchor=\"end\" text-decoration=\"normal\" x=\"50\" y=\"156\">0.7</text><text dominant-baseline=\"central\" fill=\"#444444\" font-family=\"helvetica\" font-size=\"8pt\" font-style=\"normal\" font-weight=\"normal\" stroke=\"none\" text-anchor=\"end\" text-decoration=\"normal\" x=\"50\" y=\"108\">0.72</text><text dominant-baseline=\"central\" fill=\"#444444\" font-family=\"helvetica\" font-size=\"8pt\" font-style=\"normal\" font-weight=\"normal\" stroke=\"none\" text-anchor=\"end\" text-decoration=\"normal\" x=\"50\" y=\"60\">0.74</text><text dominant-baseline=\"central\" fill=\"#444444\" font-family=\"helvetica\" font-size=\"8pt\" font-style=\"normal\" font-weight=\"normal\" stroke=\"none\" text-anchor=\"end\" text-decoration=\"normal\" x=\"50\" y=\"12\">0.76</text><g transform=\"translate(17.730000000001745,163.49625000000015) rotate(-90,0,0)\"><text dominant-baseline=\"alphabetic\" fill=\"#444444\" font-family=\"helvetica\" font-size=\"10pt\" font-style=\"italic\" font-weight=\"normal\" stroke=\"none\" text-anchor=\"middle\" text-decoration=\"normal\" x=\"0\" y=\"0\">Accuracy</text><g transform=\"rotate(90,0,0) translate(-17.730000000001745,-163.49625000000015)\"/></g></g></g></g></g></svg>"
      ],
      "text/plain": [
       "<IPython.core.display.SVG object>"
      ]
     },
     "metadata": {},
     "output_type": "display_data"
    },
    {
     "name": "stdout",
     "output_type": "stream",
     "text": [
      "In [64] used -4538.9531 MiB RAM in 1.87s, total RAM usage 42944.00 MiB\n"
     ]
    }
   ],
   "source": [
    "# SVG: Airline Retrain Results\n",
    "# Save the plot and display it so that is is visible on Github\n",
    "p.output_backend = \"svg\"\n",
    "export_svgs(p, filename=\"airline_retrain.svg\")\n",
    "display(SVG('airline_retrain.svg'))"
   ]
  },
  {
   "cell_type": "markdown",
   "metadata": {
    "deletable": true,
    "editable": true
   },
   "source": [
    "As it can be seen, the performance is better after retraining. We have found concept drift in this dataset."
   ]
  }
 ],
 "metadata": {
  "kernelspec": {
   "display_name": "Python3.5 (Strata)",
   "language": "python",
   "name": "strata"
  },
  "language_info": {
   "codemirror_mode": {
    "name": "ipython",
    "version": 3
   },
   "file_extension": ".py",
   "mimetype": "text/x-python",
   "name": "python",
   "nbconvert_exporter": "python",
   "pygments_lexer": "ipython3",
   "version": "3.5.2"
  }
 },
 "nbformat": 4,
 "nbformat_minor": 1
}
