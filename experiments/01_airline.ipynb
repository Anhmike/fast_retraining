{
 "cells": [
  {
   "cell_type": "markdown",
   "metadata": {
    "deletable": true,
    "editable": true
   },
   "source": [
    "# Experiment 01: Airline dataset\n",
    "\n",
    "In this experiment we use [the airline dataset](http://kt.ijs.si/elena_ikonomovska/data.html) to predict arrival delay. The dataset consists of a large amount of records, containing flight arrival and departure details for all the commercial flights within the USA, from October 1987 to April 2008. Its size is around 116 million records and 5.76 GB of memory.\n",
    "\n"
   ]
  },
  {
   "cell_type": "code",
   "execution_count": 1,
   "metadata": {
    "collapsed": false,
    "deletable": true,
    "editable": true
   },
   "outputs": [
    {
     "name": "stdout",
     "output_type": "stream",
     "text": [
      "System version: 3.5.2 |Anaconda custom (64-bit)| (default, Jul  2 2016, 17:53:06) \n",
      "[GCC 4.4.7 20120313 (Red Hat 4.4.7-1)]\n",
      "XGBoost version: 0.6\n",
      "LightGBM version: 0.2\n"
     ]
    }
   ],
   "source": [
    "import os,sys\n",
    "import numpy as np\n",
    "import pandas as pd\n",
    "from lightgbm.sklearn import LGBMRegressor, LGBMClassifier\n",
    "from xgboost import XGBRegressor\n",
    "from sklearn.metrics import (confusion_matrix, accuracy_score, roc_auc_score, f1_score, log_loss, precision_score,\n",
    "                             recall_score)\n",
    "from libs.loaders import load_airline\n",
    "from libs.conversion import convert_cols_categorical_to_numeric, convert_related_cols_categorical_to_numeric\n",
    "from libs.timer import Timer\n",
    "import pkg_resources\n",
    "import json\n",
    "import matplotlib.pylab as plt\n",
    "\n",
    "print(\"System version: {}\".format(sys.version))\n",
    "print(\"XGBoost version: {}\".format(pkg_resources.get_distribution('xgboost').version))\n",
    "print(\"LightGBM version: {}\".format(pkg_resources.get_distribution('lightgbm').version))\n",
    "\n",
    "%matplotlib inline"
   ]
  },
  {
   "cell_type": "markdown",
   "metadata": {
    "deletable": true,
    "editable": true
   },
   "source": [
    "# 1) XGBoost vs LightGBM benchmark\n",
    "In the next section we compare both libraries speed, accuracy and other metrics for the dataset of airline arrival delay. \n",
    "\n",
    "### Data loading and management"
   ]
  },
  {
   "cell_type": "code",
   "execution_count": 2,
   "metadata": {
    "collapsed": false,
    "deletable": true,
    "editable": true
   },
   "outputs": [
    {
     "name": "stdout",
     "output_type": "stream",
     "text": [
      "(115069017, 14)\n",
      "CPU times: user 1min 45s, sys: 13.4 s, total: 1min 59s\n",
      "Wall time: 4min 17s\n"
     ]
    }
   ],
   "source": [
    "%%time\n",
    "df_plane = load_airline()\n",
    "print(df_plane.shape)"
   ]
  },
  {
   "cell_type": "code",
   "execution_count": 3,
   "metadata": {
    "collapsed": false,
    "deletable": true,
    "editable": true
   },
   "outputs": [
    {
     "data": {
      "text/html": [
       "<div>\n",
       "<table border=\"1\" class=\"dataframe\">\n",
       "  <thead>\n",
       "    <tr style=\"text-align: right;\">\n",
       "      <th></th>\n",
       "      <th>Year</th>\n",
       "      <th>Month</th>\n",
       "      <th>DayofMonth</th>\n",
       "      <th>DayofWeek</th>\n",
       "      <th>CRSDepTime</th>\n",
       "      <th>CRSArrTime</th>\n",
       "      <th>UniqueCarrier</th>\n",
       "      <th>FlightNum</th>\n",
       "      <th>ActualElapsedTime</th>\n",
       "      <th>Origin</th>\n",
       "      <th>Dest</th>\n",
       "      <th>Distance</th>\n",
       "      <th>Diverted</th>\n",
       "      <th>ArrDelay</th>\n",
       "    </tr>\n",
       "  </thead>\n",
       "  <tbody>\n",
       "    <tr>\n",
       "      <th>0</th>\n",
       "      <td>1987</td>\n",
       "      <td>10</td>\n",
       "      <td>1</td>\n",
       "      <td>4</td>\n",
       "      <td>1</td>\n",
       "      <td>556</td>\n",
       "      <td>AA</td>\n",
       "      <td>190</td>\n",
       "      <td>247</td>\n",
       "      <td>SFO</td>\n",
       "      <td>ORD</td>\n",
       "      <td>1846</td>\n",
       "      <td>0</td>\n",
       "      <td>27</td>\n",
       "    </tr>\n",
       "    <tr>\n",
       "      <th>1</th>\n",
       "      <td>1987</td>\n",
       "      <td>10</td>\n",
       "      <td>1</td>\n",
       "      <td>4</td>\n",
       "      <td>5</td>\n",
       "      <td>114</td>\n",
       "      <td>EA</td>\n",
       "      <td>57</td>\n",
       "      <td>74</td>\n",
       "      <td>LAX</td>\n",
       "      <td>SFO</td>\n",
       "      <td>337</td>\n",
       "      <td>0</td>\n",
       "      <td>5</td>\n",
       "    </tr>\n",
       "    <tr>\n",
       "      <th>2</th>\n",
       "      <td>1987</td>\n",
       "      <td>10</td>\n",
       "      <td>1</td>\n",
       "      <td>4</td>\n",
       "      <td>5</td>\n",
       "      <td>35</td>\n",
       "      <td>HP</td>\n",
       "      <td>351</td>\n",
       "      <td>167</td>\n",
       "      <td>ICT</td>\n",
       "      <td>LAS</td>\n",
       "      <td>987</td>\n",
       "      <td>0</td>\n",
       "      <td>17</td>\n",
       "    </tr>\n",
       "    <tr>\n",
       "      <th>3</th>\n",
       "      <td>1987</td>\n",
       "      <td>10</td>\n",
       "      <td>1</td>\n",
       "      <td>4</td>\n",
       "      <td>5</td>\n",
       "      <td>40</td>\n",
       "      <td>DL</td>\n",
       "      <td>251</td>\n",
       "      <td>35</td>\n",
       "      <td>MCO</td>\n",
       "      <td>PBI</td>\n",
       "      <td>142</td>\n",
       "      <td>0</td>\n",
       "      <td>-2</td>\n",
       "    </tr>\n",
       "    <tr>\n",
       "      <th>4</th>\n",
       "      <td>1987</td>\n",
       "      <td>10</td>\n",
       "      <td>1</td>\n",
       "      <td>4</td>\n",
       "      <td>8</td>\n",
       "      <td>517</td>\n",
       "      <td>UA</td>\n",
       "      <td>500</td>\n",
       "      <td>208</td>\n",
       "      <td>LAS</td>\n",
       "      <td>ORD</td>\n",
       "      <td>1515</td>\n",
       "      <td>0</td>\n",
       "      <td>17</td>\n",
       "    </tr>\n",
       "  </tbody>\n",
       "</table>\n",
       "</div>"
      ],
      "text/plain": [
       "   Year  Month  DayofMonth  DayofWeek  CRSDepTime  CRSArrTime UniqueCarrier  \\\n",
       "0  1987     10           1          4           1         556            AA   \n",
       "1  1987     10           1          4           5         114            EA   \n",
       "2  1987     10           1          4           5          35            HP   \n",
       "3  1987     10           1          4           5          40            DL   \n",
       "4  1987     10           1          4           8         517            UA   \n",
       "\n",
       "   FlightNum  ActualElapsedTime Origin Dest  Distance  Diverted  ArrDelay  \n",
       "0        190                247    SFO  ORD      1846         0        27  \n",
       "1         57                 74    LAX  SFO       337         0         5  \n",
       "2        351                167    ICT  LAS       987         0        17  \n",
       "3        251                 35    MCO  PBI       142         0        -2  \n",
       "4        500                208    LAS  ORD      1515         0        17  "
      ]
     },
     "execution_count": 3,
     "metadata": {},
     "output_type": "execute_result"
    }
   ],
   "source": [
    "df_plane.head()"
   ]
  },
  {
   "cell_type": "markdown",
   "metadata": {
    "deletable": true,
    "editable": true
   },
   "source": [
    "The first step is to convert the categorical features to numeric features."
   ]
  },
  {
   "cell_type": "code",
   "execution_count": 4,
   "metadata": {
    "collapsed": false,
    "deletable": true,
    "editable": true
   },
   "outputs": [
    {
     "name": "stdout",
     "output_type": "stream",
     "text": [
      "CPU times: user 1min 59s, sys: 12.8 s, total: 2min 12s\n",
      "Wall time: 2min 12s\n"
     ]
    }
   ],
   "source": [
    "%%time\n",
    "df_plane_numeric = convert_related_cols_categorical_to_numeric(df_plane, col_list=['Origin','Dest'])\n",
    "del df_plane"
   ]
  },
  {
   "cell_type": "code",
   "execution_count": 5,
   "metadata": {
    "collapsed": false,
    "deletable": true,
    "editable": true
   },
   "outputs": [
    {
     "data": {
      "text/html": [
       "<div>\n",
       "<table border=\"1\" class=\"dataframe\">\n",
       "  <thead>\n",
       "    <tr style=\"text-align: right;\">\n",
       "      <th></th>\n",
       "      <th>Year</th>\n",
       "      <th>Month</th>\n",
       "      <th>DayofMonth</th>\n",
       "      <th>DayofWeek</th>\n",
       "      <th>CRSDepTime</th>\n",
       "      <th>CRSArrTime</th>\n",
       "      <th>UniqueCarrier</th>\n",
       "      <th>FlightNum</th>\n",
       "      <th>ActualElapsedTime</th>\n",
       "      <th>Origin</th>\n",
       "      <th>Dest</th>\n",
       "      <th>Distance</th>\n",
       "      <th>Diverted</th>\n",
       "      <th>ArrDelay</th>\n",
       "    </tr>\n",
       "  </thead>\n",
       "  <tbody>\n",
       "    <tr>\n",
       "      <th>0</th>\n",
       "      <td>1987</td>\n",
       "      <td>10</td>\n",
       "      <td>1</td>\n",
       "      <td>4</td>\n",
       "      <td>1</td>\n",
       "      <td>556</td>\n",
       "      <td>AA</td>\n",
       "      <td>190</td>\n",
       "      <td>247</td>\n",
       "      <td>0</td>\n",
       "      <td>33</td>\n",
       "      <td>1846</td>\n",
       "      <td>0</td>\n",
       "      <td>27</td>\n",
       "    </tr>\n",
       "    <tr>\n",
       "      <th>1</th>\n",
       "      <td>1987</td>\n",
       "      <td>10</td>\n",
       "      <td>1</td>\n",
       "      <td>4</td>\n",
       "      <td>5</td>\n",
       "      <td>114</td>\n",
       "      <td>EA</td>\n",
       "      <td>57</td>\n",
       "      <td>74</td>\n",
       "      <td>1</td>\n",
       "      <td>0</td>\n",
       "      <td>337</td>\n",
       "      <td>0</td>\n",
       "      <td>5</td>\n",
       "    </tr>\n",
       "    <tr>\n",
       "      <th>2</th>\n",
       "      <td>1987</td>\n",
       "      <td>10</td>\n",
       "      <td>1</td>\n",
       "      <td>4</td>\n",
       "      <td>5</td>\n",
       "      <td>35</td>\n",
       "      <td>HP</td>\n",
       "      <td>351</td>\n",
       "      <td>167</td>\n",
       "      <td>2</td>\n",
       "      <td>4</td>\n",
       "      <td>987</td>\n",
       "      <td>0</td>\n",
       "      <td>17</td>\n",
       "    </tr>\n",
       "    <tr>\n",
       "      <th>3</th>\n",
       "      <td>1987</td>\n",
       "      <td>10</td>\n",
       "      <td>1</td>\n",
       "      <td>4</td>\n",
       "      <td>5</td>\n",
       "      <td>40</td>\n",
       "      <td>DL</td>\n",
       "      <td>251</td>\n",
       "      <td>35</td>\n",
       "      <td>3</td>\n",
       "      <td>41</td>\n",
       "      <td>142</td>\n",
       "      <td>0</td>\n",
       "      <td>-2</td>\n",
       "    </tr>\n",
       "    <tr>\n",
       "      <th>4</th>\n",
       "      <td>1987</td>\n",
       "      <td>10</td>\n",
       "      <td>1</td>\n",
       "      <td>4</td>\n",
       "      <td>8</td>\n",
       "      <td>517</td>\n",
       "      <td>UA</td>\n",
       "      <td>500</td>\n",
       "      <td>208</td>\n",
       "      <td>4</td>\n",
       "      <td>33</td>\n",
       "      <td>1515</td>\n",
       "      <td>0</td>\n",
       "      <td>17</td>\n",
       "    </tr>\n",
       "  </tbody>\n",
       "</table>\n",
       "</div>"
      ],
      "text/plain": [
       "   Year  Month  DayofMonth  DayofWeek  CRSDepTime  CRSArrTime UniqueCarrier  \\\n",
       "0  1987     10           1          4           1         556            AA   \n",
       "1  1987     10           1          4           5         114            EA   \n",
       "2  1987     10           1          4           5          35            HP   \n",
       "3  1987     10           1          4           5          40            DL   \n",
       "4  1987     10           1          4           8         517            UA   \n",
       "\n",
       "   FlightNum  ActualElapsedTime  Origin  Dest  Distance  Diverted  ArrDelay  \n",
       "0        190                247       0    33      1846         0        27  \n",
       "1         57                 74       1     0       337         0         5  \n",
       "2        351                167       2     4       987         0        17  \n",
       "3        251                 35       3    41       142         0        -2  \n",
       "4        500                208       4    33      1515         0        17  "
      ]
     },
     "execution_count": 5,
     "metadata": {},
     "output_type": "execute_result"
    }
   ],
   "source": [
    "df_plane_numeric.head()"
   ]
  },
  {
   "cell_type": "code",
   "execution_count": 6,
   "metadata": {
    "collapsed": false,
    "deletable": true,
    "editable": true
   },
   "outputs": [
    {
     "name": "stdout",
     "output_type": "stream",
     "text": [
      "CPU times: user 1min 7s, sys: 9.43 s, total: 1min 17s\n",
      "Wall time: 1min 17s\n"
     ]
    }
   ],
   "source": [
    "%%time\n",
    "df_plane_numeric = convert_cols_categorical_to_numeric(df_plane_numeric, col_list='UniqueCarrier')\n"
   ]
  },
  {
   "cell_type": "code",
   "execution_count": 7,
   "metadata": {
    "collapsed": false,
    "deletable": true,
    "editable": true
   },
   "outputs": [
    {
     "data": {
      "text/html": [
       "<div>\n",
       "<table border=\"1\" class=\"dataframe\">\n",
       "  <thead>\n",
       "    <tr style=\"text-align: right;\">\n",
       "      <th></th>\n",
       "      <th>Year</th>\n",
       "      <th>Month</th>\n",
       "      <th>DayofMonth</th>\n",
       "      <th>DayofWeek</th>\n",
       "      <th>CRSDepTime</th>\n",
       "      <th>CRSArrTime</th>\n",
       "      <th>UniqueCarrier</th>\n",
       "      <th>FlightNum</th>\n",
       "      <th>ActualElapsedTime</th>\n",
       "      <th>Origin</th>\n",
       "      <th>Dest</th>\n",
       "      <th>Distance</th>\n",
       "      <th>Diverted</th>\n",
       "      <th>ArrDelay</th>\n",
       "    </tr>\n",
       "  </thead>\n",
       "  <tbody>\n",
       "    <tr>\n",
       "      <th>0</th>\n",
       "      <td>1987</td>\n",
       "      <td>10</td>\n",
       "      <td>1</td>\n",
       "      <td>4</td>\n",
       "      <td>1</td>\n",
       "      <td>556</td>\n",
       "      <td>0</td>\n",
       "      <td>190</td>\n",
       "      <td>247</td>\n",
       "      <td>0</td>\n",
       "      <td>33</td>\n",
       "      <td>1846</td>\n",
       "      <td>0</td>\n",
       "      <td>27</td>\n",
       "    </tr>\n",
       "    <tr>\n",
       "      <th>1</th>\n",
       "      <td>1987</td>\n",
       "      <td>10</td>\n",
       "      <td>1</td>\n",
       "      <td>4</td>\n",
       "      <td>5</td>\n",
       "      <td>114</td>\n",
       "      <td>1</td>\n",
       "      <td>57</td>\n",
       "      <td>74</td>\n",
       "      <td>1</td>\n",
       "      <td>0</td>\n",
       "      <td>337</td>\n",
       "      <td>0</td>\n",
       "      <td>5</td>\n",
       "    </tr>\n",
       "    <tr>\n",
       "      <th>2</th>\n",
       "      <td>1987</td>\n",
       "      <td>10</td>\n",
       "      <td>1</td>\n",
       "      <td>4</td>\n",
       "      <td>5</td>\n",
       "      <td>35</td>\n",
       "      <td>2</td>\n",
       "      <td>351</td>\n",
       "      <td>167</td>\n",
       "      <td>2</td>\n",
       "      <td>4</td>\n",
       "      <td>987</td>\n",
       "      <td>0</td>\n",
       "      <td>17</td>\n",
       "    </tr>\n",
       "    <tr>\n",
       "      <th>3</th>\n",
       "      <td>1987</td>\n",
       "      <td>10</td>\n",
       "      <td>1</td>\n",
       "      <td>4</td>\n",
       "      <td>5</td>\n",
       "      <td>40</td>\n",
       "      <td>3</td>\n",
       "      <td>251</td>\n",
       "      <td>35</td>\n",
       "      <td>3</td>\n",
       "      <td>41</td>\n",
       "      <td>142</td>\n",
       "      <td>0</td>\n",
       "      <td>-2</td>\n",
       "    </tr>\n",
       "    <tr>\n",
       "      <th>4</th>\n",
       "      <td>1987</td>\n",
       "      <td>10</td>\n",
       "      <td>1</td>\n",
       "      <td>4</td>\n",
       "      <td>8</td>\n",
       "      <td>517</td>\n",
       "      <td>4</td>\n",
       "      <td>500</td>\n",
       "      <td>208</td>\n",
       "      <td>4</td>\n",
       "      <td>33</td>\n",
       "      <td>1515</td>\n",
       "      <td>0</td>\n",
       "      <td>17</td>\n",
       "    </tr>\n",
       "  </tbody>\n",
       "</table>\n",
       "</div>"
      ],
      "text/plain": [
       "   Year  Month  DayofMonth  DayofWeek  CRSDepTime  CRSArrTime  UniqueCarrier  \\\n",
       "0  1987     10           1          4           1         556              0   \n",
       "1  1987     10           1          4           5         114              1   \n",
       "2  1987     10           1          4           5          35              2   \n",
       "3  1987     10           1          4           5          40              3   \n",
       "4  1987     10           1          4           8         517              4   \n",
       "\n",
       "   FlightNum  ActualElapsedTime  Origin  Dest  Distance  Diverted  ArrDelay  \n",
       "0        190                247       0    33      1846         0        27  \n",
       "1         57                 74       1     0       337         0         5  \n",
       "2        351                167       2     4       987         0        17  \n",
       "3        251                 35       3    41       142         0        -2  \n",
       "4        500                208       4    33      1515         0        17  "
      ]
     },
     "execution_count": 7,
     "metadata": {},
     "output_type": "execute_result"
    }
   ],
   "source": [
    "df_plane_numeric.head()"
   ]
  },
  {
   "cell_type": "markdown",
   "metadata": {
    "deletable": true,
    "editable": true
   },
   "source": [
    "To simplify the pipeline, we are going to set a classification problem where the goal is to classify wheather a flight has arrived delayed or not. For that we need to binarize the variable `ArrDelay`.\n",
    "\n",
    "If you want to extend this experiment, you can set a regression problem and try to identify the number of minutes of delay a fight has. Both XGBoost and LightGBM have regression classes."
   ]
  },
  {
   "cell_type": "code",
   "execution_count": 8,
   "metadata": {
    "collapsed": false,
    "deletable": true,
    "editable": true
   },
   "outputs": [
    {
     "name": "stdout",
     "output_type": "stream",
     "text": [
      "CPU times: user 41.8 s, sys: 5.41 s, total: 47.2 s\n",
      "Wall time: 47.3 s\n"
     ]
    }
   ],
   "source": [
    "%%time\n",
    "df_plane_numeric['ArrDelayBinary'] = 1*(df_plane_numeric['ArrDelay'] > 0)"
   ]
  },
  {
   "cell_type": "code",
   "execution_count": 9,
   "metadata": {
    "collapsed": false,
    "deletable": true,
    "editable": true
   },
   "outputs": [
    {
     "data": {
      "text/html": [
       "<div>\n",
       "<table border=\"1\" class=\"dataframe\">\n",
       "  <thead>\n",
       "    <tr style=\"text-align: right;\">\n",
       "      <th></th>\n",
       "      <th>Year</th>\n",
       "      <th>Month</th>\n",
       "      <th>DayofMonth</th>\n",
       "      <th>DayofWeek</th>\n",
       "      <th>CRSDepTime</th>\n",
       "      <th>CRSArrTime</th>\n",
       "      <th>UniqueCarrier</th>\n",
       "      <th>FlightNum</th>\n",
       "      <th>ActualElapsedTime</th>\n",
       "      <th>Origin</th>\n",
       "      <th>Dest</th>\n",
       "      <th>Distance</th>\n",
       "      <th>Diverted</th>\n",
       "      <th>ArrDelay</th>\n",
       "      <th>ArrDelayBinary</th>\n",
       "    </tr>\n",
       "  </thead>\n",
       "  <tbody>\n",
       "    <tr>\n",
       "      <th>0</th>\n",
       "      <td>1987</td>\n",
       "      <td>10</td>\n",
       "      <td>1</td>\n",
       "      <td>4</td>\n",
       "      <td>1</td>\n",
       "      <td>556</td>\n",
       "      <td>0</td>\n",
       "      <td>190</td>\n",
       "      <td>247</td>\n",
       "      <td>0</td>\n",
       "      <td>33</td>\n",
       "      <td>1846</td>\n",
       "      <td>0</td>\n",
       "      <td>27</td>\n",
       "      <td>1</td>\n",
       "    </tr>\n",
       "    <tr>\n",
       "      <th>1</th>\n",
       "      <td>1987</td>\n",
       "      <td>10</td>\n",
       "      <td>1</td>\n",
       "      <td>4</td>\n",
       "      <td>5</td>\n",
       "      <td>114</td>\n",
       "      <td>1</td>\n",
       "      <td>57</td>\n",
       "      <td>74</td>\n",
       "      <td>1</td>\n",
       "      <td>0</td>\n",
       "      <td>337</td>\n",
       "      <td>0</td>\n",
       "      <td>5</td>\n",
       "      <td>1</td>\n",
       "    </tr>\n",
       "    <tr>\n",
       "      <th>2</th>\n",
       "      <td>1987</td>\n",
       "      <td>10</td>\n",
       "      <td>1</td>\n",
       "      <td>4</td>\n",
       "      <td>5</td>\n",
       "      <td>35</td>\n",
       "      <td>2</td>\n",
       "      <td>351</td>\n",
       "      <td>167</td>\n",
       "      <td>2</td>\n",
       "      <td>4</td>\n",
       "      <td>987</td>\n",
       "      <td>0</td>\n",
       "      <td>17</td>\n",
       "      <td>1</td>\n",
       "    </tr>\n",
       "    <tr>\n",
       "      <th>3</th>\n",
       "      <td>1987</td>\n",
       "      <td>10</td>\n",
       "      <td>1</td>\n",
       "      <td>4</td>\n",
       "      <td>5</td>\n",
       "      <td>40</td>\n",
       "      <td>3</td>\n",
       "      <td>251</td>\n",
       "      <td>35</td>\n",
       "      <td>3</td>\n",
       "      <td>41</td>\n",
       "      <td>142</td>\n",
       "      <td>0</td>\n",
       "      <td>-2</td>\n",
       "      <td>0</td>\n",
       "    </tr>\n",
       "    <tr>\n",
       "      <th>4</th>\n",
       "      <td>1987</td>\n",
       "      <td>10</td>\n",
       "      <td>1</td>\n",
       "      <td>4</td>\n",
       "      <td>8</td>\n",
       "      <td>517</td>\n",
       "      <td>4</td>\n",
       "      <td>500</td>\n",
       "      <td>208</td>\n",
       "      <td>4</td>\n",
       "      <td>33</td>\n",
       "      <td>1515</td>\n",
       "      <td>0</td>\n",
       "      <td>17</td>\n",
       "      <td>1</td>\n",
       "    </tr>\n",
       "  </tbody>\n",
       "</table>\n",
       "</div>"
      ],
      "text/plain": [
       "   Year  Month  DayofMonth  DayofWeek  CRSDepTime  CRSArrTime  UniqueCarrier  \\\n",
       "0  1987     10           1          4           1         556              0   \n",
       "1  1987     10           1          4           5         114              1   \n",
       "2  1987     10           1          4           5          35              2   \n",
       "3  1987     10           1          4           5          40              3   \n",
       "4  1987     10           1          4           8         517              4   \n",
       "\n",
       "   FlightNum  ActualElapsedTime  Origin  Dest  Distance  Diverted  ArrDelay  \\\n",
       "0        190                247       0    33      1846         0        27   \n",
       "1         57                 74       1     0       337         0         5   \n",
       "2        351                167       2     4       987         0        17   \n",
       "3        251                 35       3    41       142         0        -2   \n",
       "4        500                208       4    33      1515         0        17   \n",
       "\n",
       "   ArrDelayBinary  \n",
       "0               1  \n",
       "1               1  \n",
       "2               1  \n",
       "3               0  \n",
       "4               1  "
      ]
     },
     "execution_count": 9,
     "metadata": {},
     "output_type": "execute_result"
    }
   ],
   "source": [
    "df_plane_numeric.head()"
   ]
  },
  {
   "cell_type": "markdown",
   "metadata": {
    "deletable": true,
    "editable": true
   },
   "source": [
    "Once the features are prepared, let's split the dataset into train, validation and test set."
   ]
  },
  {
   "cell_type": "code",
   "execution_count": 10,
   "metadata": {
    "collapsed": true,
    "deletable": true,
    "editable": true
   },
   "outputs": [],
   "source": [
    "def split_train_val_test_df(df, val_size=0.2, test_size=0.2):\n",
    "    train, validate, test = np.split(df.sample(frac=1), \n",
    "                                     [int((1-val_size-test_size)*len(df)), int((1-test_size)*len(df))])\n",
    "    return train, validate, test"
   ]
  },
  {
   "cell_type": "code",
   "execution_count": 11,
   "metadata": {
    "collapsed": false,
    "deletable": true,
    "editable": true
   },
   "outputs": [
    {
     "name": "stdout",
     "output_type": "stream",
     "text": [
      "(69041410, 15)\n",
      "(23013803, 15)\n",
      "(23013804, 15)\n",
      "CPU times: user 47.9 s, sys: 15.1 s, total: 1min 3s\n",
      "Wall time: 1min 3s\n"
     ]
    }
   ],
   "source": [
    "%%time\n",
    "train, validate, test = split_train_val_test_df(df_plane_numeric)\n",
    "print(train.shape)\n",
    "print(validate.shape)\n",
    "print(test.shape)"
   ]
  },
  {
   "cell_type": "code",
   "execution_count": 12,
   "metadata": {
    "collapsed": true,
    "deletable": true,
    "editable": true
   },
   "outputs": [],
   "source": [
    "def generate_feables(df):\n",
    "    X = df[df.columns.difference(['ArrDelay', 'ArrDelayBinary'])]\n",
    "    y = df['ArrDelayBinary']\n",
    "    return X,y"
   ]
  },
  {
   "cell_type": "code",
   "execution_count": 13,
   "metadata": {
    "collapsed": false,
    "deletable": true,
    "editable": true
   },
   "outputs": [
    {
     "name": "stdout",
     "output_type": "stream",
     "text": [
      "CPU times: user 1.9 s, sys: 2.56 s, total: 4.45 s\n",
      "Wall time: 4.44 s\n"
     ]
    }
   ],
   "source": [
    "%%time\n",
    "X_train, y_train = generate_feables(train)\n",
    "X_val, y_val = generate_feables(validate)\n",
    "X_test, y_test = generate_feables(test)\n"
   ]
  },
  {
   "cell_type": "markdown",
   "metadata": {
    "deletable": true,
    "editable": true
   },
   "source": [
    "### Training \n",
    "Now we are going to create two pipelines, one of XGBoost and one for LightGBM. The technology behind both libraries is different, so it is difficult to compare them in the exact same model setting. XGBoost grows the trees depth-wise and controls model complexity with `max_depth`. Instead, LightGBM uses a leaf-wise algorithm and controls the model complexity by `num_leaves`. As a tradeoff, we use XGBoost with `max_depth=8`, which will have max number leaves of 255, and compare it with LightGBM with `num_leaves=255`. "
   ]
  },
  {
   "cell_type": "code",
   "execution_count": 14,
   "metadata": {
    "collapsed": true,
    "deletable": true,
    "editable": true
   },
   "outputs": [],
   "source": [
    "results_dict = dict()"
   ]
  },
  {
   "cell_type": "markdown",
   "metadata": {
    "collapsed": true,
    "deletable": true,
    "editable": true
   },
   "source": [
    "Let's start with the XGBoost classifier."
   ]
  },
  {
   "cell_type": "code",
   "execution_count": 15,
   "metadata": {
    "collapsed": false,
    "deletable": true,
    "editable": true
   },
   "outputs": [],
   "source": [
    "xgb_clf_pipeline = XGBRegressor(max_depth=8,\n",
    "                                n_estimators=50,\n",
    "                                min_child_weight=30,\n",
    "                                learning_rate=0.1,\n",
    "                                subsample=0.80,\n",
    "                                colsample_bytree=0.80,\n",
    "                                scale_pos_weight=2,\n",
    "                                gamma=0.1,\n",
    "                                reg_lambda=1,\n",
    "                                subsample=1,\n",
    "                                seed=77)"
   ]
  },
  {
   "cell_type": "code",
   "execution_count": 16,
   "metadata": {
    "collapsed": false,
    "deletable": true,
    "editable": true
   },
   "outputs": [
    {
     "name": "stdout",
     "output_type": "stream",
     "text": [
      "[0]\tvalidation_0-logloss:0.679831\n",
      "[1]\tvalidation_0-logloss:0.670602\n",
      "[2]\tvalidation_0-logloss:0.660768\n",
      "[3]\tvalidation_0-logloss:0.6572\n",
      "[4]\tvalidation_0-logloss:0.649398\n",
      "[5]\tvalidation_0-logloss:0.647014\n",
      "[6]\tvalidation_0-logloss:0.641382\n",
      "[7]\tvalidation_0-logloss:0.635409\n",
      "[8]\tvalidation_0-logloss:0.633408\n",
      "[9]\tvalidation_0-logloss:0.631387\n",
      "[10]\tvalidation_0-logloss:0.62996\n",
      "[11]\tvalidation_0-logloss:0.628438\n",
      "[12]\tvalidation_0-logloss:0.622978\n",
      "[13]\tvalidation_0-logloss:0.618856\n",
      "[14]\tvalidation_0-logloss:0.614961\n",
      "[15]\tvalidation_0-logloss:0.611483\n",
      "[16]\tvalidation_0-logloss:0.610361\n",
      "[17]\tvalidation_0-logloss:0.607326\n",
      "[18]\tvalidation_0-logloss:0.604654\n",
      "[19]\tvalidation_0-logloss:0.603141\n",
      "[20]\tvalidation_0-logloss:0.600735\n",
      "[21]\tvalidation_0-logloss:0.598604\n",
      "[22]\tvalidation_0-logloss:0.597056\n",
      "[23]\tvalidation_0-logloss:0.59516\n",
      "[24]\tvalidation_0-logloss:0.594141\n",
      "[25]\tvalidation_0-logloss:0.592133\n",
      "[26]\tvalidation_0-logloss:0.591262\n",
      "[27]\tvalidation_0-logloss:0.589253\n",
      "[28]\tvalidation_0-logloss:0.586778\n",
      "[29]\tvalidation_0-logloss:0.585036\n",
      "[30]\tvalidation_0-logloss:0.584401\n",
      "[31]\tvalidation_0-logloss:0.582609\n",
      "[32]\tvalidation_0-logloss:0.580926\n",
      "[33]\tvalidation_0-logloss:0.580161\n",
      "[34]\tvalidation_0-logloss:0.578362\n",
      "[35]\tvalidation_0-logloss:0.577603\n",
      "[36]\tvalidation_0-logloss:0.576146\n",
      "[37]\tvalidation_0-logloss:0.575125\n",
      "[38]\tvalidation_0-logloss:0.574199\n",
      "[39]\tvalidation_0-logloss:0.573131\n",
      "[40]\tvalidation_0-logloss:0.572384\n",
      "[41]\tvalidation_0-logloss:0.572002\n",
      "[42]\tvalidation_0-logloss:0.571109\n",
      "[43]\tvalidation_0-logloss:0.570589\n",
      "[44]\tvalidation_0-logloss:0.570154\n",
      "[45]\tvalidation_0-logloss:0.568545\n",
      "[46]\tvalidation_0-logloss:0.568131\n",
      "[47]\tvalidation_0-logloss:0.567643\n",
      "[48]\tvalidation_0-logloss:0.56721\n",
      "[49]\tvalidation_0-logloss:0.565714\n"
     ]
    }
   ],
   "source": [
    "with Timer() as t:\n",
    "    xgb_clf_pipeline.fit(X_train, y_train, eval_set=[(X_val, y_val)], verbose=True, eval_metric='logloss')"
   ]
  },
  {
   "cell_type": "code",
   "execution_count": 17,
   "metadata": {
    "collapsed": true,
    "deletable": true,
    "editable": true
   },
   "outputs": [],
   "source": [
    "results_dict['xgb']={\n",
    "    'train_time': t.interval\n",
    "}"
   ]
  },
  {
   "cell_type": "markdown",
   "metadata": {},
   "source": [
    "Training XGBoost model with leave-wise growth"
   ]
  },
  {
   "cell_type": "code",
   "execution_count": null,
   "metadata": {
    "collapsed": true
   },
   "outputs": [],
   "source": [
    "xgb_hist_clf_pipeline = XGBRegressor(max_depth=0,\n",
    "                                    n_estimators=50,\n",
    "                                    min_child_weight=30,\n",
    "                                    learning_rate=0.1,\n",
    "                                    subsample=0.80,\n",
    "                                    colsample_bytree=0.80,\n",
    "                                    scale_pos_weight=2,\n",
    "                                    gamma=0.1,\n",
    "                                    reg_lambda=1,\n",
    "                                    subsample=1,\n",
    "                                    max_leaves=255,\n",
    "                                    grow_policy='lossguide',\n",
    "                                    tree_method='hist'\n",
    "                                    seed=77)"
   ]
  },
  {
   "cell_type": "code",
   "execution_count": null,
   "metadata": {
    "collapsed": true
   },
   "outputs": [],
   "source": [
    "with Timer() as t:\n",
    "    xgb_hist_clf_pipeline.fit(X_train, y_train, eval_set=[(X_val, y_val)], verbose=True, eval_metric='logloss')"
   ]
  },
  {
   "cell_type": "code",
   "execution_count": null,
   "metadata": {
    "collapsed": true
   },
   "outputs": [],
   "source": [
    "results_dict['xgb_hist']={\n",
    "    'train_time': t.interval\n",
    "}"
   ]
  },
  {
   "cell_type": "markdown",
   "metadata": {
    "deletable": true,
    "editable": true
   },
   "source": [
    "Training LightGBM model"
   ]
  },
  {
   "cell_type": "code",
   "execution_count": 18,
   "metadata": {
    "collapsed": true,
    "deletable": true,
    "editable": true
   },
   "outputs": [],
   "source": [
    "lgbm_clf_pipeline = LGBMRegressor(num_leaves=255,\n",
    "                                  n_estimators=50,\n",
    "                                  min_child_weight=30,\n",
    "                                  learning_rate=0.1,\n",
    "                                  subsample=0.80,\n",
    "                                  colsample_bytree=0.80,\n",
    "                                  scale_pos_weight=2,\n",
    "                                  min_split_gain=0.1,\n",
    "                                  reg_lambda=1,\n",
    "                                  subsample=1,\n",
    "                                  seed=77)"
   ]
  },
  {
   "cell_type": "code",
   "execution_count": 19,
   "metadata": {
    "collapsed": true,
    "deletable": true,
    "editable": true
   },
   "outputs": [],
   "source": [
    "def loglikelood(y_true, y_pred):\n",
    "    eval_result = log_loss(y_true, y_pred)\n",
    "    eval_name = 'log_loss'\n",
    "    is_bigger_better = False\n",
    "    return eval_name, eval_result, is_bigger_better"
   ]
  },
  {
   "cell_type": "code",
   "execution_count": 20,
   "metadata": {
    "collapsed": false,
    "deletable": true,
    "editable": true
   },
   "outputs": [
    {
     "name": "stdout",
     "output_type": "stream",
     "text": [
      "[1]\tvalid_0's log_loss: 0.687287\n",
      "[2]\tvalid_0's log_loss: 0.671999\n",
      "[3]\tvalid_0's log_loss: 0.657857\n",
      "[4]\tvalid_0's log_loss: 0.646298\n",
      "[5]\tvalid_0's log_loss: 0.636238\n",
      "[6]\tvalid_0's log_loss: 0.627565\n",
      "[7]\tvalid_0's log_loss: 0.619954\n",
      "[8]\tvalid_0's log_loss: 0.618035\n",
      "[9]\tvalid_0's log_loss: 0.611256\n",
      "[10]\tvalid_0's log_loss: 0.604873\n",
      "[11]\tvalid_0's log_loss: 0.599851\n",
      "[12]\tvalid_0's log_loss: 0.598094\n",
      "[13]\tvalid_0's log_loss: 0.596536\n",
      "[14]\tvalid_0's log_loss: 0.591497\n",
      "[15]\tvalid_0's log_loss: 0.590321\n",
      "[16]\tvalid_0's log_loss: 0.58874\n",
      "[17]\tvalid_0's log_loss: 0.584165\n",
      "[18]\tvalid_0's log_loss: 0.582917\n",
      "[19]\tvalid_0's log_loss: 0.581757\n",
      "[20]\tvalid_0's log_loss: 0.580573\n",
      "[21]\tvalid_0's log_loss: 0.579435\n",
      "[22]\tvalid_0's log_loss: 0.578217\n",
      "[23]\tvalid_0's log_loss: 0.574543\n",
      "[24]\tvalid_0's log_loss: 0.571101\n",
      "[25]\tvalid_0's log_loss: 0.567958\n",
      "[26]\tvalid_0's log_loss: 0.565488\n",
      "[27]\tvalid_0's log_loss: 0.564448\n",
      "[28]\tvalid_0's log_loss: 0.562955\n",
      "[29]\tvalid_0's log_loss: 0.561038\n",
      "[30]\tvalid_0's log_loss: 0.559918\n",
      "[31]\tvalid_0's log_loss: 0.558399\n",
      "[32]\tvalid_0's log_loss: 0.556883\n",
      "[33]\tvalid_0's log_loss: 0.555252\n",
      "[34]\tvalid_0's log_loss: 0.553785\n",
      "[35]\tvalid_0's log_loss: 0.553201\n",
      "[36]\tvalid_0's log_loss: 0.552155\n",
      "[37]\tvalid_0's log_loss: 0.550952\n",
      "[38]\tvalid_0's log_loss: 0.549708\n",
      "[39]\tvalid_0's log_loss: 0.547781\n",
      "[40]\tvalid_0's log_loss: 0.54673\n",
      "[41]\tvalid_0's log_loss: 0.546171\n",
      "[42]\tvalid_0's log_loss: 0.544874\n",
      "[43]\tvalid_0's log_loss: 0.54427\n",
      "[44]\tvalid_0's log_loss: 0.543711\n",
      "[45]\tvalid_0's log_loss: 0.542963\n",
      "[46]\tvalid_0's log_loss: 0.542375\n",
      "[47]\tvalid_0's log_loss: 0.541806\n",
      "[48]\tvalid_0's log_loss: 0.540216\n",
      "[49]\tvalid_0's log_loss: 0.538639\n",
      "[50]\tvalid_0's log_loss: 0.538326\n"
     ]
    }
   ],
   "source": [
    "with Timer() as t:\n",
    "    lgbm_clf_pipeline.fit(X_train, y_train, eval_set=[(X_val, y_val)], verbose=True, eval_metric=loglikelood)"
   ]
  },
  {
   "cell_type": "code",
   "execution_count": 21,
   "metadata": {
    "collapsed": true,
    "deletable": true,
    "editable": true
   },
   "outputs": [],
   "source": [
    "results_dict['lgbm']={\n",
    "    'train_time': t.interval\n",
    "}"
   ]
  },
  {
   "cell_type": "markdown",
   "metadata": {
    "deletable": true,
    "editable": true
   },
   "source": [
    "As it can be seen in the results, given the specific versions and parameters of both XGBoost and LightGBM and in this specific dataset, LightGBM is faster. \n",
    "\n",
    "In general terms, leaf-wise algorithms are more efficient, they converge much faster than depth-wise. However, it may cause over-fitting when the data is small or there are too many leaves."
   ]
  },
  {
   "cell_type": "markdown",
   "metadata": {
    "deletable": true,
    "editable": true
   },
   "source": [
    "### Evaluation\n",
    "Now let's evaluate the model in the test set."
   ]
  },
  {
   "cell_type": "code",
   "execution_count": 22,
   "metadata": {
    "collapsed": false,
    "deletable": true,
    "editable": true
   },
   "outputs": [],
   "source": [
    "with Timer() as t:\n",
    "    y_prob_xgb = np.clip(xgb_clf_pipeline.predict(X_test), 0.0001, 0.9999)"
   ]
  },
  {
   "cell_type": "code",
   "execution_count": 23,
   "metadata": {
    "collapsed": true,
    "deletable": true,
    "editable": true
   },
   "outputs": [],
   "source": [
    "results_dict['xgb']['test_time'] = t.interval"
   ]
  },
  {
   "cell_type": "code",
   "execution_count": null,
   "metadata": {
    "collapsed": true
   },
   "outputs": [],
   "source": [
    "with Timer() as t:\n",
    "    y_prob_xgb_hist = np.clip(xgb_hist_clf_pipeline.predict(X_test), 0.0001, 0.9999)"
   ]
  },
  {
   "cell_type": "code",
   "execution_count": null,
   "metadata": {
    "collapsed": true
   },
   "outputs": [],
   "source": [
    "results_dict['xgb_hist']['test_time'] = t.interval"
   ]
  },
  {
   "cell_type": "code",
   "execution_count": 24,
   "metadata": {
    "collapsed": false,
    "deletable": true,
    "editable": true
   },
   "outputs": [],
   "source": [
    "with Timer() as t:\n",
    "    y_prob_lgbm = np.clip(lgbm_clf_pipeline.predict(X_test), 0.0001, 0.9999)"
   ]
  },
  {
   "cell_type": "code",
   "execution_count": 25,
   "metadata": {
    "collapsed": true,
    "deletable": true,
    "editable": true
   },
   "outputs": [],
   "source": [
    "results_dict['lgbm']['test_time'] = t.interval\n"
   ]
  },
  {
   "cell_type": "markdown",
   "metadata": {
    "deletable": true,
    "editable": true
   },
   "source": [
    "### Metrics\n",
    "We are going to obtain some metrics to evaluate the performance of each of the models."
   ]
  },
  {
   "cell_type": "code",
   "execution_count": 26,
   "metadata": {
    "collapsed": true,
    "deletable": true,
    "editable": true
   },
   "outputs": [],
   "source": [
    "#https://github.com/miguelgfierro/codebase/blob/master/python/machine_learning/metrics.py\n",
    "def classification_metrics_binary(y_true, y_pred):\n",
    "    m_acc = accuracy_score(y_true, y_pred)\n",
    "    m_f1 = f1_score(y_true, y_pred)\n",
    "    m_precision = precision_score(y_true, y_pred)\n",
    "    m_recall = recall_score(y_true, y_pred)\n",
    "    report = {'Accuracy':m_acc, 'Precision':m_precision, 'Recall':m_recall, 'F1':m_f1}\n",
    "    return report"
   ]
  },
  {
   "cell_type": "code",
   "execution_count": 27,
   "metadata": {
    "collapsed": true,
    "deletable": true,
    "editable": true
   },
   "outputs": [],
   "source": [
    "#https://github.com/miguelgfierro/codebase/blob/master/python/machine_learning/metrics.py\n",
    "def classification_metrics_binary_prob(y_true, y_prob):\n",
    "    m_auc = roc_auc_score(y_true, y_prob)\n",
    "    report = {'AUC':m_auc}\n",
    "    return report"
   ]
  },
  {
   "cell_type": "code",
   "execution_count": 28,
   "metadata": {
    "collapsed": true,
    "deletable": true,
    "editable": true
   },
   "outputs": [],
   "source": [
    "def binarize_prediction(y, threshold=0.5):\n",
    "    y_pred = np.where(y > threshold, 1, 0)\n",
    "    return y_pred"
   ]
  },
  {
   "cell_type": "code",
   "execution_count": 29,
   "metadata": {
    "collapsed": false,
    "deletable": true,
    "editable": true
   },
   "outputs": [],
   "source": [
    "y_pred_xgb = binarize_prediction(y_prob_xgb)\n",
    "y_pred_xgb_hist = binarize_prediction(y_prob_xgb_hist)\n",
    "y_pred_lgbm = binarize_prediction(y_prob_lgbm)\n"
   ]
  },
  {
   "cell_type": "code",
   "execution_count": 30,
   "metadata": {
    "collapsed": false,
    "deletable": true,
    "editable": true
   },
   "outputs": [
    {
     "name": "stdout",
     "output_type": "stream",
     "text": [
      "{'AUC': 0.78681859151636913, 'Recall': 0.61995607596984248, 'Accuracy': 0.71579613696197286, 'F1': 0.67435728923328775, 'Precision': 0.7392243023675803}\n"
     ]
    }
   ],
   "source": [
    "report_xgb = classification_metrics_binary(y_test, y_pred_xgb)\n",
    "report2_xgb = classification_metrics_binary_prob(y_test, y_prob_xgb)\n",
    "report_xgb.update(report2_xgb)\n",
    "print(report_xgb)"
   ]
  },
  {
   "cell_type": "code",
   "execution_count": 31,
   "metadata": {
    "collapsed": true,
    "deletable": true,
    "editable": true
   },
   "outputs": [],
   "source": [
    "results_dict['xgb']['performance'] = report_xgb"
   ]
  },
  {
   "cell_type": "code",
   "execution_count": null,
   "metadata": {
    "collapsed": true
   },
   "outputs": [],
   "source": [
    "report_xgb_hist = classification_metrics_binary(y_test, y_pred_xgb_hist)\n",
    "report2_xgb_hist = classification_metrics_binary_prob(y_test, y_prob_xgb_hist)\n",
    "report_xgb.update(report2_xgb_hist)\n",
    "print(report_xgb_hist)"
   ]
  },
  {
   "cell_type": "code",
   "execution_count": null,
   "metadata": {
    "collapsed": true
   },
   "outputs": [],
   "source": [
    "results_dict['xgb_hist']['performance'] = report_xgb_hist"
   ]
  },
  {
   "cell_type": "code",
   "execution_count": 32,
   "metadata": {
    "collapsed": false,
    "deletable": true,
    "editable": true
   },
   "outputs": [
    {
     "name": "stdout",
     "output_type": "stream",
     "text": [
      "{'AUC': 0.80881607162564162, 'Recall': 0.63225822811183696, 'Accuracy': 0.73549253309014018, 'F1': 0.69411551589200904, 'Precision': 0.76938906504543236}\n"
     ]
    }
   ],
   "source": [
    "report_lgbm = classification_metrics_binary(y_test, y_pred_lgbm)\n",
    "report2_lgbm = classification_metrics_binary_prob(y_test, y_prob_lgbm)\n",
    "report_lgbm.update(report2_lgbm)\n",
    "print(report_lgbm)"
   ]
  },
  {
   "cell_type": "code",
   "execution_count": 33,
   "metadata": {
    "collapsed": true,
    "deletable": true,
    "editable": true
   },
   "outputs": [],
   "source": [
    "results_dict['lgbm']['performance'] = report_lgbm"
   ]
  },
  {
   "cell_type": "code",
   "execution_count": 34,
   "metadata": {
    "collapsed": false,
    "deletable": true,
    "editable": true
   },
   "outputs": [
    {
     "name": "stdout",
     "output_type": "stream",
     "text": [
      "{\n",
      "    \"lgbm\": {\n",
      "        \"performance\": {\n",
      "            \"AUC\": 0.8088160716256416,\n",
      "            \"Accuracy\": 0.7354925330901402,\n",
      "            \"F1\": 0.694115515892009,\n",
      "            \"Precision\": 0.7693890650454324,\n",
      "            \"Recall\": 0.632258228111837\n",
      "        },\n",
      "        \"test_time\": 311.9520166418515,\n",
      "        \"train_time\": 638.1008581512142\n",
      "    },\n",
      "    \"xgb\": {\n",
      "        \"performance\": {\n",
      "            \"AUC\": 0.7868185915163691,\n",
      "            \"Accuracy\": 0.7157961369619729,\n",
      "            \"F1\": 0.6743572892332877,\n",
      "            \"Precision\": 0.7392243023675803,\n",
      "            \"Recall\": 0.6199560759698425\n",
      "        },\n",
      "        \"test_time\": 11.566430455073714,\n",
      "        \"train_time\": 4280.392433728091\n",
      "    }\n",
      "}\n"
     ]
    }
   ],
   "source": [
    "# Results\n",
    "print(json.dumps(results_dict, indent=4, sort_keys=True))"
   ]
  },
  {
   "cell_type": "markdown",
   "metadata": {
    "deletable": true,
    "editable": true
   },
   "source": [
    "The experiment shows a fairly similar performance in both libraries, being LightGBM slightly better."
   ]
  },
  {
   "cell_type": "markdown",
   "metadata": {
    "collapsed": true,
    "deletable": true,
    "editable": true
   },
   "source": [
    "# 2) Concept drift\n",
    "In this section we are trying to find concept drift in the dataset to check if retraining is valuable.\n",
    "\n",
    "### Data management\n",
    "We are going to pack the data yearly to try to find concept drift"
   ]
  },
  {
   "cell_type": "code",
   "execution_count": 35,
   "metadata": {
    "collapsed": true,
    "deletable": true,
    "editable": true
   },
   "outputs": [],
   "source": [
    "def get_data_list_yearly(df):\n",
    "    data_yearly = [df[df['Year'] == year] for year in range(1987, 2008)]  \n",
    "    return data_yearly"
   ]
  },
  {
   "cell_type": "code",
   "execution_count": 36,
   "metadata": {
    "collapsed": false,
    "deletable": true,
    "editable": true
   },
   "outputs": [
    {
     "name": "stdout",
     "output_type": "stream",
     "text": [
      "(1287333, 15)\n",
      "(5126498, 15)\n",
      "(290827, 15)\n",
      "(5110527, 15)\n",
      "(4995005, 15)\n",
      "(5020651, 15)\n",
      "(4993587, 15)\n",
      "(5078411, 15)\n",
      "(5219140, 15)\n",
      "(5209326, 15)\n",
      "(5301999, 15)\n",
      "(5227051, 15)\n",
      "(5360018, 15)\n",
      "(5481303, 15)\n",
      "(5723673, 15)\n",
      "(5197860, 15)\n",
      "(6375689, 15)\n",
      "(6987729, 15)\n",
      "(6992838, 15)\n",
      "(7003802, 15)\n",
      "(7275288, 15)\n",
      "CPU times: user 5.81 s, sys: 5.62 s, total: 11.4 s\n",
      "Wall time: 11.8 s\n"
     ]
    }
   ],
   "source": [
    "%%time\n",
    "data_yearly_list = get_data_list_yearly(df_plane_numeric)\n",
    "for subset in data_yearly_list:\n",
    "    print(subset.shape)"
   ]
  },
  {
   "cell_type": "code",
   "execution_count": 37,
   "metadata": {
    "collapsed": false,
    "deletable": true,
    "editable": true
   },
   "outputs": [
    {
     "name": "stdout",
     "output_type": "stream",
     "text": [
      "Number of years: 21\n"
     ]
    }
   ],
   "source": [
    "total_subsets = len(data_yearly_list)\n",
    "print(\"Number of years: {}\".format(total_subsets))\n",
    "num_ini = 5"
   ]
  },
  {
   "cell_type": "code",
   "execution_count": 38,
   "metadata": {
    "collapsed": true,
    "deletable": true,
    "editable": true
   },
   "outputs": [],
   "source": [
    "def generate_subset(data_yearly_list, num):\n",
    "    subset = data_yearly_list[0]\n",
    "    for i in range(1,num):\n",
    "        subset = pd.concat([subset, data_yearly_list[i]])\n",
    "    return subset"
   ]
  },
  {
   "cell_type": "markdown",
   "metadata": {
    "deletable": true,
    "editable": true
   },
   "source": [
    "### Traininig\n",
    "Let's see what happens when we train on a subset of data and then evaluate in the data of the following years."
   ]
  },
  {
   "cell_type": "code",
   "execution_count": 39,
   "metadata": {
    "collapsed": false,
    "deletable": true,
    "editable": true
   },
   "outputs": [
    {
     "name": "stdout",
     "output_type": "stream",
     "text": [
      "(16810190, 15)\n",
      "CPU times: user 456 ms, sys: 1.39 s, total: 1.84 s\n",
      "Wall time: 1.84 s\n"
     ]
    }
   ],
   "source": [
    "%%time\n",
    "subset_base = generate_subset(data_yearly_list, num_ini)\n",
    "print(subset_base.shape)"
   ]
  },
  {
   "cell_type": "code",
   "execution_count": 40,
   "metadata": {
    "collapsed": true,
    "deletable": true,
    "editable": true
   },
   "outputs": [],
   "source": [
    "X_train, y_train = generate_feables(subset_base)"
   ]
  },
  {
   "cell_type": "code",
   "execution_count": 41,
   "metadata": {
    "collapsed": false,
    "deletable": true,
    "editable": true
   },
   "outputs": [],
   "source": [
    "clf = LGBMClassifier(num_leaves=255,\n",
    "                    n_estimators=100,\n",
    "                    min_child_weight=30,\n",
    "                    learning_rate=0.1,\n",
    "                    subsample=0.80,\n",
    "                    colsample_bytree=0.80,\n",
    "                    seed=42)"
   ]
  },
  {
   "cell_type": "code",
   "execution_count": 42,
   "metadata": {
    "collapsed": false,
    "deletable": true,
    "editable": true
   },
   "outputs": [
    {
     "name": "stdout",
     "output_type": "stream",
     "text": [
      "CPU times: user 20min 46s, sys: 11min 22s, total: 32min 8s\n",
      "Wall time: 1min 28s\n"
     ]
    },
    {
     "data": {
      "text/plain": [
       "LGBMClassifier(boosting_type='gbdt', colsample_bytree=0.8, drop_rate=0.1,\n",
       "        is_unbalance=False, learning_rate=0.1, max_bin=255, max_depth=-1,\n",
       "        max_drop=50, min_child_samples=10, min_child_weight=30,\n",
       "        min_split_gain=0, n_estimators=100, nthread=-1, num_leaves=255,\n",
       "        objective='binary', reg_alpha=0, reg_lambda=0, scale_pos_weight=1,\n",
       "        seed=42, sigmoid=1.0, silent=True, skip_drop=0.5, subsample=0.8,\n",
       "        subsample_for_bin=50000, subsample_freq=1, uniform_drop=False,\n",
       "        xgboost_dart_mode=False)"
      ]
     },
     "execution_count": 42,
     "metadata": {},
     "output_type": "execute_result"
    }
   ],
   "source": [
    "%%time\n",
    "clf.fit(X_train, y_train)"
   ]
  },
  {
   "cell_type": "code",
   "execution_count": 43,
   "metadata": {
    "collapsed": true,
    "deletable": true,
    "editable": true
   },
   "outputs": [],
   "source": [
    "def predict_accuracy_future_years(clf, data_yearly_list, num_ini):\n",
    "    total_subsets = len(data_yearly_list)\n",
    "    accuracy_dict = {}\n",
    "    for y in range(num_ini, total_subsets):\n",
    "        year = data_yearly_list[y]['Year'].iloc[0]\n",
    "        print(\"Predicting year {}...\".format(year))\n",
    "        X_test, y_test = generate_feables(data_yearly_list[y])\n",
    "        y_pred = clf.predict(X_test)\n",
    "        acc = accuracy_score(y_test, y_pred)\n",
    "        accuracy_dict[year] = acc\n",
    "    return accuracy_dict"
   ]
  },
  {
   "cell_type": "code",
   "execution_count": 44,
   "metadata": {
    "collapsed": false,
    "deletable": true,
    "editable": true
   },
   "outputs": [
    {
     "name": "stdout",
     "output_type": "stream",
     "text": [
      "Predicting year 1992...\n",
      "Predicting year 1993...\n",
      "Predicting year 1994...\n",
      "Predicting year 1995...\n",
      "Predicting year 1996...\n",
      "Predicting year 1997...\n",
      "Predicting year 1998...\n",
      "Predicting year 1999...\n",
      "Predicting year 2000...\n",
      "Predicting year 2001...\n",
      "Predicting year 2002...\n",
      "Predicting year 2003...\n",
      "Predicting year 2004...\n",
      "Predicting year 2005...\n",
      "Predicting year 2006...\n",
      "Predicting year 2007...\n",
      "{1992: 0.75635888652686678, 1993: 0.75543231749041317, 1994: 0.74359046560036202, 1995: 0.73115034277677926, 1996: 0.72234987789207283, 1997: 0.71980907578443531, 1998: 0.70528449024124695, 1999: 0.70003570883530619, 2000: 0.68899894787790417, 2001: 0.67335170964518765, 2002: 0.67853347339097247, 2003: 0.68455330866985509, 2004: 0.68012640444413341, 2005: 0.67296453886104612, 2006: 0.66332086486739628, 2007: 0.65060764604782662}\n",
      "CPU times: user 5h 4min 40s, sys: 3h 55min 33s, total: 9h 14s\n",
      "Wall time: 24min 12s\n"
     ]
    }
   ],
   "source": [
    "%%time\n",
    "accuracy_dict = predict_accuracy_future_years(clf, data_yearly_list, num_ini)\n",
    "print(accuracy_dict)"
   ]
  },
  {
   "cell_type": "markdown",
   "metadata": {
    "deletable": true,
    "editable": true
   },
   "source": [
    "From the results we can observe that the accuracy of the model gets worse as the years pass on."
   ]
  },
  {
   "cell_type": "markdown",
   "metadata": {
    "deletable": true,
    "editable": true
   },
   "source": [
    "### Retraining\n",
    "Now let's see what happens when we retrain and evaluate in the data of the following years."
   ]
  },
  {
   "cell_type": "code",
   "execution_count": 45,
   "metadata": {
    "collapsed": true,
    "deletable": true,
    "editable": true
   },
   "outputs": [],
   "source": [
    "new_init = 15"
   ]
  },
  {
   "cell_type": "code",
   "execution_count": 46,
   "metadata": {
    "collapsed": false,
    "deletable": true,
    "editable": true
   },
   "outputs": [
    {
     "name": "stdout",
     "output_type": "stream",
     "text": [
      "(69425349, 15)\n",
      "CPU times: user 5.81 s, sys: 1min 12s, total: 1min 18s\n",
      "Wall time: 1min 19s\n"
     ]
    }
   ],
   "source": [
    "%%time\n",
    "subset_retrain = generate_subset(data_yearly_list, new_init)\n",
    "print(subset_retrain.shape)"
   ]
  },
  {
   "cell_type": "code",
   "execution_count": 47,
   "metadata": {
    "collapsed": true,
    "deletable": true,
    "editable": true
   },
   "outputs": [],
   "source": [
    "X_train, y_train = generate_feables(subset_retrain)"
   ]
  },
  {
   "cell_type": "code",
   "execution_count": 48,
   "metadata": {
    "collapsed": true,
    "deletable": true,
    "editable": true
   },
   "outputs": [],
   "source": [
    "clf_retrain = LGBMClassifier(num_leaves=255,\n",
    "                    n_estimators=100,\n",
    "                    min_child_weight=30,\n",
    "                    learning_rate=0.1,\n",
    "                    subsample=0.80,\n",
    "                    colsample_bytree=0.80,\n",
    "                    seed=42)"
   ]
  },
  {
   "cell_type": "code",
   "execution_count": 49,
   "metadata": {
    "collapsed": false,
    "deletable": true,
    "editable": true
   },
   "outputs": [
    {
     "name": "stdout",
     "output_type": "stream",
     "text": [
      "CPU times: user 1h 31min 45s, sys: 40min 34s, total: 2h 12min 19s\n",
      "Wall time: 6min 56s\n"
     ]
    },
    {
     "data": {
      "text/plain": [
       "LGBMClassifier(boosting_type='gbdt', colsample_bytree=0.8, drop_rate=0.1,\n",
       "        is_unbalance=False, learning_rate=0.1, max_bin=255, max_depth=-1,\n",
       "        max_drop=50, min_child_samples=10, min_child_weight=30,\n",
       "        min_split_gain=0, n_estimators=100, nthread=-1, num_leaves=255,\n",
       "        objective='binary', reg_alpha=0, reg_lambda=0, scale_pos_weight=1,\n",
       "        seed=42, sigmoid=1.0, silent=True, skip_drop=0.5, subsample=0.8,\n",
       "        subsample_for_bin=50000, subsample_freq=1, uniform_drop=False,\n",
       "        xgboost_dart_mode=False)"
      ]
     },
     "execution_count": 49,
     "metadata": {},
     "output_type": "execute_result"
    }
   ],
   "source": [
    "%%time\n",
    "clf_retrain.fit(X_train, y_train)"
   ]
  },
  {
   "cell_type": "code",
   "execution_count": 50,
   "metadata": {
    "collapsed": false,
    "deletable": true,
    "editable": true
   },
   "outputs": [
    {
     "name": "stdout",
     "output_type": "stream",
     "text": [
      "Predicting year 2002...\n",
      "Predicting year 2003...\n",
      "Predicting year 2004...\n",
      "Predicting year 2005...\n",
      "Predicting year 2006...\n",
      "Predicting year 2007...\n",
      "{2002: 0.75089709996036835, 2003: 0.74953483458807357, 2004: 0.72610099790647287, 2005: 0.72036803941404048, 2006: 0.70790022333583957, 2007: 0.6962276957283341}\n",
      "CPU times: user 2h 50min 46s, sys: 1h 12min 58s, total: 4h 3min 44s\n",
      "Wall time: 11min 14s\n"
     ]
    }
   ],
   "source": [
    "%%time\n",
    "accuracy_retrain = predict_accuracy_future_years(clf_retrain, data_yearly_list, new_init)\n",
    "print(accuracy_retrain)"
   ]
  },
  {
   "cell_type": "markdown",
   "metadata": {
    "deletable": true,
    "editable": true
   },
   "source": [
    "### Plot"
   ]
  },
  {
   "cell_type": "code",
   "execution_count": 54,
   "metadata": {
    "collapsed": true,
    "deletable": true,
    "editable": true
   },
   "outputs": [],
   "source": [
    "def plot_metrics(metric1, metric2, legend1=None, legend2=None, x_label=None, y_label=None):\n",
    "    lists = sorted(metric1.items()) \n",
    "    x, y = zip(*lists) \n",
    "    fig, ax = plt.subplots()\n",
    "    ax.plot(x, y, label=legend1, color='#5f9e6f')\n",
    "    lists2 = sorted(metric2.items()) \n",
    "    x2, y2 = zip(*lists2) \n",
    "    ax.plot(x2, y2, label=legend2, color='#a2cfae')\n",
    "    legend = ax.legend(loc=0)\n",
    "    ax.set_xlabel(x_label)\n",
    "    ax.set_ylabel(y_label)\n",
    "    plt.show()\n",
    "    return ax"
   ]
  },
  {
   "cell_type": "code",
   "execution_count": 55,
   "metadata": {
    "collapsed": false,
    "deletable": true,
    "editable": true
   },
   "outputs": [
    {
     "data": {
      "image/png": "[encoded data removed]",
      "text/plain": [
       "<matplotlib.figure.Figure at 0x7fb3c28105c0>"
      ]
     },
     "metadata": {},
     "output_type": "display_data"
    }
   ],
   "source": [
    "# Airline Retrain Results\n",
    "ax = plot_metrics(accuracy_dict, accuracy_retrain, legend1='Accuracy train', legend2='Accuracy retrain', x_label='year', \n",
    "             y_label='Accuracy')\n",
    "fig = ax.get_figure()\n",
    "fig.savefig('airline.svg', bbox_inches='tight')"
   ]
  },
  {
   "cell_type": "markdown",
   "metadata": {
    "deletable": true,
    "editable": true
   },
   "source": [
    "As it can be seen, the performance is better after retraining. We have found concept drift in this dataset."
   ]
  }
 ],
 "metadata": {
  "kernelspec": {
   "display_name": "Python 3.5",
   "language": "python",
   "name": "python3"
  },
  "language_info": {
   "codemirror_mode": {
    "name": "ipython",
    "version": 3
   },
   "file_extension": ".py",
   "mimetype": "text/x-python",
   "name": "python",
   "nbconvert_exporter": "python",
   "pygments_lexer": "ipython3",
   "version": "3.5.2"
  }
 },
 "nbformat": 4,
 "nbformat_minor": 0
}
