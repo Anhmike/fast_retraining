{
 "cells": [
  {
   "cell_type": "markdown",
   "metadata": {},
   "source": [
    "# Experiment 02: BCI\n",
    "\n",
    "This experiment uses a Brain Computer Interface dataset. The purpose is to try and predict when the participant is paying attention. The dataset consists of recordings from a number of electrodes placed over the scalp."
   ]
  },
  {
   "cell_type": "code",
   "execution_count": 37,
   "metadata": {},
   "outputs": [
    {
     "name": "stdout",
     "output_type": "stream",
     "text": [
      "System version: 3.6.1 |Anaconda custom (64-bit)| (default, May 11 2017, 13:09:58) \n",
      "[GCC 4.4.7 20120313 (Red Hat 4.4.7-1)]\n",
      "XGBoost version: 0.6\n",
      "LightGBM version: 0.2\n",
      "The autoreload extension is already loaded. To reload it, use:\n",
      "  %reload_ext autoreload\n"
     ]
    }
   ],
   "source": [
    "import json\n",
    "import sys\n",
    "import warnings\n",
    "from copy import deepcopy\n",
    "\n",
    "import numpy as np\n",
    "import pandas as pd\n",
    "import pkg_resources\n",
    "from IPython.display import SVG, display\n",
    "from bokeh.io import export_svgs\n",
    "from bokeh.io import show, output_notebook\n",
    "from bokeh.models import HoverTool\n",
    "from bokeh.models.sources import ColumnDataSource\n",
    "from bokeh.plotting import figure\n",
    "from libs.loaders import load_bci\n",
    "from libs.timer import Timer\n",
    "from libs.utils import get_number_processors\n",
    "from lightgbm import LGBMClassifier\n",
    "from sklearn.metrics import roc_auc_score, accuracy_score, precision_score, recall_score, f1_score\n",
    "from sklearn.pipeline import Pipeline, FeatureUnion\n",
    "from sklearn.preprocessing import StandardScaler\n",
    "from tqdm import tqdm_notebook\n",
    "from xgboost import XGBClassifier\n",
    "\n",
    "warnings.filterwarnings('ignore')\n",
    "\n",
    "print(\"System version: {}\".format(sys.version))\n",
    "print(\"XGBoost version: {}\".format(pkg_resources.get_distribution('xgboost').version))\n",
    "print(\"LightGBM version: {}\".format(pkg_resources.get_distribution('lightgbm').version))"
   ]
  },
  {
   "cell_type": "code",
   "execution_count": 5,
   "metadata": {},
   "outputs": [
    {
     "data": {
      "text/html": [
       "\n",
       "    <div class=\"bk-root\">\n",
       "        <a href=\"http://bokeh.pydata.org\" target=\"_blank\" class=\"bk-logo bk-logo-small bk-logo-notebook\"></a>\n",
       "        <span id=\"36874bea-853d-42d2-abdf-96b25f1ef95a\">Loading BokehJS ...</span>\n",
       "    </div>"
      ]
     },
     "metadata": {},
     "output_type": "execute_result"
    },
    {
     "data": {},
     "metadata": {},
     "output_type": "display_data"
    }
   ],
   "source": [
    "output_notebook()"
   ]
  },
  {
   "cell_type": "markdown",
   "metadata": {},
   "source": [
    "## XGBoost vs LightGBM benchmark\n",
    "\n",
    "We will compare both libraries on speed and preformance."
   ]
  },
  {
   "cell_type": "code",
   "execution_count": 6,
   "metadata": {},
   "outputs": [
    {
     "name": "stdout",
     "output_type": "stream",
     "text": [
      "20\n"
     ]
    }
   ],
   "source": [
    "number_processors = get_number_processors()\n",
    "print(number_processors)"
   ]
  },
  {
   "cell_type": "markdown",
   "metadata": {},
   "source": [
    "Below we define the modeling pipelines for our two classifiers."
   ]
  },
  {
   "cell_type": "code",
   "execution_count": 7,
   "metadata": {
    "collapsed": true
   },
   "outputs": [],
   "source": [
    "pipeline_steps = [('scale', StandardScaler())]\n",
    "continuous_pipeline = Pipeline(steps=pipeline_steps)"
   ]
  },
  {
   "cell_type": "code",
   "execution_count": 8,
   "metadata": {
    "collapsed": true
   },
   "outputs": [],
   "source": [
    "featurisers = [('continuous', continuous_pipeline)]"
   ]
  },
  {
   "cell_type": "code",
   "execution_count": 9,
   "metadata": {
    "collapsed": true
   },
   "outputs": [],
   "source": [
    "xgb_clf_pipeline = Pipeline(steps=[('features', FeatureUnion(featurisers)),\n",
    "                                          ('clf', XGBClassifier(max_depth=3, \n",
    "                                                                learning_rate=0.1, \n",
    "                                                                scale_pos_weight=2,\n",
    "                                                                n_estimators=100,\n",
    "                                                                gamma=0.1,\n",
    "                                                                min_child_weight=1,\n",
    "                                                                reg_lambda=1,\n",
    "                                                                subsample=1,\n",
    "                                                                nthread=number_processors\n",
    "                                                                ))])"
   ]
  },
  {
   "cell_type": "code",
   "execution_count": 10,
   "metadata": {
    "collapsed": true
   },
   "outputs": [],
   "source": [
    "xgb_hist_clf_pipeline = Pipeline(steps=[('features', FeatureUnion(featurisers)),\n",
    "                                          ('clf', XGBClassifier(max_depth=0, \n",
    "                                                                learning_rate=0.1, \n",
    "                                                                scale_pos_weight=2,\n",
    "                                                                n_estimators=100,\n",
    "                                                                gamma=0.1,\n",
    "                                                                min_child_weight=1,\n",
    "                                                                reg_lambda=1,\n",
    "                                                                subsample=1,\n",
    "                                                                max_leaves=2**3,\n",
    "                                                                grow_policy='lossguide',\n",
    "                                                                tree_method='hist',\n",
    "                                                                nthread=number_processors\n",
    "                                                                ))])"
   ]
  },
  {
   "cell_type": "code",
   "execution_count": 11,
   "metadata": {
    "collapsed": true
   },
   "outputs": [],
   "source": [
    "lgbm_clf_pipeline = Pipeline(steps=[('features', FeatureUnion(featurisers)),\n",
    "                                          ('clf', LGBMClassifier(num_leaves=2**3, \n",
    "                                                                learning_rate=0.1, \n",
    "                                                                scale_pos_weight=2,\n",
    "                                                                n_estimators=100,\n",
    "                                                                min_split_gain=0.1,\n",
    "                                                                min_child_weight=1,\n",
    "                                                                reg_lambda=1,\n",
    "                                                                subsample=1,\n",
    "                                                                nthread=number_processors\n",
    "                                                                ))])"
   ]
  },
  {
   "cell_type": "markdown",
   "metadata": {},
   "source": [
    "The dataset has been preprepared by extracting 800ms epochs from each channel. The data was then lowpass filtered at 18Hz and downsampled by a factor of 6. This results is a feature vector of\n"
   ]
  },
  {
   "cell_type": "code",
   "execution_count": 12,
   "metadata": {},
   "outputs": [
    {
     "name": "stderr",
     "output_type": "stream",
     "text": [
      "INFO:libs.loaders:MOUNT_POINT not found in environment. Defaulting to /fileshare\n"
     ]
    },
    {
     "name": "stdout",
     "output_type": "stream",
     "text": [
      "CPU times: user 3.34 s, sys: 656 ms, total: 4 s\n",
      "Wall time: 28.1 s\n"
     ]
    }
   ],
   "source": [
    "%%time\n",
    "X, y, X_test, y_test = load_bci()"
   ]
  },
  {
   "cell_type": "code",
   "execution_count": 13,
   "metadata": {
    "collapsed": true
   },
   "outputs": [],
   "source": [
    "metrics_dict = {\n",
    "    'Accuracy': accuracy_score,\n",
    "    'Precision': precision_score,\n",
    "    'Recall': recall_score,\n",
    "    'AUC': roc_auc_score,\n",
    "    'F1': f1_score,\n",
    "}\n",
    "\n",
    "def classification_metrics(metrics, y_true, y_pred):\n",
    "    return {metric_name:metric(y_true, y_pred) for metric_name, metric in metrics.items()}"
   ]
  },
  {
   "cell_type": "code",
   "execution_count": 14,
   "metadata": {
    "collapsed": true
   },
   "outputs": [],
   "source": [
    "results_dict = dict()"
   ]
  },
  {
   "cell_type": "markdown",
   "metadata": {},
   "source": [
    "### XGBoost"
   ]
  },
  {
   "cell_type": "code",
   "execution_count": 15,
   "metadata": {
    "collapsed": true
   },
   "outputs": [],
   "source": [
    "with Timer() as t_train:\n",
    "    xgb_clf_pipeline.fit(np.concatenate(X),np.concatenate(y))"
   ]
  },
  {
   "cell_type": "code",
   "execution_count": 16,
   "metadata": {
    "collapsed": true
   },
   "outputs": [],
   "source": [
    "with Timer() as t_test:\n",
    "    y_pred = xgb_clf_pipeline.predict(np.concatenate(X_test))"
   ]
  },
  {
   "cell_type": "code",
   "execution_count": 17,
   "metadata": {
    "collapsed": true
   },
   "outputs": [],
   "source": [
    "results_dict['xgb']={\n",
    "    'train_time': t_train.interval,\n",
    "    'test_time': t_test.interval,\n",
    "    'performance': classification_metrics(metrics_dict, \n",
    "                                          np.concatenate(y_test), \n",
    "                                          y_pred) \n",
    "}"
   ]
  },
  {
   "cell_type": "code",
   "execution_count": 18,
   "metadata": {
    "collapsed": true
   },
   "outputs": [],
   "source": [
    "with Timer() as t_train:\n",
    "    xgb_hist_clf_pipeline.fit(np.concatenate(X),np.concatenate(y))"
   ]
  },
  {
   "cell_type": "code",
   "execution_count": 19,
   "metadata": {
    "collapsed": true
   },
   "outputs": [],
   "source": [
    "with Timer() as t_test:\n",
    "    y_pred = xgb_hist_clf_pipeline.predict(np.concatenate(X_test))"
   ]
  },
  {
   "cell_type": "code",
   "execution_count": 20,
   "metadata": {
    "collapsed": true
   },
   "outputs": [],
   "source": [
    "results_dict['xgb_hist']={\n",
    "    'train_time': t_train.interval,\n",
    "    'test_time': t_test.interval,\n",
    "    'performance': classification_metrics(metrics_dict, \n",
    "                                          np.concatenate(y_test), \n",
    "                                          y_pred) \n",
    "}"
   ]
  },
  {
   "cell_type": "markdown",
   "metadata": {},
   "source": [
    "### LightGBM"
   ]
  },
  {
   "cell_type": "code",
   "execution_count": 21,
   "metadata": {
    "collapsed": true
   },
   "outputs": [],
   "source": [
    "with Timer() as t_train:\n",
    "    lgbm_clf_pipeline.fit(np.concatenate(X),np.concatenate(y))"
   ]
  },
  {
   "cell_type": "code",
   "execution_count": 22,
   "metadata": {
    "collapsed": true
   },
   "outputs": [],
   "source": [
    "with Timer() as t_test:\n",
    "    y_pred = lgbm_clf_pipeline.predict(np.concatenate(X_test))"
   ]
  },
  {
   "cell_type": "code",
   "execution_count": 23,
   "metadata": {
    "collapsed": true
   },
   "outputs": [],
   "source": [
    "results_dict['lgbm']={\n",
    "    'train_time': t_train.interval,\n",
    "    'test_time': t_test.interval,\n",
    "    'performance': classification_metrics(metrics_dict, \n",
    "                                          np.concatenate(y_test), \n",
    "                                          y_pred) \n",
    "}"
   ]
  },
  {
   "cell_type": "code",
   "execution_count": 24,
   "metadata": {},
   "outputs": [
    {
     "name": "stdout",
     "output_type": "stream",
     "text": [
      "{\n",
      "    \"lgbm\": {\n",
      "        \"performance\": {\n",
      "            \"AUC\": 0.5348626373626374,\n",
      "            \"Accuracy\": 0.8802275008364001,\n",
      "            \"F1\": 0.13734939759036147,\n",
      "            \"Precision\": 0.5588235294117647,\n",
      "            \"Recall\": 0.0782967032967033\n",
      "        },\n",
      "        \"test_time\": 0.7029972260352224,\n",
      "        \"train_time\": 6.380580052034929\n",
      "    },\n",
      "    \"xgb\": {\n",
      "        \"performance\": {\n",
      "            \"AUC\": 0.5277435897435897,\n",
      "            \"Accuracy\": 0.8812311809969889,\n",
      "            \"F1\": 0.11027568922305765,\n",
      "            \"Precision\": 0.6285714285714286,\n",
      "            \"Recall\": 0.06043956043956044\n",
      "        },\n",
      "        \"test_time\": 0.5001096819760278,\n",
      "        \"train_time\": 15.975884190993384\n",
      "    },\n",
      "    \"xgb_hist\": {\n",
      "        \"performance\": {\n",
      "            \"AUC\": 0.536521978021978,\n",
      "            \"Accuracy\": 0.8810639009702241,\n",
      "            \"F1\": 0.14234016887816647,\n",
      "            \"Precision\": 0.5841584158415841,\n",
      "            \"Recall\": 0.08104395604395605\n",
      "        },\n",
      "        \"test_time\": 0.7757045479957014,\n",
      "        \"train_time\": 52.695884556975216\n",
      "    }\n",
      "}\n"
     ]
    }
   ],
   "source": [
    "# Results\n",
    "print(json.dumps(results_dict, indent=4, sort_keys=True))"
   ]
  },
  {
   "cell_type": "markdown",
   "metadata": {},
   "source": [
    "## Concept Drift\n",
    "Concept drift can occur across many domains and can be caused by many factors such as sensor drift, seasonality, regime change, etc. One of the ways to combat this is by retraining. If the cause for the drift is observable then it can be incorporated into the model. In this specific instance the cause for the drift is an increase in the impedance in the electrodes, fatigue as well as a number of other factors. These are not observable in the dataset so we will have to retrain the model at regular intervals and observe the difference in performance. This constant retraining can be costly especially with large datasets. Below we will compare XGBoost and LightGBM in a naive retraining scenario."
   ]
  },
  {
   "cell_type": "code",
   "execution_count": 25,
   "metadata": {
    "collapsed": true
   },
   "outputs": [],
   "source": [
    "def _predict(model, X_test, y_test, auc_list, interval_list):\n",
    "    with Timer() as t:\n",
    "        y_pred = model.predict_proba(X_test)\n",
    "        auc_list.append(roc_auc_score(y_test, y_pred[:, 1]))\n",
    "    interval_list.append(t.interval)"
   ]
  },
  {
   "cell_type": "code",
   "execution_count": 26,
   "metadata": {
    "collapsed": true
   },
   "outputs": [],
   "source": [
    "def run_train_retrain_comparison(model, X, y, X_test, y_test):\n",
    "    retrain_model = deepcopy(model)\n",
    "    historical_X = deepcopy(X.tolist())\n",
    "    historical_y = deepcopy(y.tolist())\n",
    "    train_auc = list()\n",
    "    retrain_auc = list()\n",
    "    test_interval = list()\n",
    "    retrain_test_interval = list()\n",
    "    retrain_interval = list()\n",
    "    \n",
    "    for X_test_run, y_test_run in  tqdm_notebook(zip(X_test, y_test), total=len(y_test)):\n",
    "        prev_model = deepcopy(retrain_model)\n",
    "        \n",
    "        _predict(model, X_test_run, y_test_run, train_auc, test_interval)\n",
    "        _predict(retrain_model, X_test_run, y_test_run, retrain_auc, retrain_test_interval)\n",
    "        \n",
    "        historical_X.append(X_test_run)\n",
    "        historical_y.append(y_test_run)\n",
    "\n",
    "        new_train_X  = np.concatenate(historical_X)\n",
    "        with Timer() as t:\n",
    "            retrain_model.fit(new_train_X, np.concatenate(historical_y))\n",
    "        retrain_interval.append(t.interval)    \n",
    "        \n",
    "    return pd.DataFrame({\n",
    "        'Test interval':test_interval,\n",
    "        'Retrain Test interval':retrain_test_interval,\n",
    "        'Retrain interval':retrain_interval,\n",
    "        'Train AUC':train_auc,\n",
    "        'Retrain AUC':retrain_auc\n",
    "    })"
   ]
  },
  {
   "cell_type": "code",
   "execution_count": 27,
   "metadata": {
    "scrolled": false
   },
   "outputs": [
    {
     "data": {},
     "metadata": {},
     "output_type": "display_data"
    },
    {
     "name": "stdout",
     "output_type": "stream",
     "text": [
      "\n"
     ]
    }
   ],
   "source": [
    "df = run_train_retrain_comparison(xgb_clf_pipeline, X, y, X_test, y_test)"
   ]
  },
  {
   "cell_type": "code",
   "execution_count": 28,
   "metadata": {
    "collapsed": true
   },
   "outputs": [],
   "source": [
    "retrain_results_dict = dict()"
   ]
  },
  {
   "cell_type": "code",
   "execution_count": 29,
   "metadata": {
    "collapsed": true
   },
   "outputs": [],
   "source": [
    "retrain_results_dict['xgb'] = df"
   ]
  },
  {
   "cell_type": "code",
   "execution_count": 30,
   "metadata": {
    "scrolled": false
   },
   "outputs": [
    {
     "data": {},
     "metadata": {},
     "output_type": "display_data"
    },
    {
     "name": "stdout",
     "output_type": "stream",
     "text": [
      "\n"
     ]
    }
   ],
   "source": [
    "df = run_train_retrain_comparison(lgbm_clf_pipeline, X, y, X_test, y_test)"
   ]
  },
  {
   "cell_type": "code",
   "execution_count": 31,
   "metadata": {
    "collapsed": true
   },
   "outputs": [],
   "source": [
    "retrain_results_dict['lgbm'] = df"
   ]
  },
  {
   "cell_type": "code",
   "execution_count": 32,
   "metadata": {
    "collapsed": true
   },
   "outputs": [],
   "source": [
    "data_cds = (retrain_results_dict['xgb'][['Train AUC', 'Retrain AUC']].rolling(window=10)\n",
    "                                                                     .mean()\n",
    "                                                                     .dropna()\n",
    "                                                                     .pipe(ColumnDataSource))"
   ]
  },
  {
   "cell_type": "code",
   "execution_count": 44,
   "metadata": {},
   "outputs": [
    {
     "data": {
      "text/html": [
       "\n",
       "\n",
       "    <div class=\"bk-root\">\n",
       "        <div class=\"bk-plotdiv\" id=\"0acba066-1f37-4457-8add-a30b10846a32\"></div>\n",
       "    </div>\n",
       "<script type=\"text/javascript\">\n",
       "  \n",
       "  (function(global) {\n",
       "    function now() {\n",
       "      return new Date();\n",
       "    }\n",
       "  \n",
       "    var force = false;\n",
       "  \n",
       "    if (typeof (window._bokeh_onload_callbacks) === \"undefined\" || force === true) {\n",
       "      window._bokeh_onload_callbacks = [];\n",
       "      window._bokeh_is_loading = undefined;\n",
       "    }\n",
       "  \n",
       "  \n",
       "    \n",
       "    if (typeof (window._bokeh_timeout) === \"undefined\" || force === true) {\n",
       "      window._bokeh_timeout = Date.now() + 0;\n",
       "      window._bokeh_failed_load = false;\n",
       "    }\n",
       "  \n",
       "    var NB_LOAD_WARNING = {'data': {'text/html':\n",
       "       \"<div style='background-color: #fdd'>\\n\"+\n",
       "       \"<p>\\n\"+\n",
       "       \"BokehJS does not appear to have successfully loaded. If loading BokehJS from CDN, this \\n\"+\n",
       "       \"may be due to a slow or bad network connection. Possible fixes:\\n\"+\n",
       "       \"</p>\\n\"+\n",
       "       \"<ul>\\n\"+\n",
       "       \"<li>re-rerun `output_notebook()` to attempt to load from CDN again, or</li>\\n\"+\n",
       "       \"<li>use INLINE resources instead, as so:</li>\\n\"+\n",
       "       \"</ul>\\n\"+\n",
       "       \"<code>\\n\"+\n",
       "       \"from bokeh.resources import INLINE\\n\"+\n",
       "       \"output_notebook(resources=INLINE)\\n\"+\n",
       "       \"</code>\\n\"+\n",
       "       \"</div>\"}};\n",
       "  \n",
       "    function display_loaded() {\n",
       "      if (window.Bokeh !== undefined) {\n",
       "        var el = document.getElementById(\"0acba066-1f37-4457-8add-a30b10846a32\");\n",
       "        el.textContent = \"BokehJS \" + Bokeh.version + \" successfully loaded.\";\n",
       "      } else if (Date.now() < window._bokeh_timeout) {\n",
       "        setTimeout(display_loaded, 100)\n",
       "      }\n",
       "    }\n",
       "  \n",
       "    function run_callbacks() {\n",
       "      try {\n",
       "        window._bokeh_onload_callbacks.forEach(function(callback) { callback() });\n",
       "      }\n",
       "      finally {\n",
       "        delete window._bokeh_onload_callbacks\n",
       "      }\n",
       "      console.info(\"Bokeh: all callbacks have finished\");\n",
       "    }\n",
       "  \n",
       "    function load_libs(js_urls, callback) {\n",
       "      window._bokeh_onload_callbacks.push(callback);\n",
       "      if (window._bokeh_is_loading > 0) {\n",
       "        console.log(\"Bokeh: BokehJS is being loaded, scheduling callback at\", now());\n",
       "        return null;\n",
       "      }\n",
       "      if (js_urls == null || js_urls.length === 0) {\n",
       "        run_callbacks();\n",
       "        return null;\n",
       "      }\n",
       "      console.log(\"Bokeh: BokehJS not loaded, scheduling load and callback at\", now());\n",
       "      window._bokeh_is_loading = js_urls.length;\n",
       "      for (var i = 0; i < js_urls.length; i++) {\n",
       "        var url = js_urls[i];\n",
       "        var s = document.createElement('script');\n",
       "        s.src = url;\n",
       "        s.async = false;\n",
       "        s.onreadystatechange = s.onload = function() {\n",
       "          window._bokeh_is_loading--;\n",
       "          if (window._bokeh_is_loading === 0) {\n",
       "            console.log(\"Bokeh: all BokehJS libraries loaded\");\n",
       "            run_callbacks()\n",
       "          }\n",
       "        };\n",
       "        s.onerror = function() {\n",
       "          console.warn(\"failed to load library \" + url);\n",
       "        };\n",
       "        console.log(\"Bokeh: injecting script tag for BokehJS library: \", url);\n",
       "        document.getElementsByTagName(\"head\")[0].appendChild(s);\n",
       "      }\n",
       "    };var element = document.getElementById(\"0acba066-1f37-4457-8add-a30b10846a32\");\n",
       "    if (element == null) {\n",
       "      console.log(\"Bokeh: ERROR: autoload.js configured with elementid '0acba066-1f37-4457-8add-a30b10846a32' but no matching script tag was found. \")\n",
       "      return false;\n",
       "    }\n",
       "  \n",
       "    var js_urls = [];\n",
       "  \n",
       "    var inline_js = [\n",
       "      function(Bokeh) {\n",
       "        (function() {\n",
       "          var fn = function() {\n",
       "            var docs_json = {\"c5fc10c8-a35c-4295-93ad-39802b0d12e7\":{\"roots\":{\"references\":[{\"attributes\":{},\"id\":\"e0960ef0-b869-4d1a-b949-543158d4139a\",\"type\":\"BasicTickFormatter\"},{\"attributes\":{\"below\":[{\"id\":\"14a40305-bd07-44f4-88e1-d31232a1ac95\",\"type\":\"LinearAxis\"}],\"left\":[{\"id\":\"dd37fa77-c24e-4166-9b64-655134dbdf82\",\"type\":\"LinearAxis\"}],\"plot_height\":350,\"plot_width\":700,\"renderers\":[{\"id\":\"14a40305-bd07-44f4-88e1-d31232a1ac95\",\"type\":\"LinearAxis\"},{\"id\":\"4fde1e95-f4fc-44ad-9d5d-288746ef4fd6\",\"type\":\"Grid\"},{\"id\":\"dd37fa77-c24e-4166-9b64-655134dbdf82\",\"type\":\"LinearAxis\"},{\"id\":\"57aa59d9-3a8a-4771-9895-22d1b00b45c1\",\"type\":\"Grid\"},{\"id\":\"9e5e2b6f-76fd-4019-88c5-af01ca38e539\",\"type\":\"BoxAnnotation\"},{\"id\":\"d269b3ce-dd6a-4aa1-bbf9-9bbdaaca46ce\",\"type\":\"Legend\"},{\"id\":\"4067ba8b-3ef8-4485-9a5d-4a1f8637150d\",\"type\":\"GlyphRenderer\"},{\"id\":\"8f83f519-0dab-4f2e-a021-8cc21375d3e4\",\"type\":\"GlyphRenderer\"},{\"id\":\"a2207afb-b1a9-420d-9de8-ee287486b52e\",\"type\":\"GlyphRenderer\"},{\"id\":\"1220d0b6-88f3-4e57-896b-ae66f9fbae86\",\"type\":\"GlyphRenderer\"}],\"title\":{\"id\":\"6ccd47a1-5041-4f2a-8ce4-1bb583aa9e40\",\"type\":\"Title\"},\"tool_events\":{\"id\":\"2bdc8641-80fc-47f2-8d8a-8bffc1691028\",\"type\":\"ToolEvents\"},\"toolbar\":{\"id\":\"94675b1a-6e42-4acc-ac84-7487e11ca9cd\",\"type\":\"Toolbar\"},\"x_range\":{\"id\":\"fcc196f2-1807-4fee-945f-15d4e76c6298\",\"type\":\"DataRange1d\"},\"x_scale\":{\"id\":\"251d9a35-730e-4bdb-9805-4abace7bd9f8\",\"type\":\"LinearScale\"},\"y_range\":{\"id\":\"888630a9-01be-4e5a-b6fa-3b85d97c7948\",\"type\":\"DataRange1d\"},\"y_scale\":{\"id\":\"e9e5f906-e5b8-42f5-8b39-1f61e5ca7b27\",\"type\":\"LinearScale\"}},\"id\":\"2fe355bc-b4d6-4f45-b285-9d088ae0aaed\",\"subtype\":\"Figure\",\"type\":\"Plot\"},{\"attributes\":{\"data_source\":{\"id\":\"aea8a3e7-3434-4518-b0aa-cf8011111436\",\"type\":\"ColumnDataSource\"},\"glyph\":{\"id\":\"4aa33b10-f164-4c18-a3eb-447981aa7bde\",\"type\":\"Line\"},\"hover_glyph\":null,\"muted_glyph\":null,\"nonselection_glyph\":{\"id\":\"e68f3378-e3e2-465c-8ee9-20ddc0722aa8\",\"type\":\"Line\"},\"selection_glyph\":null},\"id\":\"a2207afb-b1a9-420d-9de8-ee287486b52e\",\"type\":\"GlyphRenderer\"},{\"attributes\":{\"line_alpha\":{\"value\":0.1},\"line_cap\":\"round\",\"line_color\":{\"value\":\"#1f77b4\"},\"line_width\":{\"value\":6},\"x\":{\"field\":\"index\"},\"y\":{\"field\":\"Train AUC\"}},\"id\":\"b3f1023d-5ffe-4297-a45a-3a516bd1d919\",\"type\":\"Line\"},{\"attributes\":{},\"id\":\"2bdc8641-80fc-47f2-8d8a-8bffc1691028\",\"type\":\"ToolEvents\"},{\"attributes\":{\"callback\":null},\"id\":\"fcc196f2-1807-4fee-945f-15d4e76c6298\",\"type\":\"DataRange1d\"},{\"attributes\":{\"active_drag\":\"auto\",\"active_inspect\":\"auto\",\"active_scroll\":\"auto\",\"active_tap\":\"auto\",\"tools\":[{\"id\":\"7fc69bec-2ca3-4429-a54d-e6213d6ef521\",\"type\":\"PanTool\"},{\"id\":\"f2f1e180-3d85-484a-81a3-6b74df66aabf\",\"type\":\"WheelZoomTool\"},{\"id\":\"b610ffe0-2080-4ec9-bb0c-5f6788237470\",\"type\":\"BoxZoomTool\"},{\"id\":\"ade991be-19d3-40fd-bfbd-16b6d54f12ef\",\"type\":\"ResetTool\"},{\"id\":\"c0a78234-029a-4333-94cf-2bb30e525bf4\",\"type\":\"HoverTool\"}]},\"id\":\"94675b1a-6e42-4acc-ac84-7487e11ca9cd\",\"type\":\"Toolbar\"},{\"attributes\":{\"line_cap\":\"round\",\"line_color\":{\"value\":\"#a1bae3\"},\"line_width\":{\"value\":6},\"x\":{\"field\":\"index\"},\"y\":{\"field\":\"Retrain AUC\"}},\"id\":\"4aa33b10-f164-4c18-a3eb-447981aa7bde\",\"type\":\"Line\"},{\"attributes\":{\"callback\":null},\"id\":\"888630a9-01be-4e5a-b6fa-3b85d97c7948\",\"type\":\"DataRange1d\"},{\"attributes\":{},\"id\":\"251d9a35-730e-4bdb-9805-4abace7bd9f8\",\"type\":\"LinearScale\"},{\"attributes\":{},\"id\":\"e9e5f906-e5b8-42f5-8b39-1f61e5ca7b27\",\"type\":\"LinearScale\"},{\"attributes\":{\"plot\":{\"id\":\"2fe355bc-b4d6-4f45-b285-9d088ae0aaed\",\"subtype\":\"Figure\",\"type\":\"Plot\"},\"ticker\":{\"id\":\"46c7124e-c5a9-432b-893a-c11bd769c1d0\",\"type\":\"BasicTicker\"}},\"id\":\"4fde1e95-f4fc-44ad-9d5d-288746ef4fd6\",\"type\":\"Grid\"},{\"attributes\":{\"formatter\":{\"id\":\"e0960ef0-b869-4d1a-b949-543158d4139a\",\"type\":\"BasicTickFormatter\"},\"plot\":{\"id\":\"2fe355bc-b4d6-4f45-b285-9d088ae0aaed\",\"subtype\":\"Figure\",\"type\":\"Plot\"},\"ticker\":{\"id\":\"46c7124e-c5a9-432b-893a-c11bd769c1d0\",\"type\":\"BasicTicker\"}},\"id\":\"14a40305-bd07-44f4-88e1-d31232a1ac95\",\"type\":\"LinearAxis\"},{\"attributes\":{},\"id\":\"46c7124e-c5a9-432b-893a-c11bd769c1d0\",\"type\":\"BasicTicker\"},{\"attributes\":{\"callback\":null,\"column_names\":[\"Train AUC\",\"Retrain AUC\",\"index\"],\"data\":{\"Retrain AUC\":{\"__ndarray__\":\"VvppraUp6j+m9A79n87pP6qzQsR/suk/Anxk2y9r6T/dBmJBJ1DpPzp4PlSMKuk/Zg4kVIEl6T9y7C8v5CXpPz8bPY6J3+g/43Vw+CLg6D/iebbZzMHoPz8+CoEhveg/HTXqxcR76D+kFF3Hd4roPyWqoFLkceg/hPfcff566D9irGi+G2DoP/Z23AZNMeg/JteNJ45M6D8YWd83tFLoP28bX/lwdOg/vBESTY+e6D83NwbYBIHoPwgzo19cbOg/jwJUi5xa6D82OLXY3y/oPw==\",\"dtype\":\"float64\",\"shape\":[26]},\"Train AUC\":{\"__ndarray__\":\"dqghcxgp6j9A2Ldve/LpPzh28W2awek/CsBg8eaR6T8bmzB0/2vpP4DO4ZsoRuk/0c9AsmQp6T/qzXd3DQvpP8UT5eTQ7eg/gbeX2jXT6D/u2LxZ2rjoP6iYMPtymug/Ll1ovgN86D9QHMMVO2XoP3SA3pqEUeg/h2BQ9kU+6D+vaocMuyvoP5aX113rGOg/qoXnsjUG6D/6sBjC1vLnPw6Rih2Y3+c/qtP+8YbR5z82JfU9H8TnPxJGshoDuOc/+kSKwaGq5z/+p2FFU53nPw==\",\"dtype\":\"float64\",\"shape\":[26]},\"index\":[9,10,11,12,13,14,15,16,17,18,19,20,21,22,23,24,25,26,27,28,29,30,31,32,33,34]}},\"id\":\"aea8a3e7-3434-4518-b0aa-cf8011111436\",\"type\":\"ColumnDataSource\"},{\"attributes\":{\"axis_label\":\"AUC\",\"formatter\":{\"id\":\"8d23b730-0e9b-41e9-9003-05d91e683db5\",\"type\":\"BasicTickFormatter\"},\"plot\":{\"id\":\"2fe355bc-b4d6-4f45-b285-9d088ae0aaed\",\"subtype\":\"Figure\",\"type\":\"Plot\"},\"ticker\":{\"id\":\"53a75b0f-7552-4758-b25a-adde9d1e82b7\",\"type\":\"BasicTicker\"}},\"id\":\"dd37fa77-c24e-4166-9b64-655134dbdf82\",\"type\":\"LinearAxis\"},{\"attributes\":{},\"id\":\"53a75b0f-7552-4758-b25a-adde9d1e82b7\",\"type\":\"BasicTicker\"},{\"attributes\":{\"dimension\":1,\"plot\":{\"id\":\"2fe355bc-b4d6-4f45-b285-9d088ae0aaed\",\"subtype\":\"Figure\",\"type\":\"Plot\"},\"ticker\":{\"id\":\"53a75b0f-7552-4758-b25a-adde9d1e82b7\",\"type\":\"BasicTicker\"}},\"id\":\"57aa59d9-3a8a-4771-9895-22d1b00b45c1\",\"type\":\"Grid\"},{\"attributes\":{\"line_cap\":\"round\",\"line_color\":{\"value\":\"#5975a4\"},\"line_width\":{\"value\":6},\"x\":{\"field\":\"index\"},\"y\":{\"field\":\"Train AUC\"}},\"id\":\"cda5f42f-d962-403f-baa2-d976a399065f\",\"type\":\"Line\"},{\"attributes\":{\"plot\":null,\"text\":\"\"},\"id\":\"6ccd47a1-5041-4f2a-8ce4-1bb583aa9e40\",\"type\":\"Title\"},{\"attributes\":{\"plot\":{\"id\":\"2fe355bc-b4d6-4f45-b285-9d088ae0aaed\",\"subtype\":\"Figure\",\"type\":\"Plot\"}},\"id\":\"7fc69bec-2ca3-4429-a54d-e6213d6ef521\",\"type\":\"PanTool\"},{\"attributes\":{\"plot\":{\"id\":\"2fe355bc-b4d6-4f45-b285-9d088ae0aaed\",\"subtype\":\"Figure\",\"type\":\"Plot\"}},\"id\":\"f2f1e180-3d85-484a-81a3-6b74df66aabf\",\"type\":\"WheelZoomTool\"},{\"attributes\":{\"overlay\":{\"id\":\"9e5e2b6f-76fd-4019-88c5-af01ca38e539\",\"type\":\"BoxAnnotation\"},\"plot\":{\"id\":\"2fe355bc-b4d6-4f45-b285-9d088ae0aaed\",\"subtype\":\"Figure\",\"type\":\"Plot\"}},\"id\":\"b610ffe0-2080-4ec9-bb0c-5f6788237470\",\"type\":\"BoxZoomTool\"},{\"attributes\":{\"plot\":{\"id\":\"2fe355bc-b4d6-4f45-b285-9d088ae0aaed\",\"subtype\":\"Figure\",\"type\":\"Plot\"}},\"id\":\"ade991be-19d3-40fd-bfbd-16b6d54f12ef\",\"type\":\"ResetTool\"},{\"attributes\":{\"bottom_units\":\"screen\",\"fill_alpha\":{\"value\":0.5},\"fill_color\":{\"value\":\"lightgrey\"},\"left_units\":\"screen\",\"level\":\"overlay\",\"line_alpha\":{\"value\":1.0},\"line_color\":{\"value\":\"black\"},\"line_dash\":[4,4],\"line_width\":{\"value\":2},\"plot\":null,\"render_mode\":\"css\",\"right_units\":\"screen\",\"top_units\":\"screen\"},\"id\":\"9e5e2b6f-76fd-4019-88c5-af01ca38e539\",\"type\":\"BoxAnnotation\"},{\"attributes\":{\"data_source\":{\"id\":\"aea8a3e7-3434-4518-b0aa-cf8011111436\",\"type\":\"ColumnDataSource\"},\"glyph\":{\"id\":\"cda5f42f-d962-403f-baa2-d976a399065f\",\"type\":\"Line\"},\"hover_glyph\":null,\"muted_glyph\":null,\"nonselection_glyph\":{\"id\":\"b3f1023d-5ffe-4297-a45a-3a516bd1d919\",\"type\":\"Line\"},\"selection_glyph\":null},\"id\":\"4067ba8b-3ef8-4485-9a5d-4a1f8637150d\",\"type\":\"GlyphRenderer\"},{\"attributes\":{\"line_alpha\":{\"value\":0.1},\"line_cap\":\"round\",\"line_color\":{\"value\":\"#1f77b4\"},\"line_width\":{\"value\":6},\"x\":{\"field\":\"index\"},\"y\":{\"field\":\"Retrain AUC\"}},\"id\":\"e68f3378-e3e2-465c-8ee9-20ddc0722aa8\",\"type\":\"Line\"},{\"attributes\":{},\"id\":\"8d23b730-0e9b-41e9-9003-05d91e683db5\",\"type\":\"BasicTickFormatter\"},{\"attributes\":{\"fill_color\":{\"value\":\"white\"},\"line_color\":{\"value\":\"#5975a4\"},\"line_width\":{\"value\":1.5},\"size\":{\"units\":\"screen\",\"value\":6},\"x\":{\"field\":\"index\"},\"y\":{\"field\":\"Train AUC\"}},\"id\":\"b5e330c7-13ad-42be-9a3a-06ac44b3bc33\",\"type\":\"Circle\"},{\"attributes\":{\"items\":[{\"id\":\"cf37f011-032f-45c0-9219-4496381eb1e7\",\"type\":\"LegendItem\"},{\"id\":\"c8037b1d-1f99-44e4-9436-2655916be3a9\",\"type\":\"LegendItem\"}],\"plot\":{\"id\":\"2fe355bc-b4d6-4f45-b285-9d088ae0aaed\",\"subtype\":\"Figure\",\"type\":\"Plot\"}},\"id\":\"d269b3ce-dd6a-4aa1-bbf9-9bbdaaca46ce\",\"type\":\"Legend\"},{\"attributes\":{\"label\":{\"value\":\" Train AUC\"},\"renderers\":[{\"id\":\"4067ba8b-3ef8-4485-9a5d-4a1f8637150d\",\"type\":\"GlyphRenderer\"}]},\"id\":\"cf37f011-032f-45c0-9219-4496381eb1e7\",\"type\":\"LegendItem\"},{\"attributes\":{\"data_source\":{\"id\":\"aea8a3e7-3434-4518-b0aa-cf8011111436\",\"type\":\"ColumnDataSource\"},\"glyph\":{\"id\":\"b5e330c7-13ad-42be-9a3a-06ac44b3bc33\",\"type\":\"Circle\"},\"hover_glyph\":null,\"muted_glyph\":null,\"nonselection_glyph\":{\"id\":\"ce7f1819-b5ee-4cc2-b2d6-53498f406abb\",\"type\":\"Circle\"},\"selection_glyph\":null},\"id\":\"8f83f519-0dab-4f2e-a021-8cc21375d3e4\",\"type\":\"GlyphRenderer\"},{\"attributes\":{\"fill_alpha\":{\"value\":0.1},\"fill_color\":{\"value\":\"#1f77b4\"},\"line_alpha\":{\"value\":0.1},\"line_color\":{\"value\":\"#1f77b4\"},\"line_width\":{\"value\":1.5},\"size\":{\"units\":\"screen\",\"value\":6},\"x\":{\"field\":\"index\"},\"y\":{\"field\":\"Train AUC\"}},\"id\":\"ce7f1819-b5ee-4cc2-b2d6-53498f406abb\",\"type\":\"Circle\"},{\"attributes\":{\"label\":{\"value\":\" Retrain AUC\"},\"renderers\":[{\"id\":\"a2207afb-b1a9-420d-9de8-ee287486b52e\",\"type\":\"GlyphRenderer\"}]},\"id\":\"c8037b1d-1f99-44e4-9436-2655916be3a9\",\"type\":\"LegendItem\"},{\"attributes\":{\"fill_color\":{\"value\":\"white\"},\"line_color\":{\"value\":\"#a1bae3\"},\"line_width\":{\"value\":1.5},\"size\":{\"units\":\"screen\",\"value\":6},\"x\":{\"field\":\"index\"},\"y\":{\"field\":\"Retrain AUC\"}},\"id\":\"8bc85235-f009-4ea2-96b0-4d15e7388d4c\",\"type\":\"Circle\"},{\"attributes\":{\"callback\":null,\"mode\":\"vline\",\"plot\":{\"id\":\"2fe355bc-b4d6-4f45-b285-9d088ae0aaed\",\"subtype\":\"Figure\",\"type\":\"Plot\"},\"renderers\":[{\"id\":\"4067ba8b-3ef8-4485-9a5d-4a1f8637150d\",\"type\":\"GlyphRenderer\"}],\"tooltips\":[[\"Train AUC\",\"@{Train AUC}{0.4f}\"],[\"Retrain AUC\",\"@{Retrain AUC}{0.4f}\"]]},\"id\":\"c0a78234-029a-4333-94cf-2bb30e525bf4\",\"type\":\"HoverTool\"},{\"attributes\":{\"fill_alpha\":{\"value\":0.1},\"fill_color\":{\"value\":\"#1f77b4\"},\"line_alpha\":{\"value\":0.1},\"line_color\":{\"value\":\"#1f77b4\"},\"line_width\":{\"value\":1.5},\"size\":{\"units\":\"screen\",\"value\":6},\"x\":{\"field\":\"index\"},\"y\":{\"field\":\"Retrain AUC\"}},\"id\":\"031caf75-7215-4ca2-807d-6c49875a7d29\",\"type\":\"Circle\"},{\"attributes\":{\"data_source\":{\"id\":\"aea8a3e7-3434-4518-b0aa-cf8011111436\",\"type\":\"ColumnDataSource\"},\"glyph\":{\"id\":\"8bc85235-f009-4ea2-96b0-4d15e7388d4c\",\"type\":\"Circle\"},\"hover_glyph\":null,\"muted_glyph\":null,\"nonselection_glyph\":{\"id\":\"031caf75-7215-4ca2-807d-6c49875a7d29\",\"type\":\"Circle\"},\"selection_glyph\":null},\"id\":\"1220d0b6-88f3-4e57-896b-ae66f9fbae86\",\"type\":\"GlyphRenderer\"}],\"root_ids\":[\"2fe355bc-b4d6-4f45-b285-9d088ae0aaed\"]},\"title\":\"Bokeh Application\",\"version\":\"0.12.6\"}};\n",
       "            var render_items = [{\"docid\":\"c5fc10c8-a35c-4295-93ad-39802b0d12e7\",\"elementid\":\"0acba066-1f37-4457-8add-a30b10846a32\",\"modelid\":\"2fe355bc-b4d6-4f45-b285-9d088ae0aaed\"}];\n",
       "            \n",
       "            Bokeh.embed.embed_items(docs_json, render_items);\n",
       "          };\n",
       "          if (document.readyState != \"loading\") fn();\n",
       "          else document.addEventListener(\"DOMContentLoaded\", fn);\n",
       "        })();\n",
       "      },\n",
       "      function(Bokeh) {\n",
       "      }\n",
       "    ];\n",
       "  \n",
       "    function run_inline_js() {\n",
       "      \n",
       "      if ((window.Bokeh !== undefined) || (force === true)) {\n",
       "        for (var i = 0; i < inline_js.length; i++) {\n",
       "          inline_js[i](window.Bokeh);\n",
       "        }if (force === true) {\n",
       "          display_loaded();\n",
       "        }} else if (Date.now() < window._bokeh_timeout) {\n",
       "        setTimeout(run_inline_js, 100);\n",
       "      } else if (!window._bokeh_failed_load) {\n",
       "        console.log(\"Bokeh: BokehJS failed to load within specified timeout.\");\n",
       "        window._bokeh_failed_load = true;\n",
       "      } else if (force !== true) {\n",
       "        var cell = $(document.getElementById(\"0acba066-1f37-4457-8add-a30b10846a32\")).parents('.cell').data().cell;\n",
       "        cell.output_area.append_execute_result(NB_LOAD_WARNING)\n",
       "      }\n",
       "  \n",
       "    }\n",
       "  \n",
       "    if (window._bokeh_is_loading === 0) {\n",
       "      console.log(\"Bokeh: BokehJS loaded, going straight to plotting\");\n",
       "      run_inline_js();\n",
       "    } else {\n",
       "      load_libs(js_urls, function() {\n",
       "        console.log(\"Bokeh: BokehJS plotting callback run at\", now());\n",
       "        run_inline_js();\n",
       "      });\n",
       "    }\n",
       "  }(this));\n",
       "</script>"
      ]
     },
     "metadata": {},
     "output_type": "execute_result"
    }
   ],
   "source": [
    "# XGB Retrain Results\n",
    "p = figure(y_axis_label='AUC', plot_width=700, plot_height=350, tools=\"pan,wheel_zoom,box_zoom,reset\")\n",
    "l1 = p.line('index', 'Train AUC', legend=' Train AUC', line_color=\"#5975a4\", source=data_cds, line_width=6, line_cap=\"round\")\n",
    "p.circle('index', 'Train AUC', fill_color=\"white\", size=6, line_width=1.5, line_color=\"#5975a4\", source=data_cds)\n",
    "p.line('index', 'Retrain AUC', legend=' Retrain AUC', line_color=\"#a1bae3\", source=data_cds, line_width=6, line_cap=\"round\")\n",
    "p.circle('index', 'Retrain AUC',  fill_color=\"white\", size=6, line_width=1.5, line_color=\"#a1bae3\", source=data_cds)\n",
    "l1_hover = HoverTool(renderers=[l1], tooltips=[( 'Train AUC',  '@{Train AUC}{0.4f}' ), ( 'Retrain AUC',  '@{Retrain AUC}{0.4f}' )], mode='vline')\n",
    "p.add_tools(l1_hover)\n",
    "show(p)"
   ]
  },
  {
   "cell_type": "code",
   "execution_count": 43,
   "metadata": {},
   "outputs": [
    {
     "name": "stderr",
     "output_type": "stream",
     "text": [
      "WARNING:bokeh.io:The webdriver raised a TimeoutException while waiting for                      a 'bokeh:idle' event to signify that the layout has rendered.                      Something may have gone wrong.\n"
     ]
    },
    {
     "data": {
      "image/svg+xml": [
       "<svg height=\"350\" style=\"width: 700px; height: 350px;\" version=\"1.1\" width=\"700\" xmlns=\"http://www.w3.org/2000/svg\" xmlns:xlink=\"http://www.w3.org/1999/xlink\"><defs/><g><g/><g transform=\"scale(1,1) translate(0.5,0.5)\"><rect fill=\"#FFFFFF\" height=\"350\" stroke=\"none\" width=\"700\" x=\"0\" y=\"0\"/><rect fill=\"#ffffff\" height=\"350\" stroke=\"none\" width=\"700\" x=\"0\" y=\"0\"/><rect fill=\"#FFFFFF\" height=\"320.815\" stroke=\"none\" width=\"614.895\" x=\"55.105000000000004\" y=\"4\"/><rect fill=\"#ffffff\" height=\"320.815\" stroke=\"none\" width=\"614.895\" x=\"55.105000000000004\" y=\"4\"/><g><rect fill=\"none\" height=\"320.815\" stroke=\"#e5e5e5\" stroke-miterlimit=\"10\" width=\"614.895\" x=\"55.105000000000004\" y=\"4\"/></g><g><g><path d=\" M 105 325 L 105 4\" fill=\"none\" paint-order=\"fill stroke markers\" stroke=\"#e5e5e5\" stroke-miterlimit=\"10\"/><path d=\" M 217 325 L 217 4\" fill=\"none\" paint-order=\"fill stroke markers\" stroke=\"#e5e5e5\" stroke-miterlimit=\"10\"/><path d=\" M 329 325 L 329 4\" fill=\"none\" paint-order=\"fill stroke markers\" stroke=\"#e5e5e5\" stroke-miterlimit=\"10\"/><path d=\" M 441 325 L 441 4\" fill=\"none\" paint-order=\"fill stroke markers\" stroke=\"#e5e5e5\" stroke-miterlimit=\"10\"/><path d=\" M 553 325 L 553 4\" fill=\"none\" paint-order=\"fill stroke markers\" stroke=\"#e5e5e5\" stroke-miterlimit=\"10\"/><path d=\" M 664 325 L 664 4\" fill=\"none\" paint-order=\"fill stroke markers\" stroke=\"#e5e5e5\" stroke-miterlimit=\"10\"/></g><g><path d=\" M 55 303 L 670 303\" fill=\"none\" paint-order=\"fill stroke markers\" stroke=\"#e5e5e5\" stroke-miterlimit=\"10\"/><path d=\" M 55 229 L 670 229\" fill=\"none\" paint-order=\"fill stroke markers\" stroke=\"#e5e5e5\" stroke-miterlimit=\"10\"/><path d=\" M 55 156 L 670 156\" fill=\"none\" paint-order=\"fill stroke markers\" stroke=\"#e5e5e5\" stroke-miterlimit=\"10\"/><path d=\" M 55 83 L 670 83\" fill=\"none\" paint-order=\"fill stroke markers\" stroke=\"#e5e5e5\" stroke-miterlimit=\"10\"/><path d=\" M 55 10 L 670 10\" fill=\"none\" paint-order=\"fill stroke markers\" stroke=\"#e5e5e5\" stroke-miterlimit=\"10\"/></g><g><path fill=\"none\" stroke=\"none\"/><path d=\" M 83.05477272727278 18.82914927219008 L 105.41459090909096 43.24650927322955 L 127.77440909090915 65.10004647416054 L 150.1342272727273 86.42698873070822 L 172.49404545454547 103.37379930285897 L 194.85386363636366 120.29154158929396 L 217.21368181818184 133.15236226064962 L 239.57350000000002 146.71756226122807 L 261.9333181818182 159.78911137456635 L 284.2931363636364 171.68435942476253 L 306.6529545454546 183.46864245383586 L 329.01277272727276 197.06202988298674 L 351.37259090909095 210.6691586835659 L 373.73240909090913 220.8556970690929 L 396.0922272727273 229.6692012980402 L 418.45204545454544 238.27341386983562 L 440.8118636363637 246.56373491366685 L 463.1716818181818 254.97415891402534 L 485.53150000000005 263.33914923017073 L 507.8913181818182 271.9997689101733 L 530.2511363636364 280.6039814819683 L 552.6109545454545 286.89330148223644 L 574.9707727272728 292.8866534824915 L 597.3305909090909 298.30093765663514 L 619.690409090909 304.2831908568901 L 642.0502272727273 310.2325000000001\" fill=\"none\" paint-order=\"fill stroke markers\" stroke=\"#5975a4\" stroke-linecap=\"round\" stroke-miterlimit=\"10\" stroke-width=\"6\"/></g><g><path fill=\"none\" stroke=\"none\"/><path d=\" M 466.1716818181818 254.97415891402534 A 3 3 0 1 1 466.1716803181819 254.97115891452535\" fill=\"white\" paint-order=\"fill stroke markers\" stroke=\"#5975a4\" stroke-miterlimit=\"10\" stroke-width=\"1.5\"/><path d=\" M 443.8118636363637 246.56373491366685 A 3 3 0 1 1 443.8118621363638 246.56073491416686\" fill=\"white\" paint-order=\"fill stroke markers\" stroke=\"#5975a4\" stroke-miterlimit=\"10\" stroke-width=\"1.5\"/><path d=\" M 421.45204545454544 238.27341386983562 A 3 3 0 1 1 421.45204395454556 238.27041387033563\" fill=\"white\" paint-order=\"fill stroke markers\" stroke=\"#5975a4\" stroke-miterlimit=\"10\" stroke-width=\"1.5\"/><path d=\" M 399.0922272727273 229.6692012980402 A 3 3 0 1 1 399.09222577272743 229.66620129854022\" fill=\"white\" paint-order=\"fill stroke markers\" stroke=\"#5975a4\" stroke-miterlimit=\"10\" stroke-width=\"1.5\"/><path d=\" M 376.73240909090913 220.8556970690929 A 3 3 0 1 1 376.73240759090925 220.85269706959292\" fill=\"white\" paint-order=\"fill stroke markers\" stroke=\"#5975a4\" stroke-miterlimit=\"10\" stroke-width=\"1.5\"/><path d=\" M 354.37259090909095 210.6691586835659 A 3 3 0 1 1 354.37258940909106 210.66615868406592\" fill=\"white\" paint-order=\"fill stroke markers\" stroke=\"#5975a4\" stroke-miterlimit=\"10\" stroke-width=\"1.5\"/><path d=\" M 332.01277272727276 197.06202988298674 A 3 3 0 1 1 332.0127712272729 197.05902988348674\" fill=\"white\" paint-order=\"fill stroke markers\" stroke=\"#5975a4\" stroke-miterlimit=\"10\" stroke-width=\"1.5\"/><path d=\" M 309.6529545454546 183.46864245383586 A 3 3 0 1 1 309.6529530454547 183.46564245433586\" fill=\"white\" paint-order=\"fill stroke markers\" stroke=\"#5975a4\" stroke-miterlimit=\"10\" stroke-width=\"1.5\"/><path d=\" M 287.2931363636364 171.68435942476253 A 3 3 0 1 1 287.2931348636365 171.68135942526254\" fill=\"white\" paint-order=\"fill stroke markers\" stroke=\"#5975a4\" stroke-miterlimit=\"10\" stroke-width=\"1.5\"/><path d=\" M 264.9333181818182 159.78911137456635 A 3 3 0 1 1 264.9333166818183 159.78611137506635\" fill=\"white\" paint-order=\"fill stroke markers\" stroke=\"#5975a4\" stroke-miterlimit=\"10\" stroke-width=\"1.5\"/><path d=\" M 242.57350000000002 146.71756226122807 A 3 3 0 1 1 242.57349850000014 146.71456226172808\" fill=\"white\" paint-order=\"fill stroke markers\" stroke=\"#5975a4\" stroke-miterlimit=\"10\" stroke-width=\"1.5\"/><path d=\" M 220.21368181818184 133.15236226064962 A 3 3 0 1 1 220.21368031818196 133.14936226114963\" fill=\"white\" paint-order=\"fill stroke markers\" stroke=\"#5975a4\" stroke-miterlimit=\"10\" stroke-width=\"1.5\"/><path d=\" M 197.85386363636366 120.29154158929396 A 3 3 0 1 1 197.85386213636377 120.28854158979395\" fill=\"white\" paint-order=\"fill stroke markers\" stroke=\"#5975a4\" stroke-miterlimit=\"10\" stroke-width=\"1.5\"/><path d=\" M 175.49404545454547 103.37379930285897 A 3 3 0 1 1 175.4940439545456 103.37079930335896\" fill=\"white\" paint-order=\"fill stroke markers\" stroke=\"#5975a4\" stroke-miterlimit=\"10\" stroke-width=\"1.5\"/><path d=\" M 153.1342272727273 86.42698873070822 A 3 3 0 1 1 153.1342257727274 86.42398873120821\" fill=\"white\" paint-order=\"fill stroke markers\" stroke=\"#5975a4\" stroke-miterlimit=\"10\" stroke-width=\"1.5\"/><path d=\" M 130.77440909090916 65.10004647416054 A 3 3 0 1 1 130.77440759090928 65.09704647466053\" fill=\"white\" paint-order=\"fill stroke markers\" stroke=\"#5975a4\" stroke-miterlimit=\"10\" stroke-width=\"1.5\"/><path d=\" M 108.41459090909096 43.24650927322955 A 3 3 0 1 1 108.41458940909109 43.24350927372955\" fill=\"white\" paint-order=\"fill stroke markers\" stroke=\"#5975a4\" stroke-miterlimit=\"10\" stroke-width=\"1.5\"/><path d=\" M 86.05477272727278 18.82914927219008 A 3 3 0 1 1 86.05477122727291 18.826149272690078\" fill=\"white\" paint-order=\"fill stroke markers\" stroke=\"#5975a4\" stroke-miterlimit=\"10\" stroke-width=\"1.5\"/><path d=\" M 488.53150000000005 263.33914923017073 A 3 3 0 1 1 488.53149850000017 263.33614923067074\" fill=\"white\" paint-order=\"fill stroke markers\" stroke=\"#5975a4\" stroke-miterlimit=\"10\" stroke-width=\"1.5\"/><path d=\" M 510.8913181818182 271.9997689101733 A 3 3 0 1 1 510.8913166818183 271.9967689106733\" fill=\"white\" paint-order=\"fill stroke markers\" stroke=\"#5975a4\" stroke-miterlimit=\"10\" stroke-width=\"1.5\"/><path d=\" M 533.2511363636364 280.6039814819683 A 3 3 0 1 1 533.2511348636366 280.6009814824683\" fill=\"white\" paint-order=\"fill stroke markers\" stroke=\"#5975a4\" stroke-miterlimit=\"10\" stroke-width=\"1.5\"/><path d=\" M 555.6109545454545 286.89330148223644 A 3 3 0 1 1 555.6109530454547 286.89030148273645\" fill=\"white\" paint-order=\"fill stroke markers\" stroke=\"#5975a4\" stroke-miterlimit=\"10\" stroke-width=\"1.5\"/><path d=\" M 577.9707727272728 292.8866534824915 A 3 3 0 1 1 577.970771227273 292.8836534829915\" fill=\"white\" paint-order=\"fill stroke markers\" stroke=\"#5975a4\" stroke-miterlimit=\"10\" stroke-width=\"1.5\"/><path d=\" M 600.3305909090909 298.30093765663514 A 3 3 0 1 1 600.3305894090911 298.29793765713515\" fill=\"white\" paint-order=\"fill stroke markers\" stroke=\"#5975a4\" stroke-miterlimit=\"10\" stroke-width=\"1.5\"/><path d=\" M 622.690409090909 304.2831908568901 A 3 3 0 1 1 622.6904075909092 304.2801908573901\" fill=\"white\" paint-order=\"fill stroke markers\" stroke=\"#5975a4\" stroke-miterlimit=\"10\" stroke-width=\"1.5\"/><path d=\" M 645.0502272727273 310.2325000000001 A 3 3 0 1 1 645.0502257727275 310.2295000005001\" fill=\"white\" paint-order=\"fill stroke markers\" stroke=\"#5975a4\" stroke-miterlimit=\"10\" stroke-width=\"1.5\"/></g><g><path fill=\"none\" stroke=\"none\"/><path d=\" M 83.05477272727278 18.582499999999982 L 105.41459090909096 59.27810000173349 L 127.77440909090915 71.85304040226856 L 150.1342272727273 103.73636010287464 L 172.49404545454547 115.82295330338911 L 194.85386363636366 132.63604976124816 L 217.21368181818184 134.89073766196498 L 239.57350000000002 134.7180896619575 L 261.9333181818182 166.17303462570362 L 284.2931363636364 165.90510086171662 L 306.6529545454546 179.46836297658 L 329.01277272727276 181.5559944052402 L 351.37259090909095 210.77913480648476 L 373.73240909090913 204.20717455775775 L 396.0922272727273 215.19498655822554 L 418.45204545454544 211.1254265580519 L 440.8118636363637 223.1459095150858 L 463.1716818181818 244.07331351597668 L 485.53150000000005 231.88799941019488 L 507.8913181818182 229.1389510988647 L 530.2511363636364 214.0551533839366 L 552.6109545454545 195.22418938313422 L 574.9707727272728 208.43176138369745 L 597.3305909090909 217.66789321017768 L 619.690409090909 225.60353521051593 L 642.0502272727273 244.71108835418636\" fill=\"none\" paint-order=\"fill stroke markers\" stroke=\"#a1bae3\" stroke-linecap=\"round\" stroke-miterlimit=\"10\" stroke-width=\"6\"/></g><g><path fill=\"none\" stroke=\"none\"/><path d=\" M 466.1716818181818 244.07331351597668 A 3 3 0 1 1 466.1716803181819 244.0703135164767\" fill=\"white\" paint-order=\"fill stroke markers\" stroke=\"#a1bae3\" stroke-miterlimit=\"10\" stroke-width=\"1.5\"/><path d=\" M 443.8118636363637 223.1459095150858 A 3 3 0 1 1 443.8118621363638 223.1429095155858\" fill=\"white\" paint-order=\"fill stroke markers\" stroke=\"#a1bae3\" stroke-miterlimit=\"10\" stroke-width=\"1.5\"/><path d=\" M 421.45204545454544 211.1254265580519 A 3 3 0 1 1 421.45204395454556 211.12242655855192\" fill=\"white\" paint-order=\"fill stroke markers\" stroke=\"#a1bae3\" stroke-miterlimit=\"10\" stroke-width=\"1.5\"/><path d=\" M 399.0922272727273 215.19498655822554 A 3 3 0 1 1 399.09222577272743 215.19198655872555\" fill=\"white\" paint-order=\"fill stroke markers\" stroke=\"#a1bae3\" stroke-miterlimit=\"10\" stroke-width=\"1.5\"/><path d=\" M 376.73240909090913 204.20717455775775 A 3 3 0 1 1 376.73240759090925 204.20417455825776\" fill=\"white\" paint-order=\"fill stroke markers\" stroke=\"#a1bae3\" stroke-miterlimit=\"10\" stroke-width=\"1.5\"/><path d=\" M 354.37259090909095 210.77913480648476 A 3 3 0 1 1 354.37258940909106 210.77613480698477\" fill=\"white\" paint-order=\"fill stroke markers\" stroke=\"#a1bae3\" stroke-miterlimit=\"10\" stroke-width=\"1.5\"/><path d=\" M 332.01277272727276 181.5559944052402 A 3 3 0 1 1 332.0127712272729 181.5529944057402\" fill=\"white\" paint-order=\"fill stroke markers\" stroke=\"#a1bae3\" stroke-miterlimit=\"10\" stroke-width=\"1.5\"/><path d=\" M 309.6529545454546 179.46836297658 A 3 3 0 1 1 309.6529530454547 179.46536297708002\" fill=\"white\" paint-order=\"fill stroke markers\" stroke=\"#a1bae3\" stroke-miterlimit=\"10\" stroke-width=\"1.5\"/><path d=\" M 264.9333181818182 166.17303462570362 A 3 3 0 1 1 264.9333166818183 166.17003462620363\" fill=\"white\" paint-order=\"fill stroke markers\" stroke=\"#a1bae3\" stroke-miterlimit=\"10\" stroke-width=\"1.5\"/><path d=\" M 287.2931363636364 165.90510086171662 A 3 3 0 1 1 287.2931348636365 165.90210086221663\" fill=\"white\" paint-order=\"fill stroke markers\" stroke=\"#a1bae3\" stroke-miterlimit=\"10\" stroke-width=\"1.5\"/><path d=\" M 242.57350000000002 134.7180896619575 A 3 3 0 1 1 242.57349850000014 134.7150896624575\" fill=\"white\" paint-order=\"fill stroke markers\" stroke=\"#a1bae3\" stroke-miterlimit=\"10\" stroke-width=\"1.5\"/><path d=\" M 220.21368181818184 134.89073766196498 A 3 3 0 1 1 220.21368031818196 134.88773766246499\" fill=\"white\" paint-order=\"fill stroke markers\" stroke=\"#a1bae3\" stroke-miterlimit=\"10\" stroke-width=\"1.5\"/><path d=\" M 197.85386363636366 132.63604976124816 A 3 3 0 1 1 197.85386213636377 132.63304976174817\" fill=\"white\" paint-order=\"fill stroke markers\" stroke=\"#a1bae3\" stroke-miterlimit=\"10\" stroke-width=\"1.5\"/><path d=\" M 175.49404545454547 115.82295330338911 A 3 3 0 1 1 175.4940439545456 115.81995330388911\" fill=\"white\" paint-order=\"fill stroke markers\" stroke=\"#a1bae3\" stroke-miterlimit=\"10\" stroke-width=\"1.5\"/><path d=\" M 153.1342272727273 103.73636010287464 A 3 3 0 1 1 153.1342257727274 103.73336010337464\" fill=\"white\" paint-order=\"fill stroke markers\" stroke=\"#a1bae3\" stroke-miterlimit=\"10\" stroke-width=\"1.5\"/><path d=\" M 130.77440909090916 71.85304040226856 A 3 3 0 1 1 130.77440759090928 71.85004040276856\" fill=\"white\" paint-order=\"fill stroke markers\" stroke=\"#a1bae3\" stroke-miterlimit=\"10\" stroke-width=\"1.5\"/><path d=\" M 108.41459090909096 59.27810000173349 A 3 3 0 1 1 108.41458940909109 59.27510000223349\" fill=\"white\" paint-order=\"fill stroke markers\" stroke=\"#a1bae3\" stroke-miterlimit=\"10\" stroke-width=\"1.5\"/><path d=\" M 86.05477272727278 18.582499999999982 A 3 3 0 1 1 86.05477122727291 18.57950000049998\" fill=\"white\" paint-order=\"fill stroke markers\" stroke=\"#a1bae3\" stroke-miterlimit=\"10\" stroke-width=\"1.5\"/><path d=\" M 488.53150000000005 231.88799941019488 A 3 3 0 1 1 488.53149850000017 231.8849994106949\" fill=\"white\" paint-order=\"fill stroke markers\" stroke=\"#a1bae3\" stroke-miterlimit=\"10\" stroke-width=\"1.5\"/><path d=\" M 510.8913181818182 229.1389510988647 A 3 3 0 1 1 510.8913166818183 229.13595109936472\" fill=\"white\" paint-order=\"fill stroke markers\" stroke=\"#a1bae3\" stroke-miterlimit=\"10\" stroke-width=\"1.5\"/><path d=\" M 533.2511363636364 214.0551533839366 A 3 3 0 1 1 533.2511348636366 214.05215338443662\" fill=\"white\" paint-order=\"fill stroke markers\" stroke=\"#a1bae3\" stroke-miterlimit=\"10\" stroke-width=\"1.5\"/><path d=\" M 555.6109545454545 195.22418938313422 A 3 3 0 1 1 555.6109530454547 195.22118938363423\" fill=\"white\" paint-order=\"fill stroke markers\" stroke=\"#a1bae3\" stroke-miterlimit=\"10\" stroke-width=\"1.5\"/><path d=\" M 577.9707727272728 208.43176138369745 A 3 3 0 1 1 577.970771227273 208.42876138419746\" fill=\"white\" paint-order=\"fill stroke markers\" stroke=\"#a1bae3\" stroke-miterlimit=\"10\" stroke-width=\"1.5\"/><path d=\" M 600.3305909090909 217.66789321017768 A 3 3 0 1 1 600.3305894090911 217.6648932106777\" fill=\"white\" paint-order=\"fill stroke markers\" stroke=\"#a1bae3\" stroke-miterlimit=\"10\" stroke-width=\"1.5\"/><path d=\" M 622.690409090909 225.60353521051593 A 3 3 0 1 1 622.6904075909092 225.60053521101594\" fill=\"white\" paint-order=\"fill stroke markers\" stroke=\"#a1bae3\" stroke-miterlimit=\"10\" stroke-width=\"1.5\"/><path d=\" M 645.0502272727273 244.71108835418636 A 3 3 0 1 1 645.0502257727275 244.70808835468637\" fill=\"white\" paint-order=\"fill stroke markers\" stroke=\"#a1bae3\" stroke-miterlimit=\"10\" stroke-width=\"1.5\"/></g></g><g><g/><g><path d=\" M 539.25 14 L 660 14 L 660 77 L 539.25 77 L 539.25 14 Z\" fill=\"#ffffff\" fill-opacity=\"0.95\" paint-order=\"fill stroke markers\" stroke=\"#e5e5e5\" stroke-miterlimit=\"10\" stroke-opacity=\"0.5\"/><text dominant-baseline=\"central\" fill=\"#444444\" font-family=\"helvetica\" font-size=\"10pt\" font-style=\"normal\" font-weight=\"normal\" stroke=\"none\" text-anchor=\"start\" text-decoration=\"normal\" x=\"574.25\" y=\"34\"> Train AUC</text><g><path d=\" M 549.25 34 L 569.25 34\" fill=\"none\" paint-order=\"fill stroke markers\" stroke=\"#5975a4\" stroke-linecap=\"round\" stroke-miterlimit=\"10\" stroke-width=\"6\"/></g><text dominant-baseline=\"central\" fill=\"#444444\" font-family=\"helvetica\" font-size=\"10pt\" font-style=\"normal\" font-weight=\"normal\" stroke=\"none\" text-anchor=\"start\" text-decoration=\"normal\" x=\"574.25\" y=\"57\"> Retrain AUC</text><g><path d=\" M 549.25 57 L 569.25 57\" fill=\"none\" paint-order=\"fill stroke markers\" stroke=\"#a1bae3\" stroke-linecap=\"round\" stroke-miterlimit=\"10\" stroke-width=\"6\"/></g></g></g><g><g><path d=\" M 55 325 L 670 325\" fill=\"none\" paint-order=\"fill stroke markers\" stroke=\"black\" stroke-miterlimit=\"10\"/><path d=\" M 105 331 L 105 323\" fill=\"none\" paint-order=\"fill stroke markers\" stroke=\"black\" stroke-miterlimit=\"10\"/><path d=\" M 217 331 L 217 323\" fill=\"none\" paint-order=\"fill stroke markers\" stroke=\"black\" stroke-miterlimit=\"10\"/><path d=\" M 329 331 L 329 323\" fill=\"none\" paint-order=\"fill stroke markers\" stroke=\"black\" stroke-miterlimit=\"10\"/><path d=\" M 441 331 L 441 323\" fill=\"none\" paint-order=\"fill stroke markers\" stroke=\"black\" stroke-miterlimit=\"10\"/><path d=\" M 553 331 L 553 323\" fill=\"none\" paint-order=\"fill stroke markers\" stroke=\"black\" stroke-miterlimit=\"10\"/><path d=\" M 664 331 L 664 323\" fill=\"none\" paint-order=\"fill stroke markers\" stroke=\"black\" stroke-miterlimit=\"10\"/><path d=\" M 83 329 L 83 325\" fill=\"none\" paint-order=\"fill stroke markers\" stroke=\"black\" stroke-miterlimit=\"10\"/><path d=\" M 61 329 L 61 325\" fill=\"none\" paint-order=\"fill stroke markers\" stroke=\"black\" stroke-miterlimit=\"10\"/><path d=\" M 105 329 L 105 325\" fill=\"none\" paint-order=\"fill stroke markers\" stroke=\"black\" stroke-miterlimit=\"10\"/><path d=\" M 128 329 L 128 325\" fill=\"none\" paint-order=\"fill stroke markers\" stroke=\"black\" stroke-miterlimit=\"10\"/><path d=\" M 150 329 L 150 325\" fill=\"none\" paint-order=\"fill stroke markers\" stroke=\"black\" stroke-miterlimit=\"10\"/><path d=\" M 172 329 L 172 325\" fill=\"none\" paint-order=\"fill stroke markers\" stroke=\"black\" stroke-miterlimit=\"10\"/><path d=\" M 195 329 L 195 325\" fill=\"none\" paint-order=\"fill stroke markers\" stroke=\"black\" stroke-miterlimit=\"10\"/><path d=\" M 217 329 L 217 325\" fill=\"none\" paint-order=\"fill stroke markers\" stroke=\"black\" stroke-miterlimit=\"10\"/><path d=\" M 240 329 L 240 325\" fill=\"none\" paint-order=\"fill stroke markers\" stroke=\"black\" stroke-miterlimit=\"10\"/><path d=\" M 262 329 L 262 325\" fill=\"none\" paint-order=\"fill stroke markers\" stroke=\"black\" stroke-miterlimit=\"10\"/><path d=\" M 284 329 L 284 325\" fill=\"none\" paint-order=\"fill stroke markers\" stroke=\"black\" stroke-miterlimit=\"10\"/><path d=\" M 307 329 L 307 325\" fill=\"none\" paint-order=\"fill stroke markers\" stroke=\"black\" stroke-miterlimit=\"10\"/><path d=\" M 329 329 L 329 325\" fill=\"none\" paint-order=\"fill stroke markers\" stroke=\"black\" stroke-miterlimit=\"10\"/><path d=\" M 351 329 L 351 325\" fill=\"none\" paint-order=\"fill stroke markers\" stroke=\"black\" stroke-miterlimit=\"10\"/><path d=\" M 374 329 L 374 325\" fill=\"none\" paint-order=\"fill stroke markers\" stroke=\"black\" stroke-miterlimit=\"10\"/><path d=\" M 396 329 L 396 325\" fill=\"none\" paint-order=\"fill stroke markers\" stroke=\"black\" stroke-miterlimit=\"10\"/><path d=\" M 418 329 L 418 325\" fill=\"none\" paint-order=\"fill stroke markers\" stroke=\"black\" stroke-miterlimit=\"10\"/><path d=\" M 441 329 L 441 325\" fill=\"none\" paint-order=\"fill stroke markers\" stroke=\"black\" stroke-miterlimit=\"10\"/><path d=\" M 463 329 L 463 325\" fill=\"none\" paint-order=\"fill stroke markers\" stroke=\"black\" stroke-miterlimit=\"10\"/><path d=\" M 486 329 L 486 325\" fill=\"none\" paint-order=\"fill stroke markers\" stroke=\"black\" stroke-miterlimit=\"10\"/><path d=\" M 508 329 L 508 325\" fill=\"none\" paint-order=\"fill stroke markers\" stroke=\"black\" stroke-miterlimit=\"10\"/><path d=\" M 530 329 L 530 325\" fill=\"none\" paint-order=\"fill stroke markers\" stroke=\"black\" stroke-miterlimit=\"10\"/><path d=\" M 553 329 L 553 325\" fill=\"none\" paint-order=\"fill stroke markers\" stroke=\"black\" stroke-miterlimit=\"10\"/><path d=\" M 575 329 L 575 325\" fill=\"none\" paint-order=\"fill stroke markers\" stroke=\"black\" stroke-miterlimit=\"10\"/><path d=\" M 597 329 L 597 325\" fill=\"none\" paint-order=\"fill stroke markers\" stroke=\"black\" stroke-miterlimit=\"10\"/><path d=\" M 620 329 L 620 325\" fill=\"none\" paint-order=\"fill stroke markers\" stroke=\"black\" stroke-miterlimit=\"10\"/><path d=\" M 642 329 L 642 325\" fill=\"none\" paint-order=\"fill stroke markers\" stroke=\"black\" stroke-miterlimit=\"10\"/><path d=\" M 664 329 L 664 325\" fill=\"none\" paint-order=\"fill stroke markers\" stroke=\"black\" stroke-miterlimit=\"10\"/><text dominant-baseline=\"hanging\" fill=\"#444444\" font-family=\"helvetica\" font-size=\"8pt\" font-style=\"normal\" font-weight=\"normal\" stroke=\"none\" text-anchor=\"middle\" text-decoration=\"normal\" x=\"105\" y=\"336\">10</text><text dominant-baseline=\"hanging\" fill=\"#444444\" font-family=\"helvetica\" font-size=\"8pt\" font-style=\"normal\" font-weight=\"normal\" stroke=\"none\" text-anchor=\"middle\" text-decoration=\"normal\" x=\"217\" y=\"336\">15</text><text dominant-baseline=\"hanging\" fill=\"#444444\" font-family=\"helvetica\" font-size=\"8pt\" font-style=\"normal\" font-weight=\"normal\" stroke=\"none\" text-anchor=\"middle\" text-decoration=\"normal\" x=\"329\" y=\"336\">20</text><text dominant-baseline=\"hanging\" fill=\"#444444\" font-family=\"helvetica\" font-size=\"8pt\" font-style=\"normal\" font-weight=\"normal\" stroke=\"none\" text-anchor=\"middle\" text-decoration=\"normal\" x=\"441\" y=\"336\">25</text><text dominant-baseline=\"hanging\" fill=\"#444444\" font-family=\"helvetica\" font-size=\"8pt\" font-style=\"normal\" font-weight=\"normal\" stroke=\"none\" text-anchor=\"middle\" text-decoration=\"normal\" x=\"553\" y=\"336\">30</text><text dominant-baseline=\"hanging\" fill=\"#444444\" font-family=\"helvetica\" font-size=\"8pt\" font-style=\"normal\" font-weight=\"normal\" stroke=\"none\" text-anchor=\"middle\" text-decoration=\"normal\" x=\"664\" y=\"336\">35</text><text dominant-baseline=\"hanging\" fill=\"#444444\" font-family=\"helvetica\" font-size=\"10pt\" font-style=\"italic\" font-weight=\"normal\" stroke=\"none\" text-anchor=\"middle\" text-decoration=\"normal\" x=\"362.5525\" y=\"354.00000000000006\"/></g><g><path d=\" M 55 325 L 55 4\" fill=\"none\" paint-order=\"fill stroke markers\" stroke=\"black\" stroke-miterlimit=\"10\"/><path d=\" M 49 303 L 57 303\" fill=\"none\" paint-order=\"fill stroke markers\" stroke=\"black\" stroke-miterlimit=\"10\"/><path d=\" M 49 229 L 57 229\" fill=\"none\" paint-order=\"fill stroke markers\" stroke=\"black\" stroke-miterlimit=\"10\"/><path d=\" M 49 156 L 57 156\" fill=\"none\" paint-order=\"fill stroke markers\" stroke=\"black\" stroke-miterlimit=\"10\"/><path d=\" M 49 83 L 57 83\" fill=\"none\" paint-order=\"fill stroke markers\" stroke=\"black\" stroke-miterlimit=\"10\"/><path d=\" M 49 10 L 57 10\" fill=\"none\" paint-order=\"fill stroke markers\" stroke=\"black\" stroke-miterlimit=\"10\"/><path d=\" M 51 317 L 55 317\" fill=\"none\" paint-order=\"fill stroke markers\" stroke=\"black\" stroke-miterlimit=\"10\"/><path d=\" M 51 303 L 55 303\" fill=\"none\" paint-order=\"fill stroke markers\" stroke=\"black\" stroke-miterlimit=\"10\"/><path d=\" M 51 288 L 55 288\" fill=\"none\" paint-order=\"fill stroke markers\" stroke=\"black\" stroke-miterlimit=\"10\"/><path d=\" M 51 273 L 55 273\" fill=\"none\" paint-order=\"fill stroke markers\" stroke=\"black\" stroke-miterlimit=\"10\"/><path d=\" M 51 259 L 55 259\" fill=\"none\" paint-order=\"fill stroke markers\" stroke=\"black\" stroke-miterlimit=\"10\"/><path d=\" M 51 244 L 55 244\" fill=\"none\" paint-order=\"fill stroke markers\" stroke=\"black\" stroke-miterlimit=\"10\"/><path d=\" M 51 229 L 55 229\" fill=\"none\" paint-order=\"fill stroke markers\" stroke=\"black\" stroke-miterlimit=\"10\"/><path d=\" M 51 215 L 55 215\" fill=\"none\" paint-order=\"fill stroke markers\" stroke=\"black\" stroke-miterlimit=\"10\"/><path d=\" M 51 200 L 55 200\" fill=\"none\" paint-order=\"fill stroke markers\" stroke=\"black\" stroke-miterlimit=\"10\"/><path d=\" M 51 186 L 55 186\" fill=\"none\" paint-order=\"fill stroke markers\" stroke=\"black\" stroke-miterlimit=\"10\"/><path d=\" M 51 171 L 55 171\" fill=\"none\" paint-order=\"fill stroke markers\" stroke=\"black\" stroke-miterlimit=\"10\"/><path d=\" M 51 156 L 55 156\" fill=\"none\" paint-order=\"fill stroke markers\" stroke=\"black\" stroke-miterlimit=\"10\"/><path d=\" M 51 142 L 55 142\" fill=\"none\" paint-order=\"fill stroke markers\" stroke=\"black\" stroke-miterlimit=\"10\"/><path d=\" M 51 127 L 55 127\" fill=\"none\" paint-order=\"fill stroke markers\" stroke=\"black\" stroke-miterlimit=\"10\"/><path d=\" M 51 112 L 55 112\" fill=\"none\" paint-order=\"fill stroke markers\" stroke=\"black\" stroke-miterlimit=\"10\"/><path d=\" M 51 98 L 55 98\" fill=\"none\" paint-order=\"fill stroke markers\" stroke=\"black\" stroke-miterlimit=\"10\"/><path d=\" M 51 83 L 55 83\" fill=\"none\" paint-order=\"fill stroke markers\" stroke=\"black\" stroke-miterlimit=\"10\"/><path d=\" M 51 68 L 55 68\" fill=\"none\" paint-order=\"fill stroke markers\" stroke=\"black\" stroke-miterlimit=\"10\"/><path d=\" M 51 54 L 55 54\" fill=\"none\" paint-order=\"fill stroke markers\" stroke=\"black\" stroke-miterlimit=\"10\"/><path d=\" M 51 39 L 55 39\" fill=\"none\" paint-order=\"fill stroke markers\" stroke=\"black\" stroke-miterlimit=\"10\"/><path d=\" M 51 24 L 55 24\" fill=\"none\" paint-order=\"fill stroke markers\" stroke=\"black\" stroke-miterlimit=\"10\"/><path d=\" M 51 10 L 55 10\" fill=\"none\" paint-order=\"fill stroke markers\" stroke=\"black\" stroke-miterlimit=\"10\"/><text dominant-baseline=\"central\" fill=\"#444444\" font-family=\"helvetica\" font-size=\"8pt\" font-style=\"normal\" font-weight=\"normal\" stroke=\"none\" text-anchor=\"end\" text-decoration=\"normal\" x=\"44\" y=\"303\">0.74</text><text dominant-baseline=\"central\" fill=\"#444444\" font-family=\"helvetica\" font-size=\"8pt\" font-style=\"normal\" font-weight=\"normal\" stroke=\"none\" text-anchor=\"end\" text-decoration=\"normal\" x=\"44\" y=\"229\">0.76</text><text dominant-baseline=\"central\" fill=\"#444444\" font-family=\"helvetica\" font-size=\"8pt\" font-style=\"normal\" font-weight=\"normal\" stroke=\"none\" text-anchor=\"end\" text-decoration=\"normal\" x=\"44\" y=\"156\">0.78</text><text dominant-baseline=\"central\" fill=\"#444444\" font-family=\"helvetica\" font-size=\"8pt\" font-style=\"normal\" font-weight=\"normal\" stroke=\"none\" text-anchor=\"end\" text-decoration=\"normal\" x=\"44\" y=\"83\">0.8</text><text dominant-baseline=\"central\" fill=\"#444444\" font-family=\"helvetica\" font-size=\"8pt\" font-style=\"normal\" font-weight=\"normal\" stroke=\"none\" text-anchor=\"end\" text-decoration=\"normal\" x=\"44\" y=\"10\">0.82</text><g transform=\"translate(15.592500000000001,164.40750000000003) rotate(-90,0,0)\"><text dominant-baseline=\"alphabetic\" fill=\"#444444\" font-family=\"helvetica\" font-size=\"10pt\" font-style=\"italic\" font-weight=\"normal\" stroke=\"none\" text-anchor=\"middle\" text-decoration=\"normal\" x=\"0\" y=\"0\">AUC</text><g transform=\"rotate(90,0,0) translate(-15.592500000000001,-164.40750000000003)\"/></g></g></g></g></g></svg>"
      ],
      "text/plain": [
       "<IPython.core.display.SVG object>"
      ]
     },
     "metadata": {},
     "output_type": "display_data"
    }
   ],
   "source": [
    "# SVG: XGB Retrain Results \n",
    "# Save the plot and display it so that is is visible on github\n",
    "p.output_backend = \"svg\"\n",
    "export_svgs(p, filename=\"xgb_bci_train_retrain.svg\")\n",
    "display(SVG('xgb_bci_train_retrain.svg'))"
   ]
  },
  {
   "cell_type": "markdown",
   "metadata": {},
   "source": [
    "Overall we can see that retraining does seem to help a bit. Ofcourse the retraining done here is naive with no consideration that later samples may also contain more noise. "
   ]
  },
  {
   "cell_type": "code",
   "execution_count": 202,
   "metadata": {
    "collapsed": true
   },
   "outputs": [],
   "source": [
    "data_cds = (retrain_results_dict['lgbm'][['Train AUC', 'Retrain AUC']].rolling(window=10)\n",
    "                                                                      .mean()\n",
    "                                                                      .dropna()\n",
    "                                                                      .pipe(ColumnDataSource))"
   ]
  },
  {
   "cell_type": "code",
   "execution_count": 55,
   "metadata": {},
   "outputs": [
    {
     "data": {
      "text/html": [
       "\n",
       "\n",
       "    <div class=\"bk-root\">\n",
       "        <div class=\"bk-plotdiv\" id=\"17434a6e-ff8f-451d-931c-e3a63412d59d\"></div>\n",
       "    </div>\n",
       "<script type=\"text/javascript\">\n",
       "  \n",
       "  (function(global) {\n",
       "    function now() {\n",
       "      return new Date();\n",
       "    }\n",
       "  \n",
       "    var force = false;\n",
       "  \n",
       "    if (typeof (window._bokeh_onload_callbacks) === \"undefined\" || force === true) {\n",
       "      window._bokeh_onload_callbacks = [];\n",
       "      window._bokeh_is_loading = undefined;\n",
       "    }\n",
       "  \n",
       "  \n",
       "    \n",
       "    if (typeof (window._bokeh_timeout) === \"undefined\" || force === true) {\n",
       "      window._bokeh_timeout = Date.now() + 0;\n",
       "      window._bokeh_failed_load = false;\n",
       "    }\n",
       "  \n",
       "    var NB_LOAD_WARNING = {'data': {'text/html':\n",
       "       \"<div style='background-color: #fdd'>\\n\"+\n",
       "       \"<p>\\n\"+\n",
       "       \"BokehJS does not appear to have successfully loaded. If loading BokehJS from CDN, this \\n\"+\n",
       "       \"may be due to a slow or bad network connection. Possible fixes:\\n\"+\n",
       "       \"</p>\\n\"+\n",
       "       \"<ul>\\n\"+\n",
       "       \"<li>re-rerun `output_notebook()` to attempt to load from CDN again, or</li>\\n\"+\n",
       "       \"<li>use INLINE resources instead, as so:</li>\\n\"+\n",
       "       \"</ul>\\n\"+\n",
       "       \"<code>\\n\"+\n",
       "       \"from bokeh.resources import INLINE\\n\"+\n",
       "       \"output_notebook(resources=INLINE)\\n\"+\n",
       "       \"</code>\\n\"+\n",
       "       \"</div>\"}};\n",
       "  \n",
       "    function display_loaded() {\n",
       "      if (window.Bokeh !== undefined) {\n",
       "        var el = document.getElementById(\"17434a6e-ff8f-451d-931c-e3a63412d59d\");\n",
       "        el.textContent = \"BokehJS \" + Bokeh.version + \" successfully loaded.\";\n",
       "      } else if (Date.now() < window._bokeh_timeout) {\n",
       "        setTimeout(display_loaded, 100)\n",
       "      }\n",
       "    }\n",
       "  \n",
       "    function run_callbacks() {\n",
       "      try {\n",
       "        window._bokeh_onload_callbacks.forEach(function(callback) { callback() });\n",
       "      }\n",
       "      finally {\n",
       "        delete window._bokeh_onload_callbacks\n",
       "      }\n",
       "      console.info(\"Bokeh: all callbacks have finished\");\n",
       "    }\n",
       "  \n",
       "    function load_libs(js_urls, callback) {\n",
       "      window._bokeh_onload_callbacks.push(callback);\n",
       "      if (window._bokeh_is_loading > 0) {\n",
       "        console.log(\"Bokeh: BokehJS is being loaded, scheduling callback at\", now());\n",
       "        return null;\n",
       "      }\n",
       "      if (js_urls == null || js_urls.length === 0) {\n",
       "        run_callbacks();\n",
       "        return null;\n",
       "      }\n",
       "      console.log(\"Bokeh: BokehJS not loaded, scheduling load and callback at\", now());\n",
       "      window._bokeh_is_loading = js_urls.length;\n",
       "      for (var i = 0; i < js_urls.length; i++) {\n",
       "        var url = js_urls[i];\n",
       "        var s = document.createElement('script');\n",
       "        s.src = url;\n",
       "        s.async = false;\n",
       "        s.onreadystatechange = s.onload = function() {\n",
       "          window._bokeh_is_loading--;\n",
       "          if (window._bokeh_is_loading === 0) {\n",
       "            console.log(\"Bokeh: all BokehJS libraries loaded\");\n",
       "            run_callbacks()\n",
       "          }\n",
       "        };\n",
       "        s.onerror = function() {\n",
       "          console.warn(\"failed to load library \" + url);\n",
       "        };\n",
       "        console.log(\"Bokeh: injecting script tag for BokehJS library: \", url);\n",
       "        document.getElementsByTagName(\"head\")[0].appendChild(s);\n",
       "      }\n",
       "    };var element = document.getElementById(\"17434a6e-ff8f-451d-931c-e3a63412d59d\");\n",
       "    if (element == null) {\n",
       "      console.log(\"Bokeh: ERROR: autoload.js configured with elementid '17434a6e-ff8f-451d-931c-e3a63412d59d' but no matching script tag was found. \")\n",
       "      return false;\n",
       "    }\n",
       "  \n",
       "    var js_urls = [];\n",
       "  \n",
       "    var inline_js = [\n",
       "      function(Bokeh) {\n",
       "        (function() {\n",
       "          var fn = function() {\n",
       "            var docs_json = {\"892d030a-a33d-4eef-8b53-322314f93283\":{\"roots\":{\"references\":[{\"attributes\":{\"line_alpha\":{\"value\":0.1},\"line_cap\":\"round\",\"line_color\":{\"value\":\"#1f77b4\"},\"line_width\":{\"value\":6},\"x\":{\"field\":\"index\"},\"y\":{\"field\":\"Train AUC\"}},\"id\":\"ce8f3d9d-03dd-486c-a416-5c8d001940e1\",\"type\":\"Line\"},{\"attributes\":{\"below\":[{\"id\":\"60255611-c8f9-4d58-9048-7ca877531e55\",\"type\":\"LinearAxis\"}],\"left\":[{\"id\":\"35aebc56-f212-49e9-b99a-044bc7889ffb\",\"type\":\"LinearAxis\"}],\"plot_height\":350,\"plot_width\":700,\"renderers\":[{\"id\":\"60255611-c8f9-4d58-9048-7ca877531e55\",\"type\":\"LinearAxis\"},{\"id\":\"ef01329c-b249-43e5-ade8-f5b6f310fe82\",\"type\":\"Grid\"},{\"id\":\"35aebc56-f212-49e9-b99a-044bc7889ffb\",\"type\":\"LinearAxis\"},{\"id\":\"4e40a651-b0b5-4282-aca8-326f531e5a7d\",\"type\":\"Grid\"},{\"id\":\"b340f9ad-4818-4f31-bd8d-1ed09d71b6c5\",\"type\":\"BoxAnnotation\"},{\"id\":\"c688c8b4-a9e8-4e83-a322-ce07566259cd\",\"type\":\"Legend\"},{\"id\":\"9ff2f442-f897-4200-8bf2-e8883acaa2c1\",\"type\":\"GlyphRenderer\"},{\"id\":\"8f69b42d-4a04-44a1-9d6d-88d8bb6cf676\",\"type\":\"GlyphRenderer\"},{\"id\":\"05fe9b89-8b35-4da3-92b2-e9ba73bb431e\",\"type\":\"GlyphRenderer\"},{\"id\":\"21755db6-d54a-43d7-ae44-b4960529d24e\",\"type\":\"GlyphRenderer\"}],\"title\":{\"id\":\"713135c8-3cff-4f38-8900-aba35e8fc75b\",\"type\":\"Title\"},\"tool_events\":{\"id\":\"eb8333b5-3b0f-41c7-b026-f1cfe60f10c7\",\"type\":\"ToolEvents\"},\"toolbar\":{\"id\":\"70cf5b5c-c975-40ff-9557-b343444845cc\",\"type\":\"Toolbar\"},\"x_range\":{\"id\":\"4f4af4fc-20f5-48a9-a924-89b70f31cbd9\",\"type\":\"DataRange1d\"},\"x_scale\":{\"id\":\"d4672997-fc3e-48b4-8ace-9e8f280e7724\",\"type\":\"LinearScale\"},\"y_range\":{\"id\":\"f4745164-eab6-466e-be9f-d273c06fbd26\",\"type\":\"DataRange1d\"},\"y_scale\":{\"id\":\"a95ca8b9-d853-4417-aaff-2fa157a7c208\",\"type\":\"LinearScale\"}},\"id\":\"eb6024af-a56b-41a9-b49a-e416fde1cb57\",\"subtype\":\"Figure\",\"type\":\"Plot\"},{\"attributes\":{\"data_source\":{\"id\":\"e272befc-366a-4270-afe4-3ae128ab78d1\",\"type\":\"ColumnDataSource\"},\"glyph\":{\"id\":\"7ad55ad1-dbec-4fb5-82bc-afc9fd6b20ee\",\"type\":\"Line\"},\"hover_glyph\":null,\"muted_glyph\":null,\"nonselection_glyph\":{\"id\":\"ce8f3d9d-03dd-486c-a416-5c8d001940e1\",\"type\":\"Line\"},\"selection_glyph\":null},\"id\":\"9ff2f442-f897-4200-8bf2-e8883acaa2c1\",\"type\":\"GlyphRenderer\"},{\"attributes\":{},\"id\":\"eb8333b5-3b0f-41c7-b026-f1cfe60f10c7\",\"type\":\"ToolEvents\"},{\"attributes\":{\"callback\":null},\"id\":\"4f4af4fc-20f5-48a9-a924-89b70f31cbd9\",\"type\":\"DataRange1d\"},{\"attributes\":{\"active_drag\":\"auto\",\"active_inspect\":\"auto\",\"active_scroll\":\"auto\",\"active_tap\":\"auto\",\"tools\":[{\"id\":\"ec0009ca-ce33-4743-8a2b-b67ab3edf36a\",\"type\":\"PanTool\"},{\"id\":\"b6410056-d55d-4d65-a7ac-a78d9cf208ca\",\"type\":\"WheelZoomTool\"},{\"id\":\"175be78a-5e27-420d-b94c-7b2ceceff840\",\"type\":\"BoxZoomTool\"},{\"id\":\"8eb961f1-cc4c-4965-9a66-5c6fea8e3f79\",\"type\":\"ResetTool\"},{\"id\":\"2fc64793-743b-48b3-9e19-66bd5dd108e0\",\"type\":\"HoverTool\"}]},\"id\":\"70cf5b5c-c975-40ff-9557-b343444845cc\",\"type\":\"Toolbar\"},{\"attributes\":{\"callback\":null},\"id\":\"f4745164-eab6-466e-be9f-d273c06fbd26\",\"type\":\"DataRange1d\"},{\"attributes\":{},\"id\":\"d4672997-fc3e-48b4-8ace-9e8f280e7724\",\"type\":\"LinearScale\"},{\"attributes\":{},\"id\":\"a95ca8b9-d853-4417-aaff-2fa157a7c208\",\"type\":\"LinearScale\"},{\"attributes\":{\"plot\":{\"id\":\"eb6024af-a56b-41a9-b49a-e416fde1cb57\",\"subtype\":\"Figure\",\"type\":\"Plot\"},\"ticker\":{\"id\":\"be72a971-8984-476b-ac80-195b083dbc2f\",\"type\":\"BasicTicker\"}},\"id\":\"ef01329c-b249-43e5-ade8-f5b6f310fe82\",\"type\":\"Grid\"},{\"attributes\":{\"formatter\":{\"id\":\"f5b4415f-2dd6-4571-b24c-eeca379cd18c\",\"type\":\"BasicTickFormatter\"},\"plot\":{\"id\":\"eb6024af-a56b-41a9-b49a-e416fde1cb57\",\"subtype\":\"Figure\",\"type\":\"Plot\"},\"ticker\":{\"id\":\"be72a971-8984-476b-ac80-195b083dbc2f\",\"type\":\"BasicTicker\"}},\"id\":\"60255611-c8f9-4d58-9048-7ca877531e55\",\"type\":\"LinearAxis\"},{\"attributes\":{},\"id\":\"be72a971-8984-476b-ac80-195b083dbc2f\",\"type\":\"BasicTicker\"},{\"attributes\":{\"axis_label\":\"AUC\",\"formatter\":{\"id\":\"5c4caae2-091a-4800-a630-cc43f1b4001f\",\"type\":\"BasicTickFormatter\"},\"plot\":{\"id\":\"eb6024af-a56b-41a9-b49a-e416fde1cb57\",\"subtype\":\"Figure\",\"type\":\"Plot\"},\"ticker\":{\"id\":\"adbb90e9-1b7c-47cd-9167-1c777daf7ed3\",\"type\":\"BasicTicker\"}},\"id\":\"35aebc56-f212-49e9-b99a-044bc7889ffb\",\"type\":\"LinearAxis\"},{\"attributes\":{},\"id\":\"adbb90e9-1b7c-47cd-9167-1c777daf7ed3\",\"type\":\"BasicTicker\"},{\"attributes\":{\"dimension\":1,\"plot\":{\"id\":\"eb6024af-a56b-41a9-b49a-e416fde1cb57\",\"subtype\":\"Figure\",\"type\":\"Plot\"},\"ticker\":{\"id\":\"adbb90e9-1b7c-47cd-9167-1c777daf7ed3\",\"type\":\"BasicTicker\"}},\"id\":\"4e40a651-b0b5-4282-aca8-326f531e5a7d\",\"type\":\"Grid\"},{\"attributes\":{},\"id\":\"f5b4415f-2dd6-4571-b24c-eeca379cd18c\",\"type\":\"BasicTickFormatter\"},{\"attributes\":{\"plot\":{\"id\":\"eb6024af-a56b-41a9-b49a-e416fde1cb57\",\"subtype\":\"Figure\",\"type\":\"Plot\"}},\"id\":\"ec0009ca-ce33-4743-8a2b-b67ab3edf36a\",\"type\":\"PanTool\"},{\"attributes\":{\"line_cap\":\"round\",\"line_color\":{\"value\":\"#5f9e6f\"},\"line_width\":{\"value\":6},\"x\":{\"field\":\"index\"},\"y\":{\"field\":\"Train AUC\"}},\"id\":\"7ad55ad1-dbec-4fb5-82bc-afc9fd6b20ee\",\"type\":\"Line\"},{\"attributes\":{\"plot\":{\"id\":\"eb6024af-a56b-41a9-b49a-e416fde1cb57\",\"subtype\":\"Figure\",\"type\":\"Plot\"}},\"id\":\"b6410056-d55d-4d65-a7ac-a78d9cf208ca\",\"type\":\"WheelZoomTool\"},{\"attributes\":{\"overlay\":{\"id\":\"b340f9ad-4818-4f31-bd8d-1ed09d71b6c5\",\"type\":\"BoxAnnotation\"},\"plot\":{\"id\":\"eb6024af-a56b-41a9-b49a-e416fde1cb57\",\"subtype\":\"Figure\",\"type\":\"Plot\"}},\"id\":\"175be78a-5e27-420d-b94c-7b2ceceff840\",\"type\":\"BoxZoomTool\"},{\"attributes\":{\"plot\":{\"id\":\"eb6024af-a56b-41a9-b49a-e416fde1cb57\",\"subtype\":\"Figure\",\"type\":\"Plot\"}},\"id\":\"8eb961f1-cc4c-4965-9a66-5c6fea8e3f79\",\"type\":\"ResetTool\"},{\"attributes\":{\"bottom_units\":\"screen\",\"fill_alpha\":{\"value\":0.5},\"fill_color\":{\"value\":\"lightgrey\"},\"left_units\":\"screen\",\"level\":\"overlay\",\"line_alpha\":{\"value\":1.0},\"line_color\":{\"value\":\"black\"},\"line_dash\":[4,4],\"line_width\":{\"value\":2},\"plot\":null,\"render_mode\":\"css\",\"right_units\":\"screen\",\"top_units\":\"screen\"},\"id\":\"b340f9ad-4818-4f31-bd8d-1ed09d71b6c5\",\"type\":\"BoxAnnotation\"},{\"attributes\":{\"callback\":null,\"column_names\":[\"Train AUC\",\"Retrain AUC\",\"index\"],\"data\":{\"Retrain AUC\":{\"__ndarray__\":\"VvppraUp6j+m9A79n87pP6qzQsR/suk/Anxk2y9r6T/dBmJBJ1DpPzp4PlSMKuk/Zg4kVIEl6T9y7C8v5CXpPz8bPY6J3+g/43Vw+CLg6D/iebbZzMHoPz8+CoEhveg/HTXqxcR76D+kFF3Hd4roPyWqoFLkceg/hPfcff566D9irGi+G2DoP/Z23AZNMeg/JteNJ45M6D8YWd83tFLoP28bX/lwdOg/vBESTY+e6D83NwbYBIHoPwgzo19cbOg/jwJUi5xa6D82OLXY3y/oPw==\",\"dtype\":\"float64\",\"shape\":[26]},\"Train AUC\":{\"__ndarray__\":\"dqghcxgp6j9A2Ldve/LpPzh28W2awek/CsBg8eaR6T8bmzB0/2vpP4DO4ZsoRuk/0c9AsmQp6T/qzXd3DQvpP8UT5eTQ7eg/gbeX2jXT6D/u2LxZ2rjoP6iYMPtymug/Ll1ovgN86D9QHMMVO2XoP3SA3pqEUeg/h2BQ9kU+6D+vaocMuyvoP5aX113rGOg/qoXnsjUG6D/6sBjC1vLnPw6Rih2Y3+c/qtP+8YbR5z82JfU9H8TnPxJGshoDuOc/+kSKwaGq5z/+p2FFU53nPw==\",\"dtype\":\"float64\",\"shape\":[26]},\"index\":[9,10,11,12,13,14,15,16,17,18,19,20,21,22,23,24,25,26,27,28,29,30,31,32,33,34]}},\"id\":\"e272befc-366a-4270-afe4-3ae128ab78d1\",\"type\":\"ColumnDataSource\"},{\"attributes\":{\"plot\":null,\"text\":\"\"},\"id\":\"713135c8-3cff-4f38-8900-aba35e8fc75b\",\"type\":\"Title\"},{\"attributes\":{},\"id\":\"5c4caae2-091a-4800-a630-cc43f1b4001f\",\"type\":\"BasicTickFormatter\"},{\"attributes\":{\"items\":[{\"id\":\"0a7844f8-644d-4b9f-9d4d-4da66997df4a\",\"type\":\"LegendItem\"},{\"id\":\"be208558-b6fd-4d26-97b3-aedde0cdb236\",\"type\":\"LegendItem\"}],\"plot\":{\"id\":\"eb6024af-a56b-41a9-b49a-e416fde1cb57\",\"subtype\":\"Figure\",\"type\":\"Plot\"}},\"id\":\"c688c8b4-a9e8-4e83-a322-ce07566259cd\",\"type\":\"Legend\"},{\"attributes\":{\"fill_color\":{\"value\":\"white\"},\"line_color\":{\"value\":\"#5975a4\"},\"line_width\":{\"value\":1.5},\"size\":{\"units\":\"screen\",\"value\":6},\"x\":{\"field\":\"index\"},\"y\":{\"field\":\"Train AUC\"}},\"id\":\"cd8fdf08-3d71-466e-a3c8-17c2e4705c9a\",\"type\":\"Circle\"},{\"attributes\":{\"label\":{\"value\":\" Train AUC\"},\"renderers\":[{\"id\":\"9ff2f442-f897-4200-8bf2-e8883acaa2c1\",\"type\":\"GlyphRenderer\"}]},\"id\":\"0a7844f8-644d-4b9f-9d4d-4da66997df4a\",\"type\":\"LegendItem\"},{\"attributes\":{\"line_cap\":\"round\",\"line_color\":{\"value\":\"#a2cfae\"},\"line_width\":{\"value\":6},\"x\":{\"field\":\"index\"},\"y\":{\"field\":\"Retrain AUC\"}},\"id\":\"e0462c4a-c719-484e-9f47-c377576a83c6\",\"type\":\"Line\"},{\"attributes\":{\"data_source\":{\"id\":\"e272befc-366a-4270-afe4-3ae128ab78d1\",\"type\":\"ColumnDataSource\"},\"glyph\":{\"id\":\"cd8fdf08-3d71-466e-a3c8-17c2e4705c9a\",\"type\":\"Circle\"},\"hover_glyph\":null,\"muted_glyph\":null,\"nonselection_glyph\":{\"id\":\"c9f877cc-409c-4f0a-bfd8-f0110d277ace\",\"type\":\"Circle\"},\"selection_glyph\":null},\"id\":\"8f69b42d-4a04-44a1-9d6d-88d8bb6cf676\",\"type\":\"GlyphRenderer\"},{\"attributes\":{\"fill_alpha\":{\"value\":0.1},\"fill_color\":{\"value\":\"#1f77b4\"},\"line_alpha\":{\"value\":0.1},\"line_color\":{\"value\":\"#1f77b4\"},\"line_width\":{\"value\":1.5},\"size\":{\"units\":\"screen\",\"value\":6},\"x\":{\"field\":\"index\"},\"y\":{\"field\":\"Train AUC\"}},\"id\":\"c9f877cc-409c-4f0a-bfd8-f0110d277ace\",\"type\":\"Circle\"},{\"attributes\":{\"line_alpha\":{\"value\":0.1},\"line_cap\":\"round\",\"line_color\":{\"value\":\"#1f77b4\"},\"line_width\":{\"value\":6},\"x\":{\"field\":\"index\"},\"y\":{\"field\":\"Retrain AUC\"}},\"id\":\"7334f57d-b709-4314-a959-71bca5d93a61\",\"type\":\"Line\"},{\"attributes\":{\"data_source\":{\"id\":\"e272befc-366a-4270-afe4-3ae128ab78d1\",\"type\":\"ColumnDataSource\"},\"glyph\":{\"id\":\"e0462c4a-c719-484e-9f47-c377576a83c6\",\"type\":\"Line\"},\"hover_glyph\":null,\"muted_glyph\":null,\"nonselection_glyph\":{\"id\":\"7334f57d-b709-4314-a959-71bca5d93a61\",\"type\":\"Line\"},\"selection_glyph\":null},\"id\":\"05fe9b89-8b35-4da3-92b2-e9ba73bb431e\",\"type\":\"GlyphRenderer\"},{\"attributes\":{\"label\":{\"value\":\" Retrain AUC\"},\"renderers\":[{\"id\":\"05fe9b89-8b35-4da3-92b2-e9ba73bb431e\",\"type\":\"GlyphRenderer\"}]},\"id\":\"be208558-b6fd-4d26-97b3-aedde0cdb236\",\"type\":\"LegendItem\"},{\"attributes\":{\"fill_color\":{\"value\":\"white\"},\"line_color\":{\"value\":\"#a1bae3\"},\"line_width\":{\"value\":1.5},\"size\":{\"units\":\"screen\",\"value\":6},\"x\":{\"field\":\"index\"},\"y\":{\"field\":\"Retrain AUC\"}},\"id\":\"72042f8a-b7b6-4125-aed7-ecd7738282f9\",\"type\":\"Circle\"},{\"attributes\":{\"callback\":null,\"mode\":\"vline\",\"plot\":{\"id\":\"eb6024af-a56b-41a9-b49a-e416fde1cb57\",\"subtype\":\"Figure\",\"type\":\"Plot\"},\"renderers\":[{\"id\":\"9ff2f442-f897-4200-8bf2-e8883acaa2c1\",\"type\":\"GlyphRenderer\"}],\"tooltips\":[[\"Train AUC\",\"@{Train AUC}{0.4f}\"],[\"Retrain AUC\",\"@{Retrain AUC}{0.4f}\"]]},\"id\":\"2fc64793-743b-48b3-9e19-66bd5dd108e0\",\"type\":\"HoverTool\"},{\"attributes\":{\"fill_alpha\":{\"value\":0.1},\"fill_color\":{\"value\":\"#1f77b4\"},\"line_alpha\":{\"value\":0.1},\"line_color\":{\"value\":\"#1f77b4\"},\"line_width\":{\"value\":1.5},\"size\":{\"units\":\"screen\",\"value\":6},\"x\":{\"field\":\"index\"},\"y\":{\"field\":\"Retrain AUC\"}},\"id\":\"b10279eb-a421-41c5-a7fa-fe398362ba6c\",\"type\":\"Circle\"},{\"attributes\":{\"data_source\":{\"id\":\"e272befc-366a-4270-afe4-3ae128ab78d1\",\"type\":\"ColumnDataSource\"},\"glyph\":{\"id\":\"72042f8a-b7b6-4125-aed7-ecd7738282f9\",\"type\":\"Circle\"},\"hover_glyph\":null,\"muted_glyph\":null,\"nonselection_glyph\":{\"id\":\"b10279eb-a421-41c5-a7fa-fe398362ba6c\",\"type\":\"Circle\"},\"selection_glyph\":null},\"id\":\"21755db6-d54a-43d7-ae44-b4960529d24e\",\"type\":\"GlyphRenderer\"}],\"root_ids\":[\"eb6024af-a56b-41a9-b49a-e416fde1cb57\"]},\"title\":\"Bokeh Application\",\"version\":\"0.12.6\"}};\n",
       "            var render_items = [{\"docid\":\"892d030a-a33d-4eef-8b53-322314f93283\",\"elementid\":\"17434a6e-ff8f-451d-931c-e3a63412d59d\",\"modelid\":\"eb6024af-a56b-41a9-b49a-e416fde1cb57\"}];\n",
       "            \n",
       "            Bokeh.embed.embed_items(docs_json, render_items);\n",
       "          };\n",
       "          if (document.readyState != \"loading\") fn();\n",
       "          else document.addEventListener(\"DOMContentLoaded\", fn);\n",
       "        })();\n",
       "      },\n",
       "      function(Bokeh) {\n",
       "      }\n",
       "    ];\n",
       "  \n",
       "    function run_inline_js() {\n",
       "      \n",
       "      if ((window.Bokeh !== undefined) || (force === true)) {\n",
       "        for (var i = 0; i < inline_js.length; i++) {\n",
       "          inline_js[i](window.Bokeh);\n",
       "        }if (force === true) {\n",
       "          display_loaded();\n",
       "        }} else if (Date.now() < window._bokeh_timeout) {\n",
       "        setTimeout(run_inline_js, 100);\n",
       "      } else if (!window._bokeh_failed_load) {\n",
       "        console.log(\"Bokeh: BokehJS failed to load within specified timeout.\");\n",
       "        window._bokeh_failed_load = true;\n",
       "      } else if (force !== true) {\n",
       "        var cell = $(document.getElementById(\"17434a6e-ff8f-451d-931c-e3a63412d59d\")).parents('.cell').data().cell;\n",
       "        cell.output_area.append_execute_result(NB_LOAD_WARNING)\n",
       "      }\n",
       "  \n",
       "    }\n",
       "  \n",
       "    if (window._bokeh_is_loading === 0) {\n",
       "      console.log(\"Bokeh: BokehJS loaded, going straight to plotting\");\n",
       "      run_inline_js();\n",
       "    } else {\n",
       "      load_libs(js_urls, function() {\n",
       "        console.log(\"Bokeh: BokehJS plotting callback run at\", now());\n",
       "        run_inline_js();\n",
       "      });\n",
       "    }\n",
       "  }(this));\n",
       "</script>"
      ]
     },
     "metadata": {},
     "output_type": "execute_result"
    }
   ],
   "source": [
    "# LGBM Retrain Results\n",
    "p = figure(y_axis_label='AUC', plot_width=700, plot_height=350, tools=\"pan,wheel_zoom,box_zoom,reset\")\n",
    "l1 = p.line('index', 'Train AUC', legend=' Train AUC', line_color='#5f9e6f', source=data_cds, line_width=6, line_cap=\"round\")\n",
    "p.circle('index', 'Train AUC', fill_color=\"white\", size=6, line_width=1.5, line_color=\"#5975a4\", source=data_cds)\n",
    "p.line('index', 'Retrain AUC', legend=' Retrain AUC', line_color='#a2cfae', source=data_cds, line_width=6, line_cap=\"round\")\n",
    "p.circle('index', 'Retrain AUC',  fill_color=\"white\", size=6, line_width=1.5, line_color=\"#a1bae3\", source=data_cds)\n",
    "l1_hover = HoverTool(renderers=[l1], tooltips=[( 'Train AUC',  '@{Train AUC}{0.4f}' ), ( 'Retrain AUC',  '@{Retrain AUC}{0.4f}' )], mode='vline')\n",
    "p.add_tools(l1_hover)\n",
    "show(p)"
   ]
  },
  {
   "cell_type": "code",
   "execution_count": 57,
   "metadata": {},
   "outputs": [
    {
     "name": "stderr",
     "output_type": "stream",
     "text": [
      "WARNING:bokeh.io:The webdriver raised a TimeoutException while waiting for                      a 'bokeh:idle' event to signify that the layout has rendered.                      Something may have gone wrong.\n"
     ]
    },
    {
     "data": {
      "image/svg+xml": [
       "<svg height=\"350\" style=\"width: 700px; height: 350px;\" version=\"1.1\" width=\"700\" xmlns=\"http://www.w3.org/2000/svg\" xmlns:xlink=\"http://www.w3.org/1999/xlink\"><defs/><g><g/><g transform=\"scale(1,1) translate(0.5,0.5)\"><rect fill=\"#FFFFFF\" height=\"350\" stroke=\"none\" width=\"700\" x=\"0\" y=\"0\"/><rect fill=\"#ffffff\" height=\"350\" stroke=\"none\" width=\"700\" x=\"0\" y=\"0\"/><rect fill=\"#FFFFFF\" height=\"320.815\" stroke=\"none\" width=\"614.895\" x=\"55.105000000000004\" y=\"4\"/><rect fill=\"#ffffff\" height=\"320.815\" stroke=\"none\" width=\"614.895\" x=\"55.105000000000004\" y=\"4\"/><g><rect fill=\"none\" height=\"320.815\" stroke=\"#e5e5e5\" stroke-miterlimit=\"10\" width=\"614.895\" x=\"55.105000000000004\" y=\"4\"/></g><g><g><path d=\" M 105 325 L 105 4\" fill=\"none\" paint-order=\"fill stroke markers\" stroke=\"#e5e5e5\" stroke-miterlimit=\"10\"/><path d=\" M 217 325 L 217 4\" fill=\"none\" paint-order=\"fill stroke markers\" stroke=\"#e5e5e5\" stroke-miterlimit=\"10\"/><path d=\" M 329 325 L 329 4\" fill=\"none\" paint-order=\"fill stroke markers\" stroke=\"#e5e5e5\" stroke-miterlimit=\"10\"/><path d=\" M 441 325 L 441 4\" fill=\"none\" paint-order=\"fill stroke markers\" stroke=\"#e5e5e5\" stroke-miterlimit=\"10\"/><path d=\" M 553 325 L 553 4\" fill=\"none\" paint-order=\"fill stroke markers\" stroke=\"#e5e5e5\" stroke-miterlimit=\"10\"/><path d=\" M 664 325 L 664 4\" fill=\"none\" paint-order=\"fill stroke markers\" stroke=\"#e5e5e5\" stroke-miterlimit=\"10\"/></g><g><path d=\" M 55 303 L 670 303\" fill=\"none\" paint-order=\"fill stroke markers\" stroke=\"#e5e5e5\" stroke-miterlimit=\"10\"/><path d=\" M 55 229 L 670 229\" fill=\"none\" paint-order=\"fill stroke markers\" stroke=\"#e5e5e5\" stroke-miterlimit=\"10\"/><path d=\" M 55 156 L 670 156\" fill=\"none\" paint-order=\"fill stroke markers\" stroke=\"#e5e5e5\" stroke-miterlimit=\"10\"/><path d=\" M 55 83 L 670 83\" fill=\"none\" paint-order=\"fill stroke markers\" stroke=\"#e5e5e5\" stroke-miterlimit=\"10\"/><path d=\" M 55 10 L 670 10\" fill=\"none\" paint-order=\"fill stroke markers\" stroke=\"#e5e5e5\" stroke-miterlimit=\"10\"/></g><g><path fill=\"none\" stroke=\"none\"/><path d=\" M 83.05477272727278 18.82914927219008 L 105.41459090909096 43.24650927322955 L 127.77440909090915 65.10004647416054 L 150.1342272727273 86.42698873070822 L 172.49404545454547 103.37379930285897 L 194.85386363636366 120.29154158929396 L 217.21368181818184 133.15236226064962 L 239.57350000000002 146.71756226122807 L 261.9333181818182 159.78911137456635 L 284.2931363636364 171.68435942476253 L 306.6529545454546 183.46864245383586 L 329.01277272727276 197.06202988298674 L 351.37259090909095 210.6691586835659 L 373.73240909090913 220.8556970690929 L 396.0922272727273 229.6692012980402 L 418.45204545454544 238.27341386983562 L 440.8118636363637 246.56373491366685 L 463.1716818181818 254.97415891402534 L 485.53150000000005 263.33914923017073 L 507.8913181818182 271.9997689101733 L 530.2511363636364 280.6039814819683 L 552.6109545454545 286.89330148223644 L 574.9707727272728 292.8866534824915 L 597.3305909090909 298.30093765663514 L 619.690409090909 304.2831908568901 L 642.0502272727273 310.2325000000001\" fill=\"none\" paint-order=\"fill stroke markers\" stroke=\"#5f9e6f\" stroke-linecap=\"round\" stroke-miterlimit=\"10\" stroke-width=\"6\"/></g><g><path fill=\"none\" stroke=\"none\"/><path d=\" M 466.1716818181818 254.97415891402534 A 3 3 0 1 1 466.1716803181819 254.97115891452535\" fill=\"white\" paint-order=\"fill stroke markers\" stroke=\"#5975a4\" stroke-miterlimit=\"10\" stroke-width=\"1.5\"/><path d=\" M 443.8118636363637 246.56373491366685 A 3 3 0 1 1 443.8118621363638 246.56073491416686\" fill=\"white\" paint-order=\"fill stroke markers\" stroke=\"#5975a4\" stroke-miterlimit=\"10\" stroke-width=\"1.5\"/><path d=\" M 421.45204545454544 238.27341386983562 A 3 3 0 1 1 421.45204395454556 238.27041387033563\" fill=\"white\" paint-order=\"fill stroke markers\" stroke=\"#5975a4\" stroke-miterlimit=\"10\" stroke-width=\"1.5\"/><path d=\" M 399.0922272727273 229.6692012980402 A 3 3 0 1 1 399.09222577272743 229.66620129854022\" fill=\"white\" paint-order=\"fill stroke markers\" stroke=\"#5975a4\" stroke-miterlimit=\"10\" stroke-width=\"1.5\"/><path d=\" M 376.73240909090913 220.8556970690929 A 3 3 0 1 1 376.73240759090925 220.85269706959292\" fill=\"white\" paint-order=\"fill stroke markers\" stroke=\"#5975a4\" stroke-miterlimit=\"10\" stroke-width=\"1.5\"/><path d=\" M 354.37259090909095 210.6691586835659 A 3 3 0 1 1 354.37258940909106 210.66615868406592\" fill=\"white\" paint-order=\"fill stroke markers\" stroke=\"#5975a4\" stroke-miterlimit=\"10\" stroke-width=\"1.5\"/><path d=\" M 332.01277272727276 197.06202988298674 A 3 3 0 1 1 332.0127712272729 197.05902988348674\" fill=\"white\" paint-order=\"fill stroke markers\" stroke=\"#5975a4\" stroke-miterlimit=\"10\" stroke-width=\"1.5\"/><path d=\" M 309.6529545454546 183.46864245383586 A 3 3 0 1 1 309.6529530454547 183.46564245433586\" fill=\"white\" paint-order=\"fill stroke markers\" stroke=\"#5975a4\" stroke-miterlimit=\"10\" stroke-width=\"1.5\"/><path d=\" M 287.2931363636364 171.68435942476253 A 3 3 0 1 1 287.2931348636365 171.68135942526254\" fill=\"white\" paint-order=\"fill stroke markers\" stroke=\"#5975a4\" stroke-miterlimit=\"10\" stroke-width=\"1.5\"/><path d=\" M 264.9333181818182 159.78911137456635 A 3 3 0 1 1 264.9333166818183 159.78611137506635\" fill=\"white\" paint-order=\"fill stroke markers\" stroke=\"#5975a4\" stroke-miterlimit=\"10\" stroke-width=\"1.5\"/><path d=\" M 242.57350000000002 146.71756226122807 A 3 3 0 1 1 242.57349850000014 146.71456226172808\" fill=\"white\" paint-order=\"fill stroke markers\" stroke=\"#5975a4\" stroke-miterlimit=\"10\" stroke-width=\"1.5\"/><path d=\" M 220.21368181818184 133.15236226064962 A 3 3 0 1 1 220.21368031818196 133.14936226114963\" fill=\"white\" paint-order=\"fill stroke markers\" stroke=\"#5975a4\" stroke-miterlimit=\"10\" stroke-width=\"1.5\"/><path d=\" M 197.85386363636366 120.29154158929396 A 3 3 0 1 1 197.85386213636377 120.28854158979395\" fill=\"white\" paint-order=\"fill stroke markers\" stroke=\"#5975a4\" stroke-miterlimit=\"10\" stroke-width=\"1.5\"/><path d=\" M 175.49404545454547 103.37379930285897 A 3 3 0 1 1 175.4940439545456 103.37079930335896\" fill=\"white\" paint-order=\"fill stroke markers\" stroke=\"#5975a4\" stroke-miterlimit=\"10\" stroke-width=\"1.5\"/><path d=\" M 153.1342272727273 86.42698873070822 A 3 3 0 1 1 153.1342257727274 86.42398873120821\" fill=\"white\" paint-order=\"fill stroke markers\" stroke=\"#5975a4\" stroke-miterlimit=\"10\" stroke-width=\"1.5\"/><path d=\" M 130.77440909090916 65.10004647416054 A 3 3 0 1 1 130.77440759090928 65.09704647466053\" fill=\"white\" paint-order=\"fill stroke markers\" stroke=\"#5975a4\" stroke-miterlimit=\"10\" stroke-width=\"1.5\"/><path d=\" M 108.41459090909096 43.24650927322955 A 3 3 0 1 1 108.41458940909109 43.24350927372955\" fill=\"white\" paint-order=\"fill stroke markers\" stroke=\"#5975a4\" stroke-miterlimit=\"10\" stroke-width=\"1.5\"/><path d=\" M 86.05477272727278 18.82914927219008 A 3 3 0 1 1 86.05477122727291 18.826149272690078\" fill=\"white\" paint-order=\"fill stroke markers\" stroke=\"#5975a4\" stroke-miterlimit=\"10\" stroke-width=\"1.5\"/><path d=\" M 488.53150000000005 263.33914923017073 A 3 3 0 1 1 488.53149850000017 263.33614923067074\" fill=\"white\" paint-order=\"fill stroke markers\" stroke=\"#5975a4\" stroke-miterlimit=\"10\" stroke-width=\"1.5\"/><path d=\" M 510.8913181818182 271.9997689101733 A 3 3 0 1 1 510.8913166818183 271.9967689106733\" fill=\"white\" paint-order=\"fill stroke markers\" stroke=\"#5975a4\" stroke-miterlimit=\"10\" stroke-width=\"1.5\"/><path d=\" M 533.2511363636364 280.6039814819683 A 3 3 0 1 1 533.2511348636366 280.6009814824683\" fill=\"white\" paint-order=\"fill stroke markers\" stroke=\"#5975a4\" stroke-miterlimit=\"10\" stroke-width=\"1.5\"/><path d=\" M 555.6109545454545 286.89330148223644 A 3 3 0 1 1 555.6109530454547 286.89030148273645\" fill=\"white\" paint-order=\"fill stroke markers\" stroke=\"#5975a4\" stroke-miterlimit=\"10\" stroke-width=\"1.5\"/><path d=\" M 577.9707727272728 292.8866534824915 A 3 3 0 1 1 577.970771227273 292.8836534829915\" fill=\"white\" paint-order=\"fill stroke markers\" stroke=\"#5975a4\" stroke-miterlimit=\"10\" stroke-width=\"1.5\"/><path d=\" M 600.3305909090909 298.30093765663514 A 3 3 0 1 1 600.3305894090911 298.29793765713515\" fill=\"white\" paint-order=\"fill stroke markers\" stroke=\"#5975a4\" stroke-miterlimit=\"10\" stroke-width=\"1.5\"/><path d=\" M 622.690409090909 304.2831908568901 A 3 3 0 1 1 622.6904075909092 304.2801908573901\" fill=\"white\" paint-order=\"fill stroke markers\" stroke=\"#5975a4\" stroke-miterlimit=\"10\" stroke-width=\"1.5\"/><path d=\" M 645.0502272727273 310.2325000000001 A 3 3 0 1 1 645.0502257727275 310.2295000005001\" fill=\"white\" paint-order=\"fill stroke markers\" stroke=\"#5975a4\" stroke-miterlimit=\"10\" stroke-width=\"1.5\"/></g><g><path fill=\"none\" stroke=\"none\"/><path d=\" M 83.05477272727278 18.582499999999982 L 105.41459090909096 59.27810000173349 L 127.77440909090915 71.85304040226856 L 150.1342272727273 103.73636010287464 L 172.49404545454547 115.82295330338911 L 194.85386363636366 132.63604976124816 L 217.21368181818184 134.89073766196498 L 239.57350000000002 134.7180896619575 L 261.9333181818182 166.17303462570362 L 284.2931363636364 165.90510086171662 L 306.6529545454546 179.46836297658 L 329.01277272727276 181.5559944052402 L 351.37259090909095 210.77913480648476 L 373.73240909090913 204.20717455775775 L 396.0922272727273 215.19498655822554 L 418.45204545454544 211.1254265580519 L 440.8118636363637 223.1459095150858 L 463.1716818181818 244.07331351597668 L 485.53150000000005 231.88799941019488 L 507.8913181818182 229.1389510988647 L 530.2511363636364 214.0551533839366 L 552.6109545454545 195.22418938313422 L 574.9707727272728 208.43176138369745 L 597.3305909090909 217.66789321017768 L 619.690409090909 225.60353521051593 L 642.0502272727273 244.71108835418636\" fill=\"none\" paint-order=\"fill stroke markers\" stroke=\"#a2cfae\" stroke-linecap=\"round\" stroke-miterlimit=\"10\" stroke-width=\"6\"/></g><g><path fill=\"none\" stroke=\"none\"/><path d=\" M 466.1716818181818 244.07331351597668 A 3 3 0 1 1 466.1716803181819 244.0703135164767\" fill=\"white\" paint-order=\"fill stroke markers\" stroke=\"#a1bae3\" stroke-miterlimit=\"10\" stroke-width=\"1.5\"/><path d=\" M 443.8118636363637 223.1459095150858 A 3 3 0 1 1 443.8118621363638 223.1429095155858\" fill=\"white\" paint-order=\"fill stroke markers\" stroke=\"#a1bae3\" stroke-miterlimit=\"10\" stroke-width=\"1.5\"/><path d=\" M 421.45204545454544 211.1254265580519 A 3 3 0 1 1 421.45204395454556 211.12242655855192\" fill=\"white\" paint-order=\"fill stroke markers\" stroke=\"#a1bae3\" stroke-miterlimit=\"10\" stroke-width=\"1.5\"/><path d=\" M 399.0922272727273 215.19498655822554 A 3 3 0 1 1 399.09222577272743 215.19198655872555\" fill=\"white\" paint-order=\"fill stroke markers\" stroke=\"#a1bae3\" stroke-miterlimit=\"10\" stroke-width=\"1.5\"/><path d=\" M 376.73240909090913 204.20717455775775 A 3 3 0 1 1 376.73240759090925 204.20417455825776\" fill=\"white\" paint-order=\"fill stroke markers\" stroke=\"#a1bae3\" stroke-miterlimit=\"10\" stroke-width=\"1.5\"/><path d=\" M 354.37259090909095 210.77913480648476 A 3 3 0 1 1 354.37258940909106 210.77613480698477\" fill=\"white\" paint-order=\"fill stroke markers\" stroke=\"#a1bae3\" stroke-miterlimit=\"10\" stroke-width=\"1.5\"/><path d=\" M 332.01277272727276 181.5559944052402 A 3 3 0 1 1 332.0127712272729 181.5529944057402\" fill=\"white\" paint-order=\"fill stroke markers\" stroke=\"#a1bae3\" stroke-miterlimit=\"10\" stroke-width=\"1.5\"/><path d=\" M 309.6529545454546 179.46836297658 A 3 3 0 1 1 309.6529530454547 179.46536297708002\" fill=\"white\" paint-order=\"fill stroke markers\" stroke=\"#a1bae3\" stroke-miterlimit=\"10\" stroke-width=\"1.5\"/><path d=\" M 264.9333181818182 166.17303462570362 A 3 3 0 1 1 264.9333166818183 166.17003462620363\" fill=\"white\" paint-order=\"fill stroke markers\" stroke=\"#a1bae3\" stroke-miterlimit=\"10\" stroke-width=\"1.5\"/><path d=\" M 287.2931363636364 165.90510086171662 A 3 3 0 1 1 287.2931348636365 165.90210086221663\" fill=\"white\" paint-order=\"fill stroke markers\" stroke=\"#a1bae3\" stroke-miterlimit=\"10\" stroke-width=\"1.5\"/><path d=\" M 242.57350000000002 134.7180896619575 A 3 3 0 1 1 242.57349850000014 134.7150896624575\" fill=\"white\" paint-order=\"fill stroke markers\" stroke=\"#a1bae3\" stroke-miterlimit=\"10\" stroke-width=\"1.5\"/><path d=\" M 220.21368181818184 134.89073766196498 A 3 3 0 1 1 220.21368031818196 134.88773766246499\" fill=\"white\" paint-order=\"fill stroke markers\" stroke=\"#a1bae3\" stroke-miterlimit=\"10\" stroke-width=\"1.5\"/><path d=\" M 197.85386363636366 132.63604976124816 A 3 3 0 1 1 197.85386213636377 132.63304976174817\" fill=\"white\" paint-order=\"fill stroke markers\" stroke=\"#a1bae3\" stroke-miterlimit=\"10\" stroke-width=\"1.5\"/><path d=\" M 175.49404545454547 115.82295330338911 A 3 3 0 1 1 175.4940439545456 115.81995330388911\" fill=\"white\" paint-order=\"fill stroke markers\" stroke=\"#a1bae3\" stroke-miterlimit=\"10\" stroke-width=\"1.5\"/><path d=\" M 153.1342272727273 103.73636010287464 A 3 3 0 1 1 153.1342257727274 103.73336010337464\" fill=\"white\" paint-order=\"fill stroke markers\" stroke=\"#a1bae3\" stroke-miterlimit=\"10\" stroke-width=\"1.5\"/><path d=\" M 130.77440909090916 71.85304040226856 A 3 3 0 1 1 130.77440759090928 71.85004040276856\" fill=\"white\" paint-order=\"fill stroke markers\" stroke=\"#a1bae3\" stroke-miterlimit=\"10\" stroke-width=\"1.5\"/><path d=\" M 108.41459090909096 59.27810000173349 A 3 3 0 1 1 108.41458940909109 59.27510000223349\" fill=\"white\" paint-order=\"fill stroke markers\" stroke=\"#a1bae3\" stroke-miterlimit=\"10\" stroke-width=\"1.5\"/><path d=\" M 86.05477272727278 18.582499999999982 A 3 3 0 1 1 86.05477122727291 18.57950000049998\" fill=\"white\" paint-order=\"fill stroke markers\" stroke=\"#a1bae3\" stroke-miterlimit=\"10\" stroke-width=\"1.5\"/><path d=\" M 488.53150000000005 231.88799941019488 A 3 3 0 1 1 488.53149850000017 231.8849994106949\" fill=\"white\" paint-order=\"fill stroke markers\" stroke=\"#a1bae3\" stroke-miterlimit=\"10\" stroke-width=\"1.5\"/><path d=\" M 510.8913181818182 229.1389510988647 A 3 3 0 1 1 510.8913166818183 229.13595109936472\" fill=\"white\" paint-order=\"fill stroke markers\" stroke=\"#a1bae3\" stroke-miterlimit=\"10\" stroke-width=\"1.5\"/><path d=\" M 533.2511363636364 214.0551533839366 A 3 3 0 1 1 533.2511348636366 214.05215338443662\" fill=\"white\" paint-order=\"fill stroke markers\" stroke=\"#a1bae3\" stroke-miterlimit=\"10\" stroke-width=\"1.5\"/><path d=\" M 555.6109545454545 195.22418938313422 A 3 3 0 1 1 555.6109530454547 195.22118938363423\" fill=\"white\" paint-order=\"fill stroke markers\" stroke=\"#a1bae3\" stroke-miterlimit=\"10\" stroke-width=\"1.5\"/><path d=\" M 577.9707727272728 208.43176138369745 A 3 3 0 1 1 577.970771227273 208.42876138419746\" fill=\"white\" paint-order=\"fill stroke markers\" stroke=\"#a1bae3\" stroke-miterlimit=\"10\" stroke-width=\"1.5\"/><path d=\" M 600.3305909090909 217.66789321017768 A 3 3 0 1 1 600.3305894090911 217.6648932106777\" fill=\"white\" paint-order=\"fill stroke markers\" stroke=\"#a1bae3\" stroke-miterlimit=\"10\" stroke-width=\"1.5\"/><path d=\" M 622.690409090909 225.60353521051593 A 3 3 0 1 1 622.6904075909092 225.60053521101594\" fill=\"white\" paint-order=\"fill stroke markers\" stroke=\"#a1bae3\" stroke-miterlimit=\"10\" stroke-width=\"1.5\"/><path d=\" M 645.0502272727273 244.71108835418636 A 3 3 0 1 1 645.0502257727275 244.70808835468637\" fill=\"white\" paint-order=\"fill stroke markers\" stroke=\"#a1bae3\" stroke-miterlimit=\"10\" stroke-width=\"1.5\"/></g></g><g><g/><g><path d=\" M 539.25 14 L 660 14 L 660 77 L 539.25 77 L 539.25 14 Z\" fill=\"#ffffff\" fill-opacity=\"0.95\" paint-order=\"fill stroke markers\" stroke=\"#e5e5e5\" stroke-miterlimit=\"10\" stroke-opacity=\"0.5\"/><text dominant-baseline=\"central\" fill=\"#444444\" font-family=\"helvetica\" font-size=\"10pt\" font-style=\"normal\" font-weight=\"normal\" stroke=\"none\" text-anchor=\"start\" text-decoration=\"normal\" x=\"574.25\" y=\"34\"> Train AUC</text><g><path d=\" M 549.25 34 L 569.25 34\" fill=\"none\" paint-order=\"fill stroke markers\" stroke=\"#5f9e6f\" stroke-linecap=\"round\" stroke-miterlimit=\"10\" stroke-width=\"6\"/></g><text dominant-baseline=\"central\" fill=\"#444444\" font-family=\"helvetica\" font-size=\"10pt\" font-style=\"normal\" font-weight=\"normal\" stroke=\"none\" text-anchor=\"start\" text-decoration=\"normal\" x=\"574.25\" y=\"57\"> Retrain AUC</text><g><path d=\" M 549.25 57 L 569.25 57\" fill=\"none\" paint-order=\"fill stroke markers\" stroke=\"#a2cfae\" stroke-linecap=\"round\" stroke-miterlimit=\"10\" stroke-width=\"6\"/></g></g></g><g><g><path d=\" M 55 325 L 670 325\" fill=\"none\" paint-order=\"fill stroke markers\" stroke=\"black\" stroke-miterlimit=\"10\"/><path d=\" M 105 331 L 105 323\" fill=\"none\" paint-order=\"fill stroke markers\" stroke=\"black\" stroke-miterlimit=\"10\"/><path d=\" M 217 331 L 217 323\" fill=\"none\" paint-order=\"fill stroke markers\" stroke=\"black\" stroke-miterlimit=\"10\"/><path d=\" M 329 331 L 329 323\" fill=\"none\" paint-order=\"fill stroke markers\" stroke=\"black\" stroke-miterlimit=\"10\"/><path d=\" M 441 331 L 441 323\" fill=\"none\" paint-order=\"fill stroke markers\" stroke=\"black\" stroke-miterlimit=\"10\"/><path d=\" M 553 331 L 553 323\" fill=\"none\" paint-order=\"fill stroke markers\" stroke=\"black\" stroke-miterlimit=\"10\"/><path d=\" M 664 331 L 664 323\" fill=\"none\" paint-order=\"fill stroke markers\" stroke=\"black\" stroke-miterlimit=\"10\"/><path d=\" M 83 329 L 83 325\" fill=\"none\" paint-order=\"fill stroke markers\" stroke=\"black\" stroke-miterlimit=\"10\"/><path d=\" M 61 329 L 61 325\" fill=\"none\" paint-order=\"fill stroke markers\" stroke=\"black\" stroke-miterlimit=\"10\"/><path d=\" M 105 329 L 105 325\" fill=\"none\" paint-order=\"fill stroke markers\" stroke=\"black\" stroke-miterlimit=\"10\"/><path d=\" M 128 329 L 128 325\" fill=\"none\" paint-order=\"fill stroke markers\" stroke=\"black\" stroke-miterlimit=\"10\"/><path d=\" M 150 329 L 150 325\" fill=\"none\" paint-order=\"fill stroke markers\" stroke=\"black\" stroke-miterlimit=\"10\"/><path d=\" M 172 329 L 172 325\" fill=\"none\" paint-order=\"fill stroke markers\" stroke=\"black\" stroke-miterlimit=\"10\"/><path d=\" M 195 329 L 195 325\" fill=\"none\" paint-order=\"fill stroke markers\" stroke=\"black\" stroke-miterlimit=\"10\"/><path d=\" M 217 329 L 217 325\" fill=\"none\" paint-order=\"fill stroke markers\" stroke=\"black\" stroke-miterlimit=\"10\"/><path d=\" M 240 329 L 240 325\" fill=\"none\" paint-order=\"fill stroke markers\" stroke=\"black\" stroke-miterlimit=\"10\"/><path d=\" M 262 329 L 262 325\" fill=\"none\" paint-order=\"fill stroke markers\" stroke=\"black\" stroke-miterlimit=\"10\"/><path d=\" M 284 329 L 284 325\" fill=\"none\" paint-order=\"fill stroke markers\" stroke=\"black\" stroke-miterlimit=\"10\"/><path d=\" M 307 329 L 307 325\" fill=\"none\" paint-order=\"fill stroke markers\" stroke=\"black\" stroke-miterlimit=\"10\"/><path d=\" M 329 329 L 329 325\" fill=\"none\" paint-order=\"fill stroke markers\" stroke=\"black\" stroke-miterlimit=\"10\"/><path d=\" M 351 329 L 351 325\" fill=\"none\" paint-order=\"fill stroke markers\" stroke=\"black\" stroke-miterlimit=\"10\"/><path d=\" M 374 329 L 374 325\" fill=\"none\" paint-order=\"fill stroke markers\" stroke=\"black\" stroke-miterlimit=\"10\"/><path d=\" M 396 329 L 396 325\" fill=\"none\" paint-order=\"fill stroke markers\" stroke=\"black\" stroke-miterlimit=\"10\"/><path d=\" M 418 329 L 418 325\" fill=\"none\" paint-order=\"fill stroke markers\" stroke=\"black\" stroke-miterlimit=\"10\"/><path d=\" M 441 329 L 441 325\" fill=\"none\" paint-order=\"fill stroke markers\" stroke=\"black\" stroke-miterlimit=\"10\"/><path d=\" M 463 329 L 463 325\" fill=\"none\" paint-order=\"fill stroke markers\" stroke=\"black\" stroke-miterlimit=\"10\"/><path d=\" M 486 329 L 486 325\" fill=\"none\" paint-order=\"fill stroke markers\" stroke=\"black\" stroke-miterlimit=\"10\"/><path d=\" M 508 329 L 508 325\" fill=\"none\" paint-order=\"fill stroke markers\" stroke=\"black\" stroke-miterlimit=\"10\"/><path d=\" M 530 329 L 530 325\" fill=\"none\" paint-order=\"fill stroke markers\" stroke=\"black\" stroke-miterlimit=\"10\"/><path d=\" M 553 329 L 553 325\" fill=\"none\" paint-order=\"fill stroke markers\" stroke=\"black\" stroke-miterlimit=\"10\"/><path d=\" M 575 329 L 575 325\" fill=\"none\" paint-order=\"fill stroke markers\" stroke=\"black\" stroke-miterlimit=\"10\"/><path d=\" M 597 329 L 597 325\" fill=\"none\" paint-order=\"fill stroke markers\" stroke=\"black\" stroke-miterlimit=\"10\"/><path d=\" M 620 329 L 620 325\" fill=\"none\" paint-order=\"fill stroke markers\" stroke=\"black\" stroke-miterlimit=\"10\"/><path d=\" M 642 329 L 642 325\" fill=\"none\" paint-order=\"fill stroke markers\" stroke=\"black\" stroke-miterlimit=\"10\"/><path d=\" M 664 329 L 664 325\" fill=\"none\" paint-order=\"fill stroke markers\" stroke=\"black\" stroke-miterlimit=\"10\"/><text dominant-baseline=\"hanging\" fill=\"#444444\" font-family=\"helvetica\" font-size=\"8pt\" font-style=\"normal\" font-weight=\"normal\" stroke=\"none\" text-anchor=\"middle\" text-decoration=\"normal\" x=\"105\" y=\"336\">10</text><text dominant-baseline=\"hanging\" fill=\"#444444\" font-family=\"helvetica\" font-size=\"8pt\" font-style=\"normal\" font-weight=\"normal\" stroke=\"none\" text-anchor=\"middle\" text-decoration=\"normal\" x=\"217\" y=\"336\">15</text><text dominant-baseline=\"hanging\" fill=\"#444444\" font-family=\"helvetica\" font-size=\"8pt\" font-style=\"normal\" font-weight=\"normal\" stroke=\"none\" text-anchor=\"middle\" text-decoration=\"normal\" x=\"329\" y=\"336\">20</text><text dominant-baseline=\"hanging\" fill=\"#444444\" font-family=\"helvetica\" font-size=\"8pt\" font-style=\"normal\" font-weight=\"normal\" stroke=\"none\" text-anchor=\"middle\" text-decoration=\"normal\" x=\"441\" y=\"336\">25</text><text dominant-baseline=\"hanging\" fill=\"#444444\" font-family=\"helvetica\" font-size=\"8pt\" font-style=\"normal\" font-weight=\"normal\" stroke=\"none\" text-anchor=\"middle\" text-decoration=\"normal\" x=\"553\" y=\"336\">30</text><text dominant-baseline=\"hanging\" fill=\"#444444\" font-family=\"helvetica\" font-size=\"8pt\" font-style=\"normal\" font-weight=\"normal\" stroke=\"none\" text-anchor=\"middle\" text-decoration=\"normal\" x=\"664\" y=\"336\">35</text><text dominant-baseline=\"hanging\" fill=\"#444444\" font-family=\"helvetica\" font-size=\"10pt\" font-style=\"italic\" font-weight=\"normal\" stroke=\"none\" text-anchor=\"middle\" text-decoration=\"normal\" x=\"362.5525\" y=\"354.00000000000006\"/></g><g><path d=\" M 55 325 L 55 4\" fill=\"none\" paint-order=\"fill stroke markers\" stroke=\"black\" stroke-miterlimit=\"10\"/><path d=\" M 49 303 L 57 303\" fill=\"none\" paint-order=\"fill stroke markers\" stroke=\"black\" stroke-miterlimit=\"10\"/><path d=\" M 49 229 L 57 229\" fill=\"none\" paint-order=\"fill stroke markers\" stroke=\"black\" stroke-miterlimit=\"10\"/><path d=\" M 49 156 L 57 156\" fill=\"none\" paint-order=\"fill stroke markers\" stroke=\"black\" stroke-miterlimit=\"10\"/><path d=\" M 49 83 L 57 83\" fill=\"none\" paint-order=\"fill stroke markers\" stroke=\"black\" stroke-miterlimit=\"10\"/><path d=\" M 49 10 L 57 10\" fill=\"none\" paint-order=\"fill stroke markers\" stroke=\"black\" stroke-miterlimit=\"10\"/><path d=\" M 51 317 L 55 317\" fill=\"none\" paint-order=\"fill stroke markers\" stroke=\"black\" stroke-miterlimit=\"10\"/><path d=\" M 51 303 L 55 303\" fill=\"none\" paint-order=\"fill stroke markers\" stroke=\"black\" stroke-miterlimit=\"10\"/><path d=\" M 51 288 L 55 288\" fill=\"none\" paint-order=\"fill stroke markers\" stroke=\"black\" stroke-miterlimit=\"10\"/><path d=\" M 51 273 L 55 273\" fill=\"none\" paint-order=\"fill stroke markers\" stroke=\"black\" stroke-miterlimit=\"10\"/><path d=\" M 51 259 L 55 259\" fill=\"none\" paint-order=\"fill stroke markers\" stroke=\"black\" stroke-miterlimit=\"10\"/><path d=\" M 51 244 L 55 244\" fill=\"none\" paint-order=\"fill stroke markers\" stroke=\"black\" stroke-miterlimit=\"10\"/><path d=\" M 51 229 L 55 229\" fill=\"none\" paint-order=\"fill stroke markers\" stroke=\"black\" stroke-miterlimit=\"10\"/><path d=\" M 51 215 L 55 215\" fill=\"none\" paint-order=\"fill stroke markers\" stroke=\"black\" stroke-miterlimit=\"10\"/><path d=\" M 51 200 L 55 200\" fill=\"none\" paint-order=\"fill stroke markers\" stroke=\"black\" stroke-miterlimit=\"10\"/><path d=\" M 51 186 L 55 186\" fill=\"none\" paint-order=\"fill stroke markers\" stroke=\"black\" stroke-miterlimit=\"10\"/><path d=\" M 51 171 L 55 171\" fill=\"none\" paint-order=\"fill stroke markers\" stroke=\"black\" stroke-miterlimit=\"10\"/><path d=\" M 51 156 L 55 156\" fill=\"none\" paint-order=\"fill stroke markers\" stroke=\"black\" stroke-miterlimit=\"10\"/><path d=\" M 51 142 L 55 142\" fill=\"none\" paint-order=\"fill stroke markers\" stroke=\"black\" stroke-miterlimit=\"10\"/><path d=\" M 51 127 L 55 127\" fill=\"none\" paint-order=\"fill stroke markers\" stroke=\"black\" stroke-miterlimit=\"10\"/><path d=\" M 51 112 L 55 112\" fill=\"none\" paint-order=\"fill stroke markers\" stroke=\"black\" stroke-miterlimit=\"10\"/><path d=\" M 51 98 L 55 98\" fill=\"none\" paint-order=\"fill stroke markers\" stroke=\"black\" stroke-miterlimit=\"10\"/><path d=\" M 51 83 L 55 83\" fill=\"none\" paint-order=\"fill stroke markers\" stroke=\"black\" stroke-miterlimit=\"10\"/><path d=\" M 51 68 L 55 68\" fill=\"none\" paint-order=\"fill stroke markers\" stroke=\"black\" stroke-miterlimit=\"10\"/><path d=\" M 51 54 L 55 54\" fill=\"none\" paint-order=\"fill stroke markers\" stroke=\"black\" stroke-miterlimit=\"10\"/><path d=\" M 51 39 L 55 39\" fill=\"none\" paint-order=\"fill stroke markers\" stroke=\"black\" stroke-miterlimit=\"10\"/><path d=\" M 51 24 L 55 24\" fill=\"none\" paint-order=\"fill stroke markers\" stroke=\"black\" stroke-miterlimit=\"10\"/><path d=\" M 51 10 L 55 10\" fill=\"none\" paint-order=\"fill stroke markers\" stroke=\"black\" stroke-miterlimit=\"10\"/><text dominant-baseline=\"central\" fill=\"#444444\" font-family=\"helvetica\" font-size=\"8pt\" font-style=\"normal\" font-weight=\"normal\" stroke=\"none\" text-anchor=\"end\" text-decoration=\"normal\" x=\"44\" y=\"303\">0.74</text><text dominant-baseline=\"central\" fill=\"#444444\" font-family=\"helvetica\" font-size=\"8pt\" font-style=\"normal\" font-weight=\"normal\" stroke=\"none\" text-anchor=\"end\" text-decoration=\"normal\" x=\"44\" y=\"229\">0.76</text><text dominant-baseline=\"central\" fill=\"#444444\" font-family=\"helvetica\" font-size=\"8pt\" font-style=\"normal\" font-weight=\"normal\" stroke=\"none\" text-anchor=\"end\" text-decoration=\"normal\" x=\"44\" y=\"156\">0.78</text><text dominant-baseline=\"central\" fill=\"#444444\" font-family=\"helvetica\" font-size=\"8pt\" font-style=\"normal\" font-weight=\"normal\" stroke=\"none\" text-anchor=\"end\" text-decoration=\"normal\" x=\"44\" y=\"83\">0.8</text><text dominant-baseline=\"central\" fill=\"#444444\" font-family=\"helvetica\" font-size=\"8pt\" font-style=\"normal\" font-weight=\"normal\" stroke=\"none\" text-anchor=\"end\" text-decoration=\"normal\" x=\"44\" y=\"10\">0.82</text><g transform=\"translate(15.592500000000001,164.40750000000003) rotate(-90,0,0)\"><text dominant-baseline=\"alphabetic\" fill=\"#444444\" font-family=\"helvetica\" font-size=\"10pt\" font-style=\"italic\" font-weight=\"normal\" stroke=\"none\" text-anchor=\"middle\" text-decoration=\"normal\" x=\"0\" y=\"0\">AUC</text><g transform=\"rotate(90,0,0) translate(-15.592500000000001,-164.40750000000003)\"/></g></g></g></g></g></svg>"
      ],
      "text/plain": [
       "<IPython.core.display.SVG object>"
      ]
     },
     "metadata": {},
     "output_type": "display_data"
    }
   ],
   "source": [
    "# SVG: LGBM Retrain Results\n",
    "#Save the plot and display it so that is is visible on github\n",
    "p.output_backend = \"svg\"\n",
    "export_svgs(p, filename=\"lgbm_bci_train_retrain.svg\")\n",
    "display(SVG('lgbm_bci_train_retrain.svg'))"
   ]
  },
  {
   "cell_type": "markdown",
   "metadata": {},
   "source": [
    "Retrainig does also seem to improve the results for the LightGBM model."
   ]
  },
  {
   "cell_type": "code",
   "execution_count": 59,
   "metadata": {
    "collapsed": true
   },
   "outputs": [],
   "source": [
    "xgb_series = retrain_results_dict['xgb'][['Retrain Test interval', 'Retrain interval', 'Test interval']].sum()\n",
    "lgbm_series = retrain_results_dict['lgbm'][['Retrain Test interval', 'Retrain interval', 'Test interval']].sum()"
   ]
  },
  {
   "cell_type": "code",
   "execution_count": 60,
   "metadata": {
    "collapsed": true
   },
   "outputs": [],
   "source": [
    "t_res = pd.DataFrame([['XGBoost', xgb_series['Retrain interval']/60],\n",
    "                      ['LightGBM', lgbm_series['Retrain interval']/60]], \n",
    "                     columns=['Model', 'Time(m)']).assign(color=[\"#5975a4\", \"#5f9e6f\"])\n",
    "t_cds = ColumnDataSource(t_res)"
   ]
  },
  {
   "cell_type": "code",
   "execution_count": 62,
   "metadata": {},
   "outputs": [
    {
     "data": {
      "text/html": [
       "\n",
       "\n",
       "    <div class=\"bk-root\">\n",
       "        <div class=\"bk-plotdiv\" id=\"7e837298-a8a2-45e0-9f7f-5a75ecf5f3e2\"></div>\n",
       "    </div>\n",
       "<script type=\"text/javascript\">\n",
       "  \n",
       "  (function(global) {\n",
       "    function now() {\n",
       "      return new Date();\n",
       "    }\n",
       "  \n",
       "    var force = false;\n",
       "  \n",
       "    if (typeof (window._bokeh_onload_callbacks) === \"undefined\" || force === true) {\n",
       "      window._bokeh_onload_callbacks = [];\n",
       "      window._bokeh_is_loading = undefined;\n",
       "    }\n",
       "  \n",
       "  \n",
       "    \n",
       "    if (typeof (window._bokeh_timeout) === \"undefined\" || force === true) {\n",
       "      window._bokeh_timeout = Date.now() + 0;\n",
       "      window._bokeh_failed_load = false;\n",
       "    }\n",
       "  \n",
       "    var NB_LOAD_WARNING = {'data': {'text/html':\n",
       "       \"<div style='background-color: #fdd'>\\n\"+\n",
       "       \"<p>\\n\"+\n",
       "       \"BokehJS does not appear to have successfully loaded. If loading BokehJS from CDN, this \\n\"+\n",
       "       \"may be due to a slow or bad network connection. Possible fixes:\\n\"+\n",
       "       \"</p>\\n\"+\n",
       "       \"<ul>\\n\"+\n",
       "       \"<li>re-rerun `output_notebook()` to attempt to load from CDN again, or</li>\\n\"+\n",
       "       \"<li>use INLINE resources instead, as so:</li>\\n\"+\n",
       "       \"</ul>\\n\"+\n",
       "       \"<code>\\n\"+\n",
       "       \"from bokeh.resources import INLINE\\n\"+\n",
       "       \"output_notebook(resources=INLINE)\\n\"+\n",
       "       \"</code>\\n\"+\n",
       "       \"</div>\"}};\n",
       "  \n",
       "    function display_loaded() {\n",
       "      if (window.Bokeh !== undefined) {\n",
       "        var el = document.getElementById(\"7e837298-a8a2-45e0-9f7f-5a75ecf5f3e2\");\n",
       "        el.textContent = \"BokehJS \" + Bokeh.version + \" successfully loaded.\";\n",
       "      } else if (Date.now() < window._bokeh_timeout) {\n",
       "        setTimeout(display_loaded, 100)\n",
       "      }\n",
       "    }\n",
       "  \n",
       "    function run_callbacks() {\n",
       "      try {\n",
       "        window._bokeh_onload_callbacks.forEach(function(callback) { callback() });\n",
       "      }\n",
       "      finally {\n",
       "        delete window._bokeh_onload_callbacks\n",
       "      }\n",
       "      console.info(\"Bokeh: all callbacks have finished\");\n",
       "    }\n",
       "  \n",
       "    function load_libs(js_urls, callback) {\n",
       "      window._bokeh_onload_callbacks.push(callback);\n",
       "      if (window._bokeh_is_loading > 0) {\n",
       "        console.log(\"Bokeh: BokehJS is being loaded, scheduling callback at\", now());\n",
       "        return null;\n",
       "      }\n",
       "      if (js_urls == null || js_urls.length === 0) {\n",
       "        run_callbacks();\n",
       "        return null;\n",
       "      }\n",
       "      console.log(\"Bokeh: BokehJS not loaded, scheduling load and callback at\", now());\n",
       "      window._bokeh_is_loading = js_urls.length;\n",
       "      for (var i = 0; i < js_urls.length; i++) {\n",
       "        var url = js_urls[i];\n",
       "        var s = document.createElement('script');\n",
       "        s.src = url;\n",
       "        s.async = false;\n",
       "        s.onreadystatechange = s.onload = function() {\n",
       "          window._bokeh_is_loading--;\n",
       "          if (window._bokeh_is_loading === 0) {\n",
       "            console.log(\"Bokeh: all BokehJS libraries loaded\");\n",
       "            run_callbacks()\n",
       "          }\n",
       "        };\n",
       "        s.onerror = function() {\n",
       "          console.warn(\"failed to load library \" + url);\n",
       "        };\n",
       "        console.log(\"Bokeh: injecting script tag for BokehJS library: \", url);\n",
       "        document.getElementsByTagName(\"head\")[0].appendChild(s);\n",
       "      }\n",
       "    };var element = document.getElementById(\"7e837298-a8a2-45e0-9f7f-5a75ecf5f3e2\");\n",
       "    if (element == null) {\n",
       "      console.log(\"Bokeh: ERROR: autoload.js configured with elementid '7e837298-a8a2-45e0-9f7f-5a75ecf5f3e2' but no matching script tag was found. \")\n",
       "      return false;\n",
       "    }\n",
       "  \n",
       "    var js_urls = [];\n",
       "  \n",
       "    var inline_js = [\n",
       "      function(Bokeh) {\n",
       "        (function() {\n",
       "          var fn = function() {\n",
       "            var docs_json = {\"0158a3dd-61c1-409c-8793-08bdd820ec0b\":{\"roots\":{\"references\":[{\"attributes\":{\"bottom_units\":\"screen\",\"fill_alpha\":{\"value\":0.5},\"fill_color\":{\"value\":\"lightgrey\"},\"left_units\":\"screen\",\"level\":\"overlay\",\"line_alpha\":{\"value\":1.0},\"line_color\":{\"value\":\"black\"},\"line_dash\":[4,4],\"line_width\":{\"value\":2},\"plot\":null,\"render_mode\":\"css\",\"right_units\":\"screen\",\"top_units\":\"screen\"},\"id\":\"e17d307b-95e3-4825-956f-e479efe0dc49\",\"type\":\"BoxAnnotation\"},{\"attributes\":{\"plot\":{\"id\":\"497bc5b3-b83a-407e-bfca-4c80e2cb832a\",\"subtype\":\"Figure\",\"type\":\"Plot\"}},\"id\":\"3bac4d91-525f-4a6d-8cda-da11d46e42df\",\"type\":\"SaveTool\"},{\"attributes\":{\"plot\":{\"id\":\"497bc5b3-b83a-407e-bfca-4c80e2cb832a\",\"subtype\":\"Figure\",\"type\":\"Plot\"}},\"id\":\"c1756850-6357-496e-9f60-c3b0d1a17cc7\",\"type\":\"ResetTool\"},{\"attributes\":{\"plot\":{\"id\":\"497bc5b3-b83a-407e-bfca-4c80e2cb832a\",\"subtype\":\"Figure\",\"type\":\"Plot\"}},\"id\":\"b00647e8-617e-4a42-ad13-1d3d049f19ac\",\"type\":\"HelpTool\"},{\"attributes\":{},\"id\":\"f10ad4e4-0198-476d-8488-a51c8eb63754\",\"type\":\"CategoricalTickFormatter\"},{\"attributes\":{},\"id\":\"aab5777a-a0ee-4585-a1fa-581f367386a9\",\"type\":\"BasicTickFormatter\"},{\"attributes\":{\"below\":[{\"id\":\"f1890c3c-1269-417c-9cbc-d721a0b4d72d\",\"type\":\"CategoricalAxis\"}],\"left\":[{\"id\":\"460c799d-89f7-4e4b-aeee-27f3b8122f45\",\"type\":\"LinearAxis\"}],\"plot_height\":500,\"plot_width\":300,\"renderers\":[{\"id\":\"f1890c3c-1269-417c-9cbc-d721a0b4d72d\",\"type\":\"CategoricalAxis\"},{\"id\":\"b4493d13-2b85-471a-9585-5315d09ae842\",\"type\":\"Grid\"},{\"id\":\"460c799d-89f7-4e4b-aeee-27f3b8122f45\",\"type\":\"LinearAxis\"},{\"id\":\"f921c3de-53e7-4fed-be30-b35f24d87d66\",\"type\":\"Grid\"},{\"id\":\"e17d307b-95e3-4825-956f-e479efe0dc49\",\"type\":\"BoxAnnotation\"},{\"id\":\"b5662a07-0942-4d21-a400-8f86a418304e\",\"type\":\"GlyphRenderer\"}],\"title\":{\"id\":\"b31e01ef-3224-4900-987f-96de1c1841db\",\"type\":\"Title\"},\"tool_events\":{\"id\":\"f18eda11-a91b-45d4-8bbc-19d73fbb6e07\",\"type\":\"ToolEvents\"},\"toolbar\":{\"id\":\"93768649-f184-4f4c-aebc-3ad7bd7da958\",\"type\":\"Toolbar\"},\"x_range\":{\"id\":\"288aef22-03a3-431c-ac43-e4d977705714\",\"type\":\"FactorRange\"},\"x_scale\":{\"id\":\"a2365611-3086-46ba-941c-14937d76e230\",\"type\":\"CategoricalScale\"},\"y_range\":{\"id\":\"9aafcca7-0b1f-4971-83ab-33127cbe607b\",\"type\":\"DataRange1d\"},\"y_scale\":{\"id\":\"3d17006b-10a2-4110-9315-7edfa9ff6cbc\",\"type\":\"LinearScale\"}},\"id\":\"497bc5b3-b83a-407e-bfca-4c80e2cb832a\",\"subtype\":\"Figure\",\"type\":\"Plot\"},{\"attributes\":{},\"id\":\"f18eda11-a91b-45d4-8bbc-19d73fbb6e07\",\"type\":\"ToolEvents\"},{\"attributes\":{\"callback\":null,\"factors\":[\"XGBoost\",\"LightGBM\"]},\"id\":\"288aef22-03a3-431c-ac43-e4d977705714\",\"type\":\"FactorRange\"},{\"attributes\":{\"axis_label\":\"Time (minutes)\",\"formatter\":{\"id\":\"aab5777a-a0ee-4585-a1fa-581f367386a9\",\"type\":\"BasicTickFormatter\"},\"plot\":{\"id\":\"497bc5b3-b83a-407e-bfca-4c80e2cb832a\",\"subtype\":\"Figure\",\"type\":\"Plot\"},\"ticker\":{\"id\":\"fe859527-0d38-4ba5-84ae-cb20aa514580\",\"type\":\"BasicTicker\"}},\"id\":\"460c799d-89f7-4e4b-aeee-27f3b8122f45\",\"type\":\"LinearAxis\"},{\"attributes\":{\"active_drag\":\"auto\",\"active_inspect\":\"auto\",\"active_scroll\":\"auto\",\"active_tap\":\"auto\",\"tools\":[{\"id\":\"beff8566-c5ef-4821-85dc-2f5d75d973fe\",\"type\":\"PanTool\"},{\"id\":\"f9d64925-a820-409f-b214-41964580f440\",\"type\":\"WheelZoomTool\"},{\"id\":\"d179b2af-58d8-4f1a-9919-c8514dcd65d1\",\"type\":\"BoxZoomTool\"},{\"id\":\"3bac4d91-525f-4a6d-8cda-da11d46e42df\",\"type\":\"SaveTool\"},{\"id\":\"c1756850-6357-496e-9f60-c3b0d1a17cc7\",\"type\":\"ResetTool\"},{\"id\":\"b00647e8-617e-4a42-ad13-1d3d049f19ac\",\"type\":\"HelpTool\"}]},\"id\":\"93768649-f184-4f4c-aebc-3ad7bd7da958\",\"type\":\"Toolbar\"},{\"attributes\":{\"callback\":null},\"id\":\"9aafcca7-0b1f-4971-83ab-33127cbe607b\",\"type\":\"DataRange1d\"},{\"attributes\":{},\"id\":\"a2365611-3086-46ba-941c-14937d76e230\",\"type\":\"CategoricalScale\"},{\"attributes\":{},\"id\":\"3d17006b-10a2-4110-9315-7edfa9ff6cbc\",\"type\":\"LinearScale\"},{\"attributes\":{\"plot\":{\"id\":\"497bc5b3-b83a-407e-bfca-4c80e2cb832a\",\"subtype\":\"Figure\",\"type\":\"Plot\"},\"ticker\":{\"id\":\"67653ee5-8577-4313-bc33-abf509adb610\",\"type\":\"CategoricalTicker\"}},\"id\":\"b4493d13-2b85-471a-9585-5315d09ae842\",\"type\":\"Grid\"},{\"attributes\":{\"formatter\":{\"id\":\"f10ad4e4-0198-476d-8488-a51c8eb63754\",\"type\":\"CategoricalTickFormatter\"},\"plot\":{\"id\":\"497bc5b3-b83a-407e-bfca-4c80e2cb832a\",\"subtype\":\"Figure\",\"type\":\"Plot\"},\"ticker\":{\"id\":\"67653ee5-8577-4313-bc33-abf509adb610\",\"type\":\"CategoricalTicker\"}},\"id\":\"f1890c3c-1269-417c-9cbc-d721a0b4d72d\",\"type\":\"CategoricalAxis\"},{\"attributes\":{},\"id\":\"67653ee5-8577-4313-bc33-abf509adb610\",\"type\":\"CategoricalTicker\"},{\"attributes\":{\"fill_color\":{\"field\":\"color\"},\"line_color\":{\"field\":\"color\"},\"top\":{\"field\":\"Time(m)\"},\"width\":{\"value\":0.8},\"x\":{\"field\":\"Model\"}},\"id\":\"6402fe70-2791-4bc8-8c04-d0f2e832e915\",\"type\":\"VBar\"},{\"attributes\":{},\"id\":\"fe859527-0d38-4ba5-84ae-cb20aa514580\",\"type\":\"BasicTicker\"},{\"attributes\":{\"dimension\":1,\"plot\":{\"id\":\"497bc5b3-b83a-407e-bfca-4c80e2cb832a\",\"subtype\":\"Figure\",\"type\":\"Plot\"},\"ticker\":{\"id\":\"fe859527-0d38-4ba5-84ae-cb20aa514580\",\"type\":\"BasicTicker\"}},\"id\":\"f921c3de-53e7-4fed-be30-b35f24d87d66\",\"type\":\"Grid\"},{\"attributes\":{\"fill_alpha\":{\"value\":0.1},\"fill_color\":{\"value\":\"#1f77b4\"},\"line_alpha\":{\"value\":0.1},\"line_color\":{\"value\":\"#1f77b4\"},\"top\":{\"field\":\"Time(m)\"},\"width\":{\"value\":0.8},\"x\":{\"field\":\"Model\"}},\"id\":\"5317c941-1ae7-4e50-9a56-dc5f1a02b7cb\",\"type\":\"VBar\"},{\"attributes\":{\"plot\":null,\"text\":\"\"},\"id\":\"b31e01ef-3224-4900-987f-96de1c1841db\",\"type\":\"Title\"},{\"attributes\":{\"data_source\":{\"id\":\"18ac767a-d9a4-4053-a739-b8cf1148e992\",\"type\":\"ColumnDataSource\"},\"glyph\":{\"id\":\"6402fe70-2791-4bc8-8c04-d0f2e832e915\",\"type\":\"VBar\"},\"hover_glyph\":null,\"muted_glyph\":null,\"nonselection_glyph\":{\"id\":\"5317c941-1ae7-4e50-9a56-dc5f1a02b7cb\",\"type\":\"VBar\"},\"selection_glyph\":null},\"id\":\"b5662a07-0942-4d21-a400-8f86a418304e\",\"type\":\"GlyphRenderer\"},{\"attributes\":{\"callback\":null,\"column_names\":[\"Model\",\"Time(m)\",\"color\",\"index\"],\"data\":{\"Model\":[\"XGBoost\",\"LightGBM\"],\"Time(m)\":{\"__ndarray__\":\"EVFK9p2dIkC8u88wwT8QQA==\",\"dtype\":\"float64\",\"shape\":[2]},\"color\":[\"#5975a4\",\"#5f9e6f\"],\"index\":[0,1]}},\"id\":\"18ac767a-d9a4-4053-a739-b8cf1148e992\",\"type\":\"ColumnDataSource\"},{\"attributes\":{\"plot\":{\"id\":\"497bc5b3-b83a-407e-bfca-4c80e2cb832a\",\"subtype\":\"Figure\",\"type\":\"Plot\"}},\"id\":\"beff8566-c5ef-4821-85dc-2f5d75d973fe\",\"type\":\"PanTool\"},{\"attributes\":{\"overlay\":{\"id\":\"e17d307b-95e3-4825-956f-e479efe0dc49\",\"type\":\"BoxAnnotation\"},\"plot\":{\"id\":\"497bc5b3-b83a-407e-bfca-4c80e2cb832a\",\"subtype\":\"Figure\",\"type\":\"Plot\"}},\"id\":\"d179b2af-58d8-4f1a-9919-c8514dcd65d1\",\"type\":\"BoxZoomTool\"},{\"attributes\":{\"plot\":{\"id\":\"497bc5b3-b83a-407e-bfca-4c80e2cb832a\",\"subtype\":\"Figure\",\"type\":\"Plot\"}},\"id\":\"f9d64925-a820-409f-b214-41964580f440\",\"type\":\"WheelZoomTool\"}],\"root_ids\":[\"497bc5b3-b83a-407e-bfca-4c80e2cb832a\"]},\"title\":\"Bokeh Application\",\"version\":\"0.12.6\"}};\n",
       "            var render_items = [{\"docid\":\"0158a3dd-61c1-409c-8793-08bdd820ec0b\",\"elementid\":\"7e837298-a8a2-45e0-9f7f-5a75ecf5f3e2\",\"modelid\":\"497bc5b3-b83a-407e-bfca-4c80e2cb832a\"}];\n",
       "            \n",
       "            Bokeh.embed.embed_items(docs_json, render_items);\n",
       "          };\n",
       "          if (document.readyState != \"loading\") fn();\n",
       "          else document.addEventListener(\"DOMContentLoaded\", fn);\n",
       "        })();\n",
       "      },\n",
       "      function(Bokeh) {\n",
       "      }\n",
       "    ];\n",
       "  \n",
       "    function run_inline_js() {\n",
       "      \n",
       "      if ((window.Bokeh !== undefined) || (force === true)) {\n",
       "        for (var i = 0; i < inline_js.length; i++) {\n",
       "          inline_js[i](window.Bokeh);\n",
       "        }if (force === true) {\n",
       "          display_loaded();\n",
       "        }} else if (Date.now() < window._bokeh_timeout) {\n",
       "        setTimeout(run_inline_js, 100);\n",
       "      } else if (!window._bokeh_failed_load) {\n",
       "        console.log(\"Bokeh: BokehJS failed to load within specified timeout.\");\n",
       "        window._bokeh_failed_load = true;\n",
       "      } else if (force !== true) {\n",
       "        var cell = $(document.getElementById(\"7e837298-a8a2-45e0-9f7f-5a75ecf5f3e2\")).parents('.cell').data().cell;\n",
       "        cell.output_area.append_execute_result(NB_LOAD_WARNING)\n",
       "      }\n",
       "  \n",
       "    }\n",
       "  \n",
       "    if (window._bokeh_is_loading === 0) {\n",
       "      console.log(\"Bokeh: BokehJS loaded, going straight to plotting\");\n",
       "      run_inline_js();\n",
       "    } else {\n",
       "      load_libs(js_urls, function() {\n",
       "        console.log(\"Bokeh: BokehJS plotting callback run at\", now());\n",
       "        run_inline_js();\n",
       "      });\n",
       "    }\n",
       "  }(this));\n",
       "</script>"
      ]
     },
     "metadata": {},
     "output_type": "execute_result"
    }
   ],
   "source": [
    "# XGB vs LGBM Retrain Time\n",
    "p = figure(plot_width=300, plot_height=500, x_range=t_res['Model'].tolist(), y_axis_label='Time (minutes)')\n",
    "p.vbar(x='Model', width=0.8, bottom=0, top='Time(m)', color=\"color\", source=t_cds)\n",
    "show(p)"
   ]
  },
  {
   "cell_type": "code",
   "execution_count": 63,
   "metadata": {},
   "outputs": [
    {
     "name": "stderr",
     "output_type": "stream",
     "text": [
      "WARNING:bokeh.io:The webdriver raised a TimeoutException while waiting for                      a 'bokeh:idle' event to signify that the layout has rendered.                      Something may have gone wrong.\n"
     ]
    },
    {
     "data": {
      "image/svg+xml": [
       "<svg height=\"500\" style=\"width: 300px; height: 500px;\" version=\"1.1\" width=\"300\" xmlns=\"http://www.w3.org/2000/svg\" xmlns:xlink=\"http://www.w3.org/1999/xlink\"><defs/><g><g/><g transform=\"scale(1,1) translate(0.5,0.5)\"><rect fill=\"#FFFFFF\" height=\"500\" stroke=\"none\" width=\"300\" x=\"0\" y=\"0\"/><rect fill=\"#ffffff\" height=\"500\" stroke=\"none\" width=\"300\" x=\"0\" y=\"0\"/><rect fill=\"#FFFFFF\" height=\"470.815\" stroke=\"none\" width=\"231.6871875\" x=\"38.31281250000001\" y=\"4.000000000000057\"/><rect fill=\"#ffffff\" height=\"470.815\" stroke=\"none\" width=\"231.6871875\" x=\"38.31281250000001\" y=\"4.000000000000057\"/><g><rect fill=\"none\" height=\"470.815\" stroke=\"#e5e5e5\" stroke-miterlimit=\"10\" width=\"231.6871875\" x=\"38.31281250000001\" y=\"4.000000000000057\"/></g><g><g><path d=\" M 96 475 L 96 4\" fill=\"none\" paint-order=\"fill stroke markers\" stroke=\"#e5e5e5\" stroke-miterlimit=\"10\"/><path d=\" M 212 475 L 212 4\" fill=\"none\" paint-order=\"fill stroke markers\" stroke=\"#e5e5e5\" stroke-miterlimit=\"10\"/></g><g><path d=\" M 38 453 L 270 453\" fill=\"none\" paint-order=\"fill stroke markers\" stroke=\"#e5e5e5\" stroke-miterlimit=\"10\"/><path d=\" M 38 361 L 270 361\" fill=\"none\" paint-order=\"fill stroke markers\" stroke=\"#e5e5e5\" stroke-miterlimit=\"10\"/><path d=\" M 38 269 L 270 269\" fill=\"none\" paint-order=\"fill stroke markers\" stroke=\"#e5e5e5\" stroke-miterlimit=\"10\"/><path d=\" M 38 178 L 270 178\" fill=\"none\" paint-order=\"fill stroke markers\" stroke=\"#e5e5e5\" stroke-miterlimit=\"10\"/><path d=\" M 38 86 L 270 86\" fill=\"none\" paint-order=\"fill stroke markers\" stroke=\"#e5e5e5\" stroke-miterlimit=\"10\"/></g><g><path fill=\"none\" stroke=\"none\"/><rect fill=\"#5975a4\" height=\"428.0136363636363\" stroke=\"none\" width=\"92.6748750000006\" x=\"49.8971718749997\" y=\"25.40068181818185\"/><path d=\" M 49.8971718749997 25.40068181818185 L 142.5720468750003 25.40068181818185 L 142.5720468750003 453.41431818181815 L 49.8971718749997 453.41431818181815 L 49.8971718749997 25.40068181818185 Z\" fill=\"none\" paint-order=\"fill stroke markers\" stroke=\"#5975a4\" stroke-miterlimit=\"10\"/><rect fill=\"#5f9e6f\" height=\"186.7997050413427\" stroke=\"none\" width=\"92.67487500000061\" x=\"165.7407656249997\" y=\"266.61461314047546\"/><path d=\" M 165.7407656249997 266.61461314047546 L 258.4156406250003 266.61461314047546 L 258.4156406250003 453.41431818181815 L 165.7407656249997 453.41431818181815 L 165.7407656249997 266.61461314047546 Z\" fill=\"none\" paint-order=\"fill stroke markers\" stroke=\"#5f9e6f\" stroke-miterlimit=\"10\"/></g></g><g/><g><g><path d=\" M 38 475 L 270 475\" fill=\"none\" paint-order=\"fill stroke markers\" stroke=\"black\" stroke-miterlimit=\"10\"/><path d=\" M 96 481 L 96 473\" fill=\"none\" paint-order=\"fill stroke markers\" stroke=\"black\" stroke-miterlimit=\"10\"/><path d=\" M 212 481 L 212 473\" fill=\"none\" paint-order=\"fill stroke markers\" stroke=\"black\" stroke-miterlimit=\"10\"/><text dominant-baseline=\"hanging\" fill=\"#444444\" font-family=\"helvetica\" font-size=\"8pt\" font-style=\"normal\" font-weight=\"normal\" stroke=\"none\" text-anchor=\"middle\" text-decoration=\"normal\" x=\"96\" y=\"486\">XGBoost</text><text dominant-baseline=\"hanging\" fill=\"#444444\" font-family=\"helvetica\" font-size=\"8pt\" font-style=\"normal\" font-weight=\"normal\" stroke=\"none\" text-anchor=\"middle\" text-decoration=\"normal\" x=\"212\" y=\"486\">LightGBM</text><text dominant-baseline=\"hanging\" fill=\"#444444\" font-family=\"helvetica\" font-size=\"10pt\" font-style=\"italic\" font-weight=\"normal\" stroke=\"none\" text-anchor=\"middle\" text-decoration=\"normal\" x=\"154.15640625\" y=\"504\"/></g><g><path d=\" M 38 475 L 38 4\" fill=\"none\" paint-order=\"fill stroke markers\" stroke=\"black\" stroke-miterlimit=\"10\"/><path d=\" M 32 453 L 40 453\" fill=\"none\" paint-order=\"fill stroke markers\" stroke=\"black\" stroke-miterlimit=\"10\"/><path d=\" M 32 361 L 40 361\" fill=\"none\" paint-order=\"fill stroke markers\" stroke=\"black\" stroke-miterlimit=\"10\"/><path d=\" M 32 269 L 40 269\" fill=\"none\" paint-order=\"fill stroke markers\" stroke=\"black\" stroke-miterlimit=\"10\"/><path d=\" M 32 178 L 40 178\" fill=\"none\" paint-order=\"fill stroke markers\" stroke=\"black\" stroke-miterlimit=\"10\"/><path d=\" M 32 86 L 40 86\" fill=\"none\" paint-order=\"fill stroke markers\" stroke=\"black\" stroke-miterlimit=\"10\"/><path d=\" M 34 472 L 38 472\" fill=\"none\" paint-order=\"fill stroke markers\" stroke=\"black\" stroke-miterlimit=\"10\"/><path d=\" M 34 453 L 38 453\" fill=\"none\" paint-order=\"fill stroke markers\" stroke=\"black\" stroke-miterlimit=\"10\"/><path d=\" M 34 435 L 38 435\" fill=\"none\" paint-order=\"fill stroke markers\" stroke=\"black\" stroke-miterlimit=\"10\"/><path d=\" M 34 417 L 38 417\" fill=\"none\" paint-order=\"fill stroke markers\" stroke=\"black\" stroke-miterlimit=\"10\"/><path d=\" M 34 398 L 38 398\" fill=\"none\" paint-order=\"fill stroke markers\" stroke=\"black\" stroke-miterlimit=\"10\"/><path d=\" M 34 380 L 38 380\" fill=\"none\" paint-order=\"fill stroke markers\" stroke=\"black\" stroke-miterlimit=\"10\"/><path d=\" M 34 361 L 38 361\" fill=\"none\" paint-order=\"fill stroke markers\" stroke=\"black\" stroke-miterlimit=\"10\"/><path d=\" M 34 343 L 38 343\" fill=\"none\" paint-order=\"fill stroke markers\" stroke=\"black\" stroke-miterlimit=\"10\"/><path d=\" M 34 325 L 38 325\" fill=\"none\" paint-order=\"fill stroke markers\" stroke=\"black\" stroke-miterlimit=\"10\"/><path d=\" M 34 306 L 38 306\" fill=\"none\" paint-order=\"fill stroke markers\" stroke=\"black\" stroke-miterlimit=\"10\"/><path d=\" M 34 288 L 38 288\" fill=\"none\" paint-order=\"fill stroke markers\" stroke=\"black\" stroke-miterlimit=\"10\"/><path d=\" M 34 269 L 38 269\" fill=\"none\" paint-order=\"fill stroke markers\" stroke=\"black\" stroke-miterlimit=\"10\"/><path d=\" M 34 251 L 38 251\" fill=\"none\" paint-order=\"fill stroke markers\" stroke=\"black\" stroke-miterlimit=\"10\"/><path d=\" M 34 233 L 38 233\" fill=\"none\" paint-order=\"fill stroke markers\" stroke=\"black\" stroke-miterlimit=\"10\"/><path d=\" M 34 214 L 38 214\" fill=\"none\" paint-order=\"fill stroke markers\" stroke=\"black\" stroke-miterlimit=\"10\"/><path d=\" M 34 196 L 38 196\" fill=\"none\" paint-order=\"fill stroke markers\" stroke=\"black\" stroke-miterlimit=\"10\"/><path d=\" M 34 178 L 38 178\" fill=\"none\" paint-order=\"fill stroke markers\" stroke=\"black\" stroke-miterlimit=\"10\"/><path d=\" M 34 159 L 38 159\" fill=\"none\" paint-order=\"fill stroke markers\" stroke=\"black\" stroke-miterlimit=\"10\"/><path d=\" M 34 141 L 38 141\" fill=\"none\" paint-order=\"fill stroke markers\" stroke=\"black\" stroke-miterlimit=\"10\"/><path d=\" M 34 122 L 38 122\" fill=\"none\" paint-order=\"fill stroke markers\" stroke=\"black\" stroke-miterlimit=\"10\"/><path d=\" M 34 104 L 38 104\" fill=\"none\" paint-order=\"fill stroke markers\" stroke=\"black\" stroke-miterlimit=\"10\"/><path d=\" M 34 86 L 38 86\" fill=\"none\" paint-order=\"fill stroke markers\" stroke=\"black\" stroke-miterlimit=\"10\"/><path d=\" M 34 67 L 38 67\" fill=\"none\" paint-order=\"fill stroke markers\" stroke=\"black\" stroke-miterlimit=\"10\"/><path d=\" M 34 49 L 38 49\" fill=\"none\" paint-order=\"fill stroke markers\" stroke=\"black\" stroke-miterlimit=\"10\"/><path d=\" M 34 30 L 38 30\" fill=\"none\" paint-order=\"fill stroke markers\" stroke=\"black\" stroke-miterlimit=\"10\"/><path d=\" M 34 12 L 38 12\" fill=\"none\" paint-order=\"fill stroke markers\" stroke=\"black\" stroke-miterlimit=\"10\"/><text dominant-baseline=\"central\" fill=\"#444444\" font-family=\"helvetica\" font-size=\"8pt\" font-style=\"normal\" font-weight=\"normal\" stroke=\"none\" text-anchor=\"end\" text-decoration=\"normal\" x=\"27\" y=\"453\">0</text><text dominant-baseline=\"central\" fill=\"#444444\" font-family=\"helvetica\" font-size=\"8pt\" font-style=\"normal\" font-weight=\"normal\" stroke=\"none\" text-anchor=\"end\" text-decoration=\"normal\" x=\"27\" y=\"361\">2</text><text dominant-baseline=\"central\" fill=\"#444444\" font-family=\"helvetica\" font-size=\"8pt\" font-style=\"normal\" font-weight=\"normal\" stroke=\"none\" text-anchor=\"end\" text-decoration=\"normal\" x=\"27\" y=\"269\">4</text><text dominant-baseline=\"central\" fill=\"#444444\" font-family=\"helvetica\" font-size=\"8pt\" font-style=\"normal\" font-weight=\"normal\" stroke=\"none\" text-anchor=\"end\" text-decoration=\"normal\" x=\"27\" y=\"178\">6</text><text dominant-baseline=\"central\" fill=\"#444444\" font-family=\"helvetica\" font-size=\"8pt\" font-style=\"normal\" font-weight=\"normal\" stroke=\"none\" text-anchor=\"end\" text-decoration=\"normal\" x=\"27\" y=\"86\">8</text><g transform=\"translate(15.592500000000008,239.40750000000003) rotate(-90,0,0)\"><text dominant-baseline=\"alphabetic\" fill=\"#444444\" font-family=\"helvetica\" font-size=\"10pt\" font-style=\"italic\" font-weight=\"normal\" stroke=\"none\" text-anchor=\"middle\" text-decoration=\"normal\" x=\"0\" y=\"0\">Time (minutes)</text><g transform=\"rotate(90,0,0) translate(-15.592500000000008,-239.40750000000003)\"/></g></g></g></g></g></svg>"
      ],
      "text/plain": [
       "<IPython.core.display.SVG object>"
      ]
     },
     "metadata": {},
     "output_type": "display_data"
    }
   ],
   "source": [
    "# SVG: XGB vs LGBM Retrain Time\n",
    "# Save the plot and display it so that is is visible on github\n",
    "p.output_backend = \"svg\"\n",
    "export_svgs(p, filename=\"xgb_lgbm_bar.svg\")\n",
    "display(SVG('xgb_lgbm_bar.svg'))"
   ]
  },
  {
   "cell_type": "markdown",
   "metadata": {},
   "source": [
    "LightGBM seems to be almost twice as fast as XGBoost and offer similar performance. In general, leaf-wise algorithms are more efficient and converge faster than depth-wise. However, it can easily over-fit when the data is small or the number of leaves is too high."
   ]
  }
 ],
 "metadata": {
  "kernelspec": {
   "display_name": "Python 3",
   "language": "python",
   "name": "python3"
  },
  "language_info": {
   "codemirror_mode": {
    "name": "ipython",
    "version": 3.0
   },
   "file_extension": ".py",
   "mimetype": "text/x-python",
   "name": "python",
   "nbconvert_exporter": "python",
   "pygments_lexer": "ipython3",
   "version": "3.6.1"
  }
 },
 "nbformat": 4,
 "nbformat_minor": 0
}