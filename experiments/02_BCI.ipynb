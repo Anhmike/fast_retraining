{
 "cells": [
  {
   "cell_type": "markdown",
   "metadata": {},
   "source": [
    "# Experiment 02: BCI\n",
    "\n",
    "This experiment uses a Brain Computer Interface dataset. The purpose is to try and predict when the participant is paying attention. The dataset consists of recordings from a number of electrodes placed over the scalp."
   ]
  },
  {
   "cell_type": "code",
   "execution_count": 30,
   "metadata": {},
   "outputs": [
    {
     "name": "stdout",
     "output_type": "stream",
     "text": [
      "System version: 3.6.1 |Anaconda 4.4.0 (64-bit)| (default, May 11 2017, 13:09:58) \n",
      "[GCC 4.4.7 20120313 (Red Hat 4.4.7-1)]\n",
      "XGBoost version: 0.6\n",
      "LightGBM version: 0.2\n",
      "The autoreload extension is already loaded. To reload it, use:\n",
      "  %reload_ext autoreload\n"
     ]
    }
   ],
   "source": [
    "import os,sys\n",
    "import numpy as np\n",
    "import pandas as pd\n",
    "from copy import deepcopy\n",
    "from tqdm import tqdm_notebook, tqdm\n",
    "from sklearn.preprocessing import StandardScaler\n",
    "from sklearn.pipeline import Pipeline, FeatureUnion\n",
    "from sklearn.metrics import roc_auc_score,accuracy_score, precision_score, recall_score, f1_score\n",
    "from lightgbm import LGBMClassifier\n",
    "from xgboost import XGBClassifier, XGBModel\n",
    "import json\n",
    "\n",
    "from libs.loaders import load_bci\n",
    "from libs.timer import Timer\n",
    "from libs.utils import get_number_processors\n",
    "\n",
    "import pkg_resources\n",
    "\n",
    "\n",
    "from bokeh.io import show, output_notebook\n",
    "from bokeh.plotting import figure\n",
    "from bokeh.models.sources import ColumnDataSource\n",
    "from bokeh.models import HoverTool\n",
    "print(\"System version: {}\".format(sys.version))\n",
    "print(\"XGBoost version: {}\".format(pkg_resources.get_distribution('xgboost').version))\n",
    "print(\"LightGBM version: {}\".format(pkg_resources.get_distribution('lightgbm').version))\n",
    "\n",
    "%load_ext autoreload\n",
    "%autoreload 2\n",
    "\n"
   ]
  },
  {
   "cell_type": "code",
   "execution_count": 153,
   "metadata": {},
   "outputs": [
    {
     "data": {
      "text/html": [
       "\n",
       "    <div class=\"bk-root\">\n",
       "        <a href=\"http://bokeh.pydata.org\" target=\"_blank\" class=\"bk-logo bk-logo-small bk-logo-notebook\"></a>\n",
       "        <span id=\"1cb8a502-0640-4e54-9d48-0b6dbd4f5989\">Loading BokehJS ...</span>\n",
       "    </div>"
      ]
     },
     "metadata": {},
     "output_type": "display_data"
    },
    {
     "data": {
      "application/javascript": [
       "\n",
       "(function(global) {\n",
       "  function now() {\n",
       "    return new Date();\n",
       "  }\n",
       "\n",
       "  var force = true;\n",
       "\n",
       "  if (typeof (window._bokeh_onload_callbacks) === \"undefined\" || force === true) {\n",
       "    window._bokeh_onload_callbacks = [];\n",
       "    window._bokeh_is_loading = undefined;\n",
       "  }\n",
       "\n",
       "\n",
       "  \n",
       "  if (typeof (window._bokeh_timeout) === \"undefined\" || force === true) {\n",
       "    window._bokeh_timeout = Date.now() + 5000;\n",
       "    window._bokeh_failed_load = false;\n",
       "  }\n",
       "\n",
       "  var NB_LOAD_WARNING = {'data': {'text/html':\n",
       "     \"<div style='background-color: #fdd'>\\n\"+\n",
       "     \"<p>\\n\"+\n",
       "     \"BokehJS does not appear to have successfully loaded. If loading BokehJS from CDN, this \\n\"+\n",
       "     \"may be due to a slow or bad network connection. Possible fixes:\\n\"+\n",
       "     \"</p>\\n\"+\n",
       "     \"<ul>\\n\"+\n",
       "     \"<li>re-rerun `output_notebook()` to attempt to load from CDN again, or</li>\\n\"+\n",
       "     \"<li>use INLINE resources instead, as so:</li>\\n\"+\n",
       "     \"</ul>\\n\"+\n",
       "     \"<code>\\n\"+\n",
       "     \"from bokeh.resources import INLINE\\n\"+\n",
       "     \"output_notebook(resources=INLINE)\\n\"+\n",
       "     \"</code>\\n\"+\n",
       "     \"</div>\"}};\n",
       "\n",
       "  function display_loaded() {\n",
       "    if (window.Bokeh !== undefined) {\n",
       "      var el = document.getElementById(\"1cb8a502-0640-4e54-9d48-0b6dbd4f5989\");\n",
       "      el.textContent = \"BokehJS \" + Bokeh.version + \" successfully loaded.\";\n",
       "    } else if (Date.now() < window._bokeh_timeout) {\n",
       "      setTimeout(display_loaded, 100)\n",
       "    }\n",
       "  }\n",
       "\n",
       "  function run_callbacks() {\n",
       "    window._bokeh_onload_callbacks.forEach(function(callback) { callback() });\n",
       "    delete window._bokeh_onload_callbacks\n",
       "    console.info(\"Bokeh: all callbacks have finished\");\n",
       "  }\n",
       "\n",
       "  function load_libs(js_urls, callback) {\n",
       "    window._bokeh_onload_callbacks.push(callback);\n",
       "    if (window._bokeh_is_loading > 0) {\n",
       "      console.log(\"Bokeh: BokehJS is being loaded, scheduling callback at\", now());\n",
       "      return null;\n",
       "    }\n",
       "    if (js_urls == null || js_urls.length === 0) {\n",
       "      run_callbacks();\n",
       "      return null;\n",
       "    }\n",
       "    console.log(\"Bokeh: BokehJS not loaded, scheduling load and callback at\", now());\n",
       "    window._bokeh_is_loading = js_urls.length;\n",
       "    for (var i = 0; i < js_urls.length; i++) {\n",
       "      var url = js_urls[i];\n",
       "      var s = document.createElement('script');\n",
       "      s.src = url;\n",
       "      s.async = false;\n",
       "      s.onreadystatechange = s.onload = function() {\n",
       "        window._bokeh_is_loading--;\n",
       "        if (window._bokeh_is_loading === 0) {\n",
       "          console.log(\"Bokeh: all BokehJS libraries loaded\");\n",
       "          run_callbacks()\n",
       "        }\n",
       "      };\n",
       "      s.onerror = function() {\n",
       "        console.warn(\"failed to load library \" + url);\n",
       "      };\n",
       "      console.log(\"Bokeh: injecting script tag for BokehJS library: \", url);\n",
       "      document.getElementsByTagName(\"head\")[0].appendChild(s);\n",
       "    }\n",
       "  };var element = document.getElementById(\"1cb8a502-0640-4e54-9d48-0b6dbd4f5989\");\n",
       "  if (element == null) {\n",
       "    console.log(\"Bokeh: ERROR: autoload.js configured with elementid '1cb8a502-0640-4e54-9d48-0b6dbd4f5989' but no matching script tag was found. \")\n",
       "    return false;\n",
       "  }\n",
       "\n",
       "  var js_urls = [\"https://cdn.pydata.org/bokeh/release/bokeh-0.12.5.min.js\", \"https://cdn.pydata.org/bokeh/release/bokeh-widgets-0.12.5.min.js\"];\n",
       "\n",
       "  var inline_js = [\n",
       "    function(Bokeh) {\n",
       "      Bokeh.set_log_level(\"info\");\n",
       "    },\n",
       "    \n",
       "    function(Bokeh) {\n",
       "      \n",
       "    },\n",
       "    \n",
       "    function(Bokeh) {\n",
       "      \n",
       "      document.getElementById(\"1cb8a502-0640-4e54-9d48-0b6dbd4f5989\").textContent = \"BokehJS is loading...\";\n",
       "    },\n",
       "    function(Bokeh) {\n",
       "      console.log(\"Bokeh: injecting CSS: https://cdn.pydata.org/bokeh/release/bokeh-0.12.5.min.css\");\n",
       "      Bokeh.embed.inject_css(\"https://cdn.pydata.org/bokeh/release/bokeh-0.12.5.min.css\");\n",
       "      console.log(\"Bokeh: injecting CSS: https://cdn.pydata.org/bokeh/release/bokeh-widgets-0.12.5.min.css\");\n",
       "      Bokeh.embed.inject_css(\"https://cdn.pydata.org/bokeh/release/bokeh-widgets-0.12.5.min.css\");\n",
       "    }\n",
       "  ];\n",
       "\n",
       "  function run_inline_js() {\n",
       "    \n",
       "    if ((window.Bokeh !== undefined) || (force === true)) {\n",
       "      for (var i = 0; i < inline_js.length; i++) {\n",
       "        inline_js[i](window.Bokeh);\n",
       "      }if (force === true) {\n",
       "        display_loaded();\n",
       "      }} else if (Date.now() < window._bokeh_timeout) {\n",
       "      setTimeout(run_inline_js, 100);\n",
       "    } else if (!window._bokeh_failed_load) {\n",
       "      console.log(\"Bokeh: BokehJS failed to load within specified timeout.\");\n",
       "      window._bokeh_failed_load = true;\n",
       "    } else if (force !== true) {\n",
       "      var cell = $(document.getElementById(\"1cb8a502-0640-4e54-9d48-0b6dbd4f5989\")).parents('.cell').data().cell;\n",
       "      cell.output_area.append_execute_result(NB_LOAD_WARNING)\n",
       "    }\n",
       "\n",
       "  }\n",
       "\n",
       "  if (window._bokeh_is_loading === 0) {\n",
       "    console.log(\"Bokeh: BokehJS loaded, going straight to plotting\");\n",
       "    run_inline_js();\n",
       "  } else {\n",
       "    load_libs(js_urls, function() {\n",
       "      console.log(\"Bokeh: BokehJS plotting callback run at\", now());\n",
       "      run_inline_js();\n",
       "    });\n",
       "  }\n",
       "}(this));"
      ]
     },
     "metadata": {},
     "output_type": "display_data"
    }
   ],
   "source": [
    "output_notebook()"
   ]
  },
  {
   "cell_type": "markdown",
   "metadata": {},
   "source": [
    "## XGBoost vs LightGBM benchmark\n",
    "\n",
    "We will compare both libraries on speed and preformance."
   ]
  },
  {
   "cell_type": "code",
   "execution_count": 2,
   "metadata": {},
   "outputs": [
    {
     "name": "stdout",
     "output_type": "stream",
     "text": [
      "20\n"
     ]
    }
   ],
   "source": [
    "number_processors = get_number_processors()\n",
    "print(number_processors)"
   ]
  },
  {
   "cell_type": "markdown",
   "metadata": {},
   "source": [
    "Below we define the modeling pipelines for our two classifiers."
   ]
  },
  {
   "cell_type": "code",
   "execution_count": 3,
   "metadata": {
    "collapsed": true
   },
   "outputs": [],
   "source": [
    "pipeline_steps = [('scale', StandardScaler())]\n",
    "continuous_pipeline = Pipeline(steps=pipeline_steps)"
   ]
  },
  {
   "cell_type": "code",
   "execution_count": 4,
   "metadata": {
    "collapsed": true
   },
   "outputs": [],
   "source": [
    "featurisers = [('continuous', continuous_pipeline)]"
   ]
  },
  {
   "cell_type": "code",
   "execution_count": 5,
   "metadata": {
    "collapsed": true
   },
   "outputs": [],
   "source": [
    "xgb_clf_pipeline = Pipeline(steps=[('features', FeatureUnion(featurisers)),\n",
    "                                          ('clf', XGBClassifier(max_depth=3, \n",
    "                                                                learning_rate=0.1, \n",
    "                                                                scale_pos_weight=2,\n",
    "                                                                n_estimators=100,\n",
    "                                                                gamma=0.1,\n",
    "                                                                min_child_weight=1,\n",
    "                                                                reg_lambda=1,\n",
    "                                                                subsample=1,\n",
    "                                                                nthread=number_processors\n",
    "                                                                ))])"
   ]
  },
  {
   "cell_type": "code",
   "execution_count": 6,
   "metadata": {
    "collapsed": true
   },
   "outputs": [],
   "source": [
    "xgb_hist_clf_pipeline = Pipeline(steps=[('features', FeatureUnion(featurisers)),\n",
    "                                          ('clf', XGBClassifier(max_depth=0, \n",
    "                                                                learning_rate=0.1, \n",
    "                                                                scale_pos_weight=2,\n",
    "                                                                n_estimators=100,\n",
    "                                                                gamma=0.1,\n",
    "                                                                min_child_weight=1,\n",
    "                                                                reg_lambda=1,\n",
    "                                                                subsample=1,\n",
    "                                                                max_leaves=2**3,\n",
    "                                                                grow_policy='lossguide',\n",
    "                                                                tree_method='hist',\n",
    "                                                                nthread=number_processors\n",
    "                                                                ))])"
   ]
  },
  {
   "cell_type": "code",
   "execution_count": 7,
   "metadata": {
    "collapsed": true
   },
   "outputs": [],
   "source": [
    "lgbm_clf_pipeline = Pipeline(steps=[('features', FeatureUnion(featurisers)),\n",
    "                                          ('clf', LGBMClassifier(num_leaves=2**3, \n",
    "                                                                learning_rate=0.1, \n",
    "                                                                scale_pos_weight=2,\n",
    "                                                                n_estimators=100,\n",
    "                                                                min_split_gain=0.1,\n",
    "                                                                min_child_weight=1,\n",
    "                                                                reg_lambda=1,\n",
    "                                                                subsample=1,\n",
    "                                                                nthread=number_processors\n",
    "                                                                ))])"
   ]
  },
  {
   "cell_type": "markdown",
   "metadata": {},
   "source": [
    "The dataset has been preprepared by extracting 800ms epochs from each channel. The data was then lowpass filtered at 18Hz and downsampled by a factor of 6. This results is a feature vector of\n"
   ]
  },
  {
   "cell_type": "code",
   "execution_count": 8,
   "metadata": {},
   "outputs": [
    {
     "name": "stderr",
     "output_type": "stream",
     "text": [
      "INFO:libs.loaders:MOUNT_POINT not found in environment. Defaulting to /fileshare\n"
     ]
    },
    {
     "name": "stdout",
     "output_type": "stream",
     "text": [
      "CPU times: user 2.47 s, sys: 484 ms, total: 2.95 s\n",
      "Wall time: 23.1 s\n"
     ]
    }
   ],
   "source": [
    "%%time\n",
    "X, y, X_test, y_test = load_bci()"
   ]
  },
  {
   "cell_type": "code",
   "execution_count": 9,
   "metadata": {
    "collapsed": true
   },
   "outputs": [],
   "source": [
    "metrics_dict = {\n",
    "    'Accuracy': accuracy_score,\n",
    "    'Precision': precision_score,\n",
    "    'Recall': recall_score,\n",
    "    'AUC': roc_auc_score,\n",
    "    'F1': f1_score,\n",
    "}\n",
    "\n",
    "def classification_metrics(metrics, y_true, y_pred):\n",
    "    return {metric_name:metric(y_true, y_pred) for metric_name, metric in metrics.items()}"
   ]
  },
  {
   "cell_type": "code",
   "execution_count": 10,
   "metadata": {
    "collapsed": true
   },
   "outputs": [],
   "source": [
    "results_dict = dict()"
   ]
  },
  {
   "cell_type": "markdown",
   "metadata": {},
   "source": [
    "### XGBoost"
   ]
  },
  {
   "cell_type": "code",
   "execution_count": 11,
   "metadata": {
    "collapsed": true
   },
   "outputs": [],
   "source": [
    "with Timer() as t_train:\n",
    "    xgb_clf_pipeline.fit(np.concatenate(X),np.concatenate(y))"
   ]
  },
  {
   "cell_type": "code",
   "execution_count": 12,
   "metadata": {
    "collapsed": true
   },
   "outputs": [],
   "source": [
    "with Timer() as t_test:\n",
    "    y_pred = xgb_clf_pipeline.predict(np.concatenate(X_test))"
   ]
  },
  {
   "cell_type": "code",
   "execution_count": 13,
   "metadata": {
    "collapsed": true
   },
   "outputs": [],
   "source": [
    "results_dict['xgb']={\n",
    "    'train_time': t_train.interval,\n",
    "    'test_time': t_test.interval,\n",
    "    'performance': classification_metrics(metrics_dict, \n",
    "                                          np.concatenate(y_test), \n",
    "                                          y_pred) \n",
    "}"
   ]
  },
  {
   "cell_type": "code",
   "execution_count": 14,
   "metadata": {
    "collapsed": true
   },
   "outputs": [],
   "source": [
    "with Timer() as t_train:\n",
    "    xgb_hist_clf_pipeline.fit(np.concatenate(X),np.concatenate(y))"
   ]
  },
  {
   "cell_type": "code",
   "execution_count": 15,
   "metadata": {
    "collapsed": true
   },
   "outputs": [],
   "source": [
    "with Timer() as t_test:\n",
    "    y_pred = xgb_hist_clf_pipeline.predict(np.concatenate(X_test))"
   ]
  },
  {
   "cell_type": "code",
   "execution_count": 16,
   "metadata": {
    "collapsed": true
   },
   "outputs": [],
   "source": [
    "results_dict['xgb_hist']={\n",
    "    'train_time': t_train.interval,\n",
    "    'test_time': t_test.interval,\n",
    "    'performance': classification_metrics(metrics_dict, \n",
    "                                          np.concatenate(y_test), \n",
    "                                          y_pred) \n",
    "}"
   ]
  },
  {
   "cell_type": "markdown",
   "metadata": {},
   "source": [
    "### LightGBM"
   ]
  },
  {
   "cell_type": "code",
   "execution_count": 17,
   "metadata": {
    "collapsed": true
   },
   "outputs": [],
   "source": [
    "with Timer() as t_train:\n",
    "    lgbm_clf_pipeline.fit(np.concatenate(X),np.concatenate(y))"
   ]
  },
  {
   "cell_type": "code",
   "execution_count": 18,
   "metadata": {
    "collapsed": true
   },
   "outputs": [],
   "source": [
    "with Timer() as t_test:\n",
    "    y_pred = lgbm_clf_pipeline.predict(np.concatenate(X_test))"
   ]
  },
  {
   "cell_type": "code",
   "execution_count": 19,
   "metadata": {
    "collapsed": true
   },
   "outputs": [],
   "source": [
    "results_dict['lgbm']={\n",
    "    'train_time': t_train.interval,\n",
    "    'test_time': t_test.interval,\n",
    "    'performance': classification_metrics(metrics_dict, \n",
    "                                          np.concatenate(y_test), \n",
    "                                          y_pred) \n",
    "}"
   ]
  },
  {
   "cell_type": "code",
   "execution_count": 20,
   "metadata": {},
   "outputs": [
    {
     "name": "stdout",
     "output_type": "stream",
     "text": [
      "{\n",
      "    \"lgbm\": {\n",
      "        \"performance\": {\n",
      "            \"AUC\": 0.5348626373626374,\n",
      "            \"Accuracy\": 0.8802275008364001,\n",
      "            \"F1\": 0.13734939759036147,\n",
      "            \"Precision\": 0.5588235294117647,\n",
      "            \"Recall\": 0.0782967032967033\n",
      "        },\n",
      "        \"test_time\": 0.21316392299195286,\n",
      "        \"train_time\": 8.697782410003128\n",
      "    },\n",
      "    \"xgb\": {\n",
      "        \"performance\": {\n",
      "            \"AUC\": 0.5277435897435897,\n",
      "            \"Accuracy\": 0.8812311809969889,\n",
      "            \"F1\": 0.11027568922305765,\n",
      "            \"Precision\": 0.6285714285714286,\n",
      "            \"Recall\": 0.06043956043956044\n",
      "        },\n",
      "        \"test_time\": 0.3929146029986441,\n",
      "        \"train_time\": 14.933708608004963\n",
      "    },\n",
      "    \"xgb_hist\": {\n",
      "        \"performance\": {\n",
      "            \"AUC\": 0.536521978021978,\n",
      "            \"Accuracy\": 0.8810639009702241,\n",
      "            \"F1\": 0.14234016887816647,\n",
      "            \"Precision\": 0.5841584158415841,\n",
      "            \"Recall\": 0.08104395604395605\n",
      "        },\n",
      "        \"test_time\": 0.4271383680024883,\n",
      "        \"train_time\": 55.80226322900853\n",
      "    }\n",
      "}\n"
     ]
    }
   ],
   "source": [
    "# Results\n",
    "print(json.dumps(results_dict, indent=4, sort_keys=True))"
   ]
  },
  {
   "cell_type": "markdown",
   "metadata": {},
   "source": [
    "## Concept Drift\n",
    "Concept drift can occur across many domains and can be caused by many factors such as sensor drift, seasonality, regime change, etc. One of the ways to combat this is by retraining. If the cause for the drift is observable then it can be incorporated into the model. In this specific instance the cause for the drift is an increase in the impedance in the electrodes, fatigue as well as a number of other factors. These are not observable in the dataset so we will have to retrain the model at regular intervals and observe the difference in performance. This constant retraining can be costly especially with large datasets. Below we will compare XGBoost and LightGBM in a naive retraining scenario."
   ]
  },
  {
   "cell_type": "code",
   "execution_count": 21,
   "metadata": {
    "collapsed": true
   },
   "outputs": [],
   "source": [
    "def _predict(model, X_test, y_test, auc_list, interval_list):\n",
    "    with Timer() as t:\n",
    "        y_pred = model.predict_proba(X_test)\n",
    "        auc_list.append(roc_auc_score(y_test, y_pred[:, 1]))\n",
    "    interval_list.append(t.interval)"
   ]
  },
  {
   "cell_type": "code",
   "execution_count": 22,
   "metadata": {
    "collapsed": true
   },
   "outputs": [],
   "source": [
    "def run_train_retrain_comparison(model, X, y, X_test, y_test):\n",
    "    retrain_model = deepcopy(model)\n",
    "    historical_X = deepcopy(X.tolist())\n",
    "    historical_y = deepcopy(y.tolist())\n",
    "    train_auc = list()\n",
    "    retrain_auc = list()\n",
    "    test_interval = list()\n",
    "    retrain_test_interval = list()\n",
    "    retrain_interval = list()\n",
    "    \n",
    "    for X_test_run, y_test_run in  tqdm_notebook(zip(X_test, y_test), total=len(y_test)):\n",
    "        prev_model = deepcopy(retrain_model)\n",
    "        \n",
    "        _predict(model, X_test_run, y_test_run, train_auc, test_interval)\n",
    "        _predict(retrain_model, X_test_run, y_test_run, retrain_auc, retrain_test_interval)\n",
    "        \n",
    "        historical_X.append(X_test_run)\n",
    "        historical_y.append(y_test_run)\n",
    "\n",
    "        new_train_X  = np.concatenate(historical_X)\n",
    "        with Timer() as t:\n",
    "            retrain_model.fit(new_train_X, np.concatenate(historical_y))\n",
    "        retrain_interval.append(t.interval)    \n",
    "        \n",
    "    return pd.DataFrame({\n",
    "        'Test interval':test_interval,\n",
    "        'Retrain Test interval':retrain_test_interval,\n",
    "        'Retrain interval':retrain_interval,\n",
    "        'Train AUC':train_auc,\n",
    "        'Retrain AUC':retrain_auc\n",
    "    })"
   ]
  },
  {
   "cell_type": "code",
   "execution_count": 23,
   "metadata": {
    "scrolled": false
   },
   "outputs": [
    {
     "data": {
      "application/vnd.jupyter.widget-view+json": {
       "model_id": "37ef412af2324be4b8a83cc8c410b0cc"
      }
     },
     "metadata": {},
     "output_type": "display_data"
    },
    {
     "name": "stdout",
     "output_type": "stream",
     "text": [
      "\n"
     ]
    }
   ],
   "source": [
    "df = run_train_retrain_comparison(xgb_clf_pipeline, X, y, X_test, y_test)"
   ]
  },
  {
   "cell_type": "code",
   "execution_count": 24,
   "metadata": {
    "collapsed": true
   },
   "outputs": [],
   "source": [
    "retrain_results_dict = dict()"
   ]
  },
  {
   "cell_type": "code",
   "execution_count": 25,
   "metadata": {
    "collapsed": true
   },
   "outputs": [],
   "source": [
    "retrain_results_dict['xgb'] = df"
   ]
  },
  {
   "cell_type": "code",
   "execution_count": 26,
   "metadata": {
    "scrolled": false
   },
   "outputs": [
    {
     "data": {
      "application/vnd.jupyter.widget-view+json": {
       "model_id": "4f73b8b2d3f74e17a2da1d73efc56ad0"
      }
     },
     "metadata": {},
     "output_type": "display_data"
    },
    {
     "name": "stdout",
     "output_type": "stream",
     "text": [
      "\n"
     ]
    }
   ],
   "source": [
    "df = run_train_retrain_comparison(lgbm_clf_pipeline, X, y, X_test, y_test)"
   ]
  },
  {
   "cell_type": "code",
   "execution_count": 27,
   "metadata": {
    "collapsed": true
   },
   "outputs": [],
   "source": [
    "retrain_results_dict['lgbm'] = df"
   ]
  },
  {
   "cell_type": "code",
   "execution_count": 200,
   "metadata": {
    "collapsed": true
   },
   "outputs": [],
   "source": [
    "data_cds = (retrain_results_dict['xgb'][['Train AUC', 'Retrain AUC']].rolling(window=10)\n",
    "                                                                     .mean()\n",
    "                                                                     .dropna()\n",
    "                                                                     .pipe(ColumnDataSource))"
   ]
  },
  {
   "cell_type": "code",
   "execution_count": 201,
   "metadata": {},
   "outputs": [
    {
     "data": {
      "text/html": [
       "\n",
       "\n",
       "    <div class=\"bk-root\">\n",
       "        <div class=\"bk-plotdiv\" id=\"063f0d29-6002-4e82-939c-3b1751607721\"></div>\n",
       "    </div>\n",
       "<script type=\"text/javascript\">\n",
       "  \n",
       "  (function(global) {\n",
       "    function now() {\n",
       "      return new Date();\n",
       "    }\n",
       "  \n",
       "    var force = false;\n",
       "  \n",
       "    if (typeof (window._bokeh_onload_callbacks) === \"undefined\" || force === true) {\n",
       "      window._bokeh_onload_callbacks = [];\n",
       "      window._bokeh_is_loading = undefined;\n",
       "    }\n",
       "  \n",
       "  \n",
       "    \n",
       "    if (typeof (window._bokeh_timeout) === \"undefined\" || force === true) {\n",
       "      window._bokeh_timeout = Date.now() + 0;\n",
       "      window._bokeh_failed_load = false;\n",
       "    }\n",
       "  \n",
       "    var NB_LOAD_WARNING = {'data': {'text/html':\n",
       "       \"<div style='background-color: #fdd'>\\n\"+\n",
       "       \"<p>\\n\"+\n",
       "       \"BokehJS does not appear to have successfully loaded. If loading BokehJS from CDN, this \\n\"+\n",
       "       \"may be due to a slow or bad network connection. Possible fixes:\\n\"+\n",
       "       \"</p>\\n\"+\n",
       "       \"<ul>\\n\"+\n",
       "       \"<li>re-rerun `output_notebook()` to attempt to load from CDN again, or</li>\\n\"+\n",
       "       \"<li>use INLINE resources instead, as so:</li>\\n\"+\n",
       "       \"</ul>\\n\"+\n",
       "       \"<code>\\n\"+\n",
       "       \"from bokeh.resources import INLINE\\n\"+\n",
       "       \"output_notebook(resources=INLINE)\\n\"+\n",
       "       \"</code>\\n\"+\n",
       "       \"</div>\"}};\n",
       "  \n",
       "    function display_loaded() {\n",
       "      if (window.Bokeh !== undefined) {\n",
       "        var el = document.getElementById(\"063f0d29-6002-4e82-939c-3b1751607721\");\n",
       "        el.textContent = \"BokehJS \" + Bokeh.version + \" successfully loaded.\";\n",
       "      } else if (Date.now() < window._bokeh_timeout) {\n",
       "        setTimeout(display_loaded, 100)\n",
       "      }\n",
       "    }\n",
       "  \n",
       "    function run_callbacks() {\n",
       "      window._bokeh_onload_callbacks.forEach(function(callback) { callback() });\n",
       "      delete window._bokeh_onload_callbacks\n",
       "      console.info(\"Bokeh: all callbacks have finished\");\n",
       "    }\n",
       "  \n",
       "    function load_libs(js_urls, callback) {\n",
       "      window._bokeh_onload_callbacks.push(callback);\n",
       "      if (window._bokeh_is_loading > 0) {\n",
       "        console.log(\"Bokeh: BokehJS is being loaded, scheduling callback at\", now());\n",
       "        return null;\n",
       "      }\n",
       "      if (js_urls == null || js_urls.length === 0) {\n",
       "        run_callbacks();\n",
       "        return null;\n",
       "      }\n",
       "      console.log(\"Bokeh: BokehJS not loaded, scheduling load and callback at\", now());\n",
       "      window._bokeh_is_loading = js_urls.length;\n",
       "      for (var i = 0; i < js_urls.length; i++) {\n",
       "        var url = js_urls[i];\n",
       "        var s = document.createElement('script');\n",
       "        s.src = url;\n",
       "        s.async = false;\n",
       "        s.onreadystatechange = s.onload = function() {\n",
       "          window._bokeh_is_loading--;\n",
       "          if (window._bokeh_is_loading === 0) {\n",
       "            console.log(\"Bokeh: all BokehJS libraries loaded\");\n",
       "            run_callbacks()\n",
       "          }\n",
       "        };\n",
       "        s.onerror = function() {\n",
       "          console.warn(\"failed to load library \" + url);\n",
       "        };\n",
       "        console.log(\"Bokeh: injecting script tag for BokehJS library: \", url);\n",
       "        document.getElementsByTagName(\"head\")[0].appendChild(s);\n",
       "      }\n",
       "    };var element = document.getElementById(\"063f0d29-6002-4e82-939c-3b1751607721\");\n",
       "    if (element == null) {\n",
       "      console.log(\"Bokeh: ERROR: autoload.js configured with elementid '063f0d29-6002-4e82-939c-3b1751607721' but no matching script tag was found. \")\n",
       "      return false;\n",
       "    }\n",
       "  \n",
       "    var js_urls = [];\n",
       "  \n",
       "    var inline_js = [\n",
       "      function(Bokeh) {\n",
       "        (function() {\n",
       "          var fn = function() {\n",
       "            var docs_json = {\"265fdf52-905e-4e4c-b02e-999088ff264d\":{\"roots\":{\"references\":[{\"attributes\":{},\"id\":\"e0907833-0381-48b3-9584-476a782ae478\",\"type\":\"BasicTickFormatter\"},{\"attributes\":{\"plot\":null,\"text\":\"\"},\"id\":\"b3221b99-b33d-4f14-b035-9e0bc9165f45\",\"type\":\"Title\"},{\"attributes\":{\"line_alpha\":{\"value\":0.1},\"line_cap\":\"round\",\"line_color\":{\"value\":\"#1f77b4\"},\"line_width\":{\"value\":6},\"x\":{\"field\":\"index\"},\"y\":{\"field\":\"Retrain AUC\"}},\"id\":\"350e39a5-8c24-4fa9-b9be-e271b5210d9e\",\"type\":\"Line\"},{\"attributes\":{\"fill_color\":{\"value\":\"white\"},\"line_color\":{\"value\":\"#5975a4\"},\"line_width\":{\"value\":1.5},\"size\":{\"units\":\"screen\",\"value\":6},\"x\":{\"field\":\"index\"},\"y\":{\"field\":\"Train AUC\"}},\"id\":\"8c3a2adc-c949-4338-bc48-8ac166247a6a\",\"type\":\"Circle\"},{\"attributes\":{\"callback\":null,\"column_names\":[\"Train AUC\",\"Retrain AUC\",\"index\"],\"data\":{\"Retrain AUC\":{\"__ndarray__\":\"VvppraUp6j+m9A79n87pP6qzQsR/suk/Anxk2y9r6T/dBmJBJ1DpPzp4PlSMKuk/Zg4kVIEl6T9y7C8v5CXpPz8bPY6J3+g/43Vw+CLg6D/iebbZzMHoPz8+CoEhveg/HTXqxcR76D+kFF3Hd4roPyWqoFLkceg/hPfcff566D9irGi+G2DoP/Z23AZNMeg/JteNJ45M6D8YWd83tFLoP28bX/lwdOg/vBESTY+e6D83NwbYBIHoPwgzo19cbOg/jwJUi5xa6D82OLXY3y/oPw==\",\"dtype\":\"float64\",\"shape\":[26]},\"Train AUC\":{\"__ndarray__\":\"dqghcxgp6j9A2Ldve/LpPzh28W2awek/CsBg8eaR6T8bmzB0/2vpP4DO4ZsoRuk/0c9AsmQp6T/qzXd3DQvpP8UT5eTQ7eg/gbeX2jXT6D/u2LxZ2rjoP6iYMPtymug/Ll1ovgN86D9QHMMVO2XoP3SA3pqEUeg/h2BQ9kU+6D+vaocMuyvoP5aX113rGOg/qoXnsjUG6D/6sBjC1vLnPw6Rih2Y3+c/qtP+8YbR5z82JfU9H8TnPxJGshoDuOc/+kSKwaGq5z/+p2FFU53nPw==\",\"dtype\":\"float64\",\"shape\":[26]},\"index\":[9,10,11,12,13,14,15,16,17,18,19,20,21,22,23,24,25,26,27,28,29,30,31,32,33,34]}},\"id\":\"a68d6c12-ce25-4223-a3dd-8ead8988ecd5\",\"type\":\"ColumnDataSource\"},{\"attributes\":{\"data_source\":{\"id\":\"a68d6c12-ce25-4223-a3dd-8ead8988ecd5\",\"type\":\"ColumnDataSource\"},\"glyph\":{\"id\":\"1ebac85d-b85c-4eb5-aeaf-a38683e59878\",\"type\":\"Line\"},\"hover_glyph\":null,\"muted_glyph\":null,\"nonselection_glyph\":{\"id\":\"b1598443-9964-4323-9efb-3e06ce512095\",\"type\":\"Line\"},\"selection_glyph\":null},\"id\":\"67db37e4-4ba6-42e7-ab25-24ed50733806\",\"type\":\"GlyphRenderer\"},{\"attributes\":{\"fill_alpha\":{\"value\":0.1},\"fill_color\":{\"value\":\"#1f77b4\"},\"line_alpha\":{\"value\":0.1},\"line_color\":{\"value\":\"#1f77b4\"},\"line_width\":{\"value\":1.5},\"size\":{\"units\":\"screen\",\"value\":6},\"x\":{\"field\":\"index\"},\"y\":{\"field\":\"Train AUC\"}},\"id\":\"0a0267ed-d6d1-4f5f-a69a-ff0a0c4602ac\",\"type\":\"Circle\"},{\"attributes\":{\"items\":[{\"id\":\"ce723de9-68a6-4e45-b668-37b618587ea7\",\"type\":\"LegendItem\"},{\"id\":\"1d518e52-5c76-4e06-b22f-99ea0522c275\",\"type\":\"LegendItem\"}],\"plot\":{\"id\":\"2ff01080-629f-46ca-a7dd-c966f12d6bd8\",\"subtype\":\"Figure\",\"type\":\"Plot\"}},\"id\":\"3506e0e4-f97e-43cf-8666-a81f9a2bc3c5\",\"type\":\"Legend\"},{\"attributes\":{\"fill_color\":{\"value\":\"white\"},\"line_color\":{\"value\":\"#a1bae3\"},\"line_width\":{\"value\":1.5},\"size\":{\"units\":\"screen\",\"value\":6},\"x\":{\"field\":\"index\"},\"y\":{\"field\":\"Retrain AUC\"}},\"id\":\"42977388-b4b6-4924-b74c-d75902188a49\",\"type\":\"Circle\"},{\"attributes\":{\"line_cap\":\"round\",\"line_color\":{\"value\":\"#a1bae3\"},\"line_width\":{\"value\":6},\"x\":{\"field\":\"index\"},\"y\":{\"field\":\"Retrain AUC\"}},\"id\":\"eee808a0-c811-4e83-89d0-6ae29680e90e\",\"type\":\"Line\"},{\"attributes\":{\"bottom_units\":\"screen\",\"fill_alpha\":{\"value\":0.5},\"fill_color\":{\"value\":\"lightgrey\"},\"left_units\":\"screen\",\"level\":\"overlay\",\"line_alpha\":{\"value\":1.0},\"line_color\":{\"value\":\"black\"},\"line_dash\":[4,4],\"line_width\":{\"value\":2},\"plot\":null,\"render_mode\":\"css\",\"right_units\":\"screen\",\"top_units\":\"screen\"},\"id\":\"0c89562d-4dbe-4df5-b2e5-d6bea336a3f7\",\"type\":\"BoxAnnotation\"},{\"attributes\":{},\"id\":\"75a90672-a240-47c9-998f-127e231b85e4\",\"type\":\"ToolEvents\"},{\"attributes\":{\"label\":{\"value\":\" Retrain AUC\"},\"renderers\":[{\"id\":\"e03ef63d-7516-405d-b0f9-60b7cba14b3f\",\"type\":\"GlyphRenderer\"}]},\"id\":\"1d518e52-5c76-4e06-b22f-99ea0522c275\",\"type\":\"LegendItem\"},{\"attributes\":{\"line_alpha\":{\"value\":0.1},\"line_cap\":\"round\",\"line_color\":{\"value\":\"#1f77b4\"},\"line_width\":{\"value\":6},\"x\":{\"field\":\"index\"},\"y\":{\"field\":\"Train AUC\"}},\"id\":\"b1598443-9964-4323-9efb-3e06ce512095\",\"type\":\"Line\"},{\"attributes\":{},\"id\":\"d00a1610-fb1a-4a79-826a-c7089dc1aea9\",\"type\":\"BasicTicker\"},{\"attributes\":{\"below\":[{\"id\":\"df352f73-a3c3-4ffa-9627-6599f248d21f\",\"type\":\"LinearAxis\"}],\"left\":[{\"id\":\"3598a1dd-a338-4c4d-ab7b-4bc66c67d17e\",\"type\":\"LinearAxis\"}],\"plot_height\":350,\"plot_width\":700,\"renderers\":[{\"id\":\"df352f73-a3c3-4ffa-9627-6599f248d21f\",\"type\":\"LinearAxis\"},{\"id\":\"4a041262-81f4-451f-8500-a18686f9dbe9\",\"type\":\"Grid\"},{\"id\":\"3598a1dd-a338-4c4d-ab7b-4bc66c67d17e\",\"type\":\"LinearAxis\"},{\"id\":\"2789fe84-7b3e-4e89-ae67-8dcc7e806b06\",\"type\":\"Grid\"},{\"id\":\"0c89562d-4dbe-4df5-b2e5-d6bea336a3f7\",\"type\":\"BoxAnnotation\"},{\"id\":\"3506e0e4-f97e-43cf-8666-a81f9a2bc3c5\",\"type\":\"Legend\"},{\"id\":\"67db37e4-4ba6-42e7-ab25-24ed50733806\",\"type\":\"GlyphRenderer\"},{\"id\":\"8952ee6a-549d-4f3a-bf85-7bc976cd23f1\",\"type\":\"GlyphRenderer\"},{\"id\":\"e03ef63d-7516-405d-b0f9-60b7cba14b3f\",\"type\":\"GlyphRenderer\"},{\"id\":\"c8e9c047-4293-46fc-b614-3585ad2db6da\",\"type\":\"GlyphRenderer\"}],\"title\":{\"id\":\"b3221b99-b33d-4f14-b035-9e0bc9165f45\",\"type\":\"Title\"},\"tool_events\":{\"id\":\"75a90672-a240-47c9-998f-127e231b85e4\",\"type\":\"ToolEvents\"},\"toolbar\":{\"id\":\"36ca3cfa-3b8d-4268-b17d-43203329a8e0\",\"type\":\"Toolbar\"},\"x_range\":{\"id\":\"8b17ad10-d02b-4542-a815-e842d1d06912\",\"type\":\"DataRange1d\"},\"y_range\":{\"id\":\"cc3df81f-2c7e-43b6-b374-097427d79a8f\",\"type\":\"DataRange1d\"}},\"id\":\"2ff01080-629f-46ca-a7dd-c966f12d6bd8\",\"subtype\":\"Figure\",\"type\":\"Plot\"},{\"attributes\":{\"active_drag\":\"auto\",\"active_scroll\":\"auto\",\"active_tap\":\"auto\",\"tools\":[{\"id\":\"d8176bd7-fd09-44de-a2bb-2e7a9d98d369\",\"type\":\"PanTool\"},{\"id\":\"e135d421-201d-4f87-b65c-dd7a2093e4f6\",\"type\":\"WheelZoomTool\"},{\"id\":\"d57794a5-6023-49e0-8b69-53a7307eac35\",\"type\":\"BoxZoomTool\"},{\"id\":\"898af821-91be-40d9-b667-0cb6bce803c7\",\"type\":\"ResetTool\"},{\"id\":\"ea654d6e-cd45-4d73-afc4-5e0f9547018f\",\"type\":\"HoverTool\"}]},\"id\":\"36ca3cfa-3b8d-4268-b17d-43203329a8e0\",\"type\":\"Toolbar\"},{\"attributes\":{\"label\":{\"value\":\" Train AUC\"},\"renderers\":[{\"id\":\"67db37e4-4ba6-42e7-ab25-24ed50733806\",\"type\":\"GlyphRenderer\"}]},\"id\":\"ce723de9-68a6-4e45-b668-37b618587ea7\",\"type\":\"LegendItem\"},{\"attributes\":{\"callback\":null},\"id\":\"8b17ad10-d02b-4542-a815-e842d1d06912\",\"type\":\"DataRange1d\"},{\"attributes\":{\"formatter\":{\"id\":\"e0907833-0381-48b3-9584-476a782ae478\",\"type\":\"BasicTickFormatter\"},\"plot\":{\"id\":\"2ff01080-629f-46ca-a7dd-c966f12d6bd8\",\"subtype\":\"Figure\",\"type\":\"Plot\"},\"ticker\":{\"id\":\"d00a1610-fb1a-4a79-826a-c7089dc1aea9\",\"type\":\"BasicTicker\"}},\"id\":\"df352f73-a3c3-4ffa-9627-6599f248d21f\",\"type\":\"LinearAxis\"},{\"attributes\":{\"callback\":null},\"id\":\"cc3df81f-2c7e-43b6-b374-097427d79a8f\",\"type\":\"DataRange1d\"},{\"attributes\":{},\"id\":\"387cc08b-96d5-4180-9568-02311ff55b4d\",\"type\":\"BasicTickFormatter\"},{\"attributes\":{},\"id\":\"b7bf3bda-1a79-4d24-ac5f-dfb544b629a4\",\"type\":\"BasicTicker\"},{\"attributes\":{\"plot\":{\"id\":\"2ff01080-629f-46ca-a7dd-c966f12d6bd8\",\"subtype\":\"Figure\",\"type\":\"Plot\"}},\"id\":\"898af821-91be-40d9-b667-0cb6bce803c7\",\"type\":\"ResetTool\"},{\"attributes\":{\"axis_label\":\"AUC\",\"formatter\":{\"id\":\"387cc08b-96d5-4180-9568-02311ff55b4d\",\"type\":\"BasicTickFormatter\"},\"plot\":{\"id\":\"2ff01080-629f-46ca-a7dd-c966f12d6bd8\",\"subtype\":\"Figure\",\"type\":\"Plot\"},\"ticker\":{\"id\":\"b7bf3bda-1a79-4d24-ac5f-dfb544b629a4\",\"type\":\"BasicTicker\"}},\"id\":\"3598a1dd-a338-4c4d-ab7b-4bc66c67d17e\",\"type\":\"LinearAxis\"},{\"attributes\":{\"plot\":{\"id\":\"2ff01080-629f-46ca-a7dd-c966f12d6bd8\",\"subtype\":\"Figure\",\"type\":\"Plot\"},\"ticker\":{\"id\":\"d00a1610-fb1a-4a79-826a-c7089dc1aea9\",\"type\":\"BasicTicker\"}},\"id\":\"4a041262-81f4-451f-8500-a18686f9dbe9\",\"type\":\"Grid\"},{\"attributes\":{\"dimension\":1,\"plot\":{\"id\":\"2ff01080-629f-46ca-a7dd-c966f12d6bd8\",\"subtype\":\"Figure\",\"type\":\"Plot\"},\"ticker\":{\"id\":\"b7bf3bda-1a79-4d24-ac5f-dfb544b629a4\",\"type\":\"BasicTicker\"}},\"id\":\"2789fe84-7b3e-4e89-ae67-8dcc7e806b06\",\"type\":\"Grid\"},{\"attributes\":{\"overlay\":{\"id\":\"0c89562d-4dbe-4df5-b2e5-d6bea336a3f7\",\"type\":\"BoxAnnotation\"},\"plot\":{\"id\":\"2ff01080-629f-46ca-a7dd-c966f12d6bd8\",\"subtype\":\"Figure\",\"type\":\"Plot\"}},\"id\":\"d57794a5-6023-49e0-8b69-53a7307eac35\",\"type\":\"BoxZoomTool\"},{\"attributes\":{\"data_source\":{\"id\":\"a68d6c12-ce25-4223-a3dd-8ead8988ecd5\",\"type\":\"ColumnDataSource\"},\"glyph\":{\"id\":\"eee808a0-c811-4e83-89d0-6ae29680e90e\",\"type\":\"Line\"},\"hover_glyph\":null,\"muted_glyph\":null,\"nonselection_glyph\":{\"id\":\"350e39a5-8c24-4fa9-b9be-e271b5210d9e\",\"type\":\"Line\"},\"selection_glyph\":null},\"id\":\"e03ef63d-7516-405d-b0f9-60b7cba14b3f\",\"type\":\"GlyphRenderer\"},{\"attributes\":{\"plot\":{\"id\":\"2ff01080-629f-46ca-a7dd-c966f12d6bd8\",\"subtype\":\"Figure\",\"type\":\"Plot\"}},\"id\":\"d8176bd7-fd09-44de-a2bb-2e7a9d98d369\",\"type\":\"PanTool\"},{\"attributes\":{\"plot\":{\"id\":\"2ff01080-629f-46ca-a7dd-c966f12d6bd8\",\"subtype\":\"Figure\",\"type\":\"Plot\"}},\"id\":\"e135d421-201d-4f87-b65c-dd7a2093e4f6\",\"type\":\"WheelZoomTool\"},{\"attributes\":{\"fill_alpha\":{\"value\":0.1},\"fill_color\":{\"value\":\"#1f77b4\"},\"line_alpha\":{\"value\":0.1},\"line_color\":{\"value\":\"#1f77b4\"},\"line_width\":{\"value\":1.5},\"size\":{\"units\":\"screen\",\"value\":6},\"x\":{\"field\":\"index\"},\"y\":{\"field\":\"Retrain AUC\"}},\"id\":\"28e15bc8-b65f-47e4-8a79-57bb5aa7156b\",\"type\":\"Circle\"},{\"attributes\":{\"data_source\":{\"id\":\"a68d6c12-ce25-4223-a3dd-8ead8988ecd5\",\"type\":\"ColumnDataSource\"},\"glyph\":{\"id\":\"8c3a2adc-c949-4338-bc48-8ac166247a6a\",\"type\":\"Circle\"},\"hover_glyph\":null,\"muted_glyph\":null,\"nonselection_glyph\":{\"id\":\"0a0267ed-d6d1-4f5f-a69a-ff0a0c4602ac\",\"type\":\"Circle\"},\"selection_glyph\":null},\"id\":\"8952ee6a-549d-4f3a-bf85-7bc976cd23f1\",\"type\":\"GlyphRenderer\"},{\"attributes\":{\"data_source\":{\"id\":\"a68d6c12-ce25-4223-a3dd-8ead8988ecd5\",\"type\":\"ColumnDataSource\"},\"glyph\":{\"id\":\"42977388-b4b6-4924-b74c-d75902188a49\",\"type\":\"Circle\"},\"hover_glyph\":null,\"muted_glyph\":null,\"nonselection_glyph\":{\"id\":\"28e15bc8-b65f-47e4-8a79-57bb5aa7156b\",\"type\":\"Circle\"},\"selection_glyph\":null},\"id\":\"c8e9c047-4293-46fc-b614-3585ad2db6da\",\"type\":\"GlyphRenderer\"},{\"attributes\":{\"line_cap\":\"round\",\"line_color\":{\"value\":\"#5975a4\"},\"line_width\":{\"value\":6},\"x\":{\"field\":\"index\"},\"y\":{\"field\":\"Train AUC\"}},\"id\":\"1ebac85d-b85c-4eb5-aeaf-a38683e59878\",\"type\":\"Line\"},{\"attributes\":{\"callback\":null,\"mode\":\"vline\",\"plot\":{\"id\":\"2ff01080-629f-46ca-a7dd-c966f12d6bd8\",\"subtype\":\"Figure\",\"type\":\"Plot\"},\"renderers\":[{\"id\":\"67db37e4-4ba6-42e7-ab25-24ed50733806\",\"type\":\"GlyphRenderer\"}],\"tooltips\":[[\"Train AUC\",\"@{Train AUC}{0.4f}\"],[\"Retrain AUC\",\"@{Retrain AUC}{0.4f}\"]]},\"id\":\"ea654d6e-cd45-4d73-afc4-5e0f9547018f\",\"type\":\"HoverTool\"}],\"root_ids\":[\"2ff01080-629f-46ca-a7dd-c966f12d6bd8\"]},\"title\":\"Bokeh Application\",\"version\":\"0.12.5\"}};\n",
       "            var render_items = [{\"docid\":\"265fdf52-905e-4e4c-b02e-999088ff264d\",\"elementid\":\"063f0d29-6002-4e82-939c-3b1751607721\",\"modelid\":\"2ff01080-629f-46ca-a7dd-c966f12d6bd8\"}];\n",
       "            \n",
       "            Bokeh.embed.embed_items(docs_json, render_items);\n",
       "          };\n",
       "          if (document.readyState != \"loading\") fn();\n",
       "          else document.addEventListener(\"DOMContentLoaded\", fn);\n",
       "        })();\n",
       "      },\n",
       "      function(Bokeh) {\n",
       "      }\n",
       "    ];\n",
       "  \n",
       "    function run_inline_js() {\n",
       "      \n",
       "      if ((window.Bokeh !== undefined) || (force === true)) {\n",
       "        for (var i = 0; i < inline_js.length; i++) {\n",
       "          inline_js[i](window.Bokeh);\n",
       "        }if (force === true) {\n",
       "          display_loaded();\n",
       "        }} else if (Date.now() < window._bokeh_timeout) {\n",
       "        setTimeout(run_inline_js, 100);\n",
       "      } else if (!window._bokeh_failed_load) {\n",
       "        console.log(\"Bokeh: BokehJS failed to load within specified timeout.\");\n",
       "        window._bokeh_failed_load = true;\n",
       "      } else if (force !== true) {\n",
       "        var cell = $(document.getElementById(\"063f0d29-6002-4e82-939c-3b1751607721\")).parents('.cell').data().cell;\n",
       "        cell.output_area.append_execute_result(NB_LOAD_WARNING)\n",
       "      }\n",
       "  \n",
       "    }\n",
       "  \n",
       "    if (window._bokeh_is_loading === 0) {\n",
       "      console.log(\"Bokeh: BokehJS loaded, going straight to plotting\");\n",
       "      run_inline_js();\n",
       "    } else {\n",
       "      load_libs(js_urls, function() {\n",
       "        console.log(\"Bokeh: BokehJS plotting callback run at\", now());\n",
       "        run_inline_js();\n",
       "      });\n",
       "    }\n",
       "  }(this));\n",
       "</script>"
      ]
     },
     "metadata": {},
     "output_type": "display_data"
    }
   ],
   "source": [
    "# XGB Retrain Results\n",
    "p = figure(y_axis_label='AUC', plot_width=700, plot_height=350, tools=\"pan,wheel_zoom,box_zoom,reset\")\n",
    "l1 = p.line('index', 'Train AUC', legend=' Train AUC', line_color=\"#5975a4\", source=data_cds, line_width=6, line_cap=\"round\")\n",
    "p.circle('index', 'Train AUC', fill_color=\"white\", size=6, line_width=1.5, line_color=\"#5975a4\", source=data_cds)\n",
    "p.line('index', 'Retrain AUC', legend=' Retrain AUC', line_color=\"#a1bae3\", source=data_cds, line_width=6, line_cap=\"round\")\n",
    "p.circle('index', 'Retrain AUC',  fill_color=\"white\", size=6, line_width=1.5, line_color=\"#a1bae3\", source=data_cds)\n",
    "l1_hover = HoverTool(renderers=[l1], tooltips=[( 'Train AUC',  '@{Train AUC}{0.4f}' ), ( 'Retrain AUC',  '@{Retrain AUC}{0.4f}' )], mode='vline')\n",
    "p.add_tools(l1_hover)\n",
    "show(p)"
   ]
  },
  {
   "cell_type": "markdown",
   "metadata": {},
   "source": [
    "Overall we can see that retraining does seem to help a bit. Ofcourse the retraining done here is naive with no consideration that later samples may also contain more noise. "
   ]
  },
  {
   "cell_type": "code",
   "execution_count": 202,
   "metadata": {
    "collapsed": true
   },
   "outputs": [],
   "source": [
    "data_cds = (retrain_results_dict['lgbm'][['Train AUC', 'Retrain AUC']].rolling(window=10)\n",
    "                                                                      .mean()\n",
    "                                                                      .dropna()\n",
    "                                                                      .pipe(ColumnDataSource))"
   ]
  },
  {
   "cell_type": "code",
   "execution_count": 203,
   "metadata": {},
   "outputs": [
    {
     "data": {
      "text/html": [
       "\n",
       "\n",
       "    <div class=\"bk-root\">\n",
       "        <div class=\"bk-plotdiv\" id=\"676661bb-e45a-4fc4-9961-faaea5658fec\"></div>\n",
       "    </div>\n",
       "<script type=\"text/javascript\">\n",
       "  \n",
       "  (function(global) {\n",
       "    function now() {\n",
       "      return new Date();\n",
       "    }\n",
       "  \n",
       "    var force = false;\n",
       "  \n",
       "    if (typeof (window._bokeh_onload_callbacks) === \"undefined\" || force === true) {\n",
       "      window._bokeh_onload_callbacks = [];\n",
       "      window._bokeh_is_loading = undefined;\n",
       "    }\n",
       "  \n",
       "  \n",
       "    \n",
       "    if (typeof (window._bokeh_timeout) === \"undefined\" || force === true) {\n",
       "      window._bokeh_timeout = Date.now() + 0;\n",
       "      window._bokeh_failed_load = false;\n",
       "    }\n",
       "  \n",
       "    var NB_LOAD_WARNING = {'data': {'text/html':\n",
       "       \"<div style='background-color: #fdd'>\\n\"+\n",
       "       \"<p>\\n\"+\n",
       "       \"BokehJS does not appear to have successfully loaded. If loading BokehJS from CDN, this \\n\"+\n",
       "       \"may be due to a slow or bad network connection. Possible fixes:\\n\"+\n",
       "       \"</p>\\n\"+\n",
       "       \"<ul>\\n\"+\n",
       "       \"<li>re-rerun `output_notebook()` to attempt to load from CDN again, or</li>\\n\"+\n",
       "       \"<li>use INLINE resources instead, as so:</li>\\n\"+\n",
       "       \"</ul>\\n\"+\n",
       "       \"<code>\\n\"+\n",
       "       \"from bokeh.resources import INLINE\\n\"+\n",
       "       \"output_notebook(resources=INLINE)\\n\"+\n",
       "       \"</code>\\n\"+\n",
       "       \"</div>\"}};\n",
       "  \n",
       "    function display_loaded() {\n",
       "      if (window.Bokeh !== undefined) {\n",
       "        var el = document.getElementById(\"676661bb-e45a-4fc4-9961-faaea5658fec\");\n",
       "        el.textContent = \"BokehJS \" + Bokeh.version + \" successfully loaded.\";\n",
       "      } else if (Date.now() < window._bokeh_timeout) {\n",
       "        setTimeout(display_loaded, 100)\n",
       "      }\n",
       "    }\n",
       "  \n",
       "    function run_callbacks() {\n",
       "      window._bokeh_onload_callbacks.forEach(function(callback) { callback() });\n",
       "      delete window._bokeh_onload_callbacks\n",
       "      console.info(\"Bokeh: all callbacks have finished\");\n",
       "    }\n",
       "  \n",
       "    function load_libs(js_urls, callback) {\n",
       "      window._bokeh_onload_callbacks.push(callback);\n",
       "      if (window._bokeh_is_loading > 0) {\n",
       "        console.log(\"Bokeh: BokehJS is being loaded, scheduling callback at\", now());\n",
       "        return null;\n",
       "      }\n",
       "      if (js_urls == null || js_urls.length === 0) {\n",
       "        run_callbacks();\n",
       "        return null;\n",
       "      }\n",
       "      console.log(\"Bokeh: BokehJS not loaded, scheduling load and callback at\", now());\n",
       "      window._bokeh_is_loading = js_urls.length;\n",
       "      for (var i = 0; i < js_urls.length; i++) {\n",
       "        var url = js_urls[i];\n",
       "        var s = document.createElement('script');\n",
       "        s.src = url;\n",
       "        s.async = false;\n",
       "        s.onreadystatechange = s.onload = function() {\n",
       "          window._bokeh_is_loading--;\n",
       "          if (window._bokeh_is_loading === 0) {\n",
       "            console.log(\"Bokeh: all BokehJS libraries loaded\");\n",
       "            run_callbacks()\n",
       "          }\n",
       "        };\n",
       "        s.onerror = function() {\n",
       "          console.warn(\"failed to load library \" + url);\n",
       "        };\n",
       "        console.log(\"Bokeh: injecting script tag for BokehJS library: \", url);\n",
       "        document.getElementsByTagName(\"head\")[0].appendChild(s);\n",
       "      }\n",
       "    };var element = document.getElementById(\"676661bb-e45a-4fc4-9961-faaea5658fec\");\n",
       "    if (element == null) {\n",
       "      console.log(\"Bokeh: ERROR: autoload.js configured with elementid '676661bb-e45a-4fc4-9961-faaea5658fec' but no matching script tag was found. \")\n",
       "      return false;\n",
       "    }\n",
       "  \n",
       "    var js_urls = [];\n",
       "  \n",
       "    var inline_js = [\n",
       "      function(Bokeh) {\n",
       "        (function() {\n",
       "          var fn = function() {\n",
       "            var docs_json = {\"3aba9b1f-bf57-416f-ade5-7b3b86439ee3\":{\"roots\":{\"references\":[{\"attributes\":{},\"id\":\"dd9c6219-67eb-4ef3-abfb-a238f5a2a0a6\",\"type\":\"BasicTicker\"},{\"attributes\":{\"below\":[{\"id\":\"4cf00046-74c5-4a8d-a09a-cd18bcd5b59b\",\"type\":\"LinearAxis\"}],\"left\":[{\"id\":\"496ab5db-aba8-4ce0-80b7-10cd00516fb1\",\"type\":\"LinearAxis\"}],\"plot_height\":350,\"plot_width\":700,\"renderers\":[{\"id\":\"4cf00046-74c5-4a8d-a09a-cd18bcd5b59b\",\"type\":\"LinearAxis\"},{\"id\":\"b9f8a542-5982-4bf2-9e23-82d9d8066f53\",\"type\":\"Grid\"},{\"id\":\"496ab5db-aba8-4ce0-80b7-10cd00516fb1\",\"type\":\"LinearAxis\"},{\"id\":\"7befc764-aa88-40c2-940f-c8df9329d7ae\",\"type\":\"Grid\"},{\"id\":\"aca1fc74-1f28-480d-84fa-e4bf81cf39bf\",\"type\":\"BoxAnnotation\"},{\"id\":\"9d9facbd-4caf-492e-9178-4aeb44539b56\",\"type\":\"Legend\"},{\"id\":\"fe722281-b32f-4a68-91f6-fcd947f60418\",\"type\":\"GlyphRenderer\"},{\"id\":\"d119734b-f7c2-4675-97a1-dc1388589d2c\",\"type\":\"GlyphRenderer\"},{\"id\":\"d59ae60a-c87d-4fd4-93c4-7dda0dac507f\",\"type\":\"GlyphRenderer\"},{\"id\":\"8cb2bc51-7a01-4973-872a-163bdae346a4\",\"type\":\"GlyphRenderer\"}],\"title\":{\"id\":\"7c903edf-4053-4917-8d70-9b790033e322\",\"type\":\"Title\"},\"tool_events\":{\"id\":\"93f431bf-372b-4019-a770-81cf5a95c910\",\"type\":\"ToolEvents\"},\"toolbar\":{\"id\":\"b4f94b70-b7ba-49a7-b5a5-afb2baaf26b4\",\"type\":\"Toolbar\"},\"x_range\":{\"id\":\"84ce506e-2f58-43e8-91db-a05428674b88\",\"type\":\"DataRange1d\"},\"y_range\":{\"id\":\"db8c9f1f-7955-4395-a100-3bc3ef2b3c2e\",\"type\":\"DataRange1d\"}},\"id\":\"83be4be0-1e51-4c54-8e1b-f83bd3957aeb\",\"subtype\":\"Figure\",\"type\":\"Plot\"},{\"attributes\":{\"plot\":{\"id\":\"83be4be0-1e51-4c54-8e1b-f83bd3957aeb\",\"subtype\":\"Figure\",\"type\":\"Plot\"},\"ticker\":{\"id\":\"dd9c6219-67eb-4ef3-abfb-a238f5a2a0a6\",\"type\":\"BasicTicker\"}},\"id\":\"b9f8a542-5982-4bf2-9e23-82d9d8066f53\",\"type\":\"Grid\"},{\"attributes\":{},\"id\":\"16589a8b-abda-4ca8-98ac-798f2daa87bb\",\"type\":\"BasicTicker\"},{\"attributes\":{\"callback\":null,\"column_names\":[\"Train AUC\",\"Retrain AUC\",\"index\"],\"data\":{\"Retrain AUC\":{\"__ndarray__\":\"9jytkBk56j/47VbF/RXqP8uqOtoa3+k/kMi54gR+6T9Vd4vO5FfpP1M4wCCJMuk/vYA5F80h6T99mFW1sCXpP766Sjxauug/OEWmif7P6D+IYRkDd9LoP22Jfi6bo+g/Nk3B2wSC6D/ZcCjzrpfoP1vI/Me+iug/1q6XqQuM6D8+rhGDKoHoP2olKzoGN+g/FJcy+ZpS6D+Jz9lt9ULoP1O/B7aNWug//ePR5YKF6D8WY9I98WvoP0L3UpIijug/HtUwcABs6D9zMTDT0EXoPw==\",\"dtype\":\"float64\",\"shape\":[26]},\"Train AUC\":{\"__ndarray__\":\"I7IwwGIp6j84hl3fDfrpP7bIwPKT6Ok/X75z9hGV6T+3Gt9H7WrpP+JW5TZKIek/WaO6ar0N6T+ivENJ7uroP8LcK1t8r+g/AUyuwsWc6D81jLH2BaDoP4pHs2wrnOg/WEzgcRp06D8DN97LD4roP0YIucTUYug/Yic6mRJp6D8Ja0RFdljoP/JPvBYiSOg/LJA6c4dA6D8jUQQKeSPoP8H1rrywJOg/Arqm3goi6D8/mEaP1fjnP8tcCU5Lyuc/1Q6CEkfP5z+nceJLEJbnPw==\",\"dtype\":\"float64\",\"shape\":[26]},\"index\":[9,10,11,12,13,14,15,16,17,18,19,20,21,22,23,24,25,26,27,28,29,30,31,32,33,34]}},\"id\":\"0e37fcb9-d6de-4b77-8190-e4de1c786fe5\",\"type\":\"ColumnDataSource\"},{\"attributes\":{\"axis_label\":\"AUC\",\"formatter\":{\"id\":\"8a10acd4-e68f-4b82-aa86-2d887cce494f\",\"type\":\"BasicTickFormatter\"},\"plot\":{\"id\":\"83be4be0-1e51-4c54-8e1b-f83bd3957aeb\",\"subtype\":\"Figure\",\"type\":\"Plot\"},\"ticker\":{\"id\":\"16589a8b-abda-4ca8-98ac-798f2daa87bb\",\"type\":\"BasicTicker\"}},\"id\":\"496ab5db-aba8-4ce0-80b7-10cd00516fb1\",\"type\":\"LinearAxis\"},{\"attributes\":{\"formatter\":{\"id\":\"903ef3f1-f3dc-47c5-87f7-22dcbc390b9e\",\"type\":\"BasicTickFormatter\"},\"plot\":{\"id\":\"83be4be0-1e51-4c54-8e1b-f83bd3957aeb\",\"subtype\":\"Figure\",\"type\":\"Plot\"},\"ticker\":{\"id\":\"dd9c6219-67eb-4ef3-abfb-a238f5a2a0a6\",\"type\":\"BasicTicker\"}},\"id\":\"4cf00046-74c5-4a8d-a09a-cd18bcd5b59b\",\"type\":\"LinearAxis\"},{\"attributes\":{\"plot\":{\"id\":\"83be4be0-1e51-4c54-8e1b-f83bd3957aeb\",\"subtype\":\"Figure\",\"type\":\"Plot\"}},\"id\":\"c1452576-1a08-418b-9b95-8f06f7a085e6\",\"type\":\"ResetTool\"},{\"attributes\":{},\"id\":\"93f431bf-372b-4019-a770-81cf5a95c910\",\"type\":\"ToolEvents\"},{\"attributes\":{\"overlay\":{\"id\":\"aca1fc74-1f28-480d-84fa-e4bf81cf39bf\",\"type\":\"BoxAnnotation\"},\"plot\":{\"id\":\"83be4be0-1e51-4c54-8e1b-f83bd3957aeb\",\"subtype\":\"Figure\",\"type\":\"Plot\"}},\"id\":\"e10952f1-d79e-4b63-8515-aa85ade2cdb1\",\"type\":\"BoxZoomTool\"},{\"attributes\":{\"plot\":{\"id\":\"83be4be0-1e51-4c54-8e1b-f83bd3957aeb\",\"subtype\":\"Figure\",\"type\":\"Plot\"}},\"id\":\"5db0dad0-0f42-47c1-80be-5888ac62245a\",\"type\":\"WheelZoomTool\"},{\"attributes\":{\"line_cap\":\"round\",\"line_color\":{\"value\":\"#5f9e6f\"},\"line_width\":{\"value\":6},\"x\":{\"field\":\"index\"},\"y\":{\"field\":\"Train AUC\"}},\"id\":\"523bc3ad-698a-4779-bc8c-20b50b0ac287\",\"type\":\"Line\"},{\"attributes\":{\"callback\":null},\"id\":\"84ce506e-2f58-43e8-91db-a05428674b88\",\"type\":\"DataRange1d\"},{\"attributes\":{\"data_source\":{\"id\":\"0e37fcb9-d6de-4b77-8190-e4de1c786fe5\",\"type\":\"ColumnDataSource\"},\"glyph\":{\"id\":\"703d9d8b-3fb8-46f6-8dbd-abf93605c8fc\",\"type\":\"Line\"},\"hover_glyph\":null,\"muted_glyph\":null,\"nonselection_glyph\":{\"id\":\"0fd7ad15-6fe8-4f22-a5b5-d9d79aa42e7a\",\"type\":\"Line\"},\"selection_glyph\":null},\"id\":\"d59ae60a-c87d-4fd4-93c4-7dda0dac507f\",\"type\":\"GlyphRenderer\"},{\"attributes\":{\"plot\":{\"id\":\"83be4be0-1e51-4c54-8e1b-f83bd3957aeb\",\"subtype\":\"Figure\",\"type\":\"Plot\"}},\"id\":\"b7e5020a-4a05-4964-9c8e-e5c95c44a222\",\"type\":\"PanTool\"},{\"attributes\":{\"plot\":null,\"text\":\"\"},\"id\":\"7c903edf-4053-4917-8d70-9b790033e322\",\"type\":\"Title\"},{\"attributes\":{\"line_alpha\":{\"value\":0.1},\"line_cap\":\"round\",\"line_color\":{\"value\":\"#1f77b4\"},\"line_width\":{\"value\":6},\"x\":{\"field\":\"index\"},\"y\":{\"field\":\"Train AUC\"}},\"id\":\"5e070e92-3e3c-46b2-8eee-cc64bcfe577a\",\"type\":\"Line\"},{\"attributes\":{\"dimension\":1,\"plot\":{\"id\":\"83be4be0-1e51-4c54-8e1b-f83bd3957aeb\",\"subtype\":\"Figure\",\"type\":\"Plot\"},\"ticker\":{\"id\":\"16589a8b-abda-4ca8-98ac-798f2daa87bb\",\"type\":\"BasicTicker\"}},\"id\":\"7befc764-aa88-40c2-940f-c8df9329d7ae\",\"type\":\"Grid\"},{\"attributes\":{\"bottom_units\":\"screen\",\"fill_alpha\":{\"value\":0.5},\"fill_color\":{\"value\":\"lightgrey\"},\"left_units\":\"screen\",\"level\":\"overlay\",\"line_alpha\":{\"value\":1.0},\"line_color\":{\"value\":\"black\"},\"line_dash\":[4,4],\"line_width\":{\"value\":2},\"plot\":null,\"render_mode\":\"css\",\"right_units\":\"screen\",\"top_units\":\"screen\"},\"id\":\"aca1fc74-1f28-480d-84fa-e4bf81cf39bf\",\"type\":\"BoxAnnotation\"},{\"attributes\":{\"line_alpha\":{\"value\":0.1},\"line_cap\":\"round\",\"line_color\":{\"value\":\"#1f77b4\"},\"line_width\":{\"value\":6},\"x\":{\"field\":\"index\"},\"y\":{\"field\":\"Retrain AUC\"}},\"id\":\"0fd7ad15-6fe8-4f22-a5b5-d9d79aa42e7a\",\"type\":\"Line\"},{\"attributes\":{},\"id\":\"8a10acd4-e68f-4b82-aa86-2d887cce494f\",\"type\":\"BasicTickFormatter\"},{\"attributes\":{\"items\":[{\"id\":\"420f0c06-e73a-4d48-90cd-9730d308baff\",\"type\":\"LegendItem\"},{\"id\":\"60fb3547-2bb0-4fc7-b4cf-efbb9f6c736f\",\"type\":\"LegendItem\"}],\"plot\":{\"id\":\"83be4be0-1e51-4c54-8e1b-f83bd3957aeb\",\"subtype\":\"Figure\",\"type\":\"Plot\"}},\"id\":\"9d9facbd-4caf-492e-9178-4aeb44539b56\",\"type\":\"Legend\"},{\"attributes\":{\"data_source\":{\"id\":\"0e37fcb9-d6de-4b77-8190-e4de1c786fe5\",\"type\":\"ColumnDataSource\"},\"glyph\":{\"id\":\"523bc3ad-698a-4779-bc8c-20b50b0ac287\",\"type\":\"Line\"},\"hover_glyph\":null,\"muted_glyph\":null,\"nonselection_glyph\":{\"id\":\"5e070e92-3e3c-46b2-8eee-cc64bcfe577a\",\"type\":\"Line\"},\"selection_glyph\":null},\"id\":\"fe722281-b32f-4a68-91f6-fcd947f60418\",\"type\":\"GlyphRenderer\"},{\"attributes\":{\"fill_alpha\":{\"value\":0.1},\"fill_color\":{\"value\":\"#1f77b4\"},\"line_alpha\":{\"value\":0.1},\"line_color\":{\"value\":\"#1f77b4\"},\"line_width\":{\"value\":1.5},\"size\":{\"units\":\"screen\",\"value\":6},\"x\":{\"field\":\"index\"},\"y\":{\"field\":\"Retrain AUC\"}},\"id\":\"fe662f37-16c8-42bc-9d80-79f5b926a114\",\"type\":\"Circle\"},{\"attributes\":{\"data_source\":{\"id\":\"0e37fcb9-d6de-4b77-8190-e4de1c786fe5\",\"type\":\"ColumnDataSource\"},\"glyph\":{\"id\":\"34e2c5d4-d4ab-498c-97f2-d18b3aa67a70\",\"type\":\"Circle\"},\"hover_glyph\":null,\"muted_glyph\":null,\"nonselection_glyph\":{\"id\":\"fe662f37-16c8-42bc-9d80-79f5b926a114\",\"type\":\"Circle\"},\"selection_glyph\":null},\"id\":\"8cb2bc51-7a01-4973-872a-163bdae346a4\",\"type\":\"GlyphRenderer\"},{\"attributes\":{\"callback\":null,\"mode\":\"vline\",\"plot\":{\"id\":\"83be4be0-1e51-4c54-8e1b-f83bd3957aeb\",\"subtype\":\"Figure\",\"type\":\"Plot\"},\"renderers\":[{\"id\":\"fe722281-b32f-4a68-91f6-fcd947f60418\",\"type\":\"GlyphRenderer\"}],\"tooltips\":[[\"Train AUC\",\"@{Train AUC}{0.4f}\"],[\"Retrain AUC\",\"@{Retrain AUC}{0.4f}\"]]},\"id\":\"5a193e8f-7c82-4f86-977c-4d4be4c1eddf\",\"type\":\"HoverTool\"},{\"attributes\":{\"fill_alpha\":{\"value\":0.1},\"fill_color\":{\"value\":\"#1f77b4\"},\"line_alpha\":{\"value\":0.1},\"line_color\":{\"value\":\"#1f77b4\"},\"line_width\":{\"value\":1.5},\"size\":{\"units\":\"screen\",\"value\":6},\"x\":{\"field\":\"index\"},\"y\":{\"field\":\"Train AUC\"}},\"id\":\"1e5267ad-5383-4919-bd36-a3937eeec762\",\"type\":\"Circle\"},{\"attributes\":{\"fill_color\":{\"value\":\"white\"},\"line_color\":{\"value\":\"#a1bae3\"},\"line_width\":{\"value\":1.5},\"size\":{\"units\":\"screen\",\"value\":6},\"x\":{\"field\":\"index\"},\"y\":{\"field\":\"Retrain AUC\"}},\"id\":\"34e2c5d4-d4ab-498c-97f2-d18b3aa67a70\",\"type\":\"Circle\"},{\"attributes\":{},\"id\":\"903ef3f1-f3dc-47c5-87f7-22dcbc390b9e\",\"type\":\"BasicTickFormatter\"},{\"attributes\":{\"line_cap\":\"round\",\"line_color\":{\"value\":\"#a2cfae\"},\"line_width\":{\"value\":6},\"x\":{\"field\":\"index\"},\"y\":{\"field\":\"Retrain AUC\"}},\"id\":\"703d9d8b-3fb8-46f6-8dbd-abf93605c8fc\",\"type\":\"Line\"},{\"attributes\":{\"label\":{\"value\":\" Retrain AUC\"},\"renderers\":[{\"id\":\"d59ae60a-c87d-4fd4-93c4-7dda0dac507f\",\"type\":\"GlyphRenderer\"}]},\"id\":\"60fb3547-2bb0-4fc7-b4cf-efbb9f6c736f\",\"type\":\"LegendItem\"},{\"attributes\":{\"label\":{\"value\":\" Train AUC\"},\"renderers\":[{\"id\":\"fe722281-b32f-4a68-91f6-fcd947f60418\",\"type\":\"GlyphRenderer\"}]},\"id\":\"420f0c06-e73a-4d48-90cd-9730d308baff\",\"type\":\"LegendItem\"},{\"attributes\":{\"fill_color\":{\"value\":\"white\"},\"line_color\":{\"value\":\"#5975a4\"},\"line_width\":{\"value\":1.5},\"size\":{\"units\":\"screen\",\"value\":6},\"x\":{\"field\":\"index\"},\"y\":{\"field\":\"Train AUC\"}},\"id\":\"19e4e166-3203-4092-8082-a6638d291ff4\",\"type\":\"Circle\"},{\"attributes\":{\"data_source\":{\"id\":\"0e37fcb9-d6de-4b77-8190-e4de1c786fe5\",\"type\":\"ColumnDataSource\"},\"glyph\":{\"id\":\"19e4e166-3203-4092-8082-a6638d291ff4\",\"type\":\"Circle\"},\"hover_glyph\":null,\"muted_glyph\":null,\"nonselection_glyph\":{\"id\":\"1e5267ad-5383-4919-bd36-a3937eeec762\",\"type\":\"Circle\"},\"selection_glyph\":null},\"id\":\"d119734b-f7c2-4675-97a1-dc1388589d2c\",\"type\":\"GlyphRenderer\"},{\"attributes\":{\"active_drag\":\"auto\",\"active_scroll\":\"auto\",\"active_tap\":\"auto\",\"tools\":[{\"id\":\"b7e5020a-4a05-4964-9c8e-e5c95c44a222\",\"type\":\"PanTool\"},{\"id\":\"5db0dad0-0f42-47c1-80be-5888ac62245a\",\"type\":\"WheelZoomTool\"},{\"id\":\"e10952f1-d79e-4b63-8515-aa85ade2cdb1\",\"type\":\"BoxZoomTool\"},{\"id\":\"c1452576-1a08-418b-9b95-8f06f7a085e6\",\"type\":\"ResetTool\"},{\"id\":\"5a193e8f-7c82-4f86-977c-4d4be4c1eddf\",\"type\":\"HoverTool\"}]},\"id\":\"b4f94b70-b7ba-49a7-b5a5-afb2baaf26b4\",\"type\":\"Toolbar\"},{\"attributes\":{\"callback\":null},\"id\":\"db8c9f1f-7955-4395-a100-3bc3ef2b3c2e\",\"type\":\"DataRange1d\"}],\"root_ids\":[\"83be4be0-1e51-4c54-8e1b-f83bd3957aeb\"]},\"title\":\"Bokeh Application\",\"version\":\"0.12.5\"}};\n",
       "            var render_items = [{\"docid\":\"3aba9b1f-bf57-416f-ade5-7b3b86439ee3\",\"elementid\":\"676661bb-e45a-4fc4-9961-faaea5658fec\",\"modelid\":\"83be4be0-1e51-4c54-8e1b-f83bd3957aeb\"}];\n",
       "            \n",
       "            Bokeh.embed.embed_items(docs_json, render_items);\n",
       "          };\n",
       "          if (document.readyState != \"loading\") fn();\n",
       "          else document.addEventListener(\"DOMContentLoaded\", fn);\n",
       "        })();\n",
       "      },\n",
       "      function(Bokeh) {\n",
       "      }\n",
       "    ];\n",
       "  \n",
       "    function run_inline_js() {\n",
       "      \n",
       "      if ((window.Bokeh !== undefined) || (force === true)) {\n",
       "        for (var i = 0; i < inline_js.length; i++) {\n",
       "          inline_js[i](window.Bokeh);\n",
       "        }if (force === true) {\n",
       "          display_loaded();\n",
       "        }} else if (Date.now() < window._bokeh_timeout) {\n",
       "        setTimeout(run_inline_js, 100);\n",
       "      } else if (!window._bokeh_failed_load) {\n",
       "        console.log(\"Bokeh: BokehJS failed to load within specified timeout.\");\n",
       "        window._bokeh_failed_load = true;\n",
       "      } else if (force !== true) {\n",
       "        var cell = $(document.getElementById(\"676661bb-e45a-4fc4-9961-faaea5658fec\")).parents('.cell').data().cell;\n",
       "        cell.output_area.append_execute_result(NB_LOAD_WARNING)\n",
       "      }\n",
       "  \n",
       "    }\n",
       "  \n",
       "    if (window._bokeh_is_loading === 0) {\n",
       "      console.log(\"Bokeh: BokehJS loaded, going straight to plotting\");\n",
       "      run_inline_js();\n",
       "    } else {\n",
       "      load_libs(js_urls, function() {\n",
       "        console.log(\"Bokeh: BokehJS plotting callback run at\", now());\n",
       "        run_inline_js();\n",
       "      });\n",
       "    }\n",
       "  }(this));\n",
       "</script>"
      ]
     },
     "metadata": {},
     "output_type": "display_data"
    }
   ],
   "source": [
    "# LGBM Retrain Results\n",
    "p = figure(y_axis_label='AUC', plot_width=700, plot_height=350, tools=\"pan,wheel_zoom,box_zoom,reset\")\n",
    "l1 = p.line('index', 'Train AUC', legend=' Train AUC', line_color='#5f9e6f', source=data_cds, line_width=6, line_cap=\"round\")\n",
    "p.circle('index', 'Train AUC', fill_color=\"white\", size=6, line_width=1.5, line_color=\"#5975a4\", source=data_cds)\n",
    "p.line('index', 'Retrain AUC', legend=' Retrain AUC', line_color='#a2cfae', source=data_cds, line_width=6, line_cap=\"round\")\n",
    "p.circle('index', 'Retrain AUC',  fill_color=\"white\", size=6, line_width=1.5, line_color=\"#a1bae3\", source=data_cds)\n",
    "l1_hover = HoverTool(renderers=[l1], tooltips=[( 'Train AUC',  '@{Train AUC}{0.4f}' ), ( 'Retrain AUC',  '@{Retrain AUC}{0.4f}' )], mode='vline')\n",
    "p.add_tools(l1_hover)\n",
    "show(p)"
   ]
  },
  {
   "cell_type": "markdown",
   "metadata": {},
   "source": [
    "Retrainig does also seem to improve the results for the LightGBM model."
   ]
  },
  {
   "cell_type": "code",
   "execution_count": 205,
   "metadata": {
    "collapsed": true
   },
   "outputs": [],
   "source": [
    "xgb_series = retrain_results_dict['xgb'][['Retrain Test interval', 'Retrain interval', 'Test interval']].sum()\n",
    "lgbm_series = retrain_results_dict['lgbm'][['Retrain Test interval', 'Retrain interval', 'Test interval']].sum()"
   ]
  },
  {
   "cell_type": "code",
   "execution_count": 214,
   "metadata": {},
   "outputs": [],
   "source": [
    "t_res = pd.DataFrame([['XGBoost', xgb_series['Retrain interval']/60],\n",
    "              ['LightGBM', lgbm_series['Retrain interval']/60]], columns=['Model', 'Time(m)']).assign(color=[\"#5975a4\", \"#5f9e6f\"])"
   ]
  },
  {
   "cell_type": "code",
   "execution_count": 215,
   "metadata": {
    "collapsed": true
   },
   "outputs": [],
   "source": [
    "t_cds = ColumnDataSource(t_res)"
   ]
  },
  {
   "cell_type": "code",
   "execution_count": 228,
   "metadata": {},
   "outputs": [
    {
     "data": {
      "text/html": [
       "\n",
       "\n",
       "    <div class=\"bk-root\">\n",
       "        <div class=\"bk-plotdiv\" id=\"5f8402eb-8cb2-4e13-bc9e-57c72eed2cbb\"></div>\n",
       "    </div>\n",
       "<script type=\"text/javascript\">\n",
       "  \n",
       "  (function(global) {\n",
       "    function now() {\n",
       "      return new Date();\n",
       "    }\n",
       "  \n",
       "    var force = false;\n",
       "  \n",
       "    if (typeof (window._bokeh_onload_callbacks) === \"undefined\" || force === true) {\n",
       "      window._bokeh_onload_callbacks = [];\n",
       "      window._bokeh_is_loading = undefined;\n",
       "    }\n",
       "  \n",
       "  \n",
       "    \n",
       "    if (typeof (window._bokeh_timeout) === \"undefined\" || force === true) {\n",
       "      window._bokeh_timeout = Date.now() + 0;\n",
       "      window._bokeh_failed_load = false;\n",
       "    }\n",
       "  \n",
       "    var NB_LOAD_WARNING = {'data': {'text/html':\n",
       "       \"<div style='background-color: #fdd'>\\n\"+\n",
       "       \"<p>\\n\"+\n",
       "       \"BokehJS does not appear to have successfully loaded. If loading BokehJS from CDN, this \\n\"+\n",
       "       \"may be due to a slow or bad network connection. Possible fixes:\\n\"+\n",
       "       \"</p>\\n\"+\n",
       "       \"<ul>\\n\"+\n",
       "       \"<li>re-rerun `output_notebook()` to attempt to load from CDN again, or</li>\\n\"+\n",
       "       \"<li>use INLINE resources instead, as so:</li>\\n\"+\n",
       "       \"</ul>\\n\"+\n",
       "       \"<code>\\n\"+\n",
       "       \"from bokeh.resources import INLINE\\n\"+\n",
       "       \"output_notebook(resources=INLINE)\\n\"+\n",
       "       \"</code>\\n\"+\n",
       "       \"</div>\"}};\n",
       "  \n",
       "    function display_loaded() {\n",
       "      if (window.Bokeh !== undefined) {\n",
       "        var el = document.getElementById(\"5f8402eb-8cb2-4e13-bc9e-57c72eed2cbb\");\n",
       "        el.textContent = \"BokehJS \" + Bokeh.version + \" successfully loaded.\";\n",
       "      } else if (Date.now() < window._bokeh_timeout) {\n",
       "        setTimeout(display_loaded, 100)\n",
       "      }\n",
       "    }\n",
       "  \n",
       "    function run_callbacks() {\n",
       "      window._bokeh_onload_callbacks.forEach(function(callback) { callback() });\n",
       "      delete window._bokeh_onload_callbacks\n",
       "      console.info(\"Bokeh: all callbacks have finished\");\n",
       "    }\n",
       "  \n",
       "    function load_libs(js_urls, callback) {\n",
       "      window._bokeh_onload_callbacks.push(callback);\n",
       "      if (window._bokeh_is_loading > 0) {\n",
       "        console.log(\"Bokeh: BokehJS is being loaded, scheduling callback at\", now());\n",
       "        return null;\n",
       "      }\n",
       "      if (js_urls == null || js_urls.length === 0) {\n",
       "        run_callbacks();\n",
       "        return null;\n",
       "      }\n",
       "      console.log(\"Bokeh: BokehJS not loaded, scheduling load and callback at\", now());\n",
       "      window._bokeh_is_loading = js_urls.length;\n",
       "      for (var i = 0; i < js_urls.length; i++) {\n",
       "        var url = js_urls[i];\n",
       "        var s = document.createElement('script');\n",
       "        s.src = url;\n",
       "        s.async = false;\n",
       "        s.onreadystatechange = s.onload = function() {\n",
       "          window._bokeh_is_loading--;\n",
       "          if (window._bokeh_is_loading === 0) {\n",
       "            console.log(\"Bokeh: all BokehJS libraries loaded\");\n",
       "            run_callbacks()\n",
       "          }\n",
       "        };\n",
       "        s.onerror = function() {\n",
       "          console.warn(\"failed to load library \" + url);\n",
       "        };\n",
       "        console.log(\"Bokeh: injecting script tag for BokehJS library: \", url);\n",
       "        document.getElementsByTagName(\"head\")[0].appendChild(s);\n",
       "      }\n",
       "    };var element = document.getElementById(\"5f8402eb-8cb2-4e13-bc9e-57c72eed2cbb\");\n",
       "    if (element == null) {\n",
       "      console.log(\"Bokeh: ERROR: autoload.js configured with elementid '5f8402eb-8cb2-4e13-bc9e-57c72eed2cbb' but no matching script tag was found. \")\n",
       "      return false;\n",
       "    }\n",
       "  \n",
       "    var js_urls = [];\n",
       "  \n",
       "    var inline_js = [\n",
       "      function(Bokeh) {\n",
       "        (function() {\n",
       "          var fn = function() {\n",
       "            var docs_json = {\"0b6820d4-685d-45af-8a7e-0d3661674a47\":{\"roots\":{\"references\":[{\"attributes\":{\"plot\":{\"id\":\"8c10afdd-6d5f-4782-9e7d-b45d20d63eca\",\"subtype\":\"Figure\",\"type\":\"Plot\"}},\"id\":\"4fc22b2e-a16c-489c-aafd-5f5f29d1093b\",\"type\":\"HelpTool\"},{\"attributes\":{\"active_drag\":\"auto\",\"active_scroll\":\"auto\",\"active_tap\":\"auto\",\"tools\":[{\"id\":\"20c45e62-064c-4f49-a3e6-f8c1c5dc2b7f\",\"type\":\"PanTool\"},{\"id\":\"e65362f5-1e0a-4832-865e-70b0c49b2da8\",\"type\":\"WheelZoomTool\"},{\"id\":\"b63d251e-a597-439e-a44b-1320d1a3e572\",\"type\":\"BoxZoomTool\"},{\"id\":\"30a47176-6794-4cea-93c7-a359988f0f0d\",\"type\":\"SaveTool\"},{\"id\":\"978690c5-e85e-4735-993a-dc8a4f1f4d67\",\"type\":\"ResetTool\"},{\"id\":\"4fc22b2e-a16c-489c-aafd-5f5f29d1093b\",\"type\":\"HelpTool\"}]},\"id\":\"2dbc7821-cf5e-4826-8da2-d3389630250a\",\"type\":\"Toolbar\"},{\"attributes\":{},\"id\":\"b892fc6e-9ebf-445e-b9aa-7058369d81d4\",\"type\":\"ToolEvents\"},{\"attributes\":{\"axis_label\":\"Time (minutes)\",\"formatter\":{\"id\":\"bf953b9d-617c-4b90-a7dd-44c509e3515d\",\"type\":\"BasicTickFormatter\"},\"plot\":{\"id\":\"8c10afdd-6d5f-4782-9e7d-b45d20d63eca\",\"subtype\":\"Figure\",\"type\":\"Plot\"},\"ticker\":{\"id\":\"78181592-08c7-4cad-a8a7-8d46bd853f00\",\"type\":\"BasicTicker\"}},\"id\":\"b38be5d1-a435-47f1-92c6-fda7287e9e1c\",\"type\":\"LinearAxis\"},{\"attributes\":{\"formatter\":{\"id\":\"26c1932a-8945-41b2-9100-5c8ca6fd53ce\",\"type\":\"CategoricalTickFormatter\"},\"plot\":{\"id\":\"8c10afdd-6d5f-4782-9e7d-b45d20d63eca\",\"subtype\":\"Figure\",\"type\":\"Plot\"},\"ticker\":{\"id\":\"fd37a64e-510a-4461-8b40-724cf7ae9315\",\"type\":\"CategoricalTicker\"}},\"id\":\"dbfd2a85-18ed-4ecf-93f7-65b7e8688bbc\",\"type\":\"CategoricalAxis\"},{\"attributes\":{},\"id\":\"78181592-08c7-4cad-a8a7-8d46bd853f00\",\"type\":\"BasicTicker\"},{\"attributes\":{\"dimension\":1,\"plot\":{\"id\":\"8c10afdd-6d5f-4782-9e7d-b45d20d63eca\",\"subtype\":\"Figure\",\"type\":\"Plot\"},\"ticker\":{\"id\":\"78181592-08c7-4cad-a8a7-8d46bd853f00\",\"type\":\"BasicTicker\"}},\"id\":\"b1718833-208d-43d0-b347-b58b1f745cee\",\"type\":\"Grid\"},{\"attributes\":{\"fill_alpha\":{\"value\":0.1},\"fill_color\":{\"value\":\"#1f77b4\"},\"line_alpha\":{\"value\":0.1},\"line_color\":{\"value\":\"#1f77b4\"},\"top\":{\"field\":\"Time(m)\"},\"width\":{\"value\":0.8},\"x\":{\"field\":\"Model\"}},\"id\":\"ad247541-3e33-4ef9-a397-aa18178b1484\",\"type\":\"VBar\"},{\"attributes\":{\"callback\":null,\"factors\":[\"XGBoost\",\"LightGBM\"]},\"id\":\"fd616e0b-1b31-428f-b850-daaa085e3bbc\",\"type\":\"FactorRange\"},{\"attributes\":{\"callback\":null},\"id\":\"66f429d4-6759-4082-b3cc-ba48d76e79a8\",\"type\":\"DataRange1d\"},{\"attributes\":{\"plot\":{\"id\":\"8c10afdd-6d5f-4782-9e7d-b45d20d63eca\",\"subtype\":\"Figure\",\"type\":\"Plot\"}},\"id\":\"978690c5-e85e-4735-993a-dc8a4f1f4d67\",\"type\":\"ResetTool\"},{\"attributes\":{\"plot\":{\"id\":\"8c10afdd-6d5f-4782-9e7d-b45d20d63eca\",\"subtype\":\"Figure\",\"type\":\"Plot\"}},\"id\":\"30a47176-6794-4cea-93c7-a359988f0f0d\",\"type\":\"SaveTool\"},{\"attributes\":{\"callback\":null,\"column_names\":[\"Model\",\"Time(m)\",\"color\",\"index\"],\"data\":{\"Model\":[\"XGBoost\",\"LightGBM\"],\"Time(m)\":{\"__ndarray__\":\"VV3EzPp2I0C8i36VCE4QQA==\",\"dtype\":\"float64\",\"shape\":[2]},\"color\":[\"#5975a4\",\"#5f9e6f\"],\"index\":[0,1]}},\"id\":\"24297dd5-cdae-44bc-90d4-50ea30d0c782\",\"type\":\"ColumnDataSource\"},{\"attributes\":{\"below\":[{\"id\":\"dbfd2a85-18ed-4ecf-93f7-65b7e8688bbc\",\"type\":\"CategoricalAxis\"}],\"left\":[{\"id\":\"b38be5d1-a435-47f1-92c6-fda7287e9e1c\",\"type\":\"LinearAxis\"}],\"plot_height\":500,\"plot_width\":300,\"renderers\":[{\"id\":\"dbfd2a85-18ed-4ecf-93f7-65b7e8688bbc\",\"type\":\"CategoricalAxis\"},{\"id\":\"719f48fd-2236-42b9-8821-9619eff8291e\",\"type\":\"Grid\"},{\"id\":\"b38be5d1-a435-47f1-92c6-fda7287e9e1c\",\"type\":\"LinearAxis\"},{\"id\":\"b1718833-208d-43d0-b347-b58b1f745cee\",\"type\":\"Grid\"},{\"id\":\"ba476f78-9f8d-4b19-8c8a-03c39a525642\",\"type\":\"BoxAnnotation\"},{\"id\":\"acf4756b-f64d-4428-9e30-e80458c6fd34\",\"type\":\"GlyphRenderer\"}],\"title\":{\"id\":\"92264904-a629-4fb0-8bbf-ad5aa27b4ba2\",\"type\":\"Title\"},\"tool_events\":{\"id\":\"b892fc6e-9ebf-445e-b9aa-7058369d81d4\",\"type\":\"ToolEvents\"},\"toolbar\":{\"id\":\"2dbc7821-cf5e-4826-8da2-d3389630250a\",\"type\":\"Toolbar\"},\"x_range\":{\"id\":\"fd616e0b-1b31-428f-b850-daaa085e3bbc\",\"type\":\"FactorRange\"},\"y_range\":{\"id\":\"66f429d4-6759-4082-b3cc-ba48d76e79a8\",\"type\":\"DataRange1d\"}},\"id\":\"8c10afdd-6d5f-4782-9e7d-b45d20d63eca\",\"subtype\":\"Figure\",\"type\":\"Plot\"},{\"attributes\":{},\"id\":\"26c1932a-8945-41b2-9100-5c8ca6fd53ce\",\"type\":\"CategoricalTickFormatter\"},{\"attributes\":{\"plot\":{\"id\":\"8c10afdd-6d5f-4782-9e7d-b45d20d63eca\",\"subtype\":\"Figure\",\"type\":\"Plot\"},\"ticker\":{\"id\":\"fd37a64e-510a-4461-8b40-724cf7ae9315\",\"type\":\"CategoricalTicker\"}},\"id\":\"719f48fd-2236-42b9-8821-9619eff8291e\",\"type\":\"Grid\"},{\"attributes\":{},\"id\":\"bf953b9d-617c-4b90-a7dd-44c509e3515d\",\"type\":\"BasicTickFormatter\"},{\"attributes\":{\"plot\":{\"id\":\"8c10afdd-6d5f-4782-9e7d-b45d20d63eca\",\"subtype\":\"Figure\",\"type\":\"Plot\"}},\"id\":\"20c45e62-064c-4f49-a3e6-f8c1c5dc2b7f\",\"type\":\"PanTool\"},{\"attributes\":{\"data_source\":{\"id\":\"24297dd5-cdae-44bc-90d4-50ea30d0c782\",\"type\":\"ColumnDataSource\"},\"glyph\":{\"id\":\"360b33b6-8533-41ec-9aa8-4a0350e07457\",\"type\":\"VBar\"},\"hover_glyph\":null,\"muted_glyph\":null,\"nonselection_glyph\":{\"id\":\"ad247541-3e33-4ef9-a397-aa18178b1484\",\"type\":\"VBar\"},\"selection_glyph\":null},\"id\":\"acf4756b-f64d-4428-9e30-e80458c6fd34\",\"type\":\"GlyphRenderer\"},{\"attributes\":{\"bottom_units\":\"screen\",\"fill_alpha\":{\"value\":0.5},\"fill_color\":{\"value\":\"lightgrey\"},\"left_units\":\"screen\",\"level\":\"overlay\",\"line_alpha\":{\"value\":1.0},\"line_color\":{\"value\":\"black\"},\"line_dash\":[4,4],\"line_width\":{\"value\":2},\"plot\":null,\"render_mode\":\"css\",\"right_units\":\"screen\",\"top_units\":\"screen\"},\"id\":\"ba476f78-9f8d-4b19-8c8a-03c39a525642\",\"type\":\"BoxAnnotation\"},{\"attributes\":{\"plot\":{\"id\":\"8c10afdd-6d5f-4782-9e7d-b45d20d63eca\",\"subtype\":\"Figure\",\"type\":\"Plot\"}},\"id\":\"e65362f5-1e0a-4832-865e-70b0c49b2da8\",\"type\":\"WheelZoomTool\"},{\"attributes\":{\"fill_color\":{\"field\":\"color\"},\"line_color\":{\"field\":\"color\"},\"top\":{\"field\":\"Time(m)\"},\"width\":{\"value\":0.8},\"x\":{\"field\":\"Model\"}},\"id\":\"360b33b6-8533-41ec-9aa8-4a0350e07457\",\"type\":\"VBar\"},{\"attributes\":{},\"id\":\"fd37a64e-510a-4461-8b40-724cf7ae9315\",\"type\":\"CategoricalTicker\"},{\"attributes\":{\"overlay\":{\"id\":\"ba476f78-9f8d-4b19-8c8a-03c39a525642\",\"type\":\"BoxAnnotation\"},\"plot\":{\"id\":\"8c10afdd-6d5f-4782-9e7d-b45d20d63eca\",\"subtype\":\"Figure\",\"type\":\"Plot\"}},\"id\":\"b63d251e-a597-439e-a44b-1320d1a3e572\",\"type\":\"BoxZoomTool\"},{\"attributes\":{\"plot\":null,\"text\":\"\"},\"id\":\"92264904-a629-4fb0-8bbf-ad5aa27b4ba2\",\"type\":\"Title\"}],\"root_ids\":[\"8c10afdd-6d5f-4782-9e7d-b45d20d63eca\"]},\"title\":\"Bokeh Application\",\"version\":\"0.12.5\"}};\n",
       "            var render_items = [{\"docid\":\"0b6820d4-685d-45af-8a7e-0d3661674a47\",\"elementid\":\"5f8402eb-8cb2-4e13-bc9e-57c72eed2cbb\",\"modelid\":\"8c10afdd-6d5f-4782-9e7d-b45d20d63eca\"}];\n",
       "            \n",
       "            Bokeh.embed.embed_items(docs_json, render_items);\n",
       "          };\n",
       "          if (document.readyState != \"loading\") fn();\n",
       "          else document.addEventListener(\"DOMContentLoaded\", fn);\n",
       "        })();\n",
       "      },\n",
       "      function(Bokeh) {\n",
       "      }\n",
       "    ];\n",
       "  \n",
       "    function run_inline_js() {\n",
       "      \n",
       "      if ((window.Bokeh !== undefined) || (force === true)) {\n",
       "        for (var i = 0; i < inline_js.length; i++) {\n",
       "          inline_js[i](window.Bokeh);\n",
       "        }if (force === true) {\n",
       "          display_loaded();\n",
       "        }} else if (Date.now() < window._bokeh_timeout) {\n",
       "        setTimeout(run_inline_js, 100);\n",
       "      } else if (!window._bokeh_failed_load) {\n",
       "        console.log(\"Bokeh: BokehJS failed to load within specified timeout.\");\n",
       "        window._bokeh_failed_load = true;\n",
       "      } else if (force !== true) {\n",
       "        var cell = $(document.getElementById(\"5f8402eb-8cb2-4e13-bc9e-57c72eed2cbb\")).parents('.cell').data().cell;\n",
       "        cell.output_area.append_execute_result(NB_LOAD_WARNING)\n",
       "      }\n",
       "  \n",
       "    }\n",
       "  \n",
       "    if (window._bokeh_is_loading === 0) {\n",
       "      console.log(\"Bokeh: BokehJS loaded, going straight to plotting\");\n",
       "      run_inline_js();\n",
       "    } else {\n",
       "      load_libs(js_urls, function() {\n",
       "        console.log(\"Bokeh: BokehJS plotting callback run at\", now());\n",
       "        run_inline_js();\n",
       "      });\n",
       "    }\n",
       "  }(this));\n",
       "</script>"
      ]
     },
     "metadata": {},
     "output_type": "display_data"
    }
   ],
   "source": [
    "# XGB vs LGBM Retrain Time\n",
    "p = figure(plot_width=300, plot_height=500, x_range=t_res['Model'].tolist(), y_axis_label='Time (minutes)')\n",
    "p.vbar(x='Model', width=0.8, bottom=0, top='Time(m)', color=\"color\", source=t_cds)\n",
    "show(p)"
   ]
  },
  {
   "cell_type": "markdown",
   "metadata": {},
   "source": [
    "LightGBM seems to be almost twice as fast as XGBoost and offer similar performance. In general, leaf-wise algorithms are more efficient and converge faster than depth-wise. However, it can easily over-fit when the data is small or the number of leaves is too high."
   ]
  }
 ],
 "metadata": {
  "kernelspec": {
   "display_name": "Python 3",
   "language": "python",
   "name": "python3"
  },
  "language_info": {
   "codemirror_mode": {
    "name": "ipython",
    "version": 3
   },
   "file_extension": ".py",
   "mimetype": "text/x-python",
   "name": "python",
   "nbconvert_exporter": "python",
   "pygments_lexer": "ipython3",
   "version": "3.6.1"
  }
 },
 "nbformat": 4,
 "nbformat_minor": 1
}
