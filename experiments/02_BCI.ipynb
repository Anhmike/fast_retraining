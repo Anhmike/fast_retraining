{
 "cells": [
  {
   "cell_type": "markdown",
   "metadata": {},
   "source": [
    "# Experiment 02: BCI\n",
    "\n",
    "This experiment uses a Brain Computer Interface dataset. The purpose is to try and predict when the participant is paying attention. The dataset consists of recordings from a number of electrodes placed over the scalp."
   ]
  },
  {
   "cell_type": "code",
   "execution_count": 43,
   "metadata": {},
   "outputs": [
    {
     "name": "stdout",
     "output_type": "stream",
     "text": [
      "System version: 3.6.1 |Anaconda custom (64-bit)| (default, May 11 2017, 13:09:58) \n",
      "[GCC 4.4.7 20120313 (Red Hat 4.4.7-1)]\n",
      "XGBoost version: 0.6\n",
      "LightGBM version: 0.2\n",
      "The autoreload extension is already loaded. To reload it, use:\n",
      "  %reload_ext autoreload\n"
     ]
    }
   ],
   "source": [
    "import os,sys\n",
    "import numpy as np\n",
    "import pandas as pd\n",
    "from copy import deepcopy\n",
    "from tqdm import tqdm_notebook, tqdm\n",
    "from sklearn.preprocessing import StandardScaler\n",
    "from sklearn.pipeline import Pipeline, FeatureUnion\n",
    "from sklearn.metrics import roc_auc_score,accuracy_score, precision_score, recall_score, f1_score\n",
    "from lightgbm import LGBMClassifier\n",
    "from xgboost import XGBClassifier, XGBModel\n",
    "import json\n",
    "\n",
    "from libs.loaders import load_bci\n",
    "from libs.timer import Timer\n",
    "from libs.utils import get_number_processors\n",
    "\n",
    "import pkg_resources\n",
    "\n",
    "from bokeh.io import show, output_notebook\n",
    "from bokeh.plotting import figure\n",
    "from bokeh.models.sources import ColumnDataSource\n",
    "from bokeh.models import HoverTool\n",
    "\n",
    "from bokeh.io import export_png\n",
    "from PIL import Image\n",
    "\n",
    "print(\"System version: {}\".format(sys.version))\n",
    "print(\"XGBoost version: {}\".format(pkg_resources.get_distribution('xgboost').version))\n",
    "print(\"LightGBM version: {}\".format(pkg_resources.get_distribution('lightgbm').version))\n",
    "\n",
    "%load_ext autoreload\n",
    "%autoreload 2\n",
    "\n"
   ]
  },
  {
   "cell_type": "code",
   "execution_count": 2,
   "metadata": {},
   "outputs": [
    {
     "data": {
      "text/html": [
       "\n",
       "    <div class=\"bk-root\">\n",
       "        <a href=\"http://bokeh.pydata.org\" target=\"_blank\" class=\"bk-logo bk-logo-small bk-logo-notebook\"></a>\n",
       "        <span id=\"68c253c4-3b8c-4e7b-9e2a-39fcbee22249\">Loading BokehJS ...</span>\n",
       "    </div>"
      ]
     },
     "metadata": {},
     "output_type": "display_data"
    },
    {
     "data": {
      "application/javascript": [
       "\n",
       "(function(global) {\n",
       "  function now() {\n",
       "    return new Date();\n",
       "  }\n",
       "\n",
       "  var force = true;\n",
       "\n",
       "  if (typeof (window._bokeh_onload_callbacks) === \"undefined\" || force === true) {\n",
       "    window._bokeh_onload_callbacks = [];\n",
       "    window._bokeh_is_loading = undefined;\n",
       "  }\n",
       "\n",
       "\n",
       "  \n",
       "  if (typeof (window._bokeh_timeout) === \"undefined\" || force === true) {\n",
       "    window._bokeh_timeout = Date.now() + 5000;\n",
       "    window._bokeh_failed_load = false;\n",
       "  }\n",
       "\n",
       "  var NB_LOAD_WARNING = {'data': {'text/html':\n",
       "     \"<div style='background-color: #fdd'>\\n\"+\n",
       "     \"<p>\\n\"+\n",
       "     \"BokehJS does not appear to have successfully loaded. If loading BokehJS from CDN, this \\n\"+\n",
       "     \"may be due to a slow or bad network connection. Possible fixes:\\n\"+\n",
       "     \"</p>\\n\"+\n",
       "     \"<ul>\\n\"+\n",
       "     \"<li>re-rerun `output_notebook()` to attempt to load from CDN again, or</li>\\n\"+\n",
       "     \"<li>use INLINE resources instead, as so:</li>\\n\"+\n",
       "     \"</ul>\\n\"+\n",
       "     \"<code>\\n\"+\n",
       "     \"from bokeh.resources import INLINE\\n\"+\n",
       "     \"output_notebook(resources=INLINE)\\n\"+\n",
       "     \"</code>\\n\"+\n",
       "     \"</div>\"}};\n",
       "\n",
       "  function display_loaded() {\n",
       "    if (window.Bokeh !== undefined) {\n",
       "      var el = document.getElementById(\"68c253c4-3b8c-4e7b-9e2a-39fcbee22249\");\n",
       "      el.textContent = \"BokehJS \" + Bokeh.version + \" successfully loaded.\";\n",
       "    } else if (Date.now() < window._bokeh_timeout) {\n",
       "      setTimeout(display_loaded, 100)\n",
       "    }\n",
       "  }\n",
       "\n",
       "  function run_callbacks() {\n",
       "    try {\n",
       "      window._bokeh_onload_callbacks.forEach(function(callback) { callback() });\n",
       "    }\n",
       "    finally {\n",
       "      delete window._bokeh_onload_callbacks\n",
       "    }\n",
       "    console.info(\"Bokeh: all callbacks have finished\");\n",
       "  }\n",
       "\n",
       "  function load_libs(js_urls, callback) {\n",
       "    window._bokeh_onload_callbacks.push(callback);\n",
       "    if (window._bokeh_is_loading > 0) {\n",
       "      console.log(\"Bokeh: BokehJS is being loaded, scheduling callback at\", now());\n",
       "      return null;\n",
       "    }\n",
       "    if (js_urls == null || js_urls.length === 0) {\n",
       "      run_callbacks();\n",
       "      return null;\n",
       "    }\n",
       "    console.log(\"Bokeh: BokehJS not loaded, scheduling load and callback at\", now());\n",
       "    window._bokeh_is_loading = js_urls.length;\n",
       "    for (var i = 0; i < js_urls.length; i++) {\n",
       "      var url = js_urls[i];\n",
       "      var s = document.createElement('script');\n",
       "      s.src = url;\n",
       "      s.async = false;\n",
       "      s.onreadystatechange = s.onload = function() {\n",
       "        window._bokeh_is_loading--;\n",
       "        if (window._bokeh_is_loading === 0) {\n",
       "          console.log(\"Bokeh: all BokehJS libraries loaded\");\n",
       "          run_callbacks()\n",
       "        }\n",
       "      };\n",
       "      s.onerror = function() {\n",
       "        console.warn(\"failed to load library \" + url);\n",
       "      };\n",
       "      console.log(\"Bokeh: injecting script tag for BokehJS library: \", url);\n",
       "      document.getElementsByTagName(\"head\")[0].appendChild(s);\n",
       "    }\n",
       "  };var element = document.getElementById(\"68c253c4-3b8c-4e7b-9e2a-39fcbee22249\");\n",
       "  if (element == null) {\n",
       "    console.log(\"Bokeh: ERROR: autoload.js configured with elementid '68c253c4-3b8c-4e7b-9e2a-39fcbee22249' but no matching script tag was found. \")\n",
       "    return false;\n",
       "  }\n",
       "\n",
       "  var js_urls = [\"https://cdn.pydata.org/bokeh/release/bokeh-0.12.6.min.js\", \"https://cdn.pydata.org/bokeh/release/bokeh-widgets-0.12.6.min.js\"];\n",
       "\n",
       "  var inline_js = [\n",
       "    function(Bokeh) {\n",
       "      Bokeh.set_log_level(\"info\");\n",
       "    },\n",
       "    \n",
       "    function(Bokeh) {\n",
       "      \n",
       "    },\n",
       "    \n",
       "    function(Bokeh) {\n",
       "      \n",
       "      document.getElementById(\"68c253c4-3b8c-4e7b-9e2a-39fcbee22249\").textContent = \"BokehJS is loading...\";\n",
       "    },\n",
       "    function(Bokeh) {\n",
       "      console.log(\"Bokeh: injecting CSS: https://cdn.pydata.org/bokeh/release/bokeh-0.12.6.min.css\");\n",
       "      Bokeh.embed.inject_css(\"https://cdn.pydata.org/bokeh/release/bokeh-0.12.6.min.css\");\n",
       "      console.log(\"Bokeh: injecting CSS: https://cdn.pydata.org/bokeh/release/bokeh-widgets-0.12.6.min.css\");\n",
       "      Bokeh.embed.inject_css(\"https://cdn.pydata.org/bokeh/release/bokeh-widgets-0.12.6.min.css\");\n",
       "    }\n",
       "  ];\n",
       "\n",
       "  function run_inline_js() {\n",
       "    \n",
       "    if ((window.Bokeh !== undefined) || (force === true)) {\n",
       "      for (var i = 0; i < inline_js.length; i++) {\n",
       "        inline_js[i](window.Bokeh);\n",
       "      }if (force === true) {\n",
       "        display_loaded();\n",
       "      }} else if (Date.now() < window._bokeh_timeout) {\n",
       "      setTimeout(run_inline_js, 100);\n",
       "    } else if (!window._bokeh_failed_load) {\n",
       "      console.log(\"Bokeh: BokehJS failed to load within specified timeout.\");\n",
       "      window._bokeh_failed_load = true;\n",
       "    } else if (force !== true) {\n",
       "      var cell = $(document.getElementById(\"68c253c4-3b8c-4e7b-9e2a-39fcbee22249\")).parents('.cell').data().cell;\n",
       "      cell.output_area.append_execute_result(NB_LOAD_WARNING)\n",
       "    }\n",
       "\n",
       "  }\n",
       "\n",
       "  if (window._bokeh_is_loading === 0) {\n",
       "    console.log(\"Bokeh: BokehJS loaded, going straight to plotting\");\n",
       "    run_inline_js();\n",
       "  } else {\n",
       "    load_libs(js_urls, function() {\n",
       "      console.log(\"Bokeh: BokehJS plotting callback run at\", now());\n",
       "      run_inline_js();\n",
       "    });\n",
       "  }\n",
       "}(this));"
      ]
     },
     "metadata": {},
     "output_type": "display_data"
    }
   ],
   "source": [
    "output_notebook()"
   ]
  },
  {
   "cell_type": "markdown",
   "metadata": {},
   "source": [
    "## XGBoost vs LightGBM benchmark\n",
    "\n",
    "We will compare both libraries on speed and preformance."
   ]
  },
  {
   "cell_type": "code",
   "execution_count": 3,
   "metadata": {},
   "outputs": [
    {
     "name": "stdout",
     "output_type": "stream",
     "text": [
      "20\n"
     ]
    }
   ],
   "source": [
    "number_processors = get_number_processors()\n",
    "print(number_processors)"
   ]
  },
  {
   "cell_type": "markdown",
   "metadata": {},
   "source": [
    "Below we define the modeling pipelines for our two classifiers."
   ]
  },
  {
   "cell_type": "code",
   "execution_count": 4,
   "metadata": {
    "collapsed": true
   },
   "outputs": [],
   "source": [
    "pipeline_steps = [('scale', StandardScaler())]\n",
    "continuous_pipeline = Pipeline(steps=pipeline_steps)"
   ]
  },
  {
   "cell_type": "code",
   "execution_count": 5,
   "metadata": {
    "collapsed": true
   },
   "outputs": [],
   "source": [
    "featurisers = [('continuous', continuous_pipeline)]"
   ]
  },
  {
   "cell_type": "code",
   "execution_count": 6,
   "metadata": {
    "collapsed": true
   },
   "outputs": [],
   "source": [
    "xgb_clf_pipeline = Pipeline(steps=[('features', FeatureUnion(featurisers)),\n",
    "                                          ('clf', XGBClassifier(max_depth=3, \n",
    "                                                                learning_rate=0.1, \n",
    "                                                                scale_pos_weight=2,\n",
    "                                                                n_estimators=100,\n",
    "                                                                gamma=0.1,\n",
    "                                                                min_child_weight=1,\n",
    "                                                                reg_lambda=1,\n",
    "                                                                subsample=1,\n",
    "                                                                nthread=number_processors\n",
    "                                                                ))])"
   ]
  },
  {
   "cell_type": "code",
   "execution_count": 7,
   "metadata": {
    "collapsed": true
   },
   "outputs": [],
   "source": [
    "xgb_hist_clf_pipeline = Pipeline(steps=[('features', FeatureUnion(featurisers)),\n",
    "                                          ('clf', XGBClassifier(max_depth=0, \n",
    "                                                                learning_rate=0.1, \n",
    "                                                                scale_pos_weight=2,\n",
    "                                                                n_estimators=100,\n",
    "                                                                gamma=0.1,\n",
    "                                                                min_child_weight=1,\n",
    "                                                                reg_lambda=1,\n",
    "                                                                subsample=1,\n",
    "                                                                max_leaves=2**3,\n",
    "                                                                grow_policy='lossguide',\n",
    "                                                                tree_method='hist',\n",
    "                                                                nthread=number_processors\n",
    "                                                                ))])"
   ]
  },
  {
   "cell_type": "code",
   "execution_count": 8,
   "metadata": {
    "collapsed": true
   },
   "outputs": [],
   "source": [
    "lgbm_clf_pipeline = Pipeline(steps=[('features', FeatureUnion(featurisers)),\n",
    "                                          ('clf', LGBMClassifier(num_leaves=2**3, \n",
    "                                                                learning_rate=0.1, \n",
    "                                                                scale_pos_weight=2,\n",
    "                                                                n_estimators=100,\n",
    "                                                                min_split_gain=0.1,\n",
    "                                                                min_child_weight=1,\n",
    "                                                                reg_lambda=1,\n",
    "                                                                subsample=1,\n",
    "                                                                nthread=number_processors\n",
    "                                                                ))])"
   ]
  },
  {
   "cell_type": "markdown",
   "metadata": {},
   "source": [
    "The dataset has been preprepared by extracting 800ms epochs from each channel. The data was then lowpass filtered at 18Hz and downsampled by a factor of 6. This results is a feature vector of\n"
   ]
  },
  {
   "cell_type": "code",
   "execution_count": 9,
   "metadata": {},
   "outputs": [
    {
     "name": "stderr",
     "output_type": "stream",
     "text": [
      "INFO:libs.loaders:MOUNT_POINT not found in environment. Defaulting to /fileshare\n"
     ]
    },
    {
     "name": "stdout",
     "output_type": "stream",
     "text": [
      "CPU times: user 3.18 s, sys: 580 ms, total: 3.76 s\n",
      "Wall time: 20.9 s\n"
     ]
    }
   ],
   "source": [
    "%%time\n",
    "X, y, X_test, y_test = load_bci()"
   ]
  },
  {
   "cell_type": "code",
   "execution_count": 10,
   "metadata": {
    "collapsed": true
   },
   "outputs": [],
   "source": [
    "metrics_dict = {\n",
    "    'Accuracy': accuracy_score,\n",
    "    'Precision': precision_score,\n",
    "    'Recall': recall_score,\n",
    "    'AUC': roc_auc_score,\n",
    "    'F1': f1_score,\n",
    "}\n",
    "\n",
    "def classification_metrics(metrics, y_true, y_pred):\n",
    "    return {metric_name:metric(y_true, y_pred) for metric_name, metric in metrics.items()}"
   ]
  },
  {
   "cell_type": "code",
   "execution_count": 11,
   "metadata": {
    "collapsed": true
   },
   "outputs": [],
   "source": [
    "results_dict = dict()"
   ]
  },
  {
   "cell_type": "markdown",
   "metadata": {},
   "source": [
    "### XGBoost"
   ]
  },
  {
   "cell_type": "code",
   "execution_count": 12,
   "metadata": {
    "collapsed": true
   },
   "outputs": [],
   "source": [
    "with Timer() as t_train:\n",
    "    xgb_clf_pipeline.fit(np.concatenate(X),np.concatenate(y))"
   ]
  },
  {
   "cell_type": "code",
   "execution_count": 13,
   "metadata": {
    "collapsed": true
   },
   "outputs": [],
   "source": [
    "with Timer() as t_test:\n",
    "    y_pred = xgb_clf_pipeline.predict(np.concatenate(X_test))"
   ]
  },
  {
   "cell_type": "code",
   "execution_count": 14,
   "metadata": {
    "collapsed": true
   },
   "outputs": [],
   "source": [
    "results_dict['xgb']={\n",
    "    'train_time': t_train.interval,\n",
    "    'test_time': t_test.interval,\n",
    "    'performance': classification_metrics(metrics_dict, \n",
    "                                          np.concatenate(y_test), \n",
    "                                          y_pred) \n",
    "}"
   ]
  },
  {
   "cell_type": "code",
   "execution_count": 15,
   "metadata": {
    "collapsed": true
   },
   "outputs": [],
   "source": [
    "with Timer() as t_train:\n",
    "    xgb_hist_clf_pipeline.fit(np.concatenate(X),np.concatenate(y))"
   ]
  },
  {
   "cell_type": "code",
   "execution_count": 16,
   "metadata": {
    "collapsed": true
   },
   "outputs": [],
   "source": [
    "with Timer() as t_test:\n",
    "    y_pred = xgb_hist_clf_pipeline.predict(np.concatenate(X_test))"
   ]
  },
  {
   "cell_type": "code",
   "execution_count": 17,
   "metadata": {
    "collapsed": true
   },
   "outputs": [],
   "source": [
    "results_dict['xgb_hist']={\n",
    "    'train_time': t_train.interval,\n",
    "    'test_time': t_test.interval,\n",
    "    'performance': classification_metrics(metrics_dict, \n",
    "                                          np.concatenate(y_test), \n",
    "                                          y_pred) \n",
    "}"
   ]
  },
  {
   "cell_type": "markdown",
   "metadata": {},
   "source": [
    "### LightGBM"
   ]
  },
  {
   "cell_type": "code",
   "execution_count": 18,
   "metadata": {
    "collapsed": true
   },
   "outputs": [],
   "source": [
    "with Timer() as t_train:\n",
    "    lgbm_clf_pipeline.fit(np.concatenate(X),np.concatenate(y))"
   ]
  },
  {
   "cell_type": "code",
   "execution_count": 19,
   "metadata": {
    "collapsed": true
   },
   "outputs": [],
   "source": [
    "with Timer() as t_test:\n",
    "    y_pred = lgbm_clf_pipeline.predict(np.concatenate(X_test))"
   ]
  },
  {
   "cell_type": "code",
   "execution_count": 20,
   "metadata": {
    "collapsed": true
   },
   "outputs": [],
   "source": [
    "results_dict['lgbm']={\n",
    "    'train_time': t_train.interval,\n",
    "    'test_time': t_test.interval,\n",
    "    'performance': classification_metrics(metrics_dict, \n",
    "                                          np.concatenate(y_test), \n",
    "                                          y_pred) \n",
    "}"
   ]
  },
  {
   "cell_type": "code",
   "execution_count": 21,
   "metadata": {},
   "outputs": [
    {
     "name": "stdout",
     "output_type": "stream",
     "text": [
      "{\n",
      "    \"lgbm\": {\n",
      "        \"performance\": {\n",
      "            \"AUC\": 0.5348626373626374,\n",
      "            \"Accuracy\": 0.8802275008364001,\n",
      "            \"F1\": 0.13734939759036147,\n",
      "            \"Precision\": 0.5588235294117647,\n",
      "            \"Recall\": 0.0782967032967033\n",
      "        },\n",
      "        \"test_time\": 0.20288882195018232,\n",
      "        \"train_time\": 6.441622233949602\n",
      "    },\n",
      "    \"xgb\": {\n",
      "        \"performance\": {\n",
      "            \"AUC\": 0.5277435897435897,\n",
      "            \"Accuracy\": 0.8812311809969889,\n",
      "            \"F1\": 0.11027568922305765,\n",
      "            \"Precision\": 0.6285714285714286,\n",
      "            \"Recall\": 0.06043956043956044\n",
      "        },\n",
      "        \"test_time\": 0.31435969995800406,\n",
      "        \"train_time\": 13.533113401965238\n",
      "    },\n",
      "    \"xgb_hist\": {\n",
      "        \"performance\": {\n",
      "            \"AUC\": 0.536521978021978,\n",
      "            \"Accuracy\": 0.8810639009702241,\n",
      "            \"F1\": 0.14234016887816647,\n",
      "            \"Precision\": 0.5841584158415841,\n",
      "            \"Recall\": 0.08104395604395605\n",
      "        },\n",
      "        \"test_time\": 0.3082847240148112,\n",
      "        \"train_time\": 42.42150830500759\n",
      "    }\n",
      "}\n"
     ]
    }
   ],
   "source": [
    "# Results\n",
    "print(json.dumps(results_dict, indent=4, sort_keys=True))"
   ]
  },
  {
   "cell_type": "markdown",
   "metadata": {},
   "source": [
    "## Concept Drift\n",
    "Concept drift can occur across many domains and can be caused by many factors such as sensor drift, seasonality, regime change, etc. One of the ways to combat this is by retraining. If the cause for the drift is observable then it can be incorporated into the model. In this specific instance the cause for the drift is an increase in the impedance in the electrodes, fatigue as well as a number of other factors. These are not observable in the dataset so we will have to retrain the model at regular intervals and observe the difference in performance. This constant retraining can be costly especially with large datasets. Below we will compare XGBoost and LightGBM in a naive retraining scenario."
   ]
  },
  {
   "cell_type": "code",
   "execution_count": 22,
   "metadata": {
    "collapsed": true
   },
   "outputs": [],
   "source": [
    "def _predict(model, X_test, y_test, auc_list, interval_list):\n",
    "    with Timer() as t:\n",
    "        y_pred = model.predict_proba(X_test)\n",
    "        auc_list.append(roc_auc_score(y_test, y_pred[:, 1]))\n",
    "    interval_list.append(t.interval)"
   ]
  },
  {
   "cell_type": "code",
   "execution_count": 23,
   "metadata": {
    "collapsed": true
   },
   "outputs": [],
   "source": [
    "def run_train_retrain_comparison(model, X, y, X_test, y_test):\n",
    "    retrain_model = deepcopy(model)\n",
    "    historical_X = deepcopy(X.tolist())\n",
    "    historical_y = deepcopy(y.tolist())\n",
    "    train_auc = list()\n",
    "    retrain_auc = list()\n",
    "    test_interval = list()\n",
    "    retrain_test_interval = list()\n",
    "    retrain_interval = list()\n",
    "    \n",
    "    for X_test_run, y_test_run in  tqdm_notebook(zip(X_test, y_test), total=len(y_test)):\n",
    "        prev_model = deepcopy(retrain_model)\n",
    "        \n",
    "        _predict(model, X_test_run, y_test_run, train_auc, test_interval)\n",
    "        _predict(retrain_model, X_test_run, y_test_run, retrain_auc, retrain_test_interval)\n",
    "        \n",
    "        historical_X.append(X_test_run)\n",
    "        historical_y.append(y_test_run)\n",
    "\n",
    "        new_train_X  = np.concatenate(historical_X)\n",
    "        with Timer() as t:\n",
    "            retrain_model.fit(new_train_X, np.concatenate(historical_y))\n",
    "        retrain_interval.append(t.interval)    \n",
    "        \n",
    "    return pd.DataFrame({\n",
    "        'Test interval':test_interval,\n",
    "        'Retrain Test interval':retrain_test_interval,\n",
    "        'Retrain interval':retrain_interval,\n",
    "        'Train AUC':train_auc,\n",
    "        'Retrain AUC':retrain_auc\n",
    "    })"
   ]
  },
  {
   "cell_type": "code",
   "execution_count": 24,
   "metadata": {
    "scrolled": false
   },
   "outputs": [
    {
     "data": {
      "application/vnd.jupyter.widget-view+json": {
       "model_id": "9e16bf4f264d49b5bad546ce0aef1ecd"
      }
     },
     "metadata": {},
     "output_type": "display_data"
    },
    {
     "name": "stdout",
     "output_type": "stream",
     "text": [
      "\n"
     ]
    }
   ],
   "source": [
    "df = run_train_retrain_comparison(xgb_clf_pipeline, X, y, X_test, y_test)"
   ]
  },
  {
   "cell_type": "code",
   "execution_count": 25,
   "metadata": {
    "collapsed": true
   },
   "outputs": [],
   "source": [
    "retrain_results_dict = dict()"
   ]
  },
  {
   "cell_type": "code",
   "execution_count": 26,
   "metadata": {
    "collapsed": true
   },
   "outputs": [],
   "source": [
    "retrain_results_dict['xgb'] = df"
   ]
  },
  {
   "cell_type": "code",
   "execution_count": 27,
   "metadata": {
    "scrolled": false
   },
   "outputs": [
    {
     "data": {
      "application/vnd.jupyter.widget-view+json": {
       "model_id": "5ae53fed0317451b8af65dcc0a8a559e"
      }
     },
     "metadata": {},
     "output_type": "display_data"
    },
    {
     "name": "stdout",
     "output_type": "stream",
     "text": [
      "\n"
     ]
    }
   ],
   "source": [
    "df = run_train_retrain_comparison(lgbm_clf_pipeline, X, y, X_test, y_test)"
   ]
  },
  {
   "cell_type": "code",
   "execution_count": 28,
   "metadata": {
    "collapsed": true
   },
   "outputs": [],
   "source": [
    "retrain_results_dict['lgbm'] = df"
   ]
  },
  {
   "cell_type": "code",
   "execution_count": 29,
   "metadata": {
    "collapsed": true
   },
   "outputs": [],
   "source": [
    "data_cds = (retrain_results_dict['xgb'][['Train AUC', 'Retrain AUC']].rolling(window=10)\n",
    "                                                                     .mean()\n",
    "                                                                     .dropna()\n",
    "                                                                     .pipe(ColumnDataSource))"
   ]
  },
  {
   "cell_type": "code",
   "execution_count": 30,
   "metadata": {},
   "outputs": [
    {
     "data": {
      "text/html": [
       "\n",
       "\n",
       "    <div class=\"bk-root\">\n",
       "        <div class=\"bk-plotdiv\" id=\"bc4a2e7e-1860-46b1-b5ca-6a99080c691e\"></div>\n",
       "    </div>\n",
       "<script type=\"text/javascript\">\n",
       "  \n",
       "  (function(global) {\n",
       "    function now() {\n",
       "      return new Date();\n",
       "    }\n",
       "  \n",
       "    var force = false;\n",
       "  \n",
       "    if (typeof (window._bokeh_onload_callbacks) === \"undefined\" || force === true) {\n",
       "      window._bokeh_onload_callbacks = [];\n",
       "      window._bokeh_is_loading = undefined;\n",
       "    }\n",
       "  \n",
       "  \n",
       "    \n",
       "    if (typeof (window._bokeh_timeout) === \"undefined\" || force === true) {\n",
       "      window._bokeh_timeout = Date.now() + 0;\n",
       "      window._bokeh_failed_load = false;\n",
       "    }\n",
       "  \n",
       "    var NB_LOAD_WARNING = {'data': {'text/html':\n",
       "       \"<div style='background-color: #fdd'>\\n\"+\n",
       "       \"<p>\\n\"+\n",
       "       \"BokehJS does not appear to have successfully loaded. If loading BokehJS from CDN, this \\n\"+\n",
       "       \"may be due to a slow or bad network connection. Possible fixes:\\n\"+\n",
       "       \"</p>\\n\"+\n",
       "       \"<ul>\\n\"+\n",
       "       \"<li>re-rerun `output_notebook()` to attempt to load from CDN again, or</li>\\n\"+\n",
       "       \"<li>use INLINE resources instead, as so:</li>\\n\"+\n",
       "       \"</ul>\\n\"+\n",
       "       \"<code>\\n\"+\n",
       "       \"from bokeh.resources import INLINE\\n\"+\n",
       "       \"output_notebook(resources=INLINE)\\n\"+\n",
       "       \"</code>\\n\"+\n",
       "       \"</div>\"}};\n",
       "  \n",
       "    function display_loaded() {\n",
       "      if (window.Bokeh !== undefined) {\n",
       "        var el = document.getElementById(\"bc4a2e7e-1860-46b1-b5ca-6a99080c691e\");\n",
       "        el.textContent = \"BokehJS \" + Bokeh.version + \" successfully loaded.\";\n",
       "      } else if (Date.now() < window._bokeh_timeout) {\n",
       "        setTimeout(display_loaded, 100)\n",
       "      }\n",
       "    }\n",
       "  \n",
       "    function run_callbacks() {\n",
       "      try {\n",
       "        window._bokeh_onload_callbacks.forEach(function(callback) { callback() });\n",
       "      }\n",
       "      finally {\n",
       "        delete window._bokeh_onload_callbacks\n",
       "      }\n",
       "      console.info(\"Bokeh: all callbacks have finished\");\n",
       "    }\n",
       "  \n",
       "    function load_libs(js_urls, callback) {\n",
       "      window._bokeh_onload_callbacks.push(callback);\n",
       "      if (window._bokeh_is_loading > 0) {\n",
       "        console.log(\"Bokeh: BokehJS is being loaded, scheduling callback at\", now());\n",
       "        return null;\n",
       "      }\n",
       "      if (js_urls == null || js_urls.length === 0) {\n",
       "        run_callbacks();\n",
       "        return null;\n",
       "      }\n",
       "      console.log(\"Bokeh: BokehJS not loaded, scheduling load and callback at\", now());\n",
       "      window._bokeh_is_loading = js_urls.length;\n",
       "      for (var i = 0; i < js_urls.length; i++) {\n",
       "        var url = js_urls[i];\n",
       "        var s = document.createElement('script');\n",
       "        s.src = url;\n",
       "        s.async = false;\n",
       "        s.onreadystatechange = s.onload = function() {\n",
       "          window._bokeh_is_loading--;\n",
       "          if (window._bokeh_is_loading === 0) {\n",
       "            console.log(\"Bokeh: all BokehJS libraries loaded\");\n",
       "            run_callbacks()\n",
       "          }\n",
       "        };\n",
       "        s.onerror = function() {\n",
       "          console.warn(\"failed to load library \" + url);\n",
       "        };\n",
       "        console.log(\"Bokeh: injecting script tag for BokehJS library: \", url);\n",
       "        document.getElementsByTagName(\"head\")[0].appendChild(s);\n",
       "      }\n",
       "    };var element = document.getElementById(\"bc4a2e7e-1860-46b1-b5ca-6a99080c691e\");\n",
       "    if (element == null) {\n",
       "      console.log(\"Bokeh: ERROR: autoload.js configured with elementid 'bc4a2e7e-1860-46b1-b5ca-6a99080c691e' but no matching script tag was found. \")\n",
       "      return false;\n",
       "    }\n",
       "  \n",
       "    var js_urls = [];\n",
       "  \n",
       "    var inline_js = [\n",
       "      function(Bokeh) {\n",
       "        (function() {\n",
       "          var fn = function() {\n",
       "            var docs_json = {\"5ebd37a0-ae5f-4506-99f6-70b08f87bd4e\":{\"roots\":{\"references\":[{\"attributes\":{\"plot\":{\"id\":\"83f458be-7cdd-48f7-94ec-28fec9246adb\",\"subtype\":\"Figure\",\"type\":\"Plot\"},\"ticker\":{\"id\":\"0486c8b4-aafd-496a-ae6d-74c7c9f5c077\",\"type\":\"BasicTicker\"}},\"id\":\"63557119-3208-40bf-aa80-beb183f910f3\",\"type\":\"Grid\"},{\"attributes\":{\"fill_alpha\":{\"value\":0.1},\"fill_color\":{\"value\":\"#1f77b4\"},\"line_alpha\":{\"value\":0.1},\"line_color\":{\"value\":\"#1f77b4\"},\"line_width\":{\"value\":1.5},\"size\":{\"units\":\"screen\",\"value\":6},\"x\":{\"field\":\"index\"},\"y\":{\"field\":\"Train AUC\"}},\"id\":\"36297d25-e0a9-487d-aacd-fb5af5e55f87\",\"type\":\"Circle\"},{\"attributes\":{\"overlay\":{\"id\":\"c9b415c2-f9c2-49f2-aef7-5b5a85a0cc9c\",\"type\":\"BoxAnnotation\"},\"plot\":{\"id\":\"83f458be-7cdd-48f7-94ec-28fec9246adb\",\"subtype\":\"Figure\",\"type\":\"Plot\"}},\"id\":\"6594604c-e475-4346-9530-0b3b823ea756\",\"type\":\"BoxZoomTool\"},{\"attributes\":{\"plot\":{\"id\":\"83f458be-7cdd-48f7-94ec-28fec9246adb\",\"subtype\":\"Figure\",\"type\":\"Plot\"}},\"id\":\"148214c6-bcb5-4d4c-8773-05f63150aeff\",\"type\":\"PanTool\"},{\"attributes\":{\"line_alpha\":{\"value\":0.1},\"line_cap\":\"round\",\"line_color\":{\"value\":\"#1f77b4\"},\"line_width\":{\"value\":6},\"x\":{\"field\":\"index\"},\"y\":{\"field\":\"Train AUC\"}},\"id\":\"acae3458-5e6e-4d90-8ef8-3f06cf0b9aa8\",\"type\":\"Line\"},{\"attributes\":{},\"id\":\"6b03a368-3534-4b61-bb82-eef6b3909da9\",\"type\":\"BasicTickFormatter\"},{\"attributes\":{},\"id\":\"0486c8b4-aafd-496a-ae6d-74c7c9f5c077\",\"type\":\"BasicTicker\"},{\"attributes\":{\"fill_alpha\":{\"value\":0.1},\"fill_color\":{\"value\":\"#1f77b4\"},\"line_alpha\":{\"value\":0.1},\"line_color\":{\"value\":\"#1f77b4\"},\"line_width\":{\"value\":1.5},\"size\":{\"units\":\"screen\",\"value\":6},\"x\":{\"field\":\"index\"},\"y\":{\"field\":\"Retrain AUC\"}},\"id\":\"1a8bfa13-3828-412e-bbc0-f8b1b209032b\",\"type\":\"Circle\"},{\"attributes\":{\"formatter\":{\"id\":\"5afe90fc-d022-4c4a-9307-c7df8737d782\",\"type\":\"BasicTickFormatter\"},\"plot\":{\"id\":\"83f458be-7cdd-48f7-94ec-28fec9246adb\",\"subtype\":\"Figure\",\"type\":\"Plot\"},\"ticker\":{\"id\":\"0486c8b4-aafd-496a-ae6d-74c7c9f5c077\",\"type\":\"BasicTicker\"}},\"id\":\"33ac5b9a-a359-4f90-a47e-a5289e87418a\",\"type\":\"LinearAxis\"},{\"attributes\":{\"plot\":{\"id\":\"83f458be-7cdd-48f7-94ec-28fec9246adb\",\"subtype\":\"Figure\",\"type\":\"Plot\"}},\"id\":\"f8d5615e-0cac-4488-9949-922c2914557a\",\"type\":\"ResetTool\"},{\"attributes\":{\"line_cap\":\"round\",\"line_color\":{\"value\":\"#5975a4\"},\"line_width\":{\"value\":6},\"x\":{\"field\":\"index\"},\"y\":{\"field\":\"Train AUC\"}},\"id\":\"7c41d2b7-22e2-4e31-af25-479fe0929463\",\"type\":\"Line\"},{\"attributes\":{\"line_alpha\":{\"value\":0.1},\"line_cap\":\"round\",\"line_color\":{\"value\":\"#1f77b4\"},\"line_width\":{\"value\":6},\"x\":{\"field\":\"index\"},\"y\":{\"field\":\"Retrain AUC\"}},\"id\":\"054faf13-9b78-4227-a989-25bcb0177b41\",\"type\":\"Line\"},{\"attributes\":{\"dimension\":1,\"plot\":{\"id\":\"83f458be-7cdd-48f7-94ec-28fec9246adb\",\"subtype\":\"Figure\",\"type\":\"Plot\"},\"ticker\":{\"id\":\"3d9b103c-3520-4c01-8082-bdf22d0988ae\",\"type\":\"BasicTicker\"}},\"id\":\"a6ae2829-f2ca-4403-a50a-9589a25ab1bf\",\"type\":\"Grid\"},{\"attributes\":{},\"id\":\"681f3c92-412c-4483-9b35-d1fc37986b0b\",\"type\":\"LinearScale\"},{\"attributes\":{\"callback\":null,\"column_names\":[\"Train AUC\",\"Retrain AUC\",\"index\"],\"data\":{\"Retrain AUC\":{\"__ndarray__\":\"VvppraUp6j+m9A79n87pP6qzQsR/suk/Anxk2y9r6T/dBmJBJ1DpPzp4PlSMKuk/Zg4kVIEl6T9y7C8v5CXpPz8bPY6J3+g/43Vw+CLg6D/iebbZzMHoPz8+CoEhveg/HTXqxcR76D+kFF3Hd4roPyWqoFLkceg/hPfcff566D9irGi+G2DoP/Z23AZNMeg/JteNJ45M6D8YWd83tFLoP28bX/lwdOg/vBESTY+e6D83NwbYBIHoPwgzo19cbOg/jwJUi5xa6D82OLXY3y/oPw==\",\"dtype\":\"float64\",\"shape\":[26]},\"Train AUC\":{\"__ndarray__\":\"dqghcxgp6j9A2Ldve/LpPzh28W2awek/CsBg8eaR6T8bmzB0/2vpP4DO4ZsoRuk/0c9AsmQp6T/qzXd3DQvpP8UT5eTQ7eg/gbeX2jXT6D/u2LxZ2rjoP6iYMPtymug/Ll1ovgN86D9QHMMVO2XoP3SA3pqEUeg/h2BQ9kU+6D+vaocMuyvoP5aX113rGOg/qoXnsjUG6D/6sBjC1vLnPw6Rih2Y3+c/qtP+8YbR5z82JfU9H8TnPxJGshoDuOc/+kSKwaGq5z/+p2FFU53nPw==\",\"dtype\":\"float64\",\"shape\":[26]},\"index\":[9,10,11,12,13,14,15,16,17,18,19,20,21,22,23,24,25,26,27,28,29,30,31,32,33,34]}},\"id\":\"e272befc-366a-4270-afe4-3ae128ab78d1\",\"type\":\"ColumnDataSource\"},{\"attributes\":{\"fill_color\":{\"value\":\"white\"},\"line_color\":{\"value\":\"#a1bae3\"},\"line_width\":{\"value\":1.5},\"size\":{\"units\":\"screen\",\"value\":6},\"x\":{\"field\":\"index\"},\"y\":{\"field\":\"Retrain AUC\"}},\"id\":\"84ce5fd2-8bc0-4c40-89a1-e8944d3918f8\",\"type\":\"Circle\"},{\"attributes\":{\"below\":[{\"id\":\"33ac5b9a-a359-4f90-a47e-a5289e87418a\",\"type\":\"LinearAxis\"}],\"left\":[{\"id\":\"ff10b136-e9ce-4e95-bd6d-b615932bc006\",\"type\":\"LinearAxis\"}],\"plot_height\":350,\"plot_width\":700,\"renderers\":[{\"id\":\"33ac5b9a-a359-4f90-a47e-a5289e87418a\",\"type\":\"LinearAxis\"},{\"id\":\"63557119-3208-40bf-aa80-beb183f910f3\",\"type\":\"Grid\"},{\"id\":\"ff10b136-e9ce-4e95-bd6d-b615932bc006\",\"type\":\"LinearAxis\"},{\"id\":\"a6ae2829-f2ca-4403-a50a-9589a25ab1bf\",\"type\":\"Grid\"},{\"id\":\"c9b415c2-f9c2-49f2-aef7-5b5a85a0cc9c\",\"type\":\"BoxAnnotation\"},{\"id\":\"9d943973-1938-44ae-97f5-97091a5b86d7\",\"type\":\"Legend\"},{\"id\":\"8484510e-0601-4a25-b599-7edc445ef3c6\",\"type\":\"GlyphRenderer\"},{\"id\":\"051e38f3-f627-4ed4-9624-67bccb70d9fc\",\"type\":\"GlyphRenderer\"},{\"id\":\"f86999dc-cd48-4bf8-bacb-14b8c2968559\",\"type\":\"GlyphRenderer\"},{\"id\":\"08fc2532-7c80-452c-8b7c-256fe5e585b8\",\"type\":\"GlyphRenderer\"}],\"title\":{\"id\":\"78099d6b-515f-48a0-b7b8-be5f8a7f751f\",\"type\":\"Title\"},\"tool_events\":{\"id\":\"ef587a78-39dd-4a42-852d-c221330cf935\",\"type\":\"ToolEvents\"},\"toolbar\":{\"id\":\"be5e96a6-1c70-49fa-9454-85111a1e8e7d\",\"type\":\"Toolbar\"},\"x_range\":{\"id\":\"e14904d3-417a-43f0-a44c-4f1ab1898290\",\"type\":\"DataRange1d\"},\"x_scale\":{\"id\":\"46c52527-dbac-46f0-b1b4-a6ee873bb397\",\"type\":\"LinearScale\"},\"y_range\":{\"id\":\"6fdb518b-2784-40e9-91e3-47fb56b0df32\",\"type\":\"DataRange1d\"},\"y_scale\":{\"id\":\"681f3c92-412c-4483-9b35-d1fc37986b0b\",\"type\":\"LinearScale\"}},\"id\":\"83f458be-7cdd-48f7-94ec-28fec9246adb\",\"subtype\":\"Figure\",\"type\":\"Plot\"},{\"attributes\":{\"data_source\":{\"id\":\"e272befc-366a-4270-afe4-3ae128ab78d1\",\"type\":\"ColumnDataSource\"},\"glyph\":{\"id\":\"565fcb8e-f3b0-418f-88d8-694c6d3ad707\",\"type\":\"Circle\"},\"hover_glyph\":null,\"muted_glyph\":null,\"nonselection_glyph\":{\"id\":\"36297d25-e0a9-487d-aacd-fb5af5e55f87\",\"type\":\"Circle\"},\"selection_glyph\":null},\"id\":\"051e38f3-f627-4ed4-9624-67bccb70d9fc\",\"type\":\"GlyphRenderer\"},{\"attributes\":{\"items\":[{\"id\":\"ad3ae388-4baa-4585-ab0e-f79a2f94d7d5\",\"type\":\"LegendItem\"},{\"id\":\"8e9d6535-2979-40a6-9441-8dddaaec9626\",\"type\":\"LegendItem\"}],\"plot\":{\"id\":\"83f458be-7cdd-48f7-94ec-28fec9246adb\",\"subtype\":\"Figure\",\"type\":\"Plot\"}},\"id\":\"9d943973-1938-44ae-97f5-97091a5b86d7\",\"type\":\"Legend\"},{\"attributes\":{\"plot\":null,\"text\":\"\"},\"id\":\"78099d6b-515f-48a0-b7b8-be5f8a7f751f\",\"type\":\"Title\"},{\"attributes\":{},\"id\":\"46c52527-dbac-46f0-b1b4-a6ee873bb397\",\"type\":\"LinearScale\"},{\"attributes\":{\"line_cap\":\"round\",\"line_color\":{\"value\":\"#a1bae3\"},\"line_width\":{\"value\":6},\"x\":{\"field\":\"index\"},\"y\":{\"field\":\"Retrain AUC\"}},\"id\":\"da47ed52-df8f-4dd6-a78b-4c80feec3cc4\",\"type\":\"Line\"},{\"attributes\":{\"callback\":null,\"mode\":\"vline\",\"plot\":{\"id\":\"83f458be-7cdd-48f7-94ec-28fec9246adb\",\"subtype\":\"Figure\",\"type\":\"Plot\"},\"renderers\":[{\"id\":\"8484510e-0601-4a25-b599-7edc445ef3c6\",\"type\":\"GlyphRenderer\"}],\"tooltips\":[[\"Train AUC\",\"@{Train AUC}{0.4f}\"],[\"Retrain AUC\",\"@{Retrain AUC}{0.4f}\"]]},\"id\":\"4dfdb14a-8fa4-495d-916d-88b7035b662a\",\"type\":\"HoverTool\"},{\"attributes\":{},\"id\":\"3d9b103c-3520-4c01-8082-bdf22d0988ae\",\"type\":\"BasicTicker\"},{\"attributes\":{},\"id\":\"5afe90fc-d022-4c4a-9307-c7df8737d782\",\"type\":\"BasicTickFormatter\"},{\"attributes\":{\"fill_color\":{\"value\":\"white\"},\"line_color\":{\"value\":\"#5975a4\"},\"line_width\":{\"value\":1.5},\"size\":{\"units\":\"screen\",\"value\":6},\"x\":{\"field\":\"index\"},\"y\":{\"field\":\"Train AUC\"}},\"id\":\"565fcb8e-f3b0-418f-88d8-694c6d3ad707\",\"type\":\"Circle\"},{\"attributes\":{\"active_drag\":\"auto\",\"active_inspect\":\"auto\",\"active_scroll\":\"auto\",\"active_tap\":\"auto\",\"tools\":[{\"id\":\"148214c6-bcb5-4d4c-8773-05f63150aeff\",\"type\":\"PanTool\"},{\"id\":\"2999f2a5-0403-453c-a569-ed155f2c4e64\",\"type\":\"WheelZoomTool\"},{\"id\":\"6594604c-e475-4346-9530-0b3b823ea756\",\"type\":\"BoxZoomTool\"},{\"id\":\"f8d5615e-0cac-4488-9949-922c2914557a\",\"type\":\"ResetTool\"},{\"id\":\"4dfdb14a-8fa4-495d-916d-88b7035b662a\",\"type\":\"HoverTool\"}]},\"id\":\"be5e96a6-1c70-49fa-9454-85111a1e8e7d\",\"type\":\"Toolbar\"},{\"attributes\":{\"callback\":null},\"id\":\"6fdb518b-2784-40e9-91e3-47fb56b0df32\",\"type\":\"DataRange1d\"},{\"attributes\":{\"data_source\":{\"id\":\"e272befc-366a-4270-afe4-3ae128ab78d1\",\"type\":\"ColumnDataSource\"},\"glyph\":{\"id\":\"7c41d2b7-22e2-4e31-af25-479fe0929463\",\"type\":\"Line\"},\"hover_glyph\":null,\"muted_glyph\":null,\"nonselection_glyph\":{\"id\":\"acae3458-5e6e-4d90-8ef8-3f06cf0b9aa8\",\"type\":\"Line\"},\"selection_glyph\":null},\"id\":\"8484510e-0601-4a25-b599-7edc445ef3c6\",\"type\":\"GlyphRenderer\"},{\"attributes\":{\"data_source\":{\"id\":\"e272befc-366a-4270-afe4-3ae128ab78d1\",\"type\":\"ColumnDataSource\"},\"glyph\":{\"id\":\"84ce5fd2-8bc0-4c40-89a1-e8944d3918f8\",\"type\":\"Circle\"},\"hover_glyph\":null,\"muted_glyph\":null,\"nonselection_glyph\":{\"id\":\"1a8bfa13-3828-412e-bbc0-f8b1b209032b\",\"type\":\"Circle\"},\"selection_glyph\":null},\"id\":\"08fc2532-7c80-452c-8b7c-256fe5e585b8\",\"type\":\"GlyphRenderer\"},{\"attributes\":{\"bottom_units\":\"screen\",\"fill_alpha\":{\"value\":0.5},\"fill_color\":{\"value\":\"lightgrey\"},\"left_units\":\"screen\",\"level\":\"overlay\",\"line_alpha\":{\"value\":1.0},\"line_color\":{\"value\":\"black\"},\"line_dash\":[4,4],\"line_width\":{\"value\":2},\"plot\":null,\"render_mode\":\"css\",\"right_units\":\"screen\",\"top_units\":\"screen\"},\"id\":\"c9b415c2-f9c2-49f2-aef7-5b5a85a0cc9c\",\"type\":\"BoxAnnotation\"},{\"attributes\":{\"data_source\":{\"id\":\"e272befc-366a-4270-afe4-3ae128ab78d1\",\"type\":\"ColumnDataSource\"},\"glyph\":{\"id\":\"da47ed52-df8f-4dd6-a78b-4c80feec3cc4\",\"type\":\"Line\"},\"hover_glyph\":null,\"muted_glyph\":null,\"nonselection_glyph\":{\"id\":\"054faf13-9b78-4227-a989-25bcb0177b41\",\"type\":\"Line\"},\"selection_glyph\":null},\"id\":\"f86999dc-cd48-4bf8-bacb-14b8c2968559\",\"type\":\"GlyphRenderer\"},{\"attributes\":{\"label\":{\"value\":\" Retrain AUC\"},\"renderers\":[{\"id\":\"f86999dc-cd48-4bf8-bacb-14b8c2968559\",\"type\":\"GlyphRenderer\"}]},\"id\":\"8e9d6535-2979-40a6-9441-8dddaaec9626\",\"type\":\"LegendItem\"},{\"attributes\":{\"label\":{\"value\":\" Train AUC\"},\"renderers\":[{\"id\":\"8484510e-0601-4a25-b599-7edc445ef3c6\",\"type\":\"GlyphRenderer\"}]},\"id\":\"ad3ae388-4baa-4585-ab0e-f79a2f94d7d5\",\"type\":\"LegendItem\"},{\"attributes\":{\"callback\":null},\"id\":\"e14904d3-417a-43f0-a44c-4f1ab1898290\",\"type\":\"DataRange1d\"},{\"attributes\":{\"plot\":{\"id\":\"83f458be-7cdd-48f7-94ec-28fec9246adb\",\"subtype\":\"Figure\",\"type\":\"Plot\"}},\"id\":\"2999f2a5-0403-453c-a569-ed155f2c4e64\",\"type\":\"WheelZoomTool\"},{\"attributes\":{\"axis_label\":\"AUC\",\"formatter\":{\"id\":\"6b03a368-3534-4b61-bb82-eef6b3909da9\",\"type\":\"BasicTickFormatter\"},\"plot\":{\"id\":\"83f458be-7cdd-48f7-94ec-28fec9246adb\",\"subtype\":\"Figure\",\"type\":\"Plot\"},\"ticker\":{\"id\":\"3d9b103c-3520-4c01-8082-bdf22d0988ae\",\"type\":\"BasicTicker\"}},\"id\":\"ff10b136-e9ce-4e95-bd6d-b615932bc006\",\"type\":\"LinearAxis\"},{\"attributes\":{},\"id\":\"ef587a78-39dd-4a42-852d-c221330cf935\",\"type\":\"ToolEvents\"}],\"root_ids\":[\"83f458be-7cdd-48f7-94ec-28fec9246adb\"]},\"title\":\"Bokeh Application\",\"version\":\"0.12.6\"}};\n",
       "            var render_items = [{\"docid\":\"5ebd37a0-ae5f-4506-99f6-70b08f87bd4e\",\"elementid\":\"bc4a2e7e-1860-46b1-b5ca-6a99080c691e\",\"modelid\":\"83f458be-7cdd-48f7-94ec-28fec9246adb\"}];\n",
       "            \n",
       "            Bokeh.embed.embed_items(docs_json, render_items);\n",
       "          };\n",
       "          if (document.readyState != \"loading\") fn();\n",
       "          else document.addEventListener(\"DOMContentLoaded\", fn);\n",
       "        })();\n",
       "      },\n",
       "      function(Bokeh) {\n",
       "      }\n",
       "    ];\n",
       "  \n",
       "    function run_inline_js() {\n",
       "      \n",
       "      if ((window.Bokeh !== undefined) || (force === true)) {\n",
       "        for (var i = 0; i < inline_js.length; i++) {\n",
       "          inline_js[i](window.Bokeh);\n",
       "        }if (force === true) {\n",
       "          display_loaded();\n",
       "        }} else if (Date.now() < window._bokeh_timeout) {\n",
       "        setTimeout(run_inline_js, 100);\n",
       "      } else if (!window._bokeh_failed_load) {\n",
       "        console.log(\"Bokeh: BokehJS failed to load within specified timeout.\");\n",
       "        window._bokeh_failed_load = true;\n",
       "      } else if (force !== true) {\n",
       "        var cell = $(document.getElementById(\"bc4a2e7e-1860-46b1-b5ca-6a99080c691e\")).parents('.cell').data().cell;\n",
       "        cell.output_area.append_execute_result(NB_LOAD_WARNING)\n",
       "      }\n",
       "  \n",
       "    }\n",
       "  \n",
       "    if (window._bokeh_is_loading === 0) {\n",
       "      console.log(\"Bokeh: BokehJS loaded, going straight to plotting\");\n",
       "      run_inline_js();\n",
       "    } else {\n",
       "      load_libs(js_urls, function() {\n",
       "        console.log(\"Bokeh: BokehJS plotting callback run at\", now());\n",
       "        run_inline_js();\n",
       "      });\n",
       "    }\n",
       "  }(this));\n",
       "</script>"
      ]
     },
     "metadata": {},
     "output_type": "display_data"
    }
   ],
   "source": [
    "# XGB Retrain Results\n",
    "p = figure(y_axis_label='AUC', plot_width=700, plot_height=350, tools=\"pan,wheel_zoom,box_zoom,reset\")\n",
    "l1 = p.line('index', 'Train AUC', legend=' Train AUC', line_color=\"#5975a4\", source=data_cds, line_width=6, line_cap=\"round\")\n",
    "p.circle('index', 'Train AUC', fill_color=\"white\", size=6, line_width=1.5, line_color=\"#5975a4\", source=data_cds)\n",
    "p.line('index', 'Retrain AUC', legend=' Retrain AUC', line_color=\"#a1bae3\", source=data_cds, line_width=6, line_cap=\"round\")\n",
    "p.circle('index', 'Retrain AUC',  fill_color=\"white\", size=6, line_width=1.5, line_color=\"#a1bae3\", source=data_cds)\n",
    "l1_hover = HoverTool(renderers=[l1], tooltips=[( 'Train AUC',  '@{Train AUC}{0.4f}' ), ( 'Retrain AUC',  '@{Retrain AUC}{0.4f}' )], mode='vline')\n",
    "p.add_tools(l1_hover)\n",
    "show(p)"
   ]
  },
  {
   "cell_type": "code",
   "execution_count": 52,
   "metadata": {},
   "outputs": [
    {
     "data": {
      "image/png": "[encoded data removed]",
      "text/plain": [
       "<PIL.PngImagePlugin.PngImageFile image mode=RGBA size=700x350 at 0x7F47E7EC0B00>"
      ]
     },
     "execution_count": 52,
     "metadata": {},
     "output_type": "execute_result"
    }
   ],
   "source": [
    "# So that the plots are visible in github\n",
    "export_png(p, filename='xgb_bci_train_retrain.png')\n",
    "Image.open('xgb_bci_train_retrain.png')"
   ]
  },
  {
   "cell_type": "code",
   "execution_count": 45,
   "metadata": {},
   "outputs": [],
   "source": [
    "from bokeh.io import export_svgs"
   ]
  },
  {
   "cell_type": "code",
   "execution_count": 46,
   "metadata": {},
   "outputs": [
    {
     "data": {
      "text/plain": [
       "['plot.svg']"
      ]
     },
     "execution_count": 46,
     "metadata": {},
     "output_type": "execute_result"
    }
   ],
   "source": [
    "p.output_backend = \"svg\"\n",
    "export_svgs(p, filename=\"plot.svg\")"
   ]
  },
  {
   "cell_type": "code",
   "execution_count": 49,
   "metadata": {},
   "outputs": [
    {
     "name": "stdout",
     "output_type": "stream",
     "text": [
      "01_airline-GPU.ipynb\t bci_time.png\t\t   Retraining-Copy1.ipynb\r\n",
      "01_airline.ipynb\t ghostdriver.log\t   Retraining.ipynb\r\n",
      "02_BCI.ipynb\t\t __init__.py\t\t   Salaries.csv\r\n",
      "03_football.ipynb\t lgbm_retrain_results.svg  Salaries.csv.zip\r\n",
      "04_PlanetKaggle.ipynb\t libs\t\t\t   XGBoostvsLightGBM.ipynb\r\n",
      "05_FraudDetection.ipynb  plot.svg\t\t   xgb_retrain_results.svg\r\n",
      "06_HIGGS.ipynb\t\t __pycache__\t\t   xgb_vs_lgbm_retrain_time.svg\r\n"
     ]
    }
   ],
   "source": [
    "!ls"
   ]
  },
  {
   "cell_type": "code",
   "execution_count": 50,
   "metadata": {
    "collapsed": true
   },
   "outputs": [],
   "source": [
    "from IPython.display import SVG, display"
   ]
  },
  {
   "cell_type": "code",
   "execution_count": 51,
   "metadata": {},
   "outputs": [
    {
     "data": {
      "image/svg+xml": [
       "<svg height=\"350\" style=\"width: 700px; height: 350px;\" version=\"1.1\" width=\"700\" xmlns=\"http://www.w3.org/2000/svg\" xmlns:xlink=\"http://www.w3.org/1999/xlink\"><defs/><g><g/><g transform=\"scale(1,1) translate(0.5,0.5)\"><rect fill=\"#FFFFFF\" height=\"350\" stroke=\"none\" width=\"700\" x=\"0\" y=\"0\"/><rect fill=\"#ffffff\" height=\"350\" stroke=\"none\" width=\"700\" x=\"0\" y=\"0\"/><rect fill=\"#FFFFFF\" height=\"320.815\" stroke=\"none\" width=\"614.895\" x=\"55.105000000000004\" y=\"4\"/><rect fill=\"#ffffff\" height=\"320.815\" stroke=\"none\" width=\"614.895\" x=\"55.105000000000004\" y=\"4\"/><g><rect fill=\"none\" height=\"320.815\" stroke=\"#e5e5e5\" stroke-miterlimit=\"10\" width=\"614.895\" x=\"55.105000000000004\" y=\"4\"/></g><g><g><path d=\" M 105 325 L 105 4\" fill=\"none\" paint-order=\"fill stroke markers\" stroke=\"#e5e5e5\" stroke-miterlimit=\"10\"/><path d=\" M 217 325 L 217 4\" fill=\"none\" paint-order=\"fill stroke markers\" stroke=\"#e5e5e5\" stroke-miterlimit=\"10\"/><path d=\" M 329 325 L 329 4\" fill=\"none\" paint-order=\"fill stroke markers\" stroke=\"#e5e5e5\" stroke-miterlimit=\"10\"/><path d=\" M 441 325 L 441 4\" fill=\"none\" paint-order=\"fill stroke markers\" stroke=\"#e5e5e5\" stroke-miterlimit=\"10\"/><path d=\" M 553 325 L 553 4\" fill=\"none\" paint-order=\"fill stroke markers\" stroke=\"#e5e5e5\" stroke-miterlimit=\"10\"/><path d=\" M 664 325 L 664 4\" fill=\"none\" paint-order=\"fill stroke markers\" stroke=\"#e5e5e5\" stroke-miterlimit=\"10\"/></g><g><path d=\" M 55 303 L 670 303\" fill=\"none\" paint-order=\"fill stroke markers\" stroke=\"#e5e5e5\" stroke-miterlimit=\"10\"/><path d=\" M 55 229 L 670 229\" fill=\"none\" paint-order=\"fill stroke markers\" stroke=\"#e5e5e5\" stroke-miterlimit=\"10\"/><path d=\" M 55 156 L 670 156\" fill=\"none\" paint-order=\"fill stroke markers\" stroke=\"#e5e5e5\" stroke-miterlimit=\"10\"/><path d=\" M 55 83 L 670 83\" fill=\"none\" paint-order=\"fill stroke markers\" stroke=\"#e5e5e5\" stroke-miterlimit=\"10\"/><path d=\" M 55 10 L 670 10\" fill=\"none\" paint-order=\"fill stroke markers\" stroke=\"#e5e5e5\" stroke-miterlimit=\"10\"/></g><g><path fill=\"none\" stroke=\"none\"/><path d=\" M 83.05477272727278 18.82914927219008 L 105.41459090909096 43.24650927322955 L 127.77440909090915 65.10004647416054 L 150.1342272727273 86.42698873070822 L 172.49404545454547 103.37379930285897 L 194.85386363636366 120.29154158929396 L 217.21368181818184 133.15236226064962 L 239.57350000000002 146.71756226122807 L 261.9333181818182 159.78911137456635 L 284.2931363636364 171.68435942476253 L 306.6529545454546 183.46864245383586 L 329.01277272727276 197.06202988298674 L 351.37259090909095 210.6691586835659 L 373.73240909090913 220.8556970690929 L 396.0922272727273 229.6692012980402 L 418.45204545454544 238.27341386983562 L 440.8118636363637 246.56373491366685 L 463.1716818181818 254.97415891402534 L 485.53150000000005 263.33914923017073 L 507.8913181818182 271.9997689101733 L 530.2511363636364 280.6039814819683 L 552.6109545454545 286.89330148223644 L 574.9707727272728 292.8866534824915 L 597.3305909090909 298.30093765663514 L 619.690409090909 304.2831908568901 L 642.0502272727273 310.2325000000001\" fill=\"none\" paint-order=\"fill stroke markers\" stroke=\"#5975a4\" stroke-linecap=\"round\" stroke-miterlimit=\"10\" stroke-width=\"6\"/></g><g><path fill=\"none\" stroke=\"none\"/><path d=\" M 466.1716818181818 254.97415891402534 A 3 3 0 1 1 466.1716803181819 254.97115891452535\" fill=\"white\" paint-order=\"fill stroke markers\" stroke=\"#5975a4\" stroke-miterlimit=\"10\" stroke-width=\"1.5\"/><path d=\" M 443.8118636363637 246.56373491366685 A 3 3 0 1 1 443.8118621363638 246.56073491416686\" fill=\"white\" paint-order=\"fill stroke markers\" stroke=\"#5975a4\" stroke-miterlimit=\"10\" stroke-width=\"1.5\"/><path d=\" M 421.45204545454544 238.27341386983562 A 3 3 0 1 1 421.45204395454556 238.27041387033563\" fill=\"white\" paint-order=\"fill stroke markers\" stroke=\"#5975a4\" stroke-miterlimit=\"10\" stroke-width=\"1.5\"/><path d=\" M 399.0922272727273 229.6692012980402 A 3 3 0 1 1 399.09222577272743 229.66620129854022\" fill=\"white\" paint-order=\"fill stroke markers\" stroke=\"#5975a4\" stroke-miterlimit=\"10\" stroke-width=\"1.5\"/><path d=\" M 376.73240909090913 220.8556970690929 A 3 3 0 1 1 376.73240759090925 220.85269706959292\" fill=\"white\" paint-order=\"fill stroke markers\" stroke=\"#5975a4\" stroke-miterlimit=\"10\" stroke-width=\"1.5\"/><path d=\" M 354.37259090909095 210.6691586835659 A 3 3 0 1 1 354.37258940909106 210.66615868406592\" fill=\"white\" paint-order=\"fill stroke markers\" stroke=\"#5975a4\" stroke-miterlimit=\"10\" stroke-width=\"1.5\"/><path d=\" M 332.01277272727276 197.06202988298674 A 3 3 0 1 1 332.0127712272729 197.05902988348674\" fill=\"white\" paint-order=\"fill stroke markers\" stroke=\"#5975a4\" stroke-miterlimit=\"10\" stroke-width=\"1.5\"/><path d=\" M 309.6529545454546 183.46864245383586 A 3 3 0 1 1 309.6529530454547 183.46564245433586\" fill=\"white\" paint-order=\"fill stroke markers\" stroke=\"#5975a4\" stroke-miterlimit=\"10\" stroke-width=\"1.5\"/><path d=\" M 287.2931363636364 171.68435942476253 A 3 3 0 1 1 287.2931348636365 171.68135942526254\" fill=\"white\" paint-order=\"fill stroke markers\" stroke=\"#5975a4\" stroke-miterlimit=\"10\" stroke-width=\"1.5\"/><path d=\" M 264.9333181818182 159.78911137456635 A 3 3 0 1 1 264.9333166818183 159.78611137506635\" fill=\"white\" paint-order=\"fill stroke markers\" stroke=\"#5975a4\" stroke-miterlimit=\"10\" stroke-width=\"1.5\"/><path d=\" M 242.57350000000002 146.71756226122807 A 3 3 0 1 1 242.57349850000014 146.71456226172808\" fill=\"white\" paint-order=\"fill stroke markers\" stroke=\"#5975a4\" stroke-miterlimit=\"10\" stroke-width=\"1.5\"/><path d=\" M 220.21368181818184 133.15236226064962 A 3 3 0 1 1 220.21368031818196 133.14936226114963\" fill=\"white\" paint-order=\"fill stroke markers\" stroke=\"#5975a4\" stroke-miterlimit=\"10\" stroke-width=\"1.5\"/><path d=\" M 197.85386363636366 120.29154158929396 A 3 3 0 1 1 197.85386213636377 120.28854158979395\" fill=\"white\" paint-order=\"fill stroke markers\" stroke=\"#5975a4\" stroke-miterlimit=\"10\" stroke-width=\"1.5\"/><path d=\" M 175.49404545454547 103.37379930285897 A 3 3 0 1 1 175.4940439545456 103.37079930335896\" fill=\"white\" paint-order=\"fill stroke markers\" stroke=\"#5975a4\" stroke-miterlimit=\"10\" stroke-width=\"1.5\"/><path d=\" M 153.1342272727273 86.42698873070822 A 3 3 0 1 1 153.1342257727274 86.42398873120821\" fill=\"white\" paint-order=\"fill stroke markers\" stroke=\"#5975a4\" stroke-miterlimit=\"10\" stroke-width=\"1.5\"/><path d=\" M 130.77440909090916 65.10004647416054 A 3 3 0 1 1 130.77440759090928 65.09704647466053\" fill=\"white\" paint-order=\"fill stroke markers\" stroke=\"#5975a4\" stroke-miterlimit=\"10\" stroke-width=\"1.5\"/><path d=\" M 108.41459090909096 43.24650927322955 A 3 3 0 1 1 108.41458940909109 43.24350927372955\" fill=\"white\" paint-order=\"fill stroke markers\" stroke=\"#5975a4\" stroke-miterlimit=\"10\" stroke-width=\"1.5\"/><path d=\" M 86.05477272727278 18.82914927219008 A 3 3 0 1 1 86.05477122727291 18.826149272690078\" fill=\"white\" paint-order=\"fill stroke markers\" stroke=\"#5975a4\" stroke-miterlimit=\"10\" stroke-width=\"1.5\"/><path d=\" M 488.53150000000005 263.33914923017073 A 3 3 0 1 1 488.53149850000017 263.33614923067074\" fill=\"white\" paint-order=\"fill stroke markers\" stroke=\"#5975a4\" stroke-miterlimit=\"10\" stroke-width=\"1.5\"/><path d=\" M 510.8913181818182 271.9997689101733 A 3 3 0 1 1 510.8913166818183 271.9967689106733\" fill=\"white\" paint-order=\"fill stroke markers\" stroke=\"#5975a4\" stroke-miterlimit=\"10\" stroke-width=\"1.5\"/><path d=\" M 533.2511363636364 280.6039814819683 A 3 3 0 1 1 533.2511348636366 280.6009814824683\" fill=\"white\" paint-order=\"fill stroke markers\" stroke=\"#5975a4\" stroke-miterlimit=\"10\" stroke-width=\"1.5\"/><path d=\" M 555.6109545454545 286.89330148223644 A 3 3 0 1 1 555.6109530454547 286.89030148273645\" fill=\"white\" paint-order=\"fill stroke markers\" stroke=\"#5975a4\" stroke-miterlimit=\"10\" stroke-width=\"1.5\"/><path d=\" M 577.9707727272728 292.8866534824915 A 3 3 0 1 1 577.970771227273 292.8836534829915\" fill=\"white\" paint-order=\"fill stroke markers\" stroke=\"#5975a4\" stroke-miterlimit=\"10\" stroke-width=\"1.5\"/><path d=\" M 600.3305909090909 298.30093765663514 A 3 3 0 1 1 600.3305894090911 298.29793765713515\" fill=\"white\" paint-order=\"fill stroke markers\" stroke=\"#5975a4\" stroke-miterlimit=\"10\" stroke-width=\"1.5\"/><path d=\" M 622.690409090909 304.2831908568901 A 3 3 0 1 1 622.6904075909092 304.2801908573901\" fill=\"white\" paint-order=\"fill stroke markers\" stroke=\"#5975a4\" stroke-miterlimit=\"10\" stroke-width=\"1.5\"/><path d=\" M 645.0502272727273 310.2325000000001 A 3 3 0 1 1 645.0502257727275 310.2295000005001\" fill=\"white\" paint-order=\"fill stroke markers\" stroke=\"#5975a4\" stroke-miterlimit=\"10\" stroke-width=\"1.5\"/></g><g><path fill=\"none\" stroke=\"none\"/><path d=\" M 83.05477272727278 18.582499999999982 L 105.41459090909096 59.27810000173349 L 127.77440909090915 71.85304040226856 L 150.1342272727273 103.73636010287464 L 172.49404545454547 115.82295330338911 L 194.85386363636366 132.63604976124816 L 217.21368181818184 134.89073766196498 L 239.57350000000002 134.7180896619575 L 261.9333181818182 166.17303462570362 L 284.2931363636364 165.90510086171662 L 306.6529545454546 179.46836297658 L 329.01277272727276 181.5559944052402 L 351.37259090909095 210.77913480648476 L 373.73240909090913 204.20717455775775 L 396.0922272727273 215.19498655822554 L 418.45204545454544 211.1254265580519 L 440.8118636363637 223.1459095150858 L 463.1716818181818 244.07331351597668 L 485.53150000000005 231.88799941019488 L 507.8913181818182 229.1389510988647 L 530.2511363636364 214.0551533839366 L 552.6109545454545 195.22418938313422 L 574.9707727272728 208.43176138369745 L 597.3305909090909 217.66789321017768 L 619.690409090909 225.60353521051593 L 642.0502272727273 244.71108835418636\" fill=\"none\" paint-order=\"fill stroke markers\" stroke=\"#a1bae3\" stroke-linecap=\"round\" stroke-miterlimit=\"10\" stroke-width=\"6\"/></g><g><path fill=\"none\" stroke=\"none\"/><path d=\" M 466.1716818181818 244.07331351597668 A 3 3 0 1 1 466.1716803181819 244.0703135164767\" fill=\"white\" paint-order=\"fill stroke markers\" stroke=\"#a1bae3\" stroke-miterlimit=\"10\" stroke-width=\"1.5\"/><path d=\" M 443.8118636363637 223.1459095150858 A 3 3 0 1 1 443.8118621363638 223.1429095155858\" fill=\"white\" paint-order=\"fill stroke markers\" stroke=\"#a1bae3\" stroke-miterlimit=\"10\" stroke-width=\"1.5\"/><path d=\" M 421.45204545454544 211.1254265580519 A 3 3 0 1 1 421.45204395454556 211.12242655855192\" fill=\"white\" paint-order=\"fill stroke markers\" stroke=\"#a1bae3\" stroke-miterlimit=\"10\" stroke-width=\"1.5\"/><path d=\" M 399.0922272727273 215.19498655822554 A 3 3 0 1 1 399.09222577272743 215.19198655872555\" fill=\"white\" paint-order=\"fill stroke markers\" stroke=\"#a1bae3\" stroke-miterlimit=\"10\" stroke-width=\"1.5\"/><path d=\" M 376.73240909090913 204.20717455775775 A 3 3 0 1 1 376.73240759090925 204.20417455825776\" fill=\"white\" paint-order=\"fill stroke markers\" stroke=\"#a1bae3\" stroke-miterlimit=\"10\" stroke-width=\"1.5\"/><path d=\" M 354.37259090909095 210.77913480648476 A 3 3 0 1 1 354.37258940909106 210.77613480698477\" fill=\"white\" paint-order=\"fill stroke markers\" stroke=\"#a1bae3\" stroke-miterlimit=\"10\" stroke-width=\"1.5\"/><path d=\" M 332.01277272727276 181.5559944052402 A 3 3 0 1 1 332.0127712272729 181.5529944057402\" fill=\"white\" paint-order=\"fill stroke markers\" stroke=\"#a1bae3\" stroke-miterlimit=\"10\" stroke-width=\"1.5\"/><path d=\" M 309.6529545454546 179.46836297658 A 3 3 0 1 1 309.6529530454547 179.46536297708002\" fill=\"white\" paint-order=\"fill stroke markers\" stroke=\"#a1bae3\" stroke-miterlimit=\"10\" stroke-width=\"1.5\"/><path d=\" M 264.9333181818182 166.17303462570362 A 3 3 0 1 1 264.9333166818183 166.17003462620363\" fill=\"white\" paint-order=\"fill stroke markers\" stroke=\"#a1bae3\" stroke-miterlimit=\"10\" stroke-width=\"1.5\"/><path d=\" M 287.2931363636364 165.90510086171662 A 3 3 0 1 1 287.2931348636365 165.90210086221663\" fill=\"white\" paint-order=\"fill stroke markers\" stroke=\"#a1bae3\" stroke-miterlimit=\"10\" stroke-width=\"1.5\"/><path d=\" M 242.57350000000002 134.7180896619575 A 3 3 0 1 1 242.57349850000014 134.7150896624575\" fill=\"white\" paint-order=\"fill stroke markers\" stroke=\"#a1bae3\" stroke-miterlimit=\"10\" stroke-width=\"1.5\"/><path d=\" M 220.21368181818184 134.89073766196498 A 3 3 0 1 1 220.21368031818196 134.88773766246499\" fill=\"white\" paint-order=\"fill stroke markers\" stroke=\"#a1bae3\" stroke-miterlimit=\"10\" stroke-width=\"1.5\"/><path d=\" M 197.85386363636366 132.63604976124816 A 3 3 0 1 1 197.85386213636377 132.63304976174817\" fill=\"white\" paint-order=\"fill stroke markers\" stroke=\"#a1bae3\" stroke-miterlimit=\"10\" stroke-width=\"1.5\"/><path d=\" M 175.49404545454547 115.82295330338911 A 3 3 0 1 1 175.4940439545456 115.81995330388911\" fill=\"white\" paint-order=\"fill stroke markers\" stroke=\"#a1bae3\" stroke-miterlimit=\"10\" stroke-width=\"1.5\"/><path d=\" M 153.1342272727273 103.73636010287464 A 3 3 0 1 1 153.1342257727274 103.73336010337464\" fill=\"white\" paint-order=\"fill stroke markers\" stroke=\"#a1bae3\" stroke-miterlimit=\"10\" stroke-width=\"1.5\"/><path d=\" M 130.77440909090916 71.85304040226856 A 3 3 0 1 1 130.77440759090928 71.85004040276856\" fill=\"white\" paint-order=\"fill stroke markers\" stroke=\"#a1bae3\" stroke-miterlimit=\"10\" stroke-width=\"1.5\"/><path d=\" M 108.41459090909096 59.27810000173349 A 3 3 0 1 1 108.41458940909109 59.27510000223349\" fill=\"white\" paint-order=\"fill stroke markers\" stroke=\"#a1bae3\" stroke-miterlimit=\"10\" stroke-width=\"1.5\"/><path d=\" M 86.05477272727278 18.582499999999982 A 3 3 0 1 1 86.05477122727291 18.57950000049998\" fill=\"white\" paint-order=\"fill stroke markers\" stroke=\"#a1bae3\" stroke-miterlimit=\"10\" stroke-width=\"1.5\"/><path d=\" M 488.53150000000005 231.88799941019488 A 3 3 0 1 1 488.53149850000017 231.8849994106949\" fill=\"white\" paint-order=\"fill stroke markers\" stroke=\"#a1bae3\" stroke-miterlimit=\"10\" stroke-width=\"1.5\"/><path d=\" M 510.8913181818182 229.1389510988647 A 3 3 0 1 1 510.8913166818183 229.13595109936472\" fill=\"white\" paint-order=\"fill stroke markers\" stroke=\"#a1bae3\" stroke-miterlimit=\"10\" stroke-width=\"1.5\"/><path d=\" M 533.2511363636364 214.0551533839366 A 3 3 0 1 1 533.2511348636366 214.05215338443662\" fill=\"white\" paint-order=\"fill stroke markers\" stroke=\"#a1bae3\" stroke-miterlimit=\"10\" stroke-width=\"1.5\"/><path d=\" M 555.6109545454545 195.22418938313422 A 3 3 0 1 1 555.6109530454547 195.22118938363423\" fill=\"white\" paint-order=\"fill stroke markers\" stroke=\"#a1bae3\" stroke-miterlimit=\"10\" stroke-width=\"1.5\"/><path d=\" M 577.9707727272728 208.43176138369745 A 3 3 0 1 1 577.970771227273 208.42876138419746\" fill=\"white\" paint-order=\"fill stroke markers\" stroke=\"#a1bae3\" stroke-miterlimit=\"10\" stroke-width=\"1.5\"/><path d=\" M 600.3305909090909 217.66789321017768 A 3 3 0 1 1 600.3305894090911 217.6648932106777\" fill=\"white\" paint-order=\"fill stroke markers\" stroke=\"#a1bae3\" stroke-miterlimit=\"10\" stroke-width=\"1.5\"/><path d=\" M 622.690409090909 225.60353521051593 A 3 3 0 1 1 622.6904075909092 225.60053521101594\" fill=\"white\" paint-order=\"fill stroke markers\" stroke=\"#a1bae3\" stroke-miterlimit=\"10\" stroke-width=\"1.5\"/><path d=\" M 645.0502272727273 244.71108835418636 A 3 3 0 1 1 645.0502257727275 244.70808835468637\" fill=\"white\" paint-order=\"fill stroke markers\" stroke=\"#a1bae3\" stroke-miterlimit=\"10\" stroke-width=\"1.5\"/></g></g><g><g/><g><path d=\" M 539.25 14 L 660 14 L 660 77 L 539.25 77 L 539.25 14 Z\" fill=\"#ffffff\" fill-opacity=\"0.95\" paint-order=\"fill stroke markers\" stroke=\"#e5e5e5\" stroke-miterlimit=\"10\" stroke-opacity=\"0.5\"/><text dominant-baseline=\"central\" fill=\"#444444\" font-family=\"helvetica\" font-size=\"10pt\" font-style=\"normal\" font-weight=\"normal\" stroke=\"none\" text-anchor=\"start\" text-decoration=\"normal\" x=\"574.25\" y=\"34\"> Train AUC</text><g><path d=\" M 549.25 34 L 569.25 34\" fill=\"none\" paint-order=\"fill stroke markers\" stroke=\"#5975a4\" stroke-linecap=\"round\" stroke-miterlimit=\"10\" stroke-width=\"6\"/></g><text dominant-baseline=\"central\" fill=\"#444444\" font-family=\"helvetica\" font-size=\"10pt\" font-style=\"normal\" font-weight=\"normal\" stroke=\"none\" text-anchor=\"start\" text-decoration=\"normal\" x=\"574.25\" y=\"57\"> Retrain AUC</text><g><path d=\" M 549.25 57 L 569.25 57\" fill=\"none\" paint-order=\"fill stroke markers\" stroke=\"#a1bae3\" stroke-linecap=\"round\" stroke-miterlimit=\"10\" stroke-width=\"6\"/></g></g></g><g><g><path d=\" M 55 325 L 670 325\" fill=\"none\" paint-order=\"fill stroke markers\" stroke=\"black\" stroke-miterlimit=\"10\"/><path d=\" M 105 331 L 105 323\" fill=\"none\" paint-order=\"fill stroke markers\" stroke=\"black\" stroke-miterlimit=\"10\"/><path d=\" M 217 331 L 217 323\" fill=\"none\" paint-order=\"fill stroke markers\" stroke=\"black\" stroke-miterlimit=\"10\"/><path d=\" M 329 331 L 329 323\" fill=\"none\" paint-order=\"fill stroke markers\" stroke=\"black\" stroke-miterlimit=\"10\"/><path d=\" M 441 331 L 441 323\" fill=\"none\" paint-order=\"fill stroke markers\" stroke=\"black\" stroke-miterlimit=\"10\"/><path d=\" M 553 331 L 553 323\" fill=\"none\" paint-order=\"fill stroke markers\" stroke=\"black\" stroke-miterlimit=\"10\"/><path d=\" M 664 331 L 664 323\" fill=\"none\" paint-order=\"fill stroke markers\" stroke=\"black\" stroke-miterlimit=\"10\"/><path d=\" M 83 329 L 83 325\" fill=\"none\" paint-order=\"fill stroke markers\" stroke=\"black\" stroke-miterlimit=\"10\"/><path d=\" M 61 329 L 61 325\" fill=\"none\" paint-order=\"fill stroke markers\" stroke=\"black\" stroke-miterlimit=\"10\"/><path d=\" M 105 329 L 105 325\" fill=\"none\" paint-order=\"fill stroke markers\" stroke=\"black\" stroke-miterlimit=\"10\"/><path d=\" M 128 329 L 128 325\" fill=\"none\" paint-order=\"fill stroke markers\" stroke=\"black\" stroke-miterlimit=\"10\"/><path d=\" M 150 329 L 150 325\" fill=\"none\" paint-order=\"fill stroke markers\" stroke=\"black\" stroke-miterlimit=\"10\"/><path d=\" M 172 329 L 172 325\" fill=\"none\" paint-order=\"fill stroke markers\" stroke=\"black\" stroke-miterlimit=\"10\"/><path d=\" M 195 329 L 195 325\" fill=\"none\" paint-order=\"fill stroke markers\" stroke=\"black\" stroke-miterlimit=\"10\"/><path d=\" M 217 329 L 217 325\" fill=\"none\" paint-order=\"fill stroke markers\" stroke=\"black\" stroke-miterlimit=\"10\"/><path d=\" M 240 329 L 240 325\" fill=\"none\" paint-order=\"fill stroke markers\" stroke=\"black\" stroke-miterlimit=\"10\"/><path d=\" M 262 329 L 262 325\" fill=\"none\" paint-order=\"fill stroke markers\" stroke=\"black\" stroke-miterlimit=\"10\"/><path d=\" M 284 329 L 284 325\" fill=\"none\" paint-order=\"fill stroke markers\" stroke=\"black\" stroke-miterlimit=\"10\"/><path d=\" M 307 329 L 307 325\" fill=\"none\" paint-order=\"fill stroke markers\" stroke=\"black\" stroke-miterlimit=\"10\"/><path d=\" M 329 329 L 329 325\" fill=\"none\" paint-order=\"fill stroke markers\" stroke=\"black\" stroke-miterlimit=\"10\"/><path d=\" M 351 329 L 351 325\" fill=\"none\" paint-order=\"fill stroke markers\" stroke=\"black\" stroke-miterlimit=\"10\"/><path d=\" M 374 329 L 374 325\" fill=\"none\" paint-order=\"fill stroke markers\" stroke=\"black\" stroke-miterlimit=\"10\"/><path d=\" M 396 329 L 396 325\" fill=\"none\" paint-order=\"fill stroke markers\" stroke=\"black\" stroke-miterlimit=\"10\"/><path d=\" M 418 329 L 418 325\" fill=\"none\" paint-order=\"fill stroke markers\" stroke=\"black\" stroke-miterlimit=\"10\"/><path d=\" M 441 329 L 441 325\" fill=\"none\" paint-order=\"fill stroke markers\" stroke=\"black\" stroke-miterlimit=\"10\"/><path d=\" M 463 329 L 463 325\" fill=\"none\" paint-order=\"fill stroke markers\" stroke=\"black\" stroke-miterlimit=\"10\"/><path d=\" M 486 329 L 486 325\" fill=\"none\" paint-order=\"fill stroke markers\" stroke=\"black\" stroke-miterlimit=\"10\"/><path d=\" M 508 329 L 508 325\" fill=\"none\" paint-order=\"fill stroke markers\" stroke=\"black\" stroke-miterlimit=\"10\"/><path d=\" M 530 329 L 530 325\" fill=\"none\" paint-order=\"fill stroke markers\" stroke=\"black\" stroke-miterlimit=\"10\"/><path d=\" M 553 329 L 553 325\" fill=\"none\" paint-order=\"fill stroke markers\" stroke=\"black\" stroke-miterlimit=\"10\"/><path d=\" M 575 329 L 575 325\" fill=\"none\" paint-order=\"fill stroke markers\" stroke=\"black\" stroke-miterlimit=\"10\"/><path d=\" M 597 329 L 597 325\" fill=\"none\" paint-order=\"fill stroke markers\" stroke=\"black\" stroke-miterlimit=\"10\"/><path d=\" M 620 329 L 620 325\" fill=\"none\" paint-order=\"fill stroke markers\" stroke=\"black\" stroke-miterlimit=\"10\"/><path d=\" M 642 329 L 642 325\" fill=\"none\" paint-order=\"fill stroke markers\" stroke=\"black\" stroke-miterlimit=\"10\"/><path d=\" M 664 329 L 664 325\" fill=\"none\" paint-order=\"fill stroke markers\" stroke=\"black\" stroke-miterlimit=\"10\"/><text dominant-baseline=\"hanging\" fill=\"#444444\" font-family=\"helvetica\" font-size=\"8pt\" font-style=\"normal\" font-weight=\"normal\" stroke=\"none\" text-anchor=\"middle\" text-decoration=\"normal\" x=\"105\" y=\"336\">10</text><text dominant-baseline=\"hanging\" fill=\"#444444\" font-family=\"helvetica\" font-size=\"8pt\" font-style=\"normal\" font-weight=\"normal\" stroke=\"none\" text-anchor=\"middle\" text-decoration=\"normal\" x=\"217\" y=\"336\">15</text><text dominant-baseline=\"hanging\" fill=\"#444444\" font-family=\"helvetica\" font-size=\"8pt\" font-style=\"normal\" font-weight=\"normal\" stroke=\"none\" text-anchor=\"middle\" text-decoration=\"normal\" x=\"329\" y=\"336\">20</text><text dominant-baseline=\"hanging\" fill=\"#444444\" font-family=\"helvetica\" font-size=\"8pt\" font-style=\"normal\" font-weight=\"normal\" stroke=\"none\" text-anchor=\"middle\" text-decoration=\"normal\" x=\"441\" y=\"336\">25</text><text dominant-baseline=\"hanging\" fill=\"#444444\" font-family=\"helvetica\" font-size=\"8pt\" font-style=\"normal\" font-weight=\"normal\" stroke=\"none\" text-anchor=\"middle\" text-decoration=\"normal\" x=\"553\" y=\"336\">30</text><text dominant-baseline=\"hanging\" fill=\"#444444\" font-family=\"helvetica\" font-size=\"8pt\" font-style=\"normal\" font-weight=\"normal\" stroke=\"none\" text-anchor=\"middle\" text-decoration=\"normal\" x=\"664\" y=\"336\">35</text><text dominant-baseline=\"hanging\" fill=\"#444444\" font-family=\"helvetica\" font-size=\"10pt\" font-style=\"italic\" font-weight=\"normal\" stroke=\"none\" text-anchor=\"middle\" text-decoration=\"normal\" x=\"362.5525\" y=\"354.00000000000006\"/></g><g><path d=\" M 55 325 L 55 4\" fill=\"none\" paint-order=\"fill stroke markers\" stroke=\"black\" stroke-miterlimit=\"10\"/><path d=\" M 49 303 L 57 303\" fill=\"none\" paint-order=\"fill stroke markers\" stroke=\"black\" stroke-miterlimit=\"10\"/><path d=\" M 49 229 L 57 229\" fill=\"none\" paint-order=\"fill stroke markers\" stroke=\"black\" stroke-miterlimit=\"10\"/><path d=\" M 49 156 L 57 156\" fill=\"none\" paint-order=\"fill stroke markers\" stroke=\"black\" stroke-miterlimit=\"10\"/><path d=\" M 49 83 L 57 83\" fill=\"none\" paint-order=\"fill stroke markers\" stroke=\"black\" stroke-miterlimit=\"10\"/><path d=\" M 49 10 L 57 10\" fill=\"none\" paint-order=\"fill stroke markers\" stroke=\"black\" stroke-miterlimit=\"10\"/><path d=\" M 51 317 L 55 317\" fill=\"none\" paint-order=\"fill stroke markers\" stroke=\"black\" stroke-miterlimit=\"10\"/><path d=\" M 51 303 L 55 303\" fill=\"none\" paint-order=\"fill stroke markers\" stroke=\"black\" stroke-miterlimit=\"10\"/><path d=\" M 51 288 L 55 288\" fill=\"none\" paint-order=\"fill stroke markers\" stroke=\"black\" stroke-miterlimit=\"10\"/><path d=\" M 51 273 L 55 273\" fill=\"none\" paint-order=\"fill stroke markers\" stroke=\"black\" stroke-miterlimit=\"10\"/><path d=\" M 51 259 L 55 259\" fill=\"none\" paint-order=\"fill stroke markers\" stroke=\"black\" stroke-miterlimit=\"10\"/><path d=\" M 51 244 L 55 244\" fill=\"none\" paint-order=\"fill stroke markers\" stroke=\"black\" stroke-miterlimit=\"10\"/><path d=\" M 51 229 L 55 229\" fill=\"none\" paint-order=\"fill stroke markers\" stroke=\"black\" stroke-miterlimit=\"10\"/><path d=\" M 51 215 L 55 215\" fill=\"none\" paint-order=\"fill stroke markers\" stroke=\"black\" stroke-miterlimit=\"10\"/><path d=\" M 51 200 L 55 200\" fill=\"none\" paint-order=\"fill stroke markers\" stroke=\"black\" stroke-miterlimit=\"10\"/><path d=\" M 51 186 L 55 186\" fill=\"none\" paint-order=\"fill stroke markers\" stroke=\"black\" stroke-miterlimit=\"10\"/><path d=\" M 51 171 L 55 171\" fill=\"none\" paint-order=\"fill stroke markers\" stroke=\"black\" stroke-miterlimit=\"10\"/><path d=\" M 51 156 L 55 156\" fill=\"none\" paint-order=\"fill stroke markers\" stroke=\"black\" stroke-miterlimit=\"10\"/><path d=\" M 51 142 L 55 142\" fill=\"none\" paint-order=\"fill stroke markers\" stroke=\"black\" stroke-miterlimit=\"10\"/><path d=\" M 51 127 L 55 127\" fill=\"none\" paint-order=\"fill stroke markers\" stroke=\"black\" stroke-miterlimit=\"10\"/><path d=\" M 51 112 L 55 112\" fill=\"none\" paint-order=\"fill stroke markers\" stroke=\"black\" stroke-miterlimit=\"10\"/><path d=\" M 51 98 L 55 98\" fill=\"none\" paint-order=\"fill stroke markers\" stroke=\"black\" stroke-miterlimit=\"10\"/><path d=\" M 51 83 L 55 83\" fill=\"none\" paint-order=\"fill stroke markers\" stroke=\"black\" stroke-miterlimit=\"10\"/><path d=\" M 51 68 L 55 68\" fill=\"none\" paint-order=\"fill stroke markers\" stroke=\"black\" stroke-miterlimit=\"10\"/><path d=\" M 51 54 L 55 54\" fill=\"none\" paint-order=\"fill stroke markers\" stroke=\"black\" stroke-miterlimit=\"10\"/><path d=\" M 51 39 L 55 39\" fill=\"none\" paint-order=\"fill stroke markers\" stroke=\"black\" stroke-miterlimit=\"10\"/><path d=\" M 51 24 L 55 24\" fill=\"none\" paint-order=\"fill stroke markers\" stroke=\"black\" stroke-miterlimit=\"10\"/><path d=\" M 51 10 L 55 10\" fill=\"none\" paint-order=\"fill stroke markers\" stroke=\"black\" stroke-miterlimit=\"10\"/><text dominant-baseline=\"central\" fill=\"#444444\" font-family=\"helvetica\" font-size=\"8pt\" font-style=\"normal\" font-weight=\"normal\" stroke=\"none\" text-anchor=\"end\" text-decoration=\"normal\" x=\"44\" y=\"303\">0.74</text><text dominant-baseline=\"central\" fill=\"#444444\" font-family=\"helvetica\" font-size=\"8pt\" font-style=\"normal\" font-weight=\"normal\" stroke=\"none\" text-anchor=\"end\" text-decoration=\"normal\" x=\"44\" y=\"229\">0.76</text><text dominant-baseline=\"central\" fill=\"#444444\" font-family=\"helvetica\" font-size=\"8pt\" font-style=\"normal\" font-weight=\"normal\" stroke=\"none\" text-anchor=\"end\" text-decoration=\"normal\" x=\"44\" y=\"156\">0.78</text><text dominant-baseline=\"central\" fill=\"#444444\" font-family=\"helvetica\" font-size=\"8pt\" font-style=\"normal\" font-weight=\"normal\" stroke=\"none\" text-anchor=\"end\" text-decoration=\"normal\" x=\"44\" y=\"83\">0.8</text><text dominant-baseline=\"central\" fill=\"#444444\" font-family=\"helvetica\" font-size=\"8pt\" font-style=\"normal\" font-weight=\"normal\" stroke=\"none\" text-anchor=\"end\" text-decoration=\"normal\" x=\"44\" y=\"10\">0.82</text><g transform=\"translate(15.592500000000001,164.40750000000003) rotate(-90,0,0)\"><text dominant-baseline=\"alphabetic\" fill=\"#444444\" font-family=\"helvetica\" font-size=\"10pt\" font-style=\"italic\" font-weight=\"normal\" stroke=\"none\" text-anchor=\"middle\" text-decoration=\"normal\" x=\"0\" y=\"0\">AUC</text><g transform=\"rotate(90,0,0) translate(-15.592500000000001,-164.40750000000003)\"/></g></g></g></g></g></svg>"
      ],
      "text/plain": [
       "<IPython.core.display.SVG object>"
      ]
     },
     "metadata": {},
     "output_type": "display_data"
    }
   ],
   "source": [
    "display(SVG('plot.svg'))"
   ]
  },
  {
   "cell_type": "code",
   "execution_count": 48,
   "metadata": {},
   "outputs": [
    {
     "ename": "OSError",
     "evalue": "cannot identify image file 'plot.svg'",
     "output_type": "error",
     "traceback": [
      "\u001b[0;31m---------------------------------------------------------------------------\u001b[0m",
      "\u001b[0;31mOSError\u001b[0m                                   Traceback (most recent call last)",
      "\u001b[0;32m<ipython-input-48-f37acbd5de09>\u001b[0m in \u001b[0;36m<module>\u001b[0;34m()\u001b[0m\n\u001b[0;32m----> 1\u001b[0;31m \u001b[0mImage\u001b[0m\u001b[0;34m.\u001b[0m\u001b[0mopen\u001b[0m\u001b[0;34m(\u001b[0m\u001b[0;34m'plot.svg'\u001b[0m\u001b[0;34m)\u001b[0m\u001b[0;34m\u001b[0m\u001b[0m\n\u001b[0m",
      "\u001b[0;32m/home/hoaphumanoid/anaconda3/envs/strata2/lib/python3.6/site-packages/PIL/Image.py\u001b[0m in \u001b[0;36mopen\u001b[0;34m(fp, mode)\u001b[0m\n\u001b[1;32m   2450\u001b[0m         \u001b[0mfp\u001b[0m\u001b[0;34m.\u001b[0m\u001b[0mclose\u001b[0m\u001b[0;34m(\u001b[0m\u001b[0;34m)\u001b[0m\u001b[0;34m\u001b[0m\u001b[0m\n\u001b[1;32m   2451\u001b[0m     raise IOError(\"cannot identify image file %r\"\n\u001b[0;32m-> 2452\u001b[0;31m                   % (filename if filename else fp))\n\u001b[0m\u001b[1;32m   2453\u001b[0m \u001b[0;34m\u001b[0m\u001b[0m\n\u001b[1;32m   2454\u001b[0m \u001b[0;31m#\u001b[0m\u001b[0;34m\u001b[0m\u001b[0;34m\u001b[0m\u001b[0m\n",
      "\u001b[0;31mOSError\u001b[0m: cannot identify image file 'plot.svg'"
     ]
    }
   ],
   "source": [
    "Image.open('plot.svg')"
   ]
  },
  {
   "cell_type": "markdown",
   "metadata": {},
   "source": [
    "Overall we can see that retraining does seem to help a bit. Ofcourse the retraining done here is naive with no consideration that later samples may also contain more noise. "
   ]
  },
  {
   "cell_type": "code",
   "execution_count": 202,
   "metadata": {
    "collapsed": true
   },
   "outputs": [],
   "source": [
    "data_cds = (retrain_results_dict['lgbm'][['Train AUC', 'Retrain AUC']].rolling(window=10)\n",
    "                                                                      .mean()\n",
    "                                                                      .dropna()\n",
    "                                                                      .pipe(ColumnDataSource))"
   ]
  },
  {
   "cell_type": "code",
   "execution_count": 203,
   "metadata": {},
   "outputs": [
    {
     "data": {
      "text/html": [
       "\n",
       "\n",
       "    <div class=\"bk-root\">\n",
       "        <div class=\"bk-plotdiv\" id=\"676661bb-e45a-4fc4-9961-faaea5658fec\"></div>\n",
       "    </div>\n",
       "<script type=\"text/javascript\">\n",
       "  \n",
       "  (function(global) {\n",
       "    function now() {\n",
       "      return new Date();\n",
       "    }\n",
       "  \n",
       "    var force = false;\n",
       "  \n",
       "    if (typeof (window._bokeh_onload_callbacks) === \"undefined\" || force === true) {\n",
       "      window._bokeh_onload_callbacks = [];\n",
       "      window._bokeh_is_loading = undefined;\n",
       "    }\n",
       "  \n",
       "  \n",
       "    \n",
       "    if (typeof (window._bokeh_timeout) === \"undefined\" || force === true) {\n",
       "      window._bokeh_timeout = Date.now() + 0;\n",
       "      window._bokeh_failed_load = false;\n",
       "    }\n",
       "  \n",
       "    var NB_LOAD_WARNING = {'data': {'text/html':\n",
       "       \"<div style='background-color: #fdd'>\\n\"+\n",
       "       \"<p>\\n\"+\n",
       "       \"BokehJS does not appear to have successfully loaded. If loading BokehJS from CDN, this \\n\"+\n",
       "       \"may be due to a slow or bad network connection. Possible fixes:\\n\"+\n",
       "       \"</p>\\n\"+\n",
       "       \"<ul>\\n\"+\n",
       "       \"<li>re-rerun `output_notebook()` to attempt to load from CDN again, or</li>\\n\"+\n",
       "       \"<li>use INLINE resources instead, as so:</li>\\n\"+\n",
       "       \"</ul>\\n\"+\n",
       "       \"<code>\\n\"+\n",
       "       \"from bokeh.resources import INLINE\\n\"+\n",
       "       \"output_notebook(resources=INLINE)\\n\"+\n",
       "       \"</code>\\n\"+\n",
       "       \"</div>\"}};\n",
       "  \n",
       "    function display_loaded() {\n",
       "      if (window.Bokeh !== undefined) {\n",
       "        var el = document.getElementById(\"676661bb-e45a-4fc4-9961-faaea5658fec\");\n",
       "        el.textContent = \"BokehJS \" + Bokeh.version + \" successfully loaded.\";\n",
       "      } else if (Date.now() < window._bokeh_timeout) {\n",
       "        setTimeout(display_loaded, 100)\n",
       "      }\n",
       "    }\n",
       "  \n",
       "    function run_callbacks() {\n",
       "      window._bokeh_onload_callbacks.forEach(function(callback) { callback() });\n",
       "      delete window._bokeh_onload_callbacks\n",
       "      console.info(\"Bokeh: all callbacks have finished\");\n",
       "    }\n",
       "  \n",
       "    function load_libs(js_urls, callback) {\n",
       "      window._bokeh_onload_callbacks.push(callback);\n",
       "      if (window._bokeh_is_loading > 0) {\n",
       "        console.log(\"Bokeh: BokehJS is being loaded, scheduling callback at\", now());\n",
       "        return null;\n",
       "      }\n",
       "      if (js_urls == null || js_urls.length === 0) {\n",
       "        run_callbacks();\n",
       "        return null;\n",
       "      }\n",
       "      console.log(\"Bokeh: BokehJS not loaded, scheduling load and callback at\", now());\n",
       "      window._bokeh_is_loading = js_urls.length;\n",
       "      for (var i = 0; i < js_urls.length; i++) {\n",
       "        var url = js_urls[i];\n",
       "        var s = document.createElement('script');\n",
       "        s.src = url;\n",
       "        s.async = false;\n",
       "        s.onreadystatechange = s.onload = function() {\n",
       "          window._bokeh_is_loading--;\n",
       "          if (window._bokeh_is_loading === 0) {\n",
       "            console.log(\"Bokeh: all BokehJS libraries loaded\");\n",
       "            run_callbacks()\n",
       "          }\n",
       "        };\n",
       "        s.onerror = function() {\n",
       "          console.warn(\"failed to load library \" + url);\n",
       "        };\n",
       "        console.log(\"Bokeh: injecting script tag for BokehJS library: \", url);\n",
       "        document.getElementsByTagName(\"head\")[0].appendChild(s);\n",
       "      }\n",
       "    };var element = document.getElementById(\"676661bb-e45a-4fc4-9961-faaea5658fec\");\n",
       "    if (element == null) {\n",
       "      console.log(\"Bokeh: ERROR: autoload.js configured with elementid '676661bb-e45a-4fc4-9961-faaea5658fec' but no matching script tag was found. \")\n",
       "      return false;\n",
       "    }\n",
       "  \n",
       "    var js_urls = [];\n",
       "  \n",
       "    var inline_js = [\n",
       "      function(Bokeh) {\n",
       "        (function() {\n",
       "          var fn = function() {\n",
       "            var docs_json = {\"3aba9b1f-bf57-416f-ade5-7b3b86439ee3\":{\"roots\":{\"references\":[{\"attributes\":{},\"id\":\"dd9c6219-67eb-4ef3-abfb-a238f5a2a0a6\",\"type\":\"BasicTicker\"},{\"attributes\":{\"below\":[{\"id\":\"4cf00046-74c5-4a8d-a09a-cd18bcd5b59b\",\"type\":\"LinearAxis\"}],\"left\":[{\"id\":\"496ab5db-aba8-4ce0-80b7-10cd00516fb1\",\"type\":\"LinearAxis\"}],\"plot_height\":350,\"plot_width\":700,\"renderers\":[{\"id\":\"4cf00046-74c5-4a8d-a09a-cd18bcd5b59b\",\"type\":\"LinearAxis\"},{\"id\":\"b9f8a542-5982-4bf2-9e23-82d9d8066f53\",\"type\":\"Grid\"},{\"id\":\"496ab5db-aba8-4ce0-80b7-10cd00516fb1\",\"type\":\"LinearAxis\"},{\"id\":\"7befc764-aa88-40c2-940f-c8df9329d7ae\",\"type\":\"Grid\"},{\"id\":\"aca1fc74-1f28-480d-84fa-e4bf81cf39bf\",\"type\":\"BoxAnnotation\"},{\"id\":\"9d9facbd-4caf-492e-9178-4aeb44539b56\",\"type\":\"Legend\"},{\"id\":\"fe722281-b32f-4a68-91f6-fcd947f60418\",\"type\":\"GlyphRenderer\"},{\"id\":\"d119734b-f7c2-4675-97a1-dc1388589d2c\",\"type\":\"GlyphRenderer\"},{\"id\":\"d59ae60a-c87d-4fd4-93c4-7dda0dac507f\",\"type\":\"GlyphRenderer\"},{\"id\":\"8cb2bc51-7a01-4973-872a-163bdae346a4\",\"type\":\"GlyphRenderer\"}],\"title\":{\"id\":\"7c903edf-4053-4917-8d70-9b790033e322\",\"type\":\"Title\"},\"tool_events\":{\"id\":\"93f431bf-372b-4019-a770-81cf5a95c910\",\"type\":\"ToolEvents\"},\"toolbar\":{\"id\":\"b4f94b70-b7ba-49a7-b5a5-afb2baaf26b4\",\"type\":\"Toolbar\"},\"x_range\":{\"id\":\"84ce506e-2f58-43e8-91db-a05428674b88\",\"type\":\"DataRange1d\"},\"y_range\":{\"id\":\"db8c9f1f-7955-4395-a100-3bc3ef2b3c2e\",\"type\":\"DataRange1d\"}},\"id\":\"83be4be0-1e51-4c54-8e1b-f83bd3957aeb\",\"subtype\":\"Figure\",\"type\":\"Plot\"},{\"attributes\":{\"plot\":{\"id\":\"83be4be0-1e51-4c54-8e1b-f83bd3957aeb\",\"subtype\":\"Figure\",\"type\":\"Plot\"},\"ticker\":{\"id\":\"dd9c6219-67eb-4ef3-abfb-a238f5a2a0a6\",\"type\":\"BasicTicker\"}},\"id\":\"b9f8a542-5982-4bf2-9e23-82d9d8066f53\",\"type\":\"Grid\"},{\"attributes\":{},\"id\":\"16589a8b-abda-4ca8-98ac-798f2daa87bb\",\"type\":\"BasicTicker\"},{\"attributes\":{\"callback\":null,\"column_names\":[\"Train AUC\",\"Retrain AUC\",\"index\"],\"data\":{\"Retrain AUC\":{\"__ndarray__\":\"9jytkBk56j/47VbF/RXqP8uqOtoa3+k/kMi54gR+6T9Vd4vO5FfpP1M4wCCJMuk/vYA5F80h6T99mFW1sCXpP766Sjxauug/OEWmif7P6D+IYRkDd9LoP22Jfi6bo+g/Nk3B2wSC6D/ZcCjzrpfoP1vI/Me+iug/1q6XqQuM6D8+rhGDKoHoP2olKzoGN+g/FJcy+ZpS6D+Jz9lt9ULoP1O/B7aNWug//ePR5YKF6D8WY9I98WvoP0L3UpIijug/HtUwcABs6D9zMTDT0EXoPw==\",\"dtype\":\"float64\",\"shape\":[26]},\"Train AUC\":{\"__ndarray__\":\"I7IwwGIp6j84hl3fDfrpP7bIwPKT6Ok/X75z9hGV6T+3Gt9H7WrpP+JW5TZKIek/WaO6ar0N6T+ivENJ7uroP8LcK1t8r+g/AUyuwsWc6D81jLH2BaDoP4pHs2wrnOg/WEzgcRp06D8DN97LD4roP0YIucTUYug/Yic6mRJp6D8Ja0RFdljoP/JPvBYiSOg/LJA6c4dA6D8jUQQKeSPoP8H1rrywJOg/Arqm3goi6D8/mEaP1fjnP8tcCU5Lyuc/1Q6CEkfP5z+nceJLEJbnPw==\",\"dtype\":\"float64\",\"shape\":[26]},\"index\":[9,10,11,12,13,14,15,16,17,18,19,20,21,22,23,24,25,26,27,28,29,30,31,32,33,34]}},\"id\":\"0e37fcb9-d6de-4b77-8190-e4de1c786fe5\",\"type\":\"ColumnDataSource\"},{\"attributes\":{\"axis_label\":\"AUC\",\"formatter\":{\"id\":\"8a10acd4-e68f-4b82-aa86-2d887cce494f\",\"type\":\"BasicTickFormatter\"},\"plot\":{\"id\":\"83be4be0-1e51-4c54-8e1b-f83bd3957aeb\",\"subtype\":\"Figure\",\"type\":\"Plot\"},\"ticker\":{\"id\":\"16589a8b-abda-4ca8-98ac-798f2daa87bb\",\"type\":\"BasicTicker\"}},\"id\":\"496ab5db-aba8-4ce0-80b7-10cd00516fb1\",\"type\":\"LinearAxis\"},{\"attributes\":{\"formatter\":{\"id\":\"903ef3f1-f3dc-47c5-87f7-22dcbc390b9e\",\"type\":\"BasicTickFormatter\"},\"plot\":{\"id\":\"83be4be0-1e51-4c54-8e1b-f83bd3957aeb\",\"subtype\":\"Figure\",\"type\":\"Plot\"},\"ticker\":{\"id\":\"dd9c6219-67eb-4ef3-abfb-a238f5a2a0a6\",\"type\":\"BasicTicker\"}},\"id\":\"4cf00046-74c5-4a8d-a09a-cd18bcd5b59b\",\"type\":\"LinearAxis\"},{\"attributes\":{\"plot\":{\"id\":\"83be4be0-1e51-4c54-8e1b-f83bd3957aeb\",\"subtype\":\"Figure\",\"type\":\"Plot\"}},\"id\":\"c1452576-1a08-418b-9b95-8f06f7a085e6\",\"type\":\"ResetTool\"},{\"attributes\":{},\"id\":\"93f431bf-372b-4019-a770-81cf5a95c910\",\"type\":\"ToolEvents\"},{\"attributes\":{\"overlay\":{\"id\":\"aca1fc74-1f28-480d-84fa-e4bf81cf39bf\",\"type\":\"BoxAnnotation\"},\"plot\":{\"id\":\"83be4be0-1e51-4c54-8e1b-f83bd3957aeb\",\"subtype\":\"Figure\",\"type\":\"Plot\"}},\"id\":\"e10952f1-d79e-4b63-8515-aa85ade2cdb1\",\"type\":\"BoxZoomTool\"},{\"attributes\":{\"plot\":{\"id\":\"83be4be0-1e51-4c54-8e1b-f83bd3957aeb\",\"subtype\":\"Figure\",\"type\":\"Plot\"}},\"id\":\"5db0dad0-0f42-47c1-80be-5888ac62245a\",\"type\":\"WheelZoomTool\"},{\"attributes\":{\"line_cap\":\"round\",\"line_color\":{\"value\":\"#5f9e6f\"},\"line_width\":{\"value\":6},\"x\":{\"field\":\"index\"},\"y\":{\"field\":\"Train AUC\"}},\"id\":\"523bc3ad-698a-4779-bc8c-20b50b0ac287\",\"type\":\"Line\"},{\"attributes\":{\"callback\":null},\"id\":\"84ce506e-2f58-43e8-91db-a05428674b88\",\"type\":\"DataRange1d\"},{\"attributes\":{\"data_source\":{\"id\":\"0e37fcb9-d6de-4b77-8190-e4de1c786fe5\",\"type\":\"ColumnDataSource\"},\"glyph\":{\"id\":\"703d9d8b-3fb8-46f6-8dbd-abf93605c8fc\",\"type\":\"Line\"},\"hover_glyph\":null,\"muted_glyph\":null,\"nonselection_glyph\":{\"id\":\"0fd7ad15-6fe8-4f22-a5b5-d9d79aa42e7a\",\"type\":\"Line\"},\"selection_glyph\":null},\"id\":\"d59ae60a-c87d-4fd4-93c4-7dda0dac507f\",\"type\":\"GlyphRenderer\"},{\"attributes\":{\"plot\":{\"id\":\"83be4be0-1e51-4c54-8e1b-f83bd3957aeb\",\"subtype\":\"Figure\",\"type\":\"Plot\"}},\"id\":\"b7e5020a-4a05-4964-9c8e-e5c95c44a222\",\"type\":\"PanTool\"},{\"attributes\":{\"plot\":null,\"text\":\"\"},\"id\":\"7c903edf-4053-4917-8d70-9b790033e322\",\"type\":\"Title\"},{\"attributes\":{\"line_alpha\":{\"value\":0.1},\"line_cap\":\"round\",\"line_color\":{\"value\":\"#1f77b4\"},\"line_width\":{\"value\":6},\"x\":{\"field\":\"index\"},\"y\":{\"field\":\"Train AUC\"}},\"id\":\"5e070e92-3e3c-46b2-8eee-cc64bcfe577a\",\"type\":\"Line\"},{\"attributes\":{\"dimension\":1,\"plot\":{\"id\":\"83be4be0-1e51-4c54-8e1b-f83bd3957aeb\",\"subtype\":\"Figure\",\"type\":\"Plot\"},\"ticker\":{\"id\":\"16589a8b-abda-4ca8-98ac-798f2daa87bb\",\"type\":\"BasicTicker\"}},\"id\":\"7befc764-aa88-40c2-940f-c8df9329d7ae\",\"type\":\"Grid\"},{\"attributes\":{\"bottom_units\":\"screen\",\"fill_alpha\":{\"value\":0.5},\"fill_color\":{\"value\":\"lightgrey\"},\"left_units\":\"screen\",\"level\":\"overlay\",\"line_alpha\":{\"value\":1.0},\"line_color\":{\"value\":\"black\"},\"line_dash\":[4,4],\"line_width\":{\"value\":2},\"plot\":null,\"render_mode\":\"css\",\"right_units\":\"screen\",\"top_units\":\"screen\"},\"id\":\"aca1fc74-1f28-480d-84fa-e4bf81cf39bf\",\"type\":\"BoxAnnotation\"},{\"attributes\":{\"line_alpha\":{\"value\":0.1},\"line_cap\":\"round\",\"line_color\":{\"value\":\"#1f77b4\"},\"line_width\":{\"value\":6},\"x\":{\"field\":\"index\"},\"y\":{\"field\":\"Retrain AUC\"}},\"id\":\"0fd7ad15-6fe8-4f22-a5b5-d9d79aa42e7a\",\"type\":\"Line\"},{\"attributes\":{},\"id\":\"8a10acd4-e68f-4b82-aa86-2d887cce494f\",\"type\":\"BasicTickFormatter\"},{\"attributes\":{\"items\":[{\"id\":\"420f0c06-e73a-4d48-90cd-9730d308baff\",\"type\":\"LegendItem\"},{\"id\":\"60fb3547-2bb0-4fc7-b4cf-efbb9f6c736f\",\"type\":\"LegendItem\"}],\"plot\":{\"id\":\"83be4be0-1e51-4c54-8e1b-f83bd3957aeb\",\"subtype\":\"Figure\",\"type\":\"Plot\"}},\"id\":\"9d9facbd-4caf-492e-9178-4aeb44539b56\",\"type\":\"Legend\"},{\"attributes\":{\"data_source\":{\"id\":\"0e37fcb9-d6de-4b77-8190-e4de1c786fe5\",\"type\":\"ColumnDataSource\"},\"glyph\":{\"id\":\"523bc3ad-698a-4779-bc8c-20b50b0ac287\",\"type\":\"Line\"},\"hover_glyph\":null,\"muted_glyph\":null,\"nonselection_glyph\":{\"id\":\"5e070e92-3e3c-46b2-8eee-cc64bcfe577a\",\"type\":\"Line\"},\"selection_glyph\":null},\"id\":\"fe722281-b32f-4a68-91f6-fcd947f60418\",\"type\":\"GlyphRenderer\"},{\"attributes\":{\"fill_alpha\":{\"value\":0.1},\"fill_color\":{\"value\":\"#1f77b4\"},\"line_alpha\":{\"value\":0.1},\"line_color\":{\"value\":\"#1f77b4\"},\"line_width\":{\"value\":1.5},\"size\":{\"units\":\"screen\",\"value\":6},\"x\":{\"field\":\"index\"},\"y\":{\"field\":\"Retrain AUC\"}},\"id\":\"fe662f37-16c8-42bc-9d80-79f5b926a114\",\"type\":\"Circle\"},{\"attributes\":{\"data_source\":{\"id\":\"0e37fcb9-d6de-4b77-8190-e4de1c786fe5\",\"type\":\"ColumnDataSource\"},\"glyph\":{\"id\":\"34e2c5d4-d4ab-498c-97f2-d18b3aa67a70\",\"type\":\"Circle\"},\"hover_glyph\":null,\"muted_glyph\":null,\"nonselection_glyph\":{\"id\":\"fe662f37-16c8-42bc-9d80-79f5b926a114\",\"type\":\"Circle\"},\"selection_glyph\":null},\"id\":\"8cb2bc51-7a01-4973-872a-163bdae346a4\",\"type\":\"GlyphRenderer\"},{\"attributes\":{\"callback\":null,\"mode\":\"vline\",\"plot\":{\"id\":\"83be4be0-1e51-4c54-8e1b-f83bd3957aeb\",\"subtype\":\"Figure\",\"type\":\"Plot\"},\"renderers\":[{\"id\":\"fe722281-b32f-4a68-91f6-fcd947f60418\",\"type\":\"GlyphRenderer\"}],\"tooltips\":[[\"Train AUC\",\"@{Train AUC}{0.4f}\"],[\"Retrain AUC\",\"@{Retrain AUC}{0.4f}\"]]},\"id\":\"5a193e8f-7c82-4f86-977c-4d4be4c1eddf\",\"type\":\"HoverTool\"},{\"attributes\":{\"fill_alpha\":{\"value\":0.1},\"fill_color\":{\"value\":\"#1f77b4\"},\"line_alpha\":{\"value\":0.1},\"line_color\":{\"value\":\"#1f77b4\"},\"line_width\":{\"value\":1.5},\"size\":{\"units\":\"screen\",\"value\":6},\"x\":{\"field\":\"index\"},\"y\":{\"field\":\"Train AUC\"}},\"id\":\"1e5267ad-5383-4919-bd36-a3937eeec762\",\"type\":\"Circle\"},{\"attributes\":{\"fill_color\":{\"value\":\"white\"},\"line_color\":{\"value\":\"#a1bae3\"},\"line_width\":{\"value\":1.5},\"size\":{\"units\":\"screen\",\"value\":6},\"x\":{\"field\":\"index\"},\"y\":{\"field\":\"Retrain AUC\"}},\"id\":\"34e2c5d4-d4ab-498c-97f2-d18b3aa67a70\",\"type\":\"Circle\"},{\"attributes\":{},\"id\":\"903ef3f1-f3dc-47c5-87f7-22dcbc390b9e\",\"type\":\"BasicTickFormatter\"},{\"attributes\":{\"line_cap\":\"round\",\"line_color\":{\"value\":\"#a2cfae\"},\"line_width\":{\"value\":6},\"x\":{\"field\":\"index\"},\"y\":{\"field\":\"Retrain AUC\"}},\"id\":\"703d9d8b-3fb8-46f6-8dbd-abf93605c8fc\",\"type\":\"Line\"},{\"attributes\":{\"label\":{\"value\":\" Retrain AUC\"},\"renderers\":[{\"id\":\"d59ae60a-c87d-4fd4-93c4-7dda0dac507f\",\"type\":\"GlyphRenderer\"}]},\"id\":\"60fb3547-2bb0-4fc7-b4cf-efbb9f6c736f\",\"type\":\"LegendItem\"},{\"attributes\":{\"label\":{\"value\":\" Train AUC\"},\"renderers\":[{\"id\":\"fe722281-b32f-4a68-91f6-fcd947f60418\",\"type\":\"GlyphRenderer\"}]},\"id\":\"420f0c06-e73a-4d48-90cd-9730d308baff\",\"type\":\"LegendItem\"},{\"attributes\":{\"fill_color\":{\"value\":\"white\"},\"line_color\":{\"value\":\"#5975a4\"},\"line_width\":{\"value\":1.5},\"size\":{\"units\":\"screen\",\"value\":6},\"x\":{\"field\":\"index\"},\"y\":{\"field\":\"Train AUC\"}},\"id\":\"19e4e166-3203-4092-8082-a6638d291ff4\",\"type\":\"Circle\"},{\"attributes\":{\"data_source\":{\"id\":\"0e37fcb9-d6de-4b77-8190-e4de1c786fe5\",\"type\":\"ColumnDataSource\"},\"glyph\":{\"id\":\"19e4e166-3203-4092-8082-a6638d291ff4\",\"type\":\"Circle\"},\"hover_glyph\":null,\"muted_glyph\":null,\"nonselection_glyph\":{\"id\":\"1e5267ad-5383-4919-bd36-a3937eeec762\",\"type\":\"Circle\"},\"selection_glyph\":null},\"id\":\"d119734b-f7c2-4675-97a1-dc1388589d2c\",\"type\":\"GlyphRenderer\"},{\"attributes\":{\"active_drag\":\"auto\",\"active_scroll\":\"auto\",\"active_tap\":\"auto\",\"tools\":[{\"id\":\"b7e5020a-4a05-4964-9c8e-e5c95c44a222\",\"type\":\"PanTool\"},{\"id\":\"5db0dad0-0f42-47c1-80be-5888ac62245a\",\"type\":\"WheelZoomTool\"},{\"id\":\"e10952f1-d79e-4b63-8515-aa85ade2cdb1\",\"type\":\"BoxZoomTool\"},{\"id\":\"c1452576-1a08-418b-9b95-8f06f7a085e6\",\"type\":\"ResetTool\"},{\"id\":\"5a193e8f-7c82-4f86-977c-4d4be4c1eddf\",\"type\":\"HoverTool\"}]},\"id\":\"b4f94b70-b7ba-49a7-b5a5-afb2baaf26b4\",\"type\":\"Toolbar\"},{\"attributes\":{\"callback\":null},\"id\":\"db8c9f1f-7955-4395-a100-3bc3ef2b3c2e\",\"type\":\"DataRange1d\"}],\"root_ids\":[\"83be4be0-1e51-4c54-8e1b-f83bd3957aeb\"]},\"title\":\"Bokeh Application\",\"version\":\"0.12.5\"}};\n",
       "            var render_items = [{\"docid\":\"3aba9b1f-bf57-416f-ade5-7b3b86439ee3\",\"elementid\":\"676661bb-e45a-4fc4-9961-faaea5658fec\",\"modelid\":\"83be4be0-1e51-4c54-8e1b-f83bd3957aeb\"}];\n",
       "            \n",
       "            Bokeh.embed.embed_items(docs_json, render_items);\n",
       "          };\n",
       "          if (document.readyState != \"loading\") fn();\n",
       "          else document.addEventListener(\"DOMContentLoaded\", fn);\n",
       "        })();\n",
       "      },\n",
       "      function(Bokeh) {\n",
       "      }\n",
       "    ];\n",
       "  \n",
       "    function run_inline_js() {\n",
       "      \n",
       "      if ((window.Bokeh !== undefined) || (force === true)) {\n",
       "        for (var i = 0; i < inline_js.length; i++) {\n",
       "          inline_js[i](window.Bokeh);\n",
       "        }if (force === true) {\n",
       "          display_loaded();\n",
       "        }} else if (Date.now() < window._bokeh_timeout) {\n",
       "        setTimeout(run_inline_js, 100);\n",
       "      } else if (!window._bokeh_failed_load) {\n",
       "        console.log(\"Bokeh: BokehJS failed to load within specified timeout.\");\n",
       "        window._bokeh_failed_load = true;\n",
       "      } else if (force !== true) {\n",
       "        var cell = $(document.getElementById(\"676661bb-e45a-4fc4-9961-faaea5658fec\")).parents('.cell').data().cell;\n",
       "        cell.output_area.append_execute_result(NB_LOAD_WARNING)\n",
       "      }\n",
       "  \n",
       "    }\n",
       "  \n",
       "    if (window._bokeh_is_loading === 0) {\n",
       "      console.log(\"Bokeh: BokehJS loaded, going straight to plotting\");\n",
       "      run_inline_js();\n",
       "    } else {\n",
       "      load_libs(js_urls, function() {\n",
       "        console.log(\"Bokeh: BokehJS plotting callback run at\", now());\n",
       "        run_inline_js();\n",
       "      });\n",
       "    }\n",
       "  }(this));\n",
       "</script>"
      ]
     },
     "metadata": {},
     "output_type": "display_data"
    }
   ],
   "source": [
    "# LGBM Retrain Results\n",
    "p = figure(y_axis_label='AUC', plot_width=700, plot_height=350, tools=\"pan,wheel_zoom,box_zoom,reset\")\n",
    "l1 = p.line('index', 'Train AUC', legend=' Train AUC', line_color='#5f9e6f', source=data_cds, line_width=6, line_cap=\"round\")\n",
    "p.circle('index', 'Train AUC', fill_color=\"white\", size=6, line_width=1.5, line_color=\"#5975a4\", source=data_cds)\n",
    "p.line('index', 'Retrain AUC', legend=' Retrain AUC', line_color='#a2cfae', source=data_cds, line_width=6, line_cap=\"round\")\n",
    "p.circle('index', 'Retrain AUC',  fill_color=\"white\", size=6, line_width=1.5, line_color=\"#a1bae3\", source=data_cds)\n",
    "l1_hover = HoverTool(renderers=[l1], tooltips=[( 'Train AUC',  '@{Train AUC}{0.4f}' ), ( 'Retrain AUC',  '@{Retrain AUC}{0.4f}' )], mode='vline')\n",
    "p.add_tools(l1_hover)\n",
    "show(p)"
   ]
  },
  {
   "cell_type": "markdown",
   "metadata": {},
   "source": [
    "Retrainig does also seem to improve the results for the LightGBM model."
   ]
  },
  {
   "cell_type": "code",
   "execution_count": 205,
   "metadata": {
    "collapsed": true
   },
   "outputs": [],
   "source": [
    "xgb_series = retrain_results_dict['xgb'][['Retrain Test interval', 'Retrain interval', 'Test interval']].sum()\n",
    "lgbm_series = retrain_results_dict['lgbm'][['Retrain Test interval', 'Retrain interval', 'Test interval']].sum()"
   ]
  },
  {
   "cell_type": "code",
   "execution_count": 214,
   "metadata": {
    "collapsed": true
   },
   "outputs": [],
   "source": [
    "t_res = pd.DataFrame([['XGBoost', xgb_series['Retrain interval']/60],\n",
    "              ['LightGBM', lgbm_series['Retrain interval']/60]], columns=['Model', 'Time(m)']).assign(color=[\"#5975a4\", \"#5f9e6f\"])"
   ]
  },
  {
   "cell_type": "code",
   "execution_count": 215,
   "metadata": {
    "collapsed": true
   },
   "outputs": [],
   "source": [
    "t_cds = ColumnDataSource(t_res)"
   ]
  },
  {
   "cell_type": "code",
   "execution_count": 228,
   "metadata": {},
   "outputs": [
    {
     "data": {
      "text/html": [
       "\n",
       "\n",
       "    <div class=\"bk-root\">\n",
       "        <div class=\"bk-plotdiv\" id=\"5f8402eb-8cb2-4e13-bc9e-57c72eed2cbb\"></div>\n",
       "    </div>\n",
       "<script type=\"text/javascript\">\n",
       "  \n",
       "  (function(global) {\n",
       "    function now() {\n",
       "      return new Date();\n",
       "    }\n",
       "  \n",
       "    var force = false;\n",
       "  \n",
       "    if (typeof (window._bokeh_onload_callbacks) === \"undefined\" || force === true) {\n",
       "      window._bokeh_onload_callbacks = [];\n",
       "      window._bokeh_is_loading = undefined;\n",
       "    }\n",
       "  \n",
       "  \n",
       "    \n",
       "    if (typeof (window._bokeh_timeout) === \"undefined\" || force === true) {\n",
       "      window._bokeh_timeout = Date.now() + 0;\n",
       "      window._bokeh_failed_load = false;\n",
       "    }\n",
       "  \n",
       "    var NB_LOAD_WARNING = {'data': {'text/html':\n",
       "       \"<div style='background-color: #fdd'>\\n\"+\n",
       "       \"<p>\\n\"+\n",
       "       \"BokehJS does not appear to have successfully loaded. If loading BokehJS from CDN, this \\n\"+\n",
       "       \"may be due to a slow or bad network connection. Possible fixes:\\n\"+\n",
       "       \"</p>\\n\"+\n",
       "       \"<ul>\\n\"+\n",
       "       \"<li>re-rerun `output_notebook()` to attempt to load from CDN again, or</li>\\n\"+\n",
       "       \"<li>use INLINE resources instead, as so:</li>\\n\"+\n",
       "       \"</ul>\\n\"+\n",
       "       \"<code>\\n\"+\n",
       "       \"from bokeh.resources import INLINE\\n\"+\n",
       "       \"output_notebook(resources=INLINE)\\n\"+\n",
       "       \"</code>\\n\"+\n",
       "       \"</div>\"}};\n",
       "  \n",
       "    function display_loaded() {\n",
       "      if (window.Bokeh !== undefined) {\n",
       "        var el = document.getElementById(\"5f8402eb-8cb2-4e13-bc9e-57c72eed2cbb\");\n",
       "        el.textContent = \"BokehJS \" + Bokeh.version + \" successfully loaded.\";\n",
       "      } else if (Date.now() < window._bokeh_timeout) {\n",
       "        setTimeout(display_loaded, 100)\n",
       "      }\n",
       "    }\n",
       "  \n",
       "    function run_callbacks() {\n",
       "      window._bokeh_onload_callbacks.forEach(function(callback) { callback() });\n",
       "      delete window._bokeh_onload_callbacks\n",
       "      console.info(\"Bokeh: all callbacks have finished\");\n",
       "    }\n",
       "  \n",
       "    function load_libs(js_urls, callback) {\n",
       "      window._bokeh_onload_callbacks.push(callback);\n",
       "      if (window._bokeh_is_loading > 0) {\n",
       "        console.log(\"Bokeh: BokehJS is being loaded, scheduling callback at\", now());\n",
       "        return null;\n",
       "      }\n",
       "      if (js_urls == null || js_urls.length === 0) {\n",
       "        run_callbacks();\n",
       "        return null;\n",
       "      }\n",
       "      console.log(\"Bokeh: BokehJS not loaded, scheduling load and callback at\", now());\n",
       "      window._bokeh_is_loading = js_urls.length;\n",
       "      for (var i = 0; i < js_urls.length; i++) {\n",
       "        var url = js_urls[i];\n",
       "        var s = document.createElement('script');\n",
       "        s.src = url;\n",
       "        s.async = false;\n",
       "        s.onreadystatechange = s.onload = function() {\n",
       "          window._bokeh_is_loading--;\n",
       "          if (window._bokeh_is_loading === 0) {\n",
       "            console.log(\"Bokeh: all BokehJS libraries loaded\");\n",
       "            run_callbacks()\n",
       "          }\n",
       "        };\n",
       "        s.onerror = function() {\n",
       "          console.warn(\"failed to load library \" + url);\n",
       "        };\n",
       "        console.log(\"Bokeh: injecting script tag for BokehJS library: \", url);\n",
       "        document.getElementsByTagName(\"head\")[0].appendChild(s);\n",
       "      }\n",
       "    };var element = document.getElementById(\"5f8402eb-8cb2-4e13-bc9e-57c72eed2cbb\");\n",
       "    if (element == null) {\n",
       "      console.log(\"Bokeh: ERROR: autoload.js configured with elementid '5f8402eb-8cb2-4e13-bc9e-57c72eed2cbb' but no matching script tag was found. \")\n",
       "      return false;\n",
       "    }\n",
       "  \n",
       "    var js_urls = [];\n",
       "  \n",
       "    var inline_js = [\n",
       "      function(Bokeh) {\n",
       "        (function() {\n",
       "          var fn = function() {\n",
       "            var docs_json = {\"0b6820d4-685d-45af-8a7e-0d3661674a47\":{\"roots\":{\"references\":[{\"attributes\":{\"plot\":{\"id\":\"8c10afdd-6d5f-4782-9e7d-b45d20d63eca\",\"subtype\":\"Figure\",\"type\":\"Plot\"}},\"id\":\"4fc22b2e-a16c-489c-aafd-5f5f29d1093b\",\"type\":\"HelpTool\"},{\"attributes\":{\"active_drag\":\"auto\",\"active_scroll\":\"auto\",\"active_tap\":\"auto\",\"tools\":[{\"id\":\"20c45e62-064c-4f49-a3e6-f8c1c5dc2b7f\",\"type\":\"PanTool\"},{\"id\":\"e65362f5-1e0a-4832-865e-70b0c49b2da8\",\"type\":\"WheelZoomTool\"},{\"id\":\"b63d251e-a597-439e-a44b-1320d1a3e572\",\"type\":\"BoxZoomTool\"},{\"id\":\"30a47176-6794-4cea-93c7-a359988f0f0d\",\"type\":\"SaveTool\"},{\"id\":\"978690c5-e85e-4735-993a-dc8a4f1f4d67\",\"type\":\"ResetTool\"},{\"id\":\"4fc22b2e-a16c-489c-aafd-5f5f29d1093b\",\"type\":\"HelpTool\"}]},\"id\":\"2dbc7821-cf5e-4826-8da2-d3389630250a\",\"type\":\"Toolbar\"},{\"attributes\":{},\"id\":\"b892fc6e-9ebf-445e-b9aa-7058369d81d4\",\"type\":\"ToolEvents\"},{\"attributes\":{\"axis_label\":\"Time (minutes)\",\"formatter\":{\"id\":\"bf953b9d-617c-4b90-a7dd-44c509e3515d\",\"type\":\"BasicTickFormatter\"},\"plot\":{\"id\":\"8c10afdd-6d5f-4782-9e7d-b45d20d63eca\",\"subtype\":\"Figure\",\"type\":\"Plot\"},\"ticker\":{\"id\":\"78181592-08c7-4cad-a8a7-8d46bd853f00\",\"type\":\"BasicTicker\"}},\"id\":\"b38be5d1-a435-47f1-92c6-fda7287e9e1c\",\"type\":\"LinearAxis\"},{\"attributes\":{\"formatter\":{\"id\":\"26c1932a-8945-41b2-9100-5c8ca6fd53ce\",\"type\":\"CategoricalTickFormatter\"},\"plot\":{\"id\":\"8c10afdd-6d5f-4782-9e7d-b45d20d63eca\",\"subtype\":\"Figure\",\"type\":\"Plot\"},\"ticker\":{\"id\":\"fd37a64e-510a-4461-8b40-724cf7ae9315\",\"type\":\"CategoricalTicker\"}},\"id\":\"dbfd2a85-18ed-4ecf-93f7-65b7e8688bbc\",\"type\":\"CategoricalAxis\"},{\"attributes\":{},\"id\":\"78181592-08c7-4cad-a8a7-8d46bd853f00\",\"type\":\"BasicTicker\"},{\"attributes\":{\"dimension\":1,\"plot\":{\"id\":\"8c10afdd-6d5f-4782-9e7d-b45d20d63eca\",\"subtype\":\"Figure\",\"type\":\"Plot\"},\"ticker\":{\"id\":\"78181592-08c7-4cad-a8a7-8d46bd853f00\",\"type\":\"BasicTicker\"}},\"id\":\"b1718833-208d-43d0-b347-b58b1f745cee\",\"type\":\"Grid\"},{\"attributes\":{\"fill_alpha\":{\"value\":0.1},\"fill_color\":{\"value\":\"#1f77b4\"},\"line_alpha\":{\"value\":0.1},\"line_color\":{\"value\":\"#1f77b4\"},\"top\":{\"field\":\"Time(m)\"},\"width\":{\"value\":0.8},\"x\":{\"field\":\"Model\"}},\"id\":\"ad247541-3e33-4ef9-a397-aa18178b1484\",\"type\":\"VBar\"},{\"attributes\":{\"callback\":null,\"factors\":[\"XGBoost\",\"LightGBM\"]},\"id\":\"fd616e0b-1b31-428f-b850-daaa085e3bbc\",\"type\":\"FactorRange\"},{\"attributes\":{\"callback\":null},\"id\":\"66f429d4-6759-4082-b3cc-ba48d76e79a8\",\"type\":\"DataRange1d\"},{\"attributes\":{\"plot\":{\"id\":\"8c10afdd-6d5f-4782-9e7d-b45d20d63eca\",\"subtype\":\"Figure\",\"type\":\"Plot\"}},\"id\":\"978690c5-e85e-4735-993a-dc8a4f1f4d67\",\"type\":\"ResetTool\"},{\"attributes\":{\"plot\":{\"id\":\"8c10afdd-6d5f-4782-9e7d-b45d20d63eca\",\"subtype\":\"Figure\",\"type\":\"Plot\"}},\"id\":\"30a47176-6794-4cea-93c7-a359988f0f0d\",\"type\":\"SaveTool\"},{\"attributes\":{\"callback\":null,\"column_names\":[\"Model\",\"Time(m)\",\"color\",\"index\"],\"data\":{\"Model\":[\"XGBoost\",\"LightGBM\"],\"Time(m)\":{\"__ndarray__\":\"VV3EzPp2I0C8i36VCE4QQA==\",\"dtype\":\"float64\",\"shape\":[2]},\"color\":[\"#5975a4\",\"#5f9e6f\"],\"index\":[0,1]}},\"id\":\"24297dd5-cdae-44bc-90d4-50ea30d0c782\",\"type\":\"ColumnDataSource\"},{\"attributes\":{\"below\":[{\"id\":\"dbfd2a85-18ed-4ecf-93f7-65b7e8688bbc\",\"type\":\"CategoricalAxis\"}],\"left\":[{\"id\":\"b38be5d1-a435-47f1-92c6-fda7287e9e1c\",\"type\":\"LinearAxis\"}],\"plot_height\":500,\"plot_width\":300,\"renderers\":[{\"id\":\"dbfd2a85-18ed-4ecf-93f7-65b7e8688bbc\",\"type\":\"CategoricalAxis\"},{\"id\":\"719f48fd-2236-42b9-8821-9619eff8291e\",\"type\":\"Grid\"},{\"id\":\"b38be5d1-a435-47f1-92c6-fda7287e9e1c\",\"type\":\"LinearAxis\"},{\"id\":\"b1718833-208d-43d0-b347-b58b1f745cee\",\"type\":\"Grid\"},{\"id\":\"ba476f78-9f8d-4b19-8c8a-03c39a525642\",\"type\":\"BoxAnnotation\"},{\"id\":\"acf4756b-f64d-4428-9e30-e80458c6fd34\",\"type\":\"GlyphRenderer\"}],\"title\":{\"id\":\"92264904-a629-4fb0-8bbf-ad5aa27b4ba2\",\"type\":\"Title\"},\"tool_events\":{\"id\":\"b892fc6e-9ebf-445e-b9aa-7058369d81d4\",\"type\":\"ToolEvents\"},\"toolbar\":{\"id\":\"2dbc7821-cf5e-4826-8da2-d3389630250a\",\"type\":\"Toolbar\"},\"x_range\":{\"id\":\"fd616e0b-1b31-428f-b850-daaa085e3bbc\",\"type\":\"FactorRange\"},\"y_range\":{\"id\":\"66f429d4-6759-4082-b3cc-ba48d76e79a8\",\"type\":\"DataRange1d\"}},\"id\":\"8c10afdd-6d5f-4782-9e7d-b45d20d63eca\",\"subtype\":\"Figure\",\"type\":\"Plot\"},{\"attributes\":{},\"id\":\"26c1932a-8945-41b2-9100-5c8ca6fd53ce\",\"type\":\"CategoricalTickFormatter\"},{\"attributes\":{\"plot\":{\"id\":\"8c10afdd-6d5f-4782-9e7d-b45d20d63eca\",\"subtype\":\"Figure\",\"type\":\"Plot\"},\"ticker\":{\"id\":\"fd37a64e-510a-4461-8b40-724cf7ae9315\",\"type\":\"CategoricalTicker\"}},\"id\":\"719f48fd-2236-42b9-8821-9619eff8291e\",\"type\":\"Grid\"},{\"attributes\":{},\"id\":\"bf953b9d-617c-4b90-a7dd-44c509e3515d\",\"type\":\"BasicTickFormatter\"},{\"attributes\":{\"plot\":{\"id\":\"8c10afdd-6d5f-4782-9e7d-b45d20d63eca\",\"subtype\":\"Figure\",\"type\":\"Plot\"}},\"id\":\"20c45e62-064c-4f49-a3e6-f8c1c5dc2b7f\",\"type\":\"PanTool\"},{\"attributes\":{\"data_source\":{\"id\":\"24297dd5-cdae-44bc-90d4-50ea30d0c782\",\"type\":\"ColumnDataSource\"},\"glyph\":{\"id\":\"360b33b6-8533-41ec-9aa8-4a0350e07457\",\"type\":\"VBar\"},\"hover_glyph\":null,\"muted_glyph\":null,\"nonselection_glyph\":{\"id\":\"ad247541-3e33-4ef9-a397-aa18178b1484\",\"type\":\"VBar\"},\"selection_glyph\":null},\"id\":\"acf4756b-f64d-4428-9e30-e80458c6fd34\",\"type\":\"GlyphRenderer\"},{\"attributes\":{\"bottom_units\":\"screen\",\"fill_alpha\":{\"value\":0.5},\"fill_color\":{\"value\":\"lightgrey\"},\"left_units\":\"screen\",\"level\":\"overlay\",\"line_alpha\":{\"value\":1.0},\"line_color\":{\"value\":\"black\"},\"line_dash\":[4,4],\"line_width\":{\"value\":2},\"plot\":null,\"render_mode\":\"css\",\"right_units\":\"screen\",\"top_units\":\"screen\"},\"id\":\"ba476f78-9f8d-4b19-8c8a-03c39a525642\",\"type\":\"BoxAnnotation\"},{\"attributes\":{\"plot\":{\"id\":\"8c10afdd-6d5f-4782-9e7d-b45d20d63eca\",\"subtype\":\"Figure\",\"type\":\"Plot\"}},\"id\":\"e65362f5-1e0a-4832-865e-70b0c49b2da8\",\"type\":\"WheelZoomTool\"},{\"attributes\":{\"fill_color\":{\"field\":\"color\"},\"line_color\":{\"field\":\"color\"},\"top\":{\"field\":\"Time(m)\"},\"width\":{\"value\":0.8},\"x\":{\"field\":\"Model\"}},\"id\":\"360b33b6-8533-41ec-9aa8-4a0350e07457\",\"type\":\"VBar\"},{\"attributes\":{},\"id\":\"fd37a64e-510a-4461-8b40-724cf7ae9315\",\"type\":\"CategoricalTicker\"},{\"attributes\":{\"overlay\":{\"id\":\"ba476f78-9f8d-4b19-8c8a-03c39a525642\",\"type\":\"BoxAnnotation\"},\"plot\":{\"id\":\"8c10afdd-6d5f-4782-9e7d-b45d20d63eca\",\"subtype\":\"Figure\",\"type\":\"Plot\"}},\"id\":\"b63d251e-a597-439e-a44b-1320d1a3e572\",\"type\":\"BoxZoomTool\"},{\"attributes\":{\"plot\":null,\"text\":\"\"},\"id\":\"92264904-a629-4fb0-8bbf-ad5aa27b4ba2\",\"type\":\"Title\"}],\"root_ids\":[\"8c10afdd-6d5f-4782-9e7d-b45d20d63eca\"]},\"title\":\"Bokeh Application\",\"version\":\"0.12.5\"}};\n",
       "            var render_items = [{\"docid\":\"0b6820d4-685d-45af-8a7e-0d3661674a47\",\"elementid\":\"5f8402eb-8cb2-4e13-bc9e-57c72eed2cbb\",\"modelid\":\"8c10afdd-6d5f-4782-9e7d-b45d20d63eca\"}];\n",
       "            \n",
       "            Bokeh.embed.embed_items(docs_json, render_items);\n",
       "          };\n",
       "          if (document.readyState != \"loading\") fn();\n",
       "          else document.addEventListener(\"DOMContentLoaded\", fn);\n",
       "        })();\n",
       "      },\n",
       "      function(Bokeh) {\n",
       "      }\n",
       "    ];\n",
       "  \n",
       "    function run_inline_js() {\n",
       "      \n",
       "      if ((window.Bokeh !== undefined) || (force === true)) {\n",
       "        for (var i = 0; i < inline_js.length; i++) {\n",
       "          inline_js[i](window.Bokeh);\n",
       "        }if (force === true) {\n",
       "          display_loaded();\n",
       "        }} else if (Date.now() < window._bokeh_timeout) {\n",
       "        setTimeout(run_inline_js, 100);\n",
       "      } else if (!window._bokeh_failed_load) {\n",
       "        console.log(\"Bokeh: BokehJS failed to load within specified timeout.\");\n",
       "        window._bokeh_failed_load = true;\n",
       "      } else if (force !== true) {\n",
       "        var cell = $(document.getElementById(\"5f8402eb-8cb2-4e13-bc9e-57c72eed2cbb\")).parents('.cell').data().cell;\n",
       "        cell.output_area.append_execute_result(NB_LOAD_WARNING)\n",
       "      }\n",
       "  \n",
       "    }\n",
       "  \n",
       "    if (window._bokeh_is_loading === 0) {\n",
       "      console.log(\"Bokeh: BokehJS loaded, going straight to plotting\");\n",
       "      run_inline_js();\n",
       "    } else {\n",
       "      load_libs(js_urls, function() {\n",
       "        console.log(\"Bokeh: BokehJS plotting callback run at\", now());\n",
       "        run_inline_js();\n",
       "      });\n",
       "    }\n",
       "  }(this));\n",
       "</script>"
      ]
     },
     "metadata": {},
     "output_type": "display_data"
    }
   ],
   "source": [
    "# XGB vs LGBM Retrain Time\n",
    "p = figure(plot_width=300, plot_height=500, x_range=t_res['Model'].tolist(), y_axis_label='Time (minutes)')\n",
    "p.vbar(x='Model', width=0.8, bottom=0, top='Time(m)', color=\"color\", source=t_cds)\n",
    "show(p)"
   ]
  },
  {
   "cell_type": "markdown",
   "metadata": {},
   "source": [
    "LightGBM seems to be almost twice as fast as XGBoost and offer similar performance. In general, leaf-wise algorithms are more efficient and converge faster than depth-wise. However, it can easily over-fit when the data is small or the number of leaves is too high."
   ]
  }
 ],
 "metadata": {
  "kernelspec": {
   "display_name": "Python 3",
   "language": "python",
   "name": "python3"
  },
  "language_info": {
   "codemirror_mode": {
    "name": "ipython",
    "version": 3
   },
   "file_extension": ".py",
   "mimetype": "text/x-python",
   "name": "python",
   "nbconvert_exporter": "python",
   "pygments_lexer": "ipython3",
   "version": "3.6.1"
  }
 },
 "nbformat": 4,
 "nbformat_minor": 1
}
