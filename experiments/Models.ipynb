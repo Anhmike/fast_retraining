{
 "cells": [
  {
   "cell_type": "code",
   "execution_count": 1,
   "metadata": {
    "collapsed": false
   },
   "outputs": [
    {
     "name": "stderr",
     "output_type": "stream",
     "text": [
      "/home/hoaphumanoid/anaconda3/envs/strata/lib/python3.6/site-packages/sklearn/cross_validation.py:44: DeprecationWarning: This module was deprecated in version 0.18 in favor of the model_selection module into which all the refactored classes and functions are moved. Also note that the interface of the new CV iterators are different from that of this module. This module will be removed in 0.20.\n",
      "  \"This module will be removed in 0.20.\", DeprecationWarning)\n"
     ]
    }
   ],
   "source": [
    "import pandas as pd\n",
    "from sklearn.preprocessing import StandardScaler\n",
    "\n",
    "from sklearn.pipeline import Pipeline, FeatureUnion\n",
    "\n",
    "from sklearn.model_selection import cross_val_score, cross_val_predict\n",
    "from xgboost import XGBClassifier\n",
    "import numpy as np\n",
    "import itertools\n",
    "import seaborn\n",
    "from sklearn.metrics import roc_auc_score\n",
    "from experiments.libs import loaders\n",
    "from sklearn.model_selection import StratifiedKFold\n",
    "\n",
    "from sklearn.svm import LinearSVC\n",
    "from sklearn.decomposition import PCA\n",
    "from sklearn.metrics import roc_auc_score\n",
    "from xgboost import XGBModel\n",
    "\n",
    "from lightgbm import LGBMClassifier\n",
    "\n",
    "import mne\n",
    "from scipy.io import loadmat\n",
    "\n",
    "from itertools import zip_longest\n",
    "from copy import deepcopy\n",
    "\n",
    "from matplotlib import pyplot as plt\n",
    "%matplotlib inline"
   ]
  },
  {
   "cell_type": "code",
   "execution_count": 2,
   "metadata": {
    "collapsed": true
   },
   "outputs": [],
   "source": [
    "filepath = '/fileshare/BCI_Comp_III_Wads_2004/Subject_A_Train.mat'\n",
    "srate = 240 # Hz\n",
    "# Filtered 0.1 - 60Hz"
   ]
  },
  {
   "cell_type": "code",
   "execution_count": 3,
   "metadata": {
    "collapsed": true
   },
   "outputs": [],
   "source": [
    "def target_loc_series_from(stimtype_series):\n",
    "    stim_diff = stimtype_series.diff()\n",
    "    loc = stim_diff[stim_diff==1].index\n",
    "    return pd.Series(loc, index=loc)"
   ]
  },
  {
   "cell_type": "code",
   "execution_count": 12,
   "metadata": {
    "collapsed": true
   },
   "outputs": [],
   "source": [
    "def target_distance(stimtype_series):\n",
    "    loc = target_loc_series_from(stimtype_series)\n",
    "    return (loc - loc.shift(1).fillna(0))"
   ]
  },
  {
   "cell_type": "code",
   "execution_count": 13,
   "metadata": {
    "collapsed": true
   },
   "outputs": [],
   "source": [
    "def create_event_frame(flash_series, stimtype_series):\n",
    "    diff_seq = (flash_series.diff()\n",
    "                            .fillna(flash_series)) # First event will be missing so fill with 1\n",
    "    return pd.DataFrame({'flash_onset':diff_seq, \n",
    "                         'stim_type': stimtype_series})"
   ]
  },
  {
   "cell_type": "code",
   "execution_count": 14,
   "metadata": {
    "collapsed": true
   },
   "outputs": [],
   "source": [
    "def epoch_generator(eeg_data, event_df, duration=0.8, srate=240):\n",
    "    \"\"\" Yields epoch as well as classification label\n",
    "    \"\"\"\n",
    "    offset = int(np.round(duration * srate))\n",
    "    for idx in event_df[event_df['flash_onset']==1].index:\n",
    "        data = eeg_data[idx:idx+offset, :] - eeg_data[idx, :] # Removing offset\n",
    "        yield data, event_df['stim_type'].at[idx]"
   ]
  },
  {
   "cell_type": "code",
   "execution_count": 15,
   "metadata": {
    "collapsed": false
   },
   "outputs": [],
   "source": [
    "def append_ntt_distance(event_df):\n",
    "    \"\"\" Append the non-target to target distance\n",
    "    \"\"\"\n",
    "    target_loc_series = (target_loc_series_from(event_df['stim_type']).reindex(event_df.index)\n",
    "                                                                      .ffill())\n",
    "    return event_df.assign(ntt_distance=(event_df.index - target_loc_series).fillna(target_loc_series.max()))"
   ]
  },
  {
   "cell_type": "code",
   "execution_count": 20,
   "metadata": {
    "collapsed": true
   },
   "outputs": [],
   "source": [
    "def drop_close_targets(event_df, samples_distance=126):\n",
    "    \"\"\" Removes targets that are too close together temporaly\n",
    "    \"\"\"\n",
    "    index_to_drop = event_df[(event_df['flash_onset']>0)&\n",
    "                             (event_df['stim_type']>0)& # 1 target 0 non-target\n",
    "                             (event_df['target_dist']<=samples_distance)].index\n",
    "    return event_df.drop(index_to_drop)"
   ]
  },
  {
   "cell_type": "code",
   "execution_count": 21,
   "metadata": {
    "collapsed": true
   },
   "outputs": [],
   "source": [
    "def drop_close_non_targets(event_df, samples_distance=84):\n",
    "    \"\"\" Removes non-targets that are too close to target temporaly\n",
    "    \"\"\"\n",
    "    index_to_drop = event_df[(event_df['flash_onset']>0)&\n",
    "                             (event_df['stim_type']<1)& # 1 target 0 non-target\n",
    "                             (event_df['ntt_distance']<=samples_distance)].index\n",
    "    return event_df.drop(index_to_drop)"
   ]
  },
  {
   "cell_type": "code",
   "execution_count": 27,
   "metadata": {
    "collapsed": false
   },
   "outputs": [],
   "source": [
    "def dataset_epoch_generator(filename, srate=240):\n",
    "    dataset_dict = loadmat(filename)\n",
    "    num_runs = dataset_dict['Flashing'].shape[0]\n",
    "    \n",
    "    for run in range(num_runs):\n",
    "        eeg_array = dataset_dict['Signal'][run,:,:]\n",
    "        flash_series = pd.Series(dataset_dict['Flashing'][run, :])\n",
    "        stimtype_series = pd.Series(dataset_dict['StimulusType'][run, :])\n",
    "        event_df = (create_event_frame(flash_series, stimtype_series).\n",
    "                    assign(target_dist=target_distance(stimtype_series)).\n",
    "                    pipe(append_ntt_distance).\n",
    "                    pipe(drop_close_targets).\n",
    "                    pipe(drop_close_non_targets))\n",
    "\n",
    "        # Transforming from time by channel to channel by time\n",
    "        eeg_array = mne.filter.filter_data(eeg_array.astype(np.float64).T, srate, None, 18, verbose=False).T\n",
    "        for epoch in epoch_generator(eeg_array, event_df, duration=0.8, srate=srate):\n",
    "            yield epoch"
   ]
  },
  {
   "cell_type": "code",
   "execution_count": 28,
   "metadata": {
    "collapsed": false
   },
   "outputs": [],
   "source": [
    "egen = dataset_epoch_generator(filepath, srate=srate)\n",
    "data_list = list(egen)"
   ]
  },
  {
   "cell_type": "code",
   "execution_count": 29,
   "metadata": {
    "collapsed": false
   },
   "outputs": [
    {
     "data": {
      "text/plain": [
       "10208"
      ]
     },
     "execution_count": 29,
     "metadata": {},
     "output_type": "execute_result"
    }
   ],
   "source": [
    "len(data_list)"
   ]
  },
  {
   "cell_type": "code",
   "execution_count": 30,
   "metadata": {
    "collapsed": false
   },
   "outputs": [],
   "source": [
    "X = np.array([d[0][::6].ravel() for d in data_list])"
   ]
  },
  {
   "cell_type": "code",
   "execution_count": 31,
   "metadata": {
    "collapsed": true
   },
   "outputs": [],
   "source": [
    "y = np.array([d[1] for d in data_list])"
   ]
  },
  {
   "cell_type": "code",
   "execution_count": 32,
   "metadata": {
    "collapsed": false
   },
   "outputs": [
    {
     "data": {
      "text/plain": [
       "(10208, 2048)"
      ]
     },
     "execution_count": 32,
     "metadata": {},
     "output_type": "execute_result"
    }
   ],
   "source": [
    "X.shape"
   ]
  },
  {
   "cell_type": "code",
   "execution_count": 33,
   "metadata": {
    "collapsed": false
   },
   "outputs": [
    {
     "data": {
      "text/plain": [
       "(10208,)"
      ]
     },
     "execution_count": 33,
     "metadata": {},
     "output_type": "execute_result"
    }
   ],
   "source": [
    "y.shape"
   ]
  },
  {
   "cell_type": "code",
   "execution_count": 34,
   "metadata": {
    "collapsed": false
   },
   "outputs": [],
   "source": [
    "pipeline_steps = [('scale', StandardScaler())]\n",
    "continuous_pipeline = Pipeline(steps=pipeline_steps)"
   ]
  },
  {
   "cell_type": "code",
   "execution_count": 35,
   "metadata": {
    "collapsed": false
   },
   "outputs": [],
   "source": [
    "featurisers = [('continuous', continuous_pipeline)]"
   ]
  },
  {
   "cell_type": "code",
   "execution_count": 36,
   "metadata": {
    "collapsed": false
   },
   "outputs": [],
   "source": [
    "xgb_clf_pipeline = Pipeline(steps=[('features', FeatureUnion(featurisers)),\n",
    "                                          ('clf', XGBClassifier(max_depth=2, \n",
    "                                                                learning_rate=0.1, \n",
    "                                                                scale_pos_weight=2,\n",
    "                                                                n_estimators=100,\n",
    "                                                                gamma=0.1,\n",
    "                                                                subsample=1))]) "
   ]
  },
  {
   "cell_type": "code",
   "execution_count": 37,
   "metadata": {
    "collapsed": true
   },
   "outputs": [],
   "source": [
    "lgbm_clf_pipeline = Pipeline(steps=[('features', FeatureUnion(featurisers)),\n",
    "                                          ('clf', LGBMClassifier(num_leaves=2**2,\n",
    "                                                                learning_rate=0.1, \n",
    "                                                                scale_pos_weight=2,\n",
    "                                                                n_estimators=100,\n",
    "                                                                subsample=1))]) "
   ]
  },
  {
   "cell_type": "code",
   "execution_count": 38,
   "metadata": {
    "collapsed": false
   },
   "outputs": [],
   "source": [
    "letters = 'ABCDEFGHIJKLMNOPQRSTUVWXYZ123456789_'\n",
    "stim_code_translation_dict = dict((l, (i%6+1, int(np.floor(i/6)+7)) ) for i, l in enumerate(letters))"
   ]
  },
  {
   "cell_type": "code",
   "execution_count": 39,
   "metadata": {
    "collapsed": true
   },
   "outputs": [],
   "source": [
    "def event_frame_from(stim_code, target_letter, stim_code_translation_dict):\n",
    "    diff_seq = stim_code.diff()\n",
    "    diff_seq = diff_seq.fillna(stim_code)\n",
    "    \n",
    "    target_codes = stim_code_translation_dict[target_letter]\n",
    "    target_index = diff_seq[diff_seq.isin(target_codes)].index\n",
    "    stimtype_series = pd.Series(0, index=stim_code.index)\n",
    "    stimtype_series[target_index]=1\n",
    "    diff_seq = (diff_seq/diff_seq.abs()).fillna(0)\n",
    "    \n",
    "    return pd.DataFrame({'flash_onset':diff_seq, \n",
    "                         'stim_type': stimtype_series})"
   ]
  },
  {
   "cell_type": "code",
   "execution_count": 40,
   "metadata": {
    "collapsed": true
   },
   "outputs": [],
   "source": [
    "test_filename = '/fileshare/BCI_Comp_III_Wads_2004/Subject_A_Test.mat'\n",
    "labels_filename = '/fileshare/BCI_Comp_III_Wads_2004/true_labels_a.txt'"
   ]
  },
  {
   "cell_type": "code",
   "execution_count": 41,
   "metadata": {
    "collapsed": true
   },
   "outputs": [],
   "source": [
    "def read_labels(filename):\n",
    "    return open(filename).readline().strip()"
   ]
  },
  {
   "cell_type": "code",
   "execution_count": 60,
   "metadata": {
    "collapsed": false
   },
   "outputs": [],
   "source": [
    "def test_dataset_epoch_generator(data_filename, labels_filename, stim_code_translation_dict, srate=240):\n",
    "    dataset_dict = loadmat(data_filename)\n",
    "    labels = read_labels(labels_filename)\n",
    "    \n",
    "    for run, target in enumerate(labels):\n",
    "        eeg_array = dataset_dict['Signal'][run,:,:]\n",
    "        stimcode_series = pd.Series(dataset_dict['StimulusCode'][run, :])\n",
    "        event_df = (event_frame_from(stimcode_series, target, stim_code_translation_dict).\n",
    "                    pipe(lambda x: x.assign(target_dist=target_distance(x['stim_type']))).\n",
    "                    pipe(append_ntt_distance).\n",
    "                    pipe(drop_close_targets).\n",
    "                    pipe(drop_close_non_targets))\n",
    "        \n",
    "        # Transforming from time by channel to channel by time\n",
    "        eeg_array = mne.filter.filter_data(eeg_array.astype(np.float64).T, srate, None, 18, verbose=False).T\n",
    "        for epoch in epoch_generator(eeg_array, event_df, duration=0.8, srate=srate):\n",
    "            yield epoch"
   ]
  },
  {
   "cell_type": "code",
   "execution_count": 61,
   "metadata": {
    "collapsed": true
   },
   "outputs": [],
   "source": [
    "data_gen = test_dataset_epoch_generator(test_filename, labels_filename, stim_code_translation_dict)"
   ]
  },
  {
   "cell_type": "code",
   "execution_count": 62,
   "metadata": {
    "collapsed": false
   },
   "outputs": [],
   "source": [
    "data_list = list(data_gen)"
   ]
  },
  {
   "cell_type": "code",
   "execution_count": 63,
   "metadata": {
    "collapsed": true
   },
   "outputs": [],
   "source": [
    "X_test = np.array([d[0][::6].ravel() for d in data_list])"
   ]
  },
  {
   "cell_type": "code",
   "execution_count": 64,
   "metadata": {
    "collapsed": true
   },
   "outputs": [],
   "source": [
    "y_test = np.array([d[1] for d in data_list])"
   ]
  },
  {
   "cell_type": "code",
   "execution_count": 65,
   "metadata": {
    "collapsed": false
   },
   "outputs": [
    {
     "data": {
      "text/plain": [
       "(12045, 2048)"
      ]
     },
     "execution_count": 65,
     "metadata": {},
     "output_type": "execute_result"
    }
   ],
   "source": [
    "X_test.shape"
   ]
  },
  {
   "cell_type": "code",
   "execution_count": 66,
   "metadata": {
    "collapsed": false
   },
   "outputs": [
    {
     "name": "stdout",
     "output_type": "stream",
     "text": [
      "CPU times: user 1min 35s, sys: 764 ms, total: 1min 36s\n",
      "Wall time: 5.4 s\n"
     ]
    },
    {
     "data": {
      "text/plain": [
       "Pipeline(steps=[('features', FeatureUnion(n_jobs=1,\n",
       "       transformer_list=[('continuous', Pipeline(steps=[('scale', StandardScaler(copy=True, with_mean=True, with_std=True))]))],\n",
       "       transformer_weights=None)), ('clf', XGBClassifier(base_score=0.5, colsample_bylevel=1, colsample_bytree=1,\n",
       "       gamma=0...logistic', reg_alpha=0, reg_lambda=1,\n",
       "       scale_pos_weight=2, seed=0, silent=True, subsample=1))])"
      ]
     },
     "execution_count": 66,
     "metadata": {},
     "output_type": "execute_result"
    }
   ],
   "source": [
    "%%time\n",
    "xgb_clf_pipeline.fit(X, y)"
   ]
  },
  {
   "cell_type": "code",
   "execution_count": 67,
   "metadata": {
    "collapsed": false
   },
   "outputs": [
    {
     "data": {
      "text/plain": [
       "0.68251896814231094"
      ]
     },
     "execution_count": 67,
     "metadata": {},
     "output_type": "execute_result"
    }
   ],
   "source": [
    "y_pred = xgb_clf_pipeline.predict_proba(X_test)\n",
    "roc_auc_score(y_test, y_pred[:, 1])"
   ]
  },
  {
   "cell_type": "code",
   "execution_count": 68,
   "metadata": {
    "collapsed": false
   },
   "outputs": [
    {
     "name": "stdout",
     "output_type": "stream",
     "text": [
      "CPU times: user 22.1 s, sys: 496 ms, total: 22.6 s\n",
      "Wall time: 2.64 s\n"
     ]
    },
    {
     "data": {
      "text/plain": [
       "Pipeline(steps=[('features', FeatureUnion(n_jobs=1,\n",
       "       transformer_list=[('continuous', Pipeline(steps=[('scale', StandardScaler(copy=True, with_mean=True, with_std=True))]))],\n",
       "       transformer_weights=None)), ('clf', LGBMClassifier(boosting_type='gbdt', colsample_bytree=1, drop_rate=0.1,\n",
       "        is_un...   subsample_for_bin=50000, subsample_freq=1, uniform_drop=False,\n",
       "        xgboost_dart_mode=False))])"
      ]
     },
     "execution_count": 68,
     "metadata": {},
     "output_type": "execute_result"
    }
   ],
   "source": [
    "%%time\n",
    "lgbm_clf_pipeline.fit(X, y)"
   ]
  },
  {
   "cell_type": "code",
   "execution_count": 69,
   "metadata": {
    "collapsed": false
   },
   "outputs": [
    {
     "data": {
      "text/plain": [
       "0.68410165060258266"
      ]
     },
     "execution_count": 69,
     "metadata": {},
     "output_type": "execute_result"
    }
   ],
   "source": [
    "y_pred = lgbm_clf_pipeline.predict_proba(X_test)\n",
    "roc_auc_score(y_test, y_pred[:, 1])"
   ]
  },
  {
   "cell_type": "code",
   "execution_count": 55,
   "metadata": {
    "collapsed": true
   },
   "outputs": [],
   "source": [
    "def grouper(iterable, n, fillvalue=None):\n",
    "    \"Collect data into fixed-length chunks or blocks\"\n",
    "    # grouper('ABCDEFG', 3, 'x') --> ABC DEF Gxx\n",
    "    args = [iter(iterable)] * n\n",
    "    return zip_longest(fillvalue=fillvalue, *args)"
   ]
  },
  {
   "cell_type": "code",
   "execution_count": 58,
   "metadata": {
    "collapsed": false
   },
   "outputs": [
    {
     "data": {
      "text/plain": [
       "Pipeline(steps=[('features', FeatureUnion(n_jobs=1,\n",
       "       transformer_list=[('continuous', Pipeline(steps=[('scale', StandardScaler(copy=True, with_mean=True, with_std=True))]))],\n",
       "       transformer_weights=None)), ('clf', XGBClassifier(base_score=0.5, colsample_bylevel=1, colsample_bytree=1,\n",
       "       gamma=0...logistic', reg_alpha=0, reg_lambda=1,\n",
       "       scale_pos_weight=2, seed=0, silent=True, subsample=1))])"
      ]
     },
     "execution_count": 58,
     "metadata": {},
     "output_type": "execute_result"
    }
   ],
   "source": [
    "xgb_clf_pipeline.fit(X,y)"
   ]
  },
  {
   "cell_type": "code",
   "execution_count": 360,
   "metadata": {
    "collapsed": false
   },
   "outputs": [],
   "source": [
    "def run_train_retrain_comparison(model, X, y, X_test, y_test):\n",
    "    retrain_model = deepcopy(model)\n",
    "    historical_X = [X]\n",
    "    historical_y = [y]\n",
    "    prev_size = X.shape[0]\n",
    "    train_auc=[]\n",
    "    retrain_auc=[]\n",
    "    for X_chunk, y_chunk in  zip(grouper(X_test, 15*12), grouper(y_test, 15*12)):\n",
    "        X_chunk_array = np.array(X_chunk)\n",
    "        y_chunk_array = np.array(y_chunk)\n",
    "        \n",
    "        try: # TODO: Fix grouper\n",
    "            y_pred = model.predict_proba(X_chunk_array)\n",
    "            train_auc.append(roc_auc_score(y_chunk_array, y_pred[:, 1]))\n",
    "            print('Train ', train_auc[-1])\n",
    "\n",
    "            y_pred = retrain_model.predict_proba(X_chunk_array)\n",
    "            retrain_auc.append(roc_auc_score(y_chunk_array, y_pred[:, 1]))\n",
    "            print('Retrain ', retrain_auc[-1])\n",
    "\n",
    "            historical_X.append(X_chunk_array)\n",
    "            historical_y.append(y_chunk_array)\n",
    "\n",
    "            new_train_X  = np.concatenate(historical_X)\n",
    "            retrain_model.fit(new_train_X[-prev_size:], np.concatenate(historical_y)[-prev_size:])\n",
    "        except:\n",
    "            print('Finished')\n",
    "            print(X_chunk_array.shape)\n",
    "            print(y_chunk_array.shape)\n",
    "        \n",
    "    return pd.DataFrame({\n",
    "        'train_auc':train_auc,\n",
    "        'retrain_auc':retrain_auc\n",
    "    })"
   ]
  },
  {
   "cell_type": "code",
   "execution_count": 361,
   "metadata": {
    "collapsed": false,
    "scrolled": true
   },
   "outputs": [
    {
     "name": "stdout",
     "output_type": "stream",
     "text": [
      "Train  0.730075359671\n",
      "Retrain  0.730075359671\n",
      "Train  0.682010135135\n",
      "Retrain  0.672086148649\n",
      "Train  0.633487654321\n",
      "Retrain  0.639660493827\n",
      "Train  0.728888888889\n",
      "Retrain  0.715333333333\n",
      "Train  0.691579371475\n",
      "Retrain  0.691579371475\n",
      "Train  0.664273648649\n",
      "Retrain  0.661951013514\n",
      "Train  0.621346611821\n",
      "Retrain  0.620913617666\n",
      "Train  0.654254167569\n",
      "Retrain  0.659017103269\n",
      "Train  0.572505138159\n",
      "Retrain  0.548527060973\n",
      "Train  0.719439290868\n",
      "Retrain  0.730364873222\n",
      "Train  0.677787162162\n",
      "Retrain  0.614653716216\n",
      "Train  0.742344883159\n",
      "Retrain  0.719178082192\n",
      "Train  0.739209865266\n",
      "Retrain  0.719342315597\n",
      "Train  0.771593485879\n",
      "Retrain  0.784374355803\n",
      "Train  0.724444444444\n",
      "Retrain  0.709777777778\n",
      "Train  0.630872483221\n",
      "Retrain  0.674171898679\n",
      "Train  0.704391891892\n",
      "Retrain  0.669552364865\n",
      "Train  0.692228406514\n",
      "Retrain  0.687280972995\n",
      "Train  0.693994062571\n",
      "Retrain  0.720712491436\n",
      "Train  0.665812807882\n",
      "Retrain  0.71645320197\n",
      "Train  0.592350520455\n",
      "Retrain  0.626966836117\n",
      "Train  0.669102534825\n",
      "Retrain  0.656770952272\n",
      "Train  0.651439705564\n",
      "Retrain  0.702749512882\n",
      "Train  0.710726351351\n",
      "Retrain  0.697635135135\n",
      "Train  0.620078334364\n",
      "Retrain  0.556380127809\n",
      "Train  0.713357869669\n",
      "Retrain  0.697770080104\n",
      "Train  0.680222706366\n",
      "Retrain  0.685548293391\n",
      "Train  0.6998001998\n",
      "Retrain  0.725274725275\n",
      "Train  0.690370668815\n",
      "Retrain  0.668412570508\n",
      "Train  0.690456081081\n",
      "Retrain  0.686655405405\n",
      "Train  0.568304827885\n",
      "Retrain  0.599913401169\n",
      "Train  0.696254600563\n",
      "Retrain  0.687811214549\n",
      "Train  0.610193392425\n",
      "Retrain  0.656929895246\n",
      "Train  0.727213682615\n",
      "Retrain  0.67893483438\n",
      "Train  0.704180743243\n",
      "Retrain  0.755701013514\n",
      "Train  0.604247545102\n",
      "Retrain  0.630509248687\n",
      "Train  0.693440138558\n",
      "Retrain  0.706646460273\n",
      "Train  0.767126603728\n",
      "Retrain  0.732994432341\n",
      "Train  0.773007535967\n",
      "Retrain  0.743548755424\n",
      "Train  0.612413793103\n",
      "Retrain  0.659901477833\n",
      "Train  0.702947845805\n",
      "Retrain  0.68130282416\n",
      "Train  0.669111111111\n",
      "Retrain  0.733111111111\n",
      "Train  0.684125705077\n",
      "Retrain  0.663376309428\n",
      "Train  0.605152027027\n",
      "Retrain  0.505701013514\n",
      "Train  0.732752360203\n",
      "Retrain  0.750181554103\n",
      "Train  0.65308277027\n",
      "Retrain  0.642314189189\n",
      "Train  0.807555555556\n",
      "Retrain  0.739111111111\n",
      "Train  0.620480623512\n",
      "Retrain  0.682398787616\n",
      "Train  0.700492610837\n",
      "Retrain  0.688669950739\n",
      "Train  0.780194256757\n",
      "Retrain  0.807432432432\n",
      "Train  0.718202432488\n",
      "Retrain  0.730983302412\n",
      "Train  0.672666666667\n",
      "Retrain  0.687111111111\n",
      "Train  0.73803853648\n",
      "Retrain  0.733275600779\n",
      "Train  0.677555555556\n",
      "Retrain  0.698666666667\n",
      "Train  0.735111111111\n",
      "Retrain  0.648\n",
      "Train  0.629111111111\n",
      "Retrain  0.646888888889\n",
      "Train  0.605363175676\n",
      "Retrain  0.61402027027\n",
      "Train  0.681675139191\n",
      "Retrain  0.747760832728\n",
      "Train  0.584670608108\n",
      "Retrain  0.536317567568\n",
      "Train  0.73002814462\n",
      "Retrain  0.726997185538\n",
      "Train  0.638501941082\n",
      "Retrain  0.676638501941\n",
      "Train  0.633065347351\n",
      "Retrain  0.716759431045\n",
      "Train  0.729518581081\n",
      "Retrain  0.658361486486\n",
      "Train  0.711806348481\n",
      "Retrain  0.733500799269\n",
      "Train  0.704498744005\n",
      "Retrain  0.772094085408\n",
      "Train  0.635346283784\n",
      "Retrain  0.693834459459\n",
      "Finished\n",
      "(180,)\n",
      "(180,)\n"
     ]
    }
   ],
   "source": [
    "df = run_train_retrain_comparison(xgb_clf_pipeline, X, y, X_test, y_test)"
   ]
  },
  {
   "cell_type": "code",
   "execution_count": 362,
   "metadata": {
    "collapsed": false
   },
   "outputs": [
    {
     "data": {
      "text/plain": [
       "<matplotlib.axes._subplots.AxesSubplot at 0x7f9c6b2b02b0>"
      ]
     },
     "execution_count": 362,
     "metadata": {},
     "output_type": "execute_result"
    },
    {
     "data": {
      "image/png": "[encoded data removed]",
      "text/plain": [
       "<matplotlib.figure.Figure at 0x7f9c6b531f60>"
      ]
     },
     "metadata": {},
     "output_type": "display_data"
    }
   ],
   "source": [
    "df.plot()"
   ]
  },
  {
   "cell_type": "code",
   "execution_count": 363,
   "metadata": {
    "collapsed": false
   },
   "outputs": [
    {
     "data": {
      "text/plain": [
       "retrain_auc    0.684195\n",
       "train_auc      0.681756\n",
       "dtype: float64"
      ]
     },
     "execution_count": 363,
     "metadata": {},
     "output_type": "execute_result"
    }
   ],
   "source": [
    "df.mean()"
   ]
  },
  {
   "cell_type": "code",
   "execution_count": 364,
   "metadata": {
    "collapsed": false,
    "scrolled": false
   },
   "outputs": [
    {
     "name": "stderr",
     "output_type": "stream",
     "text": [
      "/home/hoaphumanoid/anaconda3/envs/strata/lib/python3.6/site-packages/ipykernel/__main__.py:1: FutureWarning: pd.rolling_mean is deprecated for DataFrame and will be removed in a future version, replace with \n",
      "\tDataFrame.rolling(window=10,center=False).mean()\n",
      "  if __name__ == '__main__':\n"
     ]
    },
    {
     "data": {
      "text/plain": [
       "<matplotlib.axes._subplots.AxesSubplot at 0x7f9c6b22d358>"
      ]
     },
     "execution_count": 364,
     "metadata": {},
     "output_type": "execute_result"
    },
    {
     "data": {
      "image/png": "[encoded data removed]",
      "text/plain": [
       "<matplotlib.figure.Figure at 0x7f9c6b249710>"
      ]
     },
     "metadata": {},
     "output_type": "display_data"
    }
   ],
   "source": [
    "pd.rolling_mean(df, 10).plot()"
   ]
  },
  {
   "cell_type": "code",
   "execution_count": 338,
   "metadata": {
    "collapsed": false
   },
   "outputs": [
    {
     "name": "stdout",
     "output_type": "stream",
     "text": [
      "Train  0.745147293903\n",
      "Retrain  0.745147293903\n",
      "Train  0.675464527027\n",
      "Retrain  0.681798986486\n",
      "Train  0.614969135802\n",
      "Retrain  0.640046296296\n",
      "Train  0.719777777778\n",
      "Retrain  0.745777777778\n",
      "Train  0.696414182111\n",
      "Retrain  0.705076551168\n",
      "Train  0.670608108108\n",
      "Retrain  0.648015202703\n",
      "Train  0.649924226023\n",
      "Retrain  0.685646243776\n",
      "Train  0.640831348777\n",
      "Retrain  0.66291405066\n",
      "Train  0.576158940397\n",
      "Retrain  0.546471797214\n",
      "Train  0.719439290868\n",
      "Retrain  0.756132756133\n",
      "Train  0.688978040541\n",
      "Retrain  0.673141891892\n",
      "Train  0.745366639807\n",
      "Retrain  0.722804190169\n",
      "Train  0.760675953414\n",
      "Retrain  0.724594656314\n",
      "Train  0.759637188209\n",
      "Retrain  0.794269222841\n",
      "Train  0.742888888889\n",
      "Retrain  0.734222222222\n",
      "Train  0.631088980299\n",
      "Retrain  0.637583892617\n",
      "Train  0.668496621622\n",
      "Retrain  0.648648648649\n",
      "Train  0.679035250464\n",
      "Retrain  0.729334157906\n",
      "Train  0.705868919845\n",
      "Retrain  0.733044073989\n",
      "Train  0.631724137931\n",
      "Retrain  0.654975369458\n",
      "Train  0.594287097555\n",
      "Retrain  0.635923505205\n",
      "Train  0.645124457639\n",
      "Retrain  0.622973281571\n",
      "Train  0.666810998052\n",
      "Retrain  0.68932669409\n",
      "Train  0.715160472973\n",
      "Retrain  0.70629222973\n",
      "Train  0.609977324263\n",
      "Retrain  0.597402597403\n",
      "Train  0.693656635635\n",
      "Retrain  0.713790863823\n",
      "Train  0.692326313241\n",
      "Retrain  0.680222706366\n",
      "Train  0.699300699301\n",
      "Retrain  0.743756243756\n",
      "Train  0.692586623691\n",
      "Retrain  0.680499597099\n",
      "Train  0.688978040541\n",
      "Retrain  0.704391891892\n",
      "Train  0.572851266508\n",
      "Retrain  0.613769214116\n",
      "Train  0.692141156094\n",
      "Retrain  0.694306126867\n",
      "Train  0.59911361805\n",
      "Retrain  0.675463336019\n",
      "Train  0.697986577181\n",
      "Retrain  0.732193115393\n",
      "Train  0.709037162162\n",
      "Retrain  0.759501689189\n",
      "Train  0.613610413336\n",
      "Retrain  0.577529116237\n",
      "Train  0.685213249621\n",
      "Retrain  0.708811431046\n",
      "Train  0.76785282014\n",
      "Retrain  0.778746066328\n",
      "Train  0.759077414935\n",
      "Retrain  0.809773920987\n",
      "Train  0.608669950739\n",
      "Retrain  0.64236453202\n",
      "Train  0.714698000412\n",
      "Retrain  0.700061842919\n",
      "Train  0.663111111111\n",
      "Retrain  0.708666666667\n",
      "Train  0.682514101531\n",
      "Retrain  0.664383561644\n",
      "Train  0.580869932432\n",
      "Retrain  0.544341216216\n",
      "Train  0.761558944565\n",
      "Retrain  0.755749213266\n",
      "Train  0.677153716216\n",
      "Retrain  0.637668918919\n",
      "Train  0.831555555556\n",
      "Retrain  0.794222222222\n",
      "Train  0.659017103269\n",
      "Retrain  0.683481273003\n",
      "Train  0.681379310345\n",
      "Retrain  0.733793103448\n",
      "Train  0.786739864865\n",
      "Retrain  0.788006756757\n",
      "Train  0.698206555349\n",
      "Retrain  0.701298701299\n",
      "Train  0.694666666667\n",
      "Retrain  0.702444444444\n",
      "Train  0.768131630223\n",
      "Retrain  0.714656852132\n",
      "Train  0.668222222222\n",
      "Retrain  0.679111111111\n",
      "Train  0.728222222222\n",
      "Retrain  0.707777777778\n",
      "Train  0.644222222222\n",
      "Retrain  0.650444444444\n",
      "Train  0.626689189189\n",
      "Retrain  0.594594594595\n",
      "Train  0.668119099492\n",
      "Retrain  0.719680464779\n",
      "Train  0.604096283784\n",
      "Retrain  0.585515202703\n",
      "Train  0.745399437108\n",
      "Retrain  0.764234682832\n",
      "Train  0.667503996346\n",
      "Retrain  0.699931491208\n",
      "Train  0.627499484642\n",
      "Retrain  0.691403834261\n",
      "Train  0.704814189189\n",
      "Retrain  0.699535472973\n",
      "Train  0.722539392555\n",
      "Retrain  0.756793788536\n",
      "Train  0.724823018954\n",
      "Retrain  0.760675953414\n",
      "Train  0.665540540541\n",
      "Retrain  0.683699324324\n",
      "Finished\n",
      "(180,)\n",
      "(180,)\n",
      "CPU times: user 33min 32s, sys: 27.9 s, total: 34min\n",
      "Wall time: 4min 8s\n"
     ]
    }
   ],
   "source": [
    "%time df = run_train_retrain_comparison(lgbm_clf_pipeline, X, y, X_test, y_test)"
   ]
  },
  {
   "cell_type": "code",
   "execution_count": 342,
   "metadata": {
    "collapsed": false
   },
   "outputs": [
    {
     "data": {
      "text/plain": [
       "<matplotlib.axes._subplots.AxesSubplot at 0x7f9c6b76f630>"
      ]
     },
     "execution_count": 342,
     "metadata": {},
     "output_type": "execute_result"
    },
    {
     "data": {
      "image/png": "[encoded data removed]",
      "text/plain": [
       "<matplotlib.figure.Figure at 0x7f9c6b77f400>"
      ]
     },
     "metadata": {},
     "output_type": "display_data"
    }
   ],
   "source": [
    "df.plot()"
   ]
  },
  {
   "cell_type": "code",
   "execution_count": 343,
   "metadata": {
    "collapsed": false
   },
   "outputs": [
    {
     "data": {
      "text/plain": [
       "retrain_auc    0.693316\n",
       "train_auc      0.683690\n",
       "dtype: float64"
      ]
     },
     "execution_count": 343,
     "metadata": {},
     "output_type": "execute_result"
    }
   ],
   "source": [
    "df.mean()"
   ]
  },
  {
   "cell_type": "code",
   "execution_count": 350,
   "metadata": {
    "collapsed": false
   },
   "outputs": [
    {
     "name": "stderr",
     "output_type": "stream",
     "text": [
      "/home/hoaphumanoid/anaconda3/envs/strata/lib/python3.6/site-packages/ipykernel/__main__.py:1: FutureWarning: pd.rolling_mean is deprecated for DataFrame and will be removed in a future version, replace with \n",
      "\tDataFrame.rolling(window=10,min_periods=1,center=False).mean()\n",
      "  if __name__ == '__main__':\n"
     ]
    },
    {
     "data": {
      "text/plain": [
       "<matplotlib.axes._subplots.AxesSubplot at 0x7f9c6b3b7470>"
      ]
     },
     "execution_count": 350,
     "metadata": {},
     "output_type": "execute_result"
    },
    {
     "data": {
      "image/png": "[encoded data removed]",
      "text/plain": [
       "<matplotlib.figure.Figure at 0x7f9c6b3c8080>"
      ]
     },
     "metadata": {},
     "output_type": "display_data"
    }
   ],
   "source": [
    "pd.rolling_mean(df, 10, min_periods=1).plot()"
   ]
  },
  {
   "cell_type": "code",
   "execution_count": null,
   "metadata": {
    "collapsed": true
   },
   "outputs": [],
   "source": []
  }
 ],
 "metadata": {
  "kernelspec": {
   "display_name": "Python 3",
   "language": "python",
   "name": "python3"
  },
  "language_info": {
   "codemirror_mode": {
    "name": "ipython",
    "version": 3
   },
   "file_extension": ".py",
   "mimetype": "text/x-python",
   "name": "python",
   "nbconvert_exporter": "python",
   "pygments_lexer": "ipython3",
   "version": "3.6.0"
  }
 },
 "nbformat": 4,
 "nbformat_minor": 2
}
