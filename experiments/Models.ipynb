{
 "cells": [
  {
   "cell_type": "code",
   "execution_count": 1,
   "metadata": {
    "collapsed": false
   },
   "outputs": [
    {
     "name": "stderr",
     "output_type": "stream",
     "text": [
      "/home/hoaphumanoid/anaconda3/envs/strata/lib/python3.6/site-packages/sklearn/cross_validation.py:44: DeprecationWarning: This module was deprecated in version 0.18 in favor of the model_selection module into which all the refactored classes and functions are moved. Also note that the interface of the new CV iterators are different from that of this module. This module will be removed in 0.20.\n",
      "  \"This module will be removed in 0.20.\", DeprecationWarning)\n"
     ]
    }
   ],
   "source": [
    "import pandas as pd\n",
    "from sklearn.preprocessing import StandardScaler\n",
    "\n",
    "from sklearn.pipeline import Pipeline, FeatureUnion\n",
    "\n",
    "from sklearn.model_selection import cross_val_score, cross_val_predict\n",
    "from xgboost import XGBClassifier\n",
    "import numpy as np\n",
    "import itertools\n",
    "import seaborn\n",
    "from sklearn.metrics import roc_auc_score\n",
    "from experiments.libs import loaders\n",
    "from sklearn.model_selection import StratifiedKFold\n",
    "\n",
    "from sklearn.svm import LinearSVC\n",
    "from sklearn.decomposition import PCA\n",
    "from sklearn.metrics import roc_auc_score\n",
    "from xgboost import XGBModel\n",
    "\n",
    "from lightgbm import LGBMClassifier\n",
    "\n",
    "import mne\n",
    "from scipy.io import loadmat\n",
    "\n",
    "from itertools import zip_longest\n",
    "from copy import deepcopy\n",
    "\n",
    "from matplotlib import pyplot as plt\n",
    "%matplotlib inline"
   ]
  },
  {
   "cell_type": "code",
   "execution_count": 2,
   "metadata": {
    "collapsed": true
   },
   "outputs": [],
   "source": [
    "filepath = '/fileshare/BCI_Comp_III_Wads_2004/Subject_A_Train.mat'\n",
    "srate = 240 # Hz\n",
    "# Filtered 0.1 - 60Hz"
   ]
  },
  {
   "cell_type": "code",
   "execution_count": 3,
   "metadata": {
    "collapsed": true
   },
   "outputs": [],
   "source": [
    "def create_event_frame(flash_series, stimtype_series):\n",
    "    diff_seq = flash_series.diff()\n",
    "    # First event will be missing so fill with 1\n",
    "    return pd.DataFrame({'flash_onset':diff_seq.fillna(1), \n",
    "                         'stim_type': stimtype_series})"
   ]
  },
  {
   "cell_type": "code",
   "execution_count": 4,
   "metadata": {
    "collapsed": true
   },
   "outputs": [],
   "source": [
    "def epoch_generator(eeg_data, event_df, duration=0.8, srate=240):\n",
    "    \"\"\" Yields epoch as well as classification label\n",
    "    \"\"\"\n",
    "    offset = int(np.round(duration * srate))\n",
    "    for idx in event_df[event_df['flash_onset']==1].index:\n",
    "        data = eeg_data[idx:idx+offset, :] - eeg_data[idx, :] # Removing offset\n",
    "        yield data, event_df['stim_type'].at[idx]"
   ]
  },
  {
   "cell_type": "code",
   "execution_count": 5,
   "metadata": {
    "collapsed": true
   },
   "outputs": [],
   "source": [
    "def dataset_epoch_generator(filename, srate=240):\n",
    "    dataset_dict = loadmat(filename)\n",
    "    num_runs = dataset_dict['Flashing'].shape[0]\n",
    "    \n",
    "    for run in range(num_runs):\n",
    "        eeg_array = dataset_dict['Signal'][run,:,:]\n",
    "        flash_series = pd.Series(dataset_dict['Flashing'][run, :])\n",
    "        stimtype_series = pd.Series(dataset_dict['StimulusType'][run, :])\n",
    "        event_df = create_event_frame(flash_series, stimtype_series)\n",
    "        # Transforming from time by channel to channel by time\n",
    "        eeg_array = mne.filter.filter_data(eeg_array.astype(np.float64).T, srate, None, 18, verbose=False).T\n",
    "        for epoch in epoch_generator(eeg_array, event_df, duration=0.8, srate=srate):\n",
    "            yield epoch"
   ]
  },
  {
   "cell_type": "code",
   "execution_count": 6,
   "metadata": {
    "collapsed": true
   },
   "outputs": [],
   "source": [
    "egen = dataset_epoch_generator(filepath, srate=srate)\n",
    "data_list = list(egen)"
   ]
  },
  {
   "cell_type": "code",
   "execution_count": 7,
   "metadata": {
    "collapsed": false
   },
   "outputs": [
    {
     "data": {
      "text/plain": [
       "15300"
      ]
     },
     "execution_count": 7,
     "metadata": {},
     "output_type": "execute_result"
    }
   ],
   "source": [
    "len(data_list)"
   ]
  },
  {
   "cell_type": "code",
   "execution_count": 8,
   "metadata": {
    "collapsed": false
   },
   "outputs": [],
   "source": [
    "X = np.array([d[0][::6].ravel() for d in data_list])"
   ]
  },
  {
   "cell_type": "code",
   "execution_count": 9,
   "metadata": {
    "collapsed": true
   },
   "outputs": [],
   "source": [
    "y = np.array([d[1] for d in data_list])"
   ]
  },
  {
   "cell_type": "code",
   "execution_count": 10,
   "metadata": {
    "collapsed": false
   },
   "outputs": [
    {
     "data": {
      "text/plain": [
       "(15300, 2048)"
      ]
     },
     "execution_count": 10,
     "metadata": {},
     "output_type": "execute_result"
    }
   ],
   "source": [
    "X.shape"
   ]
  },
  {
   "cell_type": "code",
   "execution_count": 11,
   "metadata": {
    "collapsed": false
   },
   "outputs": [
    {
     "data": {
      "text/plain": [
       "(15300,)"
      ]
     },
     "execution_count": 11,
     "metadata": {},
     "output_type": "execute_result"
    }
   ],
   "source": [
    "y.shape"
   ]
  },
  {
   "cell_type": "code",
   "execution_count": 42,
   "metadata": {
    "collapsed": false
   },
   "outputs": [],
   "source": [
    "pipeline_steps = [('scale', StandardScaler())]\n",
    "continuous_pipeline = Pipeline(steps=pipeline_steps)"
   ]
  },
  {
   "cell_type": "code",
   "execution_count": 43,
   "metadata": {
    "collapsed": false
   },
   "outputs": [],
   "source": [
    "featurisers = [('continuous', continuous_pipeline)]"
   ]
  },
  {
   "cell_type": "code",
   "execution_count": 92,
   "metadata": {
    "collapsed": false
   },
   "outputs": [],
   "source": [
    "xgb_clf_pipeline = Pipeline(steps=[('features', FeatureUnion(featurisers)),\n",
    "                                          ('clf', XGBClassifier(max_depth=2, \n",
    "                                                                learning_rate=0.1, \n",
    "                                                                scale_pos_weight=2,\n",
    "                                                                n_estimators=100,\n",
    "                                                                gamma=0.1,\n",
    "                                                                subsample=1))]) "
   ]
  },
  {
   "cell_type": "code",
   "execution_count": 93,
   "metadata": {
    "collapsed": true
   },
   "outputs": [],
   "source": [
    "lgbm_clf_pipeline = Pipeline(steps=[('features', FeatureUnion(featurisers)),\n",
    "                                          ('clf', LGBMClassifier(num_leaves=2**2,\n",
    "                                                                learning_rate=0.1, \n",
    "                                                                scale_pos_weight=2,\n",
    "                                                                n_estimators=100,\n",
    "                                                                subsample=1))]) "
   ]
  },
  {
   "cell_type": "code",
   "execution_count": 94,
   "metadata": {
    "collapsed": false
   },
   "outputs": [],
   "source": [
    "letters = 'ABCDEFGHIJKLMNOPQRSTUVWXYZ123456789_'\n",
    "stim_code_translation_dict = dict((l, (i%6+1, int(np.floor(i/6)+7)) ) for i, l in enumerate(letters))"
   ]
  },
  {
   "cell_type": "code",
   "execution_count": 95,
   "metadata": {
    "collapsed": true
   },
   "outputs": [],
   "source": [
    "def event_frame_from(stim_code, target_letter, stim_code_translation_dict):\n",
    "    diff_seq = stim_code.diff()\n",
    "    diff_seq = diff_seq.fillna(stim_code)\n",
    "    \n",
    "    target_codes = stim_code_translation_dict[target_letter]\n",
    "    target_index = diff_seq[diff_seq.isin(target_codes)].index\n",
    "    stimtype_series = pd.Series(0, index=stim_code.index)\n",
    "    stimtype_series[target_index]=1\n",
    "    diff_seq = (diff_seq/diff_seq.abs()).fillna(0)\n",
    "    \n",
    "    return pd.DataFrame({'flash_onset':diff_seq, \n",
    "                         'stim_type': stimtype_series})"
   ]
  },
  {
   "cell_type": "code",
   "execution_count": 96,
   "metadata": {
    "collapsed": true
   },
   "outputs": [],
   "source": [
    "test_filename = '/fileshare/BCI_Comp_III_Wads_2004/Subject_A_Test.mat'\n",
    "labels_filename = '/fileshare/BCI_Comp_III_Wads_2004/true_labels_a.txt'"
   ]
  },
  {
   "cell_type": "code",
   "execution_count": 97,
   "metadata": {
    "collapsed": true
   },
   "outputs": [],
   "source": [
    "def read_labels(filename):\n",
    "    return open(filename).readline().strip()"
   ]
  },
  {
   "cell_type": "code",
   "execution_count": 98,
   "metadata": {
    "collapsed": true
   },
   "outputs": [],
   "source": [
    "def test_dataset_epoch_generator(data_filename, labels_filename, stim_code_translation_dict, srate=240):\n",
    "    dataset_dict = loadmat(data_filename)\n",
    "    labels = read_labels(labels_filename)\n",
    "    \n",
    "    for run, target in enumerate(labels):\n",
    "        eeg_array = dataset_dict['Signal'][run,:,:]\n",
    "        stimcode_series = pd.Series(dataset_dict['StimulusCode'][run, :])\n",
    "        \n",
    "        event_df = event_frame_from(stimcode_series, target, stim_code_translation_dict)\n",
    "        \n",
    "        # Transforming from time by channel to channel by time\n",
    "        eeg_array = mne.filter.filter_data(eeg_array.astype(np.float64).T, srate, None, 18, verbose=False).T\n",
    "        for epoch in epoch_generator(eeg_array, event_df, duration=0.8, srate=srate):\n",
    "            yield epoch"
   ]
  },
  {
   "cell_type": "code",
   "execution_count": 99,
   "metadata": {
    "collapsed": true
   },
   "outputs": [],
   "source": [
    "data_gen = test_dataset_epoch_generator(test_filename, labels_filename, stim_code_translation_dict)"
   ]
  },
  {
   "cell_type": "code",
   "execution_count": 100,
   "metadata": {
    "collapsed": true
   },
   "outputs": [],
   "source": [
    "data_list = list(data_gen)"
   ]
  },
  {
   "cell_type": "code",
   "execution_count": 101,
   "metadata": {
    "collapsed": true
   },
   "outputs": [],
   "source": [
    "X_test = np.array([d[0][::6].ravel() for d in data_list])"
   ]
  },
  {
   "cell_type": "code",
   "execution_count": 102,
   "metadata": {
    "collapsed": true
   },
   "outputs": [],
   "source": [
    "y_test = np.array([d[1] for d in data_list])"
   ]
  },
  {
   "cell_type": "code",
   "execution_count": 103,
   "metadata": {
    "collapsed": false
   },
   "outputs": [
    {
     "data": {
      "text/plain": [
       "(18000, 2048)"
      ]
     },
     "execution_count": 103,
     "metadata": {},
     "output_type": "execute_result"
    }
   ],
   "source": [
    "X_test.shape"
   ]
  },
  {
   "cell_type": "code",
   "execution_count": 104,
   "metadata": {
    "collapsed": false
   },
   "outputs": [
    {
     "name": "stdout",
     "output_type": "stream",
     "text": [
      "CPU times: user 2min 23s, sys: 11.3 s, total: 2min 35s\n",
      "Wall time: 8.63 s\n"
     ]
    },
    {
     "data": {
      "text/plain": [
       "Pipeline(steps=[('features', FeatureUnion(n_jobs=1,\n",
       "       transformer_list=[('continuous', Pipeline(steps=[('scale', StandardScaler(copy=True, with_mean=True, with_std=True))]))],\n",
       "       transformer_weights=None)), ('clf', XGBClassifier(base_score=0.5, colsample_bylevel=1, colsample_bytree=1,\n",
       "       gamma=0...logistic', reg_alpha=0, reg_lambda=1,\n",
       "       scale_pos_weight=2, seed=0, silent=True, subsample=1))])"
      ]
     },
     "execution_count": 104,
     "metadata": {},
     "output_type": "execute_result"
    }
   ],
   "source": [
    "%%time\n",
    "xgb_clf_pipeline.fit(X, y)"
   ]
  },
  {
   "cell_type": "code",
   "execution_count": 105,
   "metadata": {
    "collapsed": false
   },
   "outputs": [
    {
     "data": {
      "text/plain": [
       "0.66727786666666666"
      ]
     },
     "execution_count": 105,
     "metadata": {},
     "output_type": "execute_result"
    }
   ],
   "source": [
    "y_pred = xgb_clf_pipeline.predict_proba(X_test)\n",
    "roc_auc_score(y_test, y_pred[:, 1])"
   ]
  },
  {
   "cell_type": "code",
   "execution_count": 106,
   "metadata": {
    "collapsed": false
   },
   "outputs": [
    {
     "name": "stdout",
     "output_type": "stream",
     "text": [
      "CPU times: user 24.6 s, sys: 3.88 s, total: 28.5 s\n",
      "Wall time: 3.41 s\n"
     ]
    },
    {
     "data": {
      "text/plain": [
       "Pipeline(steps=[('features', FeatureUnion(n_jobs=1,\n",
       "       transformer_list=[('continuous', Pipeline(steps=[('scale', StandardScaler(copy=True, with_mean=True, with_std=True))]))],\n",
       "       transformer_weights=None)), ('clf', LGBMClassifier(boosting_type='gbdt', colsample_bytree=1, drop_rate=0.1,\n",
       "        is_un...   subsample_for_bin=50000, subsample_freq=1, uniform_drop=False,\n",
       "        xgboost_dart_mode=False))])"
      ]
     },
     "execution_count": 106,
     "metadata": {},
     "output_type": "execute_result"
    }
   ],
   "source": [
    "%%time\n",
    "lgbm_clf_pipeline.fit(X, y)"
   ]
  },
  {
   "cell_type": "code",
   "execution_count": 107,
   "metadata": {
    "collapsed": false
   },
   "outputs": [
    {
     "data": {
      "text/plain": [
       "0.66764502222222222"
      ]
     },
     "execution_count": 107,
     "metadata": {},
     "output_type": "execute_result"
    }
   ],
   "source": [
    "y_pred = lgbm_clf_pipeline.predict_proba(X_test)\n",
    "roc_auc_score(y_test, y_pred[:, 1])"
   ]
  },
  {
   "cell_type": "code",
   "execution_count": 62,
   "metadata": {
    "collapsed": true
   },
   "outputs": [],
   "source": [
    "def grouper(iterable, n, fillvalue=None):\n",
    "    \"Collect data into fixed-length chunks or blocks\"\n",
    "    # grouper('ABCDEFG', 3, 'x') --> ABC DEF Gxx\n",
    "    args = [iter(iterable)] * n\n",
    "    return zip_longest(fillvalue=fillvalue, *args)"
   ]
  },
  {
   "cell_type": "code",
   "execution_count": 64,
   "metadata": {
    "collapsed": true
   },
   "outputs": [],
   "source": []
  },
  {
   "cell_type": "code",
   "execution_count": 65,
   "metadata": {
    "collapsed": false
   },
   "outputs": [],
   "source": [
    "a=grouper(X, 15*12)"
   ]
  },
  {
   "cell_type": "code",
   "execution_count": 74,
   "metadata": {
    "collapsed": false
   },
   "outputs": [
    {
     "data": {
      "text/plain": [
       "(180, 2048)"
      ]
     },
     "execution_count": 74,
     "metadata": {},
     "output_type": "execute_result"
    }
   ],
   "source": [
    "np.array(next(a)).shape"
   ]
  },
  {
   "cell_type": "code",
   "execution_count": 75,
   "metadata": {
    "collapsed": true
   },
   "outputs": [],
   "source": []
  },
  {
   "cell_type": "code",
   "execution_count": 112,
   "metadata": {
    "collapsed": false
   },
   "outputs": [
    {
     "data": {
      "text/plain": [
       "Pipeline(steps=[('features', FeatureUnion(n_jobs=1,\n",
       "       transformer_list=[('continuous', Pipeline(steps=[('scale', StandardScaler(copy=True, with_mean=True, with_std=True))]))],\n",
       "       transformer_weights=None)), ('clf', XGBClassifier(base_score=0.5, colsample_bylevel=1, colsample_bytree=1,\n",
       "       gamma=0...logistic', reg_alpha=0, reg_lambda=1,\n",
       "       scale_pos_weight=2, seed=0, silent=True, subsample=1))])"
      ]
     },
     "execution_count": 112,
     "metadata": {},
     "output_type": "execute_result"
    }
   ],
   "source": [
    "xgb_clf_pipeline.fit(X,y)"
   ]
  },
  {
   "cell_type": "code",
   "execution_count": 113,
   "metadata": {
    "collapsed": false
   },
   "outputs": [],
   "source": [
    "def run_train_retrain_comparison(model, X, y, X_test, y_test):\n",
    "    retrain_model = deepcopy(model)\n",
    "    historical_X = [X]\n",
    "    historical_y = [y]\n",
    "    train_auc=[]\n",
    "    retrain_auc=[]\n",
    "    for X_chunk, y_chunk in  zip(grouper(X_test, 15*12), grouper(y_test, 15*12)):\n",
    "        X_chunk_array = np.array(X_chunk)\n",
    "        y_chunk_array = np.array(y_chunk)\n",
    "\n",
    "        y_pred = model.predict_proba(X_chunk_array)\n",
    "        train_auc.append(roc_auc_score(y_chunk_array, y_pred[:, 1]))\n",
    "        print('Train ', train_auc[-1])\n",
    "\n",
    "        y_pred = retrain_model.predict_proba(X_chunk_array)\n",
    "        retrain_auc.append(roc_auc_score(y_chunk_array, y_pred[:, 1]))\n",
    "        print('Retrain ', retrain_auc[-1])\n",
    "\n",
    "        historical_X.append(X_chunk_array)\n",
    "        historical_y.append(y_chunk_array)\n",
    "\n",
    "        new_train_X  = np.concatenate(historical_X)\n",
    "        retrain_model.fit(new_train_X, np.concatenate(historical_y))\n",
    "        \n",
    "    return pd.DataFrame({\n",
    "        'train_auc':train_auc,\n",
    "        'retrain_auc':retrain_auc\n",
    "    })"
   ]
  },
  {
   "cell_type": "code",
   "execution_count": null,
   "metadata": {
    "collapsed": false
   },
   "outputs": [
    {
     "name": "stdout",
     "output_type": "stream",
     "text": [
      "Train  0.733777777778\n",
      "Retrain  0.733777777778\n",
      "Train  0.670444444444\n",
      "Retrain  0.668666666667\n",
      "Train  0.648888888889\n",
      "Retrain  0.644\n",
      "Train  0.624444444444\n",
      "Retrain  0.629555555556\n",
      "Train  0.701777777778\n",
      "Retrain  0.702666666667\n",
      "Train  0.656222222222\n",
      "Retrain  0.624666666667\n",
      "Train  0.578\n",
      "Retrain  0.596888888889\n",
      "Train  0.678\n",
      "Retrain  0.681555555556\n",
      "Train  0.719777777778\n",
      "Retrain  0.673555555556\n",
      "Train  0.649333333333\n",
      "Retrain  0.646222222222\n",
      "Train  0.582444444444\n",
      "Retrain  0.587777777778\n",
      "Train  0.636888888889\n",
      "Retrain  0.620888888889\n",
      "Train  0.492666666667\n",
      "Retrain  0.508888888889\n",
      "Train  0.673777777778\n",
      "Retrain  0.650444444444\n",
      "Train  0.658222222222\n",
      "Retrain  0.697777777778\n",
      "Train  0.711333333333\n",
      "Retrain  0.698\n",
      "Train  0.606222222222\n",
      "Retrain  0.621777777778\n",
      "Train  0.764444444444\n",
      "Retrain  0.780444444444\n",
      "Train  0.719333333333\n",
      "Retrain  0.705333333333\n",
      "Train  0.753111111111\n",
      "Retrain  0.713555555556\n",
      "Train  0.718666666667\n",
      "Retrain  0.739333333333\n",
      "Train  0.661111111111\n",
      "Retrain  0.728222222222\n",
      "Train  0.675555555556\n",
      "Retrain  0.706666666667\n",
      "Train  0.493777777778\n",
      "Retrain  0.485333333333\n",
      "Train  0.715111111111\n",
      "Retrain  0.709555555556\n",
      "Train  0.702\n",
      "Retrain  0.702666666667\n",
      "Train  0.654222222222\n",
      "Retrain  0.634222222222\n",
      "Train  0.642\n",
      "Retrain  0.620222222222\n",
      "Train  0.658666666667\n",
      "Retrain  0.652888888889\n",
      "Train  0.721333333333\n",
      "Retrain  0.706666666667\n",
      "Train  0.514\n",
      "Retrain  0.544666666667\n",
      "Train  0.682222222222\n",
      "Retrain  0.684888888889\n",
      "Train  0.643111111111\n",
      "Retrain  0.681777777778\n",
      "Train  0.776\n",
      "Retrain  0.736222222222\n",
      "Train  0.719555555556\n",
      "Retrain  0.708444444444\n",
      "Train  0.646\n",
      "Retrain  0.670888888889\n",
      "Train  0.71\n",
      "Retrain  0.688666666667\n",
      "Train  0.698666666667\n",
      "Retrain  0.68\n",
      "Train  0.639111111111\n",
      "Retrain  0.644\n",
      "Train  0.594888888889\n",
      "Retrain  0.638222222222\n",
      "Train  0.623555555556\n",
      "Retrain  0.583777777778\n",
      "Train  0.603111111111\n",
      "Retrain  0.647333333333\n",
      "Train  0.686222222222\n",
      "Retrain  0.661333333333\n",
      "Train  0.566666666667\n",
      "Retrain  0.570888888889\n",
      "Train  0.672444444444\n",
      "Retrain  0.669111111111\n",
      "Train  0.747333333333\n",
      "Retrain  0.731555555556\n",
      "Train  0.679333333333\n",
      "Retrain  0.694666666667\n",
      "Train  0.582666666667\n",
      "Retrain  0.649555555556\n",
      "Train  0.829111111111\n",
      "Retrain  0.795555555556\n",
      "CPU times: user 7h 10min 23s, sys: 8min 50s, total: 7h 19min 14s\n",
      "Wall time: 24min 21s\n"
     ]
    }
   ],
   "source": [
    "%time df = run_train_retrain_comparison(xgb_clf_pipeline, X, y, X_test, y_test)"
   ]
  },
  {
   "cell_type": "code",
   "execution_count": null,
   "metadata": {
    "collapsed": false
   },
   "outputs": [
    {
     "data": {
      "text/plain": [
       "<matplotlib.axes._subplots.AxesSubplot at 0x7f9c66340470>"
      ]
     },
     "execution_count": 115,
     "metadata": {},
     "output_type": "execute_result"
    },
    {
     "data": {
      "image/png": "[encoded data removed]",
      "text/plain": [
       "<matplotlib.figure.Figure at 0x7f9c6632d208>"
      ]
     },
     "metadata": {},
     "output_type": "display_data"
    }
   ],
   "source": [
    "df.plot()"
   ]
  },
  {
   "cell_type": "code",
   "execution_count": null,
   "metadata": {
    "collapsed": false
   },
   "outputs": [
    {
     "data": {
      "text/plain": [
       "retrain_auc    0.670507\n",
       "train_auc      0.666556\n",
       "dtype: float64"
      ]
     },
     "execution_count": 116,
     "metadata": {},
     "output_type": "execute_result"
    }
   ],
   "source": [
    "df.mean()"
   ]
  },
  {
   "cell_type": "code",
   "execution_count": null,
   "metadata": {
    "collapsed": false
   },
   "outputs": [
    {
     "name": "stderr",
     "output_type": "stream",
     "text": [
      "/home/hoaphumanoid/anaconda3/envs/strata/lib/python3.6/site-packages/ipykernel/__main__.py:1: FutureWarning: pd.rolling_mean is deprecated for DataFrame and will be removed in a future version, replace with \n",
      "\tDataFrame.rolling(window=10,center=False).mean()\n",
      "  if __name__ == '__main__':\n"
     ]
    },
    {
     "data": {
      "text/plain": [
       "<matplotlib.axes._subplots.AxesSubplot at 0x7f9c66391860>"
      ]
     },
     "execution_count": 117,
     "metadata": {},
     "output_type": "execute_result"
    },
    {
     "data": {
      "image/png": "[encoded data removed]",
      "text/plain": [
       "<matplotlib.figure.Figure at 0x7f9c663aba58>"
      ]
     },
     "metadata": {},
     "output_type": "display_data"
    }
   ],
   "source": [
    "pd.rolling_mean(df, 10).plot()"
   ]
  },
  {
   "cell_type": "code",
   "execution_count": null,
   "metadata": {
    "collapsed": false
   },
   "outputs": [
    {
     "name": "stdout",
     "output_type": "stream",
     "text": [
      "Train  0.752444444444\n",
      "Retrain  0.752444444444\n",
      "Train  0.651333333333\n",
      "Retrain  0.654888888889\n",
      "Train  0.624666666667\n",
      "Retrain  0.646888888889\n",
      "Train  0.654444444444\n",
      "Retrain  0.618888888889\n",
      "Train  0.663111111111\n",
      "Retrain  0.682666666667\n",
      "Train  0.665111111111\n",
      "Retrain  0.633111111111\n",
      "Train  0.596888888889\n",
      "Retrain  0.597333333333\n",
      "Train  0.659777777778\n",
      "Retrain  0.679333333333\n",
      "Train  0.715111111111\n",
      "Retrain  0.664888888889\n",
      "Train  0.682444444444\n",
      "Retrain  0.659555555556\n",
      "Train  0.557777777778\n",
      "Retrain  0.602\n",
      "Train  0.652444444444\n",
      "Retrain  0.647333333333\n",
      "Train  0.506888888889\n",
      "Retrain  0.510666666667\n",
      "Train  0.685555555556\n",
      "Retrain  0.670222222222\n",
      "Train  0.672444444444\n",
      "Retrain  0.701777777778\n",
      "Train  0.721111111111\n",
      "Retrain  0.711333333333\n",
      "Train  0.602444444444\n",
      "Retrain  0.644888888889\n",
      "Train  0.781111111111\n",
      "Retrain  0.763555555556\n",
      "Train  0.714888888889\n",
      "Retrain  0.717333333333\n",
      "Train  0.758666666667\n",
      "Retrain  0.737333333333\n",
      "Train  0.728666666667\n",
      "Retrain  0.726222222222\n",
      "Train  0.638444444444\n",
      "Retrain  0.706444444444\n",
      "Train  0.706444444444\n",
      "Retrain  0.681555555556\n",
      "Train  0.494888888889\n",
      "Retrain  0.483777777778\n",
      "Train  0.688888888889\n",
      "Retrain  0.706\n",
      "Train  0.706\n",
      "Retrain  0.699333333333\n",
      "Train  0.665555555556\n",
      "Retrain  0.655555555556\n",
      "Train  0.625333333333\n",
      "Retrain  0.640666666667\n",
      "Train  0.651555555556\n",
      "Retrain  0.652444444444\n",
      "Train  0.696888888889\n",
      "Retrain  0.672222222222\n",
      "Train  0.517111111111\n",
      "Retrain  0.528222222222\n",
      "Train  0.663333333333\n",
      "Retrain  0.681333333333\n",
      "Train  0.614444444444\n",
      "Retrain  0.654222222222\n",
      "Train  0.659111111111\n",
      "Retrain  0.646222222222\n",
      "Train  0.709333333333\n",
      "Retrain  0.732666666667\n",
      "Train  0.625111111111\n",
      "Retrain  0.610222222222\n",
      "Train  0.649333333333\n",
      "Retrain  0.642666666667\n",
      "Train  0.739777777778\n",
      "Retrain  0.776444444444\n",
      "Train  0.563333333333\n",
      "Retrain  0.563555555556\n",
      "Train  0.571777777778\n",
      "Retrain  0.533777777778\n",
      "Train  0.757111111111\n",
      "Retrain  0.728222222222\n",
      "Train  0.76\n",
      "Retrain  0.741111111111\n",
      "Train  0.633111111111\n",
      "Retrain  0.632\n",
      "Train  0.685555555556\n",
      "Retrain  0.760888888889\n",
      "Train  0.675555555556\n",
      "Retrain  0.729111111111\n",
      "Train  0.621777777778\n",
      "Retrain  0.603111111111\n",
      "Train  0.702222222222\n",
      "Retrain  0.711333333333\n",
      "Train  0.646666666667\n",
      "Retrain  0.688444444444\n",
      "Train  0.657555555556\n",
      "Retrain  0.676\n",
      "Train  0.717111111111\n",
      "Retrain  0.721111111111\n",
      "Train  0.765555555556\n",
      "Retrain  0.774\n",
      "Train  0.551777777778\n",
      "Retrain  0.502\n",
      "Train  0.735333333333\n",
      "Retrain  0.769111111111\n",
      "Train  0.701777777778\n",
      "Retrain  0.765333333333\n",
      "Train  0.578666666667\n",
      "Retrain  0.543111111111\n",
      "Train  0.790222222222\n",
      "Retrain  0.791555555556\n",
      "Train  0.616444444444\n",
      "Retrain  0.645111111111\n",
      "Train  0.686888888889\n",
      "Retrain  0.614444444444\n",
      "Train  0.751333333333\n",
      "Retrain  0.793111111111\n",
      "Train  0.728666666667\n",
      "Retrain  0.703555555556\n",
      "Train  0.711333333333\n",
      "Retrain  0.684444444444\n",
      "Train  0.709777777778\n",
      "Retrain  0.734666666667\n",
      "Train  0.653555555556\n",
      "Retrain  0.676888888889\n",
      "Train  0.743333333333\n",
      "Retrain  0.725555555556\n",
      "Train  0.706\n",
      "Retrain  0.727555555556\n",
      "Train  0.658888888889\n",
      "Retrain  0.687777777778\n",
      "Train  0.655111111111\n",
      "Retrain  0.690666666667\n",
      "Train  0.702\n",
      "Retrain  0.695555555556\n",
      "Train  0.659111111111\n",
      "Retrain  0.658\n",
      "Train  0.591777777778\n",
      "Retrain  0.608444444444\n",
      "Train  0.608\n",
      "Retrain  0.613111111111\n",
      "Train  0.639333333333\n",
      "Retrain  0.664444444444\n",
      "Train  0.668444444444\n",
      "Retrain  0.676444444444\n",
      "Train  0.577111111111\n",
      "Retrain  0.558\n",
      "Train  0.660222222222\n",
      "Retrain  0.657111111111\n",
      "Train  0.731111111111\n",
      "Retrain  0.738888888889\n",
      "Train  0.662666666667\n",
      "Retrain  0.700888888889\n",
      "Train  0.612888888889\n",
      "Retrain  0.644\n",
      "Train  0.615555555556\n",
      "Retrain  0.595333333333\n",
      "Train  0.696\n",
      "Retrain  0.729111111111\n",
      "Train  0.643111111111\n",
      "Retrain  0.620444444444\n",
      "Train  0.683555555556\n",
      "Retrain  0.763777777778\n",
      "Train  0.672666666667\n",
      "Retrain  0.698888888889\n",
      "Train  0.699777777778\n",
      "Retrain  0.731777777778\n",
      "Train  0.707555555556\n",
      "Retrain  0.712888888889\n",
      "Train  0.826444444444\n",
      "Retrain  0.784666666667\n",
      "CPU times: user 1h 10min 36s, sys: 1min 44s, total: 1h 12min 21s\n",
      "Wall time: 9min 17s\n"
     ]
    }
   ],
   "source": [
    "%time df = run_train_retrain_comparison(lgbm_clf_pipeline, X, y, X_test, y_test)"
   ]
  },
  {
   "cell_type": "code",
   "execution_count": 119,
   "metadata": {
    "collapsed": false
   },
   "outputs": [
    {
     "data": {
      "text/plain": [
       "<matplotlib.axes._subplots.AxesSubplot at 0x7f9c93f4c160>"
      ]
     },
     "execution_count": 119,
     "metadata": {},
     "output_type": "execute_result"
    },
    {
     "data": {
      "image/png": "[encoded data removed]",
      "text/plain": [
       "<matplotlib.figure.Figure at 0x7f9c6c3e1fd0>"
      ]
     },
     "metadata": {},
     "output_type": "display_data"
    }
   ],
   "source": [
    "df.plot()"
   ]
  },
  {
   "cell_type": "code",
   "execution_count": 120,
   "metadata": {
    "collapsed": false
   },
   "outputs": [
    {
     "data": {
      "text/plain": [
       "retrain_auc    0.673169\n",
       "train_auc      0.666938\n",
       "dtype: float64"
      ]
     },
     "execution_count": 120,
     "metadata": {},
     "output_type": "execute_result"
    }
   ],
   "source": [
    "df.mean()"
   ]
  },
  {
   "cell_type": "code",
   "execution_count": 121,
   "metadata": {
    "collapsed": false
   },
   "outputs": [
    {
     "name": "stderr",
     "output_type": "stream",
     "text": [
      "/home/hoaphumanoid/anaconda3/envs/strata/lib/python3.6/site-packages/ipykernel/__main__.py:1: FutureWarning: pd.rolling_mean is deprecated for DataFrame and will be removed in a future version, replace with \n",
      "\tDataFrame.rolling(window=10,center=False).mean()\n",
      "  if __name__ == '__main__':\n"
     ]
    },
    {
     "data": {
      "text/plain": [
       "<matplotlib.axes._subplots.AxesSubplot at 0x7f9c6c353dd8>"
      ]
     },
     "execution_count": 121,
     "metadata": {},
     "output_type": "execute_result"
    },
    {
     "data": {
      "image/png": "[encoded data removed]",
      "text/plain": [
       "<matplotlib.figure.Figure at 0x7f9c6c343cf8>"
      ]
     },
     "metadata": {},
     "output_type": "display_data"
    }
   ],
   "source": [
    "pd.rolling_mean(df, 10).plot()"
   ]
  },
  {
   "cell_type": "code",
   "execution_count": null,
   "metadata": {
    "collapsed": true
   },
   "outputs": [],
   "source": []
  }
 ],
 "metadata": {
  "kernelspec": {
   "display_name": "Python 3",
   "language": "python",
   "name": "python3"
  },
  "language_info": {
   "codemirror_mode": {
    "name": "ipython",
    "version": 3
   },
   "file_extension": ".py",
   "mimetype": "text/x-python",
   "name": "python",
   "nbconvert_exporter": "python",
   "pygments_lexer": "ipython3",
   "version": "3.6.0"
  }
 },
 "nbformat": 4,
 "nbformat_minor": 2
}
