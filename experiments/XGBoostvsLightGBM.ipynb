{
 "cells": [
  {
   "cell_type": "markdown",
   "metadata": {
    "deletable": true,
    "editable": true
   },
   "source": [
    "# XGBoost vs LightGBM\n",
    "\n",
    "In this notebook we collect the results from all the experiments and reports the comparative difference between XGBoost and LightGBM"
   ]
  },
  {
   "cell_type": "code",
   "execution_count": 1,
   "metadata": {
    "collapsed": false,
    "deletable": true,
    "editable": true
   },
   "outputs": [],
   "source": [
    "import matplotlib.pyplot as plt\n",
    "import nbformat\n",
    "import json\n",
    "from toolz import pipe, juxt\n",
    "import pandas as pd\n",
    "import seaborn\n",
    "%matplotlib inline "
   ]
  },
  {
   "cell_type": "markdown",
   "metadata": {
    "deletable": true,
    "editable": true
   },
   "source": [
    "We are going to read the results from the following notebooks"
   ]
  },
  {
   "cell_type": "code",
   "execution_count": 2,
   "metadata": {
    "collapsed": false,
    "deletable": true,
    "editable": true
   },
   "outputs": [],
   "source": [
    "notebooks = {\n",
    "    'Airline':'01_airline.ipynb',\n",
    "    'BCI': '02_BCI.ipynb',\n",
    "    'Football': '03_football.ipynb',\n",
    "    'Amazon': '04_PlanetKaggle.ipynb',\n",
    "    'Fraud': '05_FraudDetection.ipynb'\n",
    "}"
   ]
  },
  {
   "cell_type": "code",
   "execution_count": 3,
   "metadata": {
    "collapsed": true,
    "deletable": true,
    "editable": true
   },
   "outputs": [],
   "source": [
    "def read_notebook(notebook_name):\n",
    "    with open(notebook_name) as f:\n",
    "        return nbformat.read(f, as_version=4)"
   ]
  },
  {
   "cell_type": "code",
   "execution_count": 4,
   "metadata": {
    "collapsed": false,
    "deletable": true,
    "editable": true
   },
   "outputs": [],
   "source": [
    "def results_cell_from(nb):\n",
    "    for cell in nb.cells:\n",
    "        if cell['cell_type']=='code' and cell['source'].startswith('# Results'):\n",
    "            return cell"
   ]
  },
  {
   "cell_type": "code",
   "execution_count": 5,
   "metadata": {
    "collapsed": true,
    "deletable": true,
    "editable": true
   },
   "outputs": [],
   "source": [
    "def extract_results_from(cell):\n",
    "    return json.loads(cell['outputs'][0]['text'])"
   ]
  },
  {
   "cell_type": "code",
   "execution_count": 6,
   "metadata": {
    "collapsed": true,
    "deletable": true,
    "editable": true
   },
   "outputs": [],
   "source": [
    "def process_nb(notebook_name):\n",
    "    return pipe(notebook_name,\n",
    "                read_notebook,\n",
    "                results_cell_from,\n",
    "                extract_results_from)"
   ]
  },
  {
   "cell_type": "markdown",
   "metadata": {
    "deletable": true,
    "editable": true
   },
   "source": [
    "Here we collect the results from all the exeperiment notebooks. The method simply searches the notebooks for a cell that starts with # Results. It then reads that cells output in as JSON."
   ]
  },
  {
   "cell_type": "code",
   "execution_count": 7,
   "metadata": {
    "collapsed": false,
    "deletable": true,
    "editable": true
   },
   "outputs": [],
   "source": [
    "results = {nb_key:process_nb(nb_name) for nb_key, nb_name in notebooks.items()}"
   ]
  },
  {
   "cell_type": "code",
   "execution_count": 8,
   "metadata": {
    "collapsed": false,
    "deletable": true,
    "editable": true
   },
   "outputs": [
    {
     "data": {
      "text/plain": [
       "{'Airline': {'lgbm': {'performance': {'AUC': 0.8088160716256416,\n",
       "    'Accuracy': 0.7354925330901402,\n",
       "    'F1': 0.694115515892009,\n",
       "    'Precision': 0.7693890650454324,\n",
       "    'Recall': 0.632258228111837},\n",
       "   'test_time': 311.9520166418515,\n",
       "   'train_time': 638.1008581512142},\n",
       "  'xgb': {'performance': {'AUC': 0.7868185915163691,\n",
       "    'Accuracy': 0.7157961369619729,\n",
       "    'F1': 0.6743572892332877,\n",
       "    'Precision': 0.7392243023675803,\n",
       "    'Recall': 0.6199560759698425},\n",
       "   'test_time': 11.566430455073714,\n",
       "   'train_time': 4280.392433728091}},\n",
       " 'Amazon': {'lgbm': {'performance': {'Accuracy': 0.6243840116809637,\n",
       "    'F1': 0.8962781636444713,\n",
       "    'Precision': 0.9267527963914166,\n",
       "    'Recall': 0.8840336262265447},\n",
       "   'test_time': 7.74908040324226,\n",
       "   'train_time': 647.7121447487734},\n",
       "  'xgb': {'performance': {'Accuracy': 0.6252965869684249,\n",
       "    'F1': 0.8959568265280986,\n",
       "    'Precision': 0.9265072701831234,\n",
       "    'Recall': 0.883163855065662},\n",
       "   'test_time': 1.5602951580658555,\n",
       "   'train_time': 2186.1748406253755}},\n",
       " 'BCI': {'lgbm': {'performance': {'AUC': 0.5318846153846153,\n",
       "    'Accuracy': 0.8812311809969889,\n",
       "    'F1': 0.12561576354679804,\n",
       "    'Precision': 0.6071428571428571,\n",
       "    'Recall': 0.07005494505494506},\n",
       "   'test_time': 0.23858023900538683,\n",
       "   'train_time': 5.389664636226371},\n",
       "  'xgb': {'performance': {'AUC': 0.5277435897435897,\n",
       "    'Accuracy': 0.8812311809969889,\n",
       "    'F1': 0.11027568922305765,\n",
       "    'Precision': 0.6285714285714286,\n",
       "    'Recall': 0.06043956043956044},\n",
       "   'test_time': 0.3745505178812891,\n",
       "   'train_time': 12.044140707934275}},\n",
       " 'Football': {'lgbm': {'performance': {'Accuracy': 0.5296060991105463,\n",
       "    'F1': 0.44814511562851783,\n",
       "    'Precision': 0.4233370084677511,\n",
       "    'Recall': 0.5296060991105463},\n",
       "   'test_time': 1.7240861260797828,\n",
       "   'train_time': 0.9785946579650044},\n",
       "  'xgb': {'performance': {'Accuracy': 0.5316391359593393,\n",
       "    'F1': 0.44894344663444286,\n",
       "    'Precision': 0.4181074097507805,\n",
       "    'Recall': 0.5316391359593393},\n",
       "   'test_time': 0.00555622112005949,\n",
       "   'train_time': 1.045523377135396}},\n",
       " 'Fraud': {'lgbm': {'performance': {'AUC': 0.8749589659417316,\n",
       "    'Accuracy': 0.9994850368081645,\n",
       "    'F1': 0.8345864661654134,\n",
       "    'Precision': 0.940677966101695,\n",
       "    'Recall': 0.75},\n",
       "   'test_time': 0.050938055850565434,\n",
       "   'train_time': 0.9537332961335778},\n",
       "  'xgb': {'performance': {'AUC': 0.8749531039334075,\n",
       "    'Accuracy': 0.9994733330992591,\n",
       "    'F1': 0.8314606741573033,\n",
       "    'Precision': 0.9327731092436975,\n",
       "    'Recall': 0.75},\n",
       "   'test_time': 0.11142425402067602,\n",
       "   'train_time': 7.827869581989944}}}"
      ]
     },
     "execution_count": 8,
     "metadata": {},
     "output_type": "execute_result"
    }
   ],
   "source": [
    "results"
   ]
  },
  {
   "cell_type": "markdown",
   "metadata": {
    "deletable": true,
    "editable": true
   },
   "source": [
    "We wish to compare LightGBM and XGBoost both in terms of performance as well as how long they took to train."
   ]
  },
  {
   "cell_type": "code",
   "execution_count": 9,
   "metadata": {
    "collapsed": true,
    "deletable": true,
    "editable": true
   },
   "outputs": [],
   "source": [
    "def average_performance_diff(dataset):\n",
    "    lgbm_series = pd.Series(dataset['lgbm']['performance'])\n",
    "    return 100*((lgbm_series-pd.Series(dataset['xgb']['performance']))/lgbm_series).mean()"
   ]
  },
  {
   "cell_type": "code",
   "execution_count": 10,
   "metadata": {
    "collapsed": false,
    "deletable": true,
    "editable": true
   },
   "outputs": [],
   "source": [
    "def train_time_ratio(dataset):\n",
    "    return dataset['xgb']['train_time']/dataset['lgbm']['train_time']\n",
    "\n",
    "def test_time_ratio(dataset):\n",
    "    return dataset['xgb']['test_time']/dataset['lgbm']['test_time']"
   ]
  },
  {
   "cell_type": "code",
   "execution_count": 11,
   "metadata": {
    "collapsed": false,
    "deletable": true,
    "editable": true
   },
   "outputs": [],
   "source": [
    "metrics = juxt(average_performance_diff, train_time_ratio, test_time_ratio)\n",
    "res_per_dataset = {dataset_key:metrics(dataset) for dataset_key, dataset in results.items()}"
   ]
  },
  {
   "cell_type": "code",
   "execution_count": 12,
   "metadata": {
    "collapsed": false,
    "deletable": true,
    "editable": true
   },
   "outputs": [],
   "source": [
    "results_df = pd.DataFrame(res_per_dataset, index=['Perf. Difference(%)', \n",
    "                                                  'Train Time Ratio', \n",
    "                                                  'Test Time Ratio']).T"
   ]
  },
  {
   "cell_type": "code",
   "execution_count": 13,
   "metadata": {
    "collapsed": false,
    "deletable": true,
    "editable": true
   },
   "outputs": [
    {
     "data": {
      "text/html": [
       "<div>\n",
       "<table border=\"1\" class=\"dataframe\">\n",
       "  <thead>\n",
       "    <tr style=\"text-align: right;\">\n",
       "      <th></th>\n",
       "      <th>Perf. Difference(%)</th>\n",
       "      <th>Train Time Ratio</th>\n",
       "      <th>Test Time Ratio</th>\n",
       "    </tr>\n",
       "  </thead>\n",
       "  <tbody>\n",
       "    <tr>\n",
       "      <th>Airline</th>\n",
       "      <td>2.822119</td>\n",
       "      <td>6.708019</td>\n",
       "      <td>0.037078</td>\n",
       "    </tr>\n",
       "    <tr>\n",
       "      <th>Amazon</th>\n",
       "      <td>0.003644</td>\n",
       "      <td>3.375226</td>\n",
       "      <td>0.201352</td>\n",
       "    </tr>\n",
       "    <tr>\n",
       "      <th>BCI</th>\n",
       "      <td>4.637308</td>\n",
       "      <td>2.234673</td>\n",
       "      <td>1.569914</td>\n",
       "    </tr>\n",
       "    <tr>\n",
       "      <th>Football</th>\n",
       "      <td>0.072358</td>\n",
       "      <td>1.068393</td>\n",
       "      <td>0.003223</td>\n",
       "    </tr>\n",
       "    <tr>\n",
       "      <th>Fraud</th>\n",
       "      <td>0.243342</td>\n",
       "      <td>8.207609</td>\n",
       "      <td>2.187446</td>\n",
       "    </tr>\n",
       "  </tbody>\n",
       "</table>\n",
       "</div>"
      ],
      "text/plain": [
       "          Perf. Difference(%)  Train Time Ratio  Test Time Ratio\n",
       "Airline              2.822119          6.708019         0.037078\n",
       "Amazon               0.003644          3.375226         0.201352\n",
       "BCI                  4.637308          2.234673         1.569914\n",
       "Football             0.072358          1.068393         0.003223\n",
       "Fraud                0.243342          8.207609         2.187446"
      ]
     },
     "execution_count": 13,
     "metadata": {},
     "output_type": "execute_result"
    }
   ],
   "source": [
    "results_df"
   ]
  },
  {
   "cell_type": "code",
   "execution_count": 14,
   "metadata": {
    "collapsed": false,
    "deletable": true,
    "editable": true
   },
   "outputs": [
    {
     "data": {
      "image/png": "[encoded data removed]",
      "text/plain": [
       "<matplotlib.figure.Figure at 0x7f93bb298b70>"
      ]
     },
     "metadata": {},
     "output_type": "display_data"
    }
   ],
   "source": [
    "ax = results_df[['Train Time Ratio']].plot(kind='bar');\n",
    "fig = ax.get_figure()\n",
    "fig.savefig('train_time_ratio.svg', bbox_inches='tight')"
   ]
  },
  {
   "cell_type": "code",
   "execution_count": 15,
   "metadata": {
    "collapsed": false,
    "deletable": true,
    "editable": true
   },
   "outputs": [
    {
     "data": {
      "image/png": "[encoded data removed]",
      "text/plain": [
       "<matplotlib.figure.Figure at 0x7f93b8ae3780>"
      ]
     },
     "metadata": {},
     "output_type": "display_data"
    }
   ],
   "source": [
    "ax = results_df[['Perf. Difference(%)']].plot(kind='bar');\n",
    "ax.legend(loc=(0.64,0.8))\n",
    "fig = ax.get_figure()\n",
    "fig.savefig('perf_diff.svg', bbox_inches='tight')"
   ]
  },
  {
   "cell_type": "markdown",
   "metadata": {
    "deletable": true,
    "editable": true
   },
   "source": [
    "From the table as well as the plots below we can see that overall the difference in performance is quite small. LightGBM though is 2 to over 10 times quicker than XGBoost."
   ]
  }
 ],
 "metadata": {
  "kernelspec": {
   "display_name": "Python 3.5",
   "language": "python",
   "name": "python3"
  },
  "language_info": {
   "codemirror_mode": {
    "name": "ipython",
    "version": 3
   },
   "file_extension": ".py",
   "mimetype": "text/x-python",
   "name": "python",
   "nbconvert_exporter": "python",
   "pygments_lexer": "ipython3",
   "version": "3.5.2"
  }
 },
 "nbformat": 4,
 "nbformat_minor": 2
}
