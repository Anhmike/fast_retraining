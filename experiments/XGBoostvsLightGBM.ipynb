{
 "cells": [
  {
   "cell_type": "markdown",
   "metadata": {
    "deletable": true,
    "editable": true
   },
   "source": [
    "# XGBoost vs LightGBM\n",
    "\n",
    "In this notebook we collect the results from all the experiments and reports the comparative difference between XGBoost and LightGBM"
   ]
  },
  {
   "cell_type": "code",
   "execution_count": 2,
   "metadata": {
    "collapsed": false,
    "deletable": true,
    "editable": true
   },
   "outputs": [],
   "source": [
    "import matplotlib.pyplot as plt\n",
    "import nbformat\n",
    "import json\n",
    "from toolz import pipe, juxt\n",
    "import pandas as pd\n",
    "import seaborn\n",
    "from toolz import curry\n",
    "\n",
    "from bokeh.io import show, output_notebook\n",
    "from bokeh.charts import Bar\n",
    "from bokeh.models.renderers import GlyphRenderer\n",
    "from bokeh.models.glyphs import Rect\n",
    "from toolz import curry\n",
    "from bokeh.io import export_svgs\n",
    "from IPython.display import SVG, display\n",
    "\n",
    "%matplotlib inline "
   ]
  },
  {
   "cell_type": "code",
   "execution_count": 3,
   "metadata": {
    "collapsed": false,
    "deletable": true,
    "editable": true
   },
   "outputs": [
    {
     "data": {
      "text/html": [
       "\n",
       "    <div class=\"bk-root\">\n",
       "        <a href=\"http://bokeh.pydata.org\" target=\"_blank\" class=\"bk-logo bk-logo-small bk-logo-notebook\"></a>\n",
       "        <span id=\"6fcf0f3d-6680-4c4c-bd20-53d7b0e80762\">Loading BokehJS ...</span>\n",
       "    </div>"
      ]
     },
     "metadata": {},
     "output_type": "display_data"
    },
    {
     "data": {
      "application/javascript": [
       "\n",
       "(function(global) {\n",
       "  function now() {\n",
       "    return new Date();\n",
       "  }\n",
       "\n",
       "  var force = true;\n",
       "\n",
       "  if (typeof (window._bokeh_onload_callbacks) === \"undefined\" || force === true) {\n",
       "    window._bokeh_onload_callbacks = [];\n",
       "    window._bokeh_is_loading = undefined;\n",
       "  }\n",
       "\n",
       "\n",
       "  \n",
       "  if (typeof (window._bokeh_timeout) === \"undefined\" || force === true) {\n",
       "    window._bokeh_timeout = Date.now() + 5000;\n",
       "    window._bokeh_failed_load = false;\n",
       "  }\n",
       "\n",
       "  var NB_LOAD_WARNING = {'data': {'text/html':\n",
       "     \"<div style='background-color: #fdd'>\\n\"+\n",
       "     \"<p>\\n\"+\n",
       "     \"BokehJS does not appear to have successfully loaded. If loading BokehJS from CDN, this \\n\"+\n",
       "     \"may be due to a slow or bad network connection. Possible fixes:\\n\"+\n",
       "     \"</p>\\n\"+\n",
       "     \"<ul>\\n\"+\n",
       "     \"<li>re-rerun `output_notebook()` to attempt to load from CDN again, or</li>\\n\"+\n",
       "     \"<li>use INLINE resources instead, as so:</li>\\n\"+\n",
       "     \"</ul>\\n\"+\n",
       "     \"<code>\\n\"+\n",
       "     \"from bokeh.resources import INLINE\\n\"+\n",
       "     \"output_notebook(resources=INLINE)\\n\"+\n",
       "     \"</code>\\n\"+\n",
       "     \"</div>\"}};\n",
       "\n",
       "  function display_loaded() {\n",
       "    if (window.Bokeh !== undefined) {\n",
       "      var el = document.getElementById(\"6fcf0f3d-6680-4c4c-bd20-53d7b0e80762\");\n",
       "      el.textContent = \"BokehJS \" + Bokeh.version + \" successfully loaded.\";\n",
       "    } else if (Date.now() < window._bokeh_timeout) {\n",
       "      setTimeout(display_loaded, 100)\n",
       "    }\n",
       "  }\n",
       "\n",
       "  function run_callbacks() {\n",
       "    try {\n",
       "      window._bokeh_onload_callbacks.forEach(function(callback) { callback() });\n",
       "    }\n",
       "    finally {\n",
       "      delete window._bokeh_onload_callbacks\n",
       "    }\n",
       "    console.info(\"Bokeh: all callbacks have finished\");\n",
       "  }\n",
       "\n",
       "  function load_libs(js_urls, callback) {\n",
       "    window._bokeh_onload_callbacks.push(callback);\n",
       "    if (window._bokeh_is_loading > 0) {\n",
       "      console.log(\"Bokeh: BokehJS is being loaded, scheduling callback at\", now());\n",
       "      return null;\n",
       "    }\n",
       "    if (js_urls == null || js_urls.length === 0) {\n",
       "      run_callbacks();\n",
       "      return null;\n",
       "    }\n",
       "    console.log(\"Bokeh: BokehJS not loaded, scheduling load and callback at\", now());\n",
       "    window._bokeh_is_loading = js_urls.length;\n",
       "    for (var i = 0; i < js_urls.length; i++) {\n",
       "      var url = js_urls[i];\n",
       "      var s = document.createElement('script');\n",
       "      s.src = url;\n",
       "      s.async = false;\n",
       "      s.onreadystatechange = s.onload = function() {\n",
       "        window._bokeh_is_loading--;\n",
       "        if (window._bokeh_is_loading === 0) {\n",
       "          console.log(\"Bokeh: all BokehJS libraries loaded\");\n",
       "          run_callbacks()\n",
       "        }\n",
       "      };\n",
       "      s.onerror = function() {\n",
       "        console.warn(\"failed to load library \" + url);\n",
       "      };\n",
       "      console.log(\"Bokeh: injecting script tag for BokehJS library: \", url);\n",
       "      document.getElementsByTagName(\"head\")[0].appendChild(s);\n",
       "    }\n",
       "  };var element = document.getElementById(\"6fcf0f3d-6680-4c4c-bd20-53d7b0e80762\");\n",
       "  if (element == null) {\n",
       "    console.log(\"Bokeh: ERROR: autoload.js configured with elementid '6fcf0f3d-6680-4c4c-bd20-53d7b0e80762' but no matching script tag was found. \")\n",
       "    return false;\n",
       "  }\n",
       "\n",
       "  var js_urls = [\"https://cdn.pydata.org/bokeh/release/bokeh-0.12.6.min.js\", \"https://cdn.pydata.org/bokeh/release/bokeh-widgets-0.12.6.min.js\"];\n",
       "\n",
       "  var inline_js = [\n",
       "    function(Bokeh) {\n",
       "      Bokeh.set_log_level(\"info\");\n",
       "    },\n",
       "    \n",
       "    function(Bokeh) {\n",
       "      \n",
       "    },\n",
       "    \n",
       "    function(Bokeh) {\n",
       "      \n",
       "      document.getElementById(\"6fcf0f3d-6680-4c4c-bd20-53d7b0e80762\").textContent = \"BokehJS is loading...\";\n",
       "    },\n",
       "    function(Bokeh) {\n",
       "      console.log(\"Bokeh: injecting CSS: https://cdn.pydata.org/bokeh/release/bokeh-0.12.6.min.css\");\n",
       "      Bokeh.embed.inject_css(\"https://cdn.pydata.org/bokeh/release/bokeh-0.12.6.min.css\");\n",
       "      console.log(\"Bokeh: injecting CSS: https://cdn.pydata.org/bokeh/release/bokeh-widgets-0.12.6.min.css\");\n",
       "      Bokeh.embed.inject_css(\"https://cdn.pydata.org/bokeh/release/bokeh-widgets-0.12.6.min.css\");\n",
       "    }\n",
       "  ];\n",
       "\n",
       "  function run_inline_js() {\n",
       "    \n",
       "    if ((window.Bokeh !== undefined) || (force === true)) {\n",
       "      for (var i = 0; i < inline_js.length; i++) {\n",
       "        inline_js[i](window.Bokeh);\n",
       "      }if (force === true) {\n",
       "        display_loaded();\n",
       "      }} else if (Date.now() < window._bokeh_timeout) {\n",
       "      setTimeout(run_inline_js, 100);\n",
       "    } else if (!window._bokeh_failed_load) {\n",
       "      console.log(\"Bokeh: BokehJS failed to load within specified timeout.\");\n",
       "      window._bokeh_failed_load = true;\n",
       "    } else if (force !== true) {\n",
       "      var cell = $(document.getElementById(\"6fcf0f3d-6680-4c4c-bd20-53d7b0e80762\")).parents('.cell').data().cell;\n",
       "      cell.output_area.append_execute_result(NB_LOAD_WARNING)\n",
       "    }\n",
       "\n",
       "  }\n",
       "\n",
       "  if (window._bokeh_is_loading === 0) {\n",
       "    console.log(\"Bokeh: BokehJS loaded, going straight to plotting\");\n",
       "    run_inline_js();\n",
       "  } else {\n",
       "    load_libs(js_urls, function() {\n",
       "      console.log(\"Bokeh: BokehJS plotting callback run at\", now());\n",
       "      run_inline_js();\n",
       "    });\n",
       "  }\n",
       "}(this));"
      ]
     },
     "metadata": {},
     "output_type": "display_data"
    }
   ],
   "source": [
    "output_notebook()"
   ]
  },
  {
   "cell_type": "markdown",
   "metadata": {
    "deletable": true,
    "editable": true
   },
   "source": [
    "We are going to read the results from the following notebooks"
   ]
  },
  {
   "cell_type": "code",
   "execution_count": 4,
   "metadata": {
    "collapsed": true,
    "deletable": true,
    "editable": true
   },
   "outputs": [],
   "source": [
    "notebooks = {\n",
    "    'Airline':'01_airline.ipynb',\n",
    "    'BCI': '02_BCI.ipynb',\n",
    "    'Football': '03_football.ipynb',\n",
    "    'Amazon': '04_PlanetKaggle.ipynb',\n",
    "    'Fraud': '05_FraudDetection.ipynb'\n",
    "}"
   ]
  },
  {
   "cell_type": "code",
   "execution_count": 5,
   "metadata": {
    "collapsed": true,
    "deletable": true,
    "editable": true
   },
   "outputs": [],
   "source": [
    "def read_notebook(notebook_name):\n",
    "    with open(notebook_name) as f:\n",
    "        return nbformat.read(f, as_version=4)"
   ]
  },
  {
   "cell_type": "code",
   "execution_count": 6,
   "metadata": {
    "collapsed": true,
    "deletable": true,
    "editable": true
   },
   "outputs": [],
   "source": [
    "def results_cell_from(nb):\n",
    "    for cell in nb.cells:\n",
    "        if cell['cell_type']=='code' and cell['source'].startswith('# Results'):\n",
    "            return cell"
   ]
  },
  {
   "cell_type": "code",
   "execution_count": 7,
   "metadata": {
    "collapsed": true,
    "deletable": true,
    "editable": true
   },
   "outputs": [],
   "source": [
    "def extract_text(cell):\n",
    "    return cell['outputs'][0]['text']"
   ]
  },
  {
   "cell_type": "code",
   "execution_count": 8,
   "metadata": {
    "collapsed": true,
    "deletable": true,
    "editable": true
   },
   "outputs": [],
   "source": [
    "@curry\n",
    "def remove_line_with(match_str, json_string):\n",
    "    return '\\n'.join(filter(lambda x: match_str not in x, json_string.split('\\n')))"
   ]
  },
  {
   "cell_type": "code",
   "execution_count": 9,
   "metadata": {
    "collapsed": true,
    "deletable": true,
    "editable": true
   },
   "outputs": [],
   "source": [
    "def process_nb(notebook_name):\n",
    "    return pipe(notebook_name,\n",
    "                read_notebook,\n",
    "                results_cell_from,\n",
    "                extract_text,\n",
    "                remove_line_with('total RAM usage'),\n",
    "                json.loads)"
   ]
  },
  {
   "cell_type": "markdown",
   "metadata": {
    "deletable": true,
    "editable": true
   },
   "source": [
    "Here we collect the results from all the exeperiment notebooks. The method simply searches the notebooks for a cell that starts with # Results. It then reads that cells output in as JSON."
   ]
  },
  {
   "cell_type": "code",
   "execution_count": 10,
   "metadata": {
    "collapsed": true,
    "deletable": true,
    "editable": true
   },
   "outputs": [],
   "source": [
    "results = {nb_key:process_nb(nb_name) for nb_key, nb_name in notebooks.items()}"
   ]
  },
  {
   "cell_type": "code",
   "execution_count": 11,
   "metadata": {
    "collapsed": false,
    "deletable": true,
    "editable": true
   },
   "outputs": [
    {
     "data": {
      "text/plain": [
       "{'Airline': {'lgbm': {'performance': {'AUC': 0.8085689434502803,\n",
       "    'Accuracy': 0.7353896817753379,\n",
       "    'F1': 0.6940196231335755,\n",
       "    'Precision': 0.7695546060118544,\n",
       "    'Recall': 0.6319874302870966},\n",
       "   'test_time': 14.591926063993014,\n",
       "   'train_time': 366.37647559295874},\n",
       "  'xgb': {'performance': {'AUC': 0.7864092771976574,\n",
       "    'Accuracy': 0.630096137083639,\n",
       "    'F1': 0.6981365687005567,\n",
       "    'Precision': 0.5699044513344648,\n",
       "    'Recall': 0.9008287536758128},\n",
       "   'test_time': 12.680251265061088,\n",
       "   'train_time': 2180.798558813054},\n",
       "  'xgb_hist': {'performance': {'AUC': 0.8076206419213058,\n",
       "    'Accuracy': 0.6736735917278169,\n",
       "    'F1': 0.7170332167054881,\n",
       "    'Precision': 0.6094592088790932,\n",
       "    'Recall': 0.8707220218423469},\n",
       "   'test_time': 14.63406790792942,\n",
       "   'train_time': 578.727180639049}},\n",
       " 'Amazon': {'lgbm': {'performance': {'Accuracy': 0.5831356086877167,\n",
       "    'F1': 0.8916251743227468,\n",
       "    'Precision': 0.8966667101226329,\n",
       "    'Recall': 0.9062528789577522},\n",
       "   'test_time': 0.2287097891094163,\n",
       "   'train_time': 78.43849972297903},\n",
       "  'xgb': {'performance': {'Accuracy': 0.3423982478554481,\n",
       "    'F1': 0.8057198664184697,\n",
       "    'Precision': 0.7188249796481225,\n",
       "    'Recall': 0.9782772316811376},\n",
       "   'test_time': 0.17806852096691728,\n",
       "   'train_time': 291.9369727639714},\n",
       "  'xgb_hist': {'performance': {'Accuracy': 0.3694104763643001,\n",
       "    'F1': 0.8199552360766837,\n",
       "    'Precision': 0.7411964006871837,\n",
       "    'Recall': 0.9724867242023657},\n",
       "   'test_time': 0.16979735810309649,\n",
       "   'train_time': 2238.962064931169}},\n",
       " 'BCI': {'lgbm': {'performance': {'AUC': 0.5348626373626374,\n",
       "    'Accuracy': 0.8802275008364001,\n",
       "    'F1': 0.13734939759036147,\n",
       "    'Precision': 0.5588235294117647,\n",
       "    'Recall': 0.0782967032967033},\n",
       "   'test_time': 0.7029972260352224,\n",
       "   'train_time': 6.380580052034929},\n",
       "  'xgb': {'performance': {'AUC': 0.5277435897435897,\n",
       "    'Accuracy': 0.8812311809969889,\n",
       "    'F1': 0.11027568922305765,\n",
       "    'Precision': 0.6285714285714286,\n",
       "    'Recall': 0.06043956043956044},\n",
       "   'test_time': 0.5001096819760278,\n",
       "   'train_time': 15.975884190993384},\n",
       "  'xgb_hist': {'performance': {'AUC': 0.536521978021978,\n",
       "    'Accuracy': 0.8810639009702241,\n",
       "    'F1': 0.14234016887816647,\n",
       "    'Precision': 0.5841584158415841,\n",
       "    'Recall': 0.08104395604395605},\n",
       "   'test_time': 0.7757045479957014,\n",
       "   'train_time': 52.695884556975216}},\n",
       " 'Football': {'lgbm': {'performance': {'Accuracy': 0.5273189326556544,\n",
       "    'F1': 0.4594968503939465,\n",
       "    'Precision': 0.4627647374365573,\n",
       "    'Recall': 0.5273189326556544},\n",
       "   'test_time': 0.01769829506520182,\n",
       "   'train_time': 0.5824753509368747},\n",
       "  'xgb': {'performance': {'Accuracy': 0.5285895806861499,\n",
       "    'F1': 0.4581501758019101,\n",
       "    'Precision': 0.4728104942149788,\n",
       "    'Recall': 0.5285895806861499},\n",
       "   'test_time': 0.01739849301520735,\n",
       "   'train_time': 2.277035239036195},\n",
       "  'xgb_hist': {'performance': {'Accuracy': 0.5285895806861499,\n",
       "    'F1': 0.46087114582653593,\n",
       "    'Precision': 0.4747655220586142,\n",
       "    'Recall': 0.5285895806861499},\n",
       "   'test_time': 0.013859358034096658,\n",
       "   'train_time': 2.4757352949818596}},\n",
       " 'Fraud': {'lgbm': {'performance': {'AUC': 0.8749179318834633,\n",
       "    'Accuracy': 0.999403110845827,\n",
       "    'F1': 0.8131868131868133,\n",
       "    'Precision': 0.888,\n",
       "    'Recall': 0.75},\n",
       "   'test_time': 0.05627289199946972,\n",
       "   'train_time': 0.73749636499997},\n",
       "  'xgb': {'performance': {'AUC': 0.8884197213803287,\n",
       "    'Accuracy': 0.9994265182636377,\n",
       "    'F1': 0.8243727598566308,\n",
       "    'Precision': 0.8778625954198473,\n",
       "    'Recall': 0.777027027027027},\n",
       "   'test_time': 0.059653409000020474,\n",
       "   'train_time': 4.4588627679995625},\n",
       "  'xgb_hist': {'performance': {'AUC': 0.8715278294884368,\n",
       "    'Accuracy': 0.9993679997191109,\n",
       "    'F1': 0.8029197080291971,\n",
       "    'Precision': 0.873015873015873,\n",
       "    'Recall': 0.7432432432432432},\n",
       "   'test_time': 0.06544113900054072,\n",
       "   'train_time': 1.2063124559999778}}}"
      ]
     },
     "execution_count": 11,
     "metadata": {},
     "output_type": "execute_result"
    }
   ],
   "source": [
    "results"
   ]
  },
  {
   "cell_type": "markdown",
   "metadata": {
    "deletable": true,
    "editable": true
   },
   "source": [
    "We wish to compare LightGBM and XGBoost both in terms of performance as well as how long they took to train."
   ]
  },
  {
   "cell_type": "code",
   "execution_count": 12,
   "metadata": {
    "collapsed": true,
    "deletable": true,
    "editable": true
   },
   "outputs": [],
   "source": [
    "def average_performance_diff(dataset):\n",
    "    lgbm_series = pd.Series(dataset['lgbm']['performance'])\n",
    "    return 100*((lgbm_series-pd.Series(dataset['xgb']['performance']))/lgbm_series).mean()"
   ]
  },
  {
   "cell_type": "code",
   "execution_count": 13,
   "metadata": {
    "collapsed": true,
    "deletable": true,
    "editable": true
   },
   "outputs": [],
   "source": [
    "def train_time_ratio(dataset):\n",
    "    return dataset['xgb']['train_time']/dataset['lgbm']['train_time']\n",
    "\n",
    "def test_time_ratio(dataset):\n",
    "    return dataset['xgb']['test_time']/dataset['lgbm']['test_time']"
   ]
  },
  {
   "cell_type": "code",
   "execution_count": 14,
   "metadata": {
    "collapsed": true,
    "deletable": true,
    "editable": true
   },
   "outputs": [],
   "source": [
    "metrics = juxt(average_performance_diff, train_time_ratio, test_time_ratio)\n",
    "res_per_dataset = {dataset_key:metrics(dataset) for dataset_key, dataset in results.items()}"
   ]
  },
  {
   "cell_type": "code",
   "execution_count": 15,
   "metadata": {
    "collapsed": true,
    "deletable": true,
    "editable": true
   },
   "outputs": [],
   "source": [
    "results_df = pd.DataFrame(res_per_dataset, index=['Perf. Difference(%)', \n",
    "                                                  'Train Time Ratio', \n",
    "                                                  'Test Time Ratio']).T"
   ]
  },
  {
   "cell_type": "code",
   "execution_count": 16,
   "metadata": {
    "collapsed": false,
    "deletable": true,
    "editable": true
   },
   "outputs": [
    {
     "data": {
      "text/html": [
       "<div>\n",
       "<table border=\"1\" class=\"dataframe\">\n",
       "  <thead>\n",
       "    <tr style=\"text-align: right;\">\n",
       "      <th></th>\n",
       "      <th>Perf. Difference(%)</th>\n",
       "      <th>Train Time Ratio</th>\n",
       "      <th>Test Time Ratio</th>\n",
       "    </tr>\n",
       "  </thead>\n",
       "  <tbody>\n",
       "    <tr>\n",
       "      <th>Airline</th>\n",
       "      <td>-0.025994</td>\n",
       "      <td>5.952343</td>\n",
       "      <td>0.868991</td>\n",
       "    </tr>\n",
       "    <tr>\n",
       "      <th>Amazon</th>\n",
       "      <td>15.701026</td>\n",
       "      <td>3.721858</td>\n",
       "      <td>0.778578</td>\n",
       "    </tr>\n",
       "    <tr>\n",
       "      <th>BCI</th>\n",
       "      <td>6.250871</td>\n",
       "      <td>2.503829</td>\n",
       "      <td>0.711396</td>\n",
       "    </tr>\n",
       "    <tr>\n",
       "      <th>Football</th>\n",
       "      <td>-0.589916</td>\n",
       "      <td>3.909239</td>\n",
       "      <td>0.983060</td>\n",
       "    </tr>\n",
       "    <tr>\n",
       "      <th>Fraud</th>\n",
       "      <td>-1.076624</td>\n",
       "      <td>6.045945</td>\n",
       "      <td>1.060074</td>\n",
       "    </tr>\n",
       "  </tbody>\n",
       "</table>\n",
       "</div>"
      ],
      "text/plain": [
       "          Perf. Difference(%)  Train Time Ratio  Test Time Ratio\n",
       "Airline             -0.025994          5.952343         0.868991\n",
       "Amazon              15.701026          3.721858         0.778578\n",
       "BCI                  6.250871          2.503829         0.711396\n",
       "Football            -0.589916          3.909239         0.983060\n",
       "Fraud               -1.076624          6.045945         1.060074"
      ]
     },
     "execution_count": 16,
     "metadata": {},
     "output_type": "execute_result"
    }
   ],
   "source": [
    "results_df"
   ]
  },
  {
   "cell_type": "code",
   "execution_count": 17,
   "metadata": {
    "collapsed": true,
    "deletable": true,
    "editable": true
   },
   "outputs": [],
   "source": [
    "data = {\n",
    "    'Train Time Ratio': results_df['Train Time Ratio'].values,\n",
    "    'label': results_df.index.values\n",
    "}"
   ]
  },
  {
   "cell_type": "code",
   "execution_count": 18,
   "metadata": {
    "collapsed": false,
    "deletable": true,
    "editable": true
   },
   "outputs": [
    {
     "data": {
      "text/html": [
       "\n",
       "\n",
       "    <div class=\"bk-root\">\n",
       "        <div class=\"bk-plotdiv\" id=\"54c8b0bd-eaeb-45bd-a46b-1d0ab83f7a94\"></div>\n",
       "    </div>\n",
       "<script type=\"text/javascript\">\n",
       "  \n",
       "  (function(global) {\n",
       "    function now() {\n",
       "      return new Date();\n",
       "    }\n",
       "  \n",
       "    var force = false;\n",
       "  \n",
       "    if (typeof (window._bokeh_onload_callbacks) === \"undefined\" || force === true) {\n",
       "      window._bokeh_onload_callbacks = [];\n",
       "      window._bokeh_is_loading = undefined;\n",
       "    }\n",
       "  \n",
       "  \n",
       "    \n",
       "    if (typeof (window._bokeh_timeout) === \"undefined\" || force === true) {\n",
       "      window._bokeh_timeout = Date.now() + 0;\n",
       "      window._bokeh_failed_load = false;\n",
       "    }\n",
       "  \n",
       "    var NB_LOAD_WARNING = {'data': {'text/html':\n",
       "       \"<div style='background-color: #fdd'>\\n\"+\n",
       "       \"<p>\\n\"+\n",
       "       \"BokehJS does not appear to have successfully loaded. If loading BokehJS from CDN, this \\n\"+\n",
       "       \"may be due to a slow or bad network connection. Possible fixes:\\n\"+\n",
       "       \"</p>\\n\"+\n",
       "       \"<ul>\\n\"+\n",
       "       \"<li>re-rerun `output_notebook()` to attempt to load from CDN again, or</li>\\n\"+\n",
       "       \"<li>use INLINE resources instead, as so:</li>\\n\"+\n",
       "       \"</ul>\\n\"+\n",
       "       \"<code>\\n\"+\n",
       "       \"from bokeh.resources import INLINE\\n\"+\n",
       "       \"output_notebook(resources=INLINE)\\n\"+\n",
       "       \"</code>\\n\"+\n",
       "       \"</div>\"}};\n",
       "  \n",
       "    function display_loaded() {\n",
       "      if (window.Bokeh !== undefined) {\n",
       "        var el = document.getElementById(\"54c8b0bd-eaeb-45bd-a46b-1d0ab83f7a94\");\n",
       "        el.textContent = \"BokehJS \" + Bokeh.version + \" successfully loaded.\";\n",
       "      } else if (Date.now() < window._bokeh_timeout) {\n",
       "        setTimeout(display_loaded, 100)\n",
       "      }\n",
       "    }\n",
       "  \n",
       "    function run_callbacks() {\n",
       "      try {\n",
       "        window._bokeh_onload_callbacks.forEach(function(callback) { callback() });\n",
       "      }\n",
       "      finally {\n",
       "        delete window._bokeh_onload_callbacks\n",
       "      }\n",
       "      console.info(\"Bokeh: all callbacks have finished\");\n",
       "    }\n",
       "  \n",
       "    function load_libs(js_urls, callback) {\n",
       "      window._bokeh_onload_callbacks.push(callback);\n",
       "      if (window._bokeh_is_loading > 0) {\n",
       "        console.log(\"Bokeh: BokehJS is being loaded, scheduling callback at\", now());\n",
       "        return null;\n",
       "      }\n",
       "      if (js_urls == null || js_urls.length === 0) {\n",
       "        run_callbacks();\n",
       "        return null;\n",
       "      }\n",
       "      console.log(\"Bokeh: BokehJS not loaded, scheduling load and callback at\", now());\n",
       "      window._bokeh_is_loading = js_urls.length;\n",
       "      for (var i = 0; i < js_urls.length; i++) {\n",
       "        var url = js_urls[i];\n",
       "        var s = document.createElement('script');\n",
       "        s.src = url;\n",
       "        s.async = false;\n",
       "        s.onreadystatechange = s.onload = function() {\n",
       "          window._bokeh_is_loading--;\n",
       "          if (window._bokeh_is_loading === 0) {\n",
       "            console.log(\"Bokeh: all BokehJS libraries loaded\");\n",
       "            run_callbacks()\n",
       "          }\n",
       "        };\n",
       "        s.onerror = function() {\n",
       "          console.warn(\"failed to load library \" + url);\n",
       "        };\n",
       "        console.log(\"Bokeh: injecting script tag for BokehJS library: \", url);\n",
       "        document.getElementsByTagName(\"head\")[0].appendChild(s);\n",
       "      }\n",
       "    };var element = document.getElementById(\"54c8b0bd-eaeb-45bd-a46b-1d0ab83f7a94\");\n",
       "    if (element == null) {\n",
       "      console.log(\"Bokeh: ERROR: autoload.js configured with elementid '54c8b0bd-eaeb-45bd-a46b-1d0ab83f7a94' but no matching script tag was found. \")\n",
       "      return false;\n",
       "    }\n",
       "  \n",
       "    var js_urls = [];\n",
       "  \n",
       "    var inline_js = [\n",
       "      function(Bokeh) {\n",
       "        (function() {\n",
       "          var fn = function() {\n",
       "            var docs_json = {\"aa2ad3dc-2141-489d-91d0-904c039f1192\":{\"roots\":{\"references\":[{\"attributes\":{\"overlay\":{\"id\":\"e1520363-7852-43ce-b49e-6d3972ea6910\",\"type\":\"BoxAnnotation\"},\"plot\":{\"id\":\"6adbdf70-91f6-4bf6-a3d0-35188c03972b\",\"subtype\":\"Chart\",\"type\":\"Plot\"}},\"id\":\"5e4a8208-db63-4413-b4a2-ab8a66de0140\",\"type\":\"BoxZoomTool\"},{\"attributes\":{\"fill_alpha\":{\"field\":\"fill_alpha\"},\"fill_color\":{\"field\":\"color\"},\"height\":{\"field\":\"height\",\"units\":\"data\"},\"line_color\":{\"field\":\"line_color\"},\"width\":{\"field\":\"width\",\"units\":\"data\"},\"x\":{\"field\":\"x\"},\"y\":{\"field\":\"y\"}},\"id\":\"9948d893-0bd1-436d-9e1d-4fab0da9da28\",\"type\":\"Rect\"},{\"attributes\":{},\"id\":\"91b2b7a0-457a-4046-9c9b-8a84869df89d\",\"type\":\"BasicTickFormatter\"},{\"attributes\":{\"axis_label\":\"Train Time Ratio\",\"formatter\":{\"id\":\"91b2b7a0-457a-4046-9c9b-8a84869df89d\",\"type\":\"BasicTickFormatter\"},\"plot\":{\"id\":\"6adbdf70-91f6-4bf6-a3d0-35188c03972b\",\"subtype\":\"Chart\",\"type\":\"Plot\"},\"ticker\":{\"id\":\"b7c74537-54f0-4218-81a8-68dcf52b511a\",\"type\":\"BasicTicker\"}},\"id\":\"558176a9-c26d-4a42-93f5-1b7ac034afde\",\"type\":\"LinearAxis\"},{\"attributes\":{\"callback\":null,\"factors\":[\"Airline\",\"Amazon\",\"BCI\",\"Football\",\"Fraud\"]},\"id\":\"9e161199-4c87-4c98-a22e-5b2e539bf45c\",\"type\":\"FactorRange\"},{\"attributes\":{},\"id\":\"d35d011e-3741-4e11-ba60-ada63c8f0a45\",\"type\":\"CategoricalTicker\"},{\"attributes\":{\"plot\":{\"id\":\"6adbdf70-91f6-4bf6-a3d0-35188c03972b\",\"subtype\":\"Chart\",\"type\":\"Plot\"}},\"id\":\"57fd0572-d427-42f4-9d49-cc40e478c61f\",\"type\":\"ResetTool\"},{\"attributes\":{\"fill_alpha\":{\"field\":\"fill_alpha\"},\"fill_color\":{\"field\":\"color\"},\"height\":{\"field\":\"height\",\"units\":\"data\"},\"line_color\":{\"field\":\"line_color\"},\"width\":{\"field\":\"width\",\"units\":\"data\"},\"x\":{\"field\":\"x\"},\"y\":{\"field\":\"y\"}},\"id\":\"00a9dfbd-6fe4-4d6d-ad49-27cc99ed8fef\",\"type\":\"Rect\"},{\"attributes\":{},\"id\":\"9074d37f-c982-4c3b-9264-7fcada88bb00\",\"type\":\"LinearScale\"},{\"attributes\":{\"items\":[{\"id\":\"8bd882db-3429-43ca-9883-c21887e18780\",\"type\":\"LegendItem\"},{\"id\":\"9db736f3-fba3-4029-be8f-e29e2611fc25\",\"type\":\"LegendItem\"},{\"id\":\"8ada41c8-5420-4787-ae2b-fb188fb66820\",\"type\":\"LegendItem\"},{\"id\":\"05f6cf51-3af4-4305-a752-d755fec7cf0f\",\"type\":\"LegendItem\"},{\"id\":\"363454a4-fcca-486b-a362-84de3367eeb8\",\"type\":\"LegendItem\"}],\"location\":\"top_left\",\"plot\":{\"id\":\"6adbdf70-91f6-4bf6-a3d0-35188c03972b\",\"subtype\":\"Chart\",\"type\":\"Plot\"},\"visible\":false},\"id\":\"e5a927bf-5c98-40f4-abb1-48c4cbe602c1\",\"type\":\"Legend\"},{\"attributes\":{\"dimension\":1,\"plot\":{\"id\":\"6adbdf70-91f6-4bf6-a3d0-35188c03972b\",\"subtype\":\"Chart\",\"type\":\"Plot\"},\"ticker\":{\"id\":\"b7c74537-54f0-4218-81a8-68dcf52b511a\",\"type\":\"BasicTicker\"}},\"id\":\"61d5c53f-e385-419d-ab36-26db1173a666\",\"type\":\"Grid\"},{\"attributes\":{\"callback\":null,\"column_names\":[\"width\",\"y\",\"height\",\"x\",\"line_alpha\",\"fill_alpha\",\"color\",\"line_color\",\"label\"],\"data\":{\"chart_index\":[{\"label\":\"Football\"}],\"color\":[\"#5975a4\"],\"fill_alpha\":[0.8],\"height\":[3.9092387950386707],\"label\":[\"Football\"],\"line_alpha\":[1.0],\"line_color\":[\"white\"],\"width\":[0.7],\"x\":[\"Football\"],\"y\":[1.9546193975193353]}},\"id\":\"27d307e3-ef76-4ded-8785-d466041e2c35\",\"type\":\"ColumnDataSource\"},{\"attributes\":{},\"id\":\"01f1fb78-d968-4f7e-92fc-b1cb16941550\",\"type\":\"CategoricalScale\"},{\"attributes\":{\"label\":{\"value\":\"Amazon\"},\"renderers\":[{\"id\":\"8b301f97-8310-4d7a-81a6-b094d17be985\",\"type\":\"GlyphRenderer\"}]},\"id\":\"9db736f3-fba3-4029-be8f-e29e2611fc25\",\"type\":\"LegendItem\"},{\"attributes\":{\"data_source\":{\"id\":\"27d307e3-ef76-4ded-8785-d466041e2c35\",\"type\":\"ColumnDataSource\"},\"glyph\":{\"id\":\"d90b0233-a90a-4dc2-b8d7-323cb2de0a4b\",\"type\":\"Rect\"},\"hover_glyph\":null,\"muted_glyph\":null},\"id\":\"2b14830b-578f-492e-abad-47e3aa606b59\",\"type\":\"GlyphRenderer\"},{\"attributes\":{},\"id\":\"df371e11-646f-43ce-b129-747573f79b58\",\"type\":\"ToolEvents\"},{\"attributes\":{\"data_source\":{\"id\":\"3f640c4f-b346-41dc-8dc8-d06fdcb4655a\",\"type\":\"ColumnDataSource\"},\"glyph\":{\"id\":\"00a9dfbd-6fe4-4d6d-ad49-27cc99ed8fef\",\"type\":\"Rect\"},\"hover_glyph\":null,\"muted_glyph\":null},\"id\":\"2a581870-d516-470c-ab4c-7cc11a210ab2\",\"type\":\"GlyphRenderer\"},{\"attributes\":{\"plot\":{\"id\":\"6adbdf70-91f6-4bf6-a3d0-35188c03972b\",\"subtype\":\"Chart\",\"type\":\"Plot\"}},\"id\":\"3dd7c74b-d05c-469a-82b1-73063d3050b5\",\"type\":\"PanTool\"},{\"attributes\":{\"label\":{\"value\":\"Airline\"},\"renderers\":[{\"id\":\"0b9a217a-9f22-4190-b703-77b2f9b41b58\",\"type\":\"GlyphRenderer\"}]},\"id\":\"8bd882db-3429-43ca-9883-c21887e18780\",\"type\":\"LegendItem\"},{\"attributes\":{\"label\":{\"value\":\"BCI\"},\"renderers\":[{\"id\":\"5b3add3c-f4c3-45d4-b3a5-a29432c39cc9\",\"type\":\"GlyphRenderer\"}]},\"id\":\"8ada41c8-5420-4787-ae2b-fb188fb66820\",\"type\":\"LegendItem\"},{\"attributes\":{\"active_drag\":\"auto\",\"active_inspect\":\"auto\",\"active_scroll\":\"auto\",\"active_tap\":\"auto\",\"tools\":[{\"id\":\"3dd7c74b-d05c-469a-82b1-73063d3050b5\",\"type\":\"PanTool\"},{\"id\":\"2562170b-0684-4e32-b2c1-48bde00f7ecb\",\"type\":\"WheelZoomTool\"},{\"id\":\"5e4a8208-db63-4413-b4a2-ab8a66de0140\",\"type\":\"BoxZoomTool\"},{\"id\":\"387741b7-a214-4f4d-b844-c6ddf19ee890\",\"type\":\"SaveTool\"},{\"id\":\"57fd0572-d427-42f4-9d49-cc40e478c61f\",\"type\":\"ResetTool\"},{\"id\":\"6aad9f13-30ab-4382-9ce2-6b955b62fe96\",\"type\":\"HelpTool\"}]},\"id\":\"81d890af-7c4d-4103-a861-6f85fbf4a836\",\"type\":\"Toolbar\"},{\"attributes\":{\"callback\":null,\"column_names\":[\"width\",\"y\",\"height\",\"x\",\"line_alpha\",\"fill_alpha\",\"color\",\"line_color\",\"label\"],\"data\":{\"chart_index\":[{\"label\":\"BCI\"}],\"color\":[\"#5975a4\"],\"fill_alpha\":[0.8],\"height\":[2.5038294419483487],\"label\":[\"BCI\"],\"line_alpha\":[1.0],\"line_color\":[\"white\"],\"width\":[0.7],\"x\":[\"BCI\"],\"y\":[1.2519147209741743]}},\"id\":\"18abd30b-0e03-484b-8e54-6035f6e295d0\",\"type\":\"ColumnDataSource\"},{\"attributes\":{\"plot\":{\"id\":\"6adbdf70-91f6-4bf6-a3d0-35188c03972b\",\"subtype\":\"Chart\",\"type\":\"Plot\"}},\"id\":\"6aad9f13-30ab-4382-9ce2-6b955b62fe96\",\"type\":\"HelpTool\"},{\"attributes\":{\"data_source\":{\"id\":\"5ed4c3e4-c068-46fe-8495-b4b8923a9470\",\"type\":\"ColumnDataSource\"},\"glyph\":{\"id\":\"2750d1bb-1354-445e-aade-991a0815126f\",\"type\":\"Rect\"},\"hover_glyph\":null,\"muted_glyph\":null},\"id\":\"0b9a217a-9f22-4190-b703-77b2f9b41b58\",\"type\":\"GlyphRenderer\"},{\"attributes\":{},\"id\":\"25666fdc-f9e1-47c4-b38c-8ca36d5cb324\",\"type\":\"CategoricalTickFormatter\"},{\"attributes\":{\"label\":{\"value\":\"Fraud\"},\"renderers\":[{\"id\":\"2a581870-d516-470c-ab4c-7cc11a210ab2\",\"type\":\"GlyphRenderer\"}]},\"id\":\"363454a4-fcca-486b-a362-84de3367eeb8\",\"type\":\"LegendItem\"},{\"attributes\":{\"below\":[{\"id\":\"27e2ce74-eb3f-4b45-a260-16640f12e4f9\",\"type\":\"CategoricalAxis\"}],\"css_classes\":null,\"left\":[{\"id\":\"558176a9-c26d-4a42-93f5-1b7ac034afde\",\"type\":\"LinearAxis\"}],\"plot_height\":400,\"renderers\":[{\"id\":\"e1520363-7852-43ce-b49e-6d3972ea6910\",\"type\":\"BoxAnnotation\"},{\"id\":\"0b9a217a-9f22-4190-b703-77b2f9b41b58\",\"type\":\"GlyphRenderer\"},{\"id\":\"8b301f97-8310-4d7a-81a6-b094d17be985\",\"type\":\"GlyphRenderer\"},{\"id\":\"5b3add3c-f4c3-45d4-b3a5-a29432c39cc9\",\"type\":\"GlyphRenderer\"},{\"id\":\"2b14830b-578f-492e-abad-47e3aa606b59\",\"type\":\"GlyphRenderer\"},{\"id\":\"2a581870-d516-470c-ab4c-7cc11a210ab2\",\"type\":\"GlyphRenderer\"},{\"id\":\"e5a927bf-5c98-40f4-abb1-48c4cbe602c1\",\"type\":\"Legend\"},{\"id\":\"27e2ce74-eb3f-4b45-a260-16640f12e4f9\",\"type\":\"CategoricalAxis\"},{\"id\":\"558176a9-c26d-4a42-93f5-1b7ac034afde\",\"type\":\"LinearAxis\"},{\"id\":\"61d5c53f-e385-419d-ab36-26db1173a666\",\"type\":\"Grid\"}],\"title\":{\"id\":\"9b662dbe-4354-4791-ba33-de6bb7ef0b49\",\"type\":\"Title\"},\"tool_events\":{\"id\":\"df371e11-646f-43ce-b129-747573f79b58\",\"type\":\"ToolEvents\"},\"toolbar\":{\"id\":\"81d890af-7c4d-4103-a861-6f85fbf4a836\",\"type\":\"Toolbar\"},\"toolbar_location\":\"above\",\"x_range\":{\"id\":\"9e161199-4c87-4c98-a22e-5b2e539bf45c\",\"type\":\"FactorRange\"},\"x_scale\":{\"id\":\"01f1fb78-d968-4f7e-92fc-b1cb16941550\",\"type\":\"CategoricalScale\"},\"y_range\":{\"id\":\"9998fd63-8ccf-416b-8474-e8f31b1fd056\",\"type\":\"Range1d\"},\"y_scale\":{\"id\":\"9074d37f-c982-4c3b-9264-7fcada88bb00\",\"type\":\"LinearScale\"}},\"id\":\"6adbdf70-91f6-4bf6-a3d0-35188c03972b\",\"subtype\":\"Chart\",\"type\":\"Plot\"},{\"attributes\":{\"label\":{\"value\":\"Football\"},\"renderers\":[{\"id\":\"2b14830b-578f-492e-abad-47e3aa606b59\",\"type\":\"GlyphRenderer\"}]},\"id\":\"05f6cf51-3af4-4305-a752-d755fec7cf0f\",\"type\":\"LegendItem\"},{\"attributes\":{\"fill_alpha\":{\"field\":\"fill_alpha\"},\"fill_color\":{\"field\":\"color\"},\"height\":{\"field\":\"height\",\"units\":\"data\"},\"line_color\":{\"field\":\"line_color\"},\"width\":{\"field\":\"width\",\"units\":\"data\"},\"x\":{\"field\":\"x\"},\"y\":{\"field\":\"y\"}},\"id\":\"d90b0233-a90a-4dc2-b8d7-323cb2de0a4b\",\"type\":\"Rect\"},{\"attributes\":{\"callback\":null,\"column_names\":[\"width\",\"y\",\"height\",\"x\",\"line_alpha\",\"fill_alpha\",\"color\",\"line_color\",\"label\"],\"data\":{\"chart_index\":[{\"label\":\"Airline\"}],\"color\":[\"#5975a4\"],\"fill_alpha\":[0.8],\"height\":[5.952343297378905],\"label\":[\"Airline\"],\"line_alpha\":[1.0],\"line_color\":[\"white\"],\"width\":[0.7],\"x\":[\"Airline\"],\"y\":[2.9761716486894527]}},\"id\":\"5ed4c3e4-c068-46fe-8495-b4b8923a9470\",\"type\":\"ColumnDataSource\"},{\"attributes\":{\"callback\":null,\"end\":6.348242687812748},\"id\":\"9998fd63-8ccf-416b-8474-e8f31b1fd056\",\"type\":\"Range1d\"},{\"attributes\":{},\"id\":\"b7c74537-54f0-4218-81a8-68dcf52b511a\",\"type\":\"BasicTicker\"},{\"attributes\":{\"data_source\":{\"id\":\"18abd30b-0e03-484b-8e54-6035f6e295d0\",\"type\":\"ColumnDataSource\"},\"glyph\":{\"id\":\"9948d893-0bd1-436d-9e1d-4fab0da9da28\",\"type\":\"Rect\"},\"hover_glyph\":null,\"muted_glyph\":null},\"id\":\"5b3add3c-f4c3-45d4-b3a5-a29432c39cc9\",\"type\":\"GlyphRenderer\"},{\"attributes\":{\"callback\":null,\"column_names\":[\"width\",\"y\",\"height\",\"x\",\"line_alpha\",\"fill_alpha\",\"color\",\"line_color\",\"label\"],\"data\":{\"chart_index\":[{\"label\":\"Fraud\"}],\"color\":[\"#5975a4\"],\"fill_alpha\":[0.8],\"height\":[6.045945416964522],\"label\":[\"Fraud\"],\"line_alpha\":[1.0],\"line_color\":[\"white\"],\"width\":[0.7],\"x\":[\"Fraud\"],\"y\":[3.022972708482261]}},\"id\":\"3f640c4f-b346-41dc-8dc8-d06fdcb4655a\",\"type\":\"ColumnDataSource\"},{\"attributes\":{\"bottom_units\":\"screen\",\"fill_alpha\":{\"value\":0.5},\"fill_color\":{\"value\":\"lightgrey\"},\"left_units\":\"screen\",\"level\":\"overlay\",\"line_alpha\":{\"value\":1.0},\"line_color\":{\"value\":\"black\"},\"line_dash\":[4,4],\"line_width\":{\"value\":2},\"plot\":null,\"render_mode\":\"css\",\"right_units\":\"screen\",\"top_units\":\"screen\"},\"id\":\"e1520363-7852-43ce-b49e-6d3972ea6910\",\"type\":\"BoxAnnotation\"},{\"attributes\":{\"plot\":{\"id\":\"6adbdf70-91f6-4bf6-a3d0-35188c03972b\",\"subtype\":\"Chart\",\"type\":\"Plot\"}},\"id\":\"2562170b-0684-4e32-b2c1-48bde00f7ecb\",\"type\":\"WheelZoomTool\"},{\"attributes\":{\"fill_alpha\":{\"field\":\"fill_alpha\"},\"fill_color\":{\"field\":\"color\"},\"height\":{\"field\":\"height\",\"units\":\"data\"},\"line_color\":{\"field\":\"line_color\"},\"width\":{\"field\":\"width\",\"units\":\"data\"},\"x\":{\"field\":\"x\"},\"y\":{\"field\":\"y\"}},\"id\":\"b144745e-b3d3-49bf-9f54-2b13fc1c9344\",\"type\":\"Rect\"},{\"attributes\":{\"plot\":{\"id\":\"6adbdf70-91f6-4bf6-a3d0-35188c03972b\",\"subtype\":\"Chart\",\"type\":\"Plot\"}},\"id\":\"387741b7-a214-4f4d-b844-c6ddf19ee890\",\"type\":\"SaveTool\"},{\"attributes\":{\"data_source\":{\"id\":\"10da8d14-d3fc-4e44-a0d2-5f6ccbf2221a\",\"type\":\"ColumnDataSource\"},\"glyph\":{\"id\":\"b144745e-b3d3-49bf-9f54-2b13fc1c9344\",\"type\":\"Rect\"},\"hover_glyph\":null,\"muted_glyph\":null},\"id\":\"8b301f97-8310-4d7a-81a6-b094d17be985\",\"type\":\"GlyphRenderer\"},{\"attributes\":{\"callback\":null,\"column_names\":[\"width\",\"y\",\"height\",\"x\",\"line_alpha\",\"fill_alpha\",\"color\",\"line_color\",\"label\"],\"data\":{\"chart_index\":[{\"label\":\"Amazon\"}],\"color\":[\"#5975a4\"],\"fill_alpha\":[0.8],\"height\":[3.7218581920231033],\"label\":[\"Amazon\"],\"line_alpha\":[1.0],\"line_color\":[\"white\"],\"width\":[0.7],\"x\":[\"Amazon\"],\"y\":[1.8609290960115517]}},\"id\":\"10da8d14-d3fc-4e44-a0d2-5f6ccbf2221a\",\"type\":\"ColumnDataSource\"},{\"attributes\":{\"fill_alpha\":{\"field\":\"fill_alpha\"},\"fill_color\":{\"field\":\"color\"},\"height\":{\"field\":\"height\",\"units\":\"data\"},\"line_color\":{\"field\":\"line_color\"},\"width\":{\"field\":\"width\",\"units\":\"data\"},\"x\":{\"field\":\"x\"},\"y\":{\"field\":\"y\"}},\"id\":\"2750d1bb-1354-445e-aade-991a0815126f\",\"type\":\"Rect\"},{\"attributes\":{\"plot\":null,\"text\":null},\"id\":\"9b662dbe-4354-4791-ba33-de6bb7ef0b49\",\"type\":\"Title\"},{\"attributes\":{\"axis_label\":\"\",\"formatter\":{\"id\":\"25666fdc-f9e1-47c4-b38c-8ca36d5cb324\",\"type\":\"CategoricalTickFormatter\"},\"major_label_orientation\":0.7853981633974483,\"plot\":{\"id\":\"6adbdf70-91f6-4bf6-a3d0-35188c03972b\",\"subtype\":\"Chart\",\"type\":\"Plot\"},\"ticker\":{\"id\":\"d35d011e-3741-4e11-ba60-ada63c8f0a45\",\"type\":\"CategoricalTicker\"}},\"id\":\"27e2ce74-eb3f-4b45-a260-16640f12e4f9\",\"type\":\"CategoricalAxis\"}],\"root_ids\":[\"6adbdf70-91f6-4bf6-a3d0-35188c03972b\"]},\"title\":\"Bokeh Application\",\"version\":\"0.12.6\"}};\n",
       "            var render_items = [{\"docid\":\"aa2ad3dc-2141-489d-91d0-904c039f1192\",\"elementid\":\"54c8b0bd-eaeb-45bd-a46b-1d0ab83f7a94\",\"modelid\":\"6adbdf70-91f6-4bf6-a3d0-35188c03972b\"}];\n",
       "            \n",
       "            Bokeh.embed.embed_items(docs_json, render_items);\n",
       "          };\n",
       "          if (document.readyState != \"loading\") fn();\n",
       "          else document.addEventListener(\"DOMContentLoaded\", fn);\n",
       "        })();\n",
       "      },\n",
       "      function(Bokeh) {\n",
       "      }\n",
       "    ];\n",
       "  \n",
       "    function run_inline_js() {\n",
       "      \n",
       "      if ((window.Bokeh !== undefined) || (force === true)) {\n",
       "        for (var i = 0; i < inline_js.length; i++) {\n",
       "          inline_js[i](window.Bokeh);\n",
       "        }if (force === true) {\n",
       "          display_loaded();\n",
       "        }} else if (Date.now() < window._bokeh_timeout) {\n",
       "        setTimeout(run_inline_js, 100);\n",
       "      } else if (!window._bokeh_failed_load) {\n",
       "        console.log(\"Bokeh: BokehJS failed to load within specified timeout.\");\n",
       "        window._bokeh_failed_load = true;\n",
       "      } else if (force !== true) {\n",
       "        var cell = $(document.getElementById(\"54c8b0bd-eaeb-45bd-a46b-1d0ab83f7a94\")).parents('.cell').data().cell;\n",
       "        cell.output_area.append_execute_result(NB_LOAD_WARNING)\n",
       "      }\n",
       "  \n",
       "    }\n",
       "  \n",
       "    if (window._bokeh_is_loading === 0) {\n",
       "      console.log(\"Bokeh: BokehJS loaded, going straight to plotting\");\n",
       "      run_inline_js();\n",
       "    } else {\n",
       "      load_libs(js_urls, function() {\n",
       "        console.log(\"Bokeh: BokehJS plotting callback run at\", now());\n",
       "        run_inline_js();\n",
       "      });\n",
       "    }\n",
       "  }(this));\n",
       "</script>"
      ]
     },
     "metadata": {},
     "output_type": "display_data"
    }
   ],
   "source": [
    "bar = Bar(data, values='Train Time Ratio', agg='mean', label=['label'], \n",
    "          plot_width=600, plot_height=400, bar_width=0.7, color='#5975a4')\n",
    "bar.axis[0].axis_label=''\n",
    "bar.axis[1].axis_label='Train Time Ratio'\n",
    "bar.toolbar_location='above'\n",
    "bar.legend[0].visible=False\n",
    "show(bar)"
   ]
  },
  {
   "cell_type": "code",
   "execution_count": 20,
   "metadata": {
    "collapsed": false,
    "deletable": true,
    "editable": true
   },
   "outputs": [
    {
     "data": {
      "image/svg+xml": [
       "<svg height=\"400\" style=\"width: 600px; height: 400px;\" version=\"1.1\" width=\"600\" xmlns=\"http://www.w3.org/2000/svg\" xmlns:xlink=\"http://www.w3.org/1999/xlink\"><defs/><g><g/><g transform=\"scale(1,1) translate(0.5,0.5)\"><rect fill=\"#FFFFFF\" height=\"400\" stroke=\"none\" width=\"600\" x=\"0\" y=\"0\"/><rect fill=\"#ffffff\" height=\"400\" stroke=\"none\" width=\"600\" x=\"0\" y=\"0\"/><rect fill=\"#FFFFFF\" height=\"318.4856540593094\" stroke=\"none\" width=\"553.5871875\" x=\"41.412812500000015\" y=\"29\"/><rect fill=\"#ffffff\" height=\"318.4856540593094\" stroke=\"none\" width=\"553.5871875\" x=\"41.412812500000015\" y=\"29\"/><g><rect fill=\"none\" height=\"318.4856540593094\" stroke=\"#e5e5e5\" stroke-miterlimit=\"10\" width=\"553.5871875\" x=\"41.412812500000015\" y=\"29\"/></g><g><g><path d=\" M 41 297 L 595 297\" fill=\"none\" paint-order=\"fill stroke markers\" stroke=\"#e5e5e5\" stroke-miterlimit=\"10\"/><path d=\" M 41 247 L 595 247\" fill=\"none\" paint-order=\"fill stroke markers\" stroke=\"#e5e5e5\" stroke-miterlimit=\"10\"/><path d=\" M 41 197 L 595 197\" fill=\"none\" paint-order=\"fill stroke markers\" stroke=\"#e5e5e5\" stroke-miterlimit=\"10\"/><path d=\" M 41 147 L 595 147\" fill=\"none\" paint-order=\"fill stroke markers\" stroke=\"#e5e5e5\" stroke-miterlimit=\"10\"/><path d=\" M 41 97 L 595 97\" fill=\"none\" paint-order=\"fill stroke markers\" stroke=\"#e5e5e5\" stroke-miterlimit=\"10\"/><path d=\" M 41 46 L 595 46\" fill=\"none\" paint-order=\"fill stroke markers\" stroke=\"#e5e5e5\" stroke-miterlimit=\"10\"/></g><g><path fill=\"none\" stroke=\"none\"/><rect fill=\"#5975a4\" fill-opacity=\"0.8\" height=\"298.6237359656508\" stroke=\"none\" width=\"77.50220624999929\" x=\"58.02042812500002\" y=\"48.86191809365863\"/><path d=\" M 58.02042812500002 48.86191809365863 L 135.5226343749993 48.86191809365863 L 135.5226343749993 347.4856540593094 L 58.02042812500002 347.4856540593094 L 58.02042812500002 48.86191809365863 Z\" fill=\"none\" paint-order=\"fill stroke markers\" stroke=\"white\" stroke-miterlimit=\"10\"/><path d=\"\" fill=\"none\" paint-order=\"fill stroke markers\" stroke=\"white\" stroke-miterlimit=\"10\"/></g><g><path fill=\"none\" stroke=\"none\"/><rect fill=\"#5975a4\" fill-opacity=\"0.8\" height=\"186.7222944828667\" stroke=\"none\" width=\"77.50220624999929\" x=\"168.737865625\" y=\"160.76335957644272\"/><path d=\" M 168.737865625 160.76335957644272 L 246.2400718749993 160.76335957644272 L 246.2400718749993 347.4856540593094 L 168.737865625 347.4856540593094 L 168.737865625 160.76335957644272 Z\" fill=\"none\" paint-order=\"fill stroke markers\" stroke=\"white\" stroke-miterlimit=\"10\"/><path d=\"\" fill=\"none\" paint-order=\"fill stroke markers\" stroke=\"white\" stroke-miterlimit=\"10\"/></g><g><path fill=\"none\" stroke=\"none\"/><rect fill=\"#5975a4\" fill-opacity=\"0.8\" height=\"125.61488221028092\" stroke=\"none\" width=\"77.50220624999929\" x=\"279.455303125\" y=\"221.87077184902847\"/><path d=\" M 279.455303125 221.87077184902847 L 356.9575093749993 221.87077184902847 L 356.9575093749993 347.4856540593094 L 279.455303125 347.4856540593094 L 279.455303125 221.87077184902847 Z\" fill=\"none\" paint-order=\"fill stroke markers\" stroke=\"white\" stroke-miterlimit=\"10\"/><path d=\"\" fill=\"none\" paint-order=\"fill stroke markers\" stroke=\"white\" stroke-miterlimit=\"10\"/></g><g><path fill=\"none\" stroke=\"none\"/><rect fill=\"#5975a4\" fill-opacity=\"0.8\" height=\"196.1230116331435\" stroke=\"none\" width=\"77.50220625000657\" x=\"390.172740625\" y=\"151.3626424261659\"/><path d=\" M 390.172740625 151.3626424261659 L 467.6749468750066 151.3626424261659 L 467.6749468750066 347.4856540593094 L 390.172740625 347.4856540593094 L 390.172740625 151.3626424261659 Z\" fill=\"none\" paint-order=\"fill stroke markers\" stroke=\"white\" stroke-miterlimit=\"10\"/><path d=\"\" fill=\"none\" paint-order=\"fill stroke markers\" stroke=\"white\" stroke-miterlimit=\"10\"/></g><g><path fill=\"none\" stroke=\"none\"/><rect fill=\"#5975a4\" fill-opacity=\"0.8\" height=\"303.3196705326756\" stroke=\"none\" width=\"77.50220625000657\" x=\"500.89017812500003\" y=\"44.165983526633795\"/><path d=\" M 500.89017812500003 44.165983526633795 L 578.3923843750066 44.165983526633795 L 578.3923843750066 347.4856540593094 L 500.89017812500003 347.4856540593094 L 500.89017812500003 44.165983526633795 Z\" fill=\"none\" paint-order=\"fill stroke markers\" stroke=\"white\" stroke-miterlimit=\"10\"/><path d=\"\" fill=\"none\" paint-order=\"fill stroke markers\" stroke=\"white\" stroke-miterlimit=\"10\"/></g></g><g/><g><g fill=\"#444444\"><path d=\" M 41 347 L 595 347\" fill=\"none\" paint-order=\"fill stroke markers\" stroke=\"black\" stroke-miterlimit=\"10\"/><path d=\" M 97 353 L 97 345\" fill=\"none\" paint-order=\"fill stroke markers\" stroke=\"black\" stroke-miterlimit=\"10\"/><path d=\" M 207 353 L 207 345\" fill=\"none\" paint-order=\"fill stroke markers\" stroke=\"black\" stroke-miterlimit=\"10\"/><path d=\" M 318 353 L 318 345\" fill=\"none\" paint-order=\"fill stroke markers\" stroke=\"black\" stroke-miterlimit=\"10\"/><path d=\" M 429 353 L 429 345\" fill=\"none\" paint-order=\"fill stroke markers\" stroke=\"black\" stroke-miterlimit=\"10\"/><path d=\" M 540 353 L 540 345\" fill=\"\" paint-order=\"fill stroke markers\" stroke=\"black\" stroke-miterlimit=\"10\"/><g transform=\"translate(96.77153125000001,358.4856540593094) rotate(-45,0,0)\"><text dominant-baseline=\"central\" fill=\"\" font-family=\"helvetica\" font-size=\"8pt\" font-style=\"normal\" font-weight=\"normal\" stroke=\"none\" text-anchor=\"end\" text-decoration=\"normal\" x=\"0\" y=\"0\">Airline</text><g transform=\"rotate(45,0,0) translate(-96.77153125000001,-358.4856540593094) translate(207.48896875000003,358.4856540593094) rotate(-45,0,0)\"><text dominant-baseline=\"central\" fill=\"\" font-family=\"helvetica\" font-size=\"8pt\" font-style=\"normal\" font-weight=\"normal\" stroke=\"none\" text-anchor=\"end\" text-decoration=\"normal\" x=\"0\" y=\"0\">Amazon</text><g transform=\"rotate(45,0,0) translate(-207.48896875000003,-358.4856540593094) translate(318.20640625,358.4856540593094) rotate(-45,0,0)\"><text dominant-baseline=\"central\" fill=\"\" font-family=\"helvetica\" font-size=\"8pt\" font-style=\"normal\" font-weight=\"normal\" stroke=\"none\" text-anchor=\"end\" text-decoration=\"normal\" x=\"0\" y=\"0\">BCI</text><g transform=\"rotate(45,0,0) translate(-318.20640625,-358.4856540593094) translate(428.92384375,358.4856540593094) rotate(-45,0,0)\"><text dominant-baseline=\"central\" fill=\"\" font-family=\"helvetica\" font-size=\"8pt\" font-style=\"normal\" font-weight=\"normal\" stroke=\"none\" text-anchor=\"end\" text-decoration=\"normal\" x=\"0\" y=\"0\">Football</text><g transform=\"rotate(45,0,0) translate(-428.92384375,-358.4856540593094) translate(539.64128125,358.4856540593094) rotate(-45,0,0)\"><text dominant-baseline=\"central\" fill=\"\" font-family=\"helvetica\" font-size=\"8pt\" font-style=\"normal\" font-weight=\"normal\" stroke=\"none\" text-anchor=\"end\" text-decoration=\"normal\" x=\"0\" y=\"0\">Fraud</text><g transform=\"rotate(45,0,0) translate(-539.64128125,-358.4856540593094)\"><text dominant-baseline=\"hanging\" fill=\"\" font-family=\"helvetica\" font-size=\"10pt\" font-style=\"italic\" font-weight=\"normal\" stroke=\"none\" text-anchor=\"middle\" text-decoration=\"normal\" x=\"318.20640625\" y=\"404\"/></g></g></g></g></g></g></g><g><path d=\" M 41 347 L 41 29\" fill=\"none\" paint-order=\"fill stroke markers\" stroke=\"black\" stroke-miterlimit=\"10\"/><path d=\" M 35 347 L 43 347\" fill=\"none\" paint-order=\"fill stroke markers\" stroke=\"black\" stroke-miterlimit=\"10\"/><path d=\" M 35 297 L 43 297\" fill=\"none\" paint-order=\"fill stroke markers\" stroke=\"black\" stroke-miterlimit=\"10\"/><path d=\" M 35 247 L 43 247\" fill=\"none\" paint-order=\"fill stroke markers\" stroke=\"black\" stroke-miterlimit=\"10\"/><path d=\" M 35 197 L 43 197\" fill=\"none\" paint-order=\"fill stroke markers\" stroke=\"black\" stroke-miterlimit=\"10\"/><path d=\" M 35 147 L 43 147\" fill=\"none\" paint-order=\"fill stroke markers\" stroke=\"black\" stroke-miterlimit=\"10\"/><path d=\" M 35 97 L 43 97\" fill=\"none\" paint-order=\"fill stroke markers\" stroke=\"black\" stroke-miterlimit=\"10\"/><path d=\" M 35 46 L 43 46\" fill=\"none\" paint-order=\"fill stroke markers\" stroke=\"black\" stroke-miterlimit=\"10\"/><path d=\" M 37 347 L 41 347\" fill=\"none\" paint-order=\"fill stroke markers\" stroke=\"black\" stroke-miterlimit=\"10\"/><path d=\" M 37 337 L 41 337\" fill=\"none\" paint-order=\"fill stroke markers\" stroke=\"black\" stroke-miterlimit=\"10\"/><path d=\" M 37 327 L 41 327\" fill=\"none\" paint-order=\"fill stroke markers\" stroke=\"black\" stroke-miterlimit=\"10\"/><path d=\" M 37 317 L 41 317\" fill=\"none\" paint-order=\"fill stroke markers\" stroke=\"black\" stroke-miterlimit=\"10\"/><path d=\" M 37 307 L 41 307\" fill=\"none\" paint-order=\"fill stroke markers\" stroke=\"black\" stroke-miterlimit=\"10\"/><path d=\" M 37 297 L 41 297\" fill=\"none\" paint-order=\"fill stroke markers\" stroke=\"black\" stroke-miterlimit=\"10\"/><path d=\" M 37 287 L 41 287\" fill=\"none\" paint-order=\"fill stroke markers\" stroke=\"black\" stroke-miterlimit=\"10\"/><path d=\" M 37 277 L 41 277\" fill=\"none\" paint-order=\"fill stroke markers\" stroke=\"black\" stroke-miterlimit=\"10\"/><path d=\" M 37 267 L 41 267\" fill=\"none\" paint-order=\"fill stroke markers\" stroke=\"black\" stroke-miterlimit=\"10\"/><path d=\" M 37 257 L 41 257\" fill=\"none\" paint-order=\"fill stroke markers\" stroke=\"black\" stroke-miterlimit=\"10\"/><path d=\" M 37 247 L 41 247\" fill=\"none\" paint-order=\"fill stroke markers\" stroke=\"black\" stroke-miterlimit=\"10\"/><path d=\" M 37 237 L 41 237\" fill=\"none\" paint-order=\"fill stroke markers\" stroke=\"black\" stroke-miterlimit=\"10\"/><path d=\" M 37 227 L 41 227\" fill=\"none\" paint-order=\"fill stroke markers\" stroke=\"black\" stroke-miterlimit=\"10\"/><path d=\" M 37 217 L 41 217\" fill=\"none\" paint-order=\"fill stroke markers\" stroke=\"black\" stroke-miterlimit=\"10\"/><path d=\" M 37 207 L 41 207\" fill=\"none\" paint-order=\"fill stroke markers\" stroke=\"black\" stroke-miterlimit=\"10\"/><path d=\" M 37 197 L 41 197\" fill=\"none\" paint-order=\"fill stroke markers\" stroke=\"black\" stroke-miterlimit=\"10\"/><path d=\" M 37 187 L 41 187\" fill=\"none\" paint-order=\"fill stroke markers\" stroke=\"black\" stroke-miterlimit=\"10\"/><path d=\" M 37 177 L 41 177\" fill=\"none\" paint-order=\"fill stroke markers\" stroke=\"black\" stroke-miterlimit=\"10\"/><path d=\" M 37 167 L 41 167\" fill=\"none\" paint-order=\"fill stroke markers\" stroke=\"black\" stroke-miterlimit=\"10\"/><path d=\" M 37 157 L 41 157\" fill=\"none\" paint-order=\"fill stroke markers\" stroke=\"black\" stroke-miterlimit=\"10\"/><path d=\" M 37 147 L 41 147\" fill=\"none\" paint-order=\"fill stroke markers\" stroke=\"black\" stroke-miterlimit=\"10\"/><path d=\" M 37 137 L 41 137\" fill=\"none\" paint-order=\"fill stroke markers\" stroke=\"black\" stroke-miterlimit=\"10\"/><path d=\" M 37 127 L 41 127\" fill=\"none\" paint-order=\"fill stroke markers\" stroke=\"black\" stroke-miterlimit=\"10\"/><path d=\" M 37 117 L 41 117\" fill=\"none\" paint-order=\"fill stroke markers\" stroke=\"black\" stroke-miterlimit=\"10\"/><path d=\" M 37 107 L 41 107\" fill=\"none\" paint-order=\"fill stroke markers\" stroke=\"black\" stroke-miterlimit=\"10\"/><path d=\" M 37 97 L 41 97\" fill=\"none\" paint-order=\"fill stroke markers\" stroke=\"black\" stroke-miterlimit=\"10\"/><path d=\" M 37 87 L 41 87\" fill=\"none\" paint-order=\"fill stroke markers\" stroke=\"black\" stroke-miterlimit=\"10\"/><path d=\" M 37 77 L 41 77\" fill=\"none\" paint-order=\"fill stroke markers\" stroke=\"black\" stroke-miterlimit=\"10\"/><path d=\" M 37 67 L 41 67\" fill=\"none\" paint-order=\"fill stroke markers\" stroke=\"black\" stroke-miterlimit=\"10\"/><path d=\" M 37 57 L 41 57\" fill=\"none\" paint-order=\"fill stroke markers\" stroke=\"black\" stroke-miterlimit=\"10\"/><path d=\" M 37 46 L 41 46\" fill=\"none\" paint-order=\"fill stroke markers\" stroke=\"black\" stroke-miterlimit=\"10\"/><path d=\" M 37 36 L 41 36\" fill=\"none\" paint-order=\"fill stroke markers\" stroke=\"black\" stroke-miterlimit=\"10\"/><text dominant-baseline=\"central\" fill=\"#444444\" font-family=\"helvetica\" font-size=\"8pt\" font-style=\"normal\" font-weight=\"normal\" stroke=\"none\" text-anchor=\"end\" text-decoration=\"normal\" x=\"30\" y=\"347\">0</text><text dominant-baseline=\"central\" fill=\"#444444\" font-family=\"helvetica\" font-size=\"8pt\" font-style=\"normal\" font-weight=\"normal\" stroke=\"none\" text-anchor=\"end\" text-decoration=\"normal\" x=\"30\" y=\"297\">1</text><text dominant-baseline=\"central\" fill=\"#444444\" font-family=\"helvetica\" font-size=\"8pt\" font-style=\"normal\" font-weight=\"normal\" stroke=\"none\" text-anchor=\"end\" text-decoration=\"normal\" x=\"30\" y=\"247\">2</text><text dominant-baseline=\"central\" fill=\"#444444\" font-family=\"helvetica\" font-size=\"8pt\" font-style=\"normal\" font-weight=\"normal\" stroke=\"none\" text-anchor=\"end\" text-decoration=\"normal\" x=\"30\" y=\"197\">3</text><text dominant-baseline=\"central\" fill=\"#444444\" font-family=\"helvetica\" font-size=\"8pt\" font-style=\"normal\" font-weight=\"normal\" stroke=\"none\" text-anchor=\"end\" text-decoration=\"normal\" x=\"30\" y=\"147\">4</text><text dominant-baseline=\"central\" fill=\"#444444\" font-family=\"helvetica\" font-size=\"8pt\" font-style=\"normal\" font-weight=\"normal\" stroke=\"none\" text-anchor=\"end\" text-decoration=\"normal\" x=\"30\" y=\"97\">5</text><text dominant-baseline=\"central\" fill=\"#444444\" font-family=\"helvetica\" font-size=\"8pt\" font-style=\"normal\" font-weight=\"normal\" stroke=\"none\" text-anchor=\"end\" text-decoration=\"normal\" x=\"30\" y=\"46\">6</text><g transform=\"translate(17.730000000000015,188.2428270296547) rotate(-90,0,0)\"><text dominant-baseline=\"alphabetic\" fill=\"#444444\" font-family=\"helvetica\" font-size=\"10pt\" font-style=\"italic\" font-weight=\"normal\" stroke=\"none\" text-anchor=\"middle\" text-decoration=\"normal\" x=\"0\" y=\"0\">Train Time Ratio</text><g transform=\"rotate(90,0,0) translate(-17.730000000000015,-188.2428270296547)\"/></g></g></g></g></g></svg>"
      ],
      "text/plain": [
       "<IPython.core.display.SVG object>"
      ]
     },
     "metadata": {},
     "output_type": "display_data"
    }
   ],
   "source": [
    "bar.output_backend = \"svg\"\n",
    "export_svgs(bar, filename=\"xgb_vs_lgbm_train_time.svg\")\n",
    "display(SVG('xgb_vs_lgbm_train_time.svg'))"
   ]
  },
  {
   "cell_type": "code",
   "execution_count": 21,
   "metadata": {
    "collapsed": true,
    "deletable": true,
    "editable": true
   },
   "outputs": [],
   "source": [
    "data = {\n",
    "    'Perf. Difference(%)': results_df['Perf. Difference(%)'].values,\n",
    "    'label': results_df.index.values\n",
    "}"
   ]
  },
  {
   "cell_type": "code",
   "execution_count": 22,
   "metadata": {
    "collapsed": false,
    "deletable": true,
    "editable": true
   },
   "outputs": [
    {
     "data": {
      "text/html": [
       "\n",
       "\n",
       "    <div class=\"bk-root\">\n",
       "        <div class=\"bk-plotdiv\" id=\"26e4c5a7-89e0-4633-8661-25cd7981d5a8\"></div>\n",
       "    </div>\n",
       "<script type=\"text/javascript\">\n",
       "  \n",
       "  (function(global) {\n",
       "    function now() {\n",
       "      return new Date();\n",
       "    }\n",
       "  \n",
       "    var force = false;\n",
       "  \n",
       "    if (typeof (window._bokeh_onload_callbacks) === \"undefined\" || force === true) {\n",
       "      window._bokeh_onload_callbacks = [];\n",
       "      window._bokeh_is_loading = undefined;\n",
       "    }\n",
       "  \n",
       "  \n",
       "    \n",
       "    if (typeof (window._bokeh_timeout) === \"undefined\" || force === true) {\n",
       "      window._bokeh_timeout = Date.now() + 0;\n",
       "      window._bokeh_failed_load = false;\n",
       "    }\n",
       "  \n",
       "    var NB_LOAD_WARNING = {'data': {'text/html':\n",
       "       \"<div style='background-color: #fdd'>\\n\"+\n",
       "       \"<p>\\n\"+\n",
       "       \"BokehJS does not appear to have successfully loaded. If loading BokehJS from CDN, this \\n\"+\n",
       "       \"may be due to a slow or bad network connection. Possible fixes:\\n\"+\n",
       "       \"</p>\\n\"+\n",
       "       \"<ul>\\n\"+\n",
       "       \"<li>re-rerun `output_notebook()` to attempt to load from CDN again, or</li>\\n\"+\n",
       "       \"<li>use INLINE resources instead, as so:</li>\\n\"+\n",
       "       \"</ul>\\n\"+\n",
       "       \"<code>\\n\"+\n",
       "       \"from bokeh.resources import INLINE\\n\"+\n",
       "       \"output_notebook(resources=INLINE)\\n\"+\n",
       "       \"</code>\\n\"+\n",
       "       \"</div>\"}};\n",
       "  \n",
       "    function display_loaded() {\n",
       "      if (window.Bokeh !== undefined) {\n",
       "        var el = document.getElementById(\"26e4c5a7-89e0-4633-8661-25cd7981d5a8\");\n",
       "        el.textContent = \"BokehJS \" + Bokeh.version + \" successfully loaded.\";\n",
       "      } else if (Date.now() < window._bokeh_timeout) {\n",
       "        setTimeout(display_loaded, 100)\n",
       "      }\n",
       "    }\n",
       "  \n",
       "    function run_callbacks() {\n",
       "      try {\n",
       "        window._bokeh_onload_callbacks.forEach(function(callback) { callback() });\n",
       "      }\n",
       "      finally {\n",
       "        delete window._bokeh_onload_callbacks\n",
       "      }\n",
       "      console.info(\"Bokeh: all callbacks have finished\");\n",
       "    }\n",
       "  \n",
       "    function load_libs(js_urls, callback) {\n",
       "      window._bokeh_onload_callbacks.push(callback);\n",
       "      if (window._bokeh_is_loading > 0) {\n",
       "        console.log(\"Bokeh: BokehJS is being loaded, scheduling callback at\", now());\n",
       "        return null;\n",
       "      }\n",
       "      if (js_urls == null || js_urls.length === 0) {\n",
       "        run_callbacks();\n",
       "        return null;\n",
       "      }\n",
       "      console.log(\"Bokeh: BokehJS not loaded, scheduling load and callback at\", now());\n",
       "      window._bokeh_is_loading = js_urls.length;\n",
       "      for (var i = 0; i < js_urls.length; i++) {\n",
       "        var url = js_urls[i];\n",
       "        var s = document.createElement('script');\n",
       "        s.src = url;\n",
       "        s.async = false;\n",
       "        s.onreadystatechange = s.onload = function() {\n",
       "          window._bokeh_is_loading--;\n",
       "          if (window._bokeh_is_loading === 0) {\n",
       "            console.log(\"Bokeh: all BokehJS libraries loaded\");\n",
       "            run_callbacks()\n",
       "          }\n",
       "        };\n",
       "        s.onerror = function() {\n",
       "          console.warn(\"failed to load library \" + url);\n",
       "        };\n",
       "        console.log(\"Bokeh: injecting script tag for BokehJS library: \", url);\n",
       "        document.getElementsByTagName(\"head\")[0].appendChild(s);\n",
       "      }\n",
       "    };var element = document.getElementById(\"26e4c5a7-89e0-4633-8661-25cd7981d5a8\");\n",
       "    if (element == null) {\n",
       "      console.log(\"Bokeh: ERROR: autoload.js configured with elementid '26e4c5a7-89e0-4633-8661-25cd7981d5a8' but no matching script tag was found. \")\n",
       "      return false;\n",
       "    }\n",
       "  \n",
       "    var js_urls = [];\n",
       "  \n",
       "    var inline_js = [\n",
       "      function(Bokeh) {\n",
       "        (function() {\n",
       "          var fn = function() {\n",
       "            var docs_json = {\"481a094b-d505-4946-a71a-5c70acb17ee1\":{\"roots\":{\"references\":[{\"attributes\":{\"callback\":null,\"column_names\":[\"width\",\"y\",\"height\",\"x\",\"line_alpha\",\"fill_alpha\",\"color\",\"line_color\",\"label\"],\"data\":{\"chart_index\":[{\"label\":\"Amazon\"}],\"color\":[\"#5975a4\"],\"fill_alpha\":[0.8],\"height\":[15.701025825523763],\"label\":[\"Amazon\"],\"line_alpha\":[1.0],\"line_color\":[\"white\"],\"width\":[0.7],\"x\":[\"Amazon\"],\"y\":[7.850512912761881]}},\"id\":\"19213be6-6cb8-46b0-9e54-b3e716684f6e\",\"type\":\"ColumnDataSource\"},{\"attributes\":{\"active_drag\":\"auto\",\"active_inspect\":\"auto\",\"active_scroll\":\"auto\",\"active_tap\":\"auto\",\"tools\":[{\"id\":\"aaf8c1c4-6344-4c3c-a84c-c402bd552533\",\"type\":\"PanTool\"},{\"id\":\"52e00de5-d194-4564-9241-68a9de99c7f2\",\"type\":\"WheelZoomTool\"},{\"id\":\"496e9dcf-f97f-4312-8425-51ba739a8f7c\",\"type\":\"BoxZoomTool\"},{\"id\":\"b47609b6-92ad-4850-9e0f-a7a687e07911\",\"type\":\"SaveTool\"},{\"id\":\"2432d9a1-d03d-4009-9ff5-8d424278b913\",\"type\":\"ResetTool\"},{\"id\":\"3433208c-f586-4a95-ae8f-895870fb1052\",\"type\":\"HelpTool\"}]},\"id\":\"f7f89566-ac73-443c-9384-81c89a0aac88\",\"type\":\"Toolbar\"},{\"attributes\":{\"fill_alpha\":{\"field\":\"fill_alpha\"},\"fill_color\":{\"field\":\"color\"},\"height\":{\"field\":\"height\",\"units\":\"data\"},\"line_color\":{\"field\":\"line_color\"},\"width\":{\"field\":\"width\",\"units\":\"data\"},\"x\":{\"field\":\"x\"},\"y\":{\"field\":\"y\"}},\"id\":\"fc84e664-bff5-4a8e-8d95-3fc70557ede9\",\"type\":\"Rect\"},{\"attributes\":{\"bottom_units\":\"screen\",\"fill_alpha\":{\"value\":0.5},\"fill_color\":{\"value\":\"lightgrey\"},\"left_units\":\"screen\",\"level\":\"overlay\",\"line_alpha\":{\"value\":1.0},\"line_color\":{\"value\":\"black\"},\"line_dash\":[4,4],\"line_width\":{\"value\":2},\"plot\":null,\"render_mode\":\"css\",\"right_units\":\"screen\",\"top_units\":\"screen\"},\"id\":\"89259b3b-2b06-4c7f-9045-e2f3b139d0de\",\"type\":\"BoxAnnotation\"},{\"attributes\":{\"callback\":null,\"column_names\":[\"width\",\"y\",\"height\",\"x\",\"line_alpha\",\"fill_alpha\",\"color\",\"line_color\",\"label\"],\"data\":{\"chart_index\":[{\"label\":\"BCI\"}],\"color\":[\"#5975a4\"],\"fill_alpha\":[0.8],\"height\":[6.250870779377596],\"label\":[\"BCI\"],\"line_alpha\":[1.0],\"line_color\":[\"white\"],\"width\":[0.7],\"x\":[\"BCI\"],\"y\":[3.125435389688798]}},\"id\":\"38b5679c-ebb8-42c3-a335-664ac10f364d\",\"type\":\"ColumnDataSource\"},{\"attributes\":{\"callback\":null,\"column_names\":[\"width\",\"y\",\"height\",\"x\",\"line_alpha\",\"fill_alpha\",\"color\",\"line_color\",\"label\"],\"data\":{\"chart_index\":[{\"label\":\"Fraud\"}],\"color\":[\"#5975a4\"],\"fill_alpha\":[0.8],\"height\":[-1.0766243286819193],\"label\":[\"Fraud\"],\"line_alpha\":[1.0],\"line_color\":[\"white\"],\"width\":[0.7],\"x\":[\"Fraud\"],\"y\":[-0.5383121643409596]}},\"id\":\"d492a5a6-15bb-4a64-aaea-acd7782b640c\",\"type\":\"ColumnDataSource\"},{\"attributes\":{\"callback\":null,\"column_names\":[\"width\",\"y\",\"height\",\"x\",\"line_alpha\",\"fill_alpha\",\"color\",\"line_color\",\"label\"],\"data\":{\"chart_index\":[{\"label\":\"Airline\"}],\"color\":[\"#5975a4\"],\"fill_alpha\":[0.8],\"height\":[-0.02599412423365921],\"label\":[\"Airline\"],\"line_alpha\":[1.0],\"line_color\":[\"white\"],\"width\":[0.7],\"x\":[\"Airline\"],\"y\":[-0.012997062116829605]}},\"id\":\"a657fd08-869a-4a4e-8b4b-9b5055e9de9c\",\"type\":\"ColumnDataSource\"},{\"attributes\":{},\"id\":\"d48e009b-8586-46b1-aa23-9ffe1aa22ac0\",\"type\":\"BasicTicker\"},{\"attributes\":{\"plot\":{\"id\":\"5573bb09-e252-4a60-b95c-74bb43cf4954\",\"subtype\":\"Chart\",\"type\":\"Plot\"}},\"id\":\"2432d9a1-d03d-4009-9ff5-8d424278b913\",\"type\":\"ResetTool\"},{\"attributes\":{\"label\":{\"value\":\"BCI\"},\"renderers\":[{\"id\":\"c5f3d542-21d8-4e39-895a-260588fccf8c\",\"type\":\"GlyphRenderer\"}]},\"id\":\"786f3c7a-b008-4cbf-b065-74f0ed456bea\",\"type\":\"LegendItem\"},{\"attributes\":{\"fill_alpha\":{\"field\":\"fill_alpha\"},\"fill_color\":{\"field\":\"color\"},\"height\":{\"field\":\"height\",\"units\":\"data\"},\"line_color\":{\"field\":\"line_color\"},\"width\":{\"field\":\"width\",\"units\":\"data\"},\"x\":{\"field\":\"x\"},\"y\":{\"field\":\"y\"}},\"id\":\"198dcc09-a110-4881-95d7-5049e0187c4e\",\"type\":\"Rect\"},{\"attributes\":{\"plot\":null,\"text\":null},\"id\":\"4f029b64-2b32-42b1-abd6-f6fc49442d3d\",\"type\":\"Title\"},{\"attributes\":{\"label\":{\"value\":\"Football\"},\"renderers\":[{\"id\":\"377f58a0-b52e-4fd4-88dc-46c9c69e944a\",\"type\":\"GlyphRenderer\"}]},\"id\":\"aebf92e0-a416-472a-8cea-8de3b0089c36\",\"type\":\"LegendItem\"},{\"attributes\":{\"label\":{\"value\":\"Fraud\"},\"renderers\":[{\"id\":\"dd484739-20ce-422c-bd82-14f605e0a664\",\"type\":\"GlyphRenderer\"}]},\"id\":\"4fdbc108-1a5d-4f43-8a9a-544992d7eb29\",\"type\":\"LegendItem\"},{\"attributes\":{\"data_source\":{\"id\":\"38b5679c-ebb8-42c3-a335-664ac10f364d\",\"type\":\"ColumnDataSource\"},\"glyph\":{\"id\":\"e235d0d5-14b7-4759-93f6-eeee11fdade1\",\"type\":\"Rect\"},\"hover_glyph\":null,\"muted_glyph\":null},\"id\":\"c5f3d542-21d8-4e39-895a-260588fccf8c\",\"type\":\"GlyphRenderer\"},{\"attributes\":{},\"id\":\"7f7bf46d-31d2-4187-9275-71adc4ba55bd\",\"type\":\"CategoricalTicker\"},{\"attributes\":{},\"id\":\"567c430f-d139-4c37-9795-58ca15638f7d\",\"type\":\"LinearScale\"},{\"attributes\":{\"items\":[{\"id\":\"bcd52137-5d9c-4f14-a071-77bd8d70161f\",\"type\":\"LegendItem\"},{\"id\":\"7fe8ea62-d29c-49c6-9ee8-cb05227f3ad2\",\"type\":\"LegendItem\"},{\"id\":\"786f3c7a-b008-4cbf-b065-74f0ed456bea\",\"type\":\"LegendItem\"},{\"id\":\"aebf92e0-a416-472a-8cea-8de3b0089c36\",\"type\":\"LegendItem\"},{\"id\":\"4fdbc108-1a5d-4f43-8a9a-544992d7eb29\",\"type\":\"LegendItem\"}],\"location\":\"top_left\",\"plot\":{\"id\":\"5573bb09-e252-4a60-b95c-74bb43cf4954\",\"subtype\":\"Chart\",\"type\":\"Plot\"},\"visible\":false},\"id\":\"5e8de4bf-0c7a-45f5-a317-959a3f0c4f57\",\"type\":\"Legend\"},{\"attributes\":{\"fill_alpha\":{\"field\":\"fill_alpha\"},\"fill_color\":{\"field\":\"color\"},\"height\":{\"field\":\"height\",\"units\":\"data\"},\"line_color\":{\"field\":\"line_color\"},\"width\":{\"field\":\"width\",\"units\":\"data\"},\"x\":{\"field\":\"x\"},\"y\":{\"field\":\"y\"}},\"id\":\"16bd3c47-e3f2-4076-aa58-4272fda0566e\",\"type\":\"Rect\"},{\"attributes\":{\"overlay\":{\"id\":\"89259b3b-2b06-4c7f-9045-e2f3b139d0de\",\"type\":\"BoxAnnotation\"},\"plot\":{\"id\":\"5573bb09-e252-4a60-b95c-74bb43cf4954\",\"subtype\":\"Chart\",\"type\":\"Plot\"}},\"id\":\"496e9dcf-f97f-4312-8425-51ba739a8f7c\",\"type\":\"BoxZoomTool\"},{\"attributes\":{},\"id\":\"49e54568-2fb5-43f7-a22e-7074a7cdf009\",\"type\":\"ToolEvents\"},{\"attributes\":{},\"id\":\"e3f1f009-825d-42bc-bfae-3ec07b5e168d\",\"type\":\"CategoricalTickFormatter\"},{\"attributes\":{\"label\":{\"value\":\"Amazon\"},\"renderers\":[{\"id\":\"d07a3dff-a933-4a11-8984-d32ae2900ba3\",\"type\":\"GlyphRenderer\"}]},\"id\":\"7fe8ea62-d29c-49c6-9ee8-cb05227f3ad2\",\"type\":\"LegendItem\"},{\"attributes\":{\"axis_label\":\"\",\"formatter\":{\"id\":\"e3f1f009-825d-42bc-bfae-3ec07b5e168d\",\"type\":\"CategoricalTickFormatter\"},\"major_label_orientation\":0.7853981633974483,\"plot\":{\"id\":\"5573bb09-e252-4a60-b95c-74bb43cf4954\",\"subtype\":\"Chart\",\"type\":\"Plot\"},\"ticker\":{\"id\":\"7f7bf46d-31d2-4187-9275-71adc4ba55bd\",\"type\":\"CategoricalTicker\"}},\"id\":\"111b0c4e-3b19-4ead-93ea-b10508b16318\",\"type\":\"CategoricalAxis\"},{\"attributes\":{},\"id\":\"c3485118-471c-46f1-a3bf-cd68ee957717\",\"type\":\"BasicTickFormatter\"},{\"attributes\":{\"below\":[{\"id\":\"111b0c4e-3b19-4ead-93ea-b10508b16318\",\"type\":\"CategoricalAxis\"}],\"css_classes\":null,\"left\":[{\"id\":\"46fcef66-410b-4f88-b9e7-38adfcb5822b\",\"type\":\"LinearAxis\"}],\"plot_height\":400,\"renderers\":[{\"id\":\"89259b3b-2b06-4c7f-9045-e2f3b139d0de\",\"type\":\"BoxAnnotation\"},{\"id\":\"277e1940-d946-4c93-8bf2-03f74a30935f\",\"type\":\"GlyphRenderer\"},{\"id\":\"d07a3dff-a933-4a11-8984-d32ae2900ba3\",\"type\":\"GlyphRenderer\"},{\"id\":\"c5f3d542-21d8-4e39-895a-260588fccf8c\",\"type\":\"GlyphRenderer\"},{\"id\":\"377f58a0-b52e-4fd4-88dc-46c9c69e944a\",\"type\":\"GlyphRenderer\"},{\"id\":\"dd484739-20ce-422c-bd82-14f605e0a664\",\"type\":\"GlyphRenderer\"},{\"id\":\"5e8de4bf-0c7a-45f5-a317-959a3f0c4f57\",\"type\":\"Legend\"},{\"id\":\"111b0c4e-3b19-4ead-93ea-b10508b16318\",\"type\":\"CategoricalAxis\"},{\"id\":\"46fcef66-410b-4f88-b9e7-38adfcb5822b\",\"type\":\"LinearAxis\"},{\"id\":\"b215cb03-30fa-4b7e-9e76-81c9a8378458\",\"type\":\"Grid\"}],\"title\":{\"id\":\"4f029b64-2b32-42b1-abd6-f6fc49442d3d\",\"type\":\"Title\"},\"tool_events\":{\"id\":\"49e54568-2fb5-43f7-a22e-7074a7cdf009\",\"type\":\"ToolEvents\"},\"toolbar\":{\"id\":\"f7f89566-ac73-443c-9384-81c89a0aac88\",\"type\":\"Toolbar\"},\"toolbar_location\":\"above\",\"x_range\":{\"id\":\"b17d7446-857b-4ff4-9809-05ba07c478a4\",\"type\":\"FactorRange\"},\"x_scale\":{\"id\":\"21b8f62d-aa7d-4ffc-8235-4eaf23b80ab7\",\"type\":\"CategoricalScale\"},\"y_range\":{\"id\":\"936bfb86-40b7-40d9-ba2d-9d4c523aa045\",\"type\":\"Range1d\"},\"y_scale\":{\"id\":\"567c430f-d139-4c37-9795-58ca15638f7d\",\"type\":\"LinearScale\"}},\"id\":\"5573bb09-e252-4a60-b95c-74bb43cf4954\",\"subtype\":\"Chart\",\"type\":\"Plot\"},{\"attributes\":{\"callback\":null,\"end\":16.432245900365857,\"start\":-1.8078444035240113},\"id\":\"936bfb86-40b7-40d9-ba2d-9d4c523aa045\",\"type\":\"Range1d\"},{\"attributes\":{\"callback\":null,\"column_names\":[\"width\",\"y\",\"height\",\"x\",\"line_alpha\",\"fill_alpha\",\"color\",\"line_color\",\"label\"],\"data\":{\"chart_index\":[{\"label\":\"Football\"}],\"color\":[\"#5975a4\"],\"fill_alpha\":[0.8],\"height\":[-0.5899161830473475],\"label\":[\"Football\"],\"line_alpha\":[1.0],\"line_color\":[\"white\"],\"width\":[0.7],\"x\":[\"Football\"],\"y\":[-0.29495809152367375]}},\"id\":\"30de5dc8-dc3d-4256-ad23-d78855a5ac72\",\"type\":\"ColumnDataSource\"},{\"attributes\":{\"fill_alpha\":{\"field\":\"fill_alpha\"},\"fill_color\":{\"field\":\"color\"},\"height\":{\"field\":\"height\",\"units\":\"data\"},\"line_color\":{\"field\":\"line_color\"},\"width\":{\"field\":\"width\",\"units\":\"data\"},\"x\":{\"field\":\"x\"},\"y\":{\"field\":\"y\"}},\"id\":\"e235d0d5-14b7-4759-93f6-eeee11fdade1\",\"type\":\"Rect\"},{\"attributes\":{\"dimension\":1,\"plot\":{\"id\":\"5573bb09-e252-4a60-b95c-74bb43cf4954\",\"subtype\":\"Chart\",\"type\":\"Plot\"},\"ticker\":{\"id\":\"d48e009b-8586-46b1-aa23-9ffe1aa22ac0\",\"type\":\"BasicTicker\"}},\"id\":\"b215cb03-30fa-4b7e-9e76-81c9a8378458\",\"type\":\"Grid\"},{\"attributes\":{\"fill_alpha\":{\"field\":\"fill_alpha\"},\"fill_color\":{\"field\":\"color\"},\"height\":{\"field\":\"height\",\"units\":\"data\"},\"line_color\":{\"field\":\"line_color\"},\"width\":{\"field\":\"width\",\"units\":\"data\"},\"x\":{\"field\":\"x\"},\"y\":{\"field\":\"y\"}},\"id\":\"3da779c1-30e7-4d43-ab7e-505d97987d7f\",\"type\":\"Rect\"},{\"attributes\":{\"callback\":null,\"factors\":[\"Airline\",\"Amazon\",\"BCI\",\"Football\",\"Fraud\"]},\"id\":\"b17d7446-857b-4ff4-9809-05ba07c478a4\",\"type\":\"FactorRange\"},{\"attributes\":{\"label\":{\"value\":\"Airline\"},\"renderers\":[{\"id\":\"277e1940-d946-4c93-8bf2-03f74a30935f\",\"type\":\"GlyphRenderer\"}]},\"id\":\"bcd52137-5d9c-4f14-a071-77bd8d70161f\",\"type\":\"LegendItem\"},{\"attributes\":{\"plot\":{\"id\":\"5573bb09-e252-4a60-b95c-74bb43cf4954\",\"subtype\":\"Chart\",\"type\":\"Plot\"}},\"id\":\"b47609b6-92ad-4850-9e0f-a7a687e07911\",\"type\":\"SaveTool\"},{\"attributes\":{},\"id\":\"21b8f62d-aa7d-4ffc-8235-4eaf23b80ab7\",\"type\":\"CategoricalScale\"},{\"attributes\":{\"data_source\":{\"id\":\"19213be6-6cb8-46b0-9e54-b3e716684f6e\",\"type\":\"ColumnDataSource\"},\"glyph\":{\"id\":\"198dcc09-a110-4881-95d7-5049e0187c4e\",\"type\":\"Rect\"},\"hover_glyph\":null,\"muted_glyph\":null},\"id\":\"d07a3dff-a933-4a11-8984-d32ae2900ba3\",\"type\":\"GlyphRenderer\"},{\"attributes\":{\"plot\":{\"id\":\"5573bb09-e252-4a60-b95c-74bb43cf4954\",\"subtype\":\"Chart\",\"type\":\"Plot\"}},\"id\":\"52e00de5-d194-4564-9241-68a9de99c7f2\",\"type\":\"WheelZoomTool\"},{\"attributes\":{\"data_source\":{\"id\":\"30de5dc8-dc3d-4256-ad23-d78855a5ac72\",\"type\":\"ColumnDataSource\"},\"glyph\":{\"id\":\"3da779c1-30e7-4d43-ab7e-505d97987d7f\",\"type\":\"Rect\"},\"hover_glyph\":null,\"muted_glyph\":null},\"id\":\"377f58a0-b52e-4fd4-88dc-46c9c69e944a\",\"type\":\"GlyphRenderer\"},{\"attributes\":{\"data_source\":{\"id\":\"a657fd08-869a-4a4e-8b4b-9b5055e9de9c\",\"type\":\"ColumnDataSource\"},\"glyph\":{\"id\":\"fc84e664-bff5-4a8e-8d95-3fc70557ede9\",\"type\":\"Rect\"},\"hover_glyph\":null,\"muted_glyph\":null},\"id\":\"277e1940-d946-4c93-8bf2-03f74a30935f\",\"type\":\"GlyphRenderer\"},{\"attributes\":{\"axis_label\":\"Perf. Difference(%)\",\"formatter\":{\"id\":\"c3485118-471c-46f1-a3bf-cd68ee957717\",\"type\":\"BasicTickFormatter\"},\"plot\":{\"id\":\"5573bb09-e252-4a60-b95c-74bb43cf4954\",\"subtype\":\"Chart\",\"type\":\"Plot\"},\"ticker\":{\"id\":\"d48e009b-8586-46b1-aa23-9ffe1aa22ac0\",\"type\":\"BasicTicker\"}},\"id\":\"46fcef66-410b-4f88-b9e7-38adfcb5822b\",\"type\":\"LinearAxis\"},{\"attributes\":{\"plot\":{\"id\":\"5573bb09-e252-4a60-b95c-74bb43cf4954\",\"subtype\":\"Chart\",\"type\":\"Plot\"}},\"id\":\"aaf8c1c4-6344-4c3c-a84c-c402bd552533\",\"type\":\"PanTool\"},{\"attributes\":{\"data_source\":{\"id\":\"d492a5a6-15bb-4a64-aaea-acd7782b640c\",\"type\":\"ColumnDataSource\"},\"glyph\":{\"id\":\"16bd3c47-e3f2-4076-aa58-4272fda0566e\",\"type\":\"Rect\"},\"hover_glyph\":null,\"muted_glyph\":null},\"id\":\"dd484739-20ce-422c-bd82-14f605e0a664\",\"type\":\"GlyphRenderer\"},{\"attributes\":{\"plot\":{\"id\":\"5573bb09-e252-4a60-b95c-74bb43cf4954\",\"subtype\":\"Chart\",\"type\":\"Plot\"}},\"id\":\"3433208c-f586-4a95-ae8f-895870fb1052\",\"type\":\"HelpTool\"}],\"root_ids\":[\"5573bb09-e252-4a60-b95c-74bb43cf4954\"]},\"title\":\"Bokeh Application\",\"version\":\"0.12.6\"}};\n",
       "            var render_items = [{\"docid\":\"481a094b-d505-4946-a71a-5c70acb17ee1\",\"elementid\":\"26e4c5a7-89e0-4633-8661-25cd7981d5a8\",\"modelid\":\"5573bb09-e252-4a60-b95c-74bb43cf4954\"}];\n",
       "            \n",
       "            Bokeh.embed.embed_items(docs_json, render_items);\n",
       "          };\n",
       "          if (document.readyState != \"loading\") fn();\n",
       "          else document.addEventListener(\"DOMContentLoaded\", fn);\n",
       "        })();\n",
       "      },\n",
       "      function(Bokeh) {\n",
       "      }\n",
       "    ];\n",
       "  \n",
       "    function run_inline_js() {\n",
       "      \n",
       "      if ((window.Bokeh !== undefined) || (force === true)) {\n",
       "        for (var i = 0; i < inline_js.length; i++) {\n",
       "          inline_js[i](window.Bokeh);\n",
       "        }if (force === true) {\n",
       "          display_loaded();\n",
       "        }} else if (Date.now() < window._bokeh_timeout) {\n",
       "        setTimeout(run_inline_js, 100);\n",
       "      } else if (!window._bokeh_failed_load) {\n",
       "        console.log(\"Bokeh: BokehJS failed to load within specified timeout.\");\n",
       "        window._bokeh_failed_load = true;\n",
       "      } else if (force !== true) {\n",
       "        var cell = $(document.getElementById(\"26e4c5a7-89e0-4633-8661-25cd7981d5a8\")).parents('.cell').data().cell;\n",
       "        cell.output_area.append_execute_result(NB_LOAD_WARNING)\n",
       "      }\n",
       "  \n",
       "    }\n",
       "  \n",
       "    if (window._bokeh_is_loading === 0) {\n",
       "      console.log(\"Bokeh: BokehJS loaded, going straight to plotting\");\n",
       "      run_inline_js();\n",
       "    } else {\n",
       "      load_libs(js_urls, function() {\n",
       "        console.log(\"Bokeh: BokehJS plotting callback run at\", now());\n",
       "        run_inline_js();\n",
       "      });\n",
       "    }\n",
       "  }(this));\n",
       "</script>"
      ]
     },
     "metadata": {},
     "output_type": "display_data"
    }
   ],
   "source": [
    "bar = Bar(data, values='Perf. Difference(%)', agg='mean', label=['label'], \n",
    "          plot_width=600, plot_height=400, bar_width=0.7, color='#5975a4')\n",
    "bar.axis[0].axis_label=''\n",
    "bar.axis[1].axis_label='Perf. Difference(%)'\n",
    "bar.toolbar_location='above'\n",
    "bar.legend[0].visible=False\n",
    "show(bar)"
   ]
  },
  {
   "cell_type": "code",
   "execution_count": 23,
   "metadata": {
    "collapsed": false,
    "deletable": true,
    "editable": true
   },
   "outputs": [
    {
     "name": "stderr",
     "output_type": "stream",
     "text": [
      "WARNING:bokeh.io:The webdriver raised a TimeoutException while waiting for                      a 'bokeh:idle' event to signify that the layout has rendered.                      Something may have gone wrong.\n"
     ]
    },
    {
     "data": {
      "image/svg+xml": [
       "<svg height=\"400\" style=\"width: 600px; height: 400px;\" version=\"1.1\" width=\"600\" xmlns=\"http://www.w3.org/2000/svg\" xmlns:xlink=\"http://www.w3.org/1999/xlink\"><defs/><g><g/><g transform=\"scale(1,1) translate(0.5,0.5)\"><rect fill=\"#FFFFFF\" height=\"400\" stroke=\"none\" width=\"600\" x=\"0\" y=\"0\"/><rect fill=\"#ffffff\" height=\"400\" stroke=\"none\" width=\"600\" x=\"0\" y=\"0\"/><rect fill=\"#FFFFFF\" height=\"318.4856540593094\" stroke=\"none\" width=\"545.904375\" x=\"49.09562500000001\" y=\"29\"/><rect fill=\"#ffffff\" height=\"318.4856540593094\" stroke=\"none\" width=\"545.904375\" x=\"49.09562500000001\" y=\"29\"/><g><rect fill=\"none\" height=\"318.4856540593094\" stroke=\"#e5e5e5\" stroke-miterlimit=\"10\" width=\"545.904375\" x=\"49.09562500000001\" y=\"29\"/></g><g><g><path d=\" M 49 316 L 595 316\" fill=\"none\" paint-order=\"fill stroke markers\" stroke=\"#e5e5e5\" stroke-miterlimit=\"10\"/><path d=\" M 49 229 L 595 229\" fill=\"none\" paint-order=\"fill stroke markers\" stroke=\"#e5e5e5\" stroke-miterlimit=\"10\"/><path d=\" M 49 141 L 595 141\" fill=\"none\" paint-order=\"fill stroke markers\" stroke=\"#e5e5e5\" stroke-miterlimit=\"10\"/><path d=\" M 49 54 L 595 54\" fill=\"none\" paint-order=\"fill stroke markers\" stroke=\"#e5e5e5\" stroke-miterlimit=\"10\"/></g><g><path fill=\"none\" stroke=\"none\"/><rect fill=\"#5975a4\" fill-opacity=\"0.8\" height=\"0.4538769008446337\" stroke=\"none\" width=\"76.42661249999946\" x=\"65.47275625000002\" y=\"315.9193351595056\"/><path d=\" M 65.47275625000002 315.9193351595056 L 141.8993687499995 315.9193351595056 L 141.8993687499995 316.3732120603502 L 65.47275625000002 316.3732120603502 L 65.47275625000002 315.9193351595056 Z\" fill=\"none\" paint-order=\"fill stroke markers\" stroke=\"white\" stroke-miterlimit=\"10\"/><path d=\"\" fill=\"none\" paint-order=\"fill stroke markers\" stroke=\"white\" stroke-miterlimit=\"10\"/></g><g><path fill=\"none\" stroke=\"none\"/><rect fill=\"#5975a4\" fill-opacity=\"0.8\" height=\"274.1516843465205\" stroke=\"none\" width=\"76.42661249999946\" x=\"174.65363125\" y=\"41.767650812985096\"/><path d=\" M 174.65363125 41.767650812985096 L 251.08024374999945 41.767650812985096 L 251.08024374999945 315.9193351595056 L 174.65363125 315.9193351595056 L 174.65363125 41.767650812985096 Z\" fill=\"none\" paint-order=\"fill stroke markers\" stroke=\"white\" stroke-miterlimit=\"10\"/><path d=\"\" fill=\"none\" paint-order=\"fill stroke markers\" stroke=\"white\" stroke-miterlimit=\"10\"/></g><g><path fill=\"none\" stroke=\"none\"/><rect fill=\"#5975a4\" fill-opacity=\"0.8\" height=\"109.14489103081577\" stroke=\"none\" width=\"76.42661250000674\" x=\"283.83450625\" y=\"206.77444412868982\"/><path d=\" M 283.83450625 206.77444412868982 L 360.26111875000674 206.77444412868982 L 360.26111875000674 315.9193351595056 L 283.83450625 315.9193351595056 L 283.83450625 206.77444412868982 Z\" fill=\"none\" paint-order=\"fill stroke markers\" stroke=\"white\" stroke-miterlimit=\"10\"/><path d=\"\" fill=\"none\" paint-order=\"fill stroke markers\" stroke=\"white\" stroke-miterlimit=\"10\"/></g><g><path fill=\"none\" stroke=\"none\"/><rect fill=\"#5975a4\" fill-opacity=\"0.8\" height=\"10.300378905357647\" stroke=\"none\" width=\"76.42661249999946\" x=\"393.01538124999996\" y=\"315.9193351595056\"/><path d=\" M 393.01538124999996 315.9193351595056 L 469.4419937499994 315.9193351595056 L 469.4419937499994 326.21971406486324 L 393.01538124999996 326.21971406486324 L 393.01538124999996 315.9193351595056 Z\" fill=\"none\" paint-order=\"fill stroke markers\" stroke=\"white\" stroke-miterlimit=\"10\"/><path d=\"\" fill=\"none\" paint-order=\"fill stroke markers\" stroke=\"white\" stroke-miterlimit=\"10\"/></g><g><path fill=\"none\" stroke=\"none\"/><rect fill=\"#5975a4\" fill-opacity=\"0.8\" height=\"18.798668086818722\" stroke=\"none\" width=\"76.42661250000674\" x=\"502.19625625000003\" y=\"315.9193351595056\"/><path d=\" M 502.19625625000003 315.9193351595056 L 578.6228687500068 315.9193351595056 L 578.6228687500068 334.7180032463243 L 502.19625625000003 334.7180032463243 L 502.19625625000003 315.9193351595056 Z\" fill=\"none\" paint-order=\"fill stroke markers\" stroke=\"white\" stroke-miterlimit=\"10\"/><path d=\"\" fill=\"none\" paint-order=\"fill stroke markers\" stroke=\"white\" stroke-miterlimit=\"10\"/></g></g><g/><g><g fill=\"#444444\"><path d=\" M 49 347 L 595 347\" fill=\"none\" paint-order=\"fill stroke markers\" stroke=\"black\" stroke-miterlimit=\"10\"/><path d=\" M 104 353 L 104 345\" fill=\"none\" paint-order=\"fill stroke markers\" stroke=\"black\" stroke-miterlimit=\"10\"/><path d=\" M 213 353 L 213 345\" fill=\"none\" paint-order=\"fill stroke markers\" stroke=\"black\" stroke-miterlimit=\"10\"/><path d=\" M 322 353 L 322 345\" fill=\"none\" paint-order=\"fill stroke markers\" stroke=\"black\" stroke-miterlimit=\"10\"/><path d=\" M 431 353 L 431 345\" fill=\"none\" paint-order=\"fill stroke markers\" stroke=\"black\" stroke-miterlimit=\"10\"/><path d=\" M 540 353 L 540 345\" fill=\"\" paint-order=\"fill stroke markers\" stroke=\"black\" stroke-miterlimit=\"10\"/><g transform=\"translate(103.6860625,358.4856540593094) rotate(-45,0,0)\"><text dominant-baseline=\"central\" fill=\"\" font-family=\"helvetica\" font-size=\"8pt\" font-style=\"normal\" font-weight=\"normal\" stroke=\"none\" text-anchor=\"end\" text-decoration=\"normal\" x=\"0\" y=\"0\">Airline</text><g transform=\"rotate(45,0,0) translate(-103.6860625,-358.4856540593094) translate(212.8669375,358.4856540593094) rotate(-45,0,0)\"><text dominant-baseline=\"central\" fill=\"\" font-family=\"helvetica\" font-size=\"8pt\" font-style=\"normal\" font-weight=\"normal\" stroke=\"none\" text-anchor=\"end\" text-decoration=\"normal\" x=\"0\" y=\"0\">Amazon</text><g transform=\"rotate(45,0,0) translate(-212.8669375,-358.4856540593094) translate(322.04781249999996,358.4856540593094) rotate(-45,0,0)\"><text dominant-baseline=\"central\" fill=\"\" font-family=\"helvetica\" font-size=\"8pt\" font-style=\"normal\" font-weight=\"normal\" stroke=\"none\" text-anchor=\"end\" text-decoration=\"normal\" x=\"0\" y=\"0\">BCI</text><g transform=\"rotate(45,0,0) translate(-322.04781249999996,-358.4856540593094) translate(431.2286875,358.4856540593094) rotate(-45,0,0)\"><text dominant-baseline=\"central\" fill=\"\" font-family=\"helvetica\" font-size=\"8pt\" font-style=\"normal\" font-weight=\"normal\" stroke=\"none\" text-anchor=\"end\" text-decoration=\"normal\" x=\"0\" y=\"0\">Football</text><g transform=\"rotate(45,0,0) translate(-431.2286875,-358.4856540593094) translate(540.4095625,358.4856540593094) rotate(-45,0,0)\"><text dominant-baseline=\"central\" fill=\"\" font-family=\"helvetica\" font-size=\"8pt\" font-style=\"normal\" font-weight=\"normal\" stroke=\"none\" text-anchor=\"end\" text-decoration=\"normal\" x=\"0\" y=\"0\">Fraud</text><g transform=\"rotate(45,0,0) translate(-540.4095625,-358.4856540593094)\"><text dominant-baseline=\"hanging\" fill=\"\" font-family=\"helvetica\" font-size=\"10pt\" font-style=\"italic\" font-weight=\"normal\" stroke=\"none\" text-anchor=\"middle\" text-decoration=\"normal\" x=\"322.0478125\" y=\"404\"/></g></g></g></g></g></g></g><g><path d=\" M 49 347 L 49 29\" fill=\"none\" paint-order=\"fill stroke markers\" stroke=\"black\" stroke-miterlimit=\"10\"/><path d=\" M 43 316 L 51 316\" fill=\"none\" paint-order=\"fill stroke markers\" stroke=\"black\" stroke-miterlimit=\"10\"/><path d=\" M 43 229 L 51 229\" fill=\"none\" paint-order=\"fill stroke markers\" stroke=\"black\" stroke-miterlimit=\"10\"/><path d=\" M 43 141 L 51 141\" fill=\"none\" paint-order=\"fill stroke markers\" stroke=\"black\" stroke-miterlimit=\"10\"/><path d=\" M 43 54 L 51 54\" fill=\"none\" paint-order=\"fill stroke markers\" stroke=\"black\" stroke-miterlimit=\"10\"/><path d=\" M 45 333 L 49 333\" fill=\"none\" paint-order=\"fill stroke markers\" stroke=\"black\" stroke-miterlimit=\"10\"/><path d=\" M 45 316 L 49 316\" fill=\"none\" paint-order=\"fill stroke markers\" stroke=\"black\" stroke-miterlimit=\"10\"/><path d=\" M 45 298 L 49 298\" fill=\"none\" paint-order=\"fill stroke markers\" stroke=\"black\" stroke-miterlimit=\"10\"/><path d=\" M 45 281 L 49 281\" fill=\"none\" paint-order=\"fill stroke markers\" stroke=\"black\" stroke-miterlimit=\"10\"/><path d=\" M 45 264 L 49 264\" fill=\"none\" paint-order=\"fill stroke markers\" stroke=\"black\" stroke-miterlimit=\"10\"/><path d=\" M 45 246 L 49 246\" fill=\"none\" paint-order=\"fill stroke markers\" stroke=\"black\" stroke-miterlimit=\"10\"/><path d=\" M 45 229 L 49 229\" fill=\"none\" paint-order=\"fill stroke markers\" stroke=\"black\" stroke-miterlimit=\"10\"/><path d=\" M 45 211 L 49 211\" fill=\"none\" paint-order=\"fill stroke markers\" stroke=\"black\" stroke-miterlimit=\"10\"/><path d=\" M 45 194 L 49 194\" fill=\"none\" paint-order=\"fill stroke markers\" stroke=\"black\" stroke-miterlimit=\"10\"/><path d=\" M 45 176 L 49 176\" fill=\"none\" paint-order=\"fill stroke markers\" stroke=\"black\" stroke-miterlimit=\"10\"/><path d=\" M 45 159 L 49 159\" fill=\"none\" paint-order=\"fill stroke markers\" stroke=\"black\" stroke-miterlimit=\"10\"/><path d=\" M 45 141 L 49 141\" fill=\"none\" paint-order=\"fill stroke markers\" stroke=\"black\" stroke-miterlimit=\"10\"/><path d=\" M 45 124 L 49 124\" fill=\"none\" paint-order=\"fill stroke markers\" stroke=\"black\" stroke-miterlimit=\"10\"/><path d=\" M 45 106 L 49 106\" fill=\"none\" paint-order=\"fill stroke markers\" stroke=\"black\" stroke-miterlimit=\"10\"/><path d=\" M 45 89 L 49 89\" fill=\"none\" paint-order=\"fill stroke markers\" stroke=\"black\" stroke-miterlimit=\"10\"/><path d=\" M 45 71 L 49 71\" fill=\"none\" paint-order=\"fill stroke markers\" stroke=\"black\" stroke-miterlimit=\"10\"/><path d=\" M 45 54 L 49 54\" fill=\"none\" paint-order=\"fill stroke markers\" stroke=\"black\" stroke-miterlimit=\"10\"/><path d=\" M 45 37 L 49 37\" fill=\"none\" paint-order=\"fill stroke markers\" stroke=\"black\" stroke-miterlimit=\"10\"/><text dominant-baseline=\"central\" fill=\"#444444\" font-family=\"helvetica\" font-size=\"8pt\" font-style=\"normal\" font-weight=\"normal\" stroke=\"none\" text-anchor=\"end\" text-decoration=\"normal\" x=\"38\" y=\"316\">0</text><text dominant-baseline=\"central\" fill=\"#444444\" font-family=\"helvetica\" font-size=\"8pt\" font-style=\"normal\" font-weight=\"normal\" stroke=\"none\" text-anchor=\"end\" text-decoration=\"normal\" x=\"38\" y=\"229\">5</text><text dominant-baseline=\"central\" fill=\"#444444\" font-family=\"helvetica\" font-size=\"8pt\" font-style=\"normal\" font-weight=\"normal\" stroke=\"none\" text-anchor=\"end\" text-decoration=\"normal\" x=\"38\" y=\"141\">10</text><text dominant-baseline=\"central\" fill=\"#444444\" font-family=\"helvetica\" font-size=\"8pt\" font-style=\"normal\" font-weight=\"normal\" stroke=\"none\" text-anchor=\"end\" text-decoration=\"normal\" x=\"38\" y=\"54\">15</text><g transform=\"translate(17.73000000000001,188.2428270296547) rotate(-90,0,0)\"><text dominant-baseline=\"alphabetic\" fill=\"#444444\" font-family=\"helvetica\" font-size=\"10pt\" font-style=\"italic\" font-weight=\"normal\" stroke=\"none\" text-anchor=\"middle\" text-decoration=\"normal\" x=\"0\" y=\"0\">Perf. Difference(%)</text><g transform=\"rotate(90,0,0) translate(-17.73000000000001,-188.2428270296547)\"/></g></g></g></g></g></svg>"
      ],
      "text/plain": [
       "<IPython.core.display.SVG object>"
      ]
     },
     "metadata": {},
     "output_type": "display_data"
    }
   ],
   "source": [
    "bar.output_backend = \"svg\"\n",
    "export_svgs(bar, filename=\"xgb_vs_lgbm_performance.svg\")\n",
    "display(SVG('xgb_vs_lgbm_performance.svg'))"
   ]
  },
  {
   "cell_type": "markdown",
   "metadata": {
    "deletable": true,
    "editable": true
   },
   "source": [
    "From the table as well as the plots below we can see that overall the difference in performance is quite small. LightGBM though is 2 to over 10 times quicker than XGBoost."
   ]
  }
 ],
 "metadata": {
  "kernelspec": {
   "display_name": "Python3.5 (Strata)",
   "language": "python",
   "name": "strata"
  },
  "language_info": {
   "codemirror_mode": {
    "name": "ipython",
    "version": 3
   },
   "file_extension": ".py",
   "mimetype": "text/x-python",
   "name": "python",
   "nbconvert_exporter": "python",
   "pygments_lexer": "ipython3",
   "version": "3.5.2"
  }
 },
 "nbformat": 4,
 "nbformat_minor": 2
}
