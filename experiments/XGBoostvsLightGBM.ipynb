{
 "cells": [
  {
   "cell_type": "markdown",
   "metadata": {},
   "source": [
    "# XGBoost vs LightGBM\n",
    "\n",
    "In this notebook we collect the results from all the experiments and reports the comparative difference between XGBoost and LightGBM"
   ]
  },
  {
   "cell_type": "code",
   "execution_count": 42,
   "metadata": {},
   "outputs": [
    {
     "name": "stderr",
     "output_type": "stream",
     "text": [
      "/home/hoaphumanoid/anaconda3/envs/strata2/lib/python3.6/site-packages/bokeh/util/deprecation.py:34: BokehDeprecationWarning: \n",
      "The bokeh.charts API has moved to a separate 'bkcharts' package.\n",
      "\n",
      "This compatibility shim will remain until Bokeh 1.0 is released.\n",
      "After that, if you want to use this API you will have to install\n",
      "the bkcharts package explicitly.\n",
      "\n",
      "  warn(message)\n"
     ]
    }
   ],
   "source": [
    "import matplotlib.pyplot as plt\n",
    "import nbformat\n",
    "import json\n",
    "from toolz import pipe, juxt\n",
    "import pandas as pd\n",
    "import seaborn\n",
    "from toolz import curry\n",
    "\n",
    "from bokeh.io import show, output_notebook\n",
    "from bokeh.charts import Bar\n",
    "from bokeh.models.renderers import GlyphRenderer\n",
    "from bokeh.models.glyphs import Rect\n",
    "from toolz import curry\n",
    "from bokeh.io import export_svgs\n",
    "from IPython.display import SVG, display\n",
    "\n",
    "%matplotlib inline "
   ]
  },
  {
   "cell_type": "code",
   "execution_count": 43,
   "metadata": {},
   "outputs": [
    {
     "data": {
      "text/html": [
       "\n",
       "    <div class=\"bk-root\">\n",
       "        <a href=\"http://bokeh.pydata.org\" target=\"_blank\" class=\"bk-logo bk-logo-small bk-logo-notebook\"></a>\n",
       "        <span id=\"fd1e8702-a160-4dd2-a0f8-cef04143a382\">Loading BokehJS ...</span>\n",
       "    </div>"
      ]
     },
     "metadata": {},
     "output_type": "display_data"
    },
    {
     "data": {
      "application/javascript": [
       "\n",
       "(function(global) {\n",
       "  function now() {\n",
       "    return new Date();\n",
       "  }\n",
       "\n",
       "  var force = true;\n",
       "\n",
       "  if (typeof (window._bokeh_onload_callbacks) === \"undefined\" || force === true) {\n",
       "    window._bokeh_onload_callbacks = [];\n",
       "    window._bokeh_is_loading = undefined;\n",
       "  }\n",
       "\n",
       "\n",
       "  \n",
       "  if (typeof (window._bokeh_timeout) === \"undefined\" || force === true) {\n",
       "    window._bokeh_timeout = Date.now() + 5000;\n",
       "    window._bokeh_failed_load = false;\n",
       "  }\n",
       "\n",
       "  var NB_LOAD_WARNING = {'data': {'text/html':\n",
       "     \"<div style='background-color: #fdd'>\\n\"+\n",
       "     \"<p>\\n\"+\n",
       "     \"BokehJS does not appear to have successfully loaded. If loading BokehJS from CDN, this \\n\"+\n",
       "     \"may be due to a slow or bad network connection. Possible fixes:\\n\"+\n",
       "     \"</p>\\n\"+\n",
       "     \"<ul>\\n\"+\n",
       "     \"<li>re-rerun `output_notebook()` to attempt to load from CDN again, or</li>\\n\"+\n",
       "     \"<li>use INLINE resources instead, as so:</li>\\n\"+\n",
       "     \"</ul>\\n\"+\n",
       "     \"<code>\\n\"+\n",
       "     \"from bokeh.resources import INLINE\\n\"+\n",
       "     \"output_notebook(resources=INLINE)\\n\"+\n",
       "     \"</code>\\n\"+\n",
       "     \"</div>\"}};\n",
       "\n",
       "  function display_loaded() {\n",
       "    if (window.Bokeh !== undefined) {\n",
       "      var el = document.getElementById(\"fd1e8702-a160-4dd2-a0f8-cef04143a382\");\n",
       "      el.textContent = \"BokehJS \" + Bokeh.version + \" successfully loaded.\";\n",
       "    } else if (Date.now() < window._bokeh_timeout) {\n",
       "      setTimeout(display_loaded, 100)\n",
       "    }\n",
       "  }\n",
       "\n",
       "  function run_callbacks() {\n",
       "    try {\n",
       "      window._bokeh_onload_callbacks.forEach(function(callback) { callback() });\n",
       "    }\n",
       "    finally {\n",
       "      delete window._bokeh_onload_callbacks\n",
       "    }\n",
       "    console.info(\"Bokeh: all callbacks have finished\");\n",
       "  }\n",
       "\n",
       "  function load_libs(js_urls, callback) {\n",
       "    window._bokeh_onload_callbacks.push(callback);\n",
       "    if (window._bokeh_is_loading > 0) {\n",
       "      console.log(\"Bokeh: BokehJS is being loaded, scheduling callback at\", now());\n",
       "      return null;\n",
       "    }\n",
       "    if (js_urls == null || js_urls.length === 0) {\n",
       "      run_callbacks();\n",
       "      return null;\n",
       "    }\n",
       "    console.log(\"Bokeh: BokehJS not loaded, scheduling load and callback at\", now());\n",
       "    window._bokeh_is_loading = js_urls.length;\n",
       "    for (var i = 0; i < js_urls.length; i++) {\n",
       "      var url = js_urls[i];\n",
       "      var s = document.createElement('script');\n",
       "      s.src = url;\n",
       "      s.async = false;\n",
       "      s.onreadystatechange = s.onload = function() {\n",
       "        window._bokeh_is_loading--;\n",
       "        if (window._bokeh_is_loading === 0) {\n",
       "          console.log(\"Bokeh: all BokehJS libraries loaded\");\n",
       "          run_callbacks()\n",
       "        }\n",
       "      };\n",
       "      s.onerror = function() {\n",
       "        console.warn(\"failed to load library \" + url);\n",
       "      };\n",
       "      console.log(\"Bokeh: injecting script tag for BokehJS library: \", url);\n",
       "      document.getElementsByTagName(\"head\")[0].appendChild(s);\n",
       "    }\n",
       "  };var element = document.getElementById(\"fd1e8702-a160-4dd2-a0f8-cef04143a382\");\n",
       "  if (element == null) {\n",
       "    console.log(\"Bokeh: ERROR: autoload.js configured with elementid 'fd1e8702-a160-4dd2-a0f8-cef04143a382' but no matching script tag was found. \")\n",
       "    return false;\n",
       "  }\n",
       "\n",
       "  var js_urls = [\"https://cdn.pydata.org/bokeh/release/bokeh-0.12.6.min.js\", \"https://cdn.pydata.org/bokeh/release/bokeh-widgets-0.12.6.min.js\"];\n",
       "\n",
       "  var inline_js = [\n",
       "    function(Bokeh) {\n",
       "      Bokeh.set_log_level(\"info\");\n",
       "    },\n",
       "    \n",
       "    function(Bokeh) {\n",
       "      \n",
       "    },\n",
       "    \n",
       "    function(Bokeh) {\n",
       "      \n",
       "      document.getElementById(\"fd1e8702-a160-4dd2-a0f8-cef04143a382\").textContent = \"BokehJS is loading...\";\n",
       "    },\n",
       "    function(Bokeh) {\n",
       "      console.log(\"Bokeh: injecting CSS: https://cdn.pydata.org/bokeh/release/bokeh-0.12.6.min.css\");\n",
       "      Bokeh.embed.inject_css(\"https://cdn.pydata.org/bokeh/release/bokeh-0.12.6.min.css\");\n",
       "      console.log(\"Bokeh: injecting CSS: https://cdn.pydata.org/bokeh/release/bokeh-widgets-0.12.6.min.css\");\n",
       "      Bokeh.embed.inject_css(\"https://cdn.pydata.org/bokeh/release/bokeh-widgets-0.12.6.min.css\");\n",
       "    }\n",
       "  ];\n",
       "\n",
       "  function run_inline_js() {\n",
       "    \n",
       "    if ((window.Bokeh !== undefined) || (force === true)) {\n",
       "      for (var i = 0; i < inline_js.length; i++) {\n",
       "        inline_js[i](window.Bokeh);\n",
       "      }if (force === true) {\n",
       "        display_loaded();\n",
       "      }} else if (Date.now() < window._bokeh_timeout) {\n",
       "      setTimeout(run_inline_js, 100);\n",
       "    } else if (!window._bokeh_failed_load) {\n",
       "      console.log(\"Bokeh: BokehJS failed to load within specified timeout.\");\n",
       "      window._bokeh_failed_load = true;\n",
       "    } else if (force !== true) {\n",
       "      var cell = $(document.getElementById(\"fd1e8702-a160-4dd2-a0f8-cef04143a382\")).parents('.cell').data().cell;\n",
       "      cell.output_area.append_execute_result(NB_LOAD_WARNING)\n",
       "    }\n",
       "\n",
       "  }\n",
       "\n",
       "  if (window._bokeh_is_loading === 0) {\n",
       "    console.log(\"Bokeh: BokehJS loaded, going straight to plotting\");\n",
       "    run_inline_js();\n",
       "  } else {\n",
       "    load_libs(js_urls, function() {\n",
       "      console.log(\"Bokeh: BokehJS plotting callback run at\", now());\n",
       "      run_inline_js();\n",
       "    });\n",
       "  }\n",
       "}(this));"
      ]
     },
     "metadata": {},
     "output_type": "display_data"
    }
   ],
   "source": [
    "output_notebook()"
   ]
  },
  {
   "cell_type": "markdown",
   "metadata": {},
   "source": [
    "We are going to read the results from the following notebooks"
   ]
  },
  {
   "cell_type": "code",
   "execution_count": 2,
   "metadata": {},
   "outputs": [],
   "source": [
    "notebooks = {\n",
    "    'Airline':'01_airline.ipynb',\n",
    "    'BCI': '02_BCI.ipynb',\n",
    "    'Football': '03_football.ipynb',\n",
    "    'Amazon': '04_PlanetKaggle.ipynb',\n",
    "    'Fraud': '05_FraudDetection.ipynb'\n",
    "}"
   ]
  },
  {
   "cell_type": "code",
   "execution_count": 3,
   "metadata": {
    "collapsed": true
   },
   "outputs": [],
   "source": [
    "def read_notebook(notebook_name):\n",
    "    with open(notebook_name) as f:\n",
    "        return nbformat.read(f, as_version=4)"
   ]
  },
  {
   "cell_type": "code",
   "execution_count": 26,
   "metadata": {},
   "outputs": [],
   "source": [
    "def results_cell_from(nb):\n",
    "    for cell in nb.cells:\n",
    "        if cell['cell_type']=='code' and cell['source'].startswith('# Results'):\n",
    "            return cell"
   ]
  },
  {
   "cell_type": "code",
   "execution_count": 30,
   "metadata": {
    "collapsed": true
   },
   "outputs": [],
   "source": [
    "def extract_text(cell):\n",
    "    return cell['outputs'][0]['text']"
   ]
  },
  {
   "cell_type": "code",
   "execution_count": 31,
   "metadata": {},
   "outputs": [],
   "source": [
    "@curry\n",
    "def remove_line_with(match_str, json_string):\n",
    "    return '\\n'.join(filter(lambda x: match_str not in x, json_string.split('\\n')))"
   ]
  },
  {
   "cell_type": "code",
   "execution_count": 33,
   "metadata": {},
   "outputs": [],
   "source": [
    "def process_nb(notebook_name):\n",
    "    return pipe(notebook_name,\n",
    "                read_notebook,\n",
    "                results_cell_from,\n",
    "                extract_text,\n",
    "                remove_line_with('total RAM usage'),\n",
    "                json.loads)"
   ]
  },
  {
   "cell_type": "markdown",
   "metadata": {},
   "source": [
    "Here we collect the results from all the exeperiment notebooks. The method simply searches the notebooks for a cell that starts with # Results. It then reads that cells output in as JSON."
   ]
  },
  {
   "cell_type": "code",
   "execution_count": 34,
   "metadata": {},
   "outputs": [],
   "source": [
    "results = {nb_key:process_nb(nb_name) for nb_key, nb_name in notebooks.items()}"
   ]
  },
  {
   "cell_type": "code",
   "execution_count": 35,
   "metadata": {},
   "outputs": [
    {
     "data": {
      "text/plain": [
       "{'Airline': {'lgbm': {'performance': {'AUC': 0.8087051409943042,\n",
       "    'Accuracy': 0.7354971824736145,\n",
       "    'F1': 0.6938324132201359,\n",
       "    'Precision': 0.769944994990665,\n",
       "    'Recall': 0.6314142306557513},\n",
       "   'test_time': 15.056773265940137,\n",
       "   'train_time': 331.96047770103905},\n",
       "  'xgb': {'performance': {'AUC': 0.7853858629621876,\n",
       "    'Accuracy': 0.6292093649533124,\n",
       "    'F1': 0.6975436046496173,\n",
       "    'Precision': 0.5691280104599091,\n",
       "    'Recall': 0.9007951427442298},\n",
       "   'test_time': 13.74539872200694,\n",
       "   'train_time': 1995.4901636390714},\n",
       "  'xgb_hist': {'performance': {'AUC': 0.8075987201449184,\n",
       "    'Accuracy': 0.6736826732338557,\n",
       "    'F1': 0.7169770760869618,\n",
       "    'Precision': 0.6093457389543666,\n",
       "    'Recall': 0.8707880911035721},\n",
       "   'test_time': 14.146226429962553,\n",
       "   'train_time': 544.1617271649884}},\n",
       " 'Amazon': {'lgbm': {'performance': {'Accuracy': 0.6243840116809637,\n",
       "    'F1': 0.8979655091719337,\n",
       "    'Precision': 0.9232276484238522,\n",
       "    'Recall': 0.890522688359885},\n",
       "   'test_time': 0.8539947170065716,\n",
       "   'train_time': 492.19322377297794},\n",
       "  'xgb': {'performance': {'Accuracy': 0.6196386201861653,\n",
       "    'F1': 0.8978217722331612,\n",
       "    'Precision': 0.9202139771769267,\n",
       "    'Recall': 0.8929199367281132},\n",
       "   'test_time': 2.5415531079343054,\n",
       "   'train_time': 1986.19692587998}},\n",
       " 'BCI': {'lgbm': {'performance': {'AUC': 0.5348626373626374,\n",
       "    'Accuracy': 0.8802275008364001,\n",
       "    'F1': 0.13734939759036147,\n",
       "    'Precision': 0.5588235294117647,\n",
       "    'Recall': 0.0782967032967033},\n",
       "   'test_time': 0.7029972260352224,\n",
       "   'train_time': 6.380580052034929},\n",
       "  'xgb': {'performance': {'AUC': 0.5277435897435897,\n",
       "    'Accuracy': 0.8812311809969889,\n",
       "    'F1': 0.11027568922305765,\n",
       "    'Precision': 0.6285714285714286,\n",
       "    'Recall': 0.06043956043956044},\n",
       "   'test_time': 0.5001096819760278,\n",
       "   'train_time': 15.975884190993384},\n",
       "  'xgb_hist': {'performance': {'AUC': 0.536521978021978,\n",
       "    'Accuracy': 0.8810639009702241,\n",
       "    'F1': 0.14234016887816647,\n",
       "    'Precision': 0.5841584158415841,\n",
       "    'Recall': 0.08104395604395605},\n",
       "   'test_time': 0.7757045479957014,\n",
       "   'train_time': 52.695884556975216}},\n",
       " 'Football': {'lgbm': {'performance': {'Accuracy': 0.5273189326556544,\n",
       "    'F1': 0.4594968503939465,\n",
       "    'Precision': 0.4627647374365573,\n",
       "    'Recall': 0.5273189326556544},\n",
       "   'test_time': 0.02340196107979864,\n",
       "   'train_time': 0.5847247389610857},\n",
       "  'xgb': {'performance': {'Accuracy': 0.5285895806861499,\n",
       "    'F1': 0.4581501758019101,\n",
       "    'Precision': 0.4728104942149788,\n",
       "    'Recall': 0.5285895806861499},\n",
       "   'test_time': 0.012999105034396052,\n",
       "   'train_time': 2.114993105060421},\n",
       "  'xgb_hist': {'performance': {'Accuracy': 0.5285895806861499,\n",
       "    'F1': 0.46087114582653593,\n",
       "    'Precision': 0.4747655220586142,\n",
       "    'Recall': 0.5285895806861499},\n",
       "   'test_time': 0.025828478974290192,\n",
       "   'train_time': 1.9382851779228076}},\n",
       " 'Fraud': {'lgbm': {'performance': {'AUC': 0.8749179318834633,\n",
       "    'Accuracy': 0.999403110845827,\n",
       "    'F1': 0.8131868131868133,\n",
       "    'Precision': 0.888,\n",
       "    'Recall': 0.75},\n",
       "   'test_time': 0.05627289199946972,\n",
       "   'train_time': 0.73749636499997},\n",
       "  'xgb': {'performance': {'AUC': 0.8884197213803287,\n",
       "    'Accuracy': 0.9994265182636377,\n",
       "    'F1': 0.8243727598566308,\n",
       "    'Precision': 0.8778625954198473,\n",
       "    'Recall': 0.777027027027027},\n",
       "   'test_time': 0.059653409000020474,\n",
       "   'train_time': 4.4588627679995625},\n",
       "  'xgb_hist': {'performance': {'AUC': 0.8715278294884368,\n",
       "    'Accuracy': 0.9993679997191109,\n",
       "    'F1': 0.8029197080291971,\n",
       "    'Precision': 0.873015873015873,\n",
       "    'Recall': 0.7432432432432432},\n",
       "   'test_time': 0.06544113900054072,\n",
       "   'train_time': 1.2063124559999778}}}"
      ]
     },
     "execution_count": 35,
     "metadata": {},
     "output_type": "execute_result"
    }
   ],
   "source": [
    "results"
   ]
  },
  {
   "cell_type": "markdown",
   "metadata": {},
   "source": [
    "We wish to compare LightGBM and XGBoost both in terms of performance as well as how long they took to train."
   ]
  },
  {
   "cell_type": "code",
   "execution_count": 36,
   "metadata": {
    "collapsed": true
   },
   "outputs": [],
   "source": [
    "def average_performance_diff(dataset):\n",
    "    lgbm_series = pd.Series(dataset['lgbm']['performance'])\n",
    "    return 100*((lgbm_series-pd.Series(dataset['xgb']['performance']))/lgbm_series).mean()"
   ]
  },
  {
   "cell_type": "code",
   "execution_count": 37,
   "metadata": {},
   "outputs": [],
   "source": [
    "def train_time_ratio(dataset):\n",
    "    return dataset['xgb']['train_time']/dataset['lgbm']['train_time']\n",
    "\n",
    "def test_time_ratio(dataset):\n",
    "    return dataset['xgb']['test_time']/dataset['lgbm']['test_time']"
   ]
  },
  {
   "cell_type": "code",
   "execution_count": 38,
   "metadata": {},
   "outputs": [],
   "source": [
    "metrics = juxt(average_performance_diff, train_time_ratio, test_time_ratio)\n",
    "res_per_dataset = {dataset_key:metrics(dataset) for dataset_key, dataset in results.items()}"
   ]
  },
  {
   "cell_type": "code",
   "execution_count": 39,
   "metadata": {},
   "outputs": [],
   "source": [
    "results_df = pd.DataFrame(res_per_dataset, index=['Perf. Difference(%)', \n",
    "                                                  'Train Time Ratio', \n",
    "                                                  'Test Time Ratio']).T"
   ]
  },
  {
   "cell_type": "code",
   "execution_count": 40,
   "metadata": {},
   "outputs": [
    {
     "data": {
      "text/html": [
       "<div>\n",
       "<style>\n",
       "    .dataframe thead tr:only-child th {\n",
       "        text-align: right;\n",
       "    }\n",
       "\n",
       "    .dataframe thead th {\n",
       "        text-align: left;\n",
       "    }\n",
       "\n",
       "    .dataframe tbody tr th {\n",
       "        vertical-align: top;\n",
       "    }\n",
       "</style>\n",
       "<table border=\"1\" class=\"dataframe\">\n",
       "  <thead>\n",
       "    <tr style=\"text-align: right;\">\n",
       "      <th></th>\n",
       "      <th>Perf. Difference(%)</th>\n",
       "      <th>Train Time Ratio</th>\n",
       "      <th>Test Time Ratio</th>\n",
       "    </tr>\n",
       "  </thead>\n",
       "  <tbody>\n",
       "    <tr>\n",
       "      <th>Airline</th>\n",
       "      <td>0.043738</td>\n",
       "      <td>6.011228</td>\n",
       "      <td>0.912905</td>\n",
       "    </tr>\n",
       "    <tr>\n",
       "      <th>Amazon</th>\n",
       "      <td>0.208313</td>\n",
       "      <td>4.035401</td>\n",
       "      <td>2.976076</td>\n",
       "    </tr>\n",
       "    <tr>\n",
       "      <th>BCI</th>\n",
       "      <td>6.250871</td>\n",
       "      <td>2.503829</td>\n",
       "      <td>0.711396</td>\n",
       "    </tr>\n",
       "    <tr>\n",
       "      <th>Football</th>\n",
       "      <td>-0.589916</td>\n",
       "      <td>3.617075</td>\n",
       "      <td>0.555471</td>\n",
       "    </tr>\n",
       "    <tr>\n",
       "      <th>Fraud</th>\n",
       "      <td>-1.076624</td>\n",
       "      <td>6.045945</td>\n",
       "      <td>1.060074</td>\n",
       "    </tr>\n",
       "  </tbody>\n",
       "</table>\n",
       "</div>"
      ],
      "text/plain": [
       "          Perf. Difference(%)  Train Time Ratio  Test Time Ratio\n",
       "Airline              0.043738          6.011228         0.912905\n",
       "Amazon               0.208313          4.035401         2.976076\n",
       "BCI                  6.250871          2.503829         0.711396\n",
       "Football            -0.589916          3.617075         0.555471\n",
       "Fraud               -1.076624          6.045945         1.060074"
      ]
     },
     "execution_count": 40,
     "metadata": {},
     "output_type": "execute_result"
    }
   ],
   "source": [
    "results_df"
   ]
  },
  {
   "cell_type": "code",
   "execution_count": 70,
   "metadata": {
    "collapsed": true
   },
   "outputs": [],
   "source": [
    "data = {\n",
    "    'Train Time Ratio': results_df['Train Time Ratio'].values,\n",
    "    'label': results_df.index.values\n",
    "}"
   ]
  },
  {
   "cell_type": "code",
   "execution_count": 71,
   "metadata": {},
   "outputs": [
    {
     "data": {
      "text/html": [
       "\n",
       "\n",
       "    <div class=\"bk-root\">\n",
       "        <div class=\"bk-plotdiv\" id=\"161c1240-fff4-4637-9d5c-f26f32a51a50\"></div>\n",
       "    </div>\n",
       "<script type=\"text/javascript\">\n",
       "  \n",
       "  (function(global) {\n",
       "    function now() {\n",
       "      return new Date();\n",
       "    }\n",
       "  \n",
       "    var force = false;\n",
       "  \n",
       "    if (typeof (window._bokeh_onload_callbacks) === \"undefined\" || force === true) {\n",
       "      window._bokeh_onload_callbacks = [];\n",
       "      window._bokeh_is_loading = undefined;\n",
       "    }\n",
       "  \n",
       "  \n",
       "    \n",
       "    if (typeof (window._bokeh_timeout) === \"undefined\" || force === true) {\n",
       "      window._bokeh_timeout = Date.now() + 0;\n",
       "      window._bokeh_failed_load = false;\n",
       "    }\n",
       "  \n",
       "    var NB_LOAD_WARNING = {'data': {'text/html':\n",
       "       \"<div style='background-color: #fdd'>\\n\"+\n",
       "       \"<p>\\n\"+\n",
       "       \"BokehJS does not appear to have successfully loaded. If loading BokehJS from CDN, this \\n\"+\n",
       "       \"may be due to a slow or bad network connection. Possible fixes:\\n\"+\n",
       "       \"</p>\\n\"+\n",
       "       \"<ul>\\n\"+\n",
       "       \"<li>re-rerun `output_notebook()` to attempt to load from CDN again, or</li>\\n\"+\n",
       "       \"<li>use INLINE resources instead, as so:</li>\\n\"+\n",
       "       \"</ul>\\n\"+\n",
       "       \"<code>\\n\"+\n",
       "       \"from bokeh.resources import INLINE\\n\"+\n",
       "       \"output_notebook(resources=INLINE)\\n\"+\n",
       "       \"</code>\\n\"+\n",
       "       \"</div>\"}};\n",
       "  \n",
       "    function display_loaded() {\n",
       "      if (window.Bokeh !== undefined) {\n",
       "        var el = document.getElementById(\"161c1240-fff4-4637-9d5c-f26f32a51a50\");\n",
       "        el.textContent = \"BokehJS \" + Bokeh.version + \" successfully loaded.\";\n",
       "      } else if (Date.now() < window._bokeh_timeout) {\n",
       "        setTimeout(display_loaded, 100)\n",
       "      }\n",
       "    }\n",
       "  \n",
       "    function run_callbacks() {\n",
       "      try {\n",
       "        window._bokeh_onload_callbacks.forEach(function(callback) { callback() });\n",
       "      }\n",
       "      finally {\n",
       "        delete window._bokeh_onload_callbacks\n",
       "      }\n",
       "      console.info(\"Bokeh: all callbacks have finished\");\n",
       "    }\n",
       "  \n",
       "    function load_libs(js_urls, callback) {\n",
       "      window._bokeh_onload_callbacks.push(callback);\n",
       "      if (window._bokeh_is_loading > 0) {\n",
       "        console.log(\"Bokeh: BokehJS is being loaded, scheduling callback at\", now());\n",
       "        return null;\n",
       "      }\n",
       "      if (js_urls == null || js_urls.length === 0) {\n",
       "        run_callbacks();\n",
       "        return null;\n",
       "      }\n",
       "      console.log(\"Bokeh: BokehJS not loaded, scheduling load and callback at\", now());\n",
       "      window._bokeh_is_loading = js_urls.length;\n",
       "      for (var i = 0; i < js_urls.length; i++) {\n",
       "        var url = js_urls[i];\n",
       "        var s = document.createElement('script');\n",
       "        s.src = url;\n",
       "        s.async = false;\n",
       "        s.onreadystatechange = s.onload = function() {\n",
       "          window._bokeh_is_loading--;\n",
       "          if (window._bokeh_is_loading === 0) {\n",
       "            console.log(\"Bokeh: all BokehJS libraries loaded\");\n",
       "            run_callbacks()\n",
       "          }\n",
       "        };\n",
       "        s.onerror = function() {\n",
       "          console.warn(\"failed to load library \" + url);\n",
       "        };\n",
       "        console.log(\"Bokeh: injecting script tag for BokehJS library: \", url);\n",
       "        document.getElementsByTagName(\"head\")[0].appendChild(s);\n",
       "      }\n",
       "    };var element = document.getElementById(\"161c1240-fff4-4637-9d5c-f26f32a51a50\");\n",
       "    if (element == null) {\n",
       "      console.log(\"Bokeh: ERROR: autoload.js configured with elementid '161c1240-fff4-4637-9d5c-f26f32a51a50' but no matching script tag was found. \")\n",
       "      return false;\n",
       "    }\n",
       "  \n",
       "    var js_urls = [];\n",
       "  \n",
       "    var inline_js = [\n",
       "      function(Bokeh) {\n",
       "        (function() {\n",
       "          var fn = function() {\n",
       "            var docs_json = {\"5e17d60c-ce55-47a6-a75d-a56460e11578\":{\"roots\":{\"references\":[{\"attributes\":{\"data_source\":{\"id\":\"3c77bd22-b5e6-43b8-94e6-75ac403a82b2\",\"type\":\"ColumnDataSource\"},\"glyph\":{\"id\":\"c81552f1-db3b-4f11-a4e2-0f5fca8d0da0\",\"type\":\"Rect\"},\"hover_glyph\":null,\"muted_glyph\":null},\"id\":\"f79e718c-fbfa-40fb-943c-c9da8814392f\",\"type\":\"GlyphRenderer\"},{\"attributes\":{\"callback\":null,\"column_names\":[\"x\",\"y\",\"width\",\"height\",\"color\",\"fill_alpha\",\"line_color\",\"line_alpha\",\"label\"],\"data\":{\"chart_index\":[{\"label\":\"Football\"}],\"color\":[\"#5975a4\"],\"fill_alpha\":[0.8],\"height\":[3.6170747774726477],\"label\":[\"Football\"],\"line_alpha\":[1.0],\"line_color\":[\"white\"],\"width\":[0.7],\"x\":[\"Football\"],\"y\":[1.8085373887363239]}},\"id\":\"3c77bd22-b5e6-43b8-94e6-75ac403a82b2\",\"type\":\"ColumnDataSource\"},{\"attributes\":{\"axis_label\":\"\",\"formatter\":{\"id\":\"f35e115e-2f96-40f7-bd7a-64580a7799a7\",\"type\":\"CategoricalTickFormatter\"},\"major_label_orientation\":0.7853981633974483,\"plot\":{\"id\":\"38ae5778-2548-4e28-bc54-fde3698ecb41\",\"subtype\":\"Chart\",\"type\":\"Plot\"},\"ticker\":{\"id\":\"c7092e58-adfa-4c5a-a3d4-91d57e365cab\",\"type\":\"CategoricalTicker\"}},\"id\":\"69ca1555-bc76-4d6b-b944-c6761121161c\",\"type\":\"CategoricalAxis\"},{\"attributes\":{},\"id\":\"b492ef78-9b23-4810-aa21-3b2a1b6c8067\",\"type\":\"BasicTickFormatter\"},{\"attributes\":{\"plot\":{\"id\":\"38ae5778-2548-4e28-bc54-fde3698ecb41\",\"subtype\":\"Chart\",\"type\":\"Plot\"}},\"id\":\"cb6d4f13-dbe6-44c7-9df2-f60634ac23af\",\"type\":\"SaveTool\"},{\"attributes\":{\"fill_alpha\":{\"field\":\"fill_alpha\"},\"fill_color\":{\"field\":\"color\"},\"height\":{\"field\":\"height\",\"units\":\"data\"},\"line_color\":{\"field\":\"line_color\"},\"width\":{\"field\":\"width\",\"units\":\"data\"},\"x\":{\"field\":\"x\"},\"y\":{\"field\":\"y\"}},\"id\":\"c81552f1-db3b-4f11-a4e2-0f5fca8d0da0\",\"type\":\"Rect\"},{\"attributes\":{\"callback\":null,\"factors\":[\"Airline\",\"Amazon\",\"BCI\",\"Football\",\"Fraud\"]},\"id\":\"1a38f8ea-4320-4385-b6d3-67175734c7b7\",\"type\":\"FactorRange\"},{\"attributes\":{\"label\":{\"value\":\"Airline\"},\"renderers\":[{\"id\":\"b841f4c3-5000-47b8-ae92-9ef9206624eb\",\"type\":\"GlyphRenderer\"}]},\"id\":\"f910447a-2744-4a42-8bf8-e43b1ae73172\",\"type\":\"LegendItem\"},{\"attributes\":{\"dimension\":1,\"plot\":{\"id\":\"38ae5778-2548-4e28-bc54-fde3698ecb41\",\"subtype\":\"Chart\",\"type\":\"Plot\"},\"ticker\":{\"id\":\"e4d94376-b0f3-44ee-84eb-cb9292bc7423\",\"type\":\"BasicTicker\"}},\"id\":\"d071e841-5fc4-4c71-949f-09d942c5da05\",\"type\":\"Grid\"},{\"attributes\":{\"fill_alpha\":{\"field\":\"fill_alpha\"},\"fill_color\":{\"field\":\"color\"},\"height\":{\"field\":\"height\",\"units\":\"data\"},\"line_color\":{\"field\":\"line_color\"},\"width\":{\"field\":\"width\",\"units\":\"data\"},\"x\":{\"field\":\"x\"},\"y\":{\"field\":\"y\"}},\"id\":\"100b8167-1c63-4ef5-a19d-9dbd1bd2d719\",\"type\":\"Rect\"},{\"attributes\":{\"callback\":null,\"column_names\":[\"x\",\"y\",\"width\",\"height\",\"color\",\"fill_alpha\",\"line_color\",\"line_alpha\",\"label\"],\"data\":{\"chart_index\":[{\"label\":\"Fraud\"}],\"color\":[\"#5975a4\"],\"fill_alpha\":[0.8],\"height\":[6.045945416964522],\"label\":[\"Fraud\"],\"line_alpha\":[1.0],\"line_color\":[\"white\"],\"width\":[0.7],\"x\":[\"Fraud\"],\"y\":[3.022972708482261]}},\"id\":\"6d9de8bb-7a08-4a7d-aab9-7a84350eb35f\",\"type\":\"ColumnDataSource\"},{\"attributes\":{\"callback\":null,\"column_names\":[\"x\",\"y\",\"width\",\"height\",\"color\",\"fill_alpha\",\"line_color\",\"line_alpha\",\"label\"],\"data\":{\"chart_index\":[{\"label\":\"Airline\"}],\"color\":[\"#5975a4\"],\"fill_alpha\":[0.8],\"height\":[6.011228136128283],\"label\":[\"Airline\"],\"line_alpha\":[1.0],\"line_color\":[\"white\"],\"width\":[0.7],\"x\":[\"Airline\"],\"y\":[3.0056140680641414]}},\"id\":\"49a92a10-5186-41fc-9bac-7f5cb1bf7318\",\"type\":\"ColumnDataSource\"},{\"attributes\":{},\"id\":\"e4d94376-b0f3-44ee-84eb-cb9292bc7423\",\"type\":\"BasicTicker\"},{\"attributes\":{},\"id\":\"f35e115e-2f96-40f7-bd7a-64580a7799a7\",\"type\":\"CategoricalTickFormatter\"},{\"attributes\":{\"overlay\":{\"id\":\"9a8fe464-95ca-49bc-9458-fb64e7284da6\",\"type\":\"BoxAnnotation\"},\"plot\":{\"id\":\"38ae5778-2548-4e28-bc54-fde3698ecb41\",\"subtype\":\"Chart\",\"type\":\"Plot\"}},\"id\":\"9b8361df-e37b-44cc-a720-32050d012325\",\"type\":\"BoxZoomTool\"},{\"attributes\":{\"plot\":null,\"text\":null},\"id\":\"d940252b-b7d8-429d-b2ee-a58dfdc25e62\",\"type\":\"Title\"},{\"attributes\":{\"plot\":{\"id\":\"38ae5778-2548-4e28-bc54-fde3698ecb41\",\"subtype\":\"Chart\",\"type\":\"Plot\"}},\"id\":\"6820dae4-d461-4b30-8242-3302c86a58c5\",\"type\":\"ResetTool\"},{\"attributes\":{\"fill_alpha\":{\"field\":\"fill_alpha\"},\"fill_color\":{\"field\":\"color\"},\"height\":{\"field\":\"height\",\"units\":\"data\"},\"line_color\":{\"field\":\"line_color\"},\"width\":{\"field\":\"width\",\"units\":\"data\"},\"x\":{\"field\":\"x\"},\"y\":{\"field\":\"y\"}},\"id\":\"0ddbc00a-c3c9-4fba-8741-c4dc0529b82f\",\"type\":\"Rect\"},{\"attributes\":{\"data_source\":{\"id\":\"6d9de8bb-7a08-4a7d-aab9-7a84350eb35f\",\"type\":\"ColumnDataSource\"},\"glyph\":{\"id\":\"100b8167-1c63-4ef5-a19d-9dbd1bd2d719\",\"type\":\"Rect\"},\"hover_glyph\":null,\"muted_glyph\":null},\"id\":\"0aa1bee7-2528-40be-96a2-47ae17d7bb7a\",\"type\":\"GlyphRenderer\"},{\"attributes\":{},\"id\":\"c7092e58-adfa-4c5a-a3d4-91d57e365cab\",\"type\":\"CategoricalTicker\"},{\"attributes\":{\"data_source\":{\"id\":\"49a92a10-5186-41fc-9bac-7f5cb1bf7318\",\"type\":\"ColumnDataSource\"},\"glyph\":{\"id\":\"82ab1cc5-c886-4214-adab-634f591e3040\",\"type\":\"Rect\"},\"hover_glyph\":null,\"muted_glyph\":null},\"id\":\"b841f4c3-5000-47b8-ae92-9ef9206624eb\",\"type\":\"GlyphRenderer\"},{\"attributes\":{},\"id\":\"d5c12c74-d2dd-473b-ad6c-2cb31cb4b5d3\",\"type\":\"LinearScale\"},{\"attributes\":{\"plot\":{\"id\":\"38ae5778-2548-4e28-bc54-fde3698ecb41\",\"subtype\":\"Chart\",\"type\":\"Plot\"}},\"id\":\"8aa7fc03-94c0-44b8-a691-e1aeccb8409e\",\"type\":\"HelpTool\"},{\"attributes\":{\"bottom_units\":\"screen\",\"fill_alpha\":{\"value\":0.5},\"fill_color\":{\"value\":\"lightgrey\"},\"left_units\":\"screen\",\"level\":\"overlay\",\"line_alpha\":{\"value\":1.0},\"line_color\":{\"value\":\"black\"},\"line_dash\":[4,4],\"line_width\":{\"value\":2},\"plot\":null,\"render_mode\":\"css\",\"right_units\":\"screen\",\"top_units\":\"screen\"},\"id\":\"9a8fe464-95ca-49bc-9458-fb64e7284da6\",\"type\":\"BoxAnnotation\"},{\"attributes\":{\"callback\":null,\"column_names\":[\"x\",\"y\",\"width\",\"height\",\"color\",\"fill_alpha\",\"line_color\",\"line_alpha\",\"label\"],\"data\":{\"chart_index\":[{\"label\":\"Amazon\"}],\"color\":[\"#5975a4\"],\"fill_alpha\":[0.8],\"height\":[4.0354007937258904],\"label\":[\"Amazon\"],\"line_alpha\":[1.0],\"line_color\":[\"white\"],\"width\":[0.7],\"x\":[\"Amazon\"],\"y\":[2.0177003968629452]}},\"id\":\"39ed2569-f038-4746-b859-396297e81320\",\"type\":\"ColumnDataSource\"},{\"attributes\":{},\"id\":\"a38d8733-f31d-49e2-8a59-38766b0820e2\",\"type\":\"CategoricalScale\"},{\"attributes\":{\"callback\":null,\"column_names\":[\"x\",\"y\",\"width\",\"height\",\"color\",\"fill_alpha\",\"line_color\",\"line_alpha\",\"label\"],\"data\":{\"chart_index\":[{\"label\":\"BCI\"}],\"color\":[\"#5975a4\"],\"fill_alpha\":[0.8],\"height\":[2.5038294419483487],\"label\":[\"BCI\"],\"line_alpha\":[1.0],\"line_color\":[\"white\"],\"width\":[0.7],\"x\":[\"BCI\"],\"y\":[1.2519147209741743]}},\"id\":\"1bbd053d-deaa-4df4-8da4-202b2eb0ea18\",\"type\":\"ColumnDataSource\"},{\"attributes\":{\"fill_alpha\":{\"field\":\"fill_alpha\"},\"fill_color\":{\"field\":\"color\"},\"height\":{\"field\":\"height\",\"units\":\"data\"},\"line_color\":{\"field\":\"line_color\"},\"width\":{\"field\":\"width\",\"units\":\"data\"},\"x\":{\"field\":\"x\"},\"y\":{\"field\":\"y\"}},\"id\":\"fe92ac3a-5783-483e-8588-f1ca639fe6c6\",\"type\":\"Rect\"},{\"attributes\":{\"fill_alpha\":{\"field\":\"fill_alpha\"},\"fill_color\":{\"field\":\"color\"},\"height\":{\"field\":\"height\",\"units\":\"data\"},\"line_color\":{\"field\":\"line_color\"},\"width\":{\"field\":\"width\",\"units\":\"data\"},\"x\":{\"field\":\"x\"},\"y\":{\"field\":\"y\"}},\"id\":\"82ab1cc5-c886-4214-adab-634f591e3040\",\"type\":\"Rect\"},{\"attributes\":{\"label\":{\"value\":\"Football\"},\"renderers\":[{\"id\":\"f79e718c-fbfa-40fb-943c-c9da8814392f\",\"type\":\"GlyphRenderer\"}]},\"id\":\"575e98bb-fa59-47a1-a503-2f5476048a57\",\"type\":\"LegendItem\"},{\"attributes\":{\"data_source\":{\"id\":\"1bbd053d-deaa-4df4-8da4-202b2eb0ea18\",\"type\":\"ColumnDataSource\"},\"glyph\":{\"id\":\"fe92ac3a-5783-483e-8588-f1ca639fe6c6\",\"type\":\"Rect\"},\"hover_glyph\":null,\"muted_glyph\":null},\"id\":\"4fdb8707-8271-44b4-b306-652c461fc57c\",\"type\":\"GlyphRenderer\"},{\"attributes\":{\"plot\":{\"id\":\"38ae5778-2548-4e28-bc54-fde3698ecb41\",\"subtype\":\"Chart\",\"type\":\"Plot\"}},\"id\":\"55b60216-6af4-4cf8-81f8-20fb51308534\",\"type\":\"WheelZoomTool\"},{\"attributes\":{\"data_source\":{\"id\":\"39ed2569-f038-4746-b859-396297e81320\",\"type\":\"ColumnDataSource\"},\"glyph\":{\"id\":\"0ddbc00a-c3c9-4fba-8741-c4dc0529b82f\",\"type\":\"Rect\"},\"hover_glyph\":null,\"muted_glyph\":null},\"id\":\"475e8760-bb67-4f94-b2a9-7cb27a928b73\",\"type\":\"GlyphRenderer\"},{\"attributes\":{\"items\":[{\"id\":\"f910447a-2744-4a42-8bf8-e43b1ae73172\",\"type\":\"LegendItem\"},{\"id\":\"62de14f2-e05c-4238-9c2f-8ed996e75578\",\"type\":\"LegendItem\"},{\"id\":\"297850d9-8faa-4679-a190-cd9a0b3a9c41\",\"type\":\"LegendItem\"},{\"id\":\"575e98bb-fa59-47a1-a503-2f5476048a57\",\"type\":\"LegendItem\"},{\"id\":\"0e766dc3-fa73-4b7d-b5b9-08b58bc0f1fb\",\"type\":\"LegendItem\"}],\"location\":\"top_left\",\"plot\":{\"id\":\"38ae5778-2548-4e28-bc54-fde3698ecb41\",\"subtype\":\"Chart\",\"type\":\"Plot\"},\"visible\":false},\"id\":\"f81001bb-f3ab-4ff4-9e00-2be5f5b2f096\",\"type\":\"Legend\"},{\"attributes\":{\"label\":{\"value\":\"Fraud\"},\"renderers\":[{\"id\":\"0aa1bee7-2528-40be-96a2-47ae17d7bb7a\",\"type\":\"GlyphRenderer\"}]},\"id\":\"0e766dc3-fa73-4b7d-b5b9-08b58bc0f1fb\",\"type\":\"LegendItem\"},{\"attributes\":{\"label\":{\"value\":\"Amazon\"},\"renderers\":[{\"id\":\"475e8760-bb67-4f94-b2a9-7cb27a928b73\",\"type\":\"GlyphRenderer\"}]},\"id\":\"62de14f2-e05c-4238-9c2f-8ed996e75578\",\"type\":\"LegendItem\"},{\"attributes\":{\"label\":{\"value\":\"BCI\"},\"renderers\":[{\"id\":\"4fdb8707-8271-44b4-b306-652c461fc57c\",\"type\":\"GlyphRenderer\"}]},\"id\":\"297850d9-8faa-4679-a190-cd9a0b3a9c41\",\"type\":\"LegendItem\"},{\"attributes\":{\"active_drag\":\"auto\",\"active_inspect\":\"auto\",\"active_scroll\":\"auto\",\"active_tap\":\"auto\",\"tools\":[{\"id\":\"c56ffce4-8d01-467d-9b3a-e6b98d5aa0b3\",\"type\":\"PanTool\"},{\"id\":\"55b60216-6af4-4cf8-81f8-20fb51308534\",\"type\":\"WheelZoomTool\"},{\"id\":\"9b8361df-e37b-44cc-a720-32050d012325\",\"type\":\"BoxZoomTool\"},{\"id\":\"cb6d4f13-dbe6-44c7-9df2-f60634ac23af\",\"type\":\"SaveTool\"},{\"id\":\"6820dae4-d461-4b30-8242-3302c86a58c5\",\"type\":\"ResetTool\"},{\"id\":\"8aa7fc03-94c0-44b8-a691-e1aeccb8409e\",\"type\":\"HelpTool\"}]},\"id\":\"0d787959-2d70-405e-a18f-162ff5c66a52\",\"type\":\"Toolbar\"},{\"attributes\":{\"plot\":{\"id\":\"38ae5778-2548-4e28-bc54-fde3698ecb41\",\"subtype\":\"Chart\",\"type\":\"Plot\"}},\"id\":\"c56ffce4-8d01-467d-9b3a-e6b98d5aa0b3\",\"type\":\"PanTool\"},{\"attributes\":{\"below\":[{\"id\":\"69ca1555-bc76-4d6b-b944-c6761121161c\",\"type\":\"CategoricalAxis\"}],\"css_classes\":null,\"left\":[{\"id\":\"495e197b-4932-4c72-abfe-c9c1c7641e03\",\"type\":\"LinearAxis\"}],\"plot_height\":400,\"renderers\":[{\"id\":\"9a8fe464-95ca-49bc-9458-fb64e7284da6\",\"type\":\"BoxAnnotation\"},{\"id\":\"b841f4c3-5000-47b8-ae92-9ef9206624eb\",\"type\":\"GlyphRenderer\"},{\"id\":\"475e8760-bb67-4f94-b2a9-7cb27a928b73\",\"type\":\"GlyphRenderer\"},{\"id\":\"4fdb8707-8271-44b4-b306-652c461fc57c\",\"type\":\"GlyphRenderer\"},{\"id\":\"f79e718c-fbfa-40fb-943c-c9da8814392f\",\"type\":\"GlyphRenderer\"},{\"id\":\"0aa1bee7-2528-40be-96a2-47ae17d7bb7a\",\"type\":\"GlyphRenderer\"},{\"id\":\"f81001bb-f3ab-4ff4-9e00-2be5f5b2f096\",\"type\":\"Legend\"},{\"id\":\"69ca1555-bc76-4d6b-b944-c6761121161c\",\"type\":\"CategoricalAxis\"},{\"id\":\"495e197b-4932-4c72-abfe-c9c1c7641e03\",\"type\":\"LinearAxis\"},{\"id\":\"d071e841-5fc4-4c71-949f-09d942c5da05\",\"type\":\"Grid\"}],\"title\":{\"id\":\"d940252b-b7d8-429d-b2ee-a58dfdc25e62\",\"type\":\"Title\"},\"tool_events\":{\"id\":\"d30907c0-e57f-431c-91e2-3e6b90b345d2\",\"type\":\"ToolEvents\"},\"toolbar\":{\"id\":\"0d787959-2d70-405e-a18f-162ff5c66a52\",\"type\":\"Toolbar\"},\"toolbar_location\":\"above\",\"x_range\":{\"id\":\"1a38f8ea-4320-4385-b6d3-67175734c7b7\",\"type\":\"FactorRange\"},\"x_scale\":{\"id\":\"a38d8733-f31d-49e2-8a59-38766b0820e2\",\"type\":\"CategoricalScale\"},\"y_range\":{\"id\":\"589fbfc9-b7ee-49f7-95b8-1712e532ee76\",\"type\":\"Range1d\"},\"y_scale\":{\"id\":\"d5c12c74-d2dd-473b-ad6c-2cb31cb4b5d3\",\"type\":\"LinearScale\"}},\"id\":\"38ae5778-2548-4e28-bc54-fde3698ecb41\",\"subtype\":\"Chart\",\"type\":\"Plot\"},{\"attributes\":{},\"id\":\"d30907c0-e57f-431c-91e2-3e6b90b345d2\",\"type\":\"ToolEvents\"},{\"attributes\":{\"axis_label\":\"Train Time Ratio\",\"formatter\":{\"id\":\"b492ef78-9b23-4810-aa21-3b2a1b6c8067\",\"type\":\"BasicTickFormatter\"},\"plot\":{\"id\":\"38ae5778-2548-4e28-bc54-fde3698ecb41\",\"subtype\":\"Chart\",\"type\":\"Plot\"},\"ticker\":{\"id\":\"e4d94376-b0f3-44ee-84eb-cb9292bc7423\",\"type\":\"BasicTicker\"}},\"id\":\"495e197b-4932-4c72-abfe-c9c1c7641e03\",\"type\":\"LinearAxis\"},{\"attributes\":{\"callback\":null,\"end\":6.348242687812748},\"id\":\"589fbfc9-b7ee-49f7-95b8-1712e532ee76\",\"type\":\"Range1d\"}],\"root_ids\":[\"38ae5778-2548-4e28-bc54-fde3698ecb41\"]},\"title\":\"Bokeh Application\",\"version\":\"0.12.6\"}};\n",
       "            var render_items = [{\"docid\":\"5e17d60c-ce55-47a6-a75d-a56460e11578\",\"elementid\":\"161c1240-fff4-4637-9d5c-f26f32a51a50\",\"modelid\":\"38ae5778-2548-4e28-bc54-fde3698ecb41\"}];\n",
       "            \n",
       "            Bokeh.embed.embed_items(docs_json, render_items);\n",
       "          };\n",
       "          if (document.readyState != \"loading\") fn();\n",
       "          else document.addEventListener(\"DOMContentLoaded\", fn);\n",
       "        })();\n",
       "      },\n",
       "      function(Bokeh) {\n",
       "      }\n",
       "    ];\n",
       "  \n",
       "    function run_inline_js() {\n",
       "      \n",
       "      if ((window.Bokeh !== undefined) || (force === true)) {\n",
       "        for (var i = 0; i < inline_js.length; i++) {\n",
       "          inline_js[i](window.Bokeh);\n",
       "        }if (force === true) {\n",
       "          display_loaded();\n",
       "        }} else if (Date.now() < window._bokeh_timeout) {\n",
       "        setTimeout(run_inline_js, 100);\n",
       "      } else if (!window._bokeh_failed_load) {\n",
       "        console.log(\"Bokeh: BokehJS failed to load within specified timeout.\");\n",
       "        window._bokeh_failed_load = true;\n",
       "      } else if (force !== true) {\n",
       "        var cell = $(document.getElementById(\"161c1240-fff4-4637-9d5c-f26f32a51a50\")).parents('.cell').data().cell;\n",
       "        cell.output_area.append_execute_result(NB_LOAD_WARNING)\n",
       "      }\n",
       "  \n",
       "    }\n",
       "  \n",
       "    if (window._bokeh_is_loading === 0) {\n",
       "      console.log(\"Bokeh: BokehJS loaded, going straight to plotting\");\n",
       "      run_inline_js();\n",
       "    } else {\n",
       "      load_libs(js_urls, function() {\n",
       "        console.log(\"Bokeh: BokehJS plotting callback run at\", now());\n",
       "        run_inline_js();\n",
       "      });\n",
       "    }\n",
       "  }(this));\n",
       "</script>"
      ]
     },
     "metadata": {},
     "output_type": "display_data"
    }
   ],
   "source": [
    "bar = Bar(data, values='Train Time Ratio', agg='mean', label=['label'], \n",
    "          plot_width=600, plot_height=400, bar_width=0.7, color='#5975a4')\n",
    "bar.axis[0].axis_label=''\n",
    "bar.axis[1].axis_label='Train Time Ratio'\n",
    "bar.toolbar_location='above'\n",
    "bar.legend[0].visible=False\n",
    "show(bar)"
   ]
  },
  {
   "cell_type": "code",
   "execution_count": 72,
   "metadata": {},
   "outputs": [
    {
     "name": "stderr",
     "output_type": "stream",
     "text": [
      "WARNING:bokeh.io:The webdriver raised a TimeoutException while waiting for                      a 'bokeh:idle' event to signify that the layout has rendered.                      Something may have gone wrong.\n"
     ]
    },
    {
     "data": {
      "image/svg+xml": [
       "<svg height=\"400\" style=\"width: 600px; height: 400px;\" version=\"1.1\" width=\"600\" xmlns=\"http://www.w3.org/2000/svg\" xmlns:xlink=\"http://www.w3.org/1999/xlink\"><defs/><g><g/><g transform=\"scale(1,1) translate(0.5,0.5)\"><rect fill=\"#FFFFFF\" height=\"400\" stroke=\"none\" width=\"600\" x=\"0\" y=\"0\"/><rect fill=\"#ffffff\" height=\"400\" stroke=\"none\" width=\"600\" x=\"0\" y=\"0\"/><rect fill=\"#FFFFFF\" height=\"322.9826322167867\" stroke=\"none\" width=\"556.6871874999999\" x=\"38.31281250000001\" y=\"29\"/><rect fill=\"#ffffff\" height=\"322.9826322167867\" stroke=\"none\" width=\"556.6871874999999\" x=\"38.31281250000001\" y=\"29\"/><g><rect fill=\"none\" height=\"322.9826322167867\" stroke=\"#e5e5e5\" stroke-miterlimit=\"10\" width=\"556.6871874999999\" x=\"38.31281250000001\" y=\"29\"/></g><g><g><path d=\" M 38 301 L 595 301\" fill=\"none\" paint-order=\"fill stroke markers\" stroke=\"#e5e5e5\" stroke-miterlimit=\"10\"/><path d=\" M 38 250 L 595 250\" fill=\"none\" paint-order=\"fill stroke markers\" stroke=\"#e5e5e5\" stroke-miterlimit=\"10\"/><path d=\" M 38 199 L 595 199\" fill=\"none\" paint-order=\"fill stroke markers\" stroke=\"#e5e5e5\" stroke-miterlimit=\"10\"/><path d=\" M 38 148 L 595 148\" fill=\"none\" paint-order=\"fill stroke markers\" stroke=\"#e5e5e5\" stroke-miterlimit=\"10\"/><path d=\" M 38 98 L 595 98\" fill=\"none\" paint-order=\"fill stroke markers\" stroke=\"#e5e5e5\" stroke-miterlimit=\"10\"/><path d=\" M 38 47 L 595 47\" fill=\"none\" paint-order=\"fill stroke markers\" stroke=\"#e5e5e5\" stroke-miterlimit=\"10\"/></g><g><path fill=\"none\" stroke=\"none\"/><rect fill=\"#5975a4\" fill-opacity=\"0.8\" height=\"305.8361788829567\" stroke=\"none\" width=\"77.93620624999858\" x=\"55.013428125000004\" y=\"46.14645333383004\"/><path d=\" M 55.013428125000004 46.14645333383004 L 132.9496343749986 46.14645333383004 L 132.9496343749986 351.9826322167867 L 55.013428125000004 351.9826322167867 L 55.013428125000004 46.14645333383004 Z\" fill=\"none\" paint-order=\"fill stroke markers\" stroke=\"white\" stroke-miterlimit=\"10\"/><path d=\"\" fill=\"none\" paint-order=\"fill stroke markers\" stroke=\"white\" stroke-miterlimit=\"10\"/></g><g><path fill=\"none\" stroke=\"none\"/><rect fill=\"#5975a4\" fill-opacity=\"0.8\" height=\"205.311049766493\" stroke=\"none\" width=\"77.93620624999676\" x=\"166.35086562499998\" y=\"146.67158245029373\"/><path d=\" M 166.35086562499998 146.67158245029373 L 244.28707187499674 146.67158245029373 L 244.28707187499674 351.9826322167867 L 166.35086562499998 351.9826322167867 L 166.35086562499998 146.67158245029373 Z\" fill=\"none\" paint-order=\"fill stroke markers\" stroke=\"white\" stroke-miterlimit=\"10\"/><path d=\"\" fill=\"none\" paint-order=\"fill stroke markers\" stroke=\"white\" stroke-miterlimit=\"10\"/></g><g><path fill=\"none\" stroke=\"none\"/><rect fill=\"#5975a4\" fill-opacity=\"0.8\" height=\"127.38854885539934\" stroke=\"none\" width=\"77.9362062500004\" x=\"277.688303125\" y=\"224.5940833613874\"/><path d=\" M 277.688303125 224.5940833613874 L 355.6245093750004 224.5940833613874 L 355.6245093750004 351.9826322167867 L 277.688303125 351.9826322167867 L 277.688303125 224.5940833613874 Z\" fill=\"none\" paint-order=\"fill stroke markers\" stroke=\"white\" stroke-miterlimit=\"10\"/><path d=\"\" fill=\"none\" paint-order=\"fill stroke markers\" stroke=\"white\" stroke-miterlimit=\"10\"/></g><g><path fill=\"none\" stroke=\"none\"/><rect fill=\"#5975a4\" fill-opacity=\"0.8\" height=\"184.02767348448342\" stroke=\"none\" width=\"77.93620625000767\" x=\"389.02574062499997\" y=\"167.9549587323033\"/><path d=\" M 389.02574062499997 167.9549587323033 L 466.96194687500764 167.9549587323033 L 466.96194687500764 351.9826322167867 L 389.02574062499997 351.9826322167867 L 389.02574062499997 167.9549587323033 Z\" fill=\"none\" paint-order=\"fill stroke markers\" stroke=\"white\" stroke-miterlimit=\"10\"/><path d=\"\" fill=\"none\" paint-order=\"fill stroke markers\" stroke=\"white\" stroke-miterlimit=\"10\"/></g><g><path fill=\"none\" stroke=\"none\"/><rect fill=\"#5975a4\" fill-opacity=\"0.8\" height=\"307.6025068731302\" stroke=\"none\" width=\"77.9362062500004\" x=\"500.363178125\" y=\"44.380125343656516\"/><path d=\" M 500.363178125 44.380125343656516 L 578.2993843750004 44.380125343656516 L 578.2993843750004 351.9826322167867 L 500.363178125 351.9826322167867 L 500.363178125 44.380125343656516 Z\" fill=\"none\" paint-order=\"fill stroke markers\" stroke=\"white\" stroke-miterlimit=\"10\"/><path d=\"\" fill=\"none\" paint-order=\"fill stroke markers\" stroke=\"white\" stroke-miterlimit=\"10\"/></g></g><g/><g><g fill=\"#444444\"><path d=\" M 38 352 L 595 352\" fill=\"none\" paint-order=\"fill stroke markers\" stroke=\"black\" stroke-miterlimit=\"10\"/><path d=\" M 94 358 L 94 350\" fill=\"none\" paint-order=\"fill stroke markers\" stroke=\"black\" stroke-miterlimit=\"10\"/><path d=\" M 205 358 L 205 350\" fill=\"none\" paint-order=\"fill stroke markers\" stroke=\"black\" stroke-miterlimit=\"10\"/><path d=\" M 317 358 L 317 350\" fill=\"none\" paint-order=\"fill stroke markers\" stroke=\"black\" stroke-miterlimit=\"10\"/><path d=\" M 428 358 L 428 350\" fill=\"none\" paint-order=\"fill stroke markers\" stroke=\"black\" stroke-miterlimit=\"10\"/><path d=\" M 539 358 L 539 350\" fill=\"\" paint-order=\"fill stroke markers\" stroke=\"black\" stroke-miterlimit=\"10\"/><g transform=\"translate(93.98153125,362.9826322167867) rotate(-45,0,0)\"><text dominant-baseline=\"central\" fill=\"\" font-family=\"helvetica\" font-size=\"8pt\" font-style=\"normal\" font-weight=\"normal\" stroke=\"none\" text-anchor=\"end\" text-decoration=\"normal\" x=\"0\" y=\"0\">Airline</text><g transform=\"rotate(45,0,0) translate(-93.98153125,-362.9826322167867) translate(205.31896875,362.9826322167867) rotate(-45,0,0)\"><text dominant-baseline=\"central\" fill=\"\" font-family=\"helvetica\" font-size=\"8pt\" font-style=\"normal\" font-weight=\"normal\" stroke=\"none\" text-anchor=\"end\" text-decoration=\"normal\" x=\"0\" y=\"0\">Amazon</text><g transform=\"rotate(45,0,0) translate(-205.31896875,-362.9826322167867) translate(316.65640625000003,362.9826322167867) rotate(-45,0,0)\"><text dominant-baseline=\"central\" fill=\"\" font-family=\"helvetica\" font-size=\"8pt\" font-style=\"normal\" font-weight=\"normal\" stroke=\"none\" text-anchor=\"end\" text-decoration=\"normal\" x=\"0\" y=\"0\">BCI</text><g transform=\"rotate(45,0,0) translate(-316.65640625000003,-362.9826322167867) translate(427.99384375,362.9826322167867) rotate(-45,0,0)\"><text dominant-baseline=\"central\" fill=\"\" font-family=\"helvetica\" font-size=\"8pt\" font-style=\"normal\" font-weight=\"normal\" stroke=\"none\" text-anchor=\"end\" text-decoration=\"normal\" x=\"0\" y=\"0\">Football</text><g transform=\"rotate(45,0,0) translate(-427.99384375,-362.9826322167867) translate(539.33128125,362.9826322167867) rotate(-45,0,0)\"><text dominant-baseline=\"central\" fill=\"\" font-family=\"helvetica\" font-size=\"8pt\" font-style=\"normal\" font-weight=\"normal\" stroke=\"none\" text-anchor=\"end\" text-decoration=\"normal\" x=\"0\" y=\"0\">Fraud</text><g transform=\"rotate(45,0,0) translate(-539.33128125,-362.9826322167867)\"><text dominant-baseline=\"hanging\" fill=\"\" font-family=\"helvetica\" font-size=\"10pt\" font-style=\"italic\" font-weight=\"normal\" stroke=\"none\" text-anchor=\"middle\" text-decoration=\"normal\" x=\"316.65640625000003\" y=\"404\"/></g></g></g></g></g></g></g><g><path d=\" M 38 352 L 38 29\" fill=\"none\" paint-order=\"fill stroke markers\" stroke=\"black\" stroke-miterlimit=\"10\"/><path d=\" M 32 352 L 40 352\" fill=\"none\" paint-order=\"fill stroke markers\" stroke=\"black\" stroke-miterlimit=\"10\"/><path d=\" M 32 301 L 40 301\" fill=\"none\" paint-order=\"fill stroke markers\" stroke=\"black\" stroke-miterlimit=\"10\"/><path d=\" M 32 250 L 40 250\" fill=\"none\" paint-order=\"fill stroke markers\" stroke=\"black\" stroke-miterlimit=\"10\"/><path d=\" M 32 199 L 40 199\" fill=\"none\" paint-order=\"fill stroke markers\" stroke=\"black\" stroke-miterlimit=\"10\"/><path d=\" M 32 148 L 40 148\" fill=\"none\" paint-order=\"fill stroke markers\" stroke=\"black\" stroke-miterlimit=\"10\"/><path d=\" M 32 98 L 40 98\" fill=\"none\" paint-order=\"fill stroke markers\" stroke=\"black\" stroke-miterlimit=\"10\"/><path d=\" M 32 47 L 40 47\" fill=\"none\" paint-order=\"fill stroke markers\" stroke=\"black\" stroke-miterlimit=\"10\"/><path d=\" M 34 352 L 38 352\" fill=\"none\" paint-order=\"fill stroke markers\" stroke=\"black\" stroke-miterlimit=\"10\"/><path d=\" M 34 342 L 38 342\" fill=\"none\" paint-order=\"fill stroke markers\" stroke=\"black\" stroke-miterlimit=\"10\"/><path d=\" M 34 332 L 38 332\" fill=\"none\" paint-order=\"fill stroke markers\" stroke=\"black\" stroke-miterlimit=\"10\"/><path d=\" M 34 321 L 38 321\" fill=\"none\" paint-order=\"fill stroke markers\" stroke=\"black\" stroke-miterlimit=\"10\"/><path d=\" M 34 311 L 38 311\" fill=\"none\" paint-order=\"fill stroke markers\" stroke=\"black\" stroke-miterlimit=\"10\"/><path d=\" M 34 301 L 38 301\" fill=\"none\" paint-order=\"fill stroke markers\" stroke=\"black\" stroke-miterlimit=\"10\"/><path d=\" M 34 291 L 38 291\" fill=\"none\" paint-order=\"fill stroke markers\" stroke=\"black\" stroke-miterlimit=\"10\"/><path d=\" M 34 281 L 38 281\" fill=\"none\" paint-order=\"fill stroke markers\" stroke=\"black\" stroke-miterlimit=\"10\"/><path d=\" M 34 271 L 38 271\" fill=\"none\" paint-order=\"fill stroke markers\" stroke=\"black\" stroke-miterlimit=\"10\"/><path d=\" M 34 260 L 38 260\" fill=\"none\" paint-order=\"fill stroke markers\" stroke=\"black\" stroke-miterlimit=\"10\"/><path d=\" M 34 250 L 38 250\" fill=\"none\" paint-order=\"fill stroke markers\" stroke=\"black\" stroke-miterlimit=\"10\"/><path d=\" M 34 240 L 38 240\" fill=\"none\" paint-order=\"fill stroke markers\" stroke=\"black\" stroke-miterlimit=\"10\"/><path d=\" M 34 230 L 38 230\" fill=\"none\" paint-order=\"fill stroke markers\" stroke=\"black\" stroke-miterlimit=\"10\"/><path d=\" M 34 220 L 38 220\" fill=\"none\" paint-order=\"fill stroke markers\" stroke=\"black\" stroke-miterlimit=\"10\"/><path d=\" M 34 210 L 38 210\" fill=\"none\" paint-order=\"fill stroke markers\" stroke=\"black\" stroke-miterlimit=\"10\"/><path d=\" M 34 199 L 38 199\" fill=\"none\" paint-order=\"fill stroke markers\" stroke=\"black\" stroke-miterlimit=\"10\"/><path d=\" M 34 189 L 38 189\" fill=\"none\" paint-order=\"fill stroke markers\" stroke=\"black\" stroke-miterlimit=\"10\"/><path d=\" M 34 179 L 38 179\" fill=\"none\" paint-order=\"fill stroke markers\" stroke=\"black\" stroke-miterlimit=\"10\"/><path d=\" M 34 169 L 38 169\" fill=\"none\" paint-order=\"fill stroke markers\" stroke=\"black\" stroke-miterlimit=\"10\"/><path d=\" M 34 159 L 38 159\" fill=\"none\" paint-order=\"fill stroke markers\" stroke=\"black\" stroke-miterlimit=\"10\"/><path d=\" M 34 148 L 38 148\" fill=\"none\" paint-order=\"fill stroke markers\" stroke=\"black\" stroke-miterlimit=\"10\"/><path d=\" M 34 138 L 38 138\" fill=\"none\" paint-order=\"fill stroke markers\" stroke=\"black\" stroke-miterlimit=\"10\"/><path d=\" M 34 128 L 38 128\" fill=\"none\" paint-order=\"fill stroke markers\" stroke=\"black\" stroke-miterlimit=\"10\"/><path d=\" M 34 118 L 38 118\" fill=\"none\" paint-order=\"fill stroke markers\" stroke=\"black\" stroke-miterlimit=\"10\"/><path d=\" M 34 108 L 38 108\" fill=\"none\" paint-order=\"fill stroke markers\" stroke=\"black\" stroke-miterlimit=\"10\"/><path d=\" M 34 98 L 38 98\" fill=\"none\" paint-order=\"fill stroke markers\" stroke=\"black\" stroke-miterlimit=\"10\"/><path d=\" M 34 87 L 38 87\" fill=\"none\" paint-order=\"fill stroke markers\" stroke=\"black\" stroke-miterlimit=\"10\"/><path d=\" M 34 77 L 38 77\" fill=\"none\" paint-order=\"fill stroke markers\" stroke=\"black\" stroke-miterlimit=\"10\"/><path d=\" M 34 67 L 38 67\" fill=\"none\" paint-order=\"fill stroke markers\" stroke=\"black\" stroke-miterlimit=\"10\"/><path d=\" M 34 57 L 38 57\" fill=\"none\" paint-order=\"fill stroke markers\" stroke=\"black\" stroke-miterlimit=\"10\"/><path d=\" M 34 47 L 38 47\" fill=\"none\" paint-order=\"fill stroke markers\" stroke=\"black\" stroke-miterlimit=\"10\"/><path d=\" M 34 37 L 38 37\" fill=\"none\" paint-order=\"fill stroke markers\" stroke=\"black\" stroke-miterlimit=\"10\"/><text dominant-baseline=\"central\" fill=\"#444444\" font-family=\"helvetica\" font-size=\"8pt\" font-style=\"normal\" font-weight=\"normal\" stroke=\"none\" text-anchor=\"end\" text-decoration=\"normal\" x=\"27\" y=\"352\">0</text><text dominant-baseline=\"central\" fill=\"#444444\" font-family=\"helvetica\" font-size=\"8pt\" font-style=\"normal\" font-weight=\"normal\" stroke=\"none\" text-anchor=\"end\" text-decoration=\"normal\" x=\"27\" y=\"301\">1</text><text dominant-baseline=\"central\" fill=\"#444444\" font-family=\"helvetica\" font-size=\"8pt\" font-style=\"normal\" font-weight=\"normal\" stroke=\"none\" text-anchor=\"end\" text-decoration=\"normal\" x=\"27\" y=\"250\">2</text><text dominant-baseline=\"central\" fill=\"#444444\" font-family=\"helvetica\" font-size=\"8pt\" font-style=\"normal\" font-weight=\"normal\" stroke=\"none\" text-anchor=\"end\" text-decoration=\"normal\" x=\"27\" y=\"199\">3</text><text dominant-baseline=\"central\" fill=\"#444444\" font-family=\"helvetica\" font-size=\"8pt\" font-style=\"normal\" font-weight=\"normal\" stroke=\"none\" text-anchor=\"end\" text-decoration=\"normal\" x=\"27\" y=\"148\">4</text><text dominant-baseline=\"central\" fill=\"#444444\" font-family=\"helvetica\" font-size=\"8pt\" font-style=\"normal\" font-weight=\"normal\" stroke=\"none\" text-anchor=\"end\" text-decoration=\"normal\" x=\"27\" y=\"98\">5</text><text dominant-baseline=\"central\" fill=\"#444444\" font-family=\"helvetica\" font-size=\"8pt\" font-style=\"normal\" font-weight=\"normal\" stroke=\"none\" text-anchor=\"end\" text-decoration=\"normal\" x=\"27\" y=\"47\">6</text><g transform=\"translate(15.592500000000008,190.49131610839336) rotate(-90,0,0)\"><text dominant-baseline=\"alphabetic\" fill=\"#444444\" font-family=\"helvetica\" font-size=\"10pt\" font-style=\"italic\" font-weight=\"normal\" stroke=\"none\" text-anchor=\"middle\" text-decoration=\"normal\" x=\"0\" y=\"0\">Train Time Ratio</text><g transform=\"rotate(90,0,0) translate(-15.592500000000008,-190.49131610839336)\"/></g></g></g></g></g></svg>"
      ],
      "text/plain": [
       "<IPython.core.display.SVG object>"
      ]
     },
     "metadata": {},
     "output_type": "display_data"
    }
   ],
   "source": [
    "bar.output_backend = \"svg\"\n",
    "export_svgs(bar, filename=\"xgb_vs_lgbm_train_time.svg\")\n",
    "display(SVG('xgb_vs_lgbm_train_time.svg'))"
   ]
  },
  {
   "cell_type": "code",
   "execution_count": 74,
   "metadata": {
    "collapsed": true
   },
   "outputs": [],
   "source": [
    "data = {\n",
    "    'Perf. Difference(%)': results_df['Perf. Difference(%)'].values,\n",
    "    'label': results_df.index.values\n",
    "}"
   ]
  },
  {
   "cell_type": "code",
   "execution_count": 75,
   "metadata": {},
   "outputs": [
    {
     "data": {
      "text/html": [
       "\n",
       "\n",
       "    <div class=\"bk-root\">\n",
       "        <div class=\"bk-plotdiv\" id=\"c5e38dbb-26cd-49fa-aca4-245bff3ecf23\"></div>\n",
       "    </div>\n",
       "<script type=\"text/javascript\">\n",
       "  \n",
       "  (function(global) {\n",
       "    function now() {\n",
       "      return new Date();\n",
       "    }\n",
       "  \n",
       "    var force = false;\n",
       "  \n",
       "    if (typeof (window._bokeh_onload_callbacks) === \"undefined\" || force === true) {\n",
       "      window._bokeh_onload_callbacks = [];\n",
       "      window._bokeh_is_loading = undefined;\n",
       "    }\n",
       "  \n",
       "  \n",
       "    \n",
       "    if (typeof (window._bokeh_timeout) === \"undefined\" || force === true) {\n",
       "      window._bokeh_timeout = Date.now() + 0;\n",
       "      window._bokeh_failed_load = false;\n",
       "    }\n",
       "  \n",
       "    var NB_LOAD_WARNING = {'data': {'text/html':\n",
       "       \"<div style='background-color: #fdd'>\\n\"+\n",
       "       \"<p>\\n\"+\n",
       "       \"BokehJS does not appear to have successfully loaded. If loading BokehJS from CDN, this \\n\"+\n",
       "       \"may be due to a slow or bad network connection. Possible fixes:\\n\"+\n",
       "       \"</p>\\n\"+\n",
       "       \"<ul>\\n\"+\n",
       "       \"<li>re-rerun `output_notebook()` to attempt to load from CDN again, or</li>\\n\"+\n",
       "       \"<li>use INLINE resources instead, as so:</li>\\n\"+\n",
       "       \"</ul>\\n\"+\n",
       "       \"<code>\\n\"+\n",
       "       \"from bokeh.resources import INLINE\\n\"+\n",
       "       \"output_notebook(resources=INLINE)\\n\"+\n",
       "       \"</code>\\n\"+\n",
       "       \"</div>\"}};\n",
       "  \n",
       "    function display_loaded() {\n",
       "      if (window.Bokeh !== undefined) {\n",
       "        var el = document.getElementById(\"c5e38dbb-26cd-49fa-aca4-245bff3ecf23\");\n",
       "        el.textContent = \"BokehJS \" + Bokeh.version + \" successfully loaded.\";\n",
       "      } else if (Date.now() < window._bokeh_timeout) {\n",
       "        setTimeout(display_loaded, 100)\n",
       "      }\n",
       "    }\n",
       "  \n",
       "    function run_callbacks() {\n",
       "      try {\n",
       "        window._bokeh_onload_callbacks.forEach(function(callback) { callback() });\n",
       "      }\n",
       "      finally {\n",
       "        delete window._bokeh_onload_callbacks\n",
       "      }\n",
       "      console.info(\"Bokeh: all callbacks have finished\");\n",
       "    }\n",
       "  \n",
       "    function load_libs(js_urls, callback) {\n",
       "      window._bokeh_onload_callbacks.push(callback);\n",
       "      if (window._bokeh_is_loading > 0) {\n",
       "        console.log(\"Bokeh: BokehJS is being loaded, scheduling callback at\", now());\n",
       "        return null;\n",
       "      }\n",
       "      if (js_urls == null || js_urls.length === 0) {\n",
       "        run_callbacks();\n",
       "        return null;\n",
       "      }\n",
       "      console.log(\"Bokeh: BokehJS not loaded, scheduling load and callback at\", now());\n",
       "      window._bokeh_is_loading = js_urls.length;\n",
       "      for (var i = 0; i < js_urls.length; i++) {\n",
       "        var url = js_urls[i];\n",
       "        var s = document.createElement('script');\n",
       "        s.src = url;\n",
       "        s.async = false;\n",
       "        s.onreadystatechange = s.onload = function() {\n",
       "          window._bokeh_is_loading--;\n",
       "          if (window._bokeh_is_loading === 0) {\n",
       "            console.log(\"Bokeh: all BokehJS libraries loaded\");\n",
       "            run_callbacks()\n",
       "          }\n",
       "        };\n",
       "        s.onerror = function() {\n",
       "          console.warn(\"failed to load library \" + url);\n",
       "        };\n",
       "        console.log(\"Bokeh: injecting script tag for BokehJS library: \", url);\n",
       "        document.getElementsByTagName(\"head\")[0].appendChild(s);\n",
       "      }\n",
       "    };var element = document.getElementById(\"c5e38dbb-26cd-49fa-aca4-245bff3ecf23\");\n",
       "    if (element == null) {\n",
       "      console.log(\"Bokeh: ERROR: autoload.js configured with elementid 'c5e38dbb-26cd-49fa-aca4-245bff3ecf23' but no matching script tag was found. \")\n",
       "      return false;\n",
       "    }\n",
       "  \n",
       "    var js_urls = [];\n",
       "  \n",
       "    var inline_js = [\n",
       "      function(Bokeh) {\n",
       "        (function() {\n",
       "          var fn = function() {\n",
       "            var docs_json = {\"ff764964-8ef2-40db-b64d-25bff168a653\":{\"roots\":{\"references\":[{\"attributes\":{\"label\":{\"value\":\"Airline\"},\"renderers\":[{\"id\":\"a3093512-f882-4156-b14d-6c643e6e87a4\",\"type\":\"GlyphRenderer\"}]},\"id\":\"5dac80a3-a81a-4f38-ab6f-f12cd08142de\",\"type\":\"LegendItem\"},{\"attributes\":{\"label\":{\"value\":\"Football\"},\"renderers\":[{\"id\":\"3cf62e03-cbaf-4868-b97d-c9b7603590f2\",\"type\":\"GlyphRenderer\"}]},\"id\":\"982e1d0a-ed59-499c-9fe9-5ef134b5a1de\",\"type\":\"LegendItem\"},{\"attributes\":{\"callback\":null,\"end\":6.50958310191238,\"start\":-1.335336651216703},\"id\":\"da066494-e2e7-4a4e-9aa3-204d2d82a951\",\"type\":\"Range1d\"},{\"attributes\":{\"below\":[{\"id\":\"744fe3a6-09c1-46ed-8777-3d2a0ff6c715\",\"type\":\"CategoricalAxis\"}],\"css_classes\":null,\"left\":[{\"id\":\"686f3caf-8a39-4aaf-80a1-0eb34665b4b0\",\"type\":\"LinearAxis\"}],\"plot_height\":400,\"renderers\":[{\"id\":\"3c737006-0ad4-4f16-821b-084d455490f5\",\"type\":\"BoxAnnotation\"},{\"id\":\"a3093512-f882-4156-b14d-6c643e6e87a4\",\"type\":\"GlyphRenderer\"},{\"id\":\"8f051f83-6259-433d-b80f-5e75c1f4e324\",\"type\":\"GlyphRenderer\"},{\"id\":\"afed9992-a33b-4a41-bcd0-67e1a0a18230\",\"type\":\"GlyphRenderer\"},{\"id\":\"3cf62e03-cbaf-4868-b97d-c9b7603590f2\",\"type\":\"GlyphRenderer\"},{\"id\":\"cc9e17c6-f4f9-48e9-9ce5-9fe673fbbcae\",\"type\":\"GlyphRenderer\"},{\"id\":\"c851121f-1fce-462b-9316-5130cfe0dc88\",\"type\":\"Legend\"},{\"id\":\"744fe3a6-09c1-46ed-8777-3d2a0ff6c715\",\"type\":\"CategoricalAxis\"},{\"id\":\"686f3caf-8a39-4aaf-80a1-0eb34665b4b0\",\"type\":\"LinearAxis\"},{\"id\":\"1560e19d-cc94-44a8-8b57-a10e3632b1ac\",\"type\":\"Grid\"}],\"title\":{\"id\":\"ab16e1b7-2b65-45af-a61d-f661c93e2b17\",\"type\":\"Title\"},\"tool_events\":{\"id\":\"09ffab1f-0fe3-4e24-a197-3ac9926293c9\",\"type\":\"ToolEvents\"},\"toolbar\":{\"id\":\"9e411005-5ba8-40ab-b09c-33ab6966b868\",\"type\":\"Toolbar\"},\"toolbar_location\":\"above\",\"x_range\":{\"id\":\"62a60ce2-1cd4-4759-8342-eb50d9cbc5b0\",\"type\":\"FactorRange\"},\"x_scale\":{\"id\":\"907687ae-d07c-41ae-8ee4-23ee8621272d\",\"type\":\"CategoricalScale\"},\"y_range\":{\"id\":\"da066494-e2e7-4a4e-9aa3-204d2d82a951\",\"type\":\"Range1d\"},\"y_scale\":{\"id\":\"73b5177c-7923-4707-afe5-01ea8a4d6692\",\"type\":\"LinearScale\"}},\"id\":\"812e3109-f8dd-4cc1-bbc7-1cccabbe61e2\",\"subtype\":\"Chart\",\"type\":\"Plot\"},{\"attributes\":{\"label\":{\"value\":\"Fraud\"},\"renderers\":[{\"id\":\"cc9e17c6-f4f9-48e9-9ce5-9fe673fbbcae\",\"type\":\"GlyphRenderer\"}]},\"id\":\"3e246aba-4d9d-47a5-89c0-e21392e3b59d\",\"type\":\"LegendItem\"},{\"attributes\":{},\"id\":\"73b5177c-7923-4707-afe5-01ea8a4d6692\",\"type\":\"LinearScale\"},{\"attributes\":{\"axis_label\":\"\",\"formatter\":{\"id\":\"902065bc-f395-4327-afb7-a7297e04ccc5\",\"type\":\"CategoricalTickFormatter\"},\"major_label_orientation\":0.7853981633974483,\"plot\":{\"id\":\"812e3109-f8dd-4cc1-bbc7-1cccabbe61e2\",\"subtype\":\"Chart\",\"type\":\"Plot\"},\"ticker\":{\"id\":\"0d8c9d89-8af0-48a8-b158-a5c0bff9884d\",\"type\":\"CategoricalTicker\"}},\"id\":\"744fe3a6-09c1-46ed-8777-3d2a0ff6c715\",\"type\":\"CategoricalAxis\"},{\"attributes\":{\"label\":{\"value\":\"Amazon\"},\"renderers\":[{\"id\":\"8f051f83-6259-433d-b80f-5e75c1f4e324\",\"type\":\"GlyphRenderer\"}]},\"id\":\"cc291050-84be-427f-88ad-fde1689c9008\",\"type\":\"LegendItem\"},{\"attributes\":{\"callback\":null,\"factors\":[\"Airline\",\"Amazon\",\"BCI\",\"Football\",\"Fraud\"]},\"id\":\"62a60ce2-1cd4-4759-8342-eb50d9cbc5b0\",\"type\":\"FactorRange\"},{\"attributes\":{\"plot\":{\"id\":\"812e3109-f8dd-4cc1-bbc7-1cccabbe61e2\",\"subtype\":\"Chart\",\"type\":\"Plot\"}},\"id\":\"b7043294-f39b-4822-afd1-629b5795db81\",\"type\":\"WheelZoomTool\"},{\"attributes\":{\"overlay\":{\"id\":\"3c737006-0ad4-4f16-821b-084d455490f5\",\"type\":\"BoxAnnotation\"},\"plot\":{\"id\":\"812e3109-f8dd-4cc1-bbc7-1cccabbe61e2\",\"subtype\":\"Chart\",\"type\":\"Plot\"}},\"id\":\"143df653-f96a-498b-b206-8e9bfabd755e\",\"type\":\"BoxZoomTool\"},{\"attributes\":{\"callback\":null,\"column_names\":[\"x\",\"y\",\"width\",\"height\",\"color\",\"fill_alpha\",\"line_color\",\"line_alpha\",\"label\"],\"data\":{\"chart_index\":[{\"label\":\"Amazon\"}],\"color\":[\"#5975a4\"],\"fill_alpha\":[0.8],\"height\":[0.20831268635054112],\"label\":[\"Amazon\"],\"line_alpha\":[1.0],\"line_color\":[\"white\"],\"width\":[0.7],\"x\":[\"Amazon\"],\"y\":[0.10415634317527056]}},\"id\":\"dc8ea1cb-f046-4d8a-991a-1877e915e64d\",\"type\":\"ColumnDataSource\"},{\"attributes\":{\"fill_alpha\":{\"field\":\"fill_alpha\"},\"fill_color\":{\"field\":\"color\"},\"height\":{\"field\":\"height\",\"units\":\"data\"},\"line_color\":{\"field\":\"line_color\"},\"width\":{\"field\":\"width\",\"units\":\"data\"},\"x\":{\"field\":\"x\"},\"y\":{\"field\":\"y\"}},\"id\":\"188c1415-3972-47f2-8110-5c6e948cc9c5\",\"type\":\"Rect\"},{\"attributes\":{\"plot\":{\"id\":\"812e3109-f8dd-4cc1-bbc7-1cccabbe61e2\",\"subtype\":\"Chart\",\"type\":\"Plot\"}},\"id\":\"04af81f3-3b07-46b0-b9b1-eb987f24cb30\",\"type\":\"PanTool\"},{\"attributes\":{\"plot\":{\"id\":\"812e3109-f8dd-4cc1-bbc7-1cccabbe61e2\",\"subtype\":\"Chart\",\"type\":\"Plot\"}},\"id\":\"4ef80fac-9536-4334-bcac-beb7e0ec6cd8\",\"type\":\"HelpTool\"},{\"attributes\":{\"data_source\":{\"id\":\"54dbd2b7-155d-4a59-a2a0-6cdf594a9b3d\",\"type\":\"ColumnDataSource\"},\"glyph\":{\"id\":\"371f3a6b-a025-4b9e-93ea-bd8a1ea94b99\",\"type\":\"Rect\"},\"hover_glyph\":null,\"muted_glyph\":null},\"id\":\"afed9992-a33b-4a41-bcd0-67e1a0a18230\",\"type\":\"GlyphRenderer\"},{\"attributes\":{\"plot\":{\"id\":\"812e3109-f8dd-4cc1-bbc7-1cccabbe61e2\",\"subtype\":\"Chart\",\"type\":\"Plot\"}},\"id\":\"b0846f17-e923-48f1-af8e-70bdd31a4a7a\",\"type\":\"ResetTool\"},{\"attributes\":{\"plot\":{\"id\":\"812e3109-f8dd-4cc1-bbc7-1cccabbe61e2\",\"subtype\":\"Chart\",\"type\":\"Plot\"}},\"id\":\"be14b079-a162-4608-9f61-cedd863f5404\",\"type\":\"SaveTool\"},{\"attributes\":{\"plot\":null,\"text\":null},\"id\":\"ab16e1b7-2b65-45af-a61d-f661c93e2b17\",\"type\":\"Title\"},{\"attributes\":{\"data_source\":{\"id\":\"dc8ea1cb-f046-4d8a-991a-1877e915e64d\",\"type\":\"ColumnDataSource\"},\"glyph\":{\"id\":\"467c38a5-1c04-4bb7-a463-dca64fb52266\",\"type\":\"Rect\"},\"hover_glyph\":null,\"muted_glyph\":null},\"id\":\"8f051f83-6259-433d-b80f-5e75c1f4e324\",\"type\":\"GlyphRenderer\"},{\"attributes\":{\"data_source\":{\"id\":\"80aff140-5db5-47d8-b03c-c4f4b9129a4d\",\"type\":\"ColumnDataSource\"},\"glyph\":{\"id\":\"188c1415-3972-47f2-8110-5c6e948cc9c5\",\"type\":\"Rect\"},\"hover_glyph\":null,\"muted_glyph\":null},\"id\":\"a3093512-f882-4156-b14d-6c643e6e87a4\",\"type\":\"GlyphRenderer\"},{\"attributes\":{\"dimension\":1,\"plot\":{\"id\":\"812e3109-f8dd-4cc1-bbc7-1cccabbe61e2\",\"subtype\":\"Chart\",\"type\":\"Plot\"},\"ticker\":{\"id\":\"d0205f08-e351-466d-b361-ce55a112e096\",\"type\":\"BasicTicker\"}},\"id\":\"1560e19d-cc94-44a8-8b57-a10e3632b1ac\",\"type\":\"Grid\"},{\"attributes\":{\"items\":[{\"id\":\"5dac80a3-a81a-4f38-ab6f-f12cd08142de\",\"type\":\"LegendItem\"},{\"id\":\"cc291050-84be-427f-88ad-fde1689c9008\",\"type\":\"LegendItem\"},{\"id\":\"89874d9d-2590-4e7c-9f85-50c33e29803a\",\"type\":\"LegendItem\"},{\"id\":\"982e1d0a-ed59-499c-9fe9-5ef134b5a1de\",\"type\":\"LegendItem\"},{\"id\":\"3e246aba-4d9d-47a5-89c0-e21392e3b59d\",\"type\":\"LegendItem\"}],\"location\":\"top_left\",\"plot\":{\"id\":\"812e3109-f8dd-4cc1-bbc7-1cccabbe61e2\",\"subtype\":\"Chart\",\"type\":\"Plot\"},\"visible\":false},\"id\":\"c851121f-1fce-462b-9316-5130cfe0dc88\",\"type\":\"Legend\"},{\"attributes\":{\"fill_alpha\":{\"field\":\"fill_alpha\"},\"fill_color\":{\"field\":\"color\"},\"height\":{\"field\":\"height\",\"units\":\"data\"},\"line_color\":{\"field\":\"line_color\"},\"width\":{\"field\":\"width\",\"units\":\"data\"},\"x\":{\"field\":\"x\"},\"y\":{\"field\":\"y\"}},\"id\":\"3a93fce1-c2a2-4ca1-9f94-7207877efbfc\",\"type\":\"Rect\"},{\"attributes\":{\"callback\":null,\"column_names\":[\"x\",\"y\",\"width\",\"height\",\"color\",\"fill_alpha\",\"line_color\",\"line_alpha\",\"label\"],\"data\":{\"chart_index\":[{\"label\":\"BCI\"}],\"color\":[\"#5975a4\"],\"fill_alpha\":[0.8],\"height\":[6.250870779377596],\"label\":[\"BCI\"],\"line_alpha\":[1.0],\"line_color\":[\"white\"],\"width\":[0.7],\"x\":[\"BCI\"],\"y\":[3.125435389688798]}},\"id\":\"54dbd2b7-155d-4a59-a2a0-6cdf594a9b3d\",\"type\":\"ColumnDataSource\"},{\"attributes\":{\"fill_alpha\":{\"field\":\"fill_alpha\"},\"fill_color\":{\"field\":\"color\"},\"height\":{\"field\":\"height\",\"units\":\"data\"},\"line_color\":{\"field\":\"line_color\"},\"width\":{\"field\":\"width\",\"units\":\"data\"},\"x\":{\"field\":\"x\"},\"y\":{\"field\":\"y\"}},\"id\":\"371f3a6b-a025-4b9e-93ea-bd8a1ea94b99\",\"type\":\"Rect\"},{\"attributes\":{\"label\":{\"value\":\"BCI\"},\"renderers\":[{\"id\":\"afed9992-a33b-4a41-bcd0-67e1a0a18230\",\"type\":\"GlyphRenderer\"}]},\"id\":\"89874d9d-2590-4e7c-9f85-50c33e29803a\",\"type\":\"LegendItem\"},{\"attributes\":{\"active_drag\":\"auto\",\"active_inspect\":\"auto\",\"active_scroll\":\"auto\",\"active_tap\":\"auto\",\"tools\":[{\"id\":\"04af81f3-3b07-46b0-b9b1-eb987f24cb30\",\"type\":\"PanTool\"},{\"id\":\"b7043294-f39b-4822-afd1-629b5795db81\",\"type\":\"WheelZoomTool\"},{\"id\":\"143df653-f96a-498b-b206-8e9bfabd755e\",\"type\":\"BoxZoomTool\"},{\"id\":\"be14b079-a162-4608-9f61-cedd863f5404\",\"type\":\"SaveTool\"},{\"id\":\"b0846f17-e923-48f1-af8e-70bdd31a4a7a\",\"type\":\"ResetTool\"},{\"id\":\"4ef80fac-9536-4334-bcac-beb7e0ec6cd8\",\"type\":\"HelpTool\"}]},\"id\":\"9e411005-5ba8-40ab-b09c-33ab6966b868\",\"type\":\"Toolbar\"},{\"attributes\":{\"callback\":null,\"column_names\":[\"x\",\"y\",\"width\",\"height\",\"color\",\"fill_alpha\",\"line_color\",\"line_alpha\",\"label\"],\"data\":{\"chart_index\":[{\"label\":\"Football\"}],\"color\":[\"#5975a4\"],\"fill_alpha\":[0.8],\"height\":[-0.5899161830473475],\"label\":[\"Football\"],\"line_alpha\":[1.0],\"line_color\":[\"white\"],\"width\":[0.7],\"x\":[\"Football\"],\"y\":[-0.29495809152367375]}},\"id\":\"0c590352-94bb-446c-a564-3d0f5fa2a9b5\",\"type\":\"ColumnDataSource\"},{\"attributes\":{},\"id\":\"907687ae-d07c-41ae-8ee4-23ee8621272d\",\"type\":\"CategoricalScale\"},{\"attributes\":{\"data_source\":{\"id\":\"0c590352-94bb-446c-a564-3d0f5fa2a9b5\",\"type\":\"ColumnDataSource\"},\"glyph\":{\"id\":\"3a93fce1-c2a2-4ca1-9f94-7207877efbfc\",\"type\":\"Rect\"},\"hover_glyph\":null,\"muted_glyph\":null},\"id\":\"3cf62e03-cbaf-4868-b97d-c9b7603590f2\",\"type\":\"GlyphRenderer\"},{\"attributes\":{\"fill_alpha\":{\"field\":\"fill_alpha\"},\"fill_color\":{\"field\":\"color\"},\"height\":{\"field\":\"height\",\"units\":\"data\"},\"line_color\":{\"field\":\"line_color\"},\"width\":{\"field\":\"width\",\"units\":\"data\"},\"x\":{\"field\":\"x\"},\"y\":{\"field\":\"y\"}},\"id\":\"3ae61fa0-fd37-498d-a6eb-b60047e83a48\",\"type\":\"Rect\"},{\"attributes\":{},\"id\":\"d0205f08-e351-466d-b361-ce55a112e096\",\"type\":\"BasicTicker\"},{\"attributes\":{\"bottom_units\":\"screen\",\"fill_alpha\":{\"value\":0.5},\"fill_color\":{\"value\":\"lightgrey\"},\"left_units\":\"screen\",\"level\":\"overlay\",\"line_alpha\":{\"value\":1.0},\"line_color\":{\"value\":\"black\"},\"line_dash\":[4,4],\"line_width\":{\"value\":2},\"plot\":null,\"render_mode\":\"css\",\"right_units\":\"screen\",\"top_units\":\"screen\"},\"id\":\"3c737006-0ad4-4f16-821b-084d455490f5\",\"type\":\"BoxAnnotation\"},{\"attributes\":{\"axis_label\":\"Perf. Difference(%)\",\"formatter\":{\"id\":\"d8dcfb94-e206-4423-aba1-a557f15a0516\",\"type\":\"BasicTickFormatter\"},\"plot\":{\"id\":\"812e3109-f8dd-4cc1-bbc7-1cccabbe61e2\",\"subtype\":\"Chart\",\"type\":\"Plot\"},\"ticker\":{\"id\":\"d0205f08-e351-466d-b361-ce55a112e096\",\"type\":\"BasicTicker\"}},\"id\":\"686f3caf-8a39-4aaf-80a1-0eb34665b4b0\",\"type\":\"LinearAxis\"},{\"attributes\":{\"callback\":null,\"column_names\":[\"x\",\"y\",\"width\",\"height\",\"color\",\"fill_alpha\",\"line_color\",\"line_alpha\",\"label\"],\"data\":{\"chart_index\":[{\"label\":\"Fraud\"}],\"color\":[\"#5975a4\"],\"fill_alpha\":[0.8],\"height\":[-1.0766243286819193],\"label\":[\"Fraud\"],\"line_alpha\":[1.0],\"line_color\":[\"white\"],\"width\":[0.7],\"x\":[\"Fraud\"],\"y\":[-0.5383121643409596]}},\"id\":\"b9ac52f4-402b-45ec-a06c-9744e1f859d3\",\"type\":\"ColumnDataSource\"},{\"attributes\":{\"data_source\":{\"id\":\"b9ac52f4-402b-45ec-a06c-9744e1f859d3\",\"type\":\"ColumnDataSource\"},\"glyph\":{\"id\":\"3ae61fa0-fd37-498d-a6eb-b60047e83a48\",\"type\":\"Rect\"},\"hover_glyph\":null,\"muted_glyph\":null},\"id\":\"cc9e17c6-f4f9-48e9-9ce5-9fe673fbbcae\",\"type\":\"GlyphRenderer\"},{\"attributes\":{},\"id\":\"d8dcfb94-e206-4423-aba1-a557f15a0516\",\"type\":\"BasicTickFormatter\"},{\"attributes\":{},\"id\":\"0d8c9d89-8af0-48a8-b158-a5c0bff9884d\",\"type\":\"CategoricalTicker\"},{\"attributes\":{\"callback\":null,\"column_names\":[\"x\",\"y\",\"width\",\"height\",\"color\",\"fill_alpha\",\"line_color\",\"line_alpha\",\"label\"],\"data\":{\"chart_index\":[{\"label\":\"Airline\"}],\"color\":[\"#5975a4\"],\"fill_alpha\":[0.8],\"height\":[0.043737750072104786],\"label\":[\"Airline\"],\"line_alpha\":[1.0],\"line_color\":[\"white\"],\"width\":[0.7],\"x\":[\"Airline\"],\"y\":[0.021868875036052393]}},\"id\":\"80aff140-5db5-47d8-b03c-c4f4b9129a4d\",\"type\":\"ColumnDataSource\"},{\"attributes\":{},\"id\":\"09ffab1f-0fe3-4e24-a197-3ac9926293c9\",\"type\":\"ToolEvents\"},{\"attributes\":{\"fill_alpha\":{\"field\":\"fill_alpha\"},\"fill_color\":{\"field\":\"color\"},\"height\":{\"field\":\"height\",\"units\":\"data\"},\"line_color\":{\"field\":\"line_color\"},\"width\":{\"field\":\"width\",\"units\":\"data\"},\"x\":{\"field\":\"x\"},\"y\":{\"field\":\"y\"}},\"id\":\"467c38a5-1c04-4bb7-a463-dca64fb52266\",\"type\":\"Rect\"},{\"attributes\":{},\"id\":\"902065bc-f395-4327-afb7-a7297e04ccc5\",\"type\":\"CategoricalTickFormatter\"}],\"root_ids\":[\"812e3109-f8dd-4cc1-bbc7-1cccabbe61e2\"]},\"title\":\"Bokeh Application\",\"version\":\"0.12.6\"}};\n",
       "            var render_items = [{\"docid\":\"ff764964-8ef2-40db-b64d-25bff168a653\",\"elementid\":\"c5e38dbb-26cd-49fa-aca4-245bff3ecf23\",\"modelid\":\"812e3109-f8dd-4cc1-bbc7-1cccabbe61e2\"}];\n",
       "            \n",
       "            Bokeh.embed.embed_items(docs_json, render_items);\n",
       "          };\n",
       "          if (document.readyState != \"loading\") fn();\n",
       "          else document.addEventListener(\"DOMContentLoaded\", fn);\n",
       "        })();\n",
       "      },\n",
       "      function(Bokeh) {\n",
       "      }\n",
       "    ];\n",
       "  \n",
       "    function run_inline_js() {\n",
       "      \n",
       "      if ((window.Bokeh !== undefined) || (force === true)) {\n",
       "        for (var i = 0; i < inline_js.length; i++) {\n",
       "          inline_js[i](window.Bokeh);\n",
       "        }if (force === true) {\n",
       "          display_loaded();\n",
       "        }} else if (Date.now() < window._bokeh_timeout) {\n",
       "        setTimeout(run_inline_js, 100);\n",
       "      } else if (!window._bokeh_failed_load) {\n",
       "        console.log(\"Bokeh: BokehJS failed to load within specified timeout.\");\n",
       "        window._bokeh_failed_load = true;\n",
       "      } else if (force !== true) {\n",
       "        var cell = $(document.getElementById(\"c5e38dbb-26cd-49fa-aca4-245bff3ecf23\")).parents('.cell').data().cell;\n",
       "        cell.output_area.append_execute_result(NB_LOAD_WARNING)\n",
       "      }\n",
       "  \n",
       "    }\n",
       "  \n",
       "    if (window._bokeh_is_loading === 0) {\n",
       "      console.log(\"Bokeh: BokehJS loaded, going straight to plotting\");\n",
       "      run_inline_js();\n",
       "    } else {\n",
       "      load_libs(js_urls, function() {\n",
       "        console.log(\"Bokeh: BokehJS plotting callback run at\", now());\n",
       "        run_inline_js();\n",
       "      });\n",
       "    }\n",
       "  }(this));\n",
       "</script>"
      ]
     },
     "metadata": {},
     "output_type": "display_data"
    }
   ],
   "source": [
    "bar = Bar(data, values='Perf. Difference(%)', agg='mean', label=['label'], \n",
    "          plot_width=600, plot_height=400, bar_width=0.7, color='#5975a4')\n",
    "bar.axis[0].axis_label=''\n",
    "bar.axis[1].axis_label='Perf. Difference(%)'\n",
    "bar.toolbar_location='above'\n",
    "bar.legend[0].visible=False\n",
    "show(bar)"
   ]
  },
  {
   "cell_type": "code",
   "execution_count": 76,
   "metadata": {},
   "outputs": [
    {
     "name": "stderr",
     "output_type": "stream",
     "text": [
      "WARNING:bokeh.io:The webdriver raised a TimeoutException while waiting for                      a 'bokeh:idle' event to signify that the layout has rendered.                      Something may have gone wrong.\n"
     ]
    },
    {
     "data": {
      "image/svg+xml": [
       "<svg height=\"400\" style=\"width: 600px; height: 400px;\" version=\"1.1\" width=\"600\" xmlns=\"http://www.w3.org/2000/svg\" xmlns:xlink=\"http://www.w3.org/1999/xlink\"><defs/><g><g/><g transform=\"scale(1,1) translate(0.5,0.5)\"><rect fill=\"#FFFFFF\" height=\"400\" stroke=\"none\" width=\"600\" x=\"0\" y=\"0\"/><rect fill=\"#ffffff\" height=\"400\" stroke=\"none\" width=\"600\" x=\"0\" y=\"0\"/><rect fill=\"#FFFFFF\" height=\"322.9826322167867\" stroke=\"none\" width=\"552.6653125\" x=\"42.33468750000001\" y=\"29\"/><rect fill=\"#ffffff\" height=\"322.9826322167867\" stroke=\"none\" width=\"552.6653125\" x=\"42.33468750000001\" y=\"29\"/><g><rect fill=\"none\" height=\"322.9826322167867\" stroke=\"#e5e5e5\" stroke-miterlimit=\"10\" width=\"552.6653125\" x=\"42.33468750000001\" y=\"29\"/></g><g><g><path d=\" M 42 338 L 595 338\" fill=\"none\" paint-order=\"fill stroke markers\" stroke=\"#e5e5e5\" stroke-miterlimit=\"10\"/><path d=\" M 42 297 L 595 297\" fill=\"none\" paint-order=\"fill stroke markers\" stroke=\"#e5e5e5\" stroke-miterlimit=\"10\"/><path d=\" M 42 256 L 595 256\" fill=\"none\" paint-order=\"fill stroke markers\" stroke=\"#e5e5e5\" stroke-miterlimit=\"10\"/><path d=\" M 42 215 L 595 215\" fill=\"none\" paint-order=\"fill stroke markers\" stroke=\"#e5e5e5\" stroke-miterlimit=\"10\"/><path d=\" M 42 173 L 595 173\" fill=\"none\" paint-order=\"fill stroke markers\" stroke=\"#e5e5e5\" stroke-miterlimit=\"10\"/><path d=\" M 42 132 L 595 132\" fill=\"none\" paint-order=\"fill stroke markers\" stroke=\"#e5e5e5\" stroke-miterlimit=\"10\"/><path d=\" M 42 91 L 595 91\" fill=\"none\" paint-order=\"fill stroke markers\" stroke=\"#e5e5e5\" stroke-miterlimit=\"10\"/><path d=\" M 42 50 L 595 50\" fill=\"none\" paint-order=\"fill stroke markers\" stroke=\"#e5e5e5\" stroke-miterlimit=\"10\"/></g><g><path fill=\"none\" stroke=\"none\"/><rect fill=\"#5975a4\" fill-opacity=\"0.8\" height=\"1.800723791966604\" stroke=\"none\" width=\"77.37314374999733\" x=\"58.91464687500001\" y=\"295.2048582984001\"/><path d=\" M 58.91464687500001 295.2048582984001 L 136.28779062499734 295.2048582984001 L 136.28779062499734 297.0055820903667 L 58.91464687500001 297.0055820903667 L 58.91464687500001 295.2048582984001 Z\" fill=\"none\" paint-order=\"fill stroke markers\" stroke=\"white\" stroke-miterlimit=\"10\"/><path d=\"\" fill=\"none\" paint-order=\"fill stroke markers\" stroke=\"white\" stroke-miterlimit=\"10\"/></g><g><path fill=\"none\" stroke=\"none\"/><rect fill=\"#5975a4\" fill-opacity=\"0.8\" height=\"8.576426767757738\" stroke=\"none\" width=\"77.37314374999914\" x=\"169.44770937500002\" y=\"288.42915532260895\"/><path d=\" M 169.44770937500002 288.42915532260895 L 246.82085312499916 288.42915532260895 L 246.82085312499916 297.0055820903667 L 169.44770937500002 297.0055820903667 L 169.44770937500002 288.42915532260895 Z\" fill=\"none\" paint-order=\"fill stroke markers\" stroke=\"white\" stroke-miterlimit=\"10\"/><path d=\"\" fill=\"none\" paint-order=\"fill stroke markers\" stroke=\"white\" stroke-miterlimit=\"10\"/></g><g><path fill=\"none\" stroke=\"none\"/><rect fill=\"#5975a4\" fill-opacity=\"0.8\" height=\"257.35415549216935\" stroke=\"none\" width=\"77.37314375000278\" x=\"279.980771875\" y=\"39.65142659819736\"/><path d=\" M 279.980771875 39.65142659819736 L 357.3539156250028 39.65142659819736 L 357.3539156250028 297.0055820903667 L 279.980771875 297.0055820903667 L 279.980771875 39.65142659819736 Z\" fill=\"none\" paint-order=\"fill stroke markers\" stroke=\"white\" stroke-miterlimit=\"10\"/><path d=\"\" fill=\"none\" paint-order=\"fill stroke markers\" stroke=\"white\" stroke-miterlimit=\"10\"/></g><g><path fill=\"none\" stroke=\"none\"/><rect fill=\"#5975a4\" fill-opacity=\"0.8\" height=\"24.287397141559637\" stroke=\"none\" width=\"77.37314375000278\" x=\"390.513834375\" y=\"297.0055820903667\"/><path d=\" M 390.513834375 297.0055820903667 L 467.88697812500277 297.0055820903667 L 467.88697812500277 321.2929792319263 L 390.513834375 321.2929792319263 L 390.513834375 297.0055820903667 Z\" fill=\"none\" paint-order=\"fill stroke markers\" stroke=\"white\" stroke-miterlimit=\"10\"/><path d=\"\" fill=\"none\" paint-order=\"fill stroke markers\" stroke=\"white\" stroke-miterlimit=\"10\"/></g><g><path fill=\"none\" stroke=\"none\"/><rect fill=\"#5975a4\" fill-opacity=\"0.8\" height=\"44.325623528222664\" stroke=\"none\" width=\"77.37314375001006\" x=\"501.046896875\" y=\"297.0055820903667\"/><path d=\" M 501.046896875 297.0055820903667 L 578.4200406250101 297.0055820903667 L 578.4200406250101 341.33120561858937 L 501.046896875 341.33120561858937 L 501.046896875 297.0055820903667 Z\" fill=\"none\" paint-order=\"fill stroke markers\" stroke=\"white\" stroke-miterlimit=\"10\"/><path d=\"\" fill=\"none\" paint-order=\"fill stroke markers\" stroke=\"white\" stroke-miterlimit=\"10\"/></g></g><g/><g><g fill=\"#444444\"><path d=\" M 42 352 L 595 352\" fill=\"none\" paint-order=\"fill stroke markers\" stroke=\"black\" stroke-miterlimit=\"10\"/><path d=\" M 98 358 L 98 350\" fill=\"none\" paint-order=\"fill stroke markers\" stroke=\"black\" stroke-miterlimit=\"10\"/><path d=\" M 208 358 L 208 350\" fill=\"none\" paint-order=\"fill stroke markers\" stroke=\"black\" stroke-miterlimit=\"10\"/><path d=\" M 319 358 L 319 350\" fill=\"none\" paint-order=\"fill stroke markers\" stroke=\"black\" stroke-miterlimit=\"10\"/><path d=\" M 429 358 L 429 350\" fill=\"none\" paint-order=\"fill stroke markers\" stroke=\"black\" stroke-miterlimit=\"10\"/><path d=\" M 540 358 L 540 350\" fill=\"\" paint-order=\"fill stroke markers\" stroke=\"black\" stroke-miterlimit=\"10\"/><g transform=\"translate(97.60121875000002,362.9826322167867) rotate(-45,0,0)\"><text dominant-baseline=\"central\" fill=\"\" font-family=\"helvetica\" font-size=\"8pt\" font-style=\"normal\" font-weight=\"normal\" stroke=\"none\" text-anchor=\"end\" text-decoration=\"normal\" x=\"0\" y=\"0\">Airline</text><g transform=\"rotate(45,0,0) translate(-97.60121875000002,-362.9826322167867) translate(208.13428125000002,362.9826322167867) rotate(-45,0,0)\"><text dominant-baseline=\"central\" fill=\"\" font-family=\"helvetica\" font-size=\"8pt\" font-style=\"normal\" font-weight=\"normal\" stroke=\"none\" text-anchor=\"end\" text-decoration=\"normal\" x=\"0\" y=\"0\">Amazon</text><g transform=\"rotate(45,0,0) translate(-208.13428125000002,-362.9826322167867) translate(318.66734375,362.9826322167867) rotate(-45,0,0)\"><text dominant-baseline=\"central\" fill=\"\" font-family=\"helvetica\" font-size=\"8pt\" font-style=\"normal\" font-weight=\"normal\" stroke=\"none\" text-anchor=\"end\" text-decoration=\"normal\" x=\"0\" y=\"0\">BCI</text><g transform=\"rotate(45,0,0) translate(-318.66734375,-362.9826322167867) translate(429.20040625,362.9826322167867) rotate(-45,0,0)\"><text dominant-baseline=\"central\" fill=\"\" font-family=\"helvetica\" font-size=\"8pt\" font-style=\"normal\" font-weight=\"normal\" stroke=\"none\" text-anchor=\"end\" text-decoration=\"normal\" x=\"0\" y=\"0\">Football</text><g transform=\"rotate(45,0,0) translate(-429.20040625,-362.9826322167867) translate(539.73346875,362.9826322167867) rotate(-45,0,0)\"><text dominant-baseline=\"central\" fill=\"\" font-family=\"helvetica\" font-size=\"8pt\" font-style=\"normal\" font-weight=\"normal\" stroke=\"none\" text-anchor=\"end\" text-decoration=\"normal\" x=\"0\" y=\"0\">Fraud</text><g transform=\"rotate(45,0,0) translate(-539.73346875,-362.9826322167867)\"><text dominant-baseline=\"hanging\" fill=\"\" font-family=\"helvetica\" font-size=\"10pt\" font-style=\"italic\" font-weight=\"normal\" stroke=\"none\" text-anchor=\"middle\" text-decoration=\"normal\" x=\"318.66734375\" y=\"404\"/></g></g></g></g></g></g></g><g><path d=\" M 42 352 L 42 29\" fill=\"none\" paint-order=\"fill stroke markers\" stroke=\"black\" stroke-miterlimit=\"10\"/><path d=\" M 36 338 L 44 338\" fill=\"none\" paint-order=\"fill stroke markers\" stroke=\"black\" stroke-miterlimit=\"10\"/><path d=\" M 36 297 L 44 297\" fill=\"none\" paint-order=\"fill stroke markers\" stroke=\"black\" stroke-miterlimit=\"10\"/><path d=\" M 36 256 L 44 256\" fill=\"none\" paint-order=\"fill stroke markers\" stroke=\"black\" stroke-miterlimit=\"10\"/><path d=\" M 36 215 L 44 215\" fill=\"none\" paint-order=\"fill stroke markers\" stroke=\"black\" stroke-miterlimit=\"10\"/><path d=\" M 36 173 L 44 173\" fill=\"none\" paint-order=\"fill stroke markers\" stroke=\"black\" stroke-miterlimit=\"10\"/><path d=\" M 36 132 L 44 132\" fill=\"none\" paint-order=\"fill stroke markers\" stroke=\"black\" stroke-miterlimit=\"10\"/><path d=\" M 36 91 L 44 91\" fill=\"none\" paint-order=\"fill stroke markers\" stroke=\"black\" stroke-miterlimit=\"10\"/><path d=\" M 36 50 L 44 50\" fill=\"none\" paint-order=\"fill stroke markers\" stroke=\"black\" stroke-miterlimit=\"10\"/><path d=\" M 38 346 L 42 346\" fill=\"none\" paint-order=\"fill stroke markers\" stroke=\"black\" stroke-miterlimit=\"10\"/><path d=\" M 38 338 L 42 338\" fill=\"none\" paint-order=\"fill stroke markers\" stroke=\"black\" stroke-miterlimit=\"10\"/><path d=\" M 38 330 L 42 330\" fill=\"none\" paint-order=\"fill stroke markers\" stroke=\"black\" stroke-miterlimit=\"10\"/><path d=\" M 38 322 L 42 322\" fill=\"none\" paint-order=\"fill stroke markers\" stroke=\"black\" stroke-miterlimit=\"10\"/><path d=\" M 38 313 L 42 313\" fill=\"none\" paint-order=\"fill stroke markers\" stroke=\"black\" stroke-miterlimit=\"10\"/><path d=\" M 38 305 L 42 305\" fill=\"none\" paint-order=\"fill stroke markers\" stroke=\"black\" stroke-miterlimit=\"10\"/><path d=\" M 38 297 L 42 297\" fill=\"none\" paint-order=\"fill stroke markers\" stroke=\"black\" stroke-miterlimit=\"10\"/><path d=\" M 38 289 L 42 289\" fill=\"none\" paint-order=\"fill stroke markers\" stroke=\"black\" stroke-miterlimit=\"10\"/><path d=\" M 38 281 L 42 281\" fill=\"none\" paint-order=\"fill stroke markers\" stroke=\"black\" stroke-miterlimit=\"10\"/><path d=\" M 38 272 L 42 272\" fill=\"none\" paint-order=\"fill stroke markers\" stroke=\"black\" stroke-miterlimit=\"10\"/><path d=\" M 38 264 L 42 264\" fill=\"none\" paint-order=\"fill stroke markers\" stroke=\"black\" stroke-miterlimit=\"10\"/><path d=\" M 38 256 L 42 256\" fill=\"none\" paint-order=\"fill stroke markers\" stroke=\"black\" stroke-miterlimit=\"10\"/><path d=\" M 38 248 L 42 248\" fill=\"none\" paint-order=\"fill stroke markers\" stroke=\"black\" stroke-miterlimit=\"10\"/><path d=\" M 38 239 L 42 239\" fill=\"none\" paint-order=\"fill stroke markers\" stroke=\"black\" stroke-miterlimit=\"10\"/><path d=\" M 38 231 L 42 231\" fill=\"none\" paint-order=\"fill stroke markers\" stroke=\"black\" stroke-miterlimit=\"10\"/><path d=\" M 38 223 L 42 223\" fill=\"none\" paint-order=\"fill stroke markers\" stroke=\"black\" stroke-miterlimit=\"10\"/><path d=\" M 38 215 L 42 215\" fill=\"none\" paint-order=\"fill stroke markers\" stroke=\"black\" stroke-miterlimit=\"10\"/><path d=\" M 38 206 L 42 206\" fill=\"none\" paint-order=\"fill stroke markers\" stroke=\"black\" stroke-miterlimit=\"10\"/><path d=\" M 38 198 L 42 198\" fill=\"none\" paint-order=\"fill stroke markers\" stroke=\"black\" stroke-miterlimit=\"10\"/><path d=\" M 38 190 L 42 190\" fill=\"none\" paint-order=\"fill stroke markers\" stroke=\"black\" stroke-miterlimit=\"10\"/><path d=\" M 38 182 L 42 182\" fill=\"none\" paint-order=\"fill stroke markers\" stroke=\"black\" stroke-miterlimit=\"10\"/><path d=\" M 38 173 L 42 173\" fill=\"none\" paint-order=\"fill stroke markers\" stroke=\"black\" stroke-miterlimit=\"10\"/><path d=\" M 38 165 L 42 165\" fill=\"none\" paint-order=\"fill stroke markers\" stroke=\"black\" stroke-miterlimit=\"10\"/><path d=\" M 38 157 L 42 157\" fill=\"none\" paint-order=\"fill stroke markers\" stroke=\"black\" stroke-miterlimit=\"10\"/><path d=\" M 38 149 L 42 149\" fill=\"none\" paint-order=\"fill stroke markers\" stroke=\"black\" stroke-miterlimit=\"10\"/><path d=\" M 38 141 L 42 141\" fill=\"none\" paint-order=\"fill stroke markers\" stroke=\"black\" stroke-miterlimit=\"10\"/><path d=\" M 38 132 L 42 132\" fill=\"none\" paint-order=\"fill stroke markers\" stroke=\"black\" stroke-miterlimit=\"10\"/><path d=\" M 38 124 L 42 124\" fill=\"none\" paint-order=\"fill stroke markers\" stroke=\"black\" stroke-miterlimit=\"10\"/><path d=\" M 38 116 L 42 116\" fill=\"none\" paint-order=\"fill stroke markers\" stroke=\"black\" stroke-miterlimit=\"10\"/><path d=\" M 38 108 L 42 108\" fill=\"none\" paint-order=\"fill stroke markers\" stroke=\"black\" stroke-miterlimit=\"10\"/><path d=\" M 38 99 L 42 99\" fill=\"none\" paint-order=\"fill stroke markers\" stroke=\"black\" stroke-miterlimit=\"10\"/><path d=\" M 38 91 L 42 91\" fill=\"none\" paint-order=\"fill stroke markers\" stroke=\"black\" stroke-miterlimit=\"10\"/><path d=\" M 38 83 L 42 83\" fill=\"none\" paint-order=\"fill stroke markers\" stroke=\"black\" stroke-miterlimit=\"10\"/><path d=\" M 38 75 L 42 75\" fill=\"none\" paint-order=\"fill stroke markers\" stroke=\"black\" stroke-miterlimit=\"10\"/><path d=\" M 38 66 L 42 66\" fill=\"none\" paint-order=\"fill stroke markers\" stroke=\"black\" stroke-miterlimit=\"10\"/><path d=\" M 38 58 L 42 58\" fill=\"none\" paint-order=\"fill stroke markers\" stroke=\"black\" stroke-miterlimit=\"10\"/><path d=\" M 38 50 L 42 50\" fill=\"none\" paint-order=\"fill stroke markers\" stroke=\"black\" stroke-miterlimit=\"10\"/><path d=\" M 38 42 L 42 42\" fill=\"none\" paint-order=\"fill stroke markers\" stroke=\"black\" stroke-miterlimit=\"10\"/><path d=\" M 38 34 L 42 34\" fill=\"none\" paint-order=\"fill stroke markers\" stroke=\"black\" stroke-miterlimit=\"10\"/><text dominant-baseline=\"central\" fill=\"#444444\" font-family=\"helvetica\" font-size=\"8pt\" font-style=\"normal\" font-weight=\"normal\" stroke=\"none\" text-anchor=\"end\" text-decoration=\"normal\" x=\"31\" y=\"338\">-1</text><text dominant-baseline=\"central\" fill=\"#444444\" font-family=\"helvetica\" font-size=\"8pt\" font-style=\"normal\" font-weight=\"normal\" stroke=\"none\" text-anchor=\"end\" text-decoration=\"normal\" x=\"31\" y=\"297\">0</text><text dominant-baseline=\"central\" fill=\"#444444\" font-family=\"helvetica\" font-size=\"8pt\" font-style=\"normal\" font-weight=\"normal\" stroke=\"none\" text-anchor=\"end\" text-decoration=\"normal\" x=\"31\" y=\"256\">1</text><text dominant-baseline=\"central\" fill=\"#444444\" font-family=\"helvetica\" font-size=\"8pt\" font-style=\"normal\" font-weight=\"normal\" stroke=\"none\" text-anchor=\"end\" text-decoration=\"normal\" x=\"31\" y=\"215\">2</text><text dominant-baseline=\"central\" fill=\"#444444\" font-family=\"helvetica\" font-size=\"8pt\" font-style=\"normal\" font-weight=\"normal\" stroke=\"none\" text-anchor=\"end\" text-decoration=\"normal\" x=\"31\" y=\"173\">3</text><text dominant-baseline=\"central\" fill=\"#444444\" font-family=\"helvetica\" font-size=\"8pt\" font-style=\"normal\" font-weight=\"normal\" stroke=\"none\" text-anchor=\"end\" text-decoration=\"normal\" x=\"31\" y=\"132\">4</text><text dominant-baseline=\"central\" fill=\"#444444\" font-family=\"helvetica\" font-size=\"8pt\" font-style=\"normal\" font-weight=\"normal\" stroke=\"none\" text-anchor=\"end\" text-decoration=\"normal\" x=\"31\" y=\"91\">5</text><text dominant-baseline=\"central\" fill=\"#444444\" font-family=\"helvetica\" font-size=\"8pt\" font-style=\"normal\" font-weight=\"normal\" stroke=\"none\" text-anchor=\"end\" text-decoration=\"normal\" x=\"31\" y=\"50\">6</text><g transform=\"translate(15.592500000000008,190.49131610839336) rotate(-90,0,0)\"><text dominant-baseline=\"alphabetic\" fill=\"#444444\" font-family=\"helvetica\" font-size=\"10pt\" font-style=\"italic\" font-weight=\"normal\" stroke=\"none\" text-anchor=\"middle\" text-decoration=\"normal\" x=\"0\" y=\"0\">Perf. Difference(%)</text><g transform=\"rotate(90,0,0) translate(-15.592500000000008,-190.49131610839336)\"/></g></g></g></g></g></svg>"
      ],
      "text/plain": [
       "<IPython.core.display.SVG object>"
      ]
     },
     "metadata": {},
     "output_type": "display_data"
    }
   ],
   "source": [
    "bar.output_backend = \"svg\"\n",
    "export_svgs(bar, filename=\"xgb_vs_lgbm_performance.svg\")\n",
    "display(SVG('xgb_vs_lgbm_performance.svg'))"
   ]
  },
  {
   "cell_type": "markdown",
   "metadata": {},
   "source": [
    "From the table as well as the plots below we can see that overall the difference in performance is quite small. LightGBM though is 2 to over 10 times quicker than XGBoost."
   ]
  }
 ],
 "metadata": {
  "kernelspec": {
   "display_name": "Python 3",
   "language": "python",
   "name": "python3"
  },
  "language_info": {
   "codemirror_mode": {
    "name": "ipython",
    "version": 3
   },
   "file_extension": ".py",
   "mimetype": "text/x-python",
   "name": "python",
   "nbconvert_exporter": "python",
   "pygments_lexer": "ipython3",
   "version": "3.6.1"
  }
 },
 "nbformat": 4,
 "nbformat_minor": 2
}
