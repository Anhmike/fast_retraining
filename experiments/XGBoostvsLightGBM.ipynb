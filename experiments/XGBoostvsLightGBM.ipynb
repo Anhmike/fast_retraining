{
 "cells": [
  {
   "cell_type": "markdown",
   "metadata": {
    "deletable": true,
    "editable": true
   },
   "source": [
    "# XGBoost vs LightGBM\n",
    "\n",
    "In this notebook we collect the results from all the experiments and reports the comparative difference between XGBoost and LightGBM"
   ]
  },
  {
   "cell_type": "code",
   "execution_count": 1,
   "metadata": {
    "collapsed": false,
    "deletable": true,
    "editable": true
   },
   "outputs": [
    {
     "name": "stderr",
     "output_type": "stream",
     "text": [
      "/home/hoaphumanoid/anaconda3/envs/strata/lib/python3.6/site-packages/bokeh/util/deprecation.py:34: BokehDeprecationWarning: \n",
      "The bokeh.charts API has moved to a separate 'bkcharts' package.\n",
      "\n",
      "This compatibility shim will remain until Bokeh 1.0 is released.\n",
      "After that, if you want to use this API you will have to install\n",
      "the bkcharts package explicitly.\n",
      "\n",
      "  warn(message)\n"
     ]
    }
   ],
   "source": [
    "import matplotlib.pyplot as plt\n",
    "import nbformat\n",
    "import json\n",
    "from toolz import pipe, juxt\n",
    "import pandas as pd\n",
    "import seaborn\n",
    "from toolz import curry\n",
    "\n",
    "from bokeh.io import show, output_notebook\n",
    "from bokeh.charts import Bar\n",
    "from bokeh.models.renderers import GlyphRenderer\n",
    "from bokeh.models.glyphs import Rect\n",
    "from bokeh.models import Range1d\n",
    "from toolz import curry\n",
    "from bokeh.io import export_svgs\n",
    "from IPython.display import SVG, display\n",
    "\n",
    "%matplotlib inline "
   ]
  },
  {
   "cell_type": "code",
   "execution_count": 2,
   "metadata": {
    "collapsed": false,
    "deletable": true,
    "editable": true
   },
   "outputs": [
    {
     "data": {
      "text/html": [
       "\n",
       "    <div class=\"bk-root\">\n",
       "        <a href=\"http://bokeh.pydata.org\" target=\"_blank\" class=\"bk-logo bk-logo-small bk-logo-notebook\"></a>\n",
       "        <span id=\"35f0fb24-bb7b-4d61-81b5-41a440967b66\">Loading BokehJS ...</span>\n",
       "    </div>"
      ]
     },
     "metadata": {},
     "output_type": "display_data"
    },
    {
     "data": {
      "application/javascript": [
       "\n",
       "(function(global) {\n",
       "  function now() {\n",
       "    return new Date();\n",
       "  }\n",
       "\n",
       "  var force = true;\n",
       "\n",
       "  if (typeof (window._bokeh_onload_callbacks) === \"undefined\" || force === true) {\n",
       "    window._bokeh_onload_callbacks = [];\n",
       "    window._bokeh_is_loading = undefined;\n",
       "  }\n",
       "\n",
       "\n",
       "  \n",
       "  if (typeof (window._bokeh_timeout) === \"undefined\" || force === true) {\n",
       "    window._bokeh_timeout = Date.now() + 5000;\n",
       "    window._bokeh_failed_load = false;\n",
       "  }\n",
       "\n",
       "  var NB_LOAD_WARNING = {'data': {'text/html':\n",
       "     \"<div style='background-color: #fdd'>\\n\"+\n",
       "     \"<p>\\n\"+\n",
       "     \"BokehJS does not appear to have successfully loaded. If loading BokehJS from CDN, this \\n\"+\n",
       "     \"may be due to a slow or bad network connection. Possible fixes:\\n\"+\n",
       "     \"</p>\\n\"+\n",
       "     \"<ul>\\n\"+\n",
       "     \"<li>re-rerun `output_notebook()` to attempt to load from CDN again, or</li>\\n\"+\n",
       "     \"<li>use INLINE resources instead, as so:</li>\\n\"+\n",
       "     \"</ul>\\n\"+\n",
       "     \"<code>\\n\"+\n",
       "     \"from bokeh.resources import INLINE\\n\"+\n",
       "     \"output_notebook(resources=INLINE)\\n\"+\n",
       "     \"</code>\\n\"+\n",
       "     \"</div>\"}};\n",
       "\n",
       "  function display_loaded() {\n",
       "    if (window.Bokeh !== undefined) {\n",
       "      var el = document.getElementById(\"35f0fb24-bb7b-4d61-81b5-41a440967b66\");\n",
       "      el.textContent = \"BokehJS \" + Bokeh.version + \" successfully loaded.\";\n",
       "    } else if (Date.now() < window._bokeh_timeout) {\n",
       "      setTimeout(display_loaded, 100)\n",
       "    }\n",
       "  }\n",
       "\n",
       "  function run_callbacks() {\n",
       "    try {\n",
       "      window._bokeh_onload_callbacks.forEach(function(callback) { callback() });\n",
       "    }\n",
       "    finally {\n",
       "      delete window._bokeh_onload_callbacks\n",
       "    }\n",
       "    console.info(\"Bokeh: all callbacks have finished\");\n",
       "  }\n",
       "\n",
       "  function load_libs(js_urls, callback) {\n",
       "    window._bokeh_onload_callbacks.push(callback);\n",
       "    if (window._bokeh_is_loading > 0) {\n",
       "      console.log(\"Bokeh: BokehJS is being loaded, scheduling callback at\", now());\n",
       "      return null;\n",
       "    }\n",
       "    if (js_urls == null || js_urls.length === 0) {\n",
       "      run_callbacks();\n",
       "      return null;\n",
       "    }\n",
       "    console.log(\"Bokeh: BokehJS not loaded, scheduling load and callback at\", now());\n",
       "    window._bokeh_is_loading = js_urls.length;\n",
       "    for (var i = 0; i < js_urls.length; i++) {\n",
       "      var url = js_urls[i];\n",
       "      var s = document.createElement('script');\n",
       "      s.src = url;\n",
       "      s.async = false;\n",
       "      s.onreadystatechange = s.onload = function() {\n",
       "        window._bokeh_is_loading--;\n",
       "        if (window._bokeh_is_loading === 0) {\n",
       "          console.log(\"Bokeh: all BokehJS libraries loaded\");\n",
       "          run_callbacks()\n",
       "        }\n",
       "      };\n",
       "      s.onerror = function() {\n",
       "        console.warn(\"failed to load library \" + url);\n",
       "      };\n",
       "      console.log(\"Bokeh: injecting script tag for BokehJS library: \", url);\n",
       "      document.getElementsByTagName(\"head\")[0].appendChild(s);\n",
       "    }\n",
       "  };var element = document.getElementById(\"35f0fb24-bb7b-4d61-81b5-41a440967b66\");\n",
       "  if (element == null) {\n",
       "    console.log(\"Bokeh: ERROR: autoload.js configured with elementid '35f0fb24-bb7b-4d61-81b5-41a440967b66' but no matching script tag was found. \")\n",
       "    return false;\n",
       "  }\n",
       "\n",
       "  var js_urls = [\"https://cdn.pydata.org/bokeh/release/bokeh-0.12.6.min.js\", \"https://cdn.pydata.org/bokeh/release/bokeh-widgets-0.12.6.min.js\"];\n",
       "\n",
       "  var inline_js = [\n",
       "    function(Bokeh) {\n",
       "      Bokeh.set_log_level(\"info\");\n",
       "    },\n",
       "    \n",
       "    function(Bokeh) {\n",
       "      \n",
       "    },\n",
       "    \n",
       "    function(Bokeh) {\n",
       "      \n",
       "      document.getElementById(\"35f0fb24-bb7b-4d61-81b5-41a440967b66\").textContent = \"BokehJS is loading...\";\n",
       "    },\n",
       "    function(Bokeh) {\n",
       "      console.log(\"Bokeh: injecting CSS: https://cdn.pydata.org/bokeh/release/bokeh-0.12.6.min.css\");\n",
       "      Bokeh.embed.inject_css(\"https://cdn.pydata.org/bokeh/release/bokeh-0.12.6.min.css\");\n",
       "      console.log(\"Bokeh: injecting CSS: https://cdn.pydata.org/bokeh/release/bokeh-widgets-0.12.6.min.css\");\n",
       "      Bokeh.embed.inject_css(\"https://cdn.pydata.org/bokeh/release/bokeh-widgets-0.12.6.min.css\");\n",
       "    }\n",
       "  ];\n",
       "\n",
       "  function run_inline_js() {\n",
       "    \n",
       "    if ((window.Bokeh !== undefined) || (force === true)) {\n",
       "      for (var i = 0; i < inline_js.length; i++) {\n",
       "        inline_js[i](window.Bokeh);\n",
       "      }if (force === true) {\n",
       "        display_loaded();\n",
       "      }} else if (Date.now() < window._bokeh_timeout) {\n",
       "      setTimeout(run_inline_js, 100);\n",
       "    } else if (!window._bokeh_failed_load) {\n",
       "      console.log(\"Bokeh: BokehJS failed to load within specified timeout.\");\n",
       "      window._bokeh_failed_load = true;\n",
       "    } else if (force !== true) {\n",
       "      var cell = $(document.getElementById(\"35f0fb24-bb7b-4d61-81b5-41a440967b66\")).parents('.cell').data().cell;\n",
       "      cell.output_area.append_execute_result(NB_LOAD_WARNING)\n",
       "    }\n",
       "\n",
       "  }\n",
       "\n",
       "  if (window._bokeh_is_loading === 0) {\n",
       "    console.log(\"Bokeh: BokehJS loaded, going straight to plotting\");\n",
       "    run_inline_js();\n",
       "  } else {\n",
       "    load_libs(js_urls, function() {\n",
       "      console.log(\"Bokeh: BokehJS plotting callback run at\", now());\n",
       "      run_inline_js();\n",
       "    });\n",
       "  }\n",
       "}(this));"
      ]
     },
     "metadata": {},
     "output_type": "display_data"
    }
   ],
   "source": [
    "output_notebook()"
   ]
  },
  {
   "cell_type": "markdown",
   "metadata": {
    "deletable": true,
    "editable": true
   },
   "source": [
    "We are going to read the results from the following notebooks"
   ]
  },
  {
   "cell_type": "code",
   "execution_count": 3,
   "metadata": {
    "collapsed": true,
    "deletable": true,
    "editable": true
   },
   "outputs": [],
   "source": [
    "notebooks = {\n",
    "    'Airline':'01_airline.ipynb',\n",
    "    'BCI': '02_BCI.ipynb',\n",
    "    'Football': '03_football.ipynb',\n",
    "    'Amazon': '04_PlanetKaggle.ipynb',\n",
    "    'Fraud': '05_FraudDetection.ipynb',\n",
    "    'Airline_GPU': '06_airline_GPU.ipynb',\n",
    "    'HIGGS_GPU': '07_HIGGS_GPU.ipynb'\n",
    "}"
   ]
  },
  {
   "cell_type": "code",
   "execution_count": 4,
   "metadata": {
    "collapsed": true,
    "deletable": true,
    "editable": true
   },
   "outputs": [],
   "source": [
    "def read_notebook(notebook_name):\n",
    "    with open(notebook_name) as f:\n",
    "        return nbformat.read(f, as_version=4)"
   ]
  },
  {
   "cell_type": "code",
   "execution_count": 5,
   "metadata": {
    "collapsed": true,
    "deletable": true,
    "editable": true
   },
   "outputs": [],
   "source": [
    "def results_cell_from(nb):\n",
    "    for cell in nb.cells:\n",
    "        if cell['cell_type']=='code' and cell['source'].startswith('# Results'):\n",
    "            return cell"
   ]
  },
  {
   "cell_type": "code",
   "execution_count": 6,
   "metadata": {
    "collapsed": true,
    "deletable": true,
    "editable": true
   },
   "outputs": [],
   "source": [
    "def extract_text(cell):\n",
    "    return cell['outputs'][0]['text']"
   ]
  },
  {
   "cell_type": "code",
   "execution_count": 7,
   "metadata": {
    "collapsed": true,
    "deletable": true,
    "editable": true
   },
   "outputs": [],
   "source": [
    "@curry\n",
    "def remove_line_with(match_str, json_string):\n",
    "    return '\\n'.join(filter(lambda x: match_str not in x, json_string.split('\\n')))"
   ]
  },
  {
   "cell_type": "code",
   "execution_count": 8,
   "metadata": {
    "collapsed": true,
    "deletable": true,
    "editable": true
   },
   "outputs": [],
   "source": [
    "def process_nb(notebook_name):\n",
    "    return pipe(notebook_name,\n",
    "                read_notebook,\n",
    "                results_cell_from,\n",
    "                extract_text,\n",
    "                remove_line_with('total RAM usage'),\n",
    "                json.loads)"
   ]
  },
  {
   "cell_type": "markdown",
   "metadata": {
    "deletable": true,
    "editable": true
   },
   "source": [
    "Here we collect the results from all the exeperiment notebooks. The method simply searches the notebooks for a cell that starts with # Results. It then reads that cells output in as JSON."
   ]
  },
  {
   "cell_type": "code",
   "execution_count": 9,
   "metadata": {
    "collapsed": true,
    "deletable": true,
    "editable": true
   },
   "outputs": [],
   "source": [
    "results = {nb_key:process_nb(nb_name) for nb_key, nb_name in notebooks.items()}"
   ]
  },
  {
   "cell_type": "code",
   "execution_count": 10,
   "metadata": {
    "collapsed": false,
    "deletable": true,
    "editable": true
   },
   "outputs": [
    {
     "data": {
      "text/plain": [
       "{'Airline': {'lgbm': {'performance': {'AUC': 0.8085689434502803,\n",
       "    'Accuracy': 0.7353896817753379,\n",
       "    'F1': 0.6940196231335755,\n",
       "    'Precision': 0.7695546060118544,\n",
       "    'Recall': 0.6319874302870966},\n",
       "   'test_time': 14.591926063993014,\n",
       "   'train_time': 366.37647559295874},\n",
       "  'xgb': {'performance': {'AUC': 0.7864092771976574,\n",
       "    'Accuracy': 0.630096137083639,\n",
       "    'F1': 0.6981365687005567,\n",
       "    'Precision': 0.5699044513344648,\n",
       "    'Recall': 0.9008287536758128},\n",
       "   'test_time': 12.680251265061088,\n",
       "   'train_time': 2180.798558813054},\n",
       "  'xgb_hist': {'performance': {'AUC': 0.8076206419213058,\n",
       "    'Accuracy': 0.6736735917278169,\n",
       "    'F1': 0.7170332167054881,\n",
       "    'Precision': 0.6094592088790932,\n",
       "    'Recall': 0.8707220218423469},\n",
       "   'test_time': 14.63406790792942,\n",
       "   'train_time': 578.727180639049}},\n",
       " 'Airline_GPU': {'lgbm': {'performance': {'AUC': 0.8337768089671014,\n",
       "    'Accuracy': 0.759485,\n",
       "    'F1': 0.7287511489294516,\n",
       "    'Precision': 0.7825276109281147,\n",
       "    'Recall': 0.6818906113145426},\n",
       "   'test_time': 0.4406728470348753,\n",
       "   'train_time': 21.35982791200513},\n",
       "  'xgb': {'performance': {'AUC': 0.8192046845123026,\n",
       "    'Accuracy': 0.69482,\n",
       "    'F1': 0.7261780856332771,\n",
       "    'Precision': 0.6316011268836672,\n",
       "    'Recall': 0.8540675158025812},\n",
       "   'test_time': 0.17746437300229445,\n",
       "   'train_time': 65.04751256300369},\n",
       "  'xgb_hist': {'performance': {'AUC': 0.8320738548162672,\n",
       "    'Accuracy': 0.716655,\n",
       "    'F1': 0.7380473621685087,\n",
       "    'Precision': 0.6566751665707,\n",
       "    'Recall': 0.8424385044795965},\n",
       "   'test_time': 0.23500945995328948,\n",
       "   'train_time': 27.15939338703174}},\n",
       " 'Amazon': {'lgbm': {'performance': {'Accuracy': 0.5831356086877167,\n",
       "    'F1': 0.8916251743227468,\n",
       "    'Precision': 0.8966667101226329,\n",
       "    'Recall': 0.9062528789577522},\n",
       "   'test_time': 0.2287097891094163,\n",
       "   'train_time': 78.43849972297903},\n",
       "  'xgb': {'performance': {'Accuracy': 0.3423982478554481,\n",
       "    'F1': 0.8057198664184697,\n",
       "    'Precision': 0.7188249796481225,\n",
       "    'Recall': 0.9782772316811376},\n",
       "   'test_time': 0.17806852096691728,\n",
       "   'train_time': 291.9369727639714},\n",
       "  'xgb_hist': {'performance': {'Accuracy': 0.3694104763643001,\n",
       "    'F1': 0.8199552360766837,\n",
       "    'Precision': 0.7411964006871837,\n",
       "    'Recall': 0.9724867242023657},\n",
       "   'test_time': 0.16979735810309649,\n",
       "   'train_time': 2238.962064931169}},\n",
       " 'BCI': {'lgbm': {'performance': {'AUC': 0.5348626373626374,\n",
       "    'Accuracy': 0.8802275008364001,\n",
       "    'F1': 0.13734939759036147,\n",
       "    'Precision': 0.5588235294117647,\n",
       "    'Recall': 0.0782967032967033},\n",
       "   'test_time': 0.7029972260352224,\n",
       "   'train_time': 6.380580052034929},\n",
       "  'xgb': {'performance': {'AUC': 0.5277435897435897,\n",
       "    'Accuracy': 0.8812311809969889,\n",
       "    'F1': 0.11027568922305765,\n",
       "    'Precision': 0.6285714285714286,\n",
       "    'Recall': 0.06043956043956044},\n",
       "   'test_time': 0.5001096819760278,\n",
       "   'train_time': 15.975884190993384},\n",
       "  'xgb_hist': {'performance': {'AUC': 0.536521978021978,\n",
       "    'Accuracy': 0.8810639009702241,\n",
       "    'F1': 0.14234016887816647,\n",
       "    'Precision': 0.5841584158415841,\n",
       "    'Recall': 0.08104395604395605},\n",
       "   'test_time': 0.7757045479957014,\n",
       "   'train_time': 52.695884556975216}},\n",
       " 'Football': {'lgbm': {'performance': {'Accuracy': 0.5273189326556544,\n",
       "    'F1': 0.4594968503939465,\n",
       "    'Precision': 0.4627647374365573,\n",
       "    'Recall': 0.5273189326556544},\n",
       "   'test_time': 0.01769829506520182,\n",
       "   'train_time': 0.5824753509368747},\n",
       "  'xgb': {'performance': {'Accuracy': 0.5285895806861499,\n",
       "    'F1': 0.4581501758019101,\n",
       "    'Precision': 0.4728104942149788,\n",
       "    'Recall': 0.5285895806861499},\n",
       "   'test_time': 0.01739849301520735,\n",
       "   'train_time': 2.277035239036195},\n",
       "  'xgb_hist': {'performance': {'Accuracy': 0.5285895806861499,\n",
       "    'F1': 0.46087114582653593,\n",
       "    'Precision': 0.4747655220586142,\n",
       "    'Recall': 0.5285895806861499},\n",
       "   'test_time': 0.013859358034096658,\n",
       "   'train_time': 2.4757352949818596}},\n",
       " 'Fraud': {'lgbm': {'performance': {'AUC': 0.8749179318834633,\n",
       "    'Accuracy': 0.999403110845827,\n",
       "    'F1': 0.8131868131868133,\n",
       "    'Precision': 0.888,\n",
       "    'Recall': 0.75},\n",
       "   'test_time': 0.05627289199946972,\n",
       "   'train_time': 0.73749636499997},\n",
       "  'xgb': {'performance': {'AUC': 0.8884197213803287,\n",
       "    'Accuracy': 0.9994265182636377,\n",
       "    'F1': 0.8243727598566308,\n",
       "    'Precision': 0.8778625954198473,\n",
       "    'Recall': 0.777027027027027},\n",
       "   'test_time': 0.059653409000020474,\n",
       "   'train_time': 4.4588627679995625},\n",
       "  'xgb_hist': {'performance': {'AUC': 0.8715278294884368,\n",
       "    'Accuracy': 0.9993679997191109,\n",
       "    'F1': 0.8029197080291971,\n",
       "    'Precision': 0.873015873015873,\n",
       "    'Recall': 0.7432432432432432},\n",
       "   'test_time': 0.06544113900054072,\n",
       "   'train_time': 1.2063124559999778}},\n",
       " 'HIGGS_GPU': {'lgbm': {'performance': {'AUC': 0.8326263561366843,\n",
       "    'Accuracy': 0.75044,\n",
       "    'F1': 0.7662069999250544,\n",
       "    'Precision': 0.7593070538648644,\n",
       "    'Recall': 0.7732334978350067},\n",
       "   'test_time': 0.4326932080439292,\n",
       "   'train_time': 28.908459524973296},\n",
       "  'xgb': {'performance': {'AUC': 0.8260171705225356,\n",
       "    'Accuracy': 0.71481,\n",
       "    'F1': 0.7707604877539045,\n",
       "    'Precision': 0.6703579418344519,\n",
       "    'Recall': 0.9065365779870289},\n",
       "   'test_time': 0.09867698897141963,\n",
       "   'train_time': 107.631673366006},\n",
       "  'xgb_hist': {'performance': {'AUC': 0.8317293102686475,\n",
       "    'Accuracy': 0.7212,\n",
       "    'F1': 0.7742729451389339,\n",
       "    'Precision': 0.6770407079646018,\n",
       "    'Recall': 0.9041163234821412},\n",
       "   'test_time': 0.2139325650059618,\n",
       "   'train_time': 51.26895220199367}}}"
      ]
     },
     "execution_count": 10,
     "metadata": {},
     "output_type": "execute_result"
    }
   ],
   "source": [
    "results"
   ]
  },
  {
   "cell_type": "markdown",
   "metadata": {
    "deletable": true,
    "editable": true
   },
   "source": [
    "We wish to compare LightGBM and XGBoost both in terms of performance as well as how long they took to train."
   ]
  },
  {
   "cell_type": "code",
   "execution_count": 11,
   "metadata": {
    "collapsed": true,
    "deletable": true,
    "editable": true
   },
   "outputs": [],
   "source": [
    "def average_performance_diff(dataset):\n",
    "    lgbm_series = pd.Series(dataset['lgbm']['performance'])\n",
    "    return 100*((lgbm_series-pd.Series(dataset['xgb']['performance']))/lgbm_series).mean()"
   ]
  },
  {
   "cell_type": "code",
   "execution_count": 12,
   "metadata": {
    "collapsed": true,
    "deletable": true,
    "editable": true
   },
   "outputs": [],
   "source": [
    "def train_time_ratio(dataset):\n",
    "    return dataset['xgb']['train_time']/dataset['lgbm']['train_time']\n",
    "\n",
    "def test_time_ratio(dataset):\n",
    "    return dataset['xgb']['test_time']/dataset['lgbm']['test_time']"
   ]
  },
  {
   "cell_type": "code",
   "execution_count": 13,
   "metadata": {
    "collapsed": true,
    "deletable": true,
    "editable": true
   },
   "outputs": [],
   "source": [
    "metrics = juxt(average_performance_diff, train_time_ratio, test_time_ratio)\n",
    "res_per_dataset = {dataset_key:metrics(dataset) for dataset_key, dataset in results.items()}"
   ]
  },
  {
   "cell_type": "code",
   "execution_count": 14,
   "metadata": {
    "collapsed": true,
    "deletable": true,
    "editable": true
   },
   "outputs": [],
   "source": [
    "results_df = pd.DataFrame(res_per_dataset, index=['Perf. Difference(%)', \n",
    "                                                  'Train Time Ratio', \n",
    "                                                  'Test Time Ratio']).T"
   ]
  },
  {
   "cell_type": "code",
   "execution_count": 15,
   "metadata": {
    "collapsed": false,
    "deletable": true,
    "editable": true
   },
   "outputs": [
    {
     "data": {
      "text/html": [
       "<div>\n",
       "<table border=\"1\" class=\"dataframe\">\n",
       "  <thead>\n",
       "    <tr style=\"text-align: right;\">\n",
       "      <th></th>\n",
       "      <th>Perf. Difference(%)</th>\n",
       "      <th>Train Time Ratio</th>\n",
       "      <th>Test Time Ratio</th>\n",
       "    </tr>\n",
       "  </thead>\n",
       "  <tbody>\n",
       "    <tr>\n",
       "      <th>Airline</th>\n",
       "      <td>-0.025994</td>\n",
       "      <td>5.952343</td>\n",
       "      <td>0.868991</td>\n",
       "    </tr>\n",
       "    <tr>\n",
       "      <th>Airline_GPU</th>\n",
       "      <td>0.930449</td>\n",
       "      <td>3.045320</td>\n",
       "      <td>0.402712</td>\n",
       "    </tr>\n",
       "    <tr>\n",
       "      <th>Amazon</th>\n",
       "      <td>15.701026</td>\n",
       "      <td>3.721858</td>\n",
       "      <td>0.778578</td>\n",
       "    </tr>\n",
       "    <tr>\n",
       "      <th>BCI</th>\n",
       "      <td>6.250871</td>\n",
       "      <td>2.503829</td>\n",
       "      <td>0.711396</td>\n",
       "    </tr>\n",
       "    <tr>\n",
       "      <th>Football</th>\n",
       "      <td>-0.589916</td>\n",
       "      <td>3.909239</td>\n",
       "      <td>0.983060</td>\n",
       "    </tr>\n",
       "    <tr>\n",
       "      <th>Fraud</th>\n",
       "      <td>-1.076624</td>\n",
       "      <td>6.045945</td>\n",
       "      <td>1.060074</td>\n",
       "    </tr>\n",
       "    <tr>\n",
       "      <th>HIGGS_GPU</th>\n",
       "      <td>-0.115563</td>\n",
       "      <td>3.723190</td>\n",
       "      <td>0.228053</td>\n",
       "    </tr>\n",
       "  </tbody>\n",
       "</table>\n",
       "</div>"
      ],
      "text/plain": [
       "             Perf. Difference(%)  Train Time Ratio  Test Time Ratio\n",
       "Airline                -0.025994          5.952343         0.868991\n",
       "Airline_GPU             0.930449          3.045320         0.402712\n",
       "Amazon                 15.701026          3.721858         0.778578\n",
       "BCI                     6.250871          2.503829         0.711396\n",
       "Football               -0.589916          3.909239         0.983060\n",
       "Fraud                  -1.076624          6.045945         1.060074\n",
       "HIGGS_GPU              -0.115563          3.723190         0.228053"
      ]
     },
     "execution_count": 15,
     "metadata": {},
     "output_type": "execute_result"
    }
   ],
   "source": [
    "results_df"
   ]
  },
  {
   "cell_type": "code",
   "execution_count": 16,
   "metadata": {
    "collapsed": true
   },
   "outputs": [],
   "source": [
    "results_gpu = results_df.loc[['Airline_GPU','HIGGS_GPU']]\n",
    "results_cpu = results_df[~results_df.index.isin(['Airline_GPU','HIGGS_GPU'])]"
   ]
  },
  {
   "cell_type": "markdown",
   "metadata": {},
   "source": [
    "Plot of train time ratio for CPU experiments."
   ]
  },
  {
   "cell_type": "code",
   "execution_count": 17,
   "metadata": {
    "collapsed": true,
    "deletable": true,
    "editable": true
   },
   "outputs": [],
   "source": [
    "data = {\n",
    "    'Train Time Ratio': results_cpu['Train Time Ratio'].values,\n",
    "    'label': results_cpu.index.values\n",
    "}"
   ]
  },
  {
   "cell_type": "code",
   "execution_count": 18,
   "metadata": {
    "collapsed": false,
    "deletable": true,
    "editable": true
   },
   "outputs": [
    {
     "data": {
      "text/html": [
       "\n",
       "\n",
       "    <div class=\"bk-root\">\n",
       "        <div class=\"bk-plotdiv\" id=\"4bd5e9f0-c63d-412d-8221-56e04373f041\"></div>\n",
       "    </div>\n",
       "<script type=\"text/javascript\">\n",
       "  \n",
       "  (function(global) {\n",
       "    function now() {\n",
       "      return new Date();\n",
       "    }\n",
       "  \n",
       "    var force = false;\n",
       "  \n",
       "    if (typeof (window._bokeh_onload_callbacks) === \"undefined\" || force === true) {\n",
       "      window._bokeh_onload_callbacks = [];\n",
       "      window._bokeh_is_loading = undefined;\n",
       "    }\n",
       "  \n",
       "  \n",
       "    \n",
       "    if (typeof (window._bokeh_timeout) === \"undefined\" || force === true) {\n",
       "      window._bokeh_timeout = Date.now() + 0;\n",
       "      window._bokeh_failed_load = false;\n",
       "    }\n",
       "  \n",
       "    var NB_LOAD_WARNING = {'data': {'text/html':\n",
       "       \"<div style='background-color: #fdd'>\\n\"+\n",
       "       \"<p>\\n\"+\n",
       "       \"BokehJS does not appear to have successfully loaded. If loading BokehJS from CDN, this \\n\"+\n",
       "       \"may be due to a slow or bad network connection. Possible fixes:\\n\"+\n",
       "       \"</p>\\n\"+\n",
       "       \"<ul>\\n\"+\n",
       "       \"<li>re-rerun `output_notebook()` to attempt to load from CDN again, or</li>\\n\"+\n",
       "       \"<li>use INLINE resources instead, as so:</li>\\n\"+\n",
       "       \"</ul>\\n\"+\n",
       "       \"<code>\\n\"+\n",
       "       \"from bokeh.resources import INLINE\\n\"+\n",
       "       \"output_notebook(resources=INLINE)\\n\"+\n",
       "       \"</code>\\n\"+\n",
       "       \"</div>\"}};\n",
       "  \n",
       "    function display_loaded() {\n",
       "      if (window.Bokeh !== undefined) {\n",
       "        var el = document.getElementById(\"4bd5e9f0-c63d-412d-8221-56e04373f041\");\n",
       "        el.textContent = \"BokehJS \" + Bokeh.version + \" successfully loaded.\";\n",
       "      } else if (Date.now() < window._bokeh_timeout) {\n",
       "        setTimeout(display_loaded, 100)\n",
       "      }\n",
       "    }\n",
       "  \n",
       "    function run_callbacks() {\n",
       "      try {\n",
       "        window._bokeh_onload_callbacks.forEach(function(callback) { callback() });\n",
       "      }\n",
       "      finally {\n",
       "        delete window._bokeh_onload_callbacks\n",
       "      }\n",
       "      console.info(\"Bokeh: all callbacks have finished\");\n",
       "    }\n",
       "  \n",
       "    function load_libs(js_urls, callback) {\n",
       "      window._bokeh_onload_callbacks.push(callback);\n",
       "      if (window._bokeh_is_loading > 0) {\n",
       "        console.log(\"Bokeh: BokehJS is being loaded, scheduling callback at\", now());\n",
       "        return null;\n",
       "      }\n",
       "      if (js_urls == null || js_urls.length === 0) {\n",
       "        run_callbacks();\n",
       "        return null;\n",
       "      }\n",
       "      console.log(\"Bokeh: BokehJS not loaded, scheduling load and callback at\", now());\n",
       "      window._bokeh_is_loading = js_urls.length;\n",
       "      for (var i = 0; i < js_urls.length; i++) {\n",
       "        var url = js_urls[i];\n",
       "        var s = document.createElement('script');\n",
       "        s.src = url;\n",
       "        s.async = false;\n",
       "        s.onreadystatechange = s.onload = function() {\n",
       "          window._bokeh_is_loading--;\n",
       "          if (window._bokeh_is_loading === 0) {\n",
       "            console.log(\"Bokeh: all BokehJS libraries loaded\");\n",
       "            run_callbacks()\n",
       "          }\n",
       "        };\n",
       "        s.onerror = function() {\n",
       "          console.warn(\"failed to load library \" + url);\n",
       "        };\n",
       "        console.log(\"Bokeh: injecting script tag for BokehJS library: \", url);\n",
       "        document.getElementsByTagName(\"head\")[0].appendChild(s);\n",
       "      }\n",
       "    };var element = document.getElementById(\"4bd5e9f0-c63d-412d-8221-56e04373f041\");\n",
       "    if (element == null) {\n",
       "      console.log(\"Bokeh: ERROR: autoload.js configured with elementid '4bd5e9f0-c63d-412d-8221-56e04373f041' but no matching script tag was found. \")\n",
       "      return false;\n",
       "    }\n",
       "  \n",
       "    var js_urls = [];\n",
       "  \n",
       "    var inline_js = [\n",
       "      function(Bokeh) {\n",
       "        (function() {\n",
       "          var fn = function() {\n",
       "            var docs_json = {\"237201c8-c745-4c81-a964-83e36819f23b\":{\"roots\":{\"references\":[{\"attributes\":{\"label\":{\"value\":\"Fraud\"},\"renderers\":[{\"id\":\"c15eec26-90f8-4373-a1de-201adef11c45\",\"type\":\"GlyphRenderer\"}]},\"id\":\"817b4d3e-9126-4d9c-a082-412212bad88b\",\"type\":\"LegendItem\"},{\"attributes\":{\"axis_label\":\"Train Time Ratio (XGBoost/LightGBM)\",\"axis_label_text_font_size\":{\"value\":\"12pt\"},\"formatter\":{\"id\":\"4ee7ea01-0fab-411b-bbac-8573186b3c82\",\"type\":\"BasicTickFormatter\"},\"plot\":{\"id\":\"01ecbb43-3b87-4053-82ca-51b58bd84cd0\",\"subtype\":\"Chart\",\"type\":\"Plot\"},\"ticker\":{\"id\":\"4f903709-2330-43b1-ba1c-369549c316c6\",\"type\":\"BasicTicker\"}},\"id\":\"0f9bdb1b-b7b7-465d-8543-c8ba5c1418ad\",\"type\":\"LinearAxis\"},{\"attributes\":{\"fill_alpha\":{\"field\":\"fill_alpha\"},\"fill_color\":{\"field\":\"color\"},\"height\":{\"field\":\"height\",\"units\":\"data\"},\"line_color\":{\"field\":\"line_color\"},\"width\":{\"field\":\"width\",\"units\":\"data\"},\"x\":{\"field\":\"x\"},\"y\":{\"field\":\"y\"}},\"id\":\"04f24573-2ae2-428b-aeb6-a7c29b80f017\",\"type\":\"Rect\"},{\"attributes\":{\"dimension\":1,\"plot\":{\"id\":\"01ecbb43-3b87-4053-82ca-51b58bd84cd0\",\"subtype\":\"Chart\",\"type\":\"Plot\"},\"ticker\":{\"id\":\"4f903709-2330-43b1-ba1c-369549c316c6\",\"type\":\"BasicTicker\"}},\"id\":\"916b1110-e6c9-4a7d-bb63-dd9f97664470\",\"type\":\"Grid\"},{\"attributes\":{\"callback\":null,\"column_names\":[\"x\",\"y\",\"width\",\"height\",\"color\",\"fill_alpha\",\"line_color\",\"line_alpha\",\"label\"],\"data\":{\"chart_index\":[{\"label\":\"Amazon\"}],\"color\":[\"#5975a4\"],\"fill_alpha\":[0.8],\"height\":[3.7218581920231033],\"label\":[\"Amazon\"],\"line_alpha\":[1.0],\"line_color\":[\"white\"],\"width\":[0.7],\"x\":[\"Amazon\"],\"y\":[1.8609290960115517]}},\"id\":\"93d0125a-8e4c-474f-89cd-0b7878a0cdbf\",\"type\":\"ColumnDataSource\"},{\"attributes\":{\"data_source\":{\"id\":\"93d0125a-8e4c-474f-89cd-0b7878a0cdbf\",\"type\":\"ColumnDataSource\"},\"glyph\":{\"id\":\"04f24573-2ae2-428b-aeb6-a7c29b80f017\",\"type\":\"Rect\"},\"hover_glyph\":null,\"muted_glyph\":null},\"id\":\"9d71baa3-e01f-4ea0-9fe7-9d0736d22343\",\"type\":\"GlyphRenderer\"},{\"attributes\":{\"fill_alpha\":{\"field\":\"fill_alpha\"},\"fill_color\":{\"field\":\"color\"},\"height\":{\"field\":\"height\",\"units\":\"data\"},\"line_color\":{\"field\":\"line_color\"},\"width\":{\"field\":\"width\",\"units\":\"data\"},\"x\":{\"field\":\"x\"},\"y\":{\"field\":\"y\"}},\"id\":\"ee7e548f-515c-41bb-9a78-0e0baa4ba3c4\",\"type\":\"Rect\"},{\"attributes\":{\"data_source\":{\"id\":\"2a540e7d-8442-4a75-ac7a-cd18f5368d68\",\"type\":\"ColumnDataSource\"},\"glyph\":{\"id\":\"ecd5c9f1-eb47-4afc-b1c1-38f3755dba06\",\"type\":\"Rect\"},\"hover_glyph\":null,\"muted_glyph\":null},\"id\":\"7cfebbbc-6385-420f-ad40-5e05d16d66c8\",\"type\":\"GlyphRenderer\"},{\"attributes\":{\"callback\":null,\"column_names\":[\"x\",\"y\",\"width\",\"height\",\"color\",\"fill_alpha\",\"line_color\",\"line_alpha\",\"label\"],\"data\":{\"chart_index\":[{\"label\":\"BCI\"}],\"color\":[\"#5975a4\"],\"fill_alpha\":[0.8],\"height\":[2.5038294419483487],\"label\":[\"BCI\"],\"line_alpha\":[1.0],\"line_color\":[\"white\"],\"width\":[0.7],\"x\":[\"BCI\"],\"y\":[1.2519147209741743]}},\"id\":\"ab000918-e2ab-484f-a743-aa813e242651\",\"type\":\"ColumnDataSource\"},{\"attributes\":{\"data_source\":{\"id\":\"ab000918-e2ab-484f-a743-aa813e242651\",\"type\":\"ColumnDataSource\"},\"glyph\":{\"id\":\"ee7e548f-515c-41bb-9a78-0e0baa4ba3c4\",\"type\":\"Rect\"},\"hover_glyph\":null,\"muted_glyph\":null},\"id\":\"c7ed5d43-0911-48be-b693-f24cc5bb901f\",\"type\":\"GlyphRenderer\"},{\"attributes\":{\"fill_alpha\":{\"field\":\"fill_alpha\"},\"fill_color\":{\"field\":\"color\"},\"height\":{\"field\":\"height\",\"units\":\"data\"},\"line_color\":{\"field\":\"line_color\"},\"width\":{\"field\":\"width\",\"units\":\"data\"},\"x\":{\"field\":\"x\"},\"y\":{\"field\":\"y\"}},\"id\":\"fc7b0aed-26d3-495c-a4ae-d2b798cff545\",\"type\":\"Rect\"},{\"attributes\":{\"bottom_units\":\"screen\",\"fill_alpha\":{\"value\":0.5},\"fill_color\":{\"value\":\"lightgrey\"},\"left_units\":\"screen\",\"level\":\"overlay\",\"line_alpha\":{\"value\":1.0},\"line_color\":{\"value\":\"black\"},\"line_dash\":[4,4],\"line_width\":{\"value\":2},\"plot\":null,\"render_mode\":\"css\",\"right_units\":\"screen\",\"top_units\":\"screen\"},\"id\":\"ca8067cc-ed80-4cc0-b315-fe3bdf213cb1\",\"type\":\"BoxAnnotation\"},{\"attributes\":{\"axis_label\":\"\",\"formatter\":{\"id\":\"98d39595-c9a8-4ee5-ab6b-bb3fe827e179\",\"type\":\"CategoricalTickFormatter\"},\"major_label_orientation\":0.7853981633974483,\"plot\":{\"id\":\"01ecbb43-3b87-4053-82ca-51b58bd84cd0\",\"subtype\":\"Chart\",\"type\":\"Plot\"},\"ticker\":{\"id\":\"746adeb2-eb3e-4b69-894a-e6bcbf2faa1d\",\"type\":\"CategoricalTicker\"}},\"id\":\"447caa31-69c7-4f4b-84a9-78cc8223a8a7\",\"type\":\"CategoricalAxis\"},{\"attributes\":{\"fill_alpha\":{\"field\":\"fill_alpha\"},\"fill_color\":{\"field\":\"color\"},\"height\":{\"field\":\"height\",\"units\":\"data\"},\"line_color\":{\"field\":\"line_color\"},\"width\":{\"field\":\"width\",\"units\":\"data\"},\"x\":{\"field\":\"x\"},\"y\":{\"field\":\"y\"}},\"id\":\"ecd5c9f1-eb47-4afc-b1c1-38f3755dba06\",\"type\":\"Rect\"},{\"attributes\":{\"callback\":null,\"column_names\":[\"x\",\"y\",\"width\",\"height\",\"color\",\"fill_alpha\",\"line_color\",\"line_alpha\",\"label\"],\"data\":{\"chart_index\":[{\"label\":\"Airline\"}],\"color\":[\"#5975a4\"],\"fill_alpha\":[0.8],\"height\":[5.952343297378905],\"label\":[\"Airline\"],\"line_alpha\":[1.0],\"line_color\":[\"white\"],\"width\":[0.7],\"x\":[\"Airline\"],\"y\":[2.9761716486894527]}},\"id\":\"2a540e7d-8442-4a75-ac7a-cd18f5368d68\",\"type\":\"ColumnDataSource\"},{\"attributes\":{\"active_drag\":\"auto\",\"active_inspect\":\"auto\",\"active_scroll\":\"auto\",\"active_tap\":\"auto\",\"tools\":[{\"id\":\"dd61f197-9d1c-4639-bcf3-fee295d3b5fb\",\"type\":\"PanTool\"},{\"id\":\"2b57683d-92cd-4805-b1f5-e8a4a4b5526c\",\"type\":\"WheelZoomTool\"},{\"id\":\"05fec624-8a6e-46fa-ac52-cc3b11972a09\",\"type\":\"BoxZoomTool\"},{\"id\":\"7be97a94-9af3-413f-bf54-acd28dab01ff\",\"type\":\"SaveTool\"},{\"id\":\"40dab145-a72e-4b98-a344-e17ddabb5efa\",\"type\":\"ResetTool\"},{\"id\":\"795bea2f-e907-46ae-8d3a-0dac044cf339\",\"type\":\"HelpTool\"}]},\"id\":\"aa3c5519-4ef9-46e9-9819-a119cfccb41b\",\"type\":\"Toolbar\"},{\"attributes\":{},\"id\":\"4ee7ea01-0fab-411b-bbac-8573186b3c82\",\"type\":\"BasicTickFormatter\"},{\"attributes\":{\"callback\":null,\"column_names\":[\"x\",\"y\",\"width\",\"height\",\"color\",\"fill_alpha\",\"line_color\",\"line_alpha\",\"label\"],\"data\":{\"chart_index\":[{\"label\":\"Football\"}],\"color\":[\"#5975a4\"],\"fill_alpha\":[0.8],\"height\":[3.9092387950386707],\"label\":[\"Football\"],\"line_alpha\":[1.0],\"line_color\":[\"white\"],\"width\":[0.7],\"x\":[\"Football\"],\"y\":[1.9546193975193353]}},\"id\":\"e453c691-c80d-4041-af48-b3e29da26d69\",\"type\":\"ColumnDataSource\"},{\"attributes\":{},\"id\":\"98d39595-c9a8-4ee5-ab6b-bb3fe827e179\",\"type\":\"CategoricalTickFormatter\"},{\"attributes\":{\"data_source\":{\"id\":\"e453c691-c80d-4041-af48-b3e29da26d69\",\"type\":\"ColumnDataSource\"},\"glyph\":{\"id\":\"fc7b0aed-26d3-495c-a4ae-d2b798cff545\",\"type\":\"Rect\"},\"hover_glyph\":null,\"muted_glyph\":null},\"id\":\"afae5ab7-ab8e-4bd4-8e61-9f6a3e751261\",\"type\":\"GlyphRenderer\"},{\"attributes\":{\"callback\":null,\"end\":8},\"id\":\"12502c80-d9ee-4766-b3d4-2fa5e83c5c97\",\"type\":\"Range1d\"},{\"attributes\":{},\"id\":\"12601e07-445f-45b5-aa14-ca6dc90bb0da\",\"type\":\"LinearScale\"},{\"attributes\":{\"fill_alpha\":{\"field\":\"fill_alpha\"},\"fill_color\":{\"field\":\"color\"},\"height\":{\"field\":\"height\",\"units\":\"data\"},\"line_color\":{\"field\":\"line_color\"},\"width\":{\"field\":\"width\",\"units\":\"data\"},\"x\":{\"field\":\"x\"},\"y\":{\"field\":\"y\"}},\"id\":\"f2e089a8-6759-4de6-8fc4-134f8e2d8cb1\",\"type\":\"Rect\"},{\"attributes\":{\"callback\":null,\"factors\":[\"Airline\",\"Amazon\",\"BCI\",\"Football\",\"Fraud\"]},\"id\":\"3325d672-4a2c-4408-8192-1b2d591289e0\",\"type\":\"FactorRange\"},{\"attributes\":{},\"id\":\"4f903709-2330-43b1-ba1c-369549c316c6\",\"type\":\"BasicTicker\"},{\"attributes\":{},\"id\":\"0c009bbc-a341-4429-bf8f-7a390368fec4\",\"type\":\"ToolEvents\"},{\"attributes\":{\"label\":{\"value\":\"Football\"},\"renderers\":[{\"id\":\"afae5ab7-ab8e-4bd4-8e61-9f6a3e751261\",\"type\":\"GlyphRenderer\"}]},\"id\":\"58bfd57e-8967-4e44-9778-553d465c9486\",\"type\":\"LegendItem\"},{\"attributes\":{\"below\":[{\"id\":\"447caa31-69c7-4f4b-84a9-78cc8223a8a7\",\"type\":\"CategoricalAxis\"}],\"css_classes\":null,\"left\":[{\"id\":\"0f9bdb1b-b7b7-465d-8543-c8ba5c1418ad\",\"type\":\"LinearAxis\"}],\"plot_height\":400,\"renderers\":[{\"id\":\"ca8067cc-ed80-4cc0-b315-fe3bdf213cb1\",\"type\":\"BoxAnnotation\"},{\"id\":\"7cfebbbc-6385-420f-ad40-5e05d16d66c8\",\"type\":\"GlyphRenderer\"},{\"id\":\"9d71baa3-e01f-4ea0-9fe7-9d0736d22343\",\"type\":\"GlyphRenderer\"},{\"id\":\"c7ed5d43-0911-48be-b693-f24cc5bb901f\",\"type\":\"GlyphRenderer\"},{\"id\":\"afae5ab7-ab8e-4bd4-8e61-9f6a3e751261\",\"type\":\"GlyphRenderer\"},{\"id\":\"c15eec26-90f8-4373-a1de-201adef11c45\",\"type\":\"GlyphRenderer\"},{\"id\":\"50bb7a0a-dda4-42de-913e-2075393ed611\",\"type\":\"Legend\"},{\"id\":\"447caa31-69c7-4f4b-84a9-78cc8223a8a7\",\"type\":\"CategoricalAxis\"},{\"id\":\"0f9bdb1b-b7b7-465d-8543-c8ba5c1418ad\",\"type\":\"LinearAxis\"},{\"id\":\"916b1110-e6c9-4a7d-bb63-dd9f97664470\",\"type\":\"Grid\"}],\"title\":{\"id\":\"9b4e8275-4b5a-41a0-a5ce-a4b11a47e6c5\",\"type\":\"Title\"},\"tool_events\":{\"id\":\"0c009bbc-a341-4429-bf8f-7a390368fec4\",\"type\":\"ToolEvents\"},\"toolbar\":{\"id\":\"aa3c5519-4ef9-46e9-9819-a119cfccb41b\",\"type\":\"Toolbar\"},\"toolbar_location\":\"above\",\"x_range\":{\"id\":\"3325d672-4a2c-4408-8192-1b2d591289e0\",\"type\":\"FactorRange\"},\"x_scale\":{\"id\":\"8eb98b15-b7c5-42be-bfab-50f6ea4fe4a1\",\"type\":\"CategoricalScale\"},\"y_range\":{\"id\":\"12502c80-d9ee-4766-b3d4-2fa5e83c5c97\",\"type\":\"Range1d\"},\"y_scale\":{\"id\":\"12601e07-445f-45b5-aa14-ca6dc90bb0da\",\"type\":\"LinearScale\"}},\"id\":\"01ecbb43-3b87-4053-82ca-51b58bd84cd0\",\"subtype\":\"Chart\",\"type\":\"Plot\"},{\"attributes\":{\"items\":[{\"id\":\"c700e349-1815-4dd0-a50e-93e3c84a8219\",\"type\":\"LegendItem\"},{\"id\":\"e8fd7d3f-cf37-442d-9acd-2af6a0af56f7\",\"type\":\"LegendItem\"},{\"id\":\"589ecdae-221a-45af-9415-c23475ccec35\",\"type\":\"LegendItem\"},{\"id\":\"58bfd57e-8967-4e44-9778-553d465c9486\",\"type\":\"LegendItem\"},{\"id\":\"817b4d3e-9126-4d9c-a082-412212bad88b\",\"type\":\"LegendItem\"}],\"location\":\"top_left\",\"plot\":{\"id\":\"01ecbb43-3b87-4053-82ca-51b58bd84cd0\",\"subtype\":\"Chart\",\"type\":\"Plot\"},\"visible\":false},\"id\":\"50bb7a0a-dda4-42de-913e-2075393ed611\",\"type\":\"Legend\"},{\"attributes\":{\"callback\":null,\"column_names\":[\"x\",\"y\",\"width\",\"height\",\"color\",\"fill_alpha\",\"line_color\",\"line_alpha\",\"label\"],\"data\":{\"chart_index\":[{\"label\":\"Fraud\"}],\"color\":[\"#5975a4\"],\"fill_alpha\":[0.8],\"height\":[6.045945416964522],\"label\":[\"Fraud\"],\"line_alpha\":[1.0],\"line_color\":[\"white\"],\"width\":[0.7],\"x\":[\"Fraud\"],\"y\":[3.022972708482261]}},\"id\":\"feb36472-03a1-4c96-907a-2e5dcd22f690\",\"type\":\"ColumnDataSource\"},{\"attributes\":{},\"id\":\"746adeb2-eb3e-4b69-894a-e6bcbf2faa1d\",\"type\":\"CategoricalTicker\"},{\"attributes\":{\"plot\":{\"id\":\"01ecbb43-3b87-4053-82ca-51b58bd84cd0\",\"subtype\":\"Chart\",\"type\":\"Plot\"}},\"id\":\"dd61f197-9d1c-4639-bcf3-fee295d3b5fb\",\"type\":\"PanTool\"},{\"attributes\":{\"data_source\":{\"id\":\"feb36472-03a1-4c96-907a-2e5dcd22f690\",\"type\":\"ColumnDataSource\"},\"glyph\":{\"id\":\"f2e089a8-6759-4de6-8fc4-134f8e2d8cb1\",\"type\":\"Rect\"},\"hover_glyph\":null,\"muted_glyph\":null},\"id\":\"c15eec26-90f8-4373-a1de-201adef11c45\",\"type\":\"GlyphRenderer\"},{\"attributes\":{\"plot\":{\"id\":\"01ecbb43-3b87-4053-82ca-51b58bd84cd0\",\"subtype\":\"Chart\",\"type\":\"Plot\"}},\"id\":\"2b57683d-92cd-4805-b1f5-e8a4a4b5526c\",\"type\":\"WheelZoomTool\"},{\"attributes\":{\"overlay\":{\"id\":\"ca8067cc-ed80-4cc0-b315-fe3bdf213cb1\",\"type\":\"BoxAnnotation\"},\"plot\":{\"id\":\"01ecbb43-3b87-4053-82ca-51b58bd84cd0\",\"subtype\":\"Chart\",\"type\":\"Plot\"}},\"id\":\"05fec624-8a6e-46fa-ac52-cc3b11972a09\",\"type\":\"BoxZoomTool\"},{\"attributes\":{\"plot\":null,\"text\":null},\"id\":\"9b4e8275-4b5a-41a0-a5ce-a4b11a47e6c5\",\"type\":\"Title\"},{\"attributes\":{\"plot\":{\"id\":\"01ecbb43-3b87-4053-82ca-51b58bd84cd0\",\"subtype\":\"Chart\",\"type\":\"Plot\"}},\"id\":\"7be97a94-9af3-413f-bf54-acd28dab01ff\",\"type\":\"SaveTool\"},{\"attributes\":{\"plot\":{\"id\":\"01ecbb43-3b87-4053-82ca-51b58bd84cd0\",\"subtype\":\"Chart\",\"type\":\"Plot\"}},\"id\":\"40dab145-a72e-4b98-a344-e17ddabb5efa\",\"type\":\"ResetTool\"},{\"attributes\":{\"plot\":{\"id\":\"01ecbb43-3b87-4053-82ca-51b58bd84cd0\",\"subtype\":\"Chart\",\"type\":\"Plot\"}},\"id\":\"795bea2f-e907-46ae-8d3a-0dac044cf339\",\"type\":\"HelpTool\"},{\"attributes\":{},\"id\":\"8eb98b15-b7c5-42be-bfab-50f6ea4fe4a1\",\"type\":\"CategoricalScale\"},{\"attributes\":{\"label\":{\"value\":\"Amazon\"},\"renderers\":[{\"id\":\"9d71baa3-e01f-4ea0-9fe7-9d0736d22343\",\"type\":\"GlyphRenderer\"}]},\"id\":\"e8fd7d3f-cf37-442d-9acd-2af6a0af56f7\",\"type\":\"LegendItem\"},{\"attributes\":{\"label\":{\"value\":\"Airline\"},\"renderers\":[{\"id\":\"7cfebbbc-6385-420f-ad40-5e05d16d66c8\",\"type\":\"GlyphRenderer\"}]},\"id\":\"c700e349-1815-4dd0-a50e-93e3c84a8219\",\"type\":\"LegendItem\"},{\"attributes\":{\"label\":{\"value\":\"BCI\"},\"renderers\":[{\"id\":\"c7ed5d43-0911-48be-b693-f24cc5bb901f\",\"type\":\"GlyphRenderer\"}]},\"id\":\"589ecdae-221a-45af-9415-c23475ccec35\",\"type\":\"LegendItem\"}],\"root_ids\":[\"01ecbb43-3b87-4053-82ca-51b58bd84cd0\"]},\"title\":\"Bokeh Application\",\"version\":\"0.12.6\"}};\n",
       "            var render_items = [{\"docid\":\"237201c8-c745-4c81-a964-83e36819f23b\",\"elementid\":\"4bd5e9f0-c63d-412d-8221-56e04373f041\",\"modelid\":\"01ecbb43-3b87-4053-82ca-51b58bd84cd0\"}];\n",
       "            \n",
       "            Bokeh.embed.embed_items(docs_json, render_items);\n",
       "          };\n",
       "          if (document.readyState != \"loading\") fn();\n",
       "          else document.addEventListener(\"DOMContentLoaded\", fn);\n",
       "        })();\n",
       "      },\n",
       "      function(Bokeh) {\n",
       "      }\n",
       "    ];\n",
       "  \n",
       "    function run_inline_js() {\n",
       "      \n",
       "      if ((window.Bokeh !== undefined) || (force === true)) {\n",
       "        for (var i = 0; i < inline_js.length; i++) {\n",
       "          inline_js[i](window.Bokeh);\n",
       "        }if (force === true) {\n",
       "          display_loaded();\n",
       "        }} else if (Date.now() < window._bokeh_timeout) {\n",
       "        setTimeout(run_inline_js, 100);\n",
       "      } else if (!window._bokeh_failed_load) {\n",
       "        console.log(\"Bokeh: BokehJS failed to load within specified timeout.\");\n",
       "        window._bokeh_failed_load = true;\n",
       "      } else if (force !== true) {\n",
       "        var cell = $(document.getElementById(\"4bd5e9f0-c63d-412d-8221-56e04373f041\")).parents('.cell').data().cell;\n",
       "        cell.output_area.append_execute_result(NB_LOAD_WARNING)\n",
       "      }\n",
       "  \n",
       "    }\n",
       "  \n",
       "    if (window._bokeh_is_loading === 0) {\n",
       "      console.log(\"Bokeh: BokehJS loaded, going straight to plotting\");\n",
       "      run_inline_js();\n",
       "    } else {\n",
       "      load_libs(js_urls, function() {\n",
       "        console.log(\"Bokeh: BokehJS plotting callback run at\", now());\n",
       "        run_inline_js();\n",
       "      });\n",
       "    }\n",
       "  }(this));\n",
       "</script>"
      ]
     },
     "metadata": {},
     "output_type": "display_data"
    }
   ],
   "source": [
    "bar = Bar(data, values='Train Time Ratio', agg='mean', label=['label'], \n",
    "          plot_width=600, plot_height=400, bar_width=0.7, color='#5975a4')\n",
    "bar.axis[0].axis_label=''\n",
    "bar.axis[1].axis_label='Train Time Ratio (XGBoost/LightGBM)'\n",
    "bar.axis[1].axis_label_text_font_size='12pt'\n",
    "bar.y_range = Range1d(0, 8)\n",
    "bar.toolbar_location='above'\n",
    "bar.legend[0].visible=False\n",
    "show(bar)"
   ]
  },
  {
   "cell_type": "code",
   "execution_count": 19,
   "metadata": {
    "collapsed": false,
    "deletable": true,
    "editable": true,
    "scrolled": true
   },
   "outputs": [
    {
     "data": {
      "image/svg+xml": [
       "<svg height=\"400\" style=\"width: 600px; height: 400px;\" version=\"1.1\" width=\"600\" xmlns=\"http://www.w3.org/2000/svg\" xmlns:xlink=\"http://www.w3.org/1999/xlink\"><defs/><g><g/><g transform=\"scale(1,1) translate(0.5,0.5)\"><rect fill=\"#FFFFFF\" height=\"400\" stroke=\"none\" width=\"600\" x=\"0\" y=\"0\"/><rect fill=\"#ffffff\" height=\"400\" stroke=\"none\" width=\"600\" x=\"0\" y=\"0\"/><rect fill=\"#FFFFFF\" height=\"322.9826322167867\" stroke=\"none\" width=\"553.0871875\" x=\"41.912812500000015\" y=\"29\"/><rect fill=\"#ffffff\" height=\"322.9826322167867\" stroke=\"none\" width=\"553.0871875\" x=\"41.912812500000015\" y=\"29\"/><g><rect fill=\"none\" height=\"322.9826322167867\" stroke=\"#e5e5e5\" stroke-miterlimit=\"10\" width=\"553.0871875\" x=\"41.912812500000015\" y=\"29\"/></g><g><g><path d=\" M 42 312 L 595 312\" fill=\"none\" paint-order=\"fill stroke markers\" stroke=\"#e5e5e5\" stroke-miterlimit=\"10\"/><path d=\" M 42 271 L 595 271\" fill=\"none\" paint-order=\"fill stroke markers\" stroke=\"#e5e5e5\" stroke-miterlimit=\"10\"/><path d=\" M 42 231 L 595 231\" fill=\"none\" paint-order=\"fill stroke markers\" stroke=\"#e5e5e5\" stroke-miterlimit=\"10\"/><path d=\" M 42 190 L 595 190\" fill=\"none\" paint-order=\"fill stroke markers\" stroke=\"#e5e5e5\" stroke-miterlimit=\"10\"/><path d=\" M 42 150 L 595 150\" fill=\"none\" paint-order=\"fill stroke markers\" stroke=\"#e5e5e5\" stroke-miterlimit=\"10\"/><path d=\" M 42 110 L 595 110\" fill=\"none\" paint-order=\"fill stroke markers\" stroke=\"#e5e5e5\" stroke-miterlimit=\"10\"/><path d=\" M 42 69 L 595 69\" fill=\"none\" paint-order=\"fill stroke markers\" stroke=\"#e5e5e5\" stroke-miterlimit=\"10\"/></g><g><path fill=\"none\" stroke=\"none\"/><rect fill=\"#5975a4\" fill-opacity=\"0.8\" height=\"240.31293825567332\" stroke=\"none\" width=\"77.43220624999958\" x=\"58.505428125000016\" y=\"111.66969396111341\"/><path d=\" M 58.505428125000016 111.66969396111341 L 135.9376343749996 111.66969396111341 L 135.9376343749996 351.9826322167867 L 58.505428125000016 351.9826322167867 L 58.505428125000016 111.66969396111341 Z\" fill=\"none\" paint-order=\"fill stroke markers\" stroke=\"white\" stroke-miterlimit=\"10\"/><path d=\"\" fill=\"none\" paint-order=\"fill stroke markers\" stroke=\"white\" stroke-miterlimit=\"10\"/></g><g><path fill=\"none\" stroke=\"none\"/><rect fill=\"#5975a4\" fill-opacity=\"0.8\" height=\"150.2619444496541\" stroke=\"none\" width=\"77.43220624999594\" x=\"169.122865625\" y=\"201.72068776713263\"/><path d=\" M 169.122865625 201.72068776713263 L 246.55507187499595 201.72068776713263 L 246.55507187499595 351.9826322167867 L 169.122865625 351.9826322167867 L 169.122865625 201.72068776713263 Z\" fill=\"none\" paint-order=\"fill stroke markers\" stroke=\"white\" stroke-miterlimit=\"10\"/><path d=\"\" fill=\"none\" paint-order=\"fill stroke markers\" stroke=\"white\" stroke-miterlimit=\"10\"/></g><g><path fill=\"none\" stroke=\"none\"/><rect fill=\"#5975a4\" fill-opacity=\"0.8\" height=\"101.08667797279574\" stroke=\"none\" width=\"77.43220625000686\" x=\"279.740303125\" y=\"250.89595424399099\"/><path d=\" M 279.740303125 250.89595424399099 L 357.1725093750069 250.89595424399099 L 357.1725093750069 351.9826322167867 L 279.740303125 351.9826322167867 L 279.740303125 250.89595424399099 Z\" fill=\"none\" paint-order=\"fill stroke markers\" stroke=\"white\" stroke-miterlimit=\"10\"/><path d=\"\" fill=\"none\" paint-order=\"fill stroke markers\" stroke=\"white\" stroke-miterlimit=\"10\"/></g><g><path fill=\"none\" stroke=\"none\"/><rect fill=\"#5975a4\" fill-opacity=\"0.8\" height=\"157.8270294981962\" stroke=\"none\" width=\"77.43220625000686\" x=\"390.357740625\" y=\"194.15560271859053\"/><path d=\" M 390.357740625 194.15560271859053 L 467.7899468750069 194.15560271859053 L 467.7899468750069 351.9826322167867 L 390.357740625 351.9826322167867 L 390.357740625 194.15560271859053 Z\" fill=\"none\" paint-order=\"fill stroke markers\" stroke=\"white\" stroke-miterlimit=\"10\"/><path d=\"\" fill=\"none\" paint-order=\"fill stroke markers\" stroke=\"white\" stroke-miterlimit=\"10\"/></g><g><path fill=\"none\" stroke=\"none\"/><rect fill=\"#5975a4\" fill-opacity=\"0.8\" height=\"244.09192062627744\" stroke=\"none\" width=\"77.43220625000686\" x=\"500.9751781250001\" y=\"107.89071159050928\"/><path d=\" M 500.9751781250001 107.89071159050928 L 578.407384375007 107.89071159050928 L 578.407384375007 351.9826322167867 L 500.9751781250001 351.9826322167867 L 500.9751781250001 107.89071159050928 Z\" fill=\"none\" paint-order=\"fill stroke markers\" stroke=\"white\" stroke-miterlimit=\"10\"/><path d=\"\" fill=\"none\" paint-order=\"fill stroke markers\" stroke=\"white\" stroke-miterlimit=\"10\"/></g></g><g/><g><g fill=\"#444444\"><path d=\" M 42 352 L 595 352\" fill=\"none\" paint-order=\"fill stroke markers\" stroke=\"black\" stroke-miterlimit=\"10\"/><path d=\" M 97 358 L 97 350\" fill=\"none\" paint-order=\"fill stroke markers\" stroke=\"black\" stroke-miterlimit=\"10\"/><path d=\" M 208 358 L 208 350\" fill=\"none\" paint-order=\"fill stroke markers\" stroke=\"black\" stroke-miterlimit=\"10\"/><path d=\" M 318 358 L 318 350\" fill=\"none\" paint-order=\"fill stroke markers\" stroke=\"black\" stroke-miterlimit=\"10\"/><path d=\" M 429 358 L 429 350\" fill=\"none\" paint-order=\"fill stroke markers\" stroke=\"black\" stroke-miterlimit=\"10\"/><path d=\" M 540 358 L 540 350\" fill=\"\" paint-order=\"fill stroke markers\" stroke=\"black\" stroke-miterlimit=\"10\"/><g transform=\"translate(97.22153125000003,362.9826322167867) rotate(-45,0,0)\"><text dominant-baseline=\"central\" fill=\"\" font-family=\"helvetica\" font-size=\"8pt\" font-style=\"normal\" font-weight=\"normal\" stroke=\"none\" text-anchor=\"end\" text-decoration=\"normal\" x=\"0\" y=\"0\">Airline</text><g transform=\"rotate(45,0,0) translate(-97.22153125000003,-362.9826322167867) translate(207.83896875000002,362.9826322167867) rotate(-45,0,0)\"><text dominant-baseline=\"central\" fill=\"\" font-family=\"helvetica\" font-size=\"8pt\" font-style=\"normal\" font-weight=\"normal\" stroke=\"none\" text-anchor=\"end\" text-decoration=\"normal\" x=\"0\" y=\"0\">Amazon</text><g transform=\"rotate(45,0,0) translate(-207.83896875000002,-362.9826322167867) translate(318.45640625000004,362.9826322167867) rotate(-45,0,0)\"><text dominant-baseline=\"central\" fill=\"\" font-family=\"helvetica\" font-size=\"8pt\" font-style=\"normal\" font-weight=\"normal\" stroke=\"none\" text-anchor=\"end\" text-decoration=\"normal\" x=\"0\" y=\"0\">BCI</text><g transform=\"rotate(45,0,0) translate(-318.45640625000004,-362.9826322167867) translate(429.07384375000004,362.9826322167867) rotate(-45,0,0)\"><text dominant-baseline=\"central\" fill=\"\" font-family=\"helvetica\" font-size=\"8pt\" font-style=\"normal\" font-weight=\"normal\" stroke=\"none\" text-anchor=\"end\" text-decoration=\"normal\" x=\"0\" y=\"0\">Football</text><g transform=\"rotate(45,0,0) translate(-429.07384375000004,-362.9826322167867) translate(539.6912812500001,362.9826322167867) rotate(-45,0,0)\"><text dominant-baseline=\"central\" fill=\"\" font-family=\"helvetica\" font-size=\"8pt\" font-style=\"normal\" font-weight=\"normal\" stroke=\"none\" text-anchor=\"end\" text-decoration=\"normal\" x=\"0\" y=\"0\">Fraud</text><g transform=\"rotate(45,0,0) translate(-539.6912812500001,-362.9826322167867)\"><text dominant-baseline=\"hanging\" fill=\"\" font-family=\"helvetica\" font-size=\"10pt\" font-style=\"italic\" font-weight=\"normal\" stroke=\"none\" text-anchor=\"middle\" text-decoration=\"normal\" x=\"318.45640625000004\" y=\"404\"/></g></g></g></g></g></g></g><g><path d=\" M 42 352 L 42 29\" fill=\"none\" paint-order=\"fill stroke markers\" stroke=\"black\" stroke-miterlimit=\"10\"/><path d=\" M 36 352 L 44 352\" fill=\"none\" paint-order=\"fill stroke markers\" stroke=\"black\" stroke-miterlimit=\"10\"/><path d=\" M 36 312 L 44 312\" fill=\"none\" paint-order=\"fill stroke markers\" stroke=\"black\" stroke-miterlimit=\"10\"/><path d=\" M 36 271 L 44 271\" fill=\"none\" paint-order=\"fill stroke markers\" stroke=\"black\" stroke-miterlimit=\"10\"/><path d=\" M 36 231 L 44 231\" fill=\"none\" paint-order=\"fill stroke markers\" stroke=\"black\" stroke-miterlimit=\"10\"/><path d=\" M 36 190 L 44 190\" fill=\"none\" paint-order=\"fill stroke markers\" stroke=\"black\" stroke-miterlimit=\"10\"/><path d=\" M 36 150 L 44 150\" fill=\"none\" paint-order=\"fill stroke markers\" stroke=\"black\" stroke-miterlimit=\"10\"/><path d=\" M 36 110 L 44 110\" fill=\"none\" paint-order=\"fill stroke markers\" stroke=\"black\" stroke-miterlimit=\"10\"/><path d=\" M 36 69 L 44 69\" fill=\"none\" paint-order=\"fill stroke markers\" stroke=\"black\" stroke-miterlimit=\"10\"/><path d=\" M 36 29 L 44 29\" fill=\"none\" paint-order=\"fill stroke markers\" stroke=\"black\" stroke-miterlimit=\"10\"/><path d=\" M 38 352 L 42 352\" fill=\"none\" paint-order=\"fill stroke markers\" stroke=\"black\" stroke-miterlimit=\"10\"/><path d=\" M 38 344 L 42 344\" fill=\"none\" paint-order=\"fill stroke markers\" stroke=\"black\" stroke-miterlimit=\"10\"/><path d=\" M 38 336 L 42 336\" fill=\"none\" paint-order=\"fill stroke markers\" stroke=\"black\" stroke-miterlimit=\"10\"/><path d=\" M 38 328 L 42 328\" fill=\"none\" paint-order=\"fill stroke markers\" stroke=\"black\" stroke-miterlimit=\"10\"/><path d=\" M 38 320 L 42 320\" fill=\"none\" paint-order=\"fill stroke markers\" stroke=\"black\" stroke-miterlimit=\"10\"/><path d=\" M 38 312 L 42 312\" fill=\"none\" paint-order=\"fill stroke markers\" stroke=\"black\" stroke-miterlimit=\"10\"/><path d=\" M 38 304 L 42 304\" fill=\"none\" paint-order=\"fill stroke markers\" stroke=\"black\" stroke-miterlimit=\"10\"/><path d=\" M 38 295 L 42 295\" fill=\"none\" paint-order=\"fill stroke markers\" stroke=\"black\" stroke-miterlimit=\"10\"/><path d=\" M 38 287 L 42 287\" fill=\"none\" paint-order=\"fill stroke markers\" stroke=\"black\" stroke-miterlimit=\"10\"/><path d=\" M 38 279 L 42 279\" fill=\"none\" paint-order=\"fill stroke markers\" stroke=\"black\" stroke-miterlimit=\"10\"/><path d=\" M 38 271 L 42 271\" fill=\"none\" paint-order=\"fill stroke markers\" stroke=\"black\" stroke-miterlimit=\"10\"/><path d=\" M 38 263 L 42 263\" fill=\"none\" paint-order=\"fill stroke markers\" stroke=\"black\" stroke-miterlimit=\"10\"/><path d=\" M 38 255 L 42 255\" fill=\"none\" paint-order=\"fill stroke markers\" stroke=\"black\" stroke-miterlimit=\"10\"/><path d=\" M 38 247 L 42 247\" fill=\"none\" paint-order=\"fill stroke markers\" stroke=\"black\" stroke-miterlimit=\"10\"/><path d=\" M 38 239 L 42 239\" fill=\"none\" paint-order=\"fill stroke markers\" stroke=\"black\" stroke-miterlimit=\"10\"/><path d=\" M 38 231 L 42 231\" fill=\"none\" paint-order=\"fill stroke markers\" stroke=\"black\" stroke-miterlimit=\"10\"/><path d=\" M 38 223 L 42 223\" fill=\"none\" paint-order=\"fill stroke markers\" stroke=\"black\" stroke-miterlimit=\"10\"/><path d=\" M 38 215 L 42 215\" fill=\"none\" paint-order=\"fill stroke markers\" stroke=\"black\" stroke-miterlimit=\"10\"/><path d=\" M 38 207 L 42 207\" fill=\"none\" paint-order=\"fill stroke markers\" stroke=\"black\" stroke-miterlimit=\"10\"/><path d=\" M 38 199 L 42 199\" fill=\"none\" paint-order=\"fill stroke markers\" stroke=\"black\" stroke-miterlimit=\"10\"/><path d=\" M 38 190 L 42 190\" fill=\"none\" paint-order=\"fill stroke markers\" stroke=\"black\" stroke-miterlimit=\"10\"/><path d=\" M 38 182 L 42 182\" fill=\"none\" paint-order=\"fill stroke markers\" stroke=\"black\" stroke-miterlimit=\"10\"/><path d=\" M 38 174 L 42 174\" fill=\"none\" paint-order=\"fill stroke markers\" stroke=\"black\" stroke-miterlimit=\"10\"/><path d=\" M 38 166 L 42 166\" fill=\"none\" paint-order=\"fill stroke markers\" stroke=\"black\" stroke-miterlimit=\"10\"/><path d=\" M 38 158 L 42 158\" fill=\"none\" paint-order=\"fill stroke markers\" stroke=\"black\" stroke-miterlimit=\"10\"/><path d=\" M 38 150 L 42 150\" fill=\"none\" paint-order=\"fill stroke markers\" stroke=\"black\" stroke-miterlimit=\"10\"/><path d=\" M 38 142 L 42 142\" fill=\"none\" paint-order=\"fill stroke markers\" stroke=\"black\" stroke-miterlimit=\"10\"/><path d=\" M 38 134 L 42 134\" fill=\"none\" paint-order=\"fill stroke markers\" stroke=\"black\" stroke-miterlimit=\"10\"/><path d=\" M 38 126 L 42 126\" fill=\"none\" paint-order=\"fill stroke markers\" stroke=\"black\" stroke-miterlimit=\"10\"/><path d=\" M 38 118 L 42 118\" fill=\"none\" paint-order=\"fill stroke markers\" stroke=\"black\" stroke-miterlimit=\"10\"/><path d=\" M 38 110 L 42 110\" fill=\"none\" paint-order=\"fill stroke markers\" stroke=\"black\" stroke-miterlimit=\"10\"/><path d=\" M 38 102 L 42 102\" fill=\"none\" paint-order=\"fill stroke markers\" stroke=\"black\" stroke-miterlimit=\"10\"/><path d=\" M 38 94 L 42 94\" fill=\"none\" paint-order=\"fill stroke markers\" stroke=\"black\" stroke-miterlimit=\"10\"/><path d=\" M 38 86 L 42 86\" fill=\"none\" paint-order=\"fill stroke markers\" stroke=\"black\" stroke-miterlimit=\"10\"/><path d=\" M 38 77 L 42 77\" fill=\"none\" paint-order=\"fill stroke markers\" stroke=\"black\" stroke-miterlimit=\"10\"/><path d=\" M 38 69 L 42 69\" fill=\"none\" paint-order=\"fill stroke markers\" stroke=\"black\" stroke-miterlimit=\"10\"/><path d=\" M 38 61 L 42 61\" fill=\"none\" paint-order=\"fill stroke markers\" stroke=\"black\" stroke-miterlimit=\"10\"/><path d=\" M 38 53 L 42 53\" fill=\"none\" paint-order=\"fill stroke markers\" stroke=\"black\" stroke-miterlimit=\"10\"/><path d=\" M 38 45 L 42 45\" fill=\"none\" paint-order=\"fill stroke markers\" stroke=\"black\" stroke-miterlimit=\"10\"/><path d=\" M 38 37 L 42 37\" fill=\"none\" paint-order=\"fill stroke markers\" stroke=\"black\" stroke-miterlimit=\"10\"/><path d=\" M 38 29 L 42 29\" fill=\"none\" paint-order=\"fill stroke markers\" stroke=\"black\" stroke-miterlimit=\"10\"/><text dominant-baseline=\"central\" fill=\"#444444\" font-family=\"helvetica\" font-size=\"8pt\" font-style=\"normal\" font-weight=\"normal\" stroke=\"none\" text-anchor=\"end\" text-decoration=\"normal\" x=\"31\" y=\"352\">0</text><text dominant-baseline=\"central\" fill=\"#444444\" font-family=\"helvetica\" font-size=\"8pt\" font-style=\"normal\" font-weight=\"normal\" stroke=\"none\" text-anchor=\"end\" text-decoration=\"normal\" x=\"31\" y=\"312\">1</text><text dominant-baseline=\"central\" fill=\"#444444\" font-family=\"helvetica\" font-size=\"8pt\" font-style=\"normal\" font-weight=\"normal\" stroke=\"none\" text-anchor=\"end\" text-decoration=\"normal\" x=\"31\" y=\"271\">2</text><text dominant-baseline=\"central\" fill=\"#444444\" font-family=\"helvetica\" font-size=\"8pt\" font-style=\"normal\" font-weight=\"normal\" stroke=\"none\" text-anchor=\"end\" text-decoration=\"normal\" x=\"31\" y=\"231\">3</text><text dominant-baseline=\"central\" fill=\"#444444\" font-family=\"helvetica\" font-size=\"8pt\" font-style=\"normal\" font-weight=\"normal\" stroke=\"none\" text-anchor=\"end\" text-decoration=\"normal\" x=\"31\" y=\"190\">4</text><text dominant-baseline=\"central\" fill=\"#444444\" font-family=\"helvetica\" font-size=\"8pt\" font-style=\"normal\" font-weight=\"normal\" stroke=\"none\" text-anchor=\"end\" text-decoration=\"normal\" x=\"31\" y=\"150\">5</text><text dominant-baseline=\"central\" fill=\"#444444\" font-family=\"helvetica\" font-size=\"8pt\" font-style=\"normal\" font-weight=\"normal\" stroke=\"none\" text-anchor=\"end\" text-decoration=\"normal\" x=\"31\" y=\"110\">6</text><text dominant-baseline=\"central\" fill=\"#444444\" font-family=\"helvetica\" font-size=\"8pt\" font-style=\"normal\" font-weight=\"normal\" stroke=\"none\" text-anchor=\"end\" text-decoration=\"normal\" x=\"31\" y=\"69\">7</text><text dominant-baseline=\"central\" fill=\"#444444\" font-family=\"helvetica\" font-size=\"8pt\" font-style=\"normal\" font-weight=\"normal\" stroke=\"none\" text-anchor=\"end\" text-decoration=\"normal\" x=\"31\" y=\"29\">8</text><g transform=\"translate(19.192500000000017,190.49131610839336) rotate(-90,0,0)\"><text dominant-baseline=\"alphabetic\" fill=\"#444444\" font-family=\"helvetica\" font-size=\"12pt\" font-style=\"italic\" font-weight=\"normal\" stroke=\"none\" text-anchor=\"middle\" text-decoration=\"normal\" x=\"0\" y=\"0\">Train Time Ratio (XGBoost/LightGBM)</text><g transform=\"rotate(90,0,0) translate(-19.192500000000017,-190.49131610839336)\"/></g></g></g></g></g></svg>"
      ],
      "text/plain": [
       "<IPython.core.display.SVG object>"
      ]
     },
     "metadata": {},
     "output_type": "display_data"
    }
   ],
   "source": [
    "bar.output_backend = \"svg\"\n",
    "export_svgs(bar, filename=\"xgb_vs_lgbm_train_time.svg\")\n",
    "display(SVG('xgb_vs_lgbm_train_time.svg'))"
   ]
  },
  {
   "cell_type": "markdown",
   "metadata": {},
   "source": [
    "Plot of train time ratio for GPU experiments."
   ]
  },
  {
   "cell_type": "code",
   "execution_count": 20,
   "metadata": {
    "collapsed": true
   },
   "outputs": [],
   "source": [
    "data = {\n",
    "    'Train Time Ratio': results_gpu['Train Time Ratio'].values,\n",
    "    'label': results_gpu.index.values\n",
    "}"
   ]
  },
  {
   "cell_type": "code",
   "execution_count": 21,
   "metadata": {
    "collapsed": false
   },
   "outputs": [
    {
     "data": {
      "text/html": [
       "\n",
       "\n",
       "    <div class=\"bk-root\">\n",
       "        <div class=\"bk-plotdiv\" id=\"000bc13c-a6d5-49eb-aa1e-20b122172e5b\"></div>\n",
       "    </div>\n",
       "<script type=\"text/javascript\">\n",
       "  \n",
       "  (function(global) {\n",
       "    function now() {\n",
       "      return new Date();\n",
       "    }\n",
       "  \n",
       "    var force = false;\n",
       "  \n",
       "    if (typeof (window._bokeh_onload_callbacks) === \"undefined\" || force === true) {\n",
       "      window._bokeh_onload_callbacks = [];\n",
       "      window._bokeh_is_loading = undefined;\n",
       "    }\n",
       "  \n",
       "  \n",
       "    \n",
       "    if (typeof (window._bokeh_timeout) === \"undefined\" || force === true) {\n",
       "      window._bokeh_timeout = Date.now() + 0;\n",
       "      window._bokeh_failed_load = false;\n",
       "    }\n",
       "  \n",
       "    var NB_LOAD_WARNING = {'data': {'text/html':\n",
       "       \"<div style='background-color: #fdd'>\\n\"+\n",
       "       \"<p>\\n\"+\n",
       "       \"BokehJS does not appear to have successfully loaded. If loading BokehJS from CDN, this \\n\"+\n",
       "       \"may be due to a slow or bad network connection. Possible fixes:\\n\"+\n",
       "       \"</p>\\n\"+\n",
       "       \"<ul>\\n\"+\n",
       "       \"<li>re-rerun `output_notebook()` to attempt to load from CDN again, or</li>\\n\"+\n",
       "       \"<li>use INLINE resources instead, as so:</li>\\n\"+\n",
       "       \"</ul>\\n\"+\n",
       "       \"<code>\\n\"+\n",
       "       \"from bokeh.resources import INLINE\\n\"+\n",
       "       \"output_notebook(resources=INLINE)\\n\"+\n",
       "       \"</code>\\n\"+\n",
       "       \"</div>\"}};\n",
       "  \n",
       "    function display_loaded() {\n",
       "      if (window.Bokeh !== undefined) {\n",
       "        var el = document.getElementById(\"000bc13c-a6d5-49eb-aa1e-20b122172e5b\");\n",
       "        el.textContent = \"BokehJS \" + Bokeh.version + \" successfully loaded.\";\n",
       "      } else if (Date.now() < window._bokeh_timeout) {\n",
       "        setTimeout(display_loaded, 100)\n",
       "      }\n",
       "    }\n",
       "  \n",
       "    function run_callbacks() {\n",
       "      try {\n",
       "        window._bokeh_onload_callbacks.forEach(function(callback) { callback() });\n",
       "      }\n",
       "      finally {\n",
       "        delete window._bokeh_onload_callbacks\n",
       "      }\n",
       "      console.info(\"Bokeh: all callbacks have finished\");\n",
       "    }\n",
       "  \n",
       "    function load_libs(js_urls, callback) {\n",
       "      window._bokeh_onload_callbacks.push(callback);\n",
       "      if (window._bokeh_is_loading > 0) {\n",
       "        console.log(\"Bokeh: BokehJS is being loaded, scheduling callback at\", now());\n",
       "        return null;\n",
       "      }\n",
       "      if (js_urls == null || js_urls.length === 0) {\n",
       "        run_callbacks();\n",
       "        return null;\n",
       "      }\n",
       "      console.log(\"Bokeh: BokehJS not loaded, scheduling load and callback at\", now());\n",
       "      window._bokeh_is_loading = js_urls.length;\n",
       "      for (var i = 0; i < js_urls.length; i++) {\n",
       "        var url = js_urls[i];\n",
       "        var s = document.createElement('script');\n",
       "        s.src = url;\n",
       "        s.async = false;\n",
       "        s.onreadystatechange = s.onload = function() {\n",
       "          window._bokeh_is_loading--;\n",
       "          if (window._bokeh_is_loading === 0) {\n",
       "            console.log(\"Bokeh: all BokehJS libraries loaded\");\n",
       "            run_callbacks()\n",
       "          }\n",
       "        };\n",
       "        s.onerror = function() {\n",
       "          console.warn(\"failed to load library \" + url);\n",
       "        };\n",
       "        console.log(\"Bokeh: injecting script tag for BokehJS library: \", url);\n",
       "        document.getElementsByTagName(\"head\")[0].appendChild(s);\n",
       "      }\n",
       "    };var element = document.getElementById(\"000bc13c-a6d5-49eb-aa1e-20b122172e5b\");\n",
       "    if (element == null) {\n",
       "      console.log(\"Bokeh: ERROR: autoload.js configured with elementid '000bc13c-a6d5-49eb-aa1e-20b122172e5b' but no matching script tag was found. \")\n",
       "      return false;\n",
       "    }\n",
       "  \n",
       "    var js_urls = [];\n",
       "  \n",
       "    var inline_js = [\n",
       "      function(Bokeh) {\n",
       "        (function() {\n",
       "          var fn = function() {\n",
       "            var docs_json = {\"b426c333-7977-4c21-8abe-356900bc6e5d\":{\"roots\":{\"references\":[{\"attributes\":{\"label\":{\"value\":\"HIGGS_GPU\"},\"renderers\":[{\"id\":\"d5749c57-9478-41a6-86ca-2329ecd1c76d\",\"type\":\"GlyphRenderer\"}]},\"id\":\"217924f4-07c8-40f7-8336-9e284de9b1aa\",\"type\":\"LegendItem\"},{\"attributes\":{\"label\":{\"value\":\"Airline_GPU\"},\"renderers\":[{\"id\":\"8bf0d427-5448-4448-8af1-5c1c7a3962db\",\"type\":\"GlyphRenderer\"}]},\"id\":\"64629898-bc9f-43ed-9d67-4cee135e30ab\",\"type\":\"LegendItem\"},{\"attributes\":{\"active_drag\":\"auto\",\"active_inspect\":\"auto\",\"active_scroll\":\"auto\",\"active_tap\":\"auto\",\"tools\":[{\"id\":\"5e38f57c-e977-432d-bd88-694c1ec65d91\",\"type\":\"PanTool\"},{\"id\":\"4f634571-a851-4856-901c-177e2c85d1f1\",\"type\":\"WheelZoomTool\"},{\"id\":\"9cc478cd-b797-4e1a-8291-41b6bad74267\",\"type\":\"BoxZoomTool\"},{\"id\":\"4e90a330-4540-4757-9f4a-ba5527ae707a\",\"type\":\"SaveTool\"},{\"id\":\"a2f2da1e-8dc2-42c7-86fe-6508f1fa2b80\",\"type\":\"ResetTool\"},{\"id\":\"dbb0511e-7ad6-4538-9ee9-3bd19668fbe5\",\"type\":\"HelpTool\"}]},\"id\":\"a92ec0d6-140f-48ae-94a9-a3b5b6011559\",\"type\":\"Toolbar\"},{\"attributes\":{\"fill_alpha\":{\"field\":\"fill_alpha\"},\"fill_color\":{\"field\":\"color\"},\"height\":{\"field\":\"height\",\"units\":\"data\"},\"line_color\":{\"field\":\"line_color\"},\"width\":{\"field\":\"width\",\"units\":\"data\"},\"x\":{\"field\":\"x\"},\"y\":{\"field\":\"y\"}},\"id\":\"cabf0d56-48eb-47e8-a2c7-a318a46b81c9\",\"type\":\"Rect\"},{\"attributes\":{},\"id\":\"7dfe4005-1420-441c-b25b-dc30c780c1f6\",\"type\":\"LinearScale\"},{\"attributes\":{\"plot\":null,\"text\":null},\"id\":\"e1811bb6-0aef-4eb7-8174-9871ddab32f3\",\"type\":\"Title\"},{\"attributes\":{\"callback\":null,\"factors\":[\"Airline_GPU\",\"HIGGS_GPU\"]},\"id\":\"3c5ca867-9b7a-4cf7-8dc8-10ad7f5be052\",\"type\":\"FactorRange\"},{\"attributes\":{\"callback\":null,\"end\":8},\"id\":\"f9d302a9-b7d8-487d-91f1-e7485cc6b015\",\"type\":\"Range1d\"},{\"attributes\":{\"axis_label\":\"\",\"formatter\":{\"id\":\"8d13bb29-cdf9-4bc9-a16b-d29e0d3433b1\",\"type\":\"CategoricalTickFormatter\"},\"major_label_orientation\":0.7853981633974483,\"plot\":{\"id\":\"68f30bc0-17be-4137-a73e-af44aba3e272\",\"subtype\":\"Chart\",\"type\":\"Plot\"},\"ticker\":{\"id\":\"06bb67e1-03ce-45dd-8cd5-0179ea99b7ee\",\"type\":\"CategoricalTicker\"}},\"id\":\"3065baf6-76aa-42c8-9f1a-f77514d27540\",\"type\":\"CategoricalAxis\"},{\"attributes\":{\"axis_label\":\"Train Time Ratio (XGBoost/LightGBM)\",\"axis_label_text_font_size\":{\"value\":\"12pt\"},\"formatter\":{\"id\":\"24375adf-d9eb-4b87-9aab-96b978f6f5d1\",\"type\":\"BasicTickFormatter\"},\"plot\":{\"id\":\"68f30bc0-17be-4137-a73e-af44aba3e272\",\"subtype\":\"Chart\",\"type\":\"Plot\"},\"ticker\":{\"id\":\"0d466a7e-f74f-40f4-a943-0c5f9dab308f\",\"type\":\"BasicTicker\"}},\"id\":\"6ce125a3-bceb-4662-9ea2-7922d4d87856\",\"type\":\"LinearAxis\"},{\"attributes\":{\"bottom_units\":\"screen\",\"fill_alpha\":{\"value\":0.5},\"fill_color\":{\"value\":\"lightgrey\"},\"left_units\":\"screen\",\"level\":\"overlay\",\"line_alpha\":{\"value\":1.0},\"line_color\":{\"value\":\"black\"},\"line_dash\":[4,4],\"line_width\":{\"value\":2},\"plot\":null,\"render_mode\":\"css\",\"right_units\":\"screen\",\"top_units\":\"screen\"},\"id\":\"35f2bb86-6d0d-46c2-bf42-5b6b38f5d5d6\",\"type\":\"BoxAnnotation\"},{\"attributes\":{\"plot\":{\"id\":\"68f30bc0-17be-4137-a73e-af44aba3e272\",\"subtype\":\"Chart\",\"type\":\"Plot\"}},\"id\":\"5e38f57c-e977-432d-bd88-694c1ec65d91\",\"type\":\"PanTool\"},{\"attributes\":{\"callback\":null,\"column_names\":[\"x\",\"y\",\"width\",\"height\",\"color\",\"fill_alpha\",\"line_color\",\"line_alpha\",\"label\"],\"data\":{\"chart_index\":[{\"label\":\"Airline_GPU\"}],\"color\":[\"#ffcc99\"],\"fill_alpha\":[0.8],\"height\":[3.0453200667615974],\"label\":[\"Airline_GPU\"],\"line_alpha\":[1.0],\"line_color\":[\"white\"],\"width\":[0.5],\"x\":[\"Airline_GPU\"],\"y\":[1.5226600333807987]}},\"id\":\"d1fc3c98-8c5a-42ba-bf5b-3c01743fab0c\",\"type\":\"ColumnDataSource\"},{\"attributes\":{\"plot\":{\"id\":\"68f30bc0-17be-4137-a73e-af44aba3e272\",\"subtype\":\"Chart\",\"type\":\"Plot\"}},\"id\":\"4f634571-a851-4856-901c-177e2c85d1f1\",\"type\":\"WheelZoomTool\"},{\"attributes\":{\"data_source\":{\"id\":\"d1fc3c98-8c5a-42ba-bf5b-3c01743fab0c\",\"type\":\"ColumnDataSource\"},\"glyph\":{\"id\":\"cabf0d56-48eb-47e8-a2c7-a318a46b81c9\",\"type\":\"Rect\"},\"hover_glyph\":null,\"muted_glyph\":null},\"id\":\"8bf0d427-5448-4448-8af1-5c1c7a3962db\",\"type\":\"GlyphRenderer\"},{\"attributes\":{\"overlay\":{\"id\":\"35f2bb86-6d0d-46c2-bf42-5b6b38f5d5d6\",\"type\":\"BoxAnnotation\"},\"plot\":{\"id\":\"68f30bc0-17be-4137-a73e-af44aba3e272\",\"subtype\":\"Chart\",\"type\":\"Plot\"}},\"id\":\"9cc478cd-b797-4e1a-8291-41b6bad74267\",\"type\":\"BoxZoomTool\"},{\"attributes\":{\"plot\":{\"id\":\"68f30bc0-17be-4137-a73e-af44aba3e272\",\"subtype\":\"Chart\",\"type\":\"Plot\"}},\"id\":\"4e90a330-4540-4757-9f4a-ba5527ae707a\",\"type\":\"SaveTool\"},{\"attributes\":{\"fill_alpha\":{\"field\":\"fill_alpha\"},\"fill_color\":{\"field\":\"color\"},\"height\":{\"field\":\"height\",\"units\":\"data\"},\"line_color\":{\"field\":\"line_color\"},\"width\":{\"field\":\"width\",\"units\":\"data\"},\"x\":{\"field\":\"x\"},\"y\":{\"field\":\"y\"}},\"id\":\"e2499d88-0a61-430f-bf7e-d96b426e8ead\",\"type\":\"Rect\"},{\"attributes\":{\"plot\":{\"id\":\"68f30bc0-17be-4137-a73e-af44aba3e272\",\"subtype\":\"Chart\",\"type\":\"Plot\"}},\"id\":\"a2f2da1e-8dc2-42c7-86fe-6508f1fa2b80\",\"type\":\"ResetTool\"},{\"attributes\":{\"plot\":{\"id\":\"68f30bc0-17be-4137-a73e-af44aba3e272\",\"subtype\":\"Chart\",\"type\":\"Plot\"}},\"id\":\"dbb0511e-7ad6-4538-9ee9-3bd19668fbe5\",\"type\":\"HelpTool\"},{\"attributes\":{},\"id\":\"24375adf-d9eb-4b87-9aab-96b978f6f5d1\",\"type\":\"BasicTickFormatter\"},{\"attributes\":{},\"id\":\"dc9c2e3a-54d0-416a-a466-320956554e5c\",\"type\":\"CategoricalScale\"},{\"attributes\":{\"callback\":null,\"column_names\":[\"x\",\"y\",\"width\",\"height\",\"color\",\"fill_alpha\",\"line_color\",\"line_alpha\",\"label\"],\"data\":{\"chart_index\":[{\"label\":\"HIGGS_GPU\"}],\"color\":[\"#ffcc99\"],\"fill_alpha\":[0.8],\"height\":[3.7231895138869535],\"label\":[\"HIGGS_GPU\"],\"line_alpha\":[1.0],\"line_color\":[\"white\"],\"width\":[0.5],\"x\":[\"HIGGS_GPU\"],\"y\":[1.8615947569434768]}},\"id\":\"54a7542f-9093-412d-8644-93ee9272cac3\",\"type\":\"ColumnDataSource\"},{\"attributes\":{\"data_source\":{\"id\":\"54a7542f-9093-412d-8644-93ee9272cac3\",\"type\":\"ColumnDataSource\"},\"glyph\":{\"id\":\"e2499d88-0a61-430f-bf7e-d96b426e8ead\",\"type\":\"Rect\"},\"hover_glyph\":null,\"muted_glyph\":null},\"id\":\"d5749c57-9478-41a6-86ca-2329ecd1c76d\",\"type\":\"GlyphRenderer\"},{\"attributes\":{},\"id\":\"0d466a7e-f74f-40f4-a943-0c5f9dab308f\",\"type\":\"BasicTicker\"},{\"attributes\":{\"dimension\":1,\"plot\":{\"id\":\"68f30bc0-17be-4137-a73e-af44aba3e272\",\"subtype\":\"Chart\",\"type\":\"Plot\"},\"ticker\":{\"id\":\"0d466a7e-f74f-40f4-a943-0c5f9dab308f\",\"type\":\"BasicTicker\"}},\"id\":\"4966ab5d-6c69-4cec-abce-71cbcee2a9ba\",\"type\":\"Grid\"},{\"attributes\":{},\"id\":\"06bb67e1-03ce-45dd-8cd5-0179ea99b7ee\",\"type\":\"CategoricalTicker\"},{\"attributes\":{},\"id\":\"640b2542-99c1-4ad2-98b9-e4fe1c805c5d\",\"type\":\"ToolEvents\"},{\"attributes\":{\"items\":[{\"id\":\"64629898-bc9f-43ed-9d67-4cee135e30ab\",\"type\":\"LegendItem\"},{\"id\":\"217924f4-07c8-40f7-8336-9e284de9b1aa\",\"type\":\"LegendItem\"}],\"location\":\"top_left\",\"plot\":{\"id\":\"68f30bc0-17be-4137-a73e-af44aba3e272\",\"subtype\":\"Chart\",\"type\":\"Plot\"},\"visible\":false},\"id\":\"275579de-f410-4acb-b75f-4095a83ca442\",\"type\":\"Legend\"},{\"attributes\":{\"below\":[{\"id\":\"3065baf6-76aa-42c8-9f1a-f77514d27540\",\"type\":\"CategoricalAxis\"}],\"css_classes\":null,\"left\":[{\"id\":\"6ce125a3-bceb-4662-9ea2-7922d4d87856\",\"type\":\"LinearAxis\"}],\"plot_height\":400,\"plot_width\":300,\"renderers\":[{\"id\":\"35f2bb86-6d0d-46c2-bf42-5b6b38f5d5d6\",\"type\":\"BoxAnnotation\"},{\"id\":\"8bf0d427-5448-4448-8af1-5c1c7a3962db\",\"type\":\"GlyphRenderer\"},{\"id\":\"d5749c57-9478-41a6-86ca-2329ecd1c76d\",\"type\":\"GlyphRenderer\"},{\"id\":\"275579de-f410-4acb-b75f-4095a83ca442\",\"type\":\"Legend\"},{\"id\":\"3065baf6-76aa-42c8-9f1a-f77514d27540\",\"type\":\"CategoricalAxis\"},{\"id\":\"6ce125a3-bceb-4662-9ea2-7922d4d87856\",\"type\":\"LinearAxis\"},{\"id\":\"4966ab5d-6c69-4cec-abce-71cbcee2a9ba\",\"type\":\"Grid\"}],\"title\":{\"id\":\"e1811bb6-0aef-4eb7-8174-9871ddab32f3\",\"type\":\"Title\"},\"tool_events\":{\"id\":\"640b2542-99c1-4ad2-98b9-e4fe1c805c5d\",\"type\":\"ToolEvents\"},\"toolbar\":{\"id\":\"a92ec0d6-140f-48ae-94a9-a3b5b6011559\",\"type\":\"Toolbar\"},\"toolbar_location\":\"above\",\"x_range\":{\"id\":\"3c5ca867-9b7a-4cf7-8dc8-10ad7f5be052\",\"type\":\"FactorRange\"},\"x_scale\":{\"id\":\"dc9c2e3a-54d0-416a-a466-320956554e5c\",\"type\":\"CategoricalScale\"},\"y_range\":{\"id\":\"f9d302a9-b7d8-487d-91f1-e7485cc6b015\",\"type\":\"Range1d\"},\"y_scale\":{\"id\":\"7dfe4005-1420-441c-b25b-dc30c780c1f6\",\"type\":\"LinearScale\"}},\"id\":\"68f30bc0-17be-4137-a73e-af44aba3e272\",\"subtype\":\"Chart\",\"type\":\"Plot\"},{\"attributes\":{},\"id\":\"8d13bb29-cdf9-4bc9-a16b-d29e0d3433b1\",\"type\":\"CategoricalTickFormatter\"}],\"root_ids\":[\"68f30bc0-17be-4137-a73e-af44aba3e272\"]},\"title\":\"Bokeh Application\",\"version\":\"0.12.6\"}};\n",
       "            var render_items = [{\"docid\":\"b426c333-7977-4c21-8abe-356900bc6e5d\",\"elementid\":\"000bc13c-a6d5-49eb-aa1e-20b122172e5b\",\"modelid\":\"68f30bc0-17be-4137-a73e-af44aba3e272\"}];\n",
       "            \n",
       "            Bokeh.embed.embed_items(docs_json, render_items);\n",
       "          };\n",
       "          if (document.readyState != \"loading\") fn();\n",
       "          else document.addEventListener(\"DOMContentLoaded\", fn);\n",
       "        })();\n",
       "      },\n",
       "      function(Bokeh) {\n",
       "      }\n",
       "    ];\n",
       "  \n",
       "    function run_inline_js() {\n",
       "      \n",
       "      if ((window.Bokeh !== undefined) || (force === true)) {\n",
       "        for (var i = 0; i < inline_js.length; i++) {\n",
       "          inline_js[i](window.Bokeh);\n",
       "        }if (force === true) {\n",
       "          display_loaded();\n",
       "        }} else if (Date.now() < window._bokeh_timeout) {\n",
       "        setTimeout(run_inline_js, 100);\n",
       "      } else if (!window._bokeh_failed_load) {\n",
       "        console.log(\"Bokeh: BokehJS failed to load within specified timeout.\");\n",
       "        window._bokeh_failed_load = true;\n",
       "      } else if (force !== true) {\n",
       "        var cell = $(document.getElementById(\"000bc13c-a6d5-49eb-aa1e-20b122172e5b\")).parents('.cell').data().cell;\n",
       "        cell.output_area.append_execute_result(NB_LOAD_WARNING)\n",
       "      }\n",
       "  \n",
       "    }\n",
       "  \n",
       "    if (window._bokeh_is_loading === 0) {\n",
       "      console.log(\"Bokeh: BokehJS loaded, going straight to plotting\");\n",
       "      run_inline_js();\n",
       "    } else {\n",
       "      load_libs(js_urls, function() {\n",
       "        console.log(\"Bokeh: BokehJS plotting callback run at\", now());\n",
       "        run_inline_js();\n",
       "      });\n",
       "    }\n",
       "  }(this));\n",
       "</script>"
      ]
     },
     "metadata": {},
     "output_type": "display_data"
    }
   ],
   "source": [
    "bar = Bar(data, values='Train Time Ratio', agg='mean', label=['label'],\n",
    "          plot_width=300, plot_height=400, bar_width=0.5, color='#ffcc99')\n",
    "bar.axis[0].axis_label=''\n",
    "bar.y_range = Range1d(0, 8)\n",
    "bar.axis[1].axis_label='Train Time Ratio (XGBoost/LightGBM)'\n",
    "bar.axis[1].axis_label_text_font_size='12pt'\n",
    "bar.toolbar_location='above'\n",
    "bar.legend[0].visible=False\n",
    "show(bar)"
   ]
  },
  {
   "cell_type": "code",
   "execution_count": 22,
   "metadata": {
    "collapsed": false
   },
   "outputs": [
    {
     "name": "stderr",
     "output_type": "stream",
     "text": [
      "WARNING:bokeh.io:The webdriver raised a TimeoutException while waiting for                      a 'bokeh:idle' event to signify that the layout has rendered.                      Something may have gone wrong.\n"
     ]
    },
    {
     "data": {
      "image/svg+xml": [
       "<svg height=\"400\" style=\"width: 300px; height: 400px;\" version=\"1.1\" width=\"300\" xmlns=\"http://www.w3.org/2000/svg\" xmlns:xlink=\"http://www.w3.org/1999/xlink\"><defs/><g><g/><g transform=\"scale(1,1) translate(0.5,0.5)\"><rect fill=\"#FFFFFF\" height=\"400\" stroke=\"none\" width=\"300\" x=\"0\" y=\"0\"/><rect fill=\"#ffffff\" height=\"400\" stroke=\"none\" width=\"300\" x=\"0\" y=\"0\"/><rect fill=\"#FFFFFF\" height=\"303.525042336355\" stroke=\"none\" width=\"253.08718749999997\" x=\"41.912812500000015\" y=\"29\"/><rect fill=\"#ffffff\" height=\"303.525042336355\" stroke=\"none\" width=\"253.08718749999997\" x=\"41.912812500000015\" y=\"29\"/><g><rect fill=\"none\" height=\"303.525042336355\" stroke=\"#e5e5e5\" stroke-miterlimit=\"10\" width=\"253.08718749999997\" x=\"41.912812500000015\" y=\"29\"/></g><g><g><path d=\" M 42 295 L 295 295\" fill=\"none\" paint-order=\"fill stroke markers\" stroke=\"#e5e5e5\" stroke-miterlimit=\"10\"/><path d=\" M 42 257 L 295 257\" fill=\"none\" paint-order=\"fill stroke markers\" stroke=\"#e5e5e5\" stroke-miterlimit=\"10\"/><path d=\" M 42 219 L 295 219\" fill=\"none\" paint-order=\"fill stroke markers\" stroke=\"#e5e5e5\" stroke-miterlimit=\"10\"/><path d=\" M 42 181 L 295 181\" fill=\"none\" paint-order=\"fill stroke markers\" stroke=\"#e5e5e5\" stroke-miterlimit=\"10\"/><path d=\" M 42 143 L 295 143\" fill=\"none\" paint-order=\"fill stroke markers\" stroke=\"#e5e5e5\" stroke-miterlimit=\"10\"/><path d=\" M 42 105 L 295 105\" fill=\"none\" paint-order=\"fill stroke markers\" stroke=\"#e5e5e5\" stroke-miterlimit=\"10\"/><path d=\" M 42 67 L 295 67\" fill=\"none\" paint-order=\"fill stroke markers\" stroke=\"#e5e5e5\" stroke-miterlimit=\"10\"/></g><g><path fill=\"none\" stroke=\"none\"/><rect fill=\"#ffcc99\" fill-opacity=\"0.8\" height=\"115.54136277394568\" stroke=\"none\" width=\"63.27179687500029\" x=\"73.5487109375\" y=\"216.98367956240935\"/><path d=\" M 73.5487109375 216.98367956240935 L 136.8205078125003 216.98367956240935 L 136.8205078125003 332.525042336355 L 73.5487109375 332.525042336355 L 73.5487109375 216.98367956240935 Z\" fill=\"none\" paint-order=\"fill stroke markers\" stroke=\"white\" stroke-miterlimit=\"10\"/><path d=\"\" fill=\"none\" paint-order=\"fill stroke markers\" stroke=\"white\" stroke-miterlimit=\"10\"/></g><g><path fill=\"none\" stroke=\"none\"/><rect fill=\"#ffcc99\" fill-opacity=\"0.8\" height=\"141.26015685360133\" stroke=\"none\" width=\"63.27179687500029\" x=\"200.0923046875\" y=\"191.2648854827537\"/><path d=\" M 200.0923046875 191.2648854827537 L 263.3641015625003 191.2648854827537 L 263.3641015625003 332.525042336355 L 200.0923046875 332.525042336355 L 200.0923046875 191.2648854827537 Z\" fill=\"none\" paint-order=\"fill stroke markers\" stroke=\"white\" stroke-miterlimit=\"10\"/><path d=\"\" fill=\"none\" paint-order=\"fill stroke markers\" stroke=\"white\" stroke-miterlimit=\"10\"/></g></g><g/><g><g fill=\"#444444\"><path d=\" M 42 333 L 295 333\" fill=\"none\" paint-order=\"fill stroke markers\" stroke=\"black\" stroke-miterlimit=\"10\"/><path d=\" M 105 339 L 105 331\" fill=\"none\" paint-order=\"fill stroke markers\" stroke=\"black\" stroke-miterlimit=\"10\"/><path d=\" M 232 339 L 232 331\" fill=\"\" paint-order=\"fill stroke markers\" stroke=\"black\" stroke-miterlimit=\"10\"/><g transform=\"translate(105.18460937500001,343.525042336355) rotate(-45,0,0)\"><text dominant-baseline=\"central\" fill=\"\" font-family=\"helvetica\" font-size=\"8pt\" font-style=\"normal\" font-weight=\"normal\" stroke=\"none\" text-anchor=\"end\" text-decoration=\"normal\" x=\"0\" y=\"0\">Airline_GPU</text><g transform=\"rotate(45,0,0) translate(-105.18460937500001,-343.525042336355) translate(231.728203125,343.525042336355) rotate(-45,0,0)\"><text dominant-baseline=\"central\" fill=\"\" font-family=\"helvetica\" font-size=\"8pt\" font-style=\"normal\" font-weight=\"normal\" stroke=\"none\" text-anchor=\"end\" text-decoration=\"normal\" x=\"0\" y=\"0\">HIGGS_GPU</text><g transform=\"rotate(45,0,0) translate(-231.728203125,-343.525042336355)\"><text dominant-baseline=\"hanging\" fill=\"\" font-family=\"helvetica\" font-size=\"10pt\" font-style=\"italic\" font-weight=\"normal\" stroke=\"none\" text-anchor=\"middle\" text-decoration=\"normal\" x=\"168.45640625000001\" y=\"404\"/></g></g></g></g><g><path d=\" M 42 333 L 42 29\" fill=\"none\" paint-order=\"fill stroke markers\" stroke=\"black\" stroke-miterlimit=\"10\"/><path d=\" M 36 333 L 44 333\" fill=\"none\" paint-order=\"fill stroke markers\" stroke=\"black\" stroke-miterlimit=\"10\"/><path d=\" M 36 295 L 44 295\" fill=\"none\" paint-order=\"fill stroke markers\" stroke=\"black\" stroke-miterlimit=\"10\"/><path d=\" M 36 257 L 44 257\" fill=\"none\" paint-order=\"fill stroke markers\" stroke=\"black\" stroke-miterlimit=\"10\"/><path d=\" M 36 219 L 44 219\" fill=\"none\" paint-order=\"fill stroke markers\" stroke=\"black\" stroke-miterlimit=\"10\"/><path d=\" M 36 181 L 44 181\" fill=\"none\" paint-order=\"fill stroke markers\" stroke=\"black\" stroke-miterlimit=\"10\"/><path d=\" M 36 143 L 44 143\" fill=\"none\" paint-order=\"fill stroke markers\" stroke=\"black\" stroke-miterlimit=\"10\"/><path d=\" M 36 105 L 44 105\" fill=\"none\" paint-order=\"fill stroke markers\" stroke=\"black\" stroke-miterlimit=\"10\"/><path d=\" M 36 67 L 44 67\" fill=\"none\" paint-order=\"fill stroke markers\" stroke=\"black\" stroke-miterlimit=\"10\"/><path d=\" M 36 29 L 44 29\" fill=\"none\" paint-order=\"fill stroke markers\" stroke=\"black\" stroke-miterlimit=\"10\"/><path d=\" M 38 333 L 42 333\" fill=\"none\" paint-order=\"fill stroke markers\" stroke=\"black\" stroke-miterlimit=\"10\"/><path d=\" M 38 325 L 42 325\" fill=\"none\" paint-order=\"fill stroke markers\" stroke=\"black\" stroke-miterlimit=\"10\"/><path d=\" M 38 317 L 42 317\" fill=\"none\" paint-order=\"fill stroke markers\" stroke=\"black\" stroke-miterlimit=\"10\"/><path d=\" M 38 310 L 42 310\" fill=\"none\" paint-order=\"fill stroke markers\" stroke=\"black\" stroke-miterlimit=\"10\"/><path d=\" M 38 302 L 42 302\" fill=\"none\" paint-order=\"fill stroke markers\" stroke=\"black\" stroke-miterlimit=\"10\"/><path d=\" M 38 295 L 42 295\" fill=\"none\" paint-order=\"fill stroke markers\" stroke=\"black\" stroke-miterlimit=\"10\"/><path d=\" M 38 287 L 42 287\" fill=\"none\" paint-order=\"fill stroke markers\" stroke=\"black\" stroke-miterlimit=\"10\"/><path d=\" M 38 279 L 42 279\" fill=\"none\" paint-order=\"fill stroke markers\" stroke=\"black\" stroke-miterlimit=\"10\"/><path d=\" M 38 272 L 42 272\" fill=\"none\" paint-order=\"fill stroke markers\" stroke=\"black\" stroke-miterlimit=\"10\"/><path d=\" M 38 264 L 42 264\" fill=\"none\" paint-order=\"fill stroke markers\" stroke=\"black\" stroke-miterlimit=\"10\"/><path d=\" M 38 257 L 42 257\" fill=\"none\" paint-order=\"fill stroke markers\" stroke=\"black\" stroke-miterlimit=\"10\"/><path d=\" M 38 249 L 42 249\" fill=\"none\" paint-order=\"fill stroke markers\" stroke=\"black\" stroke-miterlimit=\"10\"/><path d=\" M 38 241 L 42 241\" fill=\"none\" paint-order=\"fill stroke markers\" stroke=\"black\" stroke-miterlimit=\"10\"/><path d=\" M 38 234 L 42 234\" fill=\"none\" paint-order=\"fill stroke markers\" stroke=\"black\" stroke-miterlimit=\"10\"/><path d=\" M 38 226 L 42 226\" fill=\"none\" paint-order=\"fill stroke markers\" stroke=\"black\" stroke-miterlimit=\"10\"/><path d=\" M 38 219 L 42 219\" fill=\"none\" paint-order=\"fill stroke markers\" stroke=\"black\" stroke-miterlimit=\"10\"/><path d=\" M 38 211 L 42 211\" fill=\"none\" paint-order=\"fill stroke markers\" stroke=\"black\" stroke-miterlimit=\"10\"/><path d=\" M 38 204 L 42 204\" fill=\"none\" paint-order=\"fill stroke markers\" stroke=\"black\" stroke-miterlimit=\"10\"/><path d=\" M 38 196 L 42 196\" fill=\"none\" paint-order=\"fill stroke markers\" stroke=\"black\" stroke-miterlimit=\"10\"/><path d=\" M 38 188 L 42 188\" fill=\"none\" paint-order=\"fill stroke markers\" stroke=\"black\" stroke-miterlimit=\"10\"/><path d=\" M 38 181 L 42 181\" fill=\"none\" paint-order=\"fill stroke markers\" stroke=\"black\" stroke-miterlimit=\"10\"/><path d=\" M 38 173 L 42 173\" fill=\"none\" paint-order=\"fill stroke markers\" stroke=\"black\" stroke-miterlimit=\"10\"/><path d=\" M 38 166 L 42 166\" fill=\"none\" paint-order=\"fill stroke markers\" stroke=\"black\" stroke-miterlimit=\"10\"/><path d=\" M 38 158 L 42 158\" fill=\"none\" paint-order=\"fill stroke markers\" stroke=\"black\" stroke-miterlimit=\"10\"/><path d=\" M 38 150 L 42 150\" fill=\"none\" paint-order=\"fill stroke markers\" stroke=\"black\" stroke-miterlimit=\"10\"/><path d=\" M 38 143 L 42 143\" fill=\"none\" paint-order=\"fill stroke markers\" stroke=\"black\" stroke-miterlimit=\"10\"/><path d=\" M 38 135 L 42 135\" fill=\"none\" paint-order=\"fill stroke markers\" stroke=\"black\" stroke-miterlimit=\"10\"/><path d=\" M 38 128 L 42 128\" fill=\"none\" paint-order=\"fill stroke markers\" stroke=\"black\" stroke-miterlimit=\"10\"/><path d=\" M 38 120 L 42 120\" fill=\"none\" paint-order=\"fill stroke markers\" stroke=\"black\" stroke-miterlimit=\"10\"/><path d=\" M 38 112 L 42 112\" fill=\"none\" paint-order=\"fill stroke markers\" stroke=\"black\" stroke-miterlimit=\"10\"/><path d=\" M 38 105 L 42 105\" fill=\"none\" paint-order=\"fill stroke markers\" stroke=\"black\" stroke-miterlimit=\"10\"/><path d=\" M 38 97 L 42 97\" fill=\"none\" paint-order=\"fill stroke markers\" stroke=\"black\" stroke-miterlimit=\"10\"/><path d=\" M 38 90 L 42 90\" fill=\"none\" paint-order=\"fill stroke markers\" stroke=\"black\" stroke-miterlimit=\"10\"/><path d=\" M 38 82 L 42 82\" fill=\"none\" paint-order=\"fill stroke markers\" stroke=\"black\" stroke-miterlimit=\"10\"/><path d=\" M 38 75 L 42 75\" fill=\"none\" paint-order=\"fill stroke markers\" stroke=\"black\" stroke-miterlimit=\"10\"/><path d=\" M 38 67 L 42 67\" fill=\"none\" paint-order=\"fill stroke markers\" stroke=\"black\" stroke-miterlimit=\"10\"/><path d=\" M 38 59 L 42 59\" fill=\"none\" paint-order=\"fill stroke markers\" stroke=\"black\" stroke-miterlimit=\"10\"/><path d=\" M 38 52 L 42 52\" fill=\"none\" paint-order=\"fill stroke markers\" stroke=\"black\" stroke-miterlimit=\"10\"/><path d=\" M 38 44 L 42 44\" fill=\"none\" paint-order=\"fill stroke markers\" stroke=\"black\" stroke-miterlimit=\"10\"/><path d=\" M 38 37 L 42 37\" fill=\"none\" paint-order=\"fill stroke markers\" stroke=\"black\" stroke-miterlimit=\"10\"/><path d=\" M 38 29 L 42 29\" fill=\"none\" paint-order=\"fill stroke markers\" stroke=\"black\" stroke-miterlimit=\"10\"/><text dominant-baseline=\"central\" fill=\"#444444\" font-family=\"helvetica\" font-size=\"8pt\" font-style=\"normal\" font-weight=\"normal\" stroke=\"none\" text-anchor=\"end\" text-decoration=\"normal\" x=\"31\" y=\"333\">0</text><text dominant-baseline=\"central\" fill=\"#444444\" font-family=\"helvetica\" font-size=\"8pt\" font-style=\"normal\" font-weight=\"normal\" stroke=\"none\" text-anchor=\"end\" text-decoration=\"normal\" x=\"31\" y=\"295\">1</text><text dominant-baseline=\"central\" fill=\"#444444\" font-family=\"helvetica\" font-size=\"8pt\" font-style=\"normal\" font-weight=\"normal\" stroke=\"none\" text-anchor=\"end\" text-decoration=\"normal\" x=\"31\" y=\"257\">2</text><text dominant-baseline=\"central\" fill=\"#444444\" font-family=\"helvetica\" font-size=\"8pt\" font-style=\"normal\" font-weight=\"normal\" stroke=\"none\" text-anchor=\"end\" text-decoration=\"normal\" x=\"31\" y=\"219\">3</text><text dominant-baseline=\"central\" fill=\"#444444\" font-family=\"helvetica\" font-size=\"8pt\" font-style=\"normal\" font-weight=\"normal\" stroke=\"none\" text-anchor=\"end\" text-decoration=\"normal\" x=\"31\" y=\"181\">4</text><text dominant-baseline=\"central\" fill=\"#444444\" font-family=\"helvetica\" font-size=\"8pt\" font-style=\"normal\" font-weight=\"normal\" stroke=\"none\" text-anchor=\"end\" text-decoration=\"normal\" x=\"31\" y=\"143\">5</text><text dominant-baseline=\"central\" fill=\"#444444\" font-family=\"helvetica\" font-size=\"8pt\" font-style=\"normal\" font-weight=\"normal\" stroke=\"none\" text-anchor=\"end\" text-decoration=\"normal\" x=\"31\" y=\"105\">6</text><text dominant-baseline=\"central\" fill=\"#444444\" font-family=\"helvetica\" font-size=\"8pt\" font-style=\"normal\" font-weight=\"normal\" stroke=\"none\" text-anchor=\"end\" text-decoration=\"normal\" x=\"31\" y=\"67\">7</text><text dominant-baseline=\"central\" fill=\"#444444\" font-family=\"helvetica\" font-size=\"8pt\" font-style=\"normal\" font-weight=\"normal\" stroke=\"none\" text-anchor=\"end\" text-decoration=\"normal\" x=\"31\" y=\"29\">8</text><g transform=\"translate(19.192500000000017,180.7625211681775) rotate(-90,0,0)\"><text dominant-baseline=\"alphabetic\" fill=\"#444444\" font-family=\"helvetica\" font-size=\"12pt\" font-style=\"italic\" font-weight=\"normal\" stroke=\"none\" text-anchor=\"middle\" text-decoration=\"normal\" x=\"0\" y=\"0\">Train Time Ratio (XGBoost/LightGBM)</text><g transform=\"rotate(90,0,0) translate(-19.192500000000017,-180.7625211681775)\"/></g></g></g></g></g></svg>"
      ],
      "text/plain": [
       "<IPython.core.display.SVG object>"
      ]
     },
     "metadata": {},
     "output_type": "display_data"
    }
   ],
   "source": [
    "bar.output_backend = \"svg\"\n",
    "export_svgs(bar, filename=\"xgb_vs_lgbm_train_time_gpu.svg\")\n",
    "display(SVG('xgb_vs_lgbm_train_time_gpu.svg'))"
   ]
  },
  {
   "cell_type": "code",
   "execution_count": 23,
   "metadata": {
    "collapsed": true,
    "deletable": true,
    "editable": true
   },
   "outputs": [],
   "source": [
    "data = {\n",
    "    'Perf. Difference(%)': results_df['Perf. Difference(%)'].values,\n",
    "    'label': results_df.index.values\n",
    "}"
   ]
  },
  {
   "cell_type": "code",
   "execution_count": 24,
   "metadata": {
    "collapsed": false,
    "deletable": true,
    "editable": true
   },
   "outputs": [
    {
     "data": {
      "text/html": [
       "\n",
       "\n",
       "    <div class=\"bk-root\">\n",
       "        <div class=\"bk-plotdiv\" id=\"12ae8ce6-b6a9-429b-8140-65025fcd393c\"></div>\n",
       "    </div>\n",
       "<script type=\"text/javascript\">\n",
       "  \n",
       "  (function(global) {\n",
       "    function now() {\n",
       "      return new Date();\n",
       "    }\n",
       "  \n",
       "    var force = false;\n",
       "  \n",
       "    if (typeof (window._bokeh_onload_callbacks) === \"undefined\" || force === true) {\n",
       "      window._bokeh_onload_callbacks = [];\n",
       "      window._bokeh_is_loading = undefined;\n",
       "    }\n",
       "  \n",
       "  \n",
       "    \n",
       "    if (typeof (window._bokeh_timeout) === \"undefined\" || force === true) {\n",
       "      window._bokeh_timeout = Date.now() + 0;\n",
       "      window._bokeh_failed_load = false;\n",
       "    }\n",
       "  \n",
       "    var NB_LOAD_WARNING = {'data': {'text/html':\n",
       "       \"<div style='background-color: #fdd'>\\n\"+\n",
       "       \"<p>\\n\"+\n",
       "       \"BokehJS does not appear to have successfully loaded. If loading BokehJS from CDN, this \\n\"+\n",
       "       \"may be due to a slow or bad network connection. Possible fixes:\\n\"+\n",
       "       \"</p>\\n\"+\n",
       "       \"<ul>\\n\"+\n",
       "       \"<li>re-rerun `output_notebook()` to attempt to load from CDN again, or</li>\\n\"+\n",
       "       \"<li>use INLINE resources instead, as so:</li>\\n\"+\n",
       "       \"</ul>\\n\"+\n",
       "       \"<code>\\n\"+\n",
       "       \"from bokeh.resources import INLINE\\n\"+\n",
       "       \"output_notebook(resources=INLINE)\\n\"+\n",
       "       \"</code>\\n\"+\n",
       "       \"</div>\"}};\n",
       "  \n",
       "    function display_loaded() {\n",
       "      if (window.Bokeh !== undefined) {\n",
       "        var el = document.getElementById(\"12ae8ce6-b6a9-429b-8140-65025fcd393c\");\n",
       "        el.textContent = \"BokehJS \" + Bokeh.version + \" successfully loaded.\";\n",
       "      } else if (Date.now() < window._bokeh_timeout) {\n",
       "        setTimeout(display_loaded, 100)\n",
       "      }\n",
       "    }\n",
       "  \n",
       "    function run_callbacks() {\n",
       "      try {\n",
       "        window._bokeh_onload_callbacks.forEach(function(callback) { callback() });\n",
       "      }\n",
       "      finally {\n",
       "        delete window._bokeh_onload_callbacks\n",
       "      }\n",
       "      console.info(\"Bokeh: all callbacks have finished\");\n",
       "    }\n",
       "  \n",
       "    function load_libs(js_urls, callback) {\n",
       "      window._bokeh_onload_callbacks.push(callback);\n",
       "      if (window._bokeh_is_loading > 0) {\n",
       "        console.log(\"Bokeh: BokehJS is being loaded, scheduling callback at\", now());\n",
       "        return null;\n",
       "      }\n",
       "      if (js_urls == null || js_urls.length === 0) {\n",
       "        run_callbacks();\n",
       "        return null;\n",
       "      }\n",
       "      console.log(\"Bokeh: BokehJS not loaded, scheduling load and callback at\", now());\n",
       "      window._bokeh_is_loading = js_urls.length;\n",
       "      for (var i = 0; i < js_urls.length; i++) {\n",
       "        var url = js_urls[i];\n",
       "        var s = document.createElement('script');\n",
       "        s.src = url;\n",
       "        s.async = false;\n",
       "        s.onreadystatechange = s.onload = function() {\n",
       "          window._bokeh_is_loading--;\n",
       "          if (window._bokeh_is_loading === 0) {\n",
       "            console.log(\"Bokeh: all BokehJS libraries loaded\");\n",
       "            run_callbacks()\n",
       "          }\n",
       "        };\n",
       "        s.onerror = function() {\n",
       "          console.warn(\"failed to load library \" + url);\n",
       "        };\n",
       "        console.log(\"Bokeh: injecting script tag for BokehJS library: \", url);\n",
       "        document.getElementsByTagName(\"head\")[0].appendChild(s);\n",
       "      }\n",
       "    };var element = document.getElementById(\"12ae8ce6-b6a9-429b-8140-65025fcd393c\");\n",
       "    if (element == null) {\n",
       "      console.log(\"Bokeh: ERROR: autoload.js configured with elementid '12ae8ce6-b6a9-429b-8140-65025fcd393c' but no matching script tag was found. \")\n",
       "      return false;\n",
       "    }\n",
       "  \n",
       "    var js_urls = [];\n",
       "  \n",
       "    var inline_js = [\n",
       "      function(Bokeh) {\n",
       "        (function() {\n",
       "          var fn = function() {\n",
       "            var docs_json = {\"151e7253-d58b-477e-af69-013c8f4d2401\":{\"roots\":{\"references\":[{\"attributes\":{\"items\":[{\"id\":\"6b7de9c2-3eb3-4818-a44c-b5a36d983a64\",\"type\":\"LegendItem\"},{\"id\":\"de5a0c49-8de2-4a15-9d53-377d5f71b1da\",\"type\":\"LegendItem\"},{\"id\":\"fcea6c04-ad5a-44d0-9e14-954b4d9b3c83\",\"type\":\"LegendItem\"},{\"id\":\"4915d3f7-e13d-4163-82d5-49cc924b5600\",\"type\":\"LegendItem\"},{\"id\":\"8c81f76f-53ef-4336-a8d6-349a322d12f3\",\"type\":\"LegendItem\"},{\"id\":\"aa932aa6-5170-40ef-b631-d965c43accd3\",\"type\":\"LegendItem\"},{\"id\":\"cac9acbe-3918-4b29-9ad4-4b54ef72c801\",\"type\":\"LegendItem\"}],\"location\":\"top_left\",\"plot\":{\"id\":\"6e56de75-b7c8-41e2-a5e3-0d9969dd3a2f\",\"subtype\":\"Chart\",\"type\":\"Plot\"},\"visible\":false},\"id\":\"3466025b-3224-4311-b0e7-fd855d3493de\",\"type\":\"Legend\"},{\"attributes\":{\"axis_label\":\"Perf. Difference(%)\",\"formatter\":{\"id\":\"63ea9116-f196-4700-97e7-7db43125a124\",\"type\":\"BasicTickFormatter\"},\"plot\":{\"id\":\"6e56de75-b7c8-41e2-a5e3-0d9969dd3a2f\",\"subtype\":\"Chart\",\"type\":\"Plot\"},\"ticker\":{\"id\":\"04c4cb94-e718-4346-979e-8fb665a19617\",\"type\":\"BasicTicker\"}},\"id\":\"b7250d12-4847-4e8d-806b-197d247707c7\",\"type\":\"LinearAxis\"},{\"attributes\":{},\"id\":\"e807e2cd-8750-4a74-970c-1f4030c4eb50\",\"type\":\"CategoricalScale\"},{\"attributes\":{\"active_drag\":\"auto\",\"active_inspect\":\"auto\",\"active_scroll\":\"auto\",\"active_tap\":\"auto\",\"tools\":[{\"id\":\"25cda18e-2aa5-48fb-9540-69ad46d1b54a\",\"type\":\"PanTool\"},{\"id\":\"e7e05a3c-0020-43b9-a0fa-14e7542f45c2\",\"type\":\"WheelZoomTool\"},{\"id\":\"55884cf7-3db4-4d08-bb75-b6733f910eb0\",\"type\":\"BoxZoomTool\"},{\"id\":\"1b2c0c4b-de55-4146-ba7d-c390a0d2bcd1\",\"type\":\"SaveTool\"},{\"id\":\"36b9376f-3313-467e-816d-60bbc14e5ed2\",\"type\":\"ResetTool\"},{\"id\":\"012c80f4-ab48-4111-a7d5-a5a81d0a4aec\",\"type\":\"HelpTool\"}]},\"id\":\"a322f306-e546-4705-814a-b30284ba9b4c\",\"type\":\"Toolbar\"},{\"attributes\":{},\"id\":\"04c4cb94-e718-4346-979e-8fb665a19617\",\"type\":\"BasicTicker\"},{\"attributes\":{\"dimension\":1,\"plot\":{\"id\":\"6e56de75-b7c8-41e2-a5e3-0d9969dd3a2f\",\"subtype\":\"Chart\",\"type\":\"Plot\"},\"ticker\":{\"id\":\"04c4cb94-e718-4346-979e-8fb665a19617\",\"type\":\"BasicTicker\"}},\"id\":\"3cc1d252-6a3d-48c5-9b9d-234093ad9831\",\"type\":\"Grid\"},{\"attributes\":{\"callback\":null,\"column_names\":[\"x\",\"y\",\"width\",\"height\",\"color\",\"fill_alpha\",\"line_color\",\"line_alpha\",\"label\"],\"data\":{\"chart_index\":[{\"label\":\"Airline\"}],\"color\":[\"#5975a4\"],\"fill_alpha\":[0.8],\"height\":[-0.02599412423365921],\"label\":[\"Airline\"],\"line_alpha\":[1.0],\"line_color\":[\"white\"],\"width\":[0.7],\"x\":[\"Airline\"],\"y\":[-0.012997062116829605]}},\"id\":\"51475fbf-d5bd-4a60-bb32-12044c340554\",\"type\":\"ColumnDataSource\"},{\"attributes\":{\"label\":{\"value\":\"Airline\"},\"renderers\":[{\"id\":\"f03b85f9-cc9a-42e8-bde0-4be75b7b1b8c\",\"type\":\"GlyphRenderer\"}]},\"id\":\"6b7de9c2-3eb3-4818-a44c-b5a36d983a64\",\"type\":\"LegendItem\"},{\"attributes\":{},\"id\":\"2c971833-bee4-4faf-9920-8be3b1e9e917\",\"type\":\"LinearScale\"},{\"attributes\":{\"plot\":null,\"text\":null},\"id\":\"744de6aa-9799-4d5f-8b33-68c9c2749b7a\",\"type\":\"Title\"},{\"attributes\":{},\"id\":\"63ea9116-f196-4700-97e7-7db43125a124\",\"type\":\"BasicTickFormatter\"},{\"attributes\":{\"fill_alpha\":{\"field\":\"fill_alpha\"},\"fill_color\":{\"field\":\"color\"},\"height\":{\"field\":\"height\",\"units\":\"data\"},\"line_color\":{\"field\":\"line_color\"},\"width\":{\"field\":\"width\",\"units\":\"data\"},\"x\":{\"field\":\"x\"},\"y\":{\"field\":\"y\"}},\"id\":\"151e7115-ac7e-47ca-a9d9-88a3c0601bdf\",\"type\":\"Rect\"},{\"attributes\":{\"callback\":null,\"column_names\":[\"x\",\"y\",\"width\",\"height\",\"color\",\"fill_alpha\",\"line_color\",\"line_alpha\",\"label\"],\"data\":{\"chart_index\":[{\"label\":\"Football\"}],\"color\":[\"#5975a4\"],\"fill_alpha\":[0.8],\"height\":[-0.5899161830473475],\"label\":[\"Football\"],\"line_alpha\":[1.0],\"line_color\":[\"white\"],\"width\":[0.7],\"x\":[\"Football\"],\"y\":[-0.29495809152367375]}},\"id\":\"9d45d8b4-71f2-4aa8-8dae-752f78054196\",\"type\":\"ColumnDataSource\"},{\"attributes\":{\"callback\":null,\"end\":16.432245900365857,\"start\":-1.8078444035240113},\"id\":\"58ffb78b-d939-46f6-8477-d10649aa93b9\",\"type\":\"Range1d\"},{\"attributes\":{\"data_source\":{\"id\":\"9d45d8b4-71f2-4aa8-8dae-752f78054196\",\"type\":\"ColumnDataSource\"},\"glyph\":{\"id\":\"151e7115-ac7e-47ca-a9d9-88a3c0601bdf\",\"type\":\"Rect\"},\"hover_glyph\":null,\"muted_glyph\":null},\"id\":\"0f4087db-780e-452b-a723-0a3b09168275\",\"type\":\"GlyphRenderer\"},{\"attributes\":{\"bottom_units\":\"screen\",\"fill_alpha\":{\"value\":0.5},\"fill_color\":{\"value\":\"lightgrey\"},\"left_units\":\"screen\",\"level\":\"overlay\",\"line_alpha\":{\"value\":1.0},\"line_color\":{\"value\":\"black\"},\"line_dash\":[4,4],\"line_width\":{\"value\":2},\"plot\":null,\"render_mode\":\"css\",\"right_units\":\"screen\",\"top_units\":\"screen\"},\"id\":\"451ba683-9cad-4918-b14a-fc21af0d13f0\",\"type\":\"BoxAnnotation\"},{\"attributes\":{},\"id\":\"3f90e98f-b4fc-4640-a959-df455294f3c8\",\"type\":\"CategoricalTickFormatter\"},{\"attributes\":{\"plot\":{\"id\":\"6e56de75-b7c8-41e2-a5e3-0d9969dd3a2f\",\"subtype\":\"Chart\",\"type\":\"Plot\"}},\"id\":\"25cda18e-2aa5-48fb-9540-69ad46d1b54a\",\"type\":\"PanTool\"},{\"attributes\":{\"plot\":{\"id\":\"6e56de75-b7c8-41e2-a5e3-0d9969dd3a2f\",\"subtype\":\"Chart\",\"type\":\"Plot\"}},\"id\":\"e7e05a3c-0020-43b9-a0fa-14e7542f45c2\",\"type\":\"WheelZoomTool\"},{\"attributes\":{\"overlay\":{\"id\":\"451ba683-9cad-4918-b14a-fc21af0d13f0\",\"type\":\"BoxAnnotation\"},\"plot\":{\"id\":\"6e56de75-b7c8-41e2-a5e3-0d9969dd3a2f\",\"subtype\":\"Chart\",\"type\":\"Plot\"}},\"id\":\"55884cf7-3db4-4d08-bb75-b6733f910eb0\",\"type\":\"BoxZoomTool\"},{\"attributes\":{\"plot\":{\"id\":\"6e56de75-b7c8-41e2-a5e3-0d9969dd3a2f\",\"subtype\":\"Chart\",\"type\":\"Plot\"}},\"id\":\"1b2c0c4b-de55-4146-ba7d-c390a0d2bcd1\",\"type\":\"SaveTool\"},{\"attributes\":{\"data_source\":{\"id\":\"8fad1b6c-e2c6-492e-a794-c0c44fcc2273\",\"type\":\"ColumnDataSource\"},\"glyph\":{\"id\":\"696b7260-5ff9-40fe-9f42-22083eccea12\",\"type\":\"Rect\"},\"hover_glyph\":null,\"muted_glyph\":null},\"id\":\"b931a625-c4fd-4d41-8830-fb2c83cbdc28\",\"type\":\"GlyphRenderer\"},{\"attributes\":{\"plot\":{\"id\":\"6e56de75-b7c8-41e2-a5e3-0d9969dd3a2f\",\"subtype\":\"Chart\",\"type\":\"Plot\"}},\"id\":\"36b9376f-3313-467e-816d-60bbc14e5ed2\",\"type\":\"ResetTool\"},{\"attributes\":{\"plot\":{\"id\":\"6e56de75-b7c8-41e2-a5e3-0d9969dd3a2f\",\"subtype\":\"Chart\",\"type\":\"Plot\"}},\"id\":\"012c80f4-ab48-4111-a7d5-a5a81d0a4aec\",\"type\":\"HelpTool\"},{\"attributes\":{\"label\":{\"value\":\"Airline_GPU\"},\"renderers\":[{\"id\":\"d40f957e-b454-4707-9659-295783e78bcf\",\"type\":\"GlyphRenderer\"}]},\"id\":\"de5a0c49-8de2-4a15-9d53-377d5f71b1da\",\"type\":\"LegendItem\"},{\"attributes\":{\"callback\":null,\"column_names\":[\"x\",\"y\",\"width\",\"height\",\"color\",\"fill_alpha\",\"line_color\",\"line_alpha\",\"label\"],\"data\":{\"chart_index\":[{\"label\":\"Fraud\"}],\"color\":[\"#5975a4\"],\"fill_alpha\":[0.8],\"height\":[-1.0766243286819193],\"label\":[\"Fraud\"],\"line_alpha\":[1.0],\"line_color\":[\"white\"],\"width\":[0.7],\"x\":[\"Fraud\"],\"y\":[-0.5383121643409596]}},\"id\":\"8fad1b6c-e2c6-492e-a794-c0c44fcc2273\",\"type\":\"ColumnDataSource\"},{\"attributes\":{\"axis_label\":\"\",\"formatter\":{\"id\":\"3f90e98f-b4fc-4640-a959-df455294f3c8\",\"type\":\"CategoricalTickFormatter\"},\"major_label_orientation\":0.7853981633974483,\"plot\":{\"id\":\"6e56de75-b7c8-41e2-a5e3-0d9969dd3a2f\",\"subtype\":\"Chart\",\"type\":\"Plot\"},\"ticker\":{\"id\":\"2cf70762-da69-4114-88a4-b72ec201e880\",\"type\":\"CategoricalTicker\"}},\"id\":\"75383d71-422c-4bbc-9f1c-7450a0c4363b\",\"type\":\"CategoricalAxis\"},{\"attributes\":{},\"id\":\"2cf70762-da69-4114-88a4-b72ec201e880\",\"type\":\"CategoricalTicker\"},{\"attributes\":{\"label\":{\"value\":\"Amazon\"},\"renderers\":[{\"id\":\"b86eef41-5f1b-4bf3-ada7-698784a782c6\",\"type\":\"GlyphRenderer\"}]},\"id\":\"fcea6c04-ad5a-44d0-9e14-954b4d9b3c83\",\"type\":\"LegendItem\"},{\"attributes\":{\"label\":{\"value\":\"HIGGS_GPU\"},\"renderers\":[{\"id\":\"c23be572-80fb-480e-b137-63d02a3f9d3d\",\"type\":\"GlyphRenderer\"}]},\"id\":\"cac9acbe-3918-4b29-9ad4-4b54ef72c801\",\"type\":\"LegendItem\"},{\"attributes\":{\"fill_alpha\":{\"field\":\"fill_alpha\"},\"fill_color\":{\"field\":\"color\"},\"height\":{\"field\":\"height\",\"units\":\"data\"},\"line_color\":{\"field\":\"line_color\"},\"width\":{\"field\":\"width\",\"units\":\"data\"},\"x\":{\"field\":\"x\"},\"y\":{\"field\":\"y\"}},\"id\":\"9261ea0a-891d-43d1-8dc3-873a87bb2494\",\"type\":\"Rect\"},{\"attributes\":{\"fill_alpha\":{\"field\":\"fill_alpha\"},\"fill_color\":{\"field\":\"color\"},\"height\":{\"field\":\"height\",\"units\":\"data\"},\"line_color\":{\"field\":\"line_color\"},\"width\":{\"field\":\"width\",\"units\":\"data\"},\"x\":{\"field\":\"x\"},\"y\":{\"field\":\"y\"}},\"id\":\"7215f3b4-0027-414c-9777-46b7139fcb15\",\"type\":\"Rect\"},{\"attributes\":{\"below\":[{\"id\":\"75383d71-422c-4bbc-9f1c-7450a0c4363b\",\"type\":\"CategoricalAxis\"}],\"css_classes\":null,\"left\":[{\"id\":\"b7250d12-4847-4e8d-806b-197d247707c7\",\"type\":\"LinearAxis\"}],\"plot_height\":400,\"renderers\":[{\"id\":\"451ba683-9cad-4918-b14a-fc21af0d13f0\",\"type\":\"BoxAnnotation\"},{\"id\":\"f03b85f9-cc9a-42e8-bde0-4be75b7b1b8c\",\"type\":\"GlyphRenderer\"},{\"id\":\"d40f957e-b454-4707-9659-295783e78bcf\",\"type\":\"GlyphRenderer\"},{\"id\":\"b86eef41-5f1b-4bf3-ada7-698784a782c6\",\"type\":\"GlyphRenderer\"},{\"id\":\"eb6dd574-ead8-42d5-91e1-cd000ae0add3\",\"type\":\"GlyphRenderer\"},{\"id\":\"0f4087db-780e-452b-a723-0a3b09168275\",\"type\":\"GlyphRenderer\"},{\"id\":\"b931a625-c4fd-4d41-8830-fb2c83cbdc28\",\"type\":\"GlyphRenderer\"},{\"id\":\"c23be572-80fb-480e-b137-63d02a3f9d3d\",\"type\":\"GlyphRenderer\"},{\"id\":\"3466025b-3224-4311-b0e7-fd855d3493de\",\"type\":\"Legend\"},{\"id\":\"75383d71-422c-4bbc-9f1c-7450a0c4363b\",\"type\":\"CategoricalAxis\"},{\"id\":\"b7250d12-4847-4e8d-806b-197d247707c7\",\"type\":\"LinearAxis\"},{\"id\":\"3cc1d252-6a3d-48c5-9b9d-234093ad9831\",\"type\":\"Grid\"}],\"title\":{\"id\":\"744de6aa-9799-4d5f-8b33-68c9c2749b7a\",\"type\":\"Title\"},\"tool_events\":{\"id\":\"aa12721d-4f7c-4b47-85fb-b5534ca04062\",\"type\":\"ToolEvents\"},\"toolbar\":{\"id\":\"a322f306-e546-4705-814a-b30284ba9b4c\",\"type\":\"Toolbar\"},\"toolbar_location\":\"above\",\"x_range\":{\"id\":\"4c173e12-a77d-423a-a9f4-60280f9c18d7\",\"type\":\"FactorRange\"},\"x_scale\":{\"id\":\"e807e2cd-8750-4a74-970c-1f4030c4eb50\",\"type\":\"CategoricalScale\"},\"y_range\":{\"id\":\"58ffb78b-d939-46f6-8477-d10649aa93b9\",\"type\":\"Range1d\"},\"y_scale\":{\"id\":\"2c971833-bee4-4faf-9920-8be3b1e9e917\",\"type\":\"LinearScale\"}},\"id\":\"6e56de75-b7c8-41e2-a5e3-0d9969dd3a2f\",\"subtype\":\"Chart\",\"type\":\"Plot\"},{\"attributes\":{\"callback\":null,\"factors\":[\"Airline\",\"Airline_GPU\",\"Amazon\",\"BCI\",\"Football\",\"Fraud\",\"HIGGS_GPU\"]},\"id\":\"4c173e12-a77d-423a-a9f4-60280f9c18d7\",\"type\":\"FactorRange\"},{\"attributes\":{\"data_source\":{\"id\":\"d41f4021-8de3-4819-bd9f-6af2cc1ece17\",\"type\":\"ColumnDataSource\"},\"glyph\":{\"id\":\"9261ea0a-891d-43d1-8dc3-873a87bb2494\",\"type\":\"Rect\"},\"hover_glyph\":null,\"muted_glyph\":null},\"id\":\"c23be572-80fb-480e-b137-63d02a3f9d3d\",\"type\":\"GlyphRenderer\"},{\"attributes\":{\"label\":{\"value\":\"Fraud\"},\"renderers\":[{\"id\":\"b931a625-c4fd-4d41-8830-fb2c83cbdc28\",\"type\":\"GlyphRenderer\"}]},\"id\":\"aa932aa6-5170-40ef-b631-d965c43accd3\",\"type\":\"LegendItem\"},{\"attributes\":{\"label\":{\"value\":\"Football\"},\"renderers\":[{\"id\":\"0f4087db-780e-452b-a723-0a3b09168275\",\"type\":\"GlyphRenderer\"}]},\"id\":\"8c81f76f-53ef-4336-a8d6-349a322d12f3\",\"type\":\"LegendItem\"},{\"attributes\":{\"callback\":null,\"column_names\":[\"x\",\"y\",\"width\",\"height\",\"color\",\"fill_alpha\",\"line_color\",\"line_alpha\",\"label\"],\"data\":{\"chart_index\":[{\"label\":\"BCI\"}],\"color\":[\"#5975a4\"],\"fill_alpha\":[0.8],\"height\":[6.250870779377596],\"label\":[\"BCI\"],\"line_alpha\":[1.0],\"line_color\":[\"white\"],\"width\":[0.7],\"x\":[\"BCI\"],\"y\":[3.125435389688798]}},\"id\":\"8aee4645-b528-48fe-81d3-19a4bc8bf827\",\"type\":\"ColumnDataSource\"},{\"attributes\":{\"data_source\":{\"id\":\"5bb275a7-34ae-423c-99b3-451da7cfdc6d\",\"type\":\"ColumnDataSource\"},\"glyph\":{\"id\":\"7215f3b4-0027-414c-9777-46b7139fcb15\",\"type\":\"Rect\"},\"hover_glyph\":null,\"muted_glyph\":null},\"id\":\"d40f957e-b454-4707-9659-295783e78bcf\",\"type\":\"GlyphRenderer\"},{\"attributes\":{\"data_source\":{\"id\":\"51475fbf-d5bd-4a60-bb32-12044c340554\",\"type\":\"ColumnDataSource\"},\"glyph\":{\"id\":\"ae8e8738-4c0d-4db1-b202-fd509713802c\",\"type\":\"Rect\"},\"hover_glyph\":null,\"muted_glyph\":null},\"id\":\"f03b85f9-cc9a-42e8-bde0-4be75b7b1b8c\",\"type\":\"GlyphRenderer\"},{\"attributes\":{\"label\":{\"value\":\"BCI\"},\"renderers\":[{\"id\":\"eb6dd574-ead8-42d5-91e1-cd000ae0add3\",\"type\":\"GlyphRenderer\"}]},\"id\":\"4915d3f7-e13d-4163-82d5-49cc924b5600\",\"type\":\"LegendItem\"},{\"attributes\":{\"callback\":null,\"column_names\":[\"x\",\"y\",\"width\",\"height\",\"color\",\"fill_alpha\",\"line_color\",\"line_alpha\",\"label\"],\"data\":{\"chart_index\":[{\"label\":\"Airline_GPU\"}],\"color\":[\"#5975a4\"],\"fill_alpha\":[0.8],\"height\":[0.9304488366268904],\"label\":[\"Airline_GPU\"],\"line_alpha\":[1.0],\"line_color\":[\"white\"],\"width\":[0.7],\"x\":[\"Airline_GPU\"],\"y\":[0.4652244183134452]}},\"id\":\"5bb275a7-34ae-423c-99b3-451da7cfdc6d\",\"type\":\"ColumnDataSource\"},{\"attributes\":{},\"id\":\"aa12721d-4f7c-4b47-85fb-b5534ca04062\",\"type\":\"ToolEvents\"},{\"attributes\":{\"data_source\":{\"id\":\"8aee4645-b528-48fe-81d3-19a4bc8bf827\",\"type\":\"ColumnDataSource\"},\"glyph\":{\"id\":\"ce0d41ac-4cff-4b75-8129-d8d6bbf03744\",\"type\":\"Rect\"},\"hover_glyph\":null,\"muted_glyph\":null},\"id\":\"eb6dd574-ead8-42d5-91e1-cd000ae0add3\",\"type\":\"GlyphRenderer\"},{\"attributes\":{\"fill_alpha\":{\"field\":\"fill_alpha\"},\"fill_color\":{\"field\":\"color\"},\"height\":{\"field\":\"height\",\"units\":\"data\"},\"line_color\":{\"field\":\"line_color\"},\"width\":{\"field\":\"width\",\"units\":\"data\"},\"x\":{\"field\":\"x\"},\"y\":{\"field\":\"y\"}},\"id\":\"ae8e8738-4c0d-4db1-b202-fd509713802c\",\"type\":\"Rect\"},{\"attributes\":{\"fill_alpha\":{\"field\":\"fill_alpha\"},\"fill_color\":{\"field\":\"color\"},\"height\":{\"field\":\"height\",\"units\":\"data\"},\"line_color\":{\"field\":\"line_color\"},\"width\":{\"field\":\"width\",\"units\":\"data\"},\"x\":{\"field\":\"x\"},\"y\":{\"field\":\"y\"}},\"id\":\"41c29b94-5af0-4e94-9890-8b8a83866c8c\",\"type\":\"Rect\"},{\"attributes\":{\"callback\":null,\"column_names\":[\"x\",\"y\",\"width\",\"height\",\"color\",\"fill_alpha\",\"line_color\",\"line_alpha\",\"label\"],\"data\":{\"chart_index\":[{\"label\":\"Amazon\"}],\"color\":[\"#5975a4\"],\"fill_alpha\":[0.8],\"height\":[15.701025825523763],\"label\":[\"Amazon\"],\"line_alpha\":[1.0],\"line_color\":[\"white\"],\"width\":[0.7],\"x\":[\"Amazon\"],\"y\":[7.850512912761881]}},\"id\":\"4669de57-9626-48fd-9340-206309dda6be\",\"type\":\"ColumnDataSource\"},{\"attributes\":{\"data_source\":{\"id\":\"4669de57-9626-48fd-9340-206309dda6be\",\"type\":\"ColumnDataSource\"},\"glyph\":{\"id\":\"41c29b94-5af0-4e94-9890-8b8a83866c8c\",\"type\":\"Rect\"},\"hover_glyph\":null,\"muted_glyph\":null},\"id\":\"b86eef41-5f1b-4bf3-ada7-698784a782c6\",\"type\":\"GlyphRenderer\"},{\"attributes\":{\"callback\":null,\"column_names\":[\"x\",\"y\",\"width\",\"height\",\"color\",\"fill_alpha\",\"line_color\",\"line_alpha\",\"label\"],\"data\":{\"chart_index\":[{\"label\":\"HIGGS_GPU\"}],\"color\":[\"#5975a4\"],\"fill_alpha\":[0.8],\"height\":[-0.11556279115567171],\"label\":[\"HIGGS_GPU\"],\"line_alpha\":[1.0],\"line_color\":[\"white\"],\"width\":[0.7],\"x\":[\"HIGGS_GPU\"],\"y\":[-0.057781395577835855]}},\"id\":\"d41f4021-8de3-4819-bd9f-6af2cc1ece17\",\"type\":\"ColumnDataSource\"},{\"attributes\":{\"fill_alpha\":{\"field\":\"fill_alpha\"},\"fill_color\":{\"field\":\"color\"},\"height\":{\"field\":\"height\",\"units\":\"data\"},\"line_color\":{\"field\":\"line_color\"},\"width\":{\"field\":\"width\",\"units\":\"data\"},\"x\":{\"field\":\"x\"},\"y\":{\"field\":\"y\"}},\"id\":\"696b7260-5ff9-40fe-9f42-22083eccea12\",\"type\":\"Rect\"},{\"attributes\":{\"fill_alpha\":{\"field\":\"fill_alpha\"},\"fill_color\":{\"field\":\"color\"},\"height\":{\"field\":\"height\",\"units\":\"data\"},\"line_color\":{\"field\":\"line_color\"},\"width\":{\"field\":\"width\",\"units\":\"data\"},\"x\":{\"field\":\"x\"},\"y\":{\"field\":\"y\"}},\"id\":\"ce0d41ac-4cff-4b75-8129-d8d6bbf03744\",\"type\":\"Rect\"}],\"root_ids\":[\"6e56de75-b7c8-41e2-a5e3-0d9969dd3a2f\"]},\"title\":\"Bokeh Application\",\"version\":\"0.12.6\"}};\n",
       "            var render_items = [{\"docid\":\"151e7253-d58b-477e-af69-013c8f4d2401\",\"elementid\":\"12ae8ce6-b6a9-429b-8140-65025fcd393c\",\"modelid\":\"6e56de75-b7c8-41e2-a5e3-0d9969dd3a2f\"}];\n",
       "            \n",
       "            Bokeh.embed.embed_items(docs_json, render_items);\n",
       "          };\n",
       "          if (document.readyState != \"loading\") fn();\n",
       "          else document.addEventListener(\"DOMContentLoaded\", fn);\n",
       "        })();\n",
       "      },\n",
       "      function(Bokeh) {\n",
       "      }\n",
       "    ];\n",
       "  \n",
       "    function run_inline_js() {\n",
       "      \n",
       "      if ((window.Bokeh !== undefined) || (force === true)) {\n",
       "        for (var i = 0; i < inline_js.length; i++) {\n",
       "          inline_js[i](window.Bokeh);\n",
       "        }if (force === true) {\n",
       "          display_loaded();\n",
       "        }} else if (Date.now() < window._bokeh_timeout) {\n",
       "        setTimeout(run_inline_js, 100);\n",
       "      } else if (!window._bokeh_failed_load) {\n",
       "        console.log(\"Bokeh: BokehJS failed to load within specified timeout.\");\n",
       "        window._bokeh_failed_load = true;\n",
       "      } else if (force !== true) {\n",
       "        var cell = $(document.getElementById(\"12ae8ce6-b6a9-429b-8140-65025fcd393c\")).parents('.cell').data().cell;\n",
       "        cell.output_area.append_execute_result(NB_LOAD_WARNING)\n",
       "      }\n",
       "  \n",
       "    }\n",
       "  \n",
       "    if (window._bokeh_is_loading === 0) {\n",
       "      console.log(\"Bokeh: BokehJS loaded, going straight to plotting\");\n",
       "      run_inline_js();\n",
       "    } else {\n",
       "      load_libs(js_urls, function() {\n",
       "        console.log(\"Bokeh: BokehJS plotting callback run at\", now());\n",
       "        run_inline_js();\n",
       "      });\n",
       "    }\n",
       "  }(this));\n",
       "</script>"
      ]
     },
     "metadata": {},
     "output_type": "display_data"
    }
   ],
   "source": [
    "bar = Bar(data, values='Perf. Difference(%)', agg='mean', label=['label'], \n",
    "          plot_width=600, plot_height=400, bar_width=0.7, color='#5975a4')\n",
    "bar.axis[0].axis_label=''\n",
    "bar.axis[1].axis_label='Perf. Difference(%)'\n",
    "bar.toolbar_location='above'\n",
    "bar.legend[0].visible=False\n",
    "show(bar)"
   ]
  },
  {
   "cell_type": "code",
   "execution_count": 25,
   "metadata": {
    "collapsed": false,
    "deletable": true,
    "editable": true
   },
   "outputs": [
    {
     "name": "stderr",
     "output_type": "stream",
     "text": [
      "WARNING:bokeh.io:The webdriver raised a TimeoutException while waiting for                      a 'bokeh:idle' event to signify that the layout has rendered.                      Something may have gone wrong.\n"
     ]
    },
    {
     "data": {
      "image/svg+xml": [
       "<svg height=\"400\" style=\"width: 600px; height: 400px;\" version=\"1.1\" width=\"600\" xmlns=\"http://www.w3.org/2000/svg\" xmlns:xlink=\"http://www.w3.org/1999/xlink\"><defs/><g><g/><g transform=\"scale(1,1) translate(0.5,0.5)\"><rect fill=\"#FFFFFF\" height=\"400\" stroke=\"none\" width=\"600\" x=\"0\" y=\"0\"/><rect fill=\"#ffffff\" height=\"400\" stroke=\"none\" width=\"600\" x=\"0\" y=\"0\"/><rect fill=\"#FFFFFF\" height=\"303.525042336355\" stroke=\"none\" width=\"549.966875\" x=\"45.03312500000001\" y=\"29\"/><rect fill=\"#ffffff\" height=\"303.525042336355\" stroke=\"none\" width=\"549.966875\" x=\"45.03312500000001\" y=\"29\"/><g><rect fill=\"none\" height=\"303.525042336355\" stroke=\"#e5e5e5\" stroke-miterlimit=\"10\" width=\"549.966875\" x=\"45.03312500000001\" y=\"29\"/></g><g><g><path d=\" M 45 302 L 595 302\" fill=\"none\" paint-order=\"fill stroke markers\" stroke=\"#e5e5e5\" stroke-miterlimit=\"10\"/><path d=\" M 45 219 L 595 219\" fill=\"none\" paint-order=\"fill stroke markers\" stroke=\"#e5e5e5\" stroke-miterlimit=\"10\"/><path d=\" M 45 136 L 595 136\" fill=\"none\" paint-order=\"fill stroke markers\" stroke=\"#e5e5e5\" stroke-miterlimit=\"10\"/><path d=\" M 45 53 L 595 53\" fill=\"none\" paint-order=\"fill stroke markers\" stroke=\"#e5e5e5\" stroke-miterlimit=\"10\"/></g><g><path fill=\"none\" stroke=\"none\"/><rect fill=\"#5975a4\" fill-opacity=\"0.8\" height=\"0.4325563923790128\" stroke=\"none\" width=\"54.9966874999991\" x=\"56.818129464285725\" y=\"302.44152630243786\"/><path d=\" M 56.818129464285725 302.44152630243786 L 111.81481696428483 302.44152630243786 L 111.81481696428483 302.8740826948169 L 56.818129464285725 302.8740826948169 L 56.818129464285725 302.44152630243786 Z\" fill=\"none\" paint-order=\"fill stroke markers\" stroke=\"white\" stroke-miterlimit=\"10\"/><path d=\"\" fill=\"none\" paint-order=\"fill stroke markers\" stroke=\"white\" stroke-miterlimit=\"10\"/></g><g><path fill=\"none\" stroke=\"none\"/><rect fill=\"#5975a4\" fill-opacity=\"0.8\" height=\"15.483175676425333\" stroke=\"none\" width=\"54.9966874999991\" x=\"135.38482589285712\" y=\"286.95835062601253\"/><path d=\" M 135.38482589285712 286.95835062601253 L 190.38151339285622 286.95835062601253 L 190.38151339285622 302.44152630243786 L 135.38482589285712 302.44152630243786 L 135.38482589285712 286.95835062601253 Z\" fill=\"none\" paint-order=\"fill stroke markers\" stroke=\"white\" stroke-miterlimit=\"10\"/><path d=\"\" fill=\"none\" paint-order=\"fill stroke markers\" stroke=\"white\" stroke-miterlimit=\"10\"/></g><g><path fill=\"none\" stroke=\"none\"/><rect fill=\"#5975a4\" fill-opacity=\"0.8\" height=\"261.27362578901176\" stroke=\"none\" width=\"54.9966874999991\" x=\"213.95152232142857\" y=\"41.167900513426105\"/><path d=\" M 213.95152232142857 41.167900513426105 L 268.94820982142767 41.167900513426105 L 268.94820982142767 302.44152630243786 L 213.95152232142857 302.44152630243786 L 213.95152232142857 41.167900513426105 Z\" fill=\"none\" paint-order=\"fill stroke markers\" stroke=\"white\" stroke-miterlimit=\"10\"/><path d=\"\" fill=\"none\" paint-order=\"fill stroke markers\" stroke=\"white\" stroke-miterlimit=\"10\"/></g><g><path fill=\"none\" stroke=\"none\"/><rect fill=\"#5975a4\" fill-opacity=\"0.8\" height=\"104.01789609260068\" stroke=\"none\" width=\"54.996687500002736\" x=\"292.51821874999996\" y=\"198.42363020983717\"/><path d=\" M 292.51821874999996 198.42363020983717 L 347.5149062500027 198.42363020983717 L 347.5149062500027 302.44152630243786 L 292.51821874999996 302.44152630243786 L 292.51821874999996 198.42363020983717 Z\" fill=\"none\" paint-order=\"fill stroke markers\" stroke=\"white\" stroke-miterlimit=\"10\"/><path d=\"\" fill=\"none\" paint-order=\"fill stroke markers\" stroke=\"white\" stroke-miterlimit=\"10\"/></g><g><path fill=\"none\" stroke=\"none\"/><rect fill=\"#5975a4\" fill-opacity=\"0.8\" height=\"9.816526752401117\" stroke=\"none\" width=\"54.996687500002736\" x=\"371.0849151785714\" y=\"302.44152630243786\"/><path d=\" M 371.0849151785714 302.44152630243786 L 426.08160267857414 302.44152630243786 L 426.08160267857414 312.25805305483897 L 371.0849151785714 312.25805305483897 L 371.0849151785714 302.44152630243786 Z\" fill=\"none\" paint-order=\"fill stroke markers\" stroke=\"white\" stroke-miterlimit=\"10\"/><path d=\"\" fill=\"none\" paint-order=\"fill stroke markers\" stroke=\"white\" stroke-miterlimit=\"10\"/></g><g><path fill=\"none\" stroke=\"none\"/><rect fill=\"#5975a4\" fill-opacity=\"0.8\" height=\"17.915615520491144\" stroke=\"none\" width=\"54.996687500002736\" x=\"449.65161160714285\" y=\"302.44152630243786\"/><path d=\" M 449.65161160714285 302.44152630243786 L 504.6482991071456 302.44152630243786 L 504.6482991071456 320.357141822929 L 449.65161160714285 320.357141822929 L 449.65161160714285 302.44152630243786 Z\" fill=\"none\" paint-order=\"fill stroke markers\" stroke=\"white\" stroke-miterlimit=\"10\"/><path d=\"\" fill=\"none\" paint-order=\"fill stroke markers\" stroke=\"white\" stroke-miterlimit=\"10\"/></g><g><path fill=\"none\" stroke=\"none\"/><rect fill=\"#5975a4\" fill-opacity=\"0.8\" height=\"1.9230278191414527\" stroke=\"none\" width=\"54.99668750001001\" x=\"528.2183080357142\" y=\"302.44152630243786\"/><path d=\" M 528.2183080357142 302.44152630243786 L 583.2149955357243 302.44152630243786 L 583.2149955357243 304.3645541215793 L 528.2183080357142 304.3645541215793 L 528.2183080357142 302.44152630243786 Z\" fill=\"none\" paint-order=\"fill stroke markers\" stroke=\"white\" stroke-miterlimit=\"10\"/><path d=\"\" fill=\"none\" paint-order=\"fill stroke markers\" stroke=\"white\" stroke-miterlimit=\"10\"/></g></g><g/><g><g fill=\"#444444\"><path d=\" M 45 333 L 595 333\" fill=\"none\" paint-order=\"fill stroke markers\" stroke=\"black\" stroke-miterlimit=\"10\"/><path d=\" M 84 339 L 84 331\" fill=\"none\" paint-order=\"fill stroke markers\" stroke=\"black\" stroke-miterlimit=\"10\"/><path d=\" M 163 339 L 163 331\" fill=\"none\" paint-order=\"fill stroke markers\" stroke=\"black\" stroke-miterlimit=\"10\"/><path d=\" M 241 339 L 241 331\" fill=\"none\" paint-order=\"fill stroke markers\" stroke=\"black\" stroke-miterlimit=\"10\"/><path d=\" M 320 339 L 320 331\" fill=\"none\" paint-order=\"fill stroke markers\" stroke=\"black\" stroke-miterlimit=\"10\"/><path d=\" M 399 339 L 399 331\" fill=\"none\" paint-order=\"fill stroke markers\" stroke=\"black\" stroke-miterlimit=\"10\"/><path d=\" M 477 339 L 477 331\" fill=\"none\" paint-order=\"fill stroke markers\" stroke=\"black\" stroke-miterlimit=\"10\"/><path d=\" M 556 339 L 556 331\" fill=\"\" paint-order=\"fill stroke markers\" stroke=\"black\" stroke-miterlimit=\"10\"/><g transform=\"translate(84.31647321428572,343.525042336355) rotate(-45,0,0)\"><text dominant-baseline=\"central\" fill=\"\" font-family=\"helvetica\" font-size=\"8pt\" font-style=\"normal\" font-weight=\"normal\" stroke=\"none\" text-anchor=\"end\" text-decoration=\"normal\" x=\"0\" y=\"0\">Airline</text><g transform=\"rotate(45,0,0) translate(-84.31647321428572,-343.525042336355) translate(162.88316964285713,343.525042336355) rotate(-45,0,0)\"><text dominant-baseline=\"central\" fill=\"\" font-family=\"helvetica\" font-size=\"8pt\" font-style=\"normal\" font-weight=\"normal\" stroke=\"none\" text-anchor=\"end\" text-decoration=\"normal\" x=\"0\" y=\"0\">Airline_GPU</text><g transform=\"rotate(45,0,0) translate(-162.88316964285713,-343.525042336355) translate(241.44986607142857,343.525042336355) rotate(-45,0,0)\"><text dominant-baseline=\"central\" fill=\"\" font-family=\"helvetica\" font-size=\"8pt\" font-style=\"normal\" font-weight=\"normal\" stroke=\"none\" text-anchor=\"end\" text-decoration=\"normal\" x=\"0\" y=\"0\">Amazon</text><g transform=\"rotate(45,0,0) translate(-241.44986607142857,-343.525042336355) translate(320.01656249999996,343.525042336355) rotate(-45,0,0)\"><text dominant-baseline=\"central\" fill=\"\" font-family=\"helvetica\" font-size=\"8pt\" font-style=\"normal\" font-weight=\"normal\" stroke=\"none\" text-anchor=\"end\" text-decoration=\"normal\" x=\"0\" y=\"0\">BCI</text><g transform=\"rotate(45,0,0) translate(-320.01656249999996,-343.525042336355) translate(398.58325892857135,343.525042336355) rotate(-45,0,0)\"><text dominant-baseline=\"central\" fill=\"\" font-family=\"helvetica\" font-size=\"8pt\" font-style=\"normal\" font-weight=\"normal\" stroke=\"none\" text-anchor=\"end\" text-decoration=\"normal\" x=\"0\" y=\"0\">Football</text><g transform=\"rotate(45,0,0) translate(-398.58325892857135,-343.525042336355) translate(477.1499553571428,343.525042336355) rotate(-45,0,0)\"><text dominant-baseline=\"central\" fill=\"\" font-family=\"helvetica\" font-size=\"8pt\" font-style=\"normal\" font-weight=\"normal\" stroke=\"none\" text-anchor=\"end\" text-decoration=\"normal\" x=\"0\" y=\"0\">Fraud</text><g transform=\"rotate(45,0,0) translate(-477.1499553571428,-343.525042336355) translate(555.7166517857142,343.525042336355) rotate(-45,0,0)\"><text dominant-baseline=\"central\" fill=\"\" font-family=\"helvetica\" font-size=\"8pt\" font-style=\"normal\" font-weight=\"normal\" stroke=\"none\" text-anchor=\"end\" text-decoration=\"normal\" x=\"0\" y=\"0\">HIGGS_GPU</text><g transform=\"rotate(45,0,0) translate(-555.7166517857142,-343.525042336355)\"><text dominant-baseline=\"hanging\" fill=\"\" font-family=\"helvetica\" font-size=\"10pt\" font-style=\"italic\" font-weight=\"normal\" stroke=\"none\" text-anchor=\"middle\" text-decoration=\"normal\" x=\"320.01656249999996\" y=\"404\"/></g></g></g></g></g></g></g></g></g><g><path d=\" M 45 333 L 45 29\" fill=\"none\" paint-order=\"fill stroke markers\" stroke=\"black\" stroke-miterlimit=\"10\"/><path d=\" M 39 302 L 47 302\" fill=\"none\" paint-order=\"fill stroke markers\" stroke=\"black\" stroke-miterlimit=\"10\"/><path d=\" M 39 219 L 47 219\" fill=\"none\" paint-order=\"fill stroke markers\" stroke=\"black\" stroke-miterlimit=\"10\"/><path d=\" M 39 136 L 47 136\" fill=\"none\" paint-order=\"fill stroke markers\" stroke=\"black\" stroke-miterlimit=\"10\"/><path d=\" M 39 53 L 47 53\" fill=\"none\" paint-order=\"fill stroke markers\" stroke=\"black\" stroke-miterlimit=\"10\"/><path d=\" M 41 319 L 45 319\" fill=\"none\" paint-order=\"fill stroke markers\" stroke=\"black\" stroke-miterlimit=\"10\"/><path d=\" M 41 302 L 45 302\" fill=\"none\" paint-order=\"fill stroke markers\" stroke=\"black\" stroke-miterlimit=\"10\"/><path d=\" M 41 286 L 45 286\" fill=\"none\" paint-order=\"fill stroke markers\" stroke=\"black\" stroke-miterlimit=\"10\"/><path d=\" M 41 269 L 45 269\" fill=\"none\" paint-order=\"fill stroke markers\" stroke=\"black\" stroke-miterlimit=\"10\"/><path d=\" M 41 253 L 45 253\" fill=\"none\" paint-order=\"fill stroke markers\" stroke=\"black\" stroke-miterlimit=\"10\"/><path d=\" M 41 236 L 45 236\" fill=\"none\" paint-order=\"fill stroke markers\" stroke=\"black\" stroke-miterlimit=\"10\"/><path d=\" M 41 219 L 45 219\" fill=\"none\" paint-order=\"fill stroke markers\" stroke=\"black\" stroke-miterlimit=\"10\"/><path d=\" M 41 203 L 45 203\" fill=\"none\" paint-order=\"fill stroke markers\" stroke=\"black\" stroke-miterlimit=\"10\"/><path d=\" M 41 186 L 45 186\" fill=\"none\" paint-order=\"fill stroke markers\" stroke=\"black\" stroke-miterlimit=\"10\"/><path d=\" M 41 169 L 45 169\" fill=\"none\" paint-order=\"fill stroke markers\" stroke=\"black\" stroke-miterlimit=\"10\"/><path d=\" M 41 153 L 45 153\" fill=\"none\" paint-order=\"fill stroke markers\" stroke=\"black\" stroke-miterlimit=\"10\"/><path d=\" M 41 136 L 45 136\" fill=\"none\" paint-order=\"fill stroke markers\" stroke=\"black\" stroke-miterlimit=\"10\"/><path d=\" M 41 119 L 45 119\" fill=\"none\" paint-order=\"fill stroke markers\" stroke=\"black\" stroke-miterlimit=\"10\"/><path d=\" M 41 103 L 45 103\" fill=\"none\" paint-order=\"fill stroke markers\" stroke=\"black\" stroke-miterlimit=\"10\"/><path d=\" M 41 86 L 45 86\" fill=\"none\" paint-order=\"fill stroke markers\" stroke=\"black\" stroke-miterlimit=\"10\"/><path d=\" M 41 69 L 45 69\" fill=\"none\" paint-order=\"fill stroke markers\" stroke=\"black\" stroke-miterlimit=\"10\"/><path d=\" M 41 53 L 45 53\" fill=\"none\" paint-order=\"fill stroke markers\" stroke=\"black\" stroke-miterlimit=\"10\"/><path d=\" M 41 36 L 45 36\" fill=\"none\" paint-order=\"fill stroke markers\" stroke=\"black\" stroke-miterlimit=\"10\"/><text dominant-baseline=\"central\" fill=\"#444444\" font-family=\"helvetica\" font-size=\"8pt\" font-style=\"normal\" font-weight=\"normal\" stroke=\"none\" text-anchor=\"end\" text-decoration=\"normal\" x=\"34\" y=\"302\">0</text><text dominant-baseline=\"central\" fill=\"#444444\" font-family=\"helvetica\" font-size=\"8pt\" font-style=\"normal\" font-weight=\"normal\" stroke=\"none\" text-anchor=\"end\" text-decoration=\"normal\" x=\"34\" y=\"219\">5</text><text dominant-baseline=\"central\" fill=\"#444444\" font-family=\"helvetica\" font-size=\"8pt\" font-style=\"normal\" font-weight=\"normal\" stroke=\"none\" text-anchor=\"end\" text-decoration=\"normal\" x=\"34\" y=\"136\">10</text><text dominant-baseline=\"central\" fill=\"#444444\" font-family=\"helvetica\" font-size=\"8pt\" font-style=\"normal\" font-weight=\"normal\" stroke=\"none\" text-anchor=\"end\" text-decoration=\"normal\" x=\"34\" y=\"53\">15</text><g transform=\"translate(15.592500000000012,180.7625211681775) rotate(-90,0,0)\"><text dominant-baseline=\"alphabetic\" fill=\"#444444\" font-family=\"helvetica\" font-size=\"10pt\" font-style=\"italic\" font-weight=\"normal\" stroke=\"none\" text-anchor=\"middle\" text-decoration=\"normal\" x=\"0\" y=\"0\">Perf. Difference(%)</text><g transform=\"rotate(90,0,0) translate(-15.592500000000012,-180.7625211681775)\"/></g></g></g></g></g></svg>"
      ],
      "text/plain": [
       "<IPython.core.display.SVG object>"
      ]
     },
     "metadata": {},
     "output_type": "display_data"
    }
   ],
   "source": [
    "bar.output_backend = \"svg\"\n",
    "export_svgs(bar, filename=\"xgb_vs_lgbm_performance.svg\")\n",
    "display(SVG('xgb_vs_lgbm_performance.svg'))"
   ]
  },
  {
   "cell_type": "markdown",
   "metadata": {
    "deletable": true,
    "editable": true
   },
   "source": [
    "From the table as well as the plots below we can see that overall the difference in performance is quite small. LightGBM though is 2 to over 10 times quicker than XGBoost."
   ]
  }
 ],
 "metadata": {
  "kernelspec": {
   "display_name": "Python Strata",
   "language": "python",
   "name": "strata"
  },
  "language_info": {
   "codemirror_mode": {
    "name": "ipython",
    "version": 3
   },
   "file_extension": ".py",
   "mimetype": "text/x-python",
   "name": "python",
   "nbconvert_exporter": "python",
   "pygments_lexer": "ipython3",
   "version": "3.6.0"
  }
 },
 "nbformat": 4,
 "nbformat_minor": 2
}
