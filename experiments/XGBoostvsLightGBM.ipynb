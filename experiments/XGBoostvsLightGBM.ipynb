{
 "cells": [
  {
   "cell_type": "markdown",
   "metadata": {
    "deletable": true,
    "editable": true
   },
   "source": [
    "# XGBoost vs LightGBM\n",
    "\n",
    "In this notebook we collect the results from all the experiments and reports the comparative difference between XGBoost and LightGBM"
   ]
  },
  {
   "cell_type": "code",
   "execution_count": 1,
   "metadata": {
    "collapsed": false,
    "deletable": true,
    "editable": true
   },
   "outputs": [
    {
     "name": "stderr",
     "output_type": "stream",
     "text": [
      "/home/hoaphumanoid/anaconda3/envs/strata/lib/python3.6/site-packages/bokeh/util/deprecation.py:34: BokehDeprecationWarning: \n",
      "The bokeh.charts API has moved to a separate 'bkcharts' package.\n",
      "\n",
      "This compatibility shim will remain until Bokeh 1.0 is released.\n",
      "After that, if you want to use this API you will have to install\n",
      "the bkcharts package explicitly.\n",
      "\n",
      "  warn(message)\n"
     ]
    }
   ],
   "source": [
    "import matplotlib.pyplot as plt\n",
    "import nbformat\n",
    "import json\n",
    "from toolz import pipe, juxt\n",
    "import pandas as pd\n",
    "import seaborn\n",
    "from toolz import curry\n",
    "\n",
    "from bokeh.io import show, output_notebook\n",
    "from bokeh.charts import Bar\n",
    "from bokeh.models.renderers import GlyphRenderer\n",
    "from bokeh.models.glyphs import Rect\n",
    "from toolz import curry\n",
    "from bokeh.io import export_svgs\n",
    "from IPython.display import SVG, display\n",
    "\n",
    "%matplotlib inline "
   ]
  },
  {
   "cell_type": "code",
   "execution_count": 2,
   "metadata": {
    "collapsed": false,
    "deletable": true,
    "editable": true
   },
   "outputs": [
    {
     "data": {
      "text/html": [
       "\n",
       "    <div class=\"bk-root\">\n",
       "        <a href=\"http://bokeh.pydata.org\" target=\"_blank\" class=\"bk-logo bk-logo-small bk-logo-notebook\"></a>\n",
       "        <span id=\"abc05b83-7464-4822-b214-b9da978eee61\">Loading BokehJS ...</span>\n",
       "    </div>"
      ]
     },
     "metadata": {},
     "output_type": "display_data"
    },
    {
     "data": {
      "application/javascript": [
       "\n",
       "(function(global) {\n",
       "  function now() {\n",
       "    return new Date();\n",
       "  }\n",
       "\n",
       "  var force = true;\n",
       "\n",
       "  if (typeof (window._bokeh_onload_callbacks) === \"undefined\" || force === true) {\n",
       "    window._bokeh_onload_callbacks = [];\n",
       "    window._bokeh_is_loading = undefined;\n",
       "  }\n",
       "\n",
       "\n",
       "  \n",
       "  if (typeof (window._bokeh_timeout) === \"undefined\" || force === true) {\n",
       "    window._bokeh_timeout = Date.now() + 5000;\n",
       "    window._bokeh_failed_load = false;\n",
       "  }\n",
       "\n",
       "  var NB_LOAD_WARNING = {'data': {'text/html':\n",
       "     \"<div style='background-color: #fdd'>\\n\"+\n",
       "     \"<p>\\n\"+\n",
       "     \"BokehJS does not appear to have successfully loaded. If loading BokehJS from CDN, this \\n\"+\n",
       "     \"may be due to a slow or bad network connection. Possible fixes:\\n\"+\n",
       "     \"</p>\\n\"+\n",
       "     \"<ul>\\n\"+\n",
       "     \"<li>re-rerun `output_notebook()` to attempt to load from CDN again, or</li>\\n\"+\n",
       "     \"<li>use INLINE resources instead, as so:</li>\\n\"+\n",
       "     \"</ul>\\n\"+\n",
       "     \"<code>\\n\"+\n",
       "     \"from bokeh.resources import INLINE\\n\"+\n",
       "     \"output_notebook(resources=INLINE)\\n\"+\n",
       "     \"</code>\\n\"+\n",
       "     \"</div>\"}};\n",
       "\n",
       "  function display_loaded() {\n",
       "    if (window.Bokeh !== undefined) {\n",
       "      var el = document.getElementById(\"abc05b83-7464-4822-b214-b9da978eee61\");\n",
       "      el.textContent = \"BokehJS \" + Bokeh.version + \" successfully loaded.\";\n",
       "    } else if (Date.now() < window._bokeh_timeout) {\n",
       "      setTimeout(display_loaded, 100)\n",
       "    }\n",
       "  }\n",
       "\n",
       "  function run_callbacks() {\n",
       "    try {\n",
       "      window._bokeh_onload_callbacks.forEach(function(callback) { callback() });\n",
       "    }\n",
       "    finally {\n",
       "      delete window._bokeh_onload_callbacks\n",
       "    }\n",
       "    console.info(\"Bokeh: all callbacks have finished\");\n",
       "  }\n",
       "\n",
       "  function load_libs(js_urls, callback) {\n",
       "    window._bokeh_onload_callbacks.push(callback);\n",
       "    if (window._bokeh_is_loading > 0) {\n",
       "      console.log(\"Bokeh: BokehJS is being loaded, scheduling callback at\", now());\n",
       "      return null;\n",
       "    }\n",
       "    if (js_urls == null || js_urls.length === 0) {\n",
       "      run_callbacks();\n",
       "      return null;\n",
       "    }\n",
       "    console.log(\"Bokeh: BokehJS not loaded, scheduling load and callback at\", now());\n",
       "    window._bokeh_is_loading = js_urls.length;\n",
       "    for (var i = 0; i < js_urls.length; i++) {\n",
       "      var url = js_urls[i];\n",
       "      var s = document.createElement('script');\n",
       "      s.src = url;\n",
       "      s.async = false;\n",
       "      s.onreadystatechange = s.onload = function() {\n",
       "        window._bokeh_is_loading--;\n",
       "        if (window._bokeh_is_loading === 0) {\n",
       "          console.log(\"Bokeh: all BokehJS libraries loaded\");\n",
       "          run_callbacks()\n",
       "        }\n",
       "      };\n",
       "      s.onerror = function() {\n",
       "        console.warn(\"failed to load library \" + url);\n",
       "      };\n",
       "      console.log(\"Bokeh: injecting script tag for BokehJS library: \", url);\n",
       "      document.getElementsByTagName(\"head\")[0].appendChild(s);\n",
       "    }\n",
       "  };var element = document.getElementById(\"abc05b83-7464-4822-b214-b9da978eee61\");\n",
       "  if (element == null) {\n",
       "    console.log(\"Bokeh: ERROR: autoload.js configured with elementid 'abc05b83-7464-4822-b214-b9da978eee61' but no matching script tag was found. \")\n",
       "    return false;\n",
       "  }\n",
       "\n",
       "  var js_urls = [\"https://cdn.pydata.org/bokeh/release/bokeh-0.12.6.min.js\", \"https://cdn.pydata.org/bokeh/release/bokeh-widgets-0.12.6.min.js\"];\n",
       "\n",
       "  var inline_js = [\n",
       "    function(Bokeh) {\n",
       "      Bokeh.set_log_level(\"info\");\n",
       "    },\n",
       "    \n",
       "    function(Bokeh) {\n",
       "      \n",
       "    },\n",
       "    \n",
       "    function(Bokeh) {\n",
       "      \n",
       "      document.getElementById(\"abc05b83-7464-4822-b214-b9da978eee61\").textContent = \"BokehJS is loading...\";\n",
       "    },\n",
       "    function(Bokeh) {\n",
       "      console.log(\"Bokeh: injecting CSS: https://cdn.pydata.org/bokeh/release/bokeh-0.12.6.min.css\");\n",
       "      Bokeh.embed.inject_css(\"https://cdn.pydata.org/bokeh/release/bokeh-0.12.6.min.css\");\n",
       "      console.log(\"Bokeh: injecting CSS: https://cdn.pydata.org/bokeh/release/bokeh-widgets-0.12.6.min.css\");\n",
       "      Bokeh.embed.inject_css(\"https://cdn.pydata.org/bokeh/release/bokeh-widgets-0.12.6.min.css\");\n",
       "    }\n",
       "  ];\n",
       "\n",
       "  function run_inline_js() {\n",
       "    \n",
       "    if ((window.Bokeh !== undefined) || (force === true)) {\n",
       "      for (var i = 0; i < inline_js.length; i++) {\n",
       "        inline_js[i](window.Bokeh);\n",
       "      }if (force === true) {\n",
       "        display_loaded();\n",
       "      }} else if (Date.now() < window._bokeh_timeout) {\n",
       "      setTimeout(run_inline_js, 100);\n",
       "    } else if (!window._bokeh_failed_load) {\n",
       "      console.log(\"Bokeh: BokehJS failed to load within specified timeout.\");\n",
       "      window._bokeh_failed_load = true;\n",
       "    } else if (force !== true) {\n",
       "      var cell = $(document.getElementById(\"abc05b83-7464-4822-b214-b9da978eee61\")).parents('.cell').data().cell;\n",
       "      cell.output_area.append_execute_result(NB_LOAD_WARNING)\n",
       "    }\n",
       "\n",
       "  }\n",
       "\n",
       "  if (window._bokeh_is_loading === 0) {\n",
       "    console.log(\"Bokeh: BokehJS loaded, going straight to plotting\");\n",
       "    run_inline_js();\n",
       "  } else {\n",
       "    load_libs(js_urls, function() {\n",
       "      console.log(\"Bokeh: BokehJS plotting callback run at\", now());\n",
       "      run_inline_js();\n",
       "    });\n",
       "  }\n",
       "}(this));"
      ]
     },
     "metadata": {},
     "output_type": "display_data"
    }
   ],
   "source": [
    "output_notebook()"
   ]
  },
  {
   "cell_type": "markdown",
   "metadata": {
    "deletable": true,
    "editable": true
   },
   "source": [
    "We are going to read the results from the following notebooks"
   ]
  },
  {
   "cell_type": "code",
   "execution_count": 3,
   "metadata": {
    "collapsed": true,
    "deletable": true,
    "editable": true
   },
   "outputs": [],
   "source": [
    "notebooks = {\n",
    "    'Airline':'01_airline.ipynb',\n",
    "    'BCI': '02_BCI.ipynb',\n",
    "    'Football': '03_football.ipynb',\n",
    "    'Amazon': '04_PlanetKaggle.ipynb',\n",
    "    'Fraud': '05_FraudDetection.ipynb',\n",
    "    'Airline_GPU': '06_airline_GPU.ipynb',\n",
    "    'HIGGS_GPU': '07_HIGGS_GPU.ipynb'\n",
    "}"
   ]
  },
  {
   "cell_type": "code",
   "execution_count": 4,
   "metadata": {
    "collapsed": true,
    "deletable": true,
    "editable": true
   },
   "outputs": [],
   "source": [
    "def read_notebook(notebook_name):\n",
    "    with open(notebook_name) as f:\n",
    "        return nbformat.read(f, as_version=4)"
   ]
  },
  {
   "cell_type": "code",
   "execution_count": 5,
   "metadata": {
    "collapsed": true,
    "deletable": true,
    "editable": true
   },
   "outputs": [],
   "source": [
    "def results_cell_from(nb):\n",
    "    for cell in nb.cells:\n",
    "        if cell['cell_type']=='code' and cell['source'].startswith('# Results'):\n",
    "            return cell"
   ]
  },
  {
   "cell_type": "code",
   "execution_count": 6,
   "metadata": {
    "collapsed": true,
    "deletable": true,
    "editable": true
   },
   "outputs": [],
   "source": [
    "def extract_text(cell):\n",
    "    return cell['outputs'][0]['text']"
   ]
  },
  {
   "cell_type": "code",
   "execution_count": 7,
   "metadata": {
    "collapsed": true,
    "deletable": true,
    "editable": true
   },
   "outputs": [],
   "source": [
    "@curry\n",
    "def remove_line_with(match_str, json_string):\n",
    "    return '\\n'.join(filter(lambda x: match_str not in x, json_string.split('\\n')))"
   ]
  },
  {
   "cell_type": "code",
   "execution_count": 8,
   "metadata": {
    "collapsed": true,
    "deletable": true,
    "editable": true
   },
   "outputs": [],
   "source": [
    "def process_nb(notebook_name):\n",
    "    return pipe(notebook_name,\n",
    "                read_notebook,\n",
    "                results_cell_from,\n",
    "                extract_text,\n",
    "                remove_line_with('total RAM usage'),\n",
    "                json.loads)"
   ]
  },
  {
   "cell_type": "markdown",
   "metadata": {
    "deletable": true,
    "editable": true
   },
   "source": [
    "Here we collect the results from all the exeperiment notebooks. The method simply searches the notebooks for a cell that starts with # Results. It then reads that cells output in as JSON."
   ]
  },
  {
   "cell_type": "code",
   "execution_count": 9,
   "metadata": {
    "collapsed": true,
    "deletable": true,
    "editable": true
   },
   "outputs": [],
   "source": [
    "results = {nb_key:process_nb(nb_name) for nb_key, nb_name in notebooks.items()}"
   ]
  },
  {
   "cell_type": "code",
   "execution_count": 10,
   "metadata": {
    "collapsed": false,
    "deletable": true,
    "editable": true
   },
   "outputs": [
    {
     "data": {
      "text/plain": [
       "{'Airline': {'lgbm': {'performance': {'AUC': 0.8085689434502803,\n",
       "    'Accuracy': 0.7353896817753379,\n",
       "    'F1': 0.6940196231335755,\n",
       "    'Precision': 0.7695546060118544,\n",
       "    'Recall': 0.6319874302870966},\n",
       "   'test_time': 14.591926063993014,\n",
       "   'train_time': 366.37647559295874},\n",
       "  'xgb': {'performance': {'AUC': 0.7864092771976574,\n",
       "    'Accuracy': 0.630096137083639,\n",
       "    'F1': 0.6981365687005567,\n",
       "    'Precision': 0.5699044513344648,\n",
       "    'Recall': 0.9008287536758128},\n",
       "   'test_time': 12.680251265061088,\n",
       "   'train_time': 2180.798558813054},\n",
       "  'xgb_hist': {'performance': {'AUC': 0.8076206419213058,\n",
       "    'Accuracy': 0.6736735917278169,\n",
       "    'F1': 0.7170332167054881,\n",
       "    'Precision': 0.6094592088790932,\n",
       "    'Recall': 0.8707220218423469},\n",
       "   'test_time': 14.63406790792942,\n",
       "   'train_time': 578.727180639049}},\n",
       " 'Airline_GPU': {'lgbm': {'performance': {'AUC': 0.8337768089671014,\n",
       "    'Accuracy': 0.759485,\n",
       "    'F1': 0.7287511489294516,\n",
       "    'Precision': 0.7825276109281147,\n",
       "    'Recall': 0.6818906113145426},\n",
       "   'test_time': 0.4406728470348753,\n",
       "   'train_time': 21.35982791200513},\n",
       "  'xgb': {'performance': {'AUC': 0.8192046845123026,\n",
       "    'Accuracy': 0.69482,\n",
       "    'F1': 0.7261780856332771,\n",
       "    'Precision': 0.6316011268836672,\n",
       "    'Recall': 0.8540675158025812},\n",
       "   'test_time': 0.17746437300229445,\n",
       "   'train_time': 65.04751256300369},\n",
       "  'xgb_hist': {'performance': {'AUC': 0.8320738548162672,\n",
       "    'Accuracy': 0.716655,\n",
       "    'F1': 0.7380473621685087,\n",
       "    'Precision': 0.6566751665707,\n",
       "    'Recall': 0.8424385044795965},\n",
       "   'test_time': 0.23500945995328948,\n",
       "   'train_time': 27.15939338703174}},\n",
       " 'Amazon': {'lgbm': {'performance': {'Accuracy': 0.5831356086877167,\n",
       "    'F1': 0.8916251743227468,\n",
       "    'Precision': 0.8966667101226329,\n",
       "    'Recall': 0.9062528789577522},\n",
       "   'test_time': 0.2287097891094163,\n",
       "   'train_time': 78.43849972297903},\n",
       "  'xgb': {'performance': {'Accuracy': 0.3423982478554481,\n",
       "    'F1': 0.8057198664184697,\n",
       "    'Precision': 0.7188249796481225,\n",
       "    'Recall': 0.9782772316811376},\n",
       "   'test_time': 0.17806852096691728,\n",
       "   'train_time': 291.9369727639714},\n",
       "  'xgb_hist': {'performance': {'Accuracy': 0.3694104763643001,\n",
       "    'F1': 0.8199552360766837,\n",
       "    'Precision': 0.7411964006871837,\n",
       "    'Recall': 0.9724867242023657},\n",
       "   'test_time': 0.16979735810309649,\n",
       "   'train_time': 2238.962064931169}},\n",
       " 'BCI': {'lgbm': {'performance': {'AUC': 0.5348626373626374,\n",
       "    'Accuracy': 0.8802275008364001,\n",
       "    'F1': 0.13734939759036147,\n",
       "    'Precision': 0.5588235294117647,\n",
       "    'Recall': 0.0782967032967033},\n",
       "   'test_time': 0.7029972260352224,\n",
       "   'train_time': 6.380580052034929},\n",
       "  'xgb': {'performance': {'AUC': 0.5277435897435897,\n",
       "    'Accuracy': 0.8812311809969889,\n",
       "    'F1': 0.11027568922305765,\n",
       "    'Precision': 0.6285714285714286,\n",
       "    'Recall': 0.06043956043956044},\n",
       "   'test_time': 0.5001096819760278,\n",
       "   'train_time': 15.975884190993384},\n",
       "  'xgb_hist': {'performance': {'AUC': 0.536521978021978,\n",
       "    'Accuracy': 0.8810639009702241,\n",
       "    'F1': 0.14234016887816647,\n",
       "    'Precision': 0.5841584158415841,\n",
       "    'Recall': 0.08104395604395605},\n",
       "   'test_time': 0.7757045479957014,\n",
       "   'train_time': 52.695884556975216}},\n",
       " 'Football': {'lgbm': {'performance': {'Accuracy': 0.5273189326556544,\n",
       "    'F1': 0.4594968503939465,\n",
       "    'Precision': 0.4627647374365573,\n",
       "    'Recall': 0.5273189326556544},\n",
       "   'test_time': 0.01769829506520182,\n",
       "   'train_time': 0.5824753509368747},\n",
       "  'xgb': {'performance': {'Accuracy': 0.5285895806861499,\n",
       "    'F1': 0.4581501758019101,\n",
       "    'Precision': 0.4728104942149788,\n",
       "    'Recall': 0.5285895806861499},\n",
       "   'test_time': 0.01739849301520735,\n",
       "   'train_time': 2.277035239036195},\n",
       "  'xgb_hist': {'performance': {'Accuracy': 0.5285895806861499,\n",
       "    'F1': 0.46087114582653593,\n",
       "    'Precision': 0.4747655220586142,\n",
       "    'Recall': 0.5285895806861499},\n",
       "   'test_time': 0.013859358034096658,\n",
       "   'train_time': 2.4757352949818596}},\n",
       " 'Fraud': {'lgbm': {'performance': {'AUC': 0.8749179318834633,\n",
       "    'Accuracy': 0.999403110845827,\n",
       "    'F1': 0.8131868131868133,\n",
       "    'Precision': 0.888,\n",
       "    'Recall': 0.75},\n",
       "   'test_time': 0.05627289199946972,\n",
       "   'train_time': 0.73749636499997},\n",
       "  'xgb': {'performance': {'AUC': 0.8884197213803287,\n",
       "    'Accuracy': 0.9994265182636377,\n",
       "    'F1': 0.8243727598566308,\n",
       "    'Precision': 0.8778625954198473,\n",
       "    'Recall': 0.777027027027027},\n",
       "   'test_time': 0.059653409000020474,\n",
       "   'train_time': 4.4588627679995625},\n",
       "  'xgb_hist': {'performance': {'AUC': 0.8715278294884368,\n",
       "    'Accuracy': 0.9993679997191109,\n",
       "    'F1': 0.8029197080291971,\n",
       "    'Precision': 0.873015873015873,\n",
       "    'Recall': 0.7432432432432432},\n",
       "   'test_time': 0.06544113900054072,\n",
       "   'train_time': 1.2063124559999778}},\n",
       " 'HIGGS_GPU': {'lgbm': {'performance': {'AUC': 0.8326263561366843,\n",
       "    'Accuracy': 0.75044,\n",
       "    'F1': 0.7662069999250544,\n",
       "    'Precision': 0.7593070538648644,\n",
       "    'Recall': 0.7732334978350067},\n",
       "   'test_time': 0.4326932080439292,\n",
       "   'train_time': 28.908459524973296},\n",
       "  'xgb': {'performance': {'AUC': 0.8260171705225356,\n",
       "    'Accuracy': 0.71481,\n",
       "    'F1': 0.7707604877539045,\n",
       "    'Precision': 0.6703579418344519,\n",
       "    'Recall': 0.9065365779870289},\n",
       "   'test_time': 0.09867698897141963,\n",
       "   'train_time': 107.631673366006},\n",
       "  'xgb_hist': {'performance': {'AUC': 0.8317293102686475,\n",
       "    'Accuracy': 0.7212,\n",
       "    'F1': 0.7742729451389339,\n",
       "    'Precision': 0.6770407079646018,\n",
       "    'Recall': 0.9041163234821412},\n",
       "   'test_time': 0.2139325650059618,\n",
       "   'train_time': 51.26895220199367}}}"
      ]
     },
     "execution_count": 10,
     "metadata": {},
     "output_type": "execute_result"
    }
   ],
   "source": [
    "results"
   ]
  },
  {
   "cell_type": "markdown",
   "metadata": {
    "deletable": true,
    "editable": true
   },
   "source": [
    "We wish to compare LightGBM and XGBoost both in terms of performance as well as how long they took to train."
   ]
  },
  {
   "cell_type": "code",
   "execution_count": 11,
   "metadata": {
    "collapsed": true,
    "deletable": true,
    "editable": true
   },
   "outputs": [],
   "source": [
    "def average_performance_diff(dataset):\n",
    "    lgbm_series = pd.Series(dataset['lgbm']['performance'])\n",
    "    return 100*((lgbm_series-pd.Series(dataset['xgb']['performance']))/lgbm_series).mean()"
   ]
  },
  {
   "cell_type": "code",
   "execution_count": 12,
   "metadata": {
    "collapsed": true,
    "deletable": true,
    "editable": true
   },
   "outputs": [],
   "source": [
    "def train_time_ratio(dataset):\n",
    "    return dataset['xgb']['train_time']/dataset['lgbm']['train_time']\n",
    "\n",
    "def test_time_ratio(dataset):\n",
    "    return dataset['xgb']['test_time']/dataset['lgbm']['test_time']"
   ]
  },
  {
   "cell_type": "code",
   "execution_count": 13,
   "metadata": {
    "collapsed": true,
    "deletable": true,
    "editable": true
   },
   "outputs": [],
   "source": [
    "metrics = juxt(average_performance_diff, train_time_ratio, test_time_ratio)\n",
    "res_per_dataset = {dataset_key:metrics(dataset) for dataset_key, dataset in results.items()}"
   ]
  },
  {
   "cell_type": "code",
   "execution_count": 14,
   "metadata": {
    "collapsed": true,
    "deletable": true,
    "editable": true
   },
   "outputs": [],
   "source": [
    "results_df = pd.DataFrame(res_per_dataset, index=['Perf. Difference(%)', \n",
    "                                                  'Train Time Ratio', \n",
    "                                                  'Test Time Ratio']).T"
   ]
  },
  {
   "cell_type": "code",
   "execution_count": 15,
   "metadata": {
    "collapsed": false,
    "deletable": true,
    "editable": true
   },
   "outputs": [
    {
     "data": {
      "text/html": [
       "<div>\n",
       "<table border=\"1\" class=\"dataframe\">\n",
       "  <thead>\n",
       "    <tr style=\"text-align: right;\">\n",
       "      <th></th>\n",
       "      <th>Perf. Difference(%)</th>\n",
       "      <th>Train Time Ratio</th>\n",
       "      <th>Test Time Ratio</th>\n",
       "    </tr>\n",
       "  </thead>\n",
       "  <tbody>\n",
       "    <tr>\n",
       "      <th>Airline</th>\n",
       "      <td>-0.025994</td>\n",
       "      <td>5.952343</td>\n",
       "      <td>0.868991</td>\n",
       "    </tr>\n",
       "    <tr>\n",
       "      <th>Airline_GPU</th>\n",
       "      <td>0.930449</td>\n",
       "      <td>3.045320</td>\n",
       "      <td>0.402712</td>\n",
       "    </tr>\n",
       "    <tr>\n",
       "      <th>Amazon</th>\n",
       "      <td>15.701026</td>\n",
       "      <td>3.721858</td>\n",
       "      <td>0.778578</td>\n",
       "    </tr>\n",
       "    <tr>\n",
       "      <th>BCI</th>\n",
       "      <td>6.250871</td>\n",
       "      <td>2.503829</td>\n",
       "      <td>0.711396</td>\n",
       "    </tr>\n",
       "    <tr>\n",
       "      <th>Football</th>\n",
       "      <td>-0.589916</td>\n",
       "      <td>3.909239</td>\n",
       "      <td>0.983060</td>\n",
       "    </tr>\n",
       "    <tr>\n",
       "      <th>Fraud</th>\n",
       "      <td>-1.076624</td>\n",
       "      <td>6.045945</td>\n",
       "      <td>1.060074</td>\n",
       "    </tr>\n",
       "    <tr>\n",
       "      <th>HIGGS_GPU</th>\n",
       "      <td>-0.115563</td>\n",
       "      <td>3.723190</td>\n",
       "      <td>0.228053</td>\n",
       "    </tr>\n",
       "  </tbody>\n",
       "</table>\n",
       "</div>"
      ],
      "text/plain": [
       "             Perf. Difference(%)  Train Time Ratio  Test Time Ratio\n",
       "Airline                -0.025994          5.952343         0.868991\n",
       "Airline_GPU             0.930449          3.045320         0.402712\n",
       "Amazon                 15.701026          3.721858         0.778578\n",
       "BCI                     6.250871          2.503829         0.711396\n",
       "Football               -0.589916          3.909239         0.983060\n",
       "Fraud                  -1.076624          6.045945         1.060074\n",
       "HIGGS_GPU              -0.115563          3.723190         0.228053"
      ]
     },
     "execution_count": 15,
     "metadata": {},
     "output_type": "execute_result"
    }
   ],
   "source": [
    "results_df"
   ]
  },
  {
   "cell_type": "code",
   "execution_count": 16,
   "metadata": {
    "collapsed": true
   },
   "outputs": [],
   "source": [
    "results_gpu = results_df.loc[['Airline_GPU','HIGGS_GPU']]\n",
    "results_cpu = results_df[~results_df.index.isin(['Airline_GPU','HIGGS_GPU'])]"
   ]
  },
  {
   "cell_type": "markdown",
   "metadata": {},
   "source": [
    "Plot of train time ratio for CPU experiments."
   ]
  },
  {
   "cell_type": "code",
   "execution_count": 17,
   "metadata": {
    "collapsed": true,
    "deletable": true,
    "editable": true
   },
   "outputs": [],
   "source": [
    "data = {\n",
    "    'Train Time Ratio': results_cpu['Train Time Ratio'].values,\n",
    "    'label': results_cpu.index.values\n",
    "}"
   ]
  },
  {
   "cell_type": "code",
   "execution_count": 18,
   "metadata": {
    "collapsed": false,
    "deletable": true,
    "editable": true
   },
   "outputs": [
    {
     "ename": "NameError",
     "evalue": "name 'Range1d' is not defined",
     "output_type": "error",
     "traceback": [
      "\u001b[0;31m---------------------------------------------------------------------------\u001b[0m",
      "\u001b[0;31mNameError\u001b[0m                                 Traceback (most recent call last)",
      "\u001b[0;32m<ipython-input-18-1b94b3e39ab4>\u001b[0m in \u001b[0;36m<module>\u001b[0;34m()\u001b[0m\n\u001b[1;32m      4\u001b[0m \u001b[0mbar\u001b[0m\u001b[0;34m.\u001b[0m\u001b[0maxis\u001b[0m\u001b[0;34m[\u001b[0m\u001b[0;36m1\u001b[0m\u001b[0;34m]\u001b[0m\u001b[0;34m.\u001b[0m\u001b[0maxis_label\u001b[0m\u001b[0;34m=\u001b[0m\u001b[0;34m'Train Time Ratio (XGBoost/LightGBM)'\u001b[0m\u001b[0;34m\u001b[0m\u001b[0m\n\u001b[1;32m      5\u001b[0m \u001b[0mbar\u001b[0m\u001b[0;34m.\u001b[0m\u001b[0maxis\u001b[0m\u001b[0;34m[\u001b[0m\u001b[0;36m1\u001b[0m\u001b[0;34m]\u001b[0m\u001b[0;34m.\u001b[0m\u001b[0maxis_label_text_font_size\u001b[0m\u001b[0;34m=\u001b[0m\u001b[0;34m'12pt'\u001b[0m\u001b[0;34m\u001b[0m\u001b[0m\n\u001b[0;32m----> 6\u001b[0;31m \u001b[0mbar\u001b[0m\u001b[0;34m.\u001b[0m\u001b[0my_range\u001b[0m \u001b[0;34m=\u001b[0m \u001b[0mRange1d\u001b[0m\u001b[0;34m(\u001b[0m\u001b[0;36m0\u001b[0m\u001b[0;34m,\u001b[0m \u001b[0;36m8\u001b[0m\u001b[0;34m)\u001b[0m\u001b[0;34m\u001b[0m\u001b[0m\n\u001b[0m\u001b[1;32m      7\u001b[0m \u001b[0mbar\u001b[0m\u001b[0;34m.\u001b[0m\u001b[0mtoolbar_location\u001b[0m\u001b[0;34m=\u001b[0m\u001b[0;34m'above'\u001b[0m\u001b[0;34m\u001b[0m\u001b[0m\n\u001b[1;32m      8\u001b[0m \u001b[0mbar\u001b[0m\u001b[0;34m.\u001b[0m\u001b[0mlegend\u001b[0m\u001b[0;34m[\u001b[0m\u001b[0;36m0\u001b[0m\u001b[0;34m]\u001b[0m\u001b[0;34m.\u001b[0m\u001b[0mvisible\u001b[0m\u001b[0;34m=\u001b[0m\u001b[0;32mFalse\u001b[0m\u001b[0;34m\u001b[0m\u001b[0m\n",
      "\u001b[0;31mNameError\u001b[0m: name 'Range1d' is not defined"
     ]
    }
   ],
   "source": [
    "bar = Bar(data, values='Train Time Ratio', agg='mean', label=['label'], \n",
    "          plot_width=600, plot_height=400, bar_width=0.7, color='#5975a4')\n",
    "bar.axis[0].axis_label=''\n",
    "bar.axis[1].axis_label='Train Time Ratio (XGBoost/LightGBM)'\n",
    "bar.axis[1].axis_label_text_font_size='12pt'\n",
    "bar.y_range = Range1d(0, 8)\n",
    "bar.toolbar_location='above'\n",
    "bar.legend[0].visible=False\n",
    "show(bar)"
   ]
  },
  {
   "cell_type": "code",
   "execution_count": null,
   "metadata": {
    "collapsed": false,
    "deletable": true,
    "editable": true,
    "scrolled": true
   },
   "outputs": [],
   "source": [
    "bar.output_backend = \"svg\"\n",
    "export_svgs(bar, filename=\"xgb_vs_lgbm_train_time.svg\")\n",
    "display(SVG('xgb_vs_lgbm_train_time.svg'))"
   ]
  },
  {
   "cell_type": "markdown",
   "metadata": {},
   "source": [
    "Plot of train time ratio for GPU experiments."
   ]
  },
  {
   "cell_type": "code",
   "execution_count": null,
   "metadata": {
    "collapsed": true
   },
   "outputs": [],
   "source": [
    "data = {\n",
    "    'Train Time Ratio': results_gpu['Train Time Ratio'].values,\n",
    "    'label': results_gpu.index.values\n",
    "}"
   ]
  },
  {
   "cell_type": "code",
   "execution_count": null,
   "metadata": {
    "collapsed": false
   },
   "outputs": [],
   "source": [
    "bar = Bar(data, values='Train Time Ratio', agg='mean', label=['label'],\n",
    "          plot_width=300, plot_height=400, bar_width=0.5, color='#ffcc99')\n",
    "bar.axis[0].axis_label=''\n",
    "bar.y_range = Range1d(0, 8)\n",
    "bar.axis[1].axis_label='Train Time Ratio (XGBoost/LightGBM)'\n",
    "bar.axis[1].axis_label_text_font_size='12pt'\n",
    "bar.toolbar_location='above'\n",
    "bar.legend[0].visible=False\n",
    "show(bar)"
   ]
  },
  {
   "cell_type": "code",
   "execution_count": null,
   "metadata": {
    "collapsed": true
   },
   "outputs": [],
   "source": [
    "bar.output_backend = \"svg\"\n",
    "export_svgs(bar, filename=\"xgb_vs_lgbm_train_time_gpu.svg\")\n",
    "display(SVG('xgb_vs_lgbm_train_time_gpu.svg'))"
   ]
  },
  {
   "cell_type": "code",
   "execution_count": null,
   "metadata": {
    "collapsed": true,
    "deletable": true,
    "editable": true
   },
   "outputs": [],
   "source": [
    "data = {\n",
    "    'Perf. Difference(%)': results_df['Perf. Difference(%)'].values,\n",
    "    'label': results_df.index.values\n",
    "}"
   ]
  },
  {
   "cell_type": "code",
   "execution_count": null,
   "metadata": {
    "collapsed": false,
    "deletable": true,
    "editable": true
   },
   "outputs": [],
   "source": [
    "bar = Bar(data, values='Perf. Difference(%)', agg='mean', label=['label'], \n",
    "          plot_width=600, plot_height=400, bar_width=0.7, color='#5975a4')\n",
    "bar.axis[0].axis_label=''\n",
    "bar.axis[1].axis_label='Perf. Difference(%)'\n",
    "bar.toolbar_location='above'\n",
    "bar.legend[0].visible=False\n",
    "show(bar)"
   ]
  },
  {
   "cell_type": "code",
   "execution_count": null,
   "metadata": {
    "collapsed": false,
    "deletable": true,
    "editable": true
   },
   "outputs": [],
   "source": [
    "bar.output_backend = \"svg\"\n",
    "export_svgs(bar, filename=\"xgb_vs_lgbm_performance.svg\")\n",
    "display(SVG('xgb_vs_lgbm_performance.svg'))"
   ]
  },
  {
   "cell_type": "markdown",
   "metadata": {
    "deletable": true,
    "editable": true
   },
   "source": [
    "From the table as well as the plots below we can see that overall the difference in performance is quite small. LightGBM though is 2 to over 10 times quicker than XGBoost."
   ]
  }
 ],
 "metadata": {
  "kernelspec": {
   "display_name": "Python Strata",
   "language": "python",
   "name": "strata"
  },
  "language_info": {
   "codemirror_mode": {
    "name": "ipython",
    "version": 3
   },
   "file_extension": ".py",
   "mimetype": "text/x-python",
   "name": "python",
   "nbconvert_exporter": "python",
   "pygments_lexer": "ipython3",
   "version": "3.6.0"
  }
 },
 "nbformat": 4,
 "nbformat_minor": 2
}
