{
 "cells": [
  {
   "cell_type": "markdown",
   "metadata": {
    "deletable": true,
    "editable": true
   },
   "source": [
    "# XGBoost vs LightGBM\n",
    "\n",
    "In this notebook we collect the results from all the experiments and reports the comparative difference between XGBoost and LightGBM"
   ]
  },
  {
   "cell_type": "code",
   "execution_count": 1,
   "metadata": {
    "collapsed": false,
    "deletable": true,
    "editable": true
   },
   "outputs": [
    {
     "name": "stderr",
     "output_type": "stream",
     "text": [
      "/anaconda/envs/strata/lib/python3.5/site-packages/bokeh/util/deprecation.py:34: BokehDeprecationWarning: \n",
      "The bokeh.charts API has moved to a separate 'bkcharts' package.\n",
      "\n",
      "This compatibility shim will remain until Bokeh 1.0 is released.\n",
      "After that, if you want to use this API you will have to install\n",
      "the bkcharts package explicitly.\n",
      "\n",
      "  warn(message)\n"
     ]
    }
   ],
   "source": [
    "import matplotlib.pyplot as plt\n",
    "import nbformat\n",
    "import json\n",
    "from toolz import pipe, juxt\n",
    "import pandas as pd\n",
    "import seaborn\n",
    "from toolz import curry\n",
    "\n",
    "from bokeh.io import show, output_notebook\n",
    "from bokeh.charts import Bar\n",
    "from bokeh.models.renderers import GlyphRenderer\n",
    "from bokeh.models.glyphs import Rect\n",
    "from bokeh.models import Range1d\n",
    "from toolz import curry\n",
    "from bokeh.io import export_svgs\n",
    "from IPython.display import SVG, display\n",
    "\n",
    "%matplotlib inline "
   ]
  },
  {
   "cell_type": "code",
   "execution_count": 2,
   "metadata": {
    "collapsed": false,
    "deletable": true,
    "editable": true
   },
   "outputs": [
    {
     "data": {
      "text/html": [
       "\n",
       "    <div class=\"bk-root\">\n",
       "        <a href=\"http://bokeh.pydata.org\" target=\"_blank\" class=\"bk-logo bk-logo-small bk-logo-notebook\"></a>\n",
       "        <span id=\"e0bfd9d6-7cd5-4f0a-957b-0ef363c944df\">Loading BokehJS ...</span>\n",
       "    </div>"
      ]
     },
     "metadata": {},
     "output_type": "display_data"
    },
    {
     "data": {
      "application/javascript": [
       "\n",
       "(function(global) {\n",
       "  function now() {\n",
       "    return new Date();\n",
       "  }\n",
       "\n",
       "  var force = true;\n",
       "\n",
       "  if (typeof (window._bokeh_onload_callbacks) === \"undefined\" || force === true) {\n",
       "    window._bokeh_onload_callbacks = [];\n",
       "    window._bokeh_is_loading = undefined;\n",
       "  }\n",
       "\n",
       "\n",
       "  \n",
       "  if (typeof (window._bokeh_timeout) === \"undefined\" || force === true) {\n",
       "    window._bokeh_timeout = Date.now() + 5000;\n",
       "    window._bokeh_failed_load = false;\n",
       "  }\n",
       "\n",
       "  var NB_LOAD_WARNING = {'data': {'text/html':\n",
       "     \"<div style='background-color: #fdd'>\\n\"+\n",
       "     \"<p>\\n\"+\n",
       "     \"BokehJS does not appear to have successfully loaded. If loading BokehJS from CDN, this \\n\"+\n",
       "     \"may be due to a slow or bad network connection. Possible fixes:\\n\"+\n",
       "     \"</p>\\n\"+\n",
       "     \"<ul>\\n\"+\n",
       "     \"<li>re-rerun `output_notebook()` to attempt to load from CDN again, or</li>\\n\"+\n",
       "     \"<li>use INLINE resources instead, as so:</li>\\n\"+\n",
       "     \"</ul>\\n\"+\n",
       "     \"<code>\\n\"+\n",
       "     \"from bokeh.resources import INLINE\\n\"+\n",
       "     \"output_notebook(resources=INLINE)\\n\"+\n",
       "     \"</code>\\n\"+\n",
       "     \"</div>\"}};\n",
       "\n",
       "  function display_loaded() {\n",
       "    if (window.Bokeh !== undefined) {\n",
       "      var el = document.getElementById(\"e0bfd9d6-7cd5-4f0a-957b-0ef363c944df\");\n",
       "      el.textContent = \"BokehJS \" + Bokeh.version + \" successfully loaded.\";\n",
       "    } else if (Date.now() < window._bokeh_timeout) {\n",
       "      setTimeout(display_loaded, 100)\n",
       "    }\n",
       "  }\n",
       "\n",
       "  function run_callbacks() {\n",
       "    try {\n",
       "      window._bokeh_onload_callbacks.forEach(function(callback) { callback() });\n",
       "    }\n",
       "    finally {\n",
       "      delete window._bokeh_onload_callbacks\n",
       "    }\n",
       "    console.info(\"Bokeh: all callbacks have finished\");\n",
       "  }\n",
       "\n",
       "  function load_libs(js_urls, callback) {\n",
       "    window._bokeh_onload_callbacks.push(callback);\n",
       "    if (window._bokeh_is_loading > 0) {\n",
       "      console.log(\"Bokeh: BokehJS is being loaded, scheduling callback at\", now());\n",
       "      return null;\n",
       "    }\n",
       "    if (js_urls == null || js_urls.length === 0) {\n",
       "      run_callbacks();\n",
       "      return null;\n",
       "    }\n",
       "    console.log(\"Bokeh: BokehJS not loaded, scheduling load and callback at\", now());\n",
       "    window._bokeh_is_loading = js_urls.length;\n",
       "    for (var i = 0; i < js_urls.length; i++) {\n",
       "      var url = js_urls[i];\n",
       "      var s = document.createElement('script');\n",
       "      s.src = url;\n",
       "      s.async = false;\n",
       "      s.onreadystatechange = s.onload = function() {\n",
       "        window._bokeh_is_loading--;\n",
       "        if (window._bokeh_is_loading === 0) {\n",
       "          console.log(\"Bokeh: all BokehJS libraries loaded\");\n",
       "          run_callbacks()\n",
       "        }\n",
       "      };\n",
       "      s.onerror = function() {\n",
       "        console.warn(\"failed to load library \" + url);\n",
       "      };\n",
       "      console.log(\"Bokeh: injecting script tag for BokehJS library: \", url);\n",
       "      document.getElementsByTagName(\"head\")[0].appendChild(s);\n",
       "    }\n",
       "  };var element = document.getElementById(\"e0bfd9d6-7cd5-4f0a-957b-0ef363c944df\");\n",
       "  if (element == null) {\n",
       "    console.log(\"Bokeh: ERROR: autoload.js configured with elementid 'e0bfd9d6-7cd5-4f0a-957b-0ef363c944df' but no matching script tag was found. \")\n",
       "    return false;\n",
       "  }\n",
       "\n",
       "  var js_urls = [\"https://cdn.pydata.org/bokeh/release/bokeh-0.12.6.min.js\", \"https://cdn.pydata.org/bokeh/release/bokeh-widgets-0.12.6.min.js\"];\n",
       "\n",
       "  var inline_js = [\n",
       "    function(Bokeh) {\n",
       "      Bokeh.set_log_level(\"info\");\n",
       "    },\n",
       "    \n",
       "    function(Bokeh) {\n",
       "      \n",
       "    },\n",
       "    \n",
       "    function(Bokeh) {\n",
       "      \n",
       "      document.getElementById(\"e0bfd9d6-7cd5-4f0a-957b-0ef363c944df\").textContent = \"BokehJS is loading...\";\n",
       "    },\n",
       "    function(Bokeh) {\n",
       "      console.log(\"Bokeh: injecting CSS: https://cdn.pydata.org/bokeh/release/bokeh-0.12.6.min.css\");\n",
       "      Bokeh.embed.inject_css(\"https://cdn.pydata.org/bokeh/release/bokeh-0.12.6.min.css\");\n",
       "      console.log(\"Bokeh: injecting CSS: https://cdn.pydata.org/bokeh/release/bokeh-widgets-0.12.6.min.css\");\n",
       "      Bokeh.embed.inject_css(\"https://cdn.pydata.org/bokeh/release/bokeh-widgets-0.12.6.min.css\");\n",
       "    }\n",
       "  ];\n",
       "\n",
       "  function run_inline_js() {\n",
       "    \n",
       "    if ((window.Bokeh !== undefined) || (force === true)) {\n",
       "      for (var i = 0; i < inline_js.length; i++) {\n",
       "        inline_js[i](window.Bokeh);\n",
       "      }if (force === true) {\n",
       "        display_loaded();\n",
       "      }} else if (Date.now() < window._bokeh_timeout) {\n",
       "      setTimeout(run_inline_js, 100);\n",
       "    } else if (!window._bokeh_failed_load) {\n",
       "      console.log(\"Bokeh: BokehJS failed to load within specified timeout.\");\n",
       "      window._bokeh_failed_load = true;\n",
       "    } else if (force !== true) {\n",
       "      var cell = $(document.getElementById(\"e0bfd9d6-7cd5-4f0a-957b-0ef363c944df\")).parents('.cell').data().cell;\n",
       "      cell.output_area.append_execute_result(NB_LOAD_WARNING)\n",
       "    }\n",
       "\n",
       "  }\n",
       "\n",
       "  if (window._bokeh_is_loading === 0) {\n",
       "    console.log(\"Bokeh: BokehJS loaded, going straight to plotting\");\n",
       "    run_inline_js();\n",
       "  } else {\n",
       "    load_libs(js_urls, function() {\n",
       "      console.log(\"Bokeh: BokehJS plotting callback run at\", now());\n",
       "      run_inline_js();\n",
       "    });\n",
       "  }\n",
       "}(this));"
      ]
     },
     "metadata": {},
     "output_type": "display_data"
    }
   ],
   "source": [
    "output_notebook()"
   ]
  },
  {
   "cell_type": "markdown",
   "metadata": {
    "deletable": true,
    "editable": true
   },
   "source": [
    "We are going to read the results from the following notebooks"
   ]
  },
  {
   "cell_type": "code",
   "execution_count": 12,
   "metadata": {
    "collapsed": false,
    "deletable": true,
    "editable": true
   },
   "outputs": [],
   "source": [
    "notebooks = {\n",
    "    'Airline':'01_airline.ipynb',\n",
    "    'Airline_GPU': '01_airline_GPU.ipynb',\n",
    "    'BCI': '02_BCI.ipynb',\n",
    "    'BCI_GPU': '02_BCI_GPU.ipynb',\n",
    "    'Football': '03_football.ipynb',\n",
    "    'Football_GPU': '03_football_GPU.ipynb',\n",
    "    'Planet': '04_PlanetKaggle.ipynb',\n",
    "    'Plannet_GPU': '04_PlanetKaggle_GPU.ipynb',\n",
    "    'Fraud': '05_FraudDetection.ipynb',\n",
    "    'Fraud_GPU': '05_FraudDetection_GPU.ipynb',\n",
    "    'HIGGS': '06_HIGGS.ipynb',\n",
    "    'HIGGS_GPU': '06_HIGGS_GPU.ipynb'\n",
    "}"
   ]
  },
  {
   "cell_type": "code",
   "execution_count": 13,
   "metadata": {
    "collapsed": true,
    "deletable": true,
    "editable": true
   },
   "outputs": [],
   "source": [
    "def read_notebook(notebook_name):\n",
    "    with open(notebook_name) as f:\n",
    "        return nbformat.read(f, as_version=4)"
   ]
  },
  {
   "cell_type": "code",
   "execution_count": 14,
   "metadata": {
    "collapsed": true,
    "deletable": true,
    "editable": true
   },
   "outputs": [],
   "source": [
    "def results_cell_from(nb):\n",
    "    for cell in nb.cells:\n",
    "        if cell['cell_type']=='code' and cell['source'].startswith('# Results'):\n",
    "            return cell"
   ]
  },
  {
   "cell_type": "code",
   "execution_count": 7,
   "metadata": {
    "collapsed": true,
    "deletable": true,
    "editable": true
   },
   "outputs": [],
   "source": [
    "def extract_text(cell):\n",
    "    return cell['outputs'][0]['text']"
   ]
  },
  {
   "cell_type": "code",
   "execution_count": 8,
   "metadata": {
    "collapsed": true,
    "deletable": true,
    "editable": true
   },
   "outputs": [],
   "source": [
    "@curry\n",
    "def remove_line_with(match_str, json_string):\n",
    "    return '\\n'.join(filter(lambda x: match_str not in x, json_string.split('\\n')))"
   ]
  },
  {
   "cell_type": "code",
   "execution_count": 9,
   "metadata": {
    "collapsed": true,
    "deletable": true,
    "editable": true
   },
   "outputs": [],
   "source": [
    "def process_nb(notebook_name):\n",
    "    return pipe(notebook_name,\n",
    "                read_notebook,\n",
    "                results_cell_from,\n",
    "                extract_text,\n",
    "                remove_line_with('total RAM usage'),\n",
    "                json.loads)"
   ]
  },
  {
   "cell_type": "markdown",
   "metadata": {
    "deletable": true,
    "editable": true
   },
   "source": [
    "Here we collect the results from all the exeperiment notebooks. The method simply searches the notebooks for a cell that starts with # Results. It then reads that cells output in as JSON."
   ]
  },
  {
   "cell_type": "code",
   "execution_count": 15,
   "metadata": {
    "collapsed": false,
    "deletable": true,
    "editable": true
   },
   "outputs": [],
   "source": [
    "results = {nb_key:process_nb(nb_name) for nb_key, nb_name in notebooks.items()}"
   ]
  },
  {
   "cell_type": "code",
   "execution_count": 16,
   "metadata": {
    "collapsed": false,
    "deletable": true,
    "editable": true
   },
   "outputs": [
    {
     "data": {
      "text/plain": [
       "{'Airline': {'lgbm': {'performance': {'AUC': 0.8085689434502803,\n",
       "    'Accuracy': 0.7353896817753379,\n",
       "    'F1': 0.6940196231335755,\n",
       "    'Precision': 0.7695546060118544,\n",
       "    'Recall': 0.6319874302870966},\n",
       "   'test_time': 14.591926063993014,\n",
       "   'train_time': 366.37647559295874},\n",
       "  'xgb': {'performance': {'AUC': 0.7864092771976574,\n",
       "    'Accuracy': 0.630096137083639,\n",
       "    'F1': 0.6981365687005567,\n",
       "    'Precision': 0.5699044513344648,\n",
       "    'Recall': 0.9008287536758128},\n",
       "   'test_time': 12.680251265061088,\n",
       "   'train_time': 2180.798558813054},\n",
       "  'xgb_hist': {'performance': {'AUC': 0.8076206419213058,\n",
       "    'Accuracy': 0.6736735917278169,\n",
       "    'F1': 0.7170332167054881,\n",
       "    'Precision': 0.6094592088790932,\n",
       "    'Recall': 0.8707220218423469},\n",
       "   'test_time': 14.63406790792942,\n",
       "   'train_time': 578.727180639049}},\n",
       " 'Airline_GPU': {'lgbm': {'performance': {'AUC': 0.8337768089671014,\n",
       "    'Accuracy': 0.759485,\n",
       "    'F1': 0.7287511489294516,\n",
       "    'Precision': 0.7825276109281147,\n",
       "    'Recall': 0.6818906113145426},\n",
       "   'test_time': 0.4406728470348753,\n",
       "   'train_time': 21.35982791200513},\n",
       "  'xgb': {'performance': {'AUC': 0.8192046845123026,\n",
       "    'Accuracy': 0.69482,\n",
       "    'F1': 0.7261780856332771,\n",
       "    'Precision': 0.6316011268836672,\n",
       "    'Recall': 0.8540675158025812},\n",
       "   'test_time': 0.17746437300229445,\n",
       "   'train_time': 65.04751256300369},\n",
       "  'xgb_hist': {'performance': {'AUC': 0.8320738548162672,\n",
       "    'Accuracy': 0.716655,\n",
       "    'F1': 0.7380473621685087,\n",
       "    'Precision': 0.6566751665707,\n",
       "    'Recall': 0.8424385044795965},\n",
       "   'test_time': 0.23500945995328948,\n",
       "   'train_time': 27.15939338703174}},\n",
       " 'BCI': {'lgbm': {'performance': {'AUC': 0.5348626373626374,\n",
       "    'Accuracy': 0.8802275008364001,\n",
       "    'F1': 0.13734939759036147,\n",
       "    'Precision': 0.5588235294117647,\n",
       "    'Recall': 0.0782967032967033},\n",
       "   'test_time': 0.7029972260352224,\n",
       "   'train_time': 6.380580052034929},\n",
       "  'xgb': {'performance': {'AUC': 0.5277435897435897,\n",
       "    'Accuracy': 0.8812311809969889,\n",
       "    'F1': 0.11027568922305765,\n",
       "    'Precision': 0.6285714285714286,\n",
       "    'Recall': 0.06043956043956044},\n",
       "   'test_time': 0.5001096819760278,\n",
       "   'train_time': 15.975884190993384},\n",
       "  'xgb_hist': {'performance': {'AUC': 0.536521978021978,\n",
       "    'Accuracy': 0.8810639009702241,\n",
       "    'F1': 0.14234016887816647,\n",
       "    'Precision': 0.5841584158415841,\n",
       "    'Recall': 0.08104395604395605},\n",
       "   'test_time': 0.7757045479957014,\n",
       "   'train_time': 52.695884556975216}},\n",
       " 'BCI_GPU': {'lgbm': {'performance': {'AUC': 0.7714542124542124,\n",
       "    'Accuracy': 0.8813984610237537,\n",
       "    'F1': 0.13851761846901578,\n",
       "    'Precision': 0.6,\n",
       "    'Recall': 0.0782967032967033},\n",
       "   'test_time': 0.009907090001433971,\n",
       "   'train_time': 2.7659428379993187},\n",
       "  'xgb': {'performance': {'AUC': 0.7716584249084248,\n",
       "    'Accuracy': 0.8798929407828705,\n",
       "    'F1': 0.09343434343434343,\n",
       "    'Precision': 0.578125,\n",
       "    'Recall': 0.050824175824175824},\n",
       "   'test_time': 0.0064387769998575095,\n",
       "   'train_time': 12.934047714998997},\n",
       "  'xgb_hist': {'performance': {'AUC': 0.7736170852956569,\n",
       "    'Accuracy': 0.8805620608899297,\n",
       "    'F1': 0.12068965517241378,\n",
       "    'Precision': 0.5833333333333334,\n",
       "    'Recall': 0.0673076923076923},\n",
       "   'test_time': 0.00308577800024068,\n",
       "   'train_time': 42.69890288699935}},\n",
       " 'Football': {'lgbm': {'performance': {'Accuracy': 0.5273189326556544,\n",
       "    'F1': 0.4594968503939465,\n",
       "    'Precision': 0.4627647374365573,\n",
       "    'Recall': 0.5273189326556544},\n",
       "   'test_time': 0.01769829506520182,\n",
       "   'train_time': 0.5824753509368747},\n",
       "  'xgb': {'performance': {'Accuracy': 0.5285895806861499,\n",
       "    'F1': 0.4581501758019101,\n",
       "    'Precision': 0.4728104942149788,\n",
       "    'Recall': 0.5285895806861499},\n",
       "   'test_time': 0.01739849301520735,\n",
       "   'train_time': 2.277035239036195},\n",
       "  'xgb_hist': {'performance': {'Accuracy': 0.5285895806861499,\n",
       "    'F1': 0.46087114582653593,\n",
       "    'Precision': 0.4747655220586142,\n",
       "    'Recall': 0.5285895806861499},\n",
       "   'test_time': 0.013859358034096658,\n",
       "   'train_time': 2.4757352949818596}},\n",
       " 'Football_GPU': {'lgbm': {'performance': {'Accuracy': 0.5344345616264294,\n",
       "    'F1': 0.4704311590503636,\n",
       "    'Precision': 0.48847893806298454,\n",
       "    'Recall': 0.5344345616264294},\n",
       "   'test_time': 0.029374134999670787,\n",
       "   'train_time': 0.976751588001207},\n",
       "  'xgb': {'performance': {'Accuracy': 0.5359593392630242,\n",
       "    'F1': 0.4704659043141339,\n",
       "    'Precision': 0.4825747269523364,\n",
       "    'Recall': 0.5359593392630242},\n",
       "   'test_time': 0.006567717999132583,\n",
       "   'train_time': 7.09927419500309},\n",
       "  'xgb_hist': {'performance': {'Accuracy': 0.537992376111817,\n",
       "    'F1': 0.4723094570741036,\n",
       "    'Precision': 0.4944404394401915,\n",
       "    'Recall': 0.537992376111817},\n",
       "   'test_time': 0.007724854996922659,\n",
       "   'train_time': 4.588017762001982}},\n",
       " 'Fraud': {'lgbm': {'performance': {'AUC': 0.8749179318834633,\n",
       "    'Accuracy': 0.999403110845827,\n",
       "    'F1': 0.8131868131868133,\n",
       "    'Precision': 0.888,\n",
       "    'Recall': 0.75},\n",
       "   'test_time': 0.05627289199946972,\n",
       "   'train_time': 0.73749636499997},\n",
       "  'xgb': {'performance': {'AUC': 0.8884197213803287,\n",
       "    'Accuracy': 0.9994265182636377,\n",
       "    'F1': 0.8243727598566308,\n",
       "    'Precision': 0.8778625954198473,\n",
       "    'Recall': 0.777027027027027},\n",
       "   'test_time': 0.059653409000020474,\n",
       "   'train_time': 4.4588627679995625},\n",
       "  'xgb_hist': {'performance': {'AUC': 0.8715278294884368,\n",
       "    'Accuracy': 0.9993679997191109,\n",
       "    'F1': 0.8029197080291971,\n",
       "    'Precision': 0.873015873015873,\n",
       "    'Recall': 0.7432432432432432},\n",
       "   'test_time': 0.06544113900054072,\n",
       "   'train_time': 1.2063124559999778}},\n",
       " 'Fraud_GPU': {'lgbm': {'performance': {'AUC': 0.96572630283135,\n",
       "    'Accuracy': 0.9993914071369217,\n",
       "    'F1': 0.8115942028985507,\n",
       "    'Precision': 0.875,\n",
       "    'Recall': 0.7567567567567568},\n",
       "   'test_time': 0.04103280100025586,\n",
       "   'train_time': 0.2938522020012897},\n",
       "  'xgb': {'performance': {'AUC': 0.9699805365480376,\n",
       "    'Accuracy': 0.9994148145547324,\n",
       "    'F1': 0.8214285714285714,\n",
       "    'Precision': 0.8712121212121212,\n",
       "    'Recall': 0.777027027027027},\n",
       "   'test_time': 0.03786925599706592,\n",
       "   'train_time': 5.8025254829990445},\n",
       "  'xgb_hist': {'performance': {'AUC': 0.9692088902901377,\n",
       "    'Accuracy': 0.9994148145547324,\n",
       "    'F1': 0.8148148148148148,\n",
       "    'Precision': 0.9016393442622951,\n",
       "    'Recall': 0.7432432432432432},\n",
       "   'test_time': 0.00477967400001944,\n",
       "   'train_time': 1.6418742589994508}},\n",
       " 'HIGGS': {'lgbm': {'performance': {'AUC': 0.681899225242368,\n",
       "    'Accuracy': 0.695952,\n",
       "    'F1': 0.7616513698179115,\n",
       "    'Precision': 0.6514447704512661,\n",
       "    'Recall': 0.9167383756038647},\n",
       "   'test_time': 0.5048187420034083,\n",
       "   'train_time': 77.36947308199888},\n",
       "  'xgb': {'performance': {'AUC': 0.6709914149159111,\n",
       "    'Accuracy': 0.686014,\n",
       "    'F1': 0.7568258315146088,\n",
       "    'Precision': 0.6418233549373553,\n",
       "    'Recall': 0.922037288647343},\n",
       "   'test_time': 0.4216979429911589,\n",
       "   'train_time': 336.8079112419946},\n",
       "  'xgb_hist': {'performance': {'AUC': 0.681689757093458,\n",
       "    'Accuracy': 0.695744,\n",
       "    'F1': 0.7614905585831916,\n",
       "    'Precision': 0.6513028739393029,\n",
       "    'Recall': 0.9165534420289855},\n",
       "   'test_time': 0.4771806640055729,\n",
       "   'train_time': 102.01795201399364}},\n",
       " 'HIGGS_GPU': {'lgbm': {'performance': {'AUC': 0.8124932459750145,\n",
       "    'Accuracy': 0.696504,\n",
       "    'F1': 0.7618780108902035,\n",
       "    'Precision': 0.6520399666944213,\n",
       "    'Recall': 0.9162175422705314},\n",
       "   'test_time': 0.5812869679939467,\n",
       "   'train_time': 55.90265058800287},\n",
       "  'xgb_hist': {'performance': {'AUC': 0.8125744035862665,\n",
       "    'Accuracy': 0.69611,\n",
       "    'F1': 0.7617636498476774,\n",
       "    'Precision': 0.6515633088450263,\n",
       "    'Recall': 0.9168289553140097},\n",
       "   'test_time': 0.40938539399940055,\n",
       "   'train_time': 79.26771475499845}},\n",
       " 'Planet': {'lgbm': {'performance': {'Accuracy': 0.37233071728417594,\n",
       "    'F1': 0.822258366139549,\n",
       "    'Precision': 0.7439077632634851,\n",
       "    'Recall': 0.9734099462015139},\n",
       "   'test_time': 0.15469344901794102,\n",
       "   'train_time': 204.2142151430162},\n",
       "  'xgb': {'performance': {'Accuracy': 0.34294579302792483,\n",
       "    'F1': 0.8057501700875331,\n",
       "    'Precision': 0.718830266790661,\n",
       "    'Recall': 0.97851623949452},\n",
       "   'test_time': 0.19247820801683702,\n",
       "   'train_time': 306.51174835798156},\n",
       "  'xgb_hist': {'performance': {'Accuracy': 0.37871874429640445,\n",
       "    'F1': 0.8220252909027159,\n",
       "    'Precision': 0.7447899193746976,\n",
       "    'Recall': 0.9720717197264013},\n",
       "   'test_time': 0.16421512604574673,\n",
       "   'train_time': 1990.168412206025}},\n",
       " 'Plannet_GPU': {'lgbm': {'performance': {'Accuracy': 0.3719656871691915,\n",
       "    'F1': 0.8219281534713183,\n",
       "    'Precision': 0.7435648956911961,\n",
       "    'Recall': 0.9733034790846435},\n",
       "   'test_time': 0.2703422480117297,\n",
       "   'train_time': 317.68381078500533},\n",
       "  'xgb_hist': {'performance': {'Accuracy': 0.37871874429640445,\n",
       "    'F1': 0.8220252909027159,\n",
       "    'Precision': 0.7447899193746976,\n",
       "    'Recall': 0.9720717197264013},\n",
       "   'test_time': 0.24103524297242984,\n",
       "   'train_time': 2028.4320792920043}}}"
      ]
     },
     "execution_count": 16,
     "metadata": {},
     "output_type": "execute_result"
    }
   ],
   "source": [
    "results"
   ]
  },
  {
   "cell_type": "markdown",
   "metadata": {
    "deletable": true,
    "editable": true
   },
   "source": [
    "We wish to compare LightGBM and XGBoost both in terms of performance as well as how long they took to train."
   ]
  },
  {
   "cell_type": "code",
   "execution_count": 23,
   "metadata": {
    "collapsed": true,
    "deletable": true,
    "editable": true
   },
   "outputs": [],
   "source": [
    "def average_performance_diff(dataset):\n",
    "    lgbm_series = pd.Series(dataset['lgbm']['performance'])\n",
    "    try:\n",
    "        perf = 100*((lgbm_series-pd.Series(dataset['xgb']['performance']))/lgbm_series).mean()\n",
    "    except KeyError:\n",
    "        perf = None\n",
    "    return perf"
   ]
  },
  {
   "cell_type": "code",
   "execution_count": 25,
   "metadata": {
    "collapsed": true,
    "deletable": true,
    "editable": true
   },
   "outputs": [],
   "source": [
    "def train_time_ratio(dataset):\n",
    "    try: \n",
    "        perf = dataset['xgb']['train_time']/dataset['lgbm']['train_time']\n",
    "    except KeyError:\n",
    "        perf = None\n",
    "    return perf\n",
    "\n",
    "def train_time_ratio_hist(dataset):\n",
    "    try: \n",
    "        perf = dataset['xgb_hist']['train_time']/dataset['lgbm']['train_time']\n",
    "    except KeyError:\n",
    "        perf = None\n",
    "    return perf\n",
    "\n",
    "def test_time_ratio(dataset):\n",
    "    try: \n",
    "        perf = dataset['xgb']['test_time']/dataset['lgbm']['test_time']\n",
    "    except KeyError:\n",
    "        perf = None\n",
    "    return perf"
   ]
  },
  {
   "cell_type": "code",
   "execution_count": 26,
   "metadata": {
    "collapsed": false,
    "deletable": true,
    "editable": true
   },
   "outputs": [],
   "source": [
    "metrics = juxt(average_performance_diff, train_time_ratio, train_time_ratio_hist, test_time_ratio)\n",
    "res_per_dataset = {dataset_key:metrics(dataset) for dataset_key, dataset in results.items()}"
   ]
  },
  {
   "cell_type": "code",
   "execution_count": 27,
   "metadata": {
    "collapsed": true,
    "deletable": true,
    "editable": true
   },
   "outputs": [],
   "source": [
    "results_df = pd.DataFrame(res_per_dataset, index=['Perf. Difference(%)', \n",
    "                                                  'Train Time Ratio',\n",
    "                                                  'Train Time Ratio Hist',\n",
    "                                                  'Test Time Ratio']).T"
   ]
  },
  {
   "cell_type": "code",
   "execution_count": 28,
   "metadata": {
    "collapsed": false,
    "deletable": true,
    "editable": true
   },
   "outputs": [
    {
     "data": {
      "text/html": [
       "<div>\n",
       "<table border=\"1\" class=\"dataframe\">\n",
       "  <thead>\n",
       "    <tr style=\"text-align: right;\">\n",
       "      <th></th>\n",
       "      <th>Perf. Difference(%)</th>\n",
       "      <th>Train Time Ratio</th>\n",
       "      <th>Train Time Ratio Hist</th>\n",
       "      <th>Test Time Ratio</th>\n",
       "    </tr>\n",
       "  </thead>\n",
       "  <tbody>\n",
       "    <tr>\n",
       "      <th>Airline</th>\n",
       "      <td>-0.025994</td>\n",
       "      <td>5.952343</td>\n",
       "      <td>1.579597</td>\n",
       "      <td>0.868991</td>\n",
       "    </tr>\n",
       "    <tr>\n",
       "      <th>Airline_GPU</th>\n",
       "      <td>0.930449</td>\n",
       "      <td>3.045320</td>\n",
       "      <td>1.271517</td>\n",
       "      <td>0.402712</td>\n",
       "    </tr>\n",
       "    <tr>\n",
       "      <th>BCI</th>\n",
       "      <td>6.250871</td>\n",
       "      <td>2.503829</td>\n",
       "      <td>8.258792</td>\n",
       "      <td>0.711396</td>\n",
       "    </tr>\n",
       "    <tr>\n",
       "      <th>BCI_GPU</th>\n",
       "      <td>14.284971</td>\n",
       "      <td>4.676180</td>\n",
       "      <td>15.437377</td>\n",
       "      <td>0.649916</td>\n",
       "    </tr>\n",
       "    <tr>\n",
       "      <th>Football</th>\n",
       "      <td>-0.589916</td>\n",
       "      <td>3.909239</td>\n",
       "      <td>4.250369</td>\n",
       "      <td>0.983060</td>\n",
       "    </tr>\n",
       "    <tr>\n",
       "      <th>Football_GPU</th>\n",
       "      <td>0.157673</td>\n",
       "      <td>7.268249</td>\n",
       "      <td>4.697221</td>\n",
       "      <td>0.223588</td>\n",
       "    </tr>\n",
       "    <tr>\n",
       "      <th>Fraud</th>\n",
       "      <td>-1.076624</td>\n",
       "      <td>6.045945</td>\n",
       "      <td>1.635686</td>\n",
       "      <td>1.060074</td>\n",
       "    </tr>\n",
       "    <tr>\n",
       "      <th>Fraud_GPU</th>\n",
       "      <td>-0.780054</td>\n",
       "      <td>19.746408</td>\n",
       "      <td>5.587415</td>\n",
       "      <td>0.922902</td>\n",
       "    </tr>\n",
       "    <tr>\n",
       "      <th>HIGGS</th>\n",
       "      <td>0.912015</td>\n",
       "      <td>4.353240</td>\n",
       "      <td>1.318581</td>\n",
       "      <td>0.835345</td>\n",
       "    </tr>\n",
       "    <tr>\n",
       "      <th>HIGGS_GPU</th>\n",
       "      <td>NaN</td>\n",
       "      <td>NaN</td>\n",
       "      <td>1.417960</td>\n",
       "      <td>NaN</td>\n",
       "    </tr>\n",
       "    <tr>\n",
       "      <th>Planet</th>\n",
       "      <td>3.186573</td>\n",
       "      <td>1.500932</td>\n",
       "      <td>9.745494</td>\n",
       "      <td>1.244256</td>\n",
       "    </tr>\n",
       "    <tr>\n",
       "      <th>Plannet_GPU</th>\n",
       "      <td>NaN</td>\n",
       "      <td>NaN</td>\n",
       "      <td>6.385066</td>\n",
       "      <td>NaN</td>\n",
       "    </tr>\n",
       "  </tbody>\n",
       "</table>\n",
       "</div>"
      ],
      "text/plain": [
       "              Perf. Difference(%)  Train Time Ratio  Train Time Ratio Hist  \\\n",
       "Airline                 -0.025994          5.952343               1.579597   \n",
       "Airline_GPU              0.930449          3.045320               1.271517   \n",
       "BCI                      6.250871          2.503829               8.258792   \n",
       "BCI_GPU                 14.284971          4.676180              15.437377   \n",
       "Football                -0.589916          3.909239               4.250369   \n",
       "Football_GPU             0.157673          7.268249               4.697221   \n",
       "Fraud                   -1.076624          6.045945               1.635686   \n",
       "Fraud_GPU               -0.780054         19.746408               5.587415   \n",
       "HIGGS                    0.912015          4.353240               1.318581   \n",
       "HIGGS_GPU                     NaN               NaN               1.417960   \n",
       "Planet                   3.186573          1.500932               9.745494   \n",
       "Plannet_GPU                   NaN               NaN               6.385066   \n",
       "\n",
       "              Test Time Ratio  \n",
       "Airline              0.868991  \n",
       "Airline_GPU          0.402712  \n",
       "BCI                  0.711396  \n",
       "BCI_GPU              0.649916  \n",
       "Football             0.983060  \n",
       "Football_GPU         0.223588  \n",
       "Fraud                1.060074  \n",
       "Fraud_GPU            0.922902  \n",
       "HIGGS                0.835345  \n",
       "HIGGS_GPU                 NaN  \n",
       "Planet               1.244256  \n",
       "Plannet_GPU               NaN  "
      ]
     },
     "execution_count": 28,
     "metadata": {},
     "output_type": "execute_result"
    }
   ],
   "source": [
    "results_df"
   ]
  },
  {
   "cell_type": "code",
   "execution_count": 33,
   "metadata": {
    "collapsed": true,
    "deletable": true,
    "editable": true
   },
   "outputs": [],
   "source": [
    "results_gpu = results_df[[col for col in results_df.columns if col.find('GPU')]]\n",
    "results_cpu = results_df[~results_df.index.isin(results_gpu)]"
   ]
  },
  {
   "cell_type": "code",
   "execution_count": 36,
   "metadata": {
    "collapsed": false
   },
   "outputs": [
    {
     "data": {
      "text/plain": [
       "Index(['Airline', 'Airline_GPU', 'BCI', 'BCI_GPU', 'Football', 'Football_GPU',\n",
       "       'Fraud', 'Fraud_GPU', 'HIGGS', 'HIGGS_GPU', 'Planet', 'Plannet_GPU'],\n",
       "      dtype='object')"
      ]
     },
     "execution_count": 36,
     "metadata": {},
     "output_type": "execute_result"
    }
   ],
   "source": [
    "results_df.index"
   ]
  },
  {
   "cell_type": "code",
   "execution_count": 35,
   "metadata": {
    "collapsed": false
   },
   "outputs": [
    {
     "data": {
      "text/plain": [
       "['Perf. Difference(%)',\n",
       " 'Train Time Ratio',\n",
       " 'Train Time Ratio Hist',\n",
       " 'Test Time Ratio']"
      ]
     },
     "execution_count": 35,
     "metadata": {},
     "output_type": "execute_result"
    }
   ],
   "source": [
    "[col for col in results_df.columns if col.find('GPU')]"
   ]
  },
  {
   "cell_type": "markdown",
   "metadata": {
    "deletable": true,
    "editable": true
   },
   "source": [
    "Plot of train time ratio for CPU experiments."
   ]
  },
  {
   "cell_type": "code",
   "execution_count": 17,
   "metadata": {
    "collapsed": false,
    "deletable": true,
    "editable": true
   },
   "outputs": [],
   "source": [
    "data = {\n",
    "    'Ratio': results_cpu['Train Time Ratio'].values.tolist() + results_cpu['Train Time Ratio Hist'].values.tolist(),\n",
    "    'label': results_cpu.index.values.tolist()*2,\n",
    "    'group': ['xgb/lgb']*len(results_cpu.index.values) + ['xgb_hist/lgb']*len(results_cpu.index.values)\n",
    "}"
   ]
  },
  {
   "cell_type": "code",
   "execution_count": 18,
   "metadata": {
    "collapsed": false,
    "deletable": true,
    "editable": true
   },
   "outputs": [
    {
     "data": {
      "text/html": [
       "\n",
       "\n",
       "    <div class=\"bk-root\">\n",
       "        <div class=\"bk-plotdiv\" id=\"b30fc4f5-9943-4672-95ee-d16367e4b770\"></div>\n",
       "    </div>\n",
       "<script type=\"text/javascript\">\n",
       "  \n",
       "  (function(global) {\n",
       "    function now() {\n",
       "      return new Date();\n",
       "    }\n",
       "  \n",
       "    var force = false;\n",
       "  \n",
       "    if (typeof (window._bokeh_onload_callbacks) === \"undefined\" || force === true) {\n",
       "      window._bokeh_onload_callbacks = [];\n",
       "      window._bokeh_is_loading = undefined;\n",
       "    }\n",
       "  \n",
       "  \n",
       "    \n",
       "    if (typeof (window._bokeh_timeout) === \"undefined\" || force === true) {\n",
       "      window._bokeh_timeout = Date.now() + 0;\n",
       "      window._bokeh_failed_load = false;\n",
       "    }\n",
       "  \n",
       "    var NB_LOAD_WARNING = {'data': {'text/html':\n",
       "       \"<div style='background-color: #fdd'>\\n\"+\n",
       "       \"<p>\\n\"+\n",
       "       \"BokehJS does not appear to have successfully loaded. If loading BokehJS from CDN, this \\n\"+\n",
       "       \"may be due to a slow or bad network connection. Possible fixes:\\n\"+\n",
       "       \"</p>\\n\"+\n",
       "       \"<ul>\\n\"+\n",
       "       \"<li>re-rerun `output_notebook()` to attempt to load from CDN again, or</li>\\n\"+\n",
       "       \"<li>use INLINE resources instead, as so:</li>\\n\"+\n",
       "       \"</ul>\\n\"+\n",
       "       \"<code>\\n\"+\n",
       "       \"from bokeh.resources import INLINE\\n\"+\n",
       "       \"output_notebook(resources=INLINE)\\n\"+\n",
       "       \"</code>\\n\"+\n",
       "       \"</div>\"}};\n",
       "  \n",
       "    function display_loaded() {\n",
       "      if (window.Bokeh !== undefined) {\n",
       "        var el = document.getElementById(\"b30fc4f5-9943-4672-95ee-d16367e4b770\");\n",
       "        el.textContent = \"BokehJS \" + Bokeh.version + \" successfully loaded.\";\n",
       "      } else if (Date.now() < window._bokeh_timeout) {\n",
       "        setTimeout(display_loaded, 100)\n",
       "      }\n",
       "    }\n",
       "  \n",
       "    function run_callbacks() {\n",
       "      try {\n",
       "        window._bokeh_onload_callbacks.forEach(function(callback) { callback() });\n",
       "      }\n",
       "      finally {\n",
       "        delete window._bokeh_onload_callbacks\n",
       "      }\n",
       "      console.info(\"Bokeh: all callbacks have finished\");\n",
       "    }\n",
       "  \n",
       "    function load_libs(js_urls, callback) {\n",
       "      window._bokeh_onload_callbacks.push(callback);\n",
       "      if (window._bokeh_is_loading > 0) {\n",
       "        console.log(\"Bokeh: BokehJS is being loaded, scheduling callback at\", now());\n",
       "        return null;\n",
       "      }\n",
       "      if (js_urls == null || js_urls.length === 0) {\n",
       "        run_callbacks();\n",
       "        return null;\n",
       "      }\n",
       "      console.log(\"Bokeh: BokehJS not loaded, scheduling load and callback at\", now());\n",
       "      window._bokeh_is_loading = js_urls.length;\n",
       "      for (var i = 0; i < js_urls.length; i++) {\n",
       "        var url = js_urls[i];\n",
       "        var s = document.createElement('script');\n",
       "        s.src = url;\n",
       "        s.async = false;\n",
       "        s.onreadystatechange = s.onload = function() {\n",
       "          window._bokeh_is_loading--;\n",
       "          if (window._bokeh_is_loading === 0) {\n",
       "            console.log(\"Bokeh: all BokehJS libraries loaded\");\n",
       "            run_callbacks()\n",
       "          }\n",
       "        };\n",
       "        s.onerror = function() {\n",
       "          console.warn(\"failed to load library \" + url);\n",
       "        };\n",
       "        console.log(\"Bokeh: injecting script tag for BokehJS library: \", url);\n",
       "        document.getElementsByTagName(\"head\")[0].appendChild(s);\n",
       "      }\n",
       "    };var element = document.getElementById(\"b30fc4f5-9943-4672-95ee-d16367e4b770\");\n",
       "    if (element == null) {\n",
       "      console.log(\"Bokeh: ERROR: autoload.js configured with elementid 'b30fc4f5-9943-4672-95ee-d16367e4b770' but no matching script tag was found. \")\n",
       "      return false;\n",
       "    }\n",
       "  \n",
       "    var js_urls = [];\n",
       "  \n",
       "    var inline_js = [\n",
       "      function(Bokeh) {\n",
       "        (function() {\n",
       "          var fn = function() {\n",
       "            var docs_json = {\"76600819-1068-4c5d-a0cd-d777edc75a06\":{\"roots\":{\"references\":[{\"attributes\":{\"below\":[{\"id\":\"faa9848b-41ab-4251-bd97-b524e66c3654\",\"type\":\"CategoricalAxis\"}],\"css_classes\":null,\"left\":[{\"id\":\"3a4e277f-a918-46a0-9ffa-8df1eb0c679b\",\"type\":\"LinearAxis\"}],\"plot_height\":400,\"renderers\":[{\"id\":\"a3649347-94de-4232-912b-fcea1e05fee0\",\"type\":\"BoxAnnotation\"},{\"id\":\"d6b4410f-6236-46b4-af1e-721e8927337e\",\"type\":\"GlyphRenderer\"},{\"id\":\"80b9360c-5e7d-48a9-845b-07cd14697759\",\"type\":\"GlyphRenderer\"},{\"id\":\"51f2e540-b5f5-4f21-b98f-7a95833b8001\",\"type\":\"GlyphRenderer\"},{\"id\":\"e4b0413f-47e7-49a2-a57b-5e23fd944e21\",\"type\":\"GlyphRenderer\"},{\"id\":\"1712e23e-7644-447f-9fd6-254cae7f2b28\",\"type\":\"GlyphRenderer\"},{\"id\":\"253315e8-191b-449b-9a7f-f3f71583ea7d\",\"type\":\"GlyphRenderer\"},{\"id\":\"8e4c6447-59cc-446c-a559-be00650b6bb7\",\"type\":\"GlyphRenderer\"},{\"id\":\"86e518cb-7976-448c-8819-013953a763f1\",\"type\":\"GlyphRenderer\"},{\"id\":\"a95cc8c9-c5ce-4422-a6e5-4bd7dc864df8\",\"type\":\"GlyphRenderer\"},{\"id\":\"1a4c3bfd-d867-4a7f-abd4-e04b8dcab8af\",\"type\":\"GlyphRenderer\"},{\"id\":\"adb437d6-6288-4d9c-ada6-698122245b7a\",\"type\":\"Legend\"},{\"id\":\"faa9848b-41ab-4251-bd97-b524e66c3654\",\"type\":\"CategoricalAxis\"},{\"id\":\"3a4e277f-a918-46a0-9ffa-8df1eb0c679b\",\"type\":\"LinearAxis\"},{\"id\":\"c0f38e8d-a60f-47f4-899c-76f3999ad524\",\"type\":\"Grid\"}],\"title\":{\"id\":\"c96804ab-1706-408b-94eb-442f753c4663\",\"type\":\"Title\"},\"tool_events\":{\"id\":\"19eff7a9-aeb2-4b40-bed5-7115f49f418f\",\"type\":\"ToolEvents\"},\"toolbar\":{\"id\":\"243d5d11-2417-4d73-beea-d67643809108\",\"type\":\"Toolbar\"},\"toolbar_location\":\"above\",\"x_range\":{\"id\":\"cb9119ab-2475-4332-8f25-aa83aa7fd71e\",\"type\":\"FactorRange\"},\"x_scale\":{\"id\":\"d18f6688-23a8-438a-b4e6-84a5e4b89706\",\"type\":\"CategoricalScale\"},\"y_range\":{\"id\":\"79cf406d-a459-41ad-84b5-591d69254cd1\",\"type\":\"Range1d\"},\"y_scale\":{\"id\":\"e5ca9bfe-e323-4652-812e-bc0856108975\",\"type\":\"LinearScale\"}},\"id\":\"dc969b81-e1f8-4d87-80d1-db929afd81af\",\"subtype\":\"Chart\",\"type\":\"Plot\"},{\"attributes\":{\"active_drag\":\"auto\",\"active_inspect\":\"auto\",\"active_scroll\":\"auto\",\"active_tap\":\"auto\",\"tools\":[{\"id\":\"2bf02ed2-0cc9-49b4-95f8-311cc13ddd93\",\"type\":\"PanTool\"},{\"id\":\"b8901812-6c42-4ec3-a586-fea90a35b514\",\"type\":\"WheelZoomTool\"},{\"id\":\"75cce578-dd7a-44e2-8c1d-24e27df9997a\",\"type\":\"BoxZoomTool\"},{\"id\":\"f4db3138-7a01-403b-9678-8f097c22678e\",\"type\":\"SaveTool\"},{\"id\":\"ff807fe2-8f63-4b82-838e-58a30355d9f7\",\"type\":\"ResetTool\"},{\"id\":\"c3ba1469-e779-43f0-8f22-efb71d81e04f\",\"type\":\"HelpTool\"}]},\"id\":\"243d5d11-2417-4d73-beea-d67643809108\",\"type\":\"Toolbar\"},{\"attributes\":{\"label\":{\"value\":\"xgb_hist/lgb\"},\"renderers\":[{\"id\":\"253315e8-191b-449b-9a7f-f3f71583ea7d\",\"type\":\"GlyphRenderer\"}]},\"id\":\"091b267d-17e5-4910-b477-5067f74d4773\",\"type\":\"LegendItem\"},{\"attributes\":{\"callback\":null,\"column_names\":[\"x\",\"y\",\"width\",\"height\",\"color\",\"fill_alpha\",\"line_color\",\"line_alpha\",\"label\"],\"data\":{\"chart_index\":[{\"group\":\"xgb/lgb\",\"label\":\"BCI\"}],\"color\":[\"#5975a4\"],\"fill_alpha\":[0.8],\"group\":[\"xgb/lgb\"],\"height\":[2.5038294419483487],\"label\":[\"BCI\"],\"line_alpha\":[1.0],\"line_color\":[\"white\"],\"width\":[0.2],\"x\":[\"BCI:0.333333333333\"],\"y\":[1.2519147209741743]}},\"id\":\"ec32596b-56a2-4cad-b80c-c57b44538a8d\",\"type\":\"ColumnDataSource\"},{\"attributes\":{\"data_source\":{\"id\":\"3c366a21-cd9b-491e-b336-e84b715db6be\",\"type\":\"ColumnDataSource\"},\"glyph\":{\"id\":\"8c79eb41-5c7b-4da3-af17-be2cdb028850\",\"type\":\"Rect\"},\"hover_glyph\":null,\"muted_glyph\":null},\"id\":\"1712e23e-7644-447f-9fd6-254cae7f2b28\",\"type\":\"GlyphRenderer\"},{\"attributes\":{\"plot\":null,\"text\":null},\"id\":\"c96804ab-1706-408b-94eb-442f753c4663\",\"type\":\"Title\"},{\"attributes\":{\"callback\":null,\"column_names\":[\"x\",\"y\",\"width\",\"height\",\"color\",\"fill_alpha\",\"line_color\",\"line_alpha\",\"label\"],\"data\":{\"chart_index\":[{\"group\":\"xgb/lgb\",\"label\":\"Amazon\"}],\"color\":[\"#5975a4\"],\"fill_alpha\":[0.8],\"group\":[\"xgb/lgb\"],\"height\":[3.7218581920231033],\"label\":[\"Amazon\"],\"line_alpha\":[1.0],\"line_color\":[\"white\"],\"width\":[0.2],\"x\":[\"Amazon:0.333333333333\"],\"y\":[1.8609290960115517]}},\"id\":\"2ec49db8-e77c-4369-bd7d-0b019a10bdf2\",\"type\":\"ColumnDataSource\"},{\"attributes\":{\"callback\":null,\"column_names\":[\"x\",\"y\",\"width\",\"height\",\"color\",\"fill_alpha\",\"line_color\",\"line_alpha\",\"label\"],\"data\":{\"chart_index\":[{\"group\":\"xgb_hist/lgb\",\"label\":\"BCI\"}],\"color\":[\"#99ccff\"],\"fill_alpha\":[0.8],\"group\":[\"xgb_hist/lgb\"],\"height\":[8.258792167362458],\"label\":[\"BCI\"],\"line_alpha\":[1.0],\"line_color\":[\"white\"],\"width\":[0.2],\"x\":[\"BCI:0.666666666667\"],\"y\":[4.129396083681229]}},\"id\":\"1675ded5-2d1b-452b-85ac-35e940ddbcb6\",\"type\":\"ColumnDataSource\"},{\"attributes\":{\"callback\":null,\"column_names\":[\"x\",\"y\",\"width\",\"height\",\"color\",\"fill_alpha\",\"line_color\",\"line_alpha\",\"label\"],\"data\":{\"chart_index\":[{\"group\":\"xgb_hist/lgb\",\"label\":\"Football\"}],\"color\":[\"#99ccff\"],\"fill_alpha\":[0.8],\"group\":[\"xgb_hist/lgb\"],\"height\":[4.250369206181508],\"label\":[\"Football\"],\"line_alpha\":[1.0],\"line_color\":[\"white\"],\"width\":[0.2],\"x\":[\"Football:0.666666666667\"],\"y\":[2.125184603090754]}},\"id\":\"9c8b5868-da86-480f-9785-9cd4545b1a17\",\"type\":\"ColumnDataSource\"},{\"attributes\":{},\"id\":\"e5ca9bfe-e323-4652-812e-bc0856108975\",\"type\":\"LinearScale\"},{\"attributes\":{\"callback\":null,\"end\":30},\"id\":\"79cf406d-a459-41ad-84b5-591d69254cd1\",\"type\":\"Range1d\"},{\"attributes\":{\"callback\":null,\"column_names\":[\"x\",\"y\",\"width\",\"height\",\"color\",\"fill_alpha\",\"line_color\",\"line_alpha\",\"label\"],\"data\":{\"chart_index\":[{\"group\":\"xgb/lgb\",\"label\":\"Airline\"}],\"color\":[\"#5975a4\"],\"fill_alpha\":[0.8],\"group\":[\"xgb/lgb\"],\"height\":[5.952343297378905],\"label\":[\"Airline\"],\"line_alpha\":[1.0],\"line_color\":[\"white\"],\"width\":[0.2],\"x\":[\"Airline:0.333333333333\"],\"y\":[2.9761716486894527]}},\"id\":\"0a899df3-0c28-4415-89c0-edfe7cea7591\",\"type\":\"ColumnDataSource\"},{\"attributes\":{\"callback\":null,\"column_names\":[\"x\",\"y\",\"width\",\"height\",\"color\",\"fill_alpha\",\"line_color\",\"line_alpha\",\"label\"],\"data\":{\"chart_index\":[{\"group\":\"xgb/lgb\",\"label\":\"Football\"}],\"color\":[\"#5975a4\"],\"fill_alpha\":[0.8],\"group\":[\"xgb/lgb\"],\"height\":[3.9092387950386707],\"label\":[\"Football\"],\"line_alpha\":[1.0],\"line_color\":[\"white\"],\"width\":[0.2],\"x\":[\"Football:0.333333333333\"],\"y\":[1.9546193975193353]}},\"id\":\"c43330d5-810b-461c-bbf1-a41fc2794528\",\"type\":\"ColumnDataSource\"},{\"attributes\":{\"fill_alpha\":{\"field\":\"fill_alpha\"},\"fill_color\":{\"field\":\"color\"},\"height\":{\"field\":\"height\",\"units\":\"data\"},\"line_color\":{\"field\":\"line_color\"},\"width\":{\"field\":\"width\",\"units\":\"data\"},\"x\":{\"field\":\"x\"},\"y\":{\"field\":\"y\"}},\"id\":\"cb32d2fd-b5cf-41c6-bc8d-5692acdfa816\",\"type\":\"Rect\"},{\"attributes\":{\"plot\":{\"id\":\"dc969b81-e1f8-4d87-80d1-db929afd81af\",\"subtype\":\"Chart\",\"type\":\"Plot\"}},\"id\":\"2bf02ed2-0cc9-49b4-95f8-311cc13ddd93\",\"type\":\"PanTool\"},{\"attributes\":{\"dimension\":1,\"plot\":{\"id\":\"dc969b81-e1f8-4d87-80d1-db929afd81af\",\"subtype\":\"Chart\",\"type\":\"Plot\"},\"ticker\":{\"id\":\"f8b5c006-f1b4-4d75-a328-9479ed3128f7\",\"type\":\"BasicTicker\"}},\"id\":\"c0f38e8d-a60f-47f4-899c-76f3999ad524\",\"type\":\"Grid\"},{\"attributes\":{\"plot\":{\"id\":\"dc969b81-e1f8-4d87-80d1-db929afd81af\",\"subtype\":\"Chart\",\"type\":\"Plot\"}},\"id\":\"b8901812-6c42-4ec3-a586-fea90a35b514\",\"type\":\"WheelZoomTool\"},{\"attributes\":{\"data_source\":{\"id\":\"f24b5f02-bb28-4368-856a-3bde1f753459\",\"type\":\"ColumnDataSource\"},\"glyph\":{\"id\":\"cb32d2fd-b5cf-41c6-bc8d-5692acdfa816\",\"type\":\"Rect\"},\"hover_glyph\":null,\"muted_glyph\":null},\"id\":\"253315e8-191b-449b-9a7f-f3f71583ea7d\",\"type\":\"GlyphRenderer\"},{\"attributes\":{\"overlay\":{\"id\":\"a3649347-94de-4232-912b-fcea1e05fee0\",\"type\":\"BoxAnnotation\"},\"plot\":{\"id\":\"dc969b81-e1f8-4d87-80d1-db929afd81af\",\"subtype\":\"Chart\",\"type\":\"Plot\"}},\"id\":\"75cce578-dd7a-44e2-8c1d-24e27df9997a\",\"type\":\"BoxZoomTool\"},{\"attributes\":{\"plot\":{\"id\":\"dc969b81-e1f8-4d87-80d1-db929afd81af\",\"subtype\":\"Chart\",\"type\":\"Plot\"}},\"id\":\"f4db3138-7a01-403b-9678-8f097c22678e\",\"type\":\"SaveTool\"},{\"attributes\":{\"plot\":{\"id\":\"dc969b81-e1f8-4d87-80d1-db929afd81af\",\"subtype\":\"Chart\",\"type\":\"Plot\"}},\"id\":\"ff807fe2-8f63-4b82-838e-58a30355d9f7\",\"type\":\"ResetTool\"},{\"attributes\":{\"fill_alpha\":{\"field\":\"fill_alpha\"},\"fill_color\":{\"field\":\"color\"},\"height\":{\"field\":\"height\",\"units\":\"data\"},\"line_color\":{\"field\":\"line_color\"},\"width\":{\"field\":\"width\",\"units\":\"data\"},\"x\":{\"field\":\"x\"},\"y\":{\"field\":\"y\"}},\"id\":\"3397d5f5-96c5-40b3-8ad7-5f60a32a7429\",\"type\":\"Rect\"},{\"attributes\":{\"fill_alpha\":{\"field\":\"fill_alpha\"},\"fill_color\":{\"field\":\"color\"},\"height\":{\"field\":\"height\",\"units\":\"data\"},\"line_color\":{\"field\":\"line_color\"},\"width\":{\"field\":\"width\",\"units\":\"data\"},\"x\":{\"field\":\"x\"},\"y\":{\"field\":\"y\"}},\"id\":\"8c79eb41-5c7b-4da3-af17-be2cdb028850\",\"type\":\"Rect\"},{\"attributes\":{\"fill_alpha\":{\"field\":\"fill_alpha\"},\"fill_color\":{\"field\":\"color\"},\"height\":{\"field\":\"height\",\"units\":\"data\"},\"line_color\":{\"field\":\"line_color\"},\"width\":{\"field\":\"width\",\"units\":\"data\"},\"x\":{\"field\":\"x\"},\"y\":{\"field\":\"y\"}},\"id\":\"685e48a5-9d8e-42c4-85ad-7764da1c02a7\",\"type\":\"Rect\"},{\"attributes\":{},\"id\":\"f8b5c006-f1b4-4d75-a328-9479ed3128f7\",\"type\":\"BasicTicker\"},{\"attributes\":{\"fill_alpha\":{\"field\":\"fill_alpha\"},\"fill_color\":{\"field\":\"color\"},\"height\":{\"field\":\"height\",\"units\":\"data\"},\"line_color\":{\"field\":\"line_color\"},\"width\":{\"field\":\"width\",\"units\":\"data\"},\"x\":{\"field\":\"x\"},\"y\":{\"field\":\"y\"}},\"id\":\"f9fa716a-afdf-43e7-afa1-00194f0fabf1\",\"type\":\"Rect\"},{\"attributes\":{\"data_source\":{\"id\":\"30517fd7-143f-4472-b76e-a9596635206c\",\"type\":\"ColumnDataSource\"},\"glyph\":{\"id\":\"3397d5f5-96c5-40b3-8ad7-5f60a32a7429\",\"type\":\"Rect\"},\"hover_glyph\":null,\"muted_glyph\":null},\"id\":\"8e4c6447-59cc-446c-a559-be00650b6bb7\",\"type\":\"GlyphRenderer\"},{\"attributes\":{\"callback\":null,\"column_names\":[\"x\",\"y\",\"width\",\"height\",\"color\",\"fill_alpha\",\"line_color\",\"line_alpha\",\"label\"],\"data\":{\"chart_index\":[{\"group\":\"xgb_hist/lgb\",\"label\":\"Fraud\"}],\"color\":[\"#99ccff\"],\"fill_alpha\":[0.8],\"group\":[\"xgb_hist/lgb\"],\"height\":[1.6356859684318945],\"label\":[\"Fraud\"],\"line_alpha\":[1.0],\"line_color\":[\"white\"],\"width\":[0.2],\"x\":[\"Fraud:0.666666666667\"],\"y\":[0.8178429842159473]}},\"id\":\"e7e51d04-7284-4aba-bb14-ec60578156b6\",\"type\":\"ColumnDataSource\"},{\"attributes\":{\"fill_alpha\":{\"field\":\"fill_alpha\"},\"fill_color\":{\"field\":\"color\"},\"height\":{\"field\":\"height\",\"units\":\"data\"},\"line_color\":{\"field\":\"line_color\"},\"width\":{\"field\":\"width\",\"units\":\"data\"},\"x\":{\"field\":\"x\"},\"y\":{\"field\":\"y\"}},\"id\":\"b56475e4-c85a-4e99-85b9-824e1a6078c5\",\"type\":\"Rect\"},{\"attributes\":{\"fill_alpha\":{\"field\":\"fill_alpha\"},\"fill_color\":{\"field\":\"color\"},\"height\":{\"field\":\"height\",\"units\":\"data\"},\"line_color\":{\"field\":\"line_color\"},\"width\":{\"field\":\"width\",\"units\":\"data\"},\"x\":{\"field\":\"x\"},\"y\":{\"field\":\"y\"}},\"id\":\"5954d42c-da08-4656-96c4-3d20badcb600\",\"type\":\"Rect\"},{\"attributes\":{\"bottom_units\":\"screen\",\"fill_alpha\":{\"value\":0.5},\"fill_color\":{\"value\":\"lightgrey\"},\"left_units\":\"screen\",\"level\":\"overlay\",\"line_alpha\":{\"value\":1.0},\"line_color\":{\"value\":\"black\"},\"line_dash\":[4,4],\"line_width\":{\"value\":2},\"plot\":null,\"render_mode\":\"css\",\"right_units\":\"screen\",\"top_units\":\"screen\"},\"id\":\"a3649347-94de-4232-912b-fcea1e05fee0\",\"type\":\"BoxAnnotation\"},{\"attributes\":{\"fill_alpha\":{\"field\":\"fill_alpha\"},\"fill_color\":{\"field\":\"color\"},\"height\":{\"field\":\"height\",\"units\":\"data\"},\"line_color\":{\"field\":\"line_color\"},\"width\":{\"field\":\"width\",\"units\":\"data\"},\"x\":{\"field\":\"x\"},\"y\":{\"field\":\"y\"}},\"id\":\"c63e50e3-60fc-47fe-b5b7-0e167783ff2b\",\"type\":\"Rect\"},{\"attributes\":{\"plot\":{\"id\":\"dc969b81-e1f8-4d87-80d1-db929afd81af\",\"subtype\":\"Chart\",\"type\":\"Plot\"}},\"id\":\"c3ba1469-e779-43f0-8f22-efb71d81e04f\",\"type\":\"HelpTool\"},{\"attributes\":{\"data_source\":{\"id\":\"1675ded5-2d1b-452b-85ac-35e940ddbcb6\",\"type\":\"ColumnDataSource\"},\"glyph\":{\"id\":\"b56475e4-c85a-4e99-85b9-824e1a6078c5\",\"type\":\"Rect\"},\"hover_glyph\":null,\"muted_glyph\":null},\"id\":\"86e518cb-7976-448c-8819-013953a763f1\",\"type\":\"GlyphRenderer\"},{\"attributes\":{\"data_source\":{\"id\":\"9c8b5868-da86-480f-9785-9cd4545b1a17\",\"type\":\"ColumnDataSource\"},\"glyph\":{\"id\":\"da39a9cb-00c4-4bf0-84ab-44f8a758425b\",\"type\":\"Rect\"},\"hover_glyph\":null,\"muted_glyph\":null},\"id\":\"a95cc8c9-c5ce-4422-a6e5-4bd7dc864df8\",\"type\":\"GlyphRenderer\"},{\"attributes\":{},\"id\":\"934dc272-c060-44c8-b1ad-7cfe9ec1fd81\",\"type\":\"BasicTickFormatter\"},{\"attributes\":{\"axis_label\":\"Train Time Ratio (XGBoost/LightGBM)\",\"axis_label_text_font_size\":{\"value\":\"12pt\"},\"formatter\":{\"id\":\"934dc272-c060-44c8-b1ad-7cfe9ec1fd81\",\"type\":\"BasicTickFormatter\"},\"plot\":{\"id\":\"dc969b81-e1f8-4d87-80d1-db929afd81af\",\"subtype\":\"Chart\",\"type\":\"Plot\"},\"ticker\":{\"id\":\"f8b5c006-f1b4-4d75-a328-9479ed3128f7\",\"type\":\"BasicTicker\"}},\"id\":\"3a4e277f-a918-46a0-9ffa-8df1eb0c679b\",\"type\":\"LinearAxis\"},{\"attributes\":{\"data_source\":{\"id\":\"ec32596b-56a2-4cad-b80c-c57b44538a8d\",\"type\":\"ColumnDataSource\"},\"glyph\":{\"id\":\"f9fa716a-afdf-43e7-afa1-00194f0fabf1\",\"type\":\"Rect\"},\"hover_glyph\":null,\"muted_glyph\":null},\"id\":\"51f2e540-b5f5-4f21-b98f-7a95833b8001\",\"type\":\"GlyphRenderer\"},{\"attributes\":{\"label\":{\"value\":\"xgb/lgb\"},\"renderers\":[{\"id\":\"d6b4410f-6236-46b4-af1e-721e8927337e\",\"type\":\"GlyphRenderer\"}]},\"id\":\"dd2122aa-8a57-4e3c-884b-c7ac600ff7c4\",\"type\":\"LegendItem\"},{\"attributes\":{\"axis_label\":\"\",\"formatter\":{\"id\":\"7c63ecc8-b1ee-448d-9ba0-01d73ae6e585\",\"type\":\"CategoricalTickFormatter\"},\"major_label_orientation\":0.7853981633974483,\"plot\":{\"id\":\"dc969b81-e1f8-4d87-80d1-db929afd81af\",\"subtype\":\"Chart\",\"type\":\"Plot\"},\"ticker\":{\"id\":\"33edb630-7d31-404a-b452-fb569974fb2d\",\"type\":\"CategoricalTicker\"}},\"id\":\"faa9848b-41ab-4251-bd97-b524e66c3654\",\"type\":\"CategoricalAxis\"},{\"attributes\":{\"data_source\":{\"id\":\"0a899df3-0c28-4415-89c0-edfe7cea7591\",\"type\":\"ColumnDataSource\"},\"glyph\":{\"id\":\"5954d42c-da08-4656-96c4-3d20badcb600\",\"type\":\"Rect\"},\"hover_glyph\":null,\"muted_glyph\":null},\"id\":\"d6b4410f-6236-46b4-af1e-721e8927337e\",\"type\":\"GlyphRenderer\"},{\"attributes\":{},\"id\":\"33edb630-7d31-404a-b452-fb569974fb2d\",\"type\":\"CategoricalTicker\"},{\"attributes\":{\"fill_alpha\":{\"field\":\"fill_alpha\"},\"fill_color\":{\"field\":\"color\"},\"height\":{\"field\":\"height\",\"units\":\"data\"},\"line_color\":{\"field\":\"line_color\"},\"width\":{\"field\":\"width\",\"units\":\"data\"},\"x\":{\"field\":\"x\"},\"y\":{\"field\":\"y\"}},\"id\":\"52375eae-e2e3-4708-9f0a-2fa0c55d9226\",\"type\":\"Rect\"},{\"attributes\":{\"callback\":null,\"column_names\":[\"x\",\"y\",\"width\",\"height\",\"color\",\"fill_alpha\",\"line_color\",\"line_alpha\",\"label\"],\"data\":{\"chart_index\":[{\"group\":\"xgb_hist/lgb\",\"label\":\"Amazon\"}],\"color\":[\"#99ccff\"],\"fill_alpha\":[0.8],\"group\":[\"xgb_hist/lgb\"],\"height\":[28.54417247701707],\"label\":[\"Amazon\"],\"line_alpha\":[1.0],\"line_color\":[\"white\"],\"width\":[0.2],\"x\":[\"Amazon:0.666666666667\"],\"y\":[14.272086238508535]}},\"id\":\"30517fd7-143f-4472-b76e-a9596635206c\",\"type\":\"ColumnDataSource\"},{\"attributes\":{},\"id\":\"7c63ecc8-b1ee-448d-9ba0-01d73ae6e585\",\"type\":\"CategoricalTickFormatter\"},{\"attributes\":{},\"id\":\"d18f6688-23a8-438a-b4e6-84a5e4b89706\",\"type\":\"CategoricalScale\"},{\"attributes\":{\"fill_alpha\":{\"field\":\"fill_alpha\"},\"fill_color\":{\"field\":\"color\"},\"height\":{\"field\":\"height\",\"units\":\"data\"},\"line_color\":{\"field\":\"line_color\"},\"width\":{\"field\":\"width\",\"units\":\"data\"},\"x\":{\"field\":\"x\"},\"y\":{\"field\":\"y\"}},\"id\":\"da39a9cb-00c4-4bf0-84ab-44f8a758425b\",\"type\":\"Rect\"},{\"attributes\":{\"data_source\":{\"id\":\"2ec49db8-e77c-4369-bd7d-0b019a10bdf2\",\"type\":\"ColumnDataSource\"},\"glyph\":{\"id\":\"52375eae-e2e3-4708-9f0a-2fa0c55d9226\",\"type\":\"Rect\"},\"hover_glyph\":null,\"muted_glyph\":null},\"id\":\"80b9360c-5e7d-48a9-845b-07cd14697759\",\"type\":\"GlyphRenderer\"},{\"attributes\":{\"data_source\":{\"id\":\"e7e51d04-7284-4aba-bb14-ec60578156b6\",\"type\":\"ColumnDataSource\"},\"glyph\":{\"id\":\"685e48a5-9d8e-42c4-85ad-7764da1c02a7\",\"type\":\"Rect\"},\"hover_glyph\":null,\"muted_glyph\":null},\"id\":\"1a4c3bfd-d867-4a7f-abd4-e04b8dcab8af\",\"type\":\"GlyphRenderer\"},{\"attributes\":{\"items\":[{\"id\":\"dd2122aa-8a57-4e3c-884b-c7ac600ff7c4\",\"type\":\"LegendItem\"},{\"id\":\"091b267d-17e5-4910-b477-5067f74d4773\",\"type\":\"LegendItem\"}],\"plot\":{\"id\":\"dc969b81-e1f8-4d87-80d1-db929afd81af\",\"subtype\":\"Chart\",\"type\":\"Plot\"}},\"id\":\"adb437d6-6288-4d9c-ada6-698122245b7a\",\"type\":\"Legend\"},{\"attributes\":{\"callback\":null,\"column_names\":[\"x\",\"y\",\"width\",\"height\",\"color\",\"fill_alpha\",\"line_color\",\"line_alpha\",\"label\"],\"data\":{\"chart_index\":[{\"group\":\"xgb/lgb\",\"label\":\"Fraud\"}],\"color\":[\"#5975a4\"],\"fill_alpha\":[0.8],\"group\":[\"xgb/lgb\"],\"height\":[6.045945416964522],\"label\":[\"Fraud\"],\"line_alpha\":[1.0],\"line_color\":[\"white\"],\"width\":[0.2],\"x\":[\"Fraud:0.333333333333\"],\"y\":[3.022972708482261]}},\"id\":\"3c366a21-cd9b-491e-b336-e84b715db6be\",\"type\":\"ColumnDataSource\"},{\"attributes\":{\"callback\":null,\"column_names\":[\"x\",\"y\",\"width\",\"height\",\"color\",\"fill_alpha\",\"line_color\",\"line_alpha\",\"label\"],\"data\":{\"chart_index\":[{\"group\":\"xgb_hist/lgb\",\"label\":\"Airline\"}],\"color\":[\"#99ccff\"],\"fill_alpha\":[0.8],\"group\":[\"xgb_hist/lgb\"],\"height\":[1.5795969970572297],\"label\":[\"Airline\"],\"line_alpha\":[1.0],\"line_color\":[\"white\"],\"width\":[0.2],\"x\":[\"Airline:0.666666666667\"],\"y\":[0.7897984985286148]}},\"id\":\"f24b5f02-bb28-4368-856a-3bde1f753459\",\"type\":\"ColumnDataSource\"},{\"attributes\":{\"data_source\":{\"id\":\"c43330d5-810b-461c-bbf1-a41fc2794528\",\"type\":\"ColumnDataSource\"},\"glyph\":{\"id\":\"c63e50e3-60fc-47fe-b5b7-0e167783ff2b\",\"type\":\"Rect\"},\"hover_glyph\":null,\"muted_glyph\":null},\"id\":\"e4b0413f-47e7-49a2-a57b-5e23fd944e21\",\"type\":\"GlyphRenderer\"},{\"attributes\":{\"callback\":null,\"factors\":[\"Airline\",\"Amazon\",\"BCI\",\"Football\",\"Fraud\"]},\"id\":\"cb9119ab-2475-4332-8f25-aa83aa7fd71e\",\"type\":\"FactorRange\"},{\"attributes\":{},\"id\":\"19eff7a9-aeb2-4b40-bed5-7115f49f418f\",\"type\":\"ToolEvents\"}],\"root_ids\":[\"dc969b81-e1f8-4d87-80d1-db929afd81af\"]},\"title\":\"Bokeh Application\",\"version\":\"0.12.6\"}};\n",
       "            var render_items = [{\"docid\":\"76600819-1068-4c5d-a0cd-d777edc75a06\",\"elementid\":\"b30fc4f5-9943-4672-95ee-d16367e4b770\",\"modelid\":\"dc969b81-e1f8-4d87-80d1-db929afd81af\"}];\n",
       "            \n",
       "            Bokeh.embed.embed_items(docs_json, render_items);\n",
       "          };\n",
       "          if (document.readyState != \"loading\") fn();\n",
       "          else document.addEventListener(\"DOMContentLoaded\", fn);\n",
       "        })();\n",
       "      },\n",
       "      function(Bokeh) {\n",
       "      }\n",
       "    ];\n",
       "  \n",
       "    function run_inline_js() {\n",
       "      \n",
       "      if ((window.Bokeh !== undefined) || (force === true)) {\n",
       "        for (var i = 0; i < inline_js.length; i++) {\n",
       "          inline_js[i](window.Bokeh);\n",
       "        }if (force === true) {\n",
       "          display_loaded();\n",
       "        }} else if (Date.now() < window._bokeh_timeout) {\n",
       "        setTimeout(run_inline_js, 100);\n",
       "      } else if (!window._bokeh_failed_load) {\n",
       "        console.log(\"Bokeh: BokehJS failed to load within specified timeout.\");\n",
       "        window._bokeh_failed_load = true;\n",
       "      } else if (force !== true) {\n",
       "        var cell = $(document.getElementById(\"b30fc4f5-9943-4672-95ee-d16367e4b770\")).parents('.cell').data().cell;\n",
       "        cell.output_area.append_execute_result(NB_LOAD_WARNING)\n",
       "      }\n",
       "  \n",
       "    }\n",
       "  \n",
       "    if (window._bokeh_is_loading === 0) {\n",
       "      console.log(\"Bokeh: BokehJS loaded, going straight to plotting\");\n",
       "      run_inline_js();\n",
       "    } else {\n",
       "      load_libs(js_urls, function() {\n",
       "        console.log(\"Bokeh: BokehJS plotting callback run at\", now());\n",
       "        run_inline_js();\n",
       "      });\n",
       "    }\n",
       "  }(this));\n",
       "</script>"
      ]
     },
     "metadata": {},
     "output_type": "display_data"
    }
   ],
   "source": [
    "bar = Bar(data, values='Ratio', agg='mean', label='label', group='group', \n",
    "          plot_width=600, plot_height=400, bar_width=0.7, color=['#5975a4','#99ccff'], legend='top_right')\n",
    "bar.axis[0].axis_label=''\n",
    "bar.axis[1].axis_label='Train Time Ratio (XGBoost/LightGBM)'\n",
    "bar.axis[1].axis_label_text_font_size='12pt'\n",
    "bar.y_range = Range1d(0, 30)\n",
    "bar.toolbar_location='above'\n",
    "bar.legend[0].visible=True\n",
    "show(bar)"
   ]
  },
  {
   "cell_type": "code",
   "execution_count": 19,
   "metadata": {
    "collapsed": false,
    "deletable": true,
    "editable": true,
    "scrolled": true
   },
   "outputs": [
    {
     "data": {
      "image/svg+xml": [
       "<svg height=\"400\" style=\"width: 600px; height: 400px;\" version=\"1.1\" width=\"600\" xmlns=\"http://www.w3.org/2000/svg\" xmlns:xlink=\"http://www.w3.org/1999/xlink\"><defs/><g><g/><g transform=\"scale(1,1) translate(0.5,0.5)\"><rect fill=\"#FFFFFF\" height=\"400\" stroke=\"none\" width=\"600\" x=\"0\" y=\"0\"/><rect fill=\"#ffffff\" height=\"400\" stroke=\"none\" width=\"600\" x=\"0\" y=\"0\"/><rect fill=\"#FFFFFF\" height=\"322.9826322167867\" stroke=\"none\" width=\"546.3668749999999\" x=\"48.63312500000002\" y=\"29\"/><rect fill=\"#ffffff\" height=\"322.9826322167867\" stroke=\"none\" width=\"546.3668749999999\" x=\"48.63312500000002\" y=\"29\"/><g><rect fill=\"none\" height=\"322.9826322167867\" stroke=\"#e5e5e5\" stroke-miterlimit=\"10\" width=\"546.3668749999999\" x=\"48.63312500000002\" y=\"29\"/></g><g><g><path d=\" M 49 298 L 595 298\" fill=\"none\" paint-order=\"fill stroke markers\" stroke=\"#e5e5e5\" stroke-miterlimit=\"10\"/><path d=\" M 49 244 L 595 244\" fill=\"none\" paint-order=\"fill stroke markers\" stroke=\"#e5e5e5\" stroke-miterlimit=\"10\"/><path d=\" M 49 190 L 595 190\" fill=\"none\" paint-order=\"fill stroke markers\" stroke=\"#e5e5e5\" stroke-miterlimit=\"10\"/><path d=\" M 49 137 L 595 137\" fill=\"none\" paint-order=\"fill stroke markers\" stroke=\"#e5e5e5\" stroke-miterlimit=\"10\"/><path d=\" M 49 83 L 595 83\" fill=\"none\" paint-order=\"fill stroke markers\" stroke=\"#e5e5e5\" stroke-miterlimit=\"10\"/></g><g><path fill=\"none\" stroke=\"none\"/><rect fill=\"#5975a4\" fill-opacity=\"0.8\" height=\"64.0834502015129\" stroke=\"none\" width=\"21.85467499999868\" x=\"74.13024583329693\" y=\"287.8991820152738\"/><path d=\" M 74.13024583329693 287.8991820152738 L 95.9849208332956 287.8991820152738 L 95.9849208332956 351.9826322167867 L 74.13024583329693 351.9826322167867 L 74.13024583329693 287.8991820152738 Z\" fill=\"none\" paint-order=\"fill stroke markers\" stroke=\"white\" stroke-miterlimit=\"10\"/><path d=\"\" fill=\"none\" paint-order=\"fill stroke markers\" stroke=\"white\" stroke-miterlimit=\"10\"/></g><g><path fill=\"none\" stroke=\"none\"/><rect fill=\"#5975a4\" fill-opacity=\"0.8\" height=\"40.06985185324108\" stroke=\"none\" width=\"21.85467499999868\" x=\"183.40362083329688\" y=\"311.9127803635456\"/><path d=\" M 183.40362083329688 311.9127803635456 L 205.25829583329556 311.9127803635456 L 205.25829583329556 351.98263221678667 L 183.40362083329688 351.98263221678667 L 183.40362083329688 311.9127803635456 Z\" fill=\"none\" paint-order=\"fill stroke markers\" stroke=\"white\" stroke-miterlimit=\"10\"/><path d=\"\" fill=\"none\" paint-order=\"fill stroke markers\" stroke=\"white\" stroke-miterlimit=\"10\"/></g><g><path fill=\"none\" stroke=\"none\"/><rect fill=\"#5975a4\" fill-opacity=\"0.8\" height=\"26.956447459412196\" stroke=\"none\" width=\"21.854675000002317\" x=\"292.67699583329687\" y=\"325.0261847573745\"/><path d=\" M 292.67699583329687 325.0261847573745 L 314.5316708332992 325.0261847573745 L 314.5316708332992 351.98263221678667 L 292.67699583329687 351.98263221678667 L 292.67699583329687 325.0261847573745 Z\" fill=\"none\" paint-order=\"fill stroke markers\" stroke=\"white\" stroke-miterlimit=\"10\"/><path d=\"\" fill=\"none\" paint-order=\"fill stroke markers\" stroke=\"white\" stroke-miterlimit=\"10\"/></g><g><path fill=\"none\" stroke=\"none\"/><rect fill=\"#5975a4\" fill-opacity=\"0.8\" height=\"42.08720786618564\" stroke=\"none\" width=\"21.854675000002317\" x=\"401.95037083329686\" y=\"309.89542435060105\"/><path d=\" M 401.95037083329686 309.89542435060105 L 423.8050458332992 309.89542435060105 L 423.8050458332992 351.98263221678667 L 401.95037083329686 351.98263221678667 L 401.95037083329686 309.89542435060105 Z\" fill=\"none\" paint-order=\"fill stroke markers\" stroke=\"white\" stroke-miterlimit=\"10\"/><path d=\"\" fill=\"none\" paint-order=\"fill stroke markers\" stroke=\"white\" stroke-miterlimit=\"10\"/></g><g><path fill=\"none\" stroke=\"none\"/><rect fill=\"#5975a4\" fill-opacity=\"0.8\" height=\"65.09117883367398\" stroke=\"none\" width=\"21.854675000009593\" x=\"511.22374583329685\" y=\"286.8914533831128\"/><path d=\" M 511.22374583329685 286.8914533831128 L 533.0784208333064 286.8914533831128 L 533.0784208333064 351.9826322167868 L 511.22374583329685 351.9826322167868 L 511.22374583329685 286.8914533831128 Z\" fill=\"none\" paint-order=\"fill stroke markers\" stroke=\"white\" stroke-miterlimit=\"10\"/><path d=\"\" fill=\"none\" paint-order=\"fill stroke markers\" stroke=\"white\" stroke-miterlimit=\"10\"/></g><g><path fill=\"none\" stroke=\"none\"/><rect fill=\"#99ccff\" fill-opacity=\"0.8\" height=\"17.00607986504253\" stroke=\"none\" width=\"21.85467499999868\" x=\"110.5547041667031\" y=\"334.9765523517442\"/><path d=\" M 110.5547041667031 334.9765523517442 L 132.4093791667018 334.9765523517442 L 132.4093791667018 351.9826322167867 L 110.5547041667031 351.9826322167867 L 110.5547041667031 334.9765523517442 Z\" fill=\"none\" paint-order=\"fill stroke markers\" stroke=\"white\" stroke-miterlimit=\"10\"/><path d=\"\" fill=\"none\" paint-order=\"fill stroke markers\" stroke=\"white\" stroke-miterlimit=\"10\"/></g><g><path fill=\"none\" stroke=\"none\"/><rect fill=\"#99ccff\" fill-opacity=\"0.8\" height=\"307.309065369231\" stroke=\"none\" width=\"21.85467499999868\" x=\"219.8280791667031\" y=\"44.67356684755572\"/><path d=\" M 219.8280791667031 44.67356684755572 L 241.68275416670178 44.67356684755572 L 241.68275416670178 351.9826322167867 L 219.8280791667031 351.9826322167867 L 219.8280791667031 44.67356684755572 Z\" fill=\"none\" paint-order=\"fill stroke markers\" stroke=\"white\" stroke-miterlimit=\"10\"/><path d=\"\" fill=\"none\" paint-order=\"fill stroke markers\" stroke=\"white\" stroke-miterlimit=\"10\"/></g><g><path fill=\"none\" stroke=\"none\"/><rect fill=\"#99ccff\" fill-opacity=\"0.8\" height=\"88.91488110487026\" stroke=\"none\" width=\"21.854675000002317\" x=\"329.10145416670304\" y=\"263.06775111191644\"/><path d=\" M 329.10145416670304 263.06775111191644 L 350.95612916670535 263.06775111191644 L 350.95612916670535 351.98263221678667 L 329.10145416670304 351.98263221678667 L 329.10145416670304 263.06775111191644 Z\" fill=\"none\" paint-order=\"fill stroke markers\" stroke=\"white\" stroke-miterlimit=\"10\"/><path d=\"\" fill=\"none\" paint-order=\"fill stroke markers\" stroke=\"white\" stroke-miterlimit=\"10\"/></g><g><path fill=\"none\" stroke=\"none\"/><rect fill=\"#99ccff\" fill-opacity=\"0.8\" height=\"45.7598478035226\" stroke=\"none\" width=\"21.854675000002317\" x=\"438.3748291667031\" y=\"306.2227844132641\"/><path d=\" M 438.3748291667031 306.2227844132641 L 460.2295041667054 306.2227844132641 L 460.2295041667054 351.98263221678667 L 438.3748291667031 351.98263221678667 L 438.3748291667031 306.2227844132641 Z\" fill=\"none\" paint-order=\"fill stroke markers\" stroke=\"white\" stroke-miterlimit=\"10\"/><path d=\"\" fill=\"none\" paint-order=\"fill stroke markers\" stroke=\"white\" stroke-miterlimit=\"10\"/></g><g><path fill=\"none\" stroke=\"none\"/><rect fill=\"#99ccff\" fill-opacity=\"0.8\" height=\"17.60993865213991\" stroke=\"none\" width=\"21.854675000002317\" x=\"547.6482041667032\" y=\"334.3726935646468\"/><path d=\" M 547.6482041667032 334.3726935646468 L 569.5028791667055 334.3726935646468 L 569.5028791667055 351.9826322167867 L 547.6482041667032 351.9826322167867 L 547.6482041667032 334.3726935646468 Z\" fill=\"none\" paint-order=\"fill stroke markers\" stroke=\"white\" stroke-miterlimit=\"10\"/><path d=\"\" fill=\"none\" paint-order=\"fill stroke markers\" stroke=\"white\" stroke-miterlimit=\"10\"/></g></g><g><g/><g><path d=\" M 470.71875 39 L 585 39 L 585 102 L 470.71875 102 L 470.71875 39 Z\" fill=\"#ffffff\" fill-opacity=\"0.95\" paint-order=\"fill stroke markers\" stroke=\"#e5e5e5\" stroke-miterlimit=\"10\" stroke-opacity=\"0.5\"/><text dominant-baseline=\"central\" fill=\"#444444\" font-family=\"helvetica\" font-size=\"10pt\" font-style=\"normal\" font-weight=\"normal\" stroke=\"none\" text-anchor=\"start\" text-decoration=\"normal\" x=\"505.71875\" y=\"59\">xgb/lgb</text><rect fill=\"#5975a4\" fill-opacity=\"0.8\" height=\"16\" stroke=\"none\" width=\"16\" x=\"482.71875\" y=\"51\"/><path d=\" M 482.71875 51 L 498.71875 51 L 498.71875 67 L 482.71875 67 L 482.71875 51 Z\" fill=\"none\" paint-order=\"fill stroke markers\" stroke=\"white\" stroke-miterlimit=\"10\"/><text dominant-baseline=\"central\" fill=\"#444444\" font-family=\"helvetica\" font-size=\"10pt\" font-style=\"normal\" font-weight=\"normal\" stroke=\"none\" text-anchor=\"start\" text-decoration=\"normal\" x=\"505.71875\" y=\"82\">xgb_hist/lgb</text><rect fill=\"#99ccff\" fill-opacity=\"0.8\" height=\"16\" stroke=\"none\" width=\"16\" x=\"482.71875\" y=\"74\"/><path d=\" M 482.71875 74 L 498.71875 74 L 498.71875 90 L 482.71875 90 L 482.71875 74 Z\" fill=\"none\" paint-order=\"fill stroke markers\" stroke=\"white\" stroke-miterlimit=\"10\"/></g></g><g><g fill=\"#444444\"><path d=\" M 49 352 L 595 352\" fill=\"none\" paint-order=\"fill stroke markers\" stroke=\"black\" stroke-miterlimit=\"10\"/><path d=\" M 103 358 L 103 350\" fill=\"none\" paint-order=\"fill stroke markers\" stroke=\"black\" stroke-miterlimit=\"10\"/><path d=\" M 213 358 L 213 350\" fill=\"none\" paint-order=\"fill stroke markers\" stroke=\"black\" stroke-miterlimit=\"10\"/><path d=\" M 322 358 L 322 350\" fill=\"none\" paint-order=\"fill stroke markers\" stroke=\"black\" stroke-miterlimit=\"10\"/><path d=\" M 431 358 L 431 350\" fill=\"none\" paint-order=\"fill stroke markers\" stroke=\"black\" stroke-miterlimit=\"10\"/><path d=\" M 540 358 L 540 350\" fill=\"\" paint-order=\"fill stroke markers\" stroke=\"black\" stroke-miterlimit=\"10\"/><g transform=\"translate(103.26981250000001,362.9826322167867) rotate(-45,0,0)\"><text dominant-baseline=\"central\" fill=\"\" font-family=\"helvetica\" font-size=\"8pt\" font-style=\"normal\" font-weight=\"normal\" stroke=\"none\" text-anchor=\"end\" text-decoration=\"normal\" x=\"0\" y=\"0\">Airline</text><g transform=\"rotate(45,0,0) translate(-103.26981250000001,-362.9826322167867) translate(212.5431875,362.9826322167867) rotate(-45,0,0)\"><text dominant-baseline=\"central\" fill=\"\" font-family=\"helvetica\" font-size=\"8pt\" font-style=\"normal\" font-weight=\"normal\" stroke=\"none\" text-anchor=\"end\" text-decoration=\"normal\" x=\"0\" y=\"0\">Amazon</text><g transform=\"rotate(45,0,0) translate(-212.5431875,-362.9826322167867) translate(321.8165625,362.9826322167867) rotate(-45,0,0)\"><text dominant-baseline=\"central\" fill=\"\" font-family=\"helvetica\" font-size=\"8pt\" font-style=\"normal\" font-weight=\"normal\" stroke=\"none\" text-anchor=\"end\" text-decoration=\"normal\" x=\"0\" y=\"0\">BCI</text><g transform=\"rotate(45,0,0) translate(-321.8165625,-362.9826322167867) translate(431.08993749999996,362.9826322167867) rotate(-45,0,0)\"><text dominant-baseline=\"central\" fill=\"\" font-family=\"helvetica\" font-size=\"8pt\" font-style=\"normal\" font-weight=\"normal\" stroke=\"none\" text-anchor=\"end\" text-decoration=\"normal\" x=\"0\" y=\"0\">Football</text><g transform=\"rotate(45,0,0) translate(-431.08993749999996,-362.9826322167867) translate(540.3633125,362.9826322167867) rotate(-45,0,0)\"><text dominant-baseline=\"central\" fill=\"\" font-family=\"helvetica\" font-size=\"8pt\" font-style=\"normal\" font-weight=\"normal\" stroke=\"none\" text-anchor=\"end\" text-decoration=\"normal\" x=\"0\" y=\"0\">Fraud</text><g transform=\"rotate(45,0,0) translate(-540.3633125,-362.9826322167867)\"><text dominant-baseline=\"hanging\" fill=\"\" font-family=\"helvetica\" font-size=\"10pt\" font-style=\"italic\" font-weight=\"normal\" stroke=\"none\" text-anchor=\"middle\" text-decoration=\"normal\" x=\"321.81656250000003\" y=\"404\"/></g></g></g></g></g></g></g><g><path d=\" M 49 352 L 49 29\" fill=\"none\" paint-order=\"fill stroke markers\" stroke=\"black\" stroke-miterlimit=\"10\"/><path d=\" M 43 352 L 51 352\" fill=\"none\" paint-order=\"fill stroke markers\" stroke=\"black\" stroke-miterlimit=\"10\"/><path d=\" M 43 298 L 51 298\" fill=\"none\" paint-order=\"fill stroke markers\" stroke=\"black\" stroke-miterlimit=\"10\"/><path d=\" M 43 244 L 51 244\" fill=\"none\" paint-order=\"fill stroke markers\" stroke=\"black\" stroke-miterlimit=\"10\"/><path d=\" M 43 190 L 51 190\" fill=\"none\" paint-order=\"fill stroke markers\" stroke=\"black\" stroke-miterlimit=\"10\"/><path d=\" M 43 137 L 51 137\" fill=\"none\" paint-order=\"fill stroke markers\" stroke=\"black\" stroke-miterlimit=\"10\"/><path d=\" M 43 83 L 51 83\" fill=\"none\" paint-order=\"fill stroke markers\" stroke=\"black\" stroke-miterlimit=\"10\"/><path d=\" M 43 29 L 51 29\" fill=\"none\" paint-order=\"fill stroke markers\" stroke=\"black\" stroke-miterlimit=\"10\"/><path d=\" M 45 352 L 49 352\" fill=\"none\" paint-order=\"fill stroke markers\" stroke=\"black\" stroke-miterlimit=\"10\"/><path d=\" M 45 341 L 49 341\" fill=\"none\" paint-order=\"fill stroke markers\" stroke=\"black\" stroke-miterlimit=\"10\"/><path d=\" M 45 330 L 49 330\" fill=\"none\" paint-order=\"fill stroke markers\" stroke=\"black\" stroke-miterlimit=\"10\"/><path d=\" M 45 320 L 49 320\" fill=\"none\" paint-order=\"fill stroke markers\" stroke=\"black\" stroke-miterlimit=\"10\"/><path d=\" M 45 309 L 49 309\" fill=\"none\" paint-order=\"fill stroke markers\" stroke=\"black\" stroke-miterlimit=\"10\"/><path d=\" M 45 298 L 49 298\" fill=\"none\" paint-order=\"fill stroke markers\" stroke=\"black\" stroke-miterlimit=\"10\"/><path d=\" M 45 287 L 49 287\" fill=\"none\" paint-order=\"fill stroke markers\" stroke=\"black\" stroke-miterlimit=\"10\"/><path d=\" M 45 277 L 49 277\" fill=\"none\" paint-order=\"fill stroke markers\" stroke=\"black\" stroke-miterlimit=\"10\"/><path d=\" M 45 266 L 49 266\" fill=\"none\" paint-order=\"fill stroke markers\" stroke=\"black\" stroke-miterlimit=\"10\"/><path d=\" M 45 255 L 49 255\" fill=\"none\" paint-order=\"fill stroke markers\" stroke=\"black\" stroke-miterlimit=\"10\"/><path d=\" M 45 244 L 49 244\" fill=\"none\" paint-order=\"fill stroke markers\" stroke=\"black\" stroke-miterlimit=\"10\"/><path d=\" M 45 234 L 49 234\" fill=\"none\" paint-order=\"fill stroke markers\" stroke=\"black\" stroke-miterlimit=\"10\"/><path d=\" M 45 223 L 49 223\" fill=\"none\" paint-order=\"fill stroke markers\" stroke=\"black\" stroke-miterlimit=\"10\"/><path d=\" M 45 212 L 49 212\" fill=\"none\" paint-order=\"fill stroke markers\" stroke=\"black\" stroke-miterlimit=\"10\"/><path d=\" M 45 201 L 49 201\" fill=\"none\" paint-order=\"fill stroke markers\" stroke=\"black\" stroke-miterlimit=\"10\"/><path d=\" M 45 190 L 49 190\" fill=\"none\" paint-order=\"fill stroke markers\" stroke=\"black\" stroke-miterlimit=\"10\"/><path d=\" M 45 180 L 49 180\" fill=\"none\" paint-order=\"fill stroke markers\" stroke=\"black\" stroke-miterlimit=\"10\"/><path d=\" M 45 169 L 49 169\" fill=\"none\" paint-order=\"fill stroke markers\" stroke=\"black\" stroke-miterlimit=\"10\"/><path d=\" M 45 158 L 49 158\" fill=\"none\" paint-order=\"fill stroke markers\" stroke=\"black\" stroke-miterlimit=\"10\"/><path d=\" M 45 147 L 49 147\" fill=\"none\" paint-order=\"fill stroke markers\" stroke=\"black\" stroke-miterlimit=\"10\"/><path d=\" M 45 137 L 49 137\" fill=\"none\" paint-order=\"fill stroke markers\" stroke=\"black\" stroke-miterlimit=\"10\"/><path d=\" M 45 126 L 49 126\" fill=\"none\" paint-order=\"fill stroke markers\" stroke=\"black\" stroke-miterlimit=\"10\"/><path d=\" M 45 115 L 49 115\" fill=\"none\" paint-order=\"fill stroke markers\" stroke=\"black\" stroke-miterlimit=\"10\"/><path d=\" M 45 104 L 49 104\" fill=\"none\" paint-order=\"fill stroke markers\" stroke=\"black\" stroke-miterlimit=\"10\"/><path d=\" M 45 94 L 49 94\" fill=\"none\" paint-order=\"fill stroke markers\" stroke=\"black\" stroke-miterlimit=\"10\"/><path d=\" M 45 83 L 49 83\" fill=\"none\" paint-order=\"fill stroke markers\" stroke=\"black\" stroke-miterlimit=\"10\"/><path d=\" M 45 72 L 49 72\" fill=\"none\" paint-order=\"fill stroke markers\" stroke=\"black\" stroke-miterlimit=\"10\"/><path d=\" M 45 61 L 49 61\" fill=\"none\" paint-order=\"fill stroke markers\" stroke=\"black\" stroke-miterlimit=\"10\"/><path d=\" M 45 51 L 49 51\" fill=\"none\" paint-order=\"fill stroke markers\" stroke=\"black\" stroke-miterlimit=\"10\"/><path d=\" M 45 40 L 49 40\" fill=\"none\" paint-order=\"fill stroke markers\" stroke=\"black\" stroke-miterlimit=\"10\"/><path d=\" M 45 29 L 49 29\" fill=\"none\" paint-order=\"fill stroke markers\" stroke=\"black\" stroke-miterlimit=\"10\"/><text dominant-baseline=\"central\" fill=\"#444444\" font-family=\"helvetica\" font-size=\"8pt\" font-style=\"normal\" font-weight=\"normal\" stroke=\"none\" text-anchor=\"end\" text-decoration=\"normal\" x=\"38\" y=\"352\">0</text><text dominant-baseline=\"central\" fill=\"#444444\" font-family=\"helvetica\" font-size=\"8pt\" font-style=\"normal\" font-weight=\"normal\" stroke=\"none\" text-anchor=\"end\" text-decoration=\"normal\" x=\"38\" y=\"298\">5</text><text dominant-baseline=\"central\" fill=\"#444444\" font-family=\"helvetica\" font-size=\"8pt\" font-style=\"normal\" font-weight=\"normal\" stroke=\"none\" text-anchor=\"end\" text-decoration=\"normal\" x=\"38\" y=\"244\">10</text><text dominant-baseline=\"central\" fill=\"#444444\" font-family=\"helvetica\" font-size=\"8pt\" font-style=\"normal\" font-weight=\"normal\" stroke=\"none\" text-anchor=\"end\" text-decoration=\"normal\" x=\"38\" y=\"190\">15</text><text dominant-baseline=\"central\" fill=\"#444444\" font-family=\"helvetica\" font-size=\"8pt\" font-style=\"normal\" font-weight=\"normal\" stroke=\"none\" text-anchor=\"end\" text-decoration=\"normal\" x=\"38\" y=\"137\">20</text><text dominant-baseline=\"central\" fill=\"#444444\" font-family=\"helvetica\" font-size=\"8pt\" font-style=\"normal\" font-weight=\"normal\" stroke=\"none\" text-anchor=\"end\" text-decoration=\"normal\" x=\"38\" y=\"83\">25</text><text dominant-baseline=\"central\" fill=\"#444444\" font-family=\"helvetica\" font-size=\"8pt\" font-style=\"normal\" font-weight=\"normal\" stroke=\"none\" text-anchor=\"end\" text-decoration=\"normal\" x=\"38\" y=\"29\">30</text><g transform=\"translate(19.19250000000002,190.49131610839336) rotate(-90,0,0)\"><text dominant-baseline=\"alphabetic\" fill=\"#444444\" font-family=\"helvetica\" font-size=\"12pt\" font-style=\"italic\" font-weight=\"normal\" stroke=\"none\" text-anchor=\"middle\" text-decoration=\"normal\" x=\"0\" y=\"0\">Train Time Ratio (XGBoost/LightGBM)</text><g transform=\"rotate(90,0,0) translate(-19.19250000000002,-190.49131610839336)\"/></g></g></g></g></g></svg>"
      ],
      "text/plain": [
       "<IPython.core.display.SVG object>"
      ]
     },
     "metadata": {},
     "output_type": "display_data"
    }
   ],
   "source": [
    "bar.output_backend = \"svg\"\n",
    "export_svgs(bar, filename=\"xgb_vs_lgbm_train_time.svg\")\n",
    "display(SVG('xgb_vs_lgbm_train_time.svg'))"
   ]
  },
  {
   "cell_type": "markdown",
   "metadata": {
    "deletable": true,
    "editable": true
   },
   "source": [
    "Plot of train time ratio for GPU experiments."
   ]
  },
  {
   "cell_type": "code",
   "execution_count": 27,
   "metadata": {
    "collapsed": true,
    "deletable": true,
    "editable": true
   },
   "outputs": [],
   "source": [
    "data = {\n",
    "    'Ratio': results_gpu['Train Time Ratio'].values.tolist() + results_gpu['Train Time Ratio Hist'].values.tolist(),\n",
    "    'label': results_gpu.index.values.tolist()*2,\n",
    "    'group': ['xgb/lgb']*len(results_gpu.index.values) + ['xgb_hist/lgb']*len(results_gpu.index.values)\n",
    "}"
   ]
  },
  {
   "cell_type": "code",
   "execution_count": 30,
   "metadata": {
    "collapsed": false,
    "deletable": true,
    "editable": true
   },
   "outputs": [
    {
     "data": {
      "text/html": [
       "\n",
       "\n",
       "    <div class=\"bk-root\">\n",
       "        <div class=\"bk-plotdiv\" id=\"ef21c7c9-5dc1-4bd1-a525-2c98f0fa5092\"></div>\n",
       "    </div>\n",
       "<script type=\"text/javascript\">\n",
       "  \n",
       "  (function(global) {\n",
       "    function now() {\n",
       "      return new Date();\n",
       "    }\n",
       "  \n",
       "    var force = false;\n",
       "  \n",
       "    if (typeof (window._bokeh_onload_callbacks) === \"undefined\" || force === true) {\n",
       "      window._bokeh_onload_callbacks = [];\n",
       "      window._bokeh_is_loading = undefined;\n",
       "    }\n",
       "  \n",
       "  \n",
       "    \n",
       "    if (typeof (window._bokeh_timeout) === \"undefined\" || force === true) {\n",
       "      window._bokeh_timeout = Date.now() + 0;\n",
       "      window._bokeh_failed_load = false;\n",
       "    }\n",
       "  \n",
       "    var NB_LOAD_WARNING = {'data': {'text/html':\n",
       "       \"<div style='background-color: #fdd'>\\n\"+\n",
       "       \"<p>\\n\"+\n",
       "       \"BokehJS does not appear to have successfully loaded. If loading BokehJS from CDN, this \\n\"+\n",
       "       \"may be due to a slow or bad network connection. Possible fixes:\\n\"+\n",
       "       \"</p>\\n\"+\n",
       "       \"<ul>\\n\"+\n",
       "       \"<li>re-rerun `output_notebook()` to attempt to load from CDN again, or</li>\\n\"+\n",
       "       \"<li>use INLINE resources instead, as so:</li>\\n\"+\n",
       "       \"</ul>\\n\"+\n",
       "       \"<code>\\n\"+\n",
       "       \"from bokeh.resources import INLINE\\n\"+\n",
       "       \"output_notebook(resources=INLINE)\\n\"+\n",
       "       \"</code>\\n\"+\n",
       "       \"</div>\"}};\n",
       "  \n",
       "    function display_loaded() {\n",
       "      if (window.Bokeh !== undefined) {\n",
       "        var el = document.getElementById(\"ef21c7c9-5dc1-4bd1-a525-2c98f0fa5092\");\n",
       "        el.textContent = \"BokehJS \" + Bokeh.version + \" successfully loaded.\";\n",
       "      } else if (Date.now() < window._bokeh_timeout) {\n",
       "        setTimeout(display_loaded, 100)\n",
       "      }\n",
       "    }\n",
       "  \n",
       "    function run_callbacks() {\n",
       "      try {\n",
       "        window._bokeh_onload_callbacks.forEach(function(callback) { callback() });\n",
       "      }\n",
       "      finally {\n",
       "        delete window._bokeh_onload_callbacks\n",
       "      }\n",
       "      console.info(\"Bokeh: all callbacks have finished\");\n",
       "    }\n",
       "  \n",
       "    function load_libs(js_urls, callback) {\n",
       "      window._bokeh_onload_callbacks.push(callback);\n",
       "      if (window._bokeh_is_loading > 0) {\n",
       "        console.log(\"Bokeh: BokehJS is being loaded, scheduling callback at\", now());\n",
       "        return null;\n",
       "      }\n",
       "      if (js_urls == null || js_urls.length === 0) {\n",
       "        run_callbacks();\n",
       "        return null;\n",
       "      }\n",
       "      console.log(\"Bokeh: BokehJS not loaded, scheduling load and callback at\", now());\n",
       "      window._bokeh_is_loading = js_urls.length;\n",
       "      for (var i = 0; i < js_urls.length; i++) {\n",
       "        var url = js_urls[i];\n",
       "        var s = document.createElement('script');\n",
       "        s.src = url;\n",
       "        s.async = false;\n",
       "        s.onreadystatechange = s.onload = function() {\n",
       "          window._bokeh_is_loading--;\n",
       "          if (window._bokeh_is_loading === 0) {\n",
       "            console.log(\"Bokeh: all BokehJS libraries loaded\");\n",
       "            run_callbacks()\n",
       "          }\n",
       "        };\n",
       "        s.onerror = function() {\n",
       "          console.warn(\"failed to load library \" + url);\n",
       "        };\n",
       "        console.log(\"Bokeh: injecting script tag for BokehJS library: \", url);\n",
       "        document.getElementsByTagName(\"head\")[0].appendChild(s);\n",
       "      }\n",
       "    };var element = document.getElementById(\"ef21c7c9-5dc1-4bd1-a525-2c98f0fa5092\");\n",
       "    if (element == null) {\n",
       "      console.log(\"Bokeh: ERROR: autoload.js configured with elementid 'ef21c7c9-5dc1-4bd1-a525-2c98f0fa5092' but no matching script tag was found. \")\n",
       "      return false;\n",
       "    }\n",
       "  \n",
       "    var js_urls = [];\n",
       "  \n",
       "    var inline_js = [\n",
       "      function(Bokeh) {\n",
       "        (function() {\n",
       "          var fn = function() {\n",
       "            var docs_json = {\"ef15343f-c220-4c4d-bab8-1e8887e76da4\":{\"roots\":{\"references\":[{\"attributes\":{\"plot\":{\"id\":\"f847046c-f62b-4901-a35d-f63106c50bc5\",\"subtype\":\"Chart\",\"type\":\"Plot\"}},\"id\":\"58465233-a176-4305-82d5-0e50a789563f\",\"type\":\"ResetTool\"},{\"attributes\":{\"callback\":null,\"column_names\":[\"x\",\"y\",\"width\",\"height\",\"color\",\"fill_alpha\",\"line_color\",\"line_alpha\",\"label\"],\"data\":{\"chart_index\":[{\"group\":\"xgb/lgb\",\"label\":\"HIGGS_GPU\"}],\"color\":[\"#ff8533\"],\"fill_alpha\":[0.8],\"group\":[\"xgb/lgb\"],\"height\":[3.7231895138869535],\"label\":[\"HIGGS_GPU\"],\"line_alpha\":[1.0],\"line_color\":[\"white\"],\"width\":[0.2],\"x\":[\"HIGGS_GPU:0.333333333333\"],\"y\":[1.8615947569434768]}},\"id\":\"335af65f-6966-4a42-8541-75dd6b985130\",\"type\":\"ColumnDataSource\"},{\"attributes\":{},\"id\":\"35388ba7-28bb-4236-945a-e008dfcf4188\",\"type\":\"ToolEvents\"},{\"attributes\":{\"callback\":null,\"column_names\":[\"x\",\"y\",\"width\",\"height\",\"color\",\"fill_alpha\",\"line_color\",\"line_alpha\",\"label\"],\"data\":{\"chart_index\":[{\"group\":\"xgb_hist/lgb\",\"label\":\"HIGGS_GPU\"}],\"color\":[\"#ffd1b3\"],\"fill_alpha\":[0.8],\"group\":[\"xgb_hist/lgb\"],\"height\":[1.773493055128161],\"label\":[\"HIGGS_GPU\"],\"line_alpha\":[1.0],\"line_color\":[\"white\"],\"width\":[0.2],\"x\":[\"HIGGS_GPU:0.666666666667\"],\"y\":[0.8867465275640805]}},\"id\":\"8ca841d1-dcb1-44e0-8e58-88ceb6edb683\",\"type\":\"ColumnDataSource\"},{\"attributes\":{\"bottom_units\":\"screen\",\"fill_alpha\":{\"value\":0.5},\"fill_color\":{\"value\":\"lightgrey\"},\"left_units\":\"screen\",\"level\":\"overlay\",\"line_alpha\":{\"value\":1.0},\"line_color\":{\"value\":\"black\"},\"line_dash\":[4,4],\"line_width\":{\"value\":2},\"plot\":null,\"render_mode\":\"css\",\"right_units\":\"screen\",\"top_units\":\"screen\"},\"id\":\"97958de4-6fd0-4748-b7ad-9295d4cd1274\",\"type\":\"BoxAnnotation\"},{\"attributes\":{\"active_drag\":\"auto\",\"active_inspect\":\"auto\",\"active_scroll\":\"auto\",\"active_tap\":\"auto\",\"tools\":[{\"id\":\"0ab7466f-2937-4824-b06c-7605623b2bb7\",\"type\":\"PanTool\"},{\"id\":\"b7acf8fe-aa48-4a73-8803-7752b58eb847\",\"type\":\"WheelZoomTool\"},{\"id\":\"cda7a8ff-bfd6-4c0c-a0ea-0bc0292bf61b\",\"type\":\"BoxZoomTool\"},{\"id\":\"154a8787-4765-402e-9e41-2211f9447ad1\",\"type\":\"SaveTool\"},{\"id\":\"58465233-a176-4305-82d5-0e50a789563f\",\"type\":\"ResetTool\"},{\"id\":\"fcc3d037-e002-49f2-b503-aaed5eeea334\",\"type\":\"HelpTool\"}]},\"id\":\"e341d4e7-a2dd-40aa-adbe-02afe7cb3f45\",\"type\":\"Toolbar\"},{\"attributes\":{\"overlay\":{\"id\":\"97958de4-6fd0-4748-b7ad-9295d4cd1274\",\"type\":\"BoxAnnotation\"},\"plot\":{\"id\":\"f847046c-f62b-4901-a35d-f63106c50bc5\",\"subtype\":\"Chart\",\"type\":\"Plot\"}},\"id\":\"cda7a8ff-bfd6-4c0c-a0ea-0bc0292bf61b\",\"type\":\"BoxZoomTool\"},{\"attributes\":{\"plot\":null,\"text\":null},\"id\":\"9cd9a9aa-0c5e-4b18-9ea4-7ba87e61e268\",\"type\":\"Title\"},{\"attributes\":{},\"id\":\"d8f8d786-852d-48b4-8e6d-0ec01408e068\",\"type\":\"CategoricalTickFormatter\"},{\"attributes\":{},\"id\":\"2d971779-5283-422c-ba3e-cbd38e6f406e\",\"type\":\"CategoricalTicker\"},{\"attributes\":{\"fill_alpha\":{\"field\":\"fill_alpha\"},\"fill_color\":{\"field\":\"color\"},\"height\":{\"field\":\"height\",\"units\":\"data\"},\"line_color\":{\"field\":\"line_color\"},\"width\":{\"field\":\"width\",\"units\":\"data\"},\"x\":{\"field\":\"x\"},\"y\":{\"field\":\"y\"}},\"id\":\"8f9b3d3f-ecb4-44e2-8556-6cdfe159ce89\",\"type\":\"Rect\"},{\"attributes\":{},\"id\":\"8048af63-c8e3-4ab2-912c-23f331faa499\",\"type\":\"LinearScale\"},{\"attributes\":{\"callback\":null,\"end\":30},\"id\":\"983eed89-9266-4708-b097-e0ef4c0edfa3\",\"type\":\"Range1d\"},{\"attributes\":{},\"id\":\"c32e5037-996d-4da0-9095-cc825b13a118\",\"type\":\"CategoricalScale\"},{\"attributes\":{},\"id\":\"4fcaebf3-591d-45f3-934e-fd2db591d163\",\"type\":\"BasicTicker\"},{\"attributes\":{\"axis_label\":\"Train Time Ratio (XGBoost/LightGBM)\",\"axis_label_text_font_size\":{\"value\":\"12pt\"},\"formatter\":{\"id\":\"dd52cef9-c16e-4935-9acd-2463b074a15d\",\"type\":\"BasicTickFormatter\"},\"plot\":{\"id\":\"f847046c-f62b-4901-a35d-f63106c50bc5\",\"subtype\":\"Chart\",\"type\":\"Plot\"},\"ticker\":{\"id\":\"4fcaebf3-591d-45f3-934e-fd2db591d163\",\"type\":\"BasicTicker\"}},\"id\":\"efc9b8fa-9b2b-4d39-91c8-796029c03df0\",\"type\":\"LinearAxis\"},{\"attributes\":{\"data_source\":{\"id\":\"3e7c9990-6e5d-4c4e-9c55-ca779500a033\",\"type\":\"ColumnDataSource\"},\"glyph\":{\"id\":\"8f9b3d3f-ecb4-44e2-8556-6cdfe159ce89\",\"type\":\"Rect\"},\"hover_glyph\":null,\"muted_glyph\":null},\"id\":\"742143ea-8a9f-4730-9815-2501543d828f\",\"type\":\"GlyphRenderer\"},{\"attributes\":{\"label\":{\"value\":\"xgb/lgb\"},\"renderers\":[{\"id\":\"742143ea-8a9f-4730-9815-2501543d828f\",\"type\":\"GlyphRenderer\"}]},\"id\":\"5e4bb899-c727-4d7c-a909-0c77bd190bcd\",\"type\":\"LegendItem\"},{\"attributes\":{\"callback\":null,\"column_names\":[\"x\",\"y\",\"width\",\"height\",\"color\",\"fill_alpha\",\"line_color\",\"line_alpha\",\"label\"],\"data\":{\"chart_index\":[{\"group\":\"xgb/lgb\",\"label\":\"Airline_GPU\"}],\"color\":[\"#ff8533\"],\"fill_alpha\":[0.8],\"group\":[\"xgb/lgb\"],\"height\":[3.0453200667615974],\"label\":[\"Airline_GPU\"],\"line_alpha\":[1.0],\"line_color\":[\"white\"],\"width\":[0.2],\"x\":[\"Airline_GPU:0.333333333333\"],\"y\":[1.5226600333807987]}},\"id\":\"3e7c9990-6e5d-4c4e-9c55-ca779500a033\",\"type\":\"ColumnDataSource\"},{\"attributes\":{\"plot\":{\"id\":\"f847046c-f62b-4901-a35d-f63106c50bc5\",\"subtype\":\"Chart\",\"type\":\"Plot\"}},\"id\":\"154a8787-4765-402e-9e41-2211f9447ad1\",\"type\":\"SaveTool\"},{\"attributes\":{\"callback\":null,\"factors\":[\"Airline_GPU\",\"HIGGS_GPU\"]},\"id\":\"a243f839-ed7b-4f4c-b9eb-42b0b7e9ec51\",\"type\":\"FactorRange\"},{\"attributes\":{},\"id\":\"dd52cef9-c16e-4935-9acd-2463b074a15d\",\"type\":\"BasicTickFormatter\"},{\"attributes\":{\"plot\":{\"id\":\"f847046c-f62b-4901-a35d-f63106c50bc5\",\"subtype\":\"Chart\",\"type\":\"Plot\"}},\"id\":\"fcc3d037-e002-49f2-b503-aaed5eeea334\",\"type\":\"HelpTool\"},{\"attributes\":{\"plot\":{\"id\":\"f847046c-f62b-4901-a35d-f63106c50bc5\",\"subtype\":\"Chart\",\"type\":\"Plot\"}},\"id\":\"b7acf8fe-aa48-4a73-8803-7752b58eb847\",\"type\":\"WheelZoomTool\"},{\"attributes\":{\"label\":{\"value\":\"xgb_hist/lgb\"},\"renderers\":[{\"id\":\"027a4e97-9f81-4a0e-a7bd-5f887dd48633\",\"type\":\"GlyphRenderer\"}]},\"id\":\"92eccc97-f037-4a38-82fb-2dbc79c2518e\",\"type\":\"LegendItem\"},{\"attributes\":{\"axis_label\":\"\",\"formatter\":{\"id\":\"d8f8d786-852d-48b4-8e6d-0ec01408e068\",\"type\":\"CategoricalTickFormatter\"},\"major_label_orientation\":0.7853981633974483,\"plot\":{\"id\":\"f847046c-f62b-4901-a35d-f63106c50bc5\",\"subtype\":\"Chart\",\"type\":\"Plot\"},\"ticker\":{\"id\":\"2d971779-5283-422c-ba3e-cbd38e6f406e\",\"type\":\"CategoricalTicker\"}},\"id\":\"227b7dad-9629-479e-9ab1-cad673bdc96a\",\"type\":\"CategoricalAxis\"},{\"attributes\":{\"dimension\":1,\"plot\":{\"id\":\"f847046c-f62b-4901-a35d-f63106c50bc5\",\"subtype\":\"Chart\",\"type\":\"Plot\"},\"ticker\":{\"id\":\"4fcaebf3-591d-45f3-934e-fd2db591d163\",\"type\":\"BasicTicker\"}},\"id\":\"c7f039ba-8d01-4332-94bb-f23503f96d5d\",\"type\":\"Grid\"},{\"attributes\":{\"fill_alpha\":{\"field\":\"fill_alpha\"},\"fill_color\":{\"field\":\"color\"},\"height\":{\"field\":\"height\",\"units\":\"data\"},\"line_color\":{\"field\":\"line_color\"},\"width\":{\"field\":\"width\",\"units\":\"data\"},\"x\":{\"field\":\"x\"},\"y\":{\"field\":\"y\"}},\"id\":\"ec00a194-a02f-4402-82ff-3c948e8ae719\",\"type\":\"Rect\"},{\"attributes\":{\"data_source\":{\"id\":\"335af65f-6966-4a42-8541-75dd6b985130\",\"type\":\"ColumnDataSource\"},\"glyph\":{\"id\":\"290c2da0-981d-4a69-b3b9-786207d06e47\",\"type\":\"Rect\"},\"hover_glyph\":null,\"muted_glyph\":null},\"id\":\"fdd85974-ca67-44fc-81e8-fac8666c97b7\",\"type\":\"GlyphRenderer\"},{\"attributes\":{\"plot\":{\"id\":\"f847046c-f62b-4901-a35d-f63106c50bc5\",\"subtype\":\"Chart\",\"type\":\"Plot\"}},\"id\":\"0ab7466f-2937-4824-b06c-7605623b2bb7\",\"type\":\"PanTool\"},{\"attributes\":{\"fill_alpha\":{\"field\":\"fill_alpha\"},\"fill_color\":{\"field\":\"color\"},\"height\":{\"field\":\"height\",\"units\":\"data\"},\"line_color\":{\"field\":\"line_color\"},\"width\":{\"field\":\"width\",\"units\":\"data\"},\"x\":{\"field\":\"x\"},\"y\":{\"field\":\"y\"}},\"id\":\"98416ff4-f1ac-40df-9cd8-e72be9193fe6\",\"type\":\"Rect\"},{\"attributes\":{\"below\":[{\"id\":\"227b7dad-9629-479e-9ab1-cad673bdc96a\",\"type\":\"CategoricalAxis\"}],\"css_classes\":null,\"left\":[{\"id\":\"efc9b8fa-9b2b-4d39-91c8-796029c03df0\",\"type\":\"LinearAxis\"}],\"plot_height\":400,\"plot_width\":300,\"renderers\":[{\"id\":\"97958de4-6fd0-4748-b7ad-9295d4cd1274\",\"type\":\"BoxAnnotation\"},{\"id\":\"742143ea-8a9f-4730-9815-2501543d828f\",\"type\":\"GlyphRenderer\"},{\"id\":\"fdd85974-ca67-44fc-81e8-fac8666c97b7\",\"type\":\"GlyphRenderer\"},{\"id\":\"027a4e97-9f81-4a0e-a7bd-5f887dd48633\",\"type\":\"GlyphRenderer\"},{\"id\":\"427f71d3-21d4-41c4-8339-45ace1af6867\",\"type\":\"GlyphRenderer\"},{\"id\":\"ac6a6960-f460-4342-880c-81539da30fb6\",\"type\":\"Legend\"},{\"id\":\"227b7dad-9629-479e-9ab1-cad673bdc96a\",\"type\":\"CategoricalAxis\"},{\"id\":\"efc9b8fa-9b2b-4d39-91c8-796029c03df0\",\"type\":\"LinearAxis\"},{\"id\":\"c7f039ba-8d01-4332-94bb-f23503f96d5d\",\"type\":\"Grid\"}],\"title\":{\"id\":\"9cd9a9aa-0c5e-4b18-9ea4-7ba87e61e268\",\"type\":\"Title\"},\"tool_events\":{\"id\":\"35388ba7-28bb-4236-945a-e008dfcf4188\",\"type\":\"ToolEvents\"},\"toolbar\":{\"id\":\"e341d4e7-a2dd-40aa-adbe-02afe7cb3f45\",\"type\":\"Toolbar\"},\"toolbar_location\":\"above\",\"x_range\":{\"id\":\"a243f839-ed7b-4f4c-b9eb-42b0b7e9ec51\",\"type\":\"FactorRange\"},\"x_scale\":{\"id\":\"c32e5037-996d-4da0-9095-cc825b13a118\",\"type\":\"CategoricalScale\"},\"y_range\":{\"id\":\"983eed89-9266-4708-b097-e0ef4c0edfa3\",\"type\":\"Range1d\"},\"y_scale\":{\"id\":\"8048af63-c8e3-4ab2-912c-23f331faa499\",\"type\":\"LinearScale\"}},\"id\":\"f847046c-f62b-4901-a35d-f63106c50bc5\",\"subtype\":\"Chart\",\"type\":\"Plot\"},{\"attributes\":{\"data_source\":{\"id\":\"8ca841d1-dcb1-44e0-8e58-88ceb6edb683\",\"type\":\"ColumnDataSource\"},\"glyph\":{\"id\":\"98416ff4-f1ac-40df-9cd8-e72be9193fe6\",\"type\":\"Rect\"},\"hover_glyph\":null,\"muted_glyph\":null},\"id\":\"427f71d3-21d4-41c4-8339-45ace1af6867\",\"type\":\"GlyphRenderer\"},{\"attributes\":{\"callback\":null,\"column_names\":[\"x\",\"y\",\"width\",\"height\",\"color\",\"fill_alpha\",\"line_color\",\"line_alpha\",\"label\"],\"data\":{\"chart_index\":[{\"group\":\"xgb_hist/lgb\",\"label\":\"Airline_GPU\"}],\"color\":[\"#ffd1b3\"],\"fill_alpha\":[0.8],\"group\":[\"xgb_hist/lgb\"],\"height\":[1.2715174250896941],\"label\":[\"Airline_GPU\"],\"line_alpha\":[1.0],\"line_color\":[\"white\"],\"width\":[0.2],\"x\":[\"Airline_GPU:0.666666666667\"],\"y\":[0.6357587125448471]}},\"id\":\"62cbc457-948e-49bb-b13c-eec062c4ba03\",\"type\":\"ColumnDataSource\"},{\"attributes\":{\"data_source\":{\"id\":\"62cbc457-948e-49bb-b13c-eec062c4ba03\",\"type\":\"ColumnDataSource\"},\"glyph\":{\"id\":\"ec00a194-a02f-4402-82ff-3c948e8ae719\",\"type\":\"Rect\"},\"hover_glyph\":null,\"muted_glyph\":null},\"id\":\"027a4e97-9f81-4a0e-a7bd-5f887dd48633\",\"type\":\"GlyphRenderer\"},{\"attributes\":{\"fill_alpha\":{\"field\":\"fill_alpha\"},\"fill_color\":{\"field\":\"color\"},\"height\":{\"field\":\"height\",\"units\":\"data\"},\"line_color\":{\"field\":\"line_color\"},\"width\":{\"field\":\"width\",\"units\":\"data\"},\"x\":{\"field\":\"x\"},\"y\":{\"field\":\"y\"}},\"id\":\"290c2da0-981d-4a69-b3b9-786207d06e47\",\"type\":\"Rect\"},{\"attributes\":{\"items\":[{\"id\":\"5e4bb899-c727-4d7c-a909-0c77bd190bcd\",\"type\":\"LegendItem\"},{\"id\":\"92eccc97-f037-4a38-82fb-2dbc79c2518e\",\"type\":\"LegendItem\"}],\"plot\":{\"id\":\"f847046c-f62b-4901-a35d-f63106c50bc5\",\"subtype\":\"Chart\",\"type\":\"Plot\"}},\"id\":\"ac6a6960-f460-4342-880c-81539da30fb6\",\"type\":\"Legend\"}],\"root_ids\":[\"f847046c-f62b-4901-a35d-f63106c50bc5\"]},\"title\":\"Bokeh Application\",\"version\":\"0.12.6\"}};\n",
       "            var render_items = [{\"docid\":\"ef15343f-c220-4c4d-bab8-1e8887e76da4\",\"elementid\":\"ef21c7c9-5dc1-4bd1-a525-2c98f0fa5092\",\"modelid\":\"f847046c-f62b-4901-a35d-f63106c50bc5\"}];\n",
       "            \n",
       "            Bokeh.embed.embed_items(docs_json, render_items);\n",
       "          };\n",
       "          if (document.readyState != \"loading\") fn();\n",
       "          else document.addEventListener(\"DOMContentLoaded\", fn);\n",
       "        })();\n",
       "      },\n",
       "      function(Bokeh) {\n",
       "      }\n",
       "    ];\n",
       "  \n",
       "    function run_inline_js() {\n",
       "      \n",
       "      if ((window.Bokeh !== undefined) || (force === true)) {\n",
       "        for (var i = 0; i < inline_js.length; i++) {\n",
       "          inline_js[i](window.Bokeh);\n",
       "        }if (force === true) {\n",
       "          display_loaded();\n",
       "        }} else if (Date.now() < window._bokeh_timeout) {\n",
       "        setTimeout(run_inline_js, 100);\n",
       "      } else if (!window._bokeh_failed_load) {\n",
       "        console.log(\"Bokeh: BokehJS failed to load within specified timeout.\");\n",
       "        window._bokeh_failed_load = true;\n",
       "      } else if (force !== true) {\n",
       "        var cell = $(document.getElementById(\"ef21c7c9-5dc1-4bd1-a525-2c98f0fa5092\")).parents('.cell').data().cell;\n",
       "        cell.output_area.append_execute_result(NB_LOAD_WARNING)\n",
       "      }\n",
       "  \n",
       "    }\n",
       "  \n",
       "    if (window._bokeh_is_loading === 0) {\n",
       "      console.log(\"Bokeh: BokehJS loaded, going straight to plotting\");\n",
       "      run_inline_js();\n",
       "    } else {\n",
       "      load_libs(js_urls, function() {\n",
       "        console.log(\"Bokeh: BokehJS plotting callback run at\", now());\n",
       "        run_inline_js();\n",
       "      });\n",
       "    }\n",
       "  }(this));\n",
       "</script>"
      ]
     },
     "metadata": {},
     "output_type": "display_data"
    }
   ],
   "source": [
    "bar = Bar(data, values='Ratio', agg='mean', label='label', group='group', \n",
    "          plot_width=300, plot_height=400, bar_width=0.5, color=['#ff8533','#ffd1b3'], legend='top_right')\n",
    "bar.axis[0].axis_label=''\n",
    "bar.y_range = Range1d(0, 30)\n",
    "bar.axis[1].axis_label='Train Time Ratio (XGBoost/LightGBM)'\n",
    "bar.axis[1].axis_label_text_font_size='12pt'\n",
    "bar.toolbar_location='above'\n",
    "bar.legend[0].visible=True\n",
    "show(bar)"
   ]
  },
  {
   "cell_type": "code",
   "execution_count": 31,
   "metadata": {
    "collapsed": false,
    "deletable": true,
    "editable": true
   },
   "outputs": [
    {
     "name": "stderr",
     "output_type": "stream",
     "text": [
      "WARNING:bokeh.io:The webdriver raised a TimeoutException while waiting for                      a 'bokeh:idle' event to signify that the layout has rendered.                      Something may have gone wrong.\n"
     ]
    },
    {
     "data": {
      "image/svg+xml": [
       "<svg height=\"400\" style=\"width: 300px; height: 400px;\" version=\"1.1\" width=\"300\" xmlns=\"http://www.w3.org/2000/svg\" xmlns:xlink=\"http://www.w3.org/1999/xlink\"><defs/><g><g/><g transform=\"scale(1,1) translate(0.5,0.5)\"><rect fill=\"#FFFFFF\" height=\"400\" stroke=\"none\" width=\"300\" x=\"0\" y=\"0\"/><rect fill=\"#ffffff\" height=\"400\" stroke=\"none\" width=\"300\" x=\"0\" y=\"0\"/><rect fill=\"#FFFFFF\" height=\"303.525042336355\" stroke=\"none\" width=\"246.366875\" x=\"48.63312500000002\" y=\"29\"/><rect fill=\"#ffffff\" height=\"303.525042336355\" stroke=\"none\" width=\"246.366875\" x=\"48.63312500000002\" y=\"29\"/><g><rect fill=\"none\" height=\"303.525042336355\" stroke=\"#e5e5e5\" stroke-miterlimit=\"10\" width=\"246.366875\" x=\"48.63312500000002\" y=\"29\"/></g><g><g><path d=\" M 49 282 L 295 282\" fill=\"none\" paint-order=\"fill stroke markers\" stroke=\"#e5e5e5\" stroke-miterlimit=\"10\"/><path d=\" M 49 231 L 295 231\" fill=\"none\" paint-order=\"fill stroke markers\" stroke=\"#e5e5e5\" stroke-miterlimit=\"10\"/><path d=\" M 49 181 L 295 181\" fill=\"none\" paint-order=\"fill stroke markers\" stroke=\"#e5e5e5\" stroke-miterlimit=\"10\"/><path d=\" M 49 130 L 295 130\" fill=\"none\" paint-order=\"fill stroke markers\" stroke=\"#e5e5e5\" stroke-miterlimit=\"10\"/><path d=\" M 49 80 L 295 80\" fill=\"none\" paint-order=\"fill stroke markers\" stroke=\"#e5e5e5\" stroke-miterlimit=\"10\"/></g><g><path fill=\"none\" stroke=\"none\"/><rect fill=\"#ff8533\" fill-opacity=\"0.8\" height=\"30.81103007305218\" stroke=\"none\" width=\"24.636687499998516\" x=\"77.3759270832923\" y=\"301.71401226330283\"/><path d=\" M 77.3759270832923 301.71401226330283 L 102.01261458329081 301.71401226330283 L 102.01261458329081 332.525042336355 L 77.3759270832923 332.525042336355 L 77.3759270832923 301.71401226330283 Z\" fill=\"none\" paint-order=\"fill stroke markers\" stroke=\"white\" stroke-miterlimit=\"10\"/><path d=\"\" fill=\"none\" paint-order=\"fill stroke markers\" stroke=\"white\" stroke-miterlimit=\"10\"/></g><g><path fill=\"none\" stroke=\"none\"/><rect fill=\"#ff8533\" fill-opacity=\"0.8\" height=\"37.66937516096036\" stroke=\"none\" width=\"24.636687499998516\" x=\"200.55936458329228\" y=\"294.8556671753947\"/><path d=\" M 200.55936458329228 294.8556671753947 L 225.1960520832908 294.8556671753947 L 225.1960520832908 332.525042336355 L 200.55936458329228 332.525042336355 L 200.55936458329228 294.8556671753947 Z\" fill=\"none\" paint-order=\"fill stroke markers\" stroke=\"white\" stroke-miterlimit=\"10\"/><path d=\"\" fill=\"none\" paint-order=\"fill stroke markers\" stroke=\"white\" stroke-miterlimit=\"10\"/></g><g><path fill=\"none\" stroke=\"none\"/><rect fill=\"#ffd1b3\" fill-opacity=\"0.8\" height=\"12.86457934272542\" stroke=\"none\" width=\"24.636687499998516\" x=\"118.43707291670773\" y=\"319.6604629936296\"/><path d=\" M 118.43707291670773 319.6604629936296 L 143.07376041670625 319.6604629936296 L 143.07376041670625 332.525042336355 L 118.43707291670773 332.525042336355 L 118.43707291670773 319.6604629936296 Z\" fill=\"none\" paint-order=\"fill stroke markers\" stroke=\"white\" stroke-miterlimit=\"10\"/><path d=\"\" fill=\"none\" paint-order=\"fill stroke markers\" stroke=\"white\" stroke-miterlimit=\"10\"/></g><g><path fill=\"none\" stroke=\"none\"/><rect fill=\"#ffd1b3\" fill-opacity=\"0.8\" height=\"17.943318488033555\" stroke=\"none\" width=\"24.636687499998516\" x=\"241.62051041670773\" y=\"314.5817238483215\"/><path d=\" M 241.62051041670773 314.5817238483215 L 266.2571979167062 314.5817238483215 L 266.2571979167062 332.525042336355 L 241.62051041670773 332.525042336355 L 241.62051041670773 314.5817238483215 Z\" fill=\"none\" paint-order=\"fill stroke markers\" stroke=\"white\" stroke-miterlimit=\"10\"/><path d=\"\" fill=\"none\" paint-order=\"fill stroke markers\" stroke=\"white\" stroke-miterlimit=\"10\"/></g></g><g><g/><g><path d=\" M 170.71875 39 L 285 39 L 285 102 L 170.71875 102 L 170.71875 39 Z\" fill=\"#ffffff\" fill-opacity=\"0.95\" paint-order=\"fill stroke markers\" stroke=\"#e5e5e5\" stroke-miterlimit=\"10\" stroke-opacity=\"0.5\"/><text dominant-baseline=\"central\" fill=\"#444444\" font-family=\"helvetica\" font-size=\"10pt\" font-style=\"normal\" font-weight=\"normal\" stroke=\"none\" text-anchor=\"start\" text-decoration=\"normal\" x=\"205.71875\" y=\"59\">xgb/lgb</text><rect fill=\"#ff8533\" fill-opacity=\"0.8\" height=\"16\" stroke=\"none\" width=\"16\" x=\"182.71875\" y=\"51\"/><path d=\" M 182.71875 51 L 198.71875 51 L 198.71875 67 L 182.71875 67 L 182.71875 51 Z\" fill=\"none\" paint-order=\"fill stroke markers\" stroke=\"white\" stroke-miterlimit=\"10\"/><text dominant-baseline=\"central\" fill=\"#444444\" font-family=\"helvetica\" font-size=\"10pt\" font-style=\"normal\" font-weight=\"normal\" stroke=\"none\" text-anchor=\"start\" text-decoration=\"normal\" x=\"205.71875\" y=\"82\">xgb_hist/lgb</text><rect fill=\"#ffd1b3\" fill-opacity=\"0.8\" height=\"16\" stroke=\"none\" width=\"16\" x=\"182.71875\" y=\"74\"/><path d=\" M 182.71875 74 L 198.71875 74 L 198.71875 90 L 182.71875 90 L 182.71875 74 Z\" fill=\"none\" paint-order=\"fill stroke markers\" stroke=\"white\" stroke-miterlimit=\"10\"/></g></g><g><g fill=\"#444444\"><path d=\" M 49 333 L 295 333\" fill=\"none\" paint-order=\"fill stroke markers\" stroke=\"black\" stroke-miterlimit=\"10\"/><path d=\" M 110 339 L 110 331\" fill=\"none\" paint-order=\"fill stroke markers\" stroke=\"black\" stroke-miterlimit=\"10\"/><path d=\" M 233 339 L 233 331\" fill=\"\" paint-order=\"fill stroke markers\" stroke=\"black\" stroke-miterlimit=\"10\"/><g transform=\"translate(110.22484375000002,343.525042336355) rotate(-45,0,0)\"><text dominant-baseline=\"central\" fill=\"\" font-family=\"helvetica\" font-size=\"8pt\" font-style=\"normal\" font-weight=\"normal\" stroke=\"none\" text-anchor=\"end\" text-decoration=\"normal\" x=\"0\" y=\"0\">Airline_GPU</text><g transform=\"rotate(45,0,0) translate(-110.22484375000002,-343.525042336355) translate(233.40828125000002,343.525042336355) rotate(-45,0,0)\"><text dominant-baseline=\"central\" fill=\"\" font-family=\"helvetica\" font-size=\"8pt\" font-style=\"normal\" font-weight=\"normal\" stroke=\"none\" text-anchor=\"end\" text-decoration=\"normal\" x=\"0\" y=\"0\">HIGGS_GPU</text><g transform=\"rotate(45,0,0) translate(-233.40828125000002,-343.525042336355)\"><text dominant-baseline=\"hanging\" fill=\"\" font-family=\"helvetica\" font-size=\"10pt\" font-style=\"italic\" font-weight=\"normal\" stroke=\"none\" text-anchor=\"middle\" text-decoration=\"normal\" x=\"171.8165625\" y=\"404\"/></g></g></g></g><g><path d=\" M 49 333 L 49 29\" fill=\"none\" paint-order=\"fill stroke markers\" stroke=\"black\" stroke-miterlimit=\"10\"/><path d=\" M 43 333 L 51 333\" fill=\"none\" paint-order=\"fill stroke markers\" stroke=\"black\" stroke-miterlimit=\"10\"/><path d=\" M 43 282 L 51 282\" fill=\"none\" paint-order=\"fill stroke markers\" stroke=\"black\" stroke-miterlimit=\"10\"/><path d=\" M 43 231 L 51 231\" fill=\"none\" paint-order=\"fill stroke markers\" stroke=\"black\" stroke-miterlimit=\"10\"/><path d=\" M 43 181 L 51 181\" fill=\"none\" paint-order=\"fill stroke markers\" stroke=\"black\" stroke-miterlimit=\"10\"/><path d=\" M 43 130 L 51 130\" fill=\"none\" paint-order=\"fill stroke markers\" stroke=\"black\" stroke-miterlimit=\"10\"/><path d=\" M 43 80 L 51 80\" fill=\"none\" paint-order=\"fill stroke markers\" stroke=\"black\" stroke-miterlimit=\"10\"/><path d=\" M 43 29 L 51 29\" fill=\"none\" paint-order=\"fill stroke markers\" stroke=\"black\" stroke-miterlimit=\"10\"/><path d=\" M 45 333 L 49 333\" fill=\"none\" paint-order=\"fill stroke markers\" stroke=\"black\" stroke-miterlimit=\"10\"/><path d=\" M 45 322 L 49 322\" fill=\"none\" paint-order=\"fill stroke markers\" stroke=\"black\" stroke-miterlimit=\"10\"/><path d=\" M 45 312 L 49 312\" fill=\"none\" paint-order=\"fill stroke markers\" stroke=\"black\" stroke-miterlimit=\"10\"/><path d=\" M 45 302 L 49 302\" fill=\"none\" paint-order=\"fill stroke markers\" stroke=\"black\" stroke-miterlimit=\"10\"/><path d=\" M 45 292 L 49 292\" fill=\"none\" paint-order=\"fill stroke markers\" stroke=\"black\" stroke-miterlimit=\"10\"/><path d=\" M 45 282 L 49 282\" fill=\"none\" paint-order=\"fill stroke markers\" stroke=\"black\" stroke-miterlimit=\"10\"/><path d=\" M 45 272 L 49 272\" fill=\"none\" paint-order=\"fill stroke markers\" stroke=\"black\" stroke-miterlimit=\"10\"/><path d=\" M 45 262 L 49 262\" fill=\"none\" paint-order=\"fill stroke markers\" stroke=\"black\" stroke-miterlimit=\"10\"/><path d=\" M 45 252 L 49 252\" fill=\"none\" paint-order=\"fill stroke markers\" stroke=\"black\" stroke-miterlimit=\"10\"/><path d=\" M 45 241 L 49 241\" fill=\"none\" paint-order=\"fill stroke markers\" stroke=\"black\" stroke-miterlimit=\"10\"/><path d=\" M 45 231 L 49 231\" fill=\"none\" paint-order=\"fill stroke markers\" stroke=\"black\" stroke-miterlimit=\"10\"/><path d=\" M 45 221 L 49 221\" fill=\"none\" paint-order=\"fill stroke markers\" stroke=\"black\" stroke-miterlimit=\"10\"/><path d=\" M 45 211 L 49 211\" fill=\"none\" paint-order=\"fill stroke markers\" stroke=\"black\" stroke-miterlimit=\"10\"/><path d=\" M 45 201 L 49 201\" fill=\"none\" paint-order=\"fill stroke markers\" stroke=\"black\" stroke-miterlimit=\"10\"/><path d=\" M 45 191 L 49 191\" fill=\"none\" paint-order=\"fill stroke markers\" stroke=\"black\" stroke-miterlimit=\"10\"/><path d=\" M 45 181 L 49 181\" fill=\"none\" paint-order=\"fill stroke markers\" stroke=\"black\" stroke-miterlimit=\"10\"/><path d=\" M 45 171 L 49 171\" fill=\"none\" paint-order=\"fill stroke markers\" stroke=\"black\" stroke-miterlimit=\"10\"/><path d=\" M 45 161 L 49 161\" fill=\"none\" paint-order=\"fill stroke markers\" stroke=\"black\" stroke-miterlimit=\"10\"/><path d=\" M 45 150 L 49 150\" fill=\"none\" paint-order=\"fill stroke markers\" stroke=\"black\" stroke-miterlimit=\"10\"/><path d=\" M 45 140 L 49 140\" fill=\"none\" paint-order=\"fill stroke markers\" stroke=\"black\" stroke-miterlimit=\"10\"/><path d=\" M 45 130 L 49 130\" fill=\"none\" paint-order=\"fill stroke markers\" stroke=\"black\" stroke-miterlimit=\"10\"/><path d=\" M 45 120 L 49 120\" fill=\"none\" paint-order=\"fill stroke markers\" stroke=\"black\" stroke-miterlimit=\"10\"/><path d=\" M 45 110 L 49 110\" fill=\"none\" paint-order=\"fill stroke markers\" stroke=\"black\" stroke-miterlimit=\"10\"/><path d=\" M 45 100 L 49 100\" fill=\"none\" paint-order=\"fill stroke markers\" stroke=\"black\" stroke-miterlimit=\"10\"/><path d=\" M 45 90 L 49 90\" fill=\"none\" paint-order=\"fill stroke markers\" stroke=\"black\" stroke-miterlimit=\"10\"/><path d=\" M 45 80 L 49 80\" fill=\"none\" paint-order=\"fill stroke markers\" stroke=\"black\" stroke-miterlimit=\"10\"/><path d=\" M 45 69 L 49 69\" fill=\"none\" paint-order=\"fill stroke markers\" stroke=\"black\" stroke-miterlimit=\"10\"/><path d=\" M 45 59 L 49 59\" fill=\"none\" paint-order=\"fill stroke markers\" stroke=\"black\" stroke-miterlimit=\"10\"/><path d=\" M 45 49 L 49 49\" fill=\"none\" paint-order=\"fill stroke markers\" stroke=\"black\" stroke-miterlimit=\"10\"/><path d=\" M 45 39 L 49 39\" fill=\"none\" paint-order=\"fill stroke markers\" stroke=\"black\" stroke-miterlimit=\"10\"/><path d=\" M 45 29 L 49 29\" fill=\"none\" paint-order=\"fill stroke markers\" stroke=\"black\" stroke-miterlimit=\"10\"/><text dominant-baseline=\"central\" fill=\"#444444\" font-family=\"helvetica\" font-size=\"8pt\" font-style=\"normal\" font-weight=\"normal\" stroke=\"none\" text-anchor=\"end\" text-decoration=\"normal\" x=\"38\" y=\"333\">0</text><text dominant-baseline=\"central\" fill=\"#444444\" font-family=\"helvetica\" font-size=\"8pt\" font-style=\"normal\" font-weight=\"normal\" stroke=\"none\" text-anchor=\"end\" text-decoration=\"normal\" x=\"38\" y=\"282\">5</text><text dominant-baseline=\"central\" fill=\"#444444\" font-family=\"helvetica\" font-size=\"8pt\" font-style=\"normal\" font-weight=\"normal\" stroke=\"none\" text-anchor=\"end\" text-decoration=\"normal\" x=\"38\" y=\"231\">10</text><text dominant-baseline=\"central\" fill=\"#444444\" font-family=\"helvetica\" font-size=\"8pt\" font-style=\"normal\" font-weight=\"normal\" stroke=\"none\" text-anchor=\"end\" text-decoration=\"normal\" x=\"38\" y=\"181\">15</text><text dominant-baseline=\"central\" fill=\"#444444\" font-family=\"helvetica\" font-size=\"8pt\" font-style=\"normal\" font-weight=\"normal\" stroke=\"none\" text-anchor=\"end\" text-decoration=\"normal\" x=\"38\" y=\"130\">20</text><text dominant-baseline=\"central\" fill=\"#444444\" font-family=\"helvetica\" font-size=\"8pt\" font-style=\"normal\" font-weight=\"normal\" stroke=\"none\" text-anchor=\"end\" text-decoration=\"normal\" x=\"38\" y=\"80\">25</text><text dominant-baseline=\"central\" fill=\"#444444\" font-family=\"helvetica\" font-size=\"8pt\" font-style=\"normal\" font-weight=\"normal\" stroke=\"none\" text-anchor=\"end\" text-decoration=\"normal\" x=\"38\" y=\"29\">30</text><g transform=\"translate(19.19250000000002,180.7625211681775) rotate(-90,0,0)\"><text dominant-baseline=\"alphabetic\" fill=\"#444444\" font-family=\"helvetica\" font-size=\"12pt\" font-style=\"italic\" font-weight=\"normal\" stroke=\"none\" text-anchor=\"middle\" text-decoration=\"normal\" x=\"0\" y=\"0\">Train Time Ratio (XGBoost/LightGBM)</text><g transform=\"rotate(90,0,0) translate(-19.19250000000002,-180.7625211681775)\"/></g></g></g></g></g></svg>"
      ],
      "text/plain": [
       "<IPython.core.display.SVG object>"
      ]
     },
     "metadata": {},
     "output_type": "display_data"
    }
   ],
   "source": [
    "bar.output_backend = \"svg\"\n",
    "export_svgs(bar, filename=\"xgb_vs_lgbm_train_time_gpu.svg\")\n",
    "display(SVG('xgb_vs_lgbm_train_time_gpu.svg'))"
   ]
  },
  {
   "cell_type": "code",
   "execution_count": 23,
   "metadata": {
    "collapsed": true,
    "deletable": true,
    "editable": true
   },
   "outputs": [],
   "source": [
    "data = {\n",
    "    'Perf. Difference(%)': results_df['Perf. Difference(%)'].values,\n",
    "    'label': results_df.index.values\n",
    "}"
   ]
  },
  {
   "cell_type": "code",
   "execution_count": 24,
   "metadata": {
    "collapsed": false,
    "deletable": true,
    "editable": true
   },
   "outputs": [
    {
     "data": {
      "text/html": [
       "\n",
       "\n",
       "    <div class=\"bk-root\">\n",
       "        <div class=\"bk-plotdiv\" id=\"3ac37e2e-e9b9-42a4-b43f-a10d9b63e162\"></div>\n",
       "    </div>\n",
       "<script type=\"text/javascript\">\n",
       "  \n",
       "  (function(global) {\n",
       "    function now() {\n",
       "      return new Date();\n",
       "    }\n",
       "  \n",
       "    var force = false;\n",
       "  \n",
       "    if (typeof (window._bokeh_onload_callbacks) === \"undefined\" || force === true) {\n",
       "      window._bokeh_onload_callbacks = [];\n",
       "      window._bokeh_is_loading = undefined;\n",
       "    }\n",
       "  \n",
       "  \n",
       "    \n",
       "    if (typeof (window._bokeh_timeout) === \"undefined\" || force === true) {\n",
       "      window._bokeh_timeout = Date.now() + 0;\n",
       "      window._bokeh_failed_load = false;\n",
       "    }\n",
       "  \n",
       "    var NB_LOAD_WARNING = {'data': {'text/html':\n",
       "       \"<div style='background-color: #fdd'>\\n\"+\n",
       "       \"<p>\\n\"+\n",
       "       \"BokehJS does not appear to have successfully loaded. If loading BokehJS from CDN, this \\n\"+\n",
       "       \"may be due to a slow or bad network connection. Possible fixes:\\n\"+\n",
       "       \"</p>\\n\"+\n",
       "       \"<ul>\\n\"+\n",
       "       \"<li>re-rerun `output_notebook()` to attempt to load from CDN again, or</li>\\n\"+\n",
       "       \"<li>use INLINE resources instead, as so:</li>\\n\"+\n",
       "       \"</ul>\\n\"+\n",
       "       \"<code>\\n\"+\n",
       "       \"from bokeh.resources import INLINE\\n\"+\n",
       "       \"output_notebook(resources=INLINE)\\n\"+\n",
       "       \"</code>\\n\"+\n",
       "       \"</div>\"}};\n",
       "  \n",
       "    function display_loaded() {\n",
       "      if (window.Bokeh !== undefined) {\n",
       "        var el = document.getElementById(\"3ac37e2e-e9b9-42a4-b43f-a10d9b63e162\");\n",
       "        el.textContent = \"BokehJS \" + Bokeh.version + \" successfully loaded.\";\n",
       "      } else if (Date.now() < window._bokeh_timeout) {\n",
       "        setTimeout(display_loaded, 100)\n",
       "      }\n",
       "    }\n",
       "  \n",
       "    function run_callbacks() {\n",
       "      try {\n",
       "        window._bokeh_onload_callbacks.forEach(function(callback) { callback() });\n",
       "      }\n",
       "      finally {\n",
       "        delete window._bokeh_onload_callbacks\n",
       "      }\n",
       "      console.info(\"Bokeh: all callbacks have finished\");\n",
       "    }\n",
       "  \n",
       "    function load_libs(js_urls, callback) {\n",
       "      window._bokeh_onload_callbacks.push(callback);\n",
       "      if (window._bokeh_is_loading > 0) {\n",
       "        console.log(\"Bokeh: BokehJS is being loaded, scheduling callback at\", now());\n",
       "        return null;\n",
       "      }\n",
       "      if (js_urls == null || js_urls.length === 0) {\n",
       "        run_callbacks();\n",
       "        return null;\n",
       "      }\n",
       "      console.log(\"Bokeh: BokehJS not loaded, scheduling load and callback at\", now());\n",
       "      window._bokeh_is_loading = js_urls.length;\n",
       "      for (var i = 0; i < js_urls.length; i++) {\n",
       "        var url = js_urls[i];\n",
       "        var s = document.createElement('script');\n",
       "        s.src = url;\n",
       "        s.async = false;\n",
       "        s.onreadystatechange = s.onload = function() {\n",
       "          window._bokeh_is_loading--;\n",
       "          if (window._bokeh_is_loading === 0) {\n",
       "            console.log(\"Bokeh: all BokehJS libraries loaded\");\n",
       "            run_callbacks()\n",
       "          }\n",
       "        };\n",
       "        s.onerror = function() {\n",
       "          console.warn(\"failed to load library \" + url);\n",
       "        };\n",
       "        console.log(\"Bokeh: injecting script tag for BokehJS library: \", url);\n",
       "        document.getElementsByTagName(\"head\")[0].appendChild(s);\n",
       "      }\n",
       "    };var element = document.getElementById(\"3ac37e2e-e9b9-42a4-b43f-a10d9b63e162\");\n",
       "    if (element == null) {\n",
       "      console.log(\"Bokeh: ERROR: autoload.js configured with elementid '3ac37e2e-e9b9-42a4-b43f-a10d9b63e162' but no matching script tag was found. \")\n",
       "      return false;\n",
       "    }\n",
       "  \n",
       "    var js_urls = [];\n",
       "  \n",
       "    var inline_js = [\n",
       "      function(Bokeh) {\n",
       "        (function() {\n",
       "          var fn = function() {\n",
       "            var docs_json = {\"79033f34-3336-4b4f-8aba-3601a5790979\":{\"roots\":{\"references\":[{\"attributes\":{\"label\":{\"value\":\"BCI\"},\"renderers\":[{\"id\":\"acbfc605-04cd-4d41-abc3-02b0a31d404d\",\"type\":\"GlyphRenderer\"}]},\"id\":\"bcb392bb-5dd4-42f0-9a37-7255043a1dff\",\"type\":\"LegendItem\"},{\"attributes\":{\"label\":{\"value\":\"Football\"},\"renderers\":[{\"id\":\"bbb281bd-9806-48ae-a681-f6635b8c351c\",\"type\":\"GlyphRenderer\"}]},\"id\":\"b51ee865-2dfd-4eed-9326-d8b788ac8e41\",\"type\":\"LegendItem\"},{\"attributes\":{\"dimension\":1,\"plot\":{\"id\":\"8a04aeb3-74cc-4974-85f1-6776c243a4e0\",\"subtype\":\"Chart\",\"type\":\"Plot\"},\"ticker\":{\"id\":\"4329a2ff-7ae0-4b9b-a568-867a79e2582d\",\"type\":\"BasicTicker\"}},\"id\":\"0f420ae9-968f-4e02-8996-bd9cf67af32e\",\"type\":\"Grid\"},{\"attributes\":{\"axis_label\":\"Perf. Difference(%)\",\"formatter\":{\"id\":\"3323b239-da74-4562-b919-8772820d3b7c\",\"type\":\"BasicTickFormatter\"},\"plot\":{\"id\":\"8a04aeb3-74cc-4974-85f1-6776c243a4e0\",\"subtype\":\"Chart\",\"type\":\"Plot\"},\"ticker\":{\"id\":\"4329a2ff-7ae0-4b9b-a568-867a79e2582d\",\"type\":\"BasicTicker\"}},\"id\":\"0b9c4ca0-35d7-470a-916b-b4fdfa29dc82\",\"type\":\"LinearAxis\"},{\"attributes\":{\"label\":{\"value\":\"Fraud\"},\"renderers\":[{\"id\":\"b03248ba-1995-4359-9a32-85860b6f8347\",\"type\":\"GlyphRenderer\"}]},\"id\":\"7afeb3c2-f091-4192-a7c4-61eb8343348f\",\"type\":\"LegendItem\"},{\"attributes\":{\"callback\":null,\"column_names\":[\"x\",\"y\",\"width\",\"height\",\"color\",\"fill_alpha\",\"line_color\",\"line_alpha\",\"label\"],\"data\":{\"chart_index\":[{\"label\":\"Airline_GPU\"}],\"color\":[\"#5975a4\"],\"fill_alpha\":[0.8],\"height\":[0.9304488366268904],\"label\":[\"Airline_GPU\"],\"line_alpha\":[1.0],\"line_color\":[\"white\"],\"width\":[0.7],\"x\":[\"Airline_GPU\"],\"y\":[0.4652244183134452]}},\"id\":\"81a1f245-1a45-4184-a993-3daca840983e\",\"type\":\"ColumnDataSource\"},{\"attributes\":{\"callback\":null,\"column_names\":[\"x\",\"y\",\"width\",\"height\",\"color\",\"fill_alpha\",\"line_color\",\"line_alpha\",\"label\"],\"data\":{\"chart_index\":[{\"label\":\"Airline\"}],\"color\":[\"#5975a4\"],\"fill_alpha\":[0.8],\"height\":[-0.02599412423365921],\"label\":[\"Airline\"],\"line_alpha\":[1.0],\"line_color\":[\"white\"],\"width\":[0.7],\"x\":[\"Airline\"],\"y\":[-0.012997062116829605]}},\"id\":\"fad4e27b-8390-433d-a164-b9b4484398fb\",\"type\":\"ColumnDataSource\"},{\"attributes\":{},\"id\":\"3323b239-da74-4562-b919-8772820d3b7c\",\"type\":\"BasicTickFormatter\"},{\"attributes\":{\"fill_alpha\":{\"field\":\"fill_alpha\"},\"fill_color\":{\"field\":\"color\"},\"height\":{\"field\":\"height\",\"units\":\"data\"},\"line_color\":{\"field\":\"line_color\"},\"width\":{\"field\":\"width\",\"units\":\"data\"},\"x\":{\"field\":\"x\"},\"y\":{\"field\":\"y\"}},\"id\":\"d72c19df-ff20-468e-9d23-5db93e2deafd\",\"type\":\"Rect\"},{\"attributes\":{},\"id\":\"f92cc4a4-4819-430c-ad61-49d5a34196f3\",\"type\":\"CategoricalTicker\"},{\"attributes\":{},\"id\":\"4329a2ff-7ae0-4b9b-a568-867a79e2582d\",\"type\":\"BasicTicker\"},{\"attributes\":{},\"id\":\"a72424c1-108f-4d18-bc7e-0b2ef3c4edf2\",\"type\":\"CategoricalScale\"},{\"attributes\":{\"callback\":null,\"column_names\":[\"x\",\"y\",\"width\",\"height\",\"color\",\"fill_alpha\",\"line_color\",\"line_alpha\",\"label\"],\"data\":{\"chart_index\":[{\"label\":\"Fraud\"}],\"color\":[\"#5975a4\"],\"fill_alpha\":[0.8],\"height\":[-1.0766243286819193],\"label\":[\"Fraud\"],\"line_alpha\":[1.0],\"line_color\":[\"white\"],\"width\":[0.7],\"x\":[\"Fraud\"],\"y\":[-0.5383121643409596]}},\"id\":\"f4497857-0b02-434f-983c-f1d0f4ead92c\",\"type\":\"ColumnDataSource\"},{\"attributes\":{},\"id\":\"00817a12-b980-44f4-ac5e-e8318d9d0b4f\",\"type\":\"ToolEvents\"},{\"attributes\":{\"axis_label\":\"\",\"formatter\":{\"id\":\"0ce3c0fc-19ff-453d-b71d-ebd1e2b75866\",\"type\":\"CategoricalTickFormatter\"},\"major_label_orientation\":0.7853981633974483,\"plot\":{\"id\":\"8a04aeb3-74cc-4974-85f1-6776c243a4e0\",\"subtype\":\"Chart\",\"type\":\"Plot\"},\"ticker\":{\"id\":\"f92cc4a4-4819-430c-ad61-49d5a34196f3\",\"type\":\"CategoricalTicker\"}},\"id\":\"97f0b26d-5b25-402f-b9f1-77c5896aae60\",\"type\":\"CategoricalAxis\"},{\"attributes\":{\"data_source\":{\"id\":\"f4497857-0b02-434f-983c-f1d0f4ead92c\",\"type\":\"ColumnDataSource\"},\"glyph\":{\"id\":\"e365d2ce-394f-4031-821b-5fa1a30d3329\",\"type\":\"Rect\"},\"hover_glyph\":null,\"muted_glyph\":null},\"id\":\"b03248ba-1995-4359-9a32-85860b6f8347\",\"type\":\"GlyphRenderer\"},{\"attributes\":{\"below\":[{\"id\":\"97f0b26d-5b25-402f-b9f1-77c5896aae60\",\"type\":\"CategoricalAxis\"}],\"css_classes\":null,\"left\":[{\"id\":\"0b9c4ca0-35d7-470a-916b-b4fdfa29dc82\",\"type\":\"LinearAxis\"}],\"plot_height\":400,\"renderers\":[{\"id\":\"360f94d4-62d9-4e23-b592-dd9e08e0b238\",\"type\":\"BoxAnnotation\"},{\"id\":\"31311f57-4847-46e9-b918-ff4e8d6be0e7\",\"type\":\"GlyphRenderer\"},{\"id\":\"22d3256a-280f-4d68-9f8d-2d87838840ad\",\"type\":\"GlyphRenderer\"},{\"id\":\"cce14bde-2c4c-4856-9c75-854af0116199\",\"type\":\"GlyphRenderer\"},{\"id\":\"acbfc605-04cd-4d41-abc3-02b0a31d404d\",\"type\":\"GlyphRenderer\"},{\"id\":\"bbb281bd-9806-48ae-a681-f6635b8c351c\",\"type\":\"GlyphRenderer\"},{\"id\":\"b03248ba-1995-4359-9a32-85860b6f8347\",\"type\":\"GlyphRenderer\"},{\"id\":\"bbc29950-b958-4b8f-ba13-d6778927c9d0\",\"type\":\"GlyphRenderer\"},{\"id\":\"3ab5d45f-2961-41c0-b7d0-6ec96ef54bad\",\"type\":\"Legend\"},{\"id\":\"97f0b26d-5b25-402f-b9f1-77c5896aae60\",\"type\":\"CategoricalAxis\"},{\"id\":\"0b9c4ca0-35d7-470a-916b-b4fdfa29dc82\",\"type\":\"LinearAxis\"},{\"id\":\"0f420ae9-968f-4e02-8996-bd9cf67af32e\",\"type\":\"Grid\"}],\"title\":{\"id\":\"dfb3af8f-029e-4af8-8d12-fdee951f56bf\",\"type\":\"Title\"},\"tool_events\":{\"id\":\"00817a12-b980-44f4-ac5e-e8318d9d0b4f\",\"type\":\"ToolEvents\"},\"toolbar\":{\"id\":\"a81ac49b-0cc3-4718-b4cf-301eedc5292b\",\"type\":\"Toolbar\"},\"toolbar_location\":\"above\",\"x_range\":{\"id\":\"34574364-f73b-44db-967e-787e9d307735\",\"type\":\"FactorRange\"},\"x_scale\":{\"id\":\"a72424c1-108f-4d18-bc7e-0b2ef3c4edf2\",\"type\":\"CategoricalScale\"},\"y_range\":{\"id\":\"54b72e28-7593-4ed1-84bc-fd03ef8ce579\",\"type\":\"Range1d\"},\"y_scale\":{\"id\":\"e26d558f-ded2-49f2-aa00-61b89f80f862\",\"type\":\"LinearScale\"}},\"id\":\"8a04aeb3-74cc-4974-85f1-6776c243a4e0\",\"subtype\":\"Chart\",\"type\":\"Plot\"},{\"attributes\":{\"callback\":null,\"column_names\":[\"x\",\"y\",\"width\",\"height\",\"color\",\"fill_alpha\",\"line_color\",\"line_alpha\",\"label\"],\"data\":{\"chart_index\":[{\"label\":\"HIGGS_GPU\"}],\"color\":[\"#5975a4\"],\"fill_alpha\":[0.8],\"height\":[-0.11556279115567171],\"label\":[\"HIGGS_GPU\"],\"line_alpha\":[1.0],\"line_color\":[\"white\"],\"width\":[0.7],\"x\":[\"HIGGS_GPU\"],\"y\":[-0.057781395577835855]}},\"id\":\"b018e064-080a-4d85-89a9-39f3b448bb4b\",\"type\":\"ColumnDataSource\"},{\"attributes\":{\"active_drag\":\"auto\",\"active_inspect\":\"auto\",\"active_scroll\":\"auto\",\"active_tap\":\"auto\",\"tools\":[{\"id\":\"d98e027b-e21f-4a21-bfe4-354a185521b2\",\"type\":\"PanTool\"},{\"id\":\"458da7ce-579d-4364-a92c-423a6c301692\",\"type\":\"WheelZoomTool\"},{\"id\":\"7362a536-5433-4115-8476-5b89df290c35\",\"type\":\"BoxZoomTool\"},{\"id\":\"4d72f4f6-ecf5-46fe-b0a7-9fad2bd3acbd\",\"type\":\"SaveTool\"},{\"id\":\"ffc2a397-b1f1-44bf-8784-7dfc0e39c35d\",\"type\":\"ResetTool\"},{\"id\":\"54c7d621-d8e7-4c16-add9-93927da8f82e\",\"type\":\"HelpTool\"}]},\"id\":\"a81ac49b-0cc3-4718-b4cf-301eedc5292b\",\"type\":\"Toolbar\"},{\"attributes\":{\"data_source\":{\"id\":\"fad4e27b-8390-433d-a164-b9b4484398fb\",\"type\":\"ColumnDataSource\"},\"glyph\":{\"id\":\"5dff4ec2-4c6e-4057-9ed6-0fddd48df59d\",\"type\":\"Rect\"},\"hover_glyph\":null,\"muted_glyph\":null},\"id\":\"31311f57-4847-46e9-b918-ff4e8d6be0e7\",\"type\":\"GlyphRenderer\"},{\"attributes\":{},\"id\":\"0ce3c0fc-19ff-453d-b71d-ebd1e2b75866\",\"type\":\"CategoricalTickFormatter\"},{\"attributes\":{},\"id\":\"e26d558f-ded2-49f2-aa00-61b89f80f862\",\"type\":\"LinearScale\"},{\"attributes\":{\"fill_alpha\":{\"field\":\"fill_alpha\"},\"fill_color\":{\"field\":\"color\"},\"height\":{\"field\":\"height\",\"units\":\"data\"},\"line_color\":{\"field\":\"line_color\"},\"width\":{\"field\":\"width\",\"units\":\"data\"},\"x\":{\"field\":\"x\"},\"y\":{\"field\":\"y\"}},\"id\":\"d81e4a46-8c35-4f9c-957e-4eded413cb42\",\"type\":\"Rect\"},{\"attributes\":{\"data_source\":{\"id\":\"b018e064-080a-4d85-89a9-39f3b448bb4b\",\"type\":\"ColumnDataSource\"},\"glyph\":{\"id\":\"9d6946e8-9a72-433f-baa3-c8a1a991681a\",\"type\":\"Rect\"},\"hover_glyph\":null,\"muted_glyph\":null},\"id\":\"bbc29950-b958-4b8f-ba13-d6778927c9d0\",\"type\":\"GlyphRenderer\"},{\"attributes\":{\"plot\":null,\"text\":null},\"id\":\"dfb3af8f-029e-4af8-8d12-fdee951f56bf\",\"type\":\"Title\"},{\"attributes\":{\"fill_alpha\":{\"field\":\"fill_alpha\"},\"fill_color\":{\"field\":\"color\"},\"height\":{\"field\":\"height\",\"units\":\"data\"},\"line_color\":{\"field\":\"line_color\"},\"width\":{\"field\":\"width\",\"units\":\"data\"},\"x\":{\"field\":\"x\"},\"y\":{\"field\":\"y\"}},\"id\":\"5dff4ec2-4c6e-4057-9ed6-0fddd48df59d\",\"type\":\"Rect\"},{\"attributes\":{\"items\":[{\"id\":\"ef090780-de8d-49c3-8b0c-9ecfeae850f9\",\"type\":\"LegendItem\"},{\"id\":\"08372783-11ee-4cfb-a73b-8a5f09f5c5a5\",\"type\":\"LegendItem\"},{\"id\":\"556df1bb-5ff1-4709-8c26-53eeb49745b7\",\"type\":\"LegendItem\"},{\"id\":\"bcb392bb-5dd4-42f0-9a37-7255043a1dff\",\"type\":\"LegendItem\"},{\"id\":\"b51ee865-2dfd-4eed-9326-d8b788ac8e41\",\"type\":\"LegendItem\"},{\"id\":\"7afeb3c2-f091-4192-a7c4-61eb8343348f\",\"type\":\"LegendItem\"},{\"id\":\"a38f117c-b439-402a-a4ae-9f2b8771dab3\",\"type\":\"LegendItem\"}],\"location\":\"top_left\",\"plot\":{\"id\":\"8a04aeb3-74cc-4974-85f1-6776c243a4e0\",\"subtype\":\"Chart\",\"type\":\"Plot\"},\"visible\":false},\"id\":\"3ab5d45f-2961-41c0-b7d0-6ec96ef54bad\",\"type\":\"Legend\"},{\"attributes\":{\"callback\":null,\"column_names\":[\"x\",\"y\",\"width\",\"height\",\"color\",\"fill_alpha\",\"line_color\",\"line_alpha\",\"label\"],\"data\":{\"chart_index\":[{\"label\":\"Amazon\"}],\"color\":[\"#5975a4\"],\"fill_alpha\":[0.8],\"height\":[15.701025825523763],\"label\":[\"Amazon\"],\"line_alpha\":[1.0],\"line_color\":[\"white\"],\"width\":[0.7],\"x\":[\"Amazon\"],\"y\":[7.850512912761881]}},\"id\":\"4001d348-13a0-4c6a-b344-b86a9273f86d\",\"type\":\"ColumnDataSource\"},{\"attributes\":{\"bottom_units\":\"screen\",\"fill_alpha\":{\"value\":0.5},\"fill_color\":{\"value\":\"lightgrey\"},\"left_units\":\"screen\",\"level\":\"overlay\",\"line_alpha\":{\"value\":1.0},\"line_color\":{\"value\":\"black\"},\"line_dash\":[4,4],\"line_width\":{\"value\":2},\"plot\":null,\"render_mode\":\"css\",\"right_units\":\"screen\",\"top_units\":\"screen\"},\"id\":\"360f94d4-62d9-4e23-b592-dd9e08e0b238\",\"type\":\"BoxAnnotation\"},{\"attributes\":{\"plot\":{\"id\":\"8a04aeb3-74cc-4974-85f1-6776c243a4e0\",\"subtype\":\"Chart\",\"type\":\"Plot\"}},\"id\":\"d98e027b-e21f-4a21-bfe4-354a185521b2\",\"type\":\"PanTool\"},{\"attributes\":{\"label\":{\"value\":\"HIGGS_GPU\"},\"renderers\":[{\"id\":\"bbc29950-b958-4b8f-ba13-d6778927c9d0\",\"type\":\"GlyphRenderer\"}]},\"id\":\"a38f117c-b439-402a-a4ae-9f2b8771dab3\",\"type\":\"LegendItem\"},{\"attributes\":{\"plot\":{\"id\":\"8a04aeb3-74cc-4974-85f1-6776c243a4e0\",\"subtype\":\"Chart\",\"type\":\"Plot\"}},\"id\":\"458da7ce-579d-4364-a92c-423a6c301692\",\"type\":\"WheelZoomTool\"},{\"attributes\":{\"overlay\":{\"id\":\"360f94d4-62d9-4e23-b592-dd9e08e0b238\",\"type\":\"BoxAnnotation\"},\"plot\":{\"id\":\"8a04aeb3-74cc-4974-85f1-6776c243a4e0\",\"subtype\":\"Chart\",\"type\":\"Plot\"}},\"id\":\"7362a536-5433-4115-8476-5b89df290c35\",\"type\":\"BoxZoomTool\"},{\"attributes\":{\"plot\":{\"id\":\"8a04aeb3-74cc-4974-85f1-6776c243a4e0\",\"subtype\":\"Chart\",\"type\":\"Plot\"}},\"id\":\"4d72f4f6-ecf5-46fe-b0a7-9fad2bd3acbd\",\"type\":\"SaveTool\"},{\"attributes\":{\"plot\":{\"id\":\"8a04aeb3-74cc-4974-85f1-6776c243a4e0\",\"subtype\":\"Chart\",\"type\":\"Plot\"}},\"id\":\"ffc2a397-b1f1-44bf-8784-7dfc0e39c35d\",\"type\":\"ResetTool\"},{\"attributes\":{\"label\":{\"value\":\"Airline_GPU\"},\"renderers\":[{\"id\":\"22d3256a-280f-4d68-9f8d-2d87838840ad\",\"type\":\"GlyphRenderer\"}]},\"id\":\"08372783-11ee-4cfb-a73b-8a5f09f5c5a5\",\"type\":\"LegendItem\"},{\"attributes\":{\"plot\":{\"id\":\"8a04aeb3-74cc-4974-85f1-6776c243a4e0\",\"subtype\":\"Chart\",\"type\":\"Plot\"}},\"id\":\"54c7d621-d8e7-4c16-add9-93927da8f82e\",\"type\":\"HelpTool\"},{\"attributes\":{\"data_source\":{\"id\":\"956ef872-f097-4bc4-a9e2-6b144bb705c1\",\"type\":\"ColumnDataSource\"},\"glyph\":{\"id\":\"d81e4a46-8c35-4f9c-957e-4eded413cb42\",\"type\":\"Rect\"},\"hover_glyph\":null,\"muted_glyph\":null},\"id\":\"acbfc605-04cd-4d41-abc3-02b0a31d404d\",\"type\":\"GlyphRenderer\"},{\"attributes\":{\"data_source\":{\"id\":\"81a1f245-1a45-4184-a993-3daca840983e\",\"type\":\"ColumnDataSource\"},\"glyph\":{\"id\":\"cf0f1dbc-0769-44b2-b3f6-19ddfc5058ab\",\"type\":\"Rect\"},\"hover_glyph\":null,\"muted_glyph\":null},\"id\":\"22d3256a-280f-4d68-9f8d-2d87838840ad\",\"type\":\"GlyphRenderer\"},{\"attributes\":{\"fill_alpha\":{\"field\":\"fill_alpha\"},\"fill_color\":{\"field\":\"color\"},\"height\":{\"field\":\"height\",\"units\":\"data\"},\"line_color\":{\"field\":\"line_color\"},\"width\":{\"field\":\"width\",\"units\":\"data\"},\"x\":{\"field\":\"x\"},\"y\":{\"field\":\"y\"}},\"id\":\"cf0f1dbc-0769-44b2-b3f6-19ddfc5058ab\",\"type\":\"Rect\"},{\"attributes\":{\"callback\":null,\"column_names\":[\"x\",\"y\",\"width\",\"height\",\"color\",\"fill_alpha\",\"line_color\",\"line_alpha\",\"label\"],\"data\":{\"chart_index\":[{\"label\":\"BCI\"}],\"color\":[\"#5975a4\"],\"fill_alpha\":[0.8],\"height\":[6.250870779377596],\"label\":[\"BCI\"],\"line_alpha\":[1.0],\"line_color\":[\"white\"],\"width\":[0.7],\"x\":[\"BCI\"],\"y\":[3.125435389688798]}},\"id\":\"956ef872-f097-4bc4-a9e2-6b144bb705c1\",\"type\":\"ColumnDataSource\"},{\"attributes\":{\"fill_alpha\":{\"field\":\"fill_alpha\"},\"fill_color\":{\"field\":\"color\"},\"height\":{\"field\":\"height\",\"units\":\"data\"},\"line_color\":{\"field\":\"line_color\"},\"width\":{\"field\":\"width\",\"units\":\"data\"},\"x\":{\"field\":\"x\"},\"y\":{\"field\":\"y\"}},\"id\":\"339ffdb9-8e36-47e2-8734-3c9382581f24\",\"type\":\"Rect\"},{\"attributes\":{\"data_source\":{\"id\":\"4001d348-13a0-4c6a-b344-b86a9273f86d\",\"type\":\"ColumnDataSource\"},\"glyph\":{\"id\":\"d72c19df-ff20-468e-9d23-5db93e2deafd\",\"type\":\"Rect\"},\"hover_glyph\":null,\"muted_glyph\":null},\"id\":\"cce14bde-2c4c-4856-9c75-854af0116199\",\"type\":\"GlyphRenderer\"},{\"attributes\":{\"fill_alpha\":{\"field\":\"fill_alpha\"},\"fill_color\":{\"field\":\"color\"},\"height\":{\"field\":\"height\",\"units\":\"data\"},\"line_color\":{\"field\":\"line_color\"},\"width\":{\"field\":\"width\",\"units\":\"data\"},\"x\":{\"field\":\"x\"},\"y\":{\"field\":\"y\"}},\"id\":\"9d6946e8-9a72-433f-baa3-c8a1a991681a\",\"type\":\"Rect\"},{\"attributes\":{\"callback\":null,\"end\":16.432245900365857,\"start\":-1.8078444035240113},\"id\":\"54b72e28-7593-4ed1-84bc-fd03ef8ce579\",\"type\":\"Range1d\"},{\"attributes\":{\"data_source\":{\"id\":\"edc134fe-661a-478a-98dd-3e246b546d0a\",\"type\":\"ColumnDataSource\"},\"glyph\":{\"id\":\"339ffdb9-8e36-47e2-8734-3c9382581f24\",\"type\":\"Rect\"},\"hover_glyph\":null,\"muted_glyph\":null},\"id\":\"bbb281bd-9806-48ae-a681-f6635b8c351c\",\"type\":\"GlyphRenderer\"},{\"attributes\":{\"callback\":null,\"column_names\":[\"x\",\"y\",\"width\",\"height\",\"color\",\"fill_alpha\",\"line_color\",\"line_alpha\",\"label\"],\"data\":{\"chart_index\":[{\"label\":\"Football\"}],\"color\":[\"#5975a4\"],\"fill_alpha\":[0.8],\"height\":[-0.5899161830473475],\"label\":[\"Football\"],\"line_alpha\":[1.0],\"line_color\":[\"white\"],\"width\":[0.7],\"x\":[\"Football\"],\"y\":[-0.29495809152367375]}},\"id\":\"edc134fe-661a-478a-98dd-3e246b546d0a\",\"type\":\"ColumnDataSource\"},{\"attributes\":{\"callback\":null,\"factors\":[\"Airline\",\"Airline_GPU\",\"Amazon\",\"BCI\",\"Football\",\"Fraud\",\"HIGGS_GPU\"]},\"id\":\"34574364-f73b-44db-967e-787e9d307735\",\"type\":\"FactorRange\"},{\"attributes\":{\"label\":{\"value\":\"Airline\"},\"renderers\":[{\"id\":\"31311f57-4847-46e9-b918-ff4e8d6be0e7\",\"type\":\"GlyphRenderer\"}]},\"id\":\"ef090780-de8d-49c3-8b0c-9ecfeae850f9\",\"type\":\"LegendItem\"},{\"attributes\":{\"fill_alpha\":{\"field\":\"fill_alpha\"},\"fill_color\":{\"field\":\"color\"},\"height\":{\"field\":\"height\",\"units\":\"data\"},\"line_color\":{\"field\":\"line_color\"},\"width\":{\"field\":\"width\",\"units\":\"data\"},\"x\":{\"field\":\"x\"},\"y\":{\"field\":\"y\"}},\"id\":\"e365d2ce-394f-4031-821b-5fa1a30d3329\",\"type\":\"Rect\"},{\"attributes\":{\"label\":{\"value\":\"Amazon\"},\"renderers\":[{\"id\":\"cce14bde-2c4c-4856-9c75-854af0116199\",\"type\":\"GlyphRenderer\"}]},\"id\":\"556df1bb-5ff1-4709-8c26-53eeb49745b7\",\"type\":\"LegendItem\"}],\"root_ids\":[\"8a04aeb3-74cc-4974-85f1-6776c243a4e0\"]},\"title\":\"Bokeh Application\",\"version\":\"0.12.6\"}};\n",
       "            var render_items = [{\"docid\":\"79033f34-3336-4b4f-8aba-3601a5790979\",\"elementid\":\"3ac37e2e-e9b9-42a4-b43f-a10d9b63e162\",\"modelid\":\"8a04aeb3-74cc-4974-85f1-6776c243a4e0\"}];\n",
       "            \n",
       "            Bokeh.embed.embed_items(docs_json, render_items);\n",
       "          };\n",
       "          if (document.readyState != \"loading\") fn();\n",
       "          else document.addEventListener(\"DOMContentLoaded\", fn);\n",
       "        })();\n",
       "      },\n",
       "      function(Bokeh) {\n",
       "      }\n",
       "    ];\n",
       "  \n",
       "    function run_inline_js() {\n",
       "      \n",
       "      if ((window.Bokeh !== undefined) || (force === true)) {\n",
       "        for (var i = 0; i < inline_js.length; i++) {\n",
       "          inline_js[i](window.Bokeh);\n",
       "        }if (force === true) {\n",
       "          display_loaded();\n",
       "        }} else if (Date.now() < window._bokeh_timeout) {\n",
       "        setTimeout(run_inline_js, 100);\n",
       "      } else if (!window._bokeh_failed_load) {\n",
       "        console.log(\"Bokeh: BokehJS failed to load within specified timeout.\");\n",
       "        window._bokeh_failed_load = true;\n",
       "      } else if (force !== true) {\n",
       "        var cell = $(document.getElementById(\"3ac37e2e-e9b9-42a4-b43f-a10d9b63e162\")).parents('.cell').data().cell;\n",
       "        cell.output_area.append_execute_result(NB_LOAD_WARNING)\n",
       "      }\n",
       "  \n",
       "    }\n",
       "  \n",
       "    if (window._bokeh_is_loading === 0) {\n",
       "      console.log(\"Bokeh: BokehJS loaded, going straight to plotting\");\n",
       "      run_inline_js();\n",
       "    } else {\n",
       "      load_libs(js_urls, function() {\n",
       "        console.log(\"Bokeh: BokehJS plotting callback run at\", now());\n",
       "        run_inline_js();\n",
       "      });\n",
       "    }\n",
       "  }(this));\n",
       "</script>"
      ]
     },
     "metadata": {},
     "output_type": "display_data"
    }
   ],
   "source": [
    "bar = Bar(data, values='Perf. Difference(%)', agg='mean', label=['label'], \n",
    "          plot_width=600, plot_height=400, bar_width=0.7, color='#5975a4')\n",
    "bar.axis[0].axis_label=''\n",
    "bar.axis[1].axis_label='Perf. Difference(%)'\n",
    "bar.toolbar_location='above'\n",
    "bar.legend[0].visible=False\n",
    "show(bar)"
   ]
  },
  {
   "cell_type": "code",
   "execution_count": 25,
   "metadata": {
    "collapsed": false,
    "deletable": true,
    "editable": true
   },
   "outputs": [
    {
     "name": "stderr",
     "output_type": "stream",
     "text": [
      "WARNING:bokeh.io:The webdriver raised a TimeoutException while waiting for                      a 'bokeh:idle' event to signify that the layout has rendered.                      Something may have gone wrong.\n"
     ]
    },
    {
     "data": {
      "image/svg+xml": [
       "<svg height=\"400\" style=\"width: 600px; height: 400px;\" version=\"1.1\" width=\"600\" xmlns=\"http://www.w3.org/2000/svg\" xmlns:xlink=\"http://www.w3.org/1999/xlink\"><defs/><g><g/><g transform=\"scale(1,1) translate(0.5,0.5)\"><rect fill=\"#FFFFFF\" height=\"400\" stroke=\"none\" width=\"600\" x=\"0\" y=\"0\"/><rect fill=\"#ffffff\" height=\"400\" stroke=\"none\" width=\"600\" x=\"0\" y=\"0\"/><rect fill=\"#FFFFFF\" height=\"303.525042336355\" stroke=\"none\" width=\"549.966875\" x=\"45.03312500000001\" y=\"29\"/><rect fill=\"#ffffff\" height=\"303.525042336355\" stroke=\"none\" width=\"549.966875\" x=\"45.03312500000001\" y=\"29\"/><g><rect fill=\"none\" height=\"303.525042336355\" stroke=\"#e5e5e5\" stroke-miterlimit=\"10\" width=\"549.966875\" x=\"45.03312500000001\" y=\"29\"/></g><g><g><path d=\" M 45 302 L 595 302\" fill=\"none\" paint-order=\"fill stroke markers\" stroke=\"#e5e5e5\" stroke-miterlimit=\"10\"/><path d=\" M 45 219 L 595 219\" fill=\"none\" paint-order=\"fill stroke markers\" stroke=\"#e5e5e5\" stroke-miterlimit=\"10\"/><path d=\" M 45 136 L 595 136\" fill=\"none\" paint-order=\"fill stroke markers\" stroke=\"#e5e5e5\" stroke-miterlimit=\"10\"/><path d=\" M 45 53 L 595 53\" fill=\"none\" paint-order=\"fill stroke markers\" stroke=\"#e5e5e5\" stroke-miterlimit=\"10\"/></g><g><path fill=\"none\" stroke=\"none\"/><rect fill=\"#5975a4\" fill-opacity=\"0.8\" height=\"0.4325563923790128\" stroke=\"none\" width=\"54.9966874999991\" x=\"56.818129464285725\" y=\"302.44152630243786\"/><path d=\" M 56.818129464285725 302.44152630243786 L 111.81481696428483 302.44152630243786 L 111.81481696428483 302.8740826948169 L 56.818129464285725 302.8740826948169 L 56.818129464285725 302.44152630243786 Z\" fill=\"none\" paint-order=\"fill stroke markers\" stroke=\"white\" stroke-miterlimit=\"10\"/><path d=\"\" fill=\"none\" paint-order=\"fill stroke markers\" stroke=\"white\" stroke-miterlimit=\"10\"/></g><g><path fill=\"none\" stroke=\"none\"/><rect fill=\"#5975a4\" fill-opacity=\"0.8\" height=\"15.483175676425333\" stroke=\"none\" width=\"54.9966874999991\" x=\"135.38482589285712\" y=\"286.95835062601253\"/><path d=\" M 135.38482589285712 286.95835062601253 L 190.38151339285622 286.95835062601253 L 190.38151339285622 302.44152630243786 L 135.38482589285712 302.44152630243786 L 135.38482589285712 286.95835062601253 Z\" fill=\"none\" paint-order=\"fill stroke markers\" stroke=\"white\" stroke-miterlimit=\"10\"/><path d=\"\" fill=\"none\" paint-order=\"fill stroke markers\" stroke=\"white\" stroke-miterlimit=\"10\"/></g><g><path fill=\"none\" stroke=\"none\"/><rect fill=\"#5975a4\" fill-opacity=\"0.8\" height=\"261.27362578901176\" stroke=\"none\" width=\"54.9966874999991\" x=\"213.95152232142857\" y=\"41.167900513426105\"/><path d=\" M 213.95152232142857 41.167900513426105 L 268.94820982142767 41.167900513426105 L 268.94820982142767 302.44152630243786 L 213.95152232142857 302.44152630243786 L 213.95152232142857 41.167900513426105 Z\" fill=\"none\" paint-order=\"fill stroke markers\" stroke=\"white\" stroke-miterlimit=\"10\"/><path d=\"\" fill=\"none\" paint-order=\"fill stroke markers\" stroke=\"white\" stroke-miterlimit=\"10\"/></g><g><path fill=\"none\" stroke=\"none\"/><rect fill=\"#5975a4\" fill-opacity=\"0.8\" height=\"104.01789609260068\" stroke=\"none\" width=\"54.996687500002736\" x=\"292.51821874999996\" y=\"198.42363020983717\"/><path d=\" M 292.51821874999996 198.42363020983717 L 347.5149062500027 198.42363020983717 L 347.5149062500027 302.44152630243786 L 292.51821874999996 302.44152630243786 L 292.51821874999996 198.42363020983717 Z\" fill=\"none\" paint-order=\"fill stroke markers\" stroke=\"white\" stroke-miterlimit=\"10\"/><path d=\"\" fill=\"none\" paint-order=\"fill stroke markers\" stroke=\"white\" stroke-miterlimit=\"10\"/></g><g><path fill=\"none\" stroke=\"none\"/><rect fill=\"#5975a4\" fill-opacity=\"0.8\" height=\"9.816526752401117\" stroke=\"none\" width=\"54.996687500002736\" x=\"371.0849151785714\" y=\"302.44152630243786\"/><path d=\" M 371.0849151785714 302.44152630243786 L 426.08160267857414 302.44152630243786 L 426.08160267857414 312.25805305483897 L 371.0849151785714 312.25805305483897 L 371.0849151785714 302.44152630243786 Z\" fill=\"none\" paint-order=\"fill stroke markers\" stroke=\"white\" stroke-miterlimit=\"10\"/><path d=\"\" fill=\"none\" paint-order=\"fill stroke markers\" stroke=\"white\" stroke-miterlimit=\"10\"/></g><g><path fill=\"none\" stroke=\"none\"/><rect fill=\"#5975a4\" fill-opacity=\"0.8\" height=\"17.915615520491144\" stroke=\"none\" width=\"54.996687500002736\" x=\"449.65161160714285\" y=\"302.44152630243786\"/><path d=\" M 449.65161160714285 302.44152630243786 L 504.6482991071456 302.44152630243786 L 504.6482991071456 320.357141822929 L 449.65161160714285 320.357141822929 L 449.65161160714285 302.44152630243786 Z\" fill=\"none\" paint-order=\"fill stroke markers\" stroke=\"white\" stroke-miterlimit=\"10\"/><path d=\"\" fill=\"none\" paint-order=\"fill stroke markers\" stroke=\"white\" stroke-miterlimit=\"10\"/></g><g><path fill=\"none\" stroke=\"none\"/><rect fill=\"#5975a4\" fill-opacity=\"0.8\" height=\"1.9230278191414527\" stroke=\"none\" width=\"54.99668750001001\" x=\"528.2183080357142\" y=\"302.44152630243786\"/><path d=\" M 528.2183080357142 302.44152630243786 L 583.2149955357243 302.44152630243786 L 583.2149955357243 304.3645541215793 L 528.2183080357142 304.3645541215793 L 528.2183080357142 302.44152630243786 Z\" fill=\"none\" paint-order=\"fill stroke markers\" stroke=\"white\" stroke-miterlimit=\"10\"/><path d=\"\" fill=\"none\" paint-order=\"fill stroke markers\" stroke=\"white\" stroke-miterlimit=\"10\"/></g></g><g/><g><g fill=\"#444444\"><path d=\" M 45 333 L 595 333\" fill=\"none\" paint-order=\"fill stroke markers\" stroke=\"black\" stroke-miterlimit=\"10\"/><path d=\" M 84 339 L 84 331\" fill=\"none\" paint-order=\"fill stroke markers\" stroke=\"black\" stroke-miterlimit=\"10\"/><path d=\" M 163 339 L 163 331\" fill=\"none\" paint-order=\"fill stroke markers\" stroke=\"black\" stroke-miterlimit=\"10\"/><path d=\" M 241 339 L 241 331\" fill=\"none\" paint-order=\"fill stroke markers\" stroke=\"black\" stroke-miterlimit=\"10\"/><path d=\" M 320 339 L 320 331\" fill=\"none\" paint-order=\"fill stroke markers\" stroke=\"black\" stroke-miterlimit=\"10\"/><path d=\" M 399 339 L 399 331\" fill=\"none\" paint-order=\"fill stroke markers\" stroke=\"black\" stroke-miterlimit=\"10\"/><path d=\" M 477 339 L 477 331\" fill=\"none\" paint-order=\"fill stroke markers\" stroke=\"black\" stroke-miterlimit=\"10\"/><path d=\" M 556 339 L 556 331\" fill=\"\" paint-order=\"fill stroke markers\" stroke=\"black\" stroke-miterlimit=\"10\"/><g transform=\"translate(84.31647321428572,343.525042336355) rotate(-45,0,0)\"><text dominant-baseline=\"central\" fill=\"\" font-family=\"helvetica\" font-size=\"8pt\" font-style=\"normal\" font-weight=\"normal\" stroke=\"none\" text-anchor=\"end\" text-decoration=\"normal\" x=\"0\" y=\"0\">Airline</text><g transform=\"rotate(45,0,0) translate(-84.31647321428572,-343.525042336355) translate(162.88316964285713,343.525042336355) rotate(-45,0,0)\"><text dominant-baseline=\"central\" fill=\"\" font-family=\"helvetica\" font-size=\"8pt\" font-style=\"normal\" font-weight=\"normal\" stroke=\"none\" text-anchor=\"end\" text-decoration=\"normal\" x=\"0\" y=\"0\">Airline_GPU</text><g transform=\"rotate(45,0,0) translate(-162.88316964285713,-343.525042336355) translate(241.44986607142857,343.525042336355) rotate(-45,0,0)\"><text dominant-baseline=\"central\" fill=\"\" font-family=\"helvetica\" font-size=\"8pt\" font-style=\"normal\" font-weight=\"normal\" stroke=\"none\" text-anchor=\"end\" text-decoration=\"normal\" x=\"0\" y=\"0\">Amazon</text><g transform=\"rotate(45,0,0) translate(-241.44986607142857,-343.525042336355) translate(320.01656249999996,343.525042336355) rotate(-45,0,0)\"><text dominant-baseline=\"central\" fill=\"\" font-family=\"helvetica\" font-size=\"8pt\" font-style=\"normal\" font-weight=\"normal\" stroke=\"none\" text-anchor=\"end\" text-decoration=\"normal\" x=\"0\" y=\"0\">BCI</text><g transform=\"rotate(45,0,0) translate(-320.01656249999996,-343.525042336355) translate(398.58325892857135,343.525042336355) rotate(-45,0,0)\"><text dominant-baseline=\"central\" fill=\"\" font-family=\"helvetica\" font-size=\"8pt\" font-style=\"normal\" font-weight=\"normal\" stroke=\"none\" text-anchor=\"end\" text-decoration=\"normal\" x=\"0\" y=\"0\">Football</text><g transform=\"rotate(45,0,0) translate(-398.58325892857135,-343.525042336355) translate(477.1499553571428,343.525042336355) rotate(-45,0,0)\"><text dominant-baseline=\"central\" fill=\"\" font-family=\"helvetica\" font-size=\"8pt\" font-style=\"normal\" font-weight=\"normal\" stroke=\"none\" text-anchor=\"end\" text-decoration=\"normal\" x=\"0\" y=\"0\">Fraud</text><g transform=\"rotate(45,0,0) translate(-477.1499553571428,-343.525042336355) translate(555.7166517857142,343.525042336355) rotate(-45,0,0)\"><text dominant-baseline=\"central\" fill=\"\" font-family=\"helvetica\" font-size=\"8pt\" font-style=\"normal\" font-weight=\"normal\" stroke=\"none\" text-anchor=\"end\" text-decoration=\"normal\" x=\"0\" y=\"0\">HIGGS_GPU</text><g transform=\"rotate(45,0,0) translate(-555.7166517857142,-343.525042336355)\"><text dominant-baseline=\"hanging\" fill=\"\" font-family=\"helvetica\" font-size=\"10pt\" font-style=\"italic\" font-weight=\"normal\" stroke=\"none\" text-anchor=\"middle\" text-decoration=\"normal\" x=\"320.01656249999996\" y=\"404\"/></g></g></g></g></g></g></g></g></g><g><path d=\" M 45 333 L 45 29\" fill=\"none\" paint-order=\"fill stroke markers\" stroke=\"black\" stroke-miterlimit=\"10\"/><path d=\" M 39 302 L 47 302\" fill=\"none\" paint-order=\"fill stroke markers\" stroke=\"black\" stroke-miterlimit=\"10\"/><path d=\" M 39 219 L 47 219\" fill=\"none\" paint-order=\"fill stroke markers\" stroke=\"black\" stroke-miterlimit=\"10\"/><path d=\" M 39 136 L 47 136\" fill=\"none\" paint-order=\"fill stroke markers\" stroke=\"black\" stroke-miterlimit=\"10\"/><path d=\" M 39 53 L 47 53\" fill=\"none\" paint-order=\"fill stroke markers\" stroke=\"black\" stroke-miterlimit=\"10\"/><path d=\" M 41 319 L 45 319\" fill=\"none\" paint-order=\"fill stroke markers\" stroke=\"black\" stroke-miterlimit=\"10\"/><path d=\" M 41 302 L 45 302\" fill=\"none\" paint-order=\"fill stroke markers\" stroke=\"black\" stroke-miterlimit=\"10\"/><path d=\" M 41 286 L 45 286\" fill=\"none\" paint-order=\"fill stroke markers\" stroke=\"black\" stroke-miterlimit=\"10\"/><path d=\" M 41 269 L 45 269\" fill=\"none\" paint-order=\"fill stroke markers\" stroke=\"black\" stroke-miterlimit=\"10\"/><path d=\" M 41 253 L 45 253\" fill=\"none\" paint-order=\"fill stroke markers\" stroke=\"black\" stroke-miterlimit=\"10\"/><path d=\" M 41 236 L 45 236\" fill=\"none\" paint-order=\"fill stroke markers\" stroke=\"black\" stroke-miterlimit=\"10\"/><path d=\" M 41 219 L 45 219\" fill=\"none\" paint-order=\"fill stroke markers\" stroke=\"black\" stroke-miterlimit=\"10\"/><path d=\" M 41 203 L 45 203\" fill=\"none\" paint-order=\"fill stroke markers\" stroke=\"black\" stroke-miterlimit=\"10\"/><path d=\" M 41 186 L 45 186\" fill=\"none\" paint-order=\"fill stroke markers\" stroke=\"black\" stroke-miterlimit=\"10\"/><path d=\" M 41 169 L 45 169\" fill=\"none\" paint-order=\"fill stroke markers\" stroke=\"black\" stroke-miterlimit=\"10\"/><path d=\" M 41 153 L 45 153\" fill=\"none\" paint-order=\"fill stroke markers\" stroke=\"black\" stroke-miterlimit=\"10\"/><path d=\" M 41 136 L 45 136\" fill=\"none\" paint-order=\"fill stroke markers\" stroke=\"black\" stroke-miterlimit=\"10\"/><path d=\" M 41 119 L 45 119\" fill=\"none\" paint-order=\"fill stroke markers\" stroke=\"black\" stroke-miterlimit=\"10\"/><path d=\" M 41 103 L 45 103\" fill=\"none\" paint-order=\"fill stroke markers\" stroke=\"black\" stroke-miterlimit=\"10\"/><path d=\" M 41 86 L 45 86\" fill=\"none\" paint-order=\"fill stroke markers\" stroke=\"black\" stroke-miterlimit=\"10\"/><path d=\" M 41 69 L 45 69\" fill=\"none\" paint-order=\"fill stroke markers\" stroke=\"black\" stroke-miterlimit=\"10\"/><path d=\" M 41 53 L 45 53\" fill=\"none\" paint-order=\"fill stroke markers\" stroke=\"black\" stroke-miterlimit=\"10\"/><path d=\" M 41 36 L 45 36\" fill=\"none\" paint-order=\"fill stroke markers\" stroke=\"black\" stroke-miterlimit=\"10\"/><text dominant-baseline=\"central\" fill=\"#444444\" font-family=\"helvetica\" font-size=\"8pt\" font-style=\"normal\" font-weight=\"normal\" stroke=\"none\" text-anchor=\"end\" text-decoration=\"normal\" x=\"34\" y=\"302\">0</text><text dominant-baseline=\"central\" fill=\"#444444\" font-family=\"helvetica\" font-size=\"8pt\" font-style=\"normal\" font-weight=\"normal\" stroke=\"none\" text-anchor=\"end\" text-decoration=\"normal\" x=\"34\" y=\"219\">5</text><text dominant-baseline=\"central\" fill=\"#444444\" font-family=\"helvetica\" font-size=\"8pt\" font-style=\"normal\" font-weight=\"normal\" stroke=\"none\" text-anchor=\"end\" text-decoration=\"normal\" x=\"34\" y=\"136\">10</text><text dominant-baseline=\"central\" fill=\"#444444\" font-family=\"helvetica\" font-size=\"8pt\" font-style=\"normal\" font-weight=\"normal\" stroke=\"none\" text-anchor=\"end\" text-decoration=\"normal\" x=\"34\" y=\"53\">15</text><g transform=\"translate(15.592500000000012,180.7625211681775) rotate(-90,0,0)\"><text dominant-baseline=\"alphabetic\" fill=\"#444444\" font-family=\"helvetica\" font-size=\"10pt\" font-style=\"italic\" font-weight=\"normal\" stroke=\"none\" text-anchor=\"middle\" text-decoration=\"normal\" x=\"0\" y=\"0\">Perf. Difference(%)</text><g transform=\"rotate(90,0,0) translate(-15.592500000000012,-180.7625211681775)\"/></g></g></g></g></g></svg>"
      ],
      "text/plain": [
       "<IPython.core.display.SVG object>"
      ]
     },
     "metadata": {},
     "output_type": "display_data"
    }
   ],
   "source": [
    "bar.output_backend = \"svg\"\n",
    "export_svgs(bar, filename=\"xgb_vs_lgbm_performance.svg\")\n",
    "display(SVG('xgb_vs_lgbm_performance.svg'))"
   ]
  },
  {
   "cell_type": "markdown",
   "metadata": {
    "deletable": true,
    "editable": true
   },
   "source": [
    "From the table as well as the plots below we can see that overall the difference in performance is quite small. LightGBM though is 2 to over 10 times quicker than XGBoost."
   ]
  }
 ],
 "metadata": {
  "kernelspec": {
   "display_name": "Python3.5 (Strata)",
   "language": "python",
   "name": "strata"
  },
  "language_info": {
   "codemirror_mode": {
    "name": "ipython",
    "version": 3
   },
   "file_extension": ".py",
   "mimetype": "text/x-python",
   "name": "python",
   "nbconvert_exporter": "python",
   "pygments_lexer": "ipython3",
   "version": "3.5.2"
  }
 },
 "nbformat": 4,
 "nbformat_minor": 2
}
