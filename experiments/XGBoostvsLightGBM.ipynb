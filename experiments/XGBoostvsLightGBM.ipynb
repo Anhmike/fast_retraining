{
 "cells": [
  {
   "cell_type": "markdown",
   "metadata": {},
   "source": [
    "# XGBoost vs LightGBM\n",
    "\n",
    "In this notebook we collect the results from all the experiments and reports the comparative difference between XGBoost and LightGBM"
   ]
  },
  {
   "cell_type": "code",
   "execution_count": 157,
   "metadata": {
    "collapsed": false
   },
   "outputs": [],
   "source": [
    "import matplotlib.pyplot as plt\n",
    "import nbformat\n",
    "import json\n",
    "from toolz import pipe, juxt\n",
    "import pandas as pd\n",
    "import seaborn\n",
    "%matplotlib inline "
   ]
  },
  {
   "cell_type": "markdown",
   "metadata": {},
   "source": [
    "We are going to read the results from the following notebooks"
   ]
  },
  {
   "cell_type": "code",
   "execution_count": 23,
   "metadata": {
    "collapsed": false
   },
   "outputs": [],
   "source": [
    "notebooks = {\n",
    "    'BCI': '02_BCI.ipynb',\n",
    "    'Amazon': '04_PlanetKaggle.ipynb',\n",
    "    'Fraud': '05_FraudDetection.ipynb'\n",
    "}"
   ]
  },
  {
   "cell_type": "code",
   "execution_count": 35,
   "metadata": {
    "collapsed": true
   },
   "outputs": [],
   "source": [
    "def read_notebook(notebook_name):\n",
    "    with open(notebook_name) as f:\n",
    "        return nbformat.read(f, as_version=4)"
   ]
  },
  {
   "cell_type": "code",
   "execution_count": 66,
   "metadata": {
    "collapsed": false
   },
   "outputs": [],
   "source": [
    "def results_cell_from(nb):\n",
    "    for cell in nb.cells:\n",
    "        if cell['cell_type']=='code' and cell['source'].startswith('# Results'):\n",
    "            return cell"
   ]
  },
  {
   "cell_type": "code",
   "execution_count": 73,
   "metadata": {
    "collapsed": true
   },
   "outputs": [],
   "source": [
    "def extract_results_from(cell):\n",
    "    return json.loads(cell['outputs'][0]['text'])"
   ]
  },
  {
   "cell_type": "code",
   "execution_count": 74,
   "metadata": {
    "collapsed": true
   },
   "outputs": [],
   "source": [
    "def process_nb(notebook_name):\n",
    "    return pipe(notebook_name,\n",
    "                read_notebook,\n",
    "                results_cell_from,\n",
    "                extract_results_from)"
   ]
  },
  {
   "cell_type": "markdown",
   "metadata": {},
   "source": [
    "Here we collect the results from all the exeperiment notebooks. The method simply searches the notebooks for a cell that starts with # Results. It then reads that cells output in as JSON."
   ]
  },
  {
   "cell_type": "code",
   "execution_count": 75,
   "metadata": {
    "collapsed": false
   },
   "outputs": [],
   "source": [
    "results = {nb_key:process_nb(nb_name) for nb_key, nb_name in notebooks.items()}"
   ]
  },
  {
   "cell_type": "code",
   "execution_count": 76,
   "metadata": {
    "collapsed": false
   },
   "outputs": [
    {
     "data": {
      "text/plain": [
       "{'Amazon': {'lgbm': {'performance': {'Accuracy': 0.6243840116809637,\n",
       "    'F1': 0.8962781636444713,\n",
       "    'Precision': 0.9267527963914166,\n",
       "    'Recall': 0.8840336262265447},\n",
       "   'time': 698.4696359098889},\n",
       "  'xgb': {'performance': {'Accuracy': 0.6252965869684249,\n",
       "    'F1': 0.8959568265280986,\n",
       "    'Precision': 0.9265072701831234,\n",
       "    'Recall': 0.883163855065662},\n",
       "   'time': 2189.2602830529213}},\n",
       " 'BCI': {'lgbm': {'performance': {'AUC': 0.5318846153846153,\n",
       "    'Accuracy': 0.8812311809969889,\n",
       "    'F1': 0.12561576354679804,\n",
       "    'Precision': 0.6071428571428571,\n",
       "    'Recall': 0.07005494505494506},\n",
       "   'time': 5.461165557149798},\n",
       "  'xgb': {'performance': {'AUC': 0.5277435897435897,\n",
       "    'Accuracy': 0.8812311809969889,\n",
       "    'F1': 0.11027568922305765,\n",
       "    'Precision': 0.6285714285714286,\n",
       "    'Recall': 0.06043956043956044},\n",
       "   'time': 11.975342449033633}},\n",
       " 'Fraud': {'lgbm': {'performance': {'AUC': 0.8749589659417316,\n",
       "    'Accuracy': 0.9994850368081645,\n",
       "    'F1': 0.8345864661654134,\n",
       "    'Precision': 0.940677966101695,\n",
       "    'Recall': 0.75},\n",
       "   'time': 0.726549532962963},\n",
       "  'xgb': {'performance': {'AUC': 0.8749531039334075,\n",
       "    'Accuracy': 0.9994733330992591,\n",
       "    'F1': 0.8314606741573033,\n",
       "    'Precision': 0.9327731092436975,\n",
       "    'Recall': 0.75},\n",
       "   'time': 7.974235568195581}}}"
      ]
     },
     "execution_count": 76,
     "metadata": {},
     "output_type": "execute_result"
    }
   ],
   "source": [
    "results"
   ]
  },
  {
   "cell_type": "markdown",
   "metadata": {},
   "source": [
    "We wish to compare LightGBM and XGBoost both in terms of performance as well as how long they took to train."
   ]
  },
  {
   "cell_type": "code",
   "execution_count": 137,
   "metadata": {
    "collapsed": true
   },
   "outputs": [],
   "source": [
    "def average_performance_diff(dataset):\n",
    "    lgbm_series = pd.Series(dataset['lgbm']['performance'])\n",
    "    return 100*((lgbm_series-pd.Series(dataset['xgb']['performance']))/lgbm_series).mean()"
   ]
  },
  {
   "cell_type": "code",
   "execution_count": 138,
   "metadata": {
    "collapsed": false
   },
   "outputs": [],
   "source": [
    "def time_ratio(dataset):\n",
    "    return dataset['xgb']['time']/dataset['lgbm']['time']"
   ]
  },
  {
   "cell_type": "code",
   "execution_count": 141,
   "metadata": {
    "collapsed": false
   },
   "outputs": [],
   "source": [
    "metrics = juxt(average_performance_diff, time_ratio)\n",
    "res_per_dataset = {dataset_key:metrics(dataset) for dataset_key, dataset in results.items()}"
   ]
  },
  {
   "cell_type": "code",
   "execution_count": 145,
   "metadata": {
    "collapsed": false
   },
   "outputs": [],
   "source": [
    "results_df = pd.DataFrame(res_per_dataset, index=['Performance Difference(%)', 'Time Ratio']).T"
   ]
  },
  {
   "cell_type": "code",
   "execution_count": 162,
   "metadata": {
    "collapsed": false
   },
   "outputs": [
    {
     "data": {
      "text/html": [
       "<div>\n",
       "<table border=\"1\" class=\"dataframe\">\n",
       "  <thead>\n",
       "    <tr style=\"text-align: right;\">\n",
       "      <th></th>\n",
       "      <th>Performance Difference(%)</th>\n",
       "      <th>Time Ratio</th>\n",
       "    </tr>\n",
       "  </thead>\n",
       "  <tbody>\n",
       "    <tr>\n",
       "      <th>Amazon</th>\n",
       "      <td>0.003644</td>\n",
       "      <td>3.134367</td>\n",
       "    </tr>\n",
       "    <tr>\n",
       "      <th>BCI</th>\n",
       "      <td>4.637308</td>\n",
       "      <td>2.192818</td>\n",
       "    </tr>\n",
       "    <tr>\n",
       "      <th>Fraud</th>\n",
       "      <td>0.243342</td>\n",
       "      <td>10.975488</td>\n",
       "    </tr>\n",
       "  </tbody>\n",
       "</table>\n",
       "</div>"
      ],
      "text/plain": [
       "        Performance Difference(%)  Time Ratio\n",
       "Amazon                   0.003644    3.134367\n",
       "BCI                      4.637308    2.192818\n",
       "Fraud                    0.243342   10.975488"
      ]
     },
     "execution_count": 162,
     "metadata": {},
     "output_type": "execute_result"
    }
   ],
   "source": [
    "results_df"
   ]
  },
  {
   "cell_type": "code",
   "execution_count": 160,
   "metadata": {
    "collapsed": false
   },
   "outputs": [
    {
     "data": {
      "image/png": "[encoded data removed]",
      "text/plain": [
       "<matplotlib.figure.Figure at 0x7f914eb11550>"
      ]
     },
     "metadata": {},
     "output_type": "display_data"
    }
   ],
   "source": [
    "results_df[['Time Ratio']].plot(kind='bar');"
   ]
  },
  {
   "cell_type": "code",
   "execution_count": 161,
   "metadata": {
    "collapsed": false
   },
   "outputs": [
    {
     "data": {
      "image/png": "[encoded data removed]",
      "text/plain": [
       "<matplotlib.figure.Figure at 0x7f914ead89b0>"
      ]
     },
     "metadata": {},
     "output_type": "display_data"
    }
   ],
   "source": [
    "results_df[['Performance Difference(%)']].plot(kind='bar');"
   ]
  },
  {
   "cell_type": "markdown",
   "metadata": {},
   "source": [
    "From the table as well as the plots below we can see that overall the difference in performance is quite small. LightGBM though is 2 to over 10 times quicker than XGBoost."
   ]
  }
 ],
 "metadata": {
  "kernelspec": {
   "display_name": "Python 3",
   "language": "python",
   "name": "python3"
  },
  "language_info": {
   "codemirror_mode": {
    "name": "ipython",
    "version": 3
   },
   "file_extension": ".py",
   "mimetype": "text/x-python",
   "name": "python",
   "nbconvert_exporter": "python",
   "pygments_lexer": "ipython3",
   "version": "3.6.0"
  }
 },
 "nbformat": 4,
 "nbformat_minor": 2
}
