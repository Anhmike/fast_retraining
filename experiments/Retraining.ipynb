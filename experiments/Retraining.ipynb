{
 "cells": [
  {
   "cell_type": "markdown",
   "metadata": {},
   "source": [
    "# Retraining\n",
    "Here we explore the differences between LightGBM and XGBoost in a retraining setting\n",
    "\n",
    "The two datasets used are a BCI and Airline dataset. "
   ]
  },
  {
   "cell_type": "code",
   "execution_count": 1,
   "metadata": {
    "collapsed": true
   },
   "outputs": [],
   "source": [
    "import matplotlib.pyplot as plt\n",
    "import nbformat\n",
    "import json\n",
    "from toolz import pipe, juxt, curry\n",
    "import pandas as pd\n",
    "import os\n",
    "import io\n",
    "from IPython.core.display import display, HTML, SVG\n",
    "from bokeh.io import output_notebook\n",
    "%matplotlib inline "
   ]
  },
  {
   "cell_type": "code",
   "execution_count": 2,
   "metadata": {},
   "outputs": [
    {
     "data": {
      "text/html": [
       "\n",
       "    <div class=\"bk-root\">\n",
       "        <a href=\"http://bokeh.pydata.org\" target=\"_blank\" class=\"bk-logo bk-logo-small bk-logo-notebook\"></a>\n",
       "        <span id=\"9882a8bf-07ab-489f-b1f7-869ec3980b57\">Loading BokehJS ...</span>\n",
       "    </div>"
      ]
     },
     "metadata": {},
     "output_type": "display_data"
    },
    {
     "data": {
      "application/javascript": [
       "\n",
       "(function(global) {\n",
       "  function now() {\n",
       "    return new Date();\n",
       "  }\n",
       "\n",
       "  var force = true;\n",
       "\n",
       "  if (typeof (window._bokeh_onload_callbacks) === \"undefined\" || force === true) {\n",
       "    window._bokeh_onload_callbacks = [];\n",
       "    window._bokeh_is_loading = undefined;\n",
       "  }\n",
       "\n",
       "\n",
       "  \n",
       "  if (typeof (window._bokeh_timeout) === \"undefined\" || force === true) {\n",
       "    window._bokeh_timeout = Date.now() + 5000;\n",
       "    window._bokeh_failed_load = false;\n",
       "  }\n",
       "\n",
       "  var NB_LOAD_WARNING = {'data': {'text/html':\n",
       "     \"<div style='background-color: #fdd'>\\n\"+\n",
       "     \"<p>\\n\"+\n",
       "     \"BokehJS does not appear to have successfully loaded. If loading BokehJS from CDN, this \\n\"+\n",
       "     \"may be due to a slow or bad network connection. Possible fixes:\\n\"+\n",
       "     \"</p>\\n\"+\n",
       "     \"<ul>\\n\"+\n",
       "     \"<li>re-rerun `output_notebook()` to attempt to load from CDN again, or</li>\\n\"+\n",
       "     \"<li>use INLINE resources instead, as so:</li>\\n\"+\n",
       "     \"</ul>\\n\"+\n",
       "     \"<code>\\n\"+\n",
       "     \"from bokeh.resources import INLINE\\n\"+\n",
       "     \"output_notebook(resources=INLINE)\\n\"+\n",
       "     \"</code>\\n\"+\n",
       "     \"</div>\"}};\n",
       "\n",
       "  function display_loaded() {\n",
       "    if (window.Bokeh !== undefined) {\n",
       "      var el = document.getElementById(\"9882a8bf-07ab-489f-b1f7-869ec3980b57\");\n",
       "      el.textContent = \"BokehJS \" + Bokeh.version + \" successfully loaded.\";\n",
       "    } else if (Date.now() < window._bokeh_timeout) {\n",
       "      setTimeout(display_loaded, 100)\n",
       "    }\n",
       "  }\n",
       "\n",
       "  function run_callbacks() {\n",
       "    try {\n",
       "      window._bokeh_onload_callbacks.forEach(function(callback) { callback() });\n",
       "    }\n",
       "    finally {\n",
       "      delete window._bokeh_onload_callbacks\n",
       "    }\n",
       "    console.info(\"Bokeh: all callbacks have finished\");\n",
       "  }\n",
       "\n",
       "  function load_libs(js_urls, callback) {\n",
       "    window._bokeh_onload_callbacks.push(callback);\n",
       "    if (window._bokeh_is_loading > 0) {\n",
       "      console.log(\"Bokeh: BokehJS is being loaded, scheduling callback at\", now());\n",
       "      return null;\n",
       "    }\n",
       "    if (js_urls == null || js_urls.length === 0) {\n",
       "      run_callbacks();\n",
       "      return null;\n",
       "    }\n",
       "    console.log(\"Bokeh: BokehJS not loaded, scheduling load and callback at\", now());\n",
       "    window._bokeh_is_loading = js_urls.length;\n",
       "    for (var i = 0; i < js_urls.length; i++) {\n",
       "      var url = js_urls[i];\n",
       "      var s = document.createElement('script');\n",
       "      s.src = url;\n",
       "      s.async = false;\n",
       "      s.onreadystatechange = s.onload = function() {\n",
       "        window._bokeh_is_loading--;\n",
       "        if (window._bokeh_is_loading === 0) {\n",
       "          console.log(\"Bokeh: all BokehJS libraries loaded\");\n",
       "          run_callbacks()\n",
       "        }\n",
       "      };\n",
       "      s.onerror = function() {\n",
       "        console.warn(\"failed to load library \" + url);\n",
       "      };\n",
       "      console.log(\"Bokeh: injecting script tag for BokehJS library: \", url);\n",
       "      document.getElementsByTagName(\"head\")[0].appendChild(s);\n",
       "    }\n",
       "  };var element = document.getElementById(\"9882a8bf-07ab-489f-b1f7-869ec3980b57\");\n",
       "  if (element == null) {\n",
       "    console.log(\"Bokeh: ERROR: autoload.js configured with elementid '9882a8bf-07ab-489f-b1f7-869ec3980b57' but no matching script tag was found. \")\n",
       "    return false;\n",
       "  }\n",
       "\n",
       "  var js_urls = [\"https://cdn.pydata.org/bokeh/release/bokeh-0.12.6.min.js\", \"https://cdn.pydata.org/bokeh/release/bokeh-widgets-0.12.6.min.js\"];\n",
       "\n",
       "  var inline_js = [\n",
       "    function(Bokeh) {\n",
       "      Bokeh.set_log_level(\"info\");\n",
       "    },\n",
       "    \n",
       "    function(Bokeh) {\n",
       "      \n",
       "    },\n",
       "    \n",
       "    function(Bokeh) {\n",
       "      \n",
       "      document.getElementById(\"9882a8bf-07ab-489f-b1f7-869ec3980b57\").textContent = \"BokehJS is loading...\";\n",
       "    },\n",
       "    function(Bokeh) {\n",
       "      console.log(\"Bokeh: injecting CSS: https://cdn.pydata.org/bokeh/release/bokeh-0.12.6.min.css\");\n",
       "      Bokeh.embed.inject_css(\"https://cdn.pydata.org/bokeh/release/bokeh-0.12.6.min.css\");\n",
       "      console.log(\"Bokeh: injecting CSS: https://cdn.pydata.org/bokeh/release/bokeh-widgets-0.12.6.min.css\");\n",
       "      Bokeh.embed.inject_css(\"https://cdn.pydata.org/bokeh/release/bokeh-widgets-0.12.6.min.css\");\n",
       "    }\n",
       "  ];\n",
       "\n",
       "  function run_inline_js() {\n",
       "    \n",
       "    if ((window.Bokeh !== undefined) || (force === true)) {\n",
       "      for (var i = 0; i < inline_js.length; i++) {\n",
       "        inline_js[i](window.Bokeh);\n",
       "      }if (force === true) {\n",
       "        display_loaded();\n",
       "      }} else if (Date.now() < window._bokeh_timeout) {\n",
       "      setTimeout(run_inline_js, 100);\n",
       "    } else if (!window._bokeh_failed_load) {\n",
       "      console.log(\"Bokeh: BokehJS failed to load within specified timeout.\");\n",
       "      window._bokeh_failed_load = true;\n",
       "    } else if (force !== true) {\n",
       "      var cell = $(document.getElementById(\"9882a8bf-07ab-489f-b1f7-869ec3980b57\")).parents('.cell').data().cell;\n",
       "      cell.output_area.append_execute_result(NB_LOAD_WARNING)\n",
       "    }\n",
       "\n",
       "  }\n",
       "\n",
       "  if (window._bokeh_is_loading === 0) {\n",
       "    console.log(\"Bokeh: BokehJS loaded, going straight to plotting\");\n",
       "    run_inline_js();\n",
       "  } else {\n",
       "    load_libs(js_urls, function() {\n",
       "      console.log(\"Bokeh: BokehJS plotting callback run at\", now());\n",
       "      run_inline_js();\n",
       "    });\n",
       "  }\n",
       "}(this));"
      ]
     },
     "metadata": {},
     "output_type": "display_data"
    }
   ],
   "source": [
    "output_notebook()"
   ]
  },
  {
   "cell_type": "code",
   "execution_count": 3,
   "metadata": {
    "collapsed": true
   },
   "outputs": [],
   "source": [
    "airline_notebook = '01_airline.ipynb'\n",
    "bci_notebook = '02_BCI.ipynb'\n",
    "football_notebook = '03_football.ipynb'"
   ]
  },
  {
   "cell_type": "code",
   "execution_count": 4,
   "metadata": {
    "collapsed": true
   },
   "outputs": [],
   "source": [
    "def read_notebook(notebook_name):\n",
    "    with open(notebook_name) as f:\n",
    "        return nbformat.read(f, as_version=4)"
   ]
  },
  {
   "cell_type": "code",
   "execution_count": 45,
   "metadata": {
    "collapsed": true
   },
   "outputs": [],
   "source": [
    "@curry\n",
    "def read_cell(cell_key, nb):\n",
    "    \"\"\" Returns code cell that starts with cell_key\n",
    "    \"\"\"\n",
    "    for cell in nb.cells:\n",
    "        if cell['cell_type']=='code' and cell['source'].startswith(cell_key):\n",
    "            return cell"
   ]
  },
  {
   "cell_type": "code",
   "execution_count": 46,
   "metadata": {
    "collapsed": true
   },
   "outputs": [],
   "source": [
    "@curry\n",
    "def select(output_type, cell_outputs):\n",
    "    for elem in cell_outputs:\n",
    "        if elem['output_type']==output_type:\n",
    "            return elem"
   ]
  },
  {
   "cell_type": "code",
   "execution_count": 47,
   "metadata": {
    "collapsed": true
   },
   "outputs": [],
   "source": [
    "@curry\n",
    "def select_data_type(data_type, output_element):\n",
    "    return output_element['data'][data_type]"
   ]
  },
  {
   "cell_type": "code",
   "execution_count": 49,
   "metadata": {},
   "outputs": [],
   "source": [
    "def read_html(cell):\n",
    "    return pipe(cell['outputs'],\n",
    "                select('display_data'),\n",
    "                select_data_type('text/html'),\n",
    "                HTML,\n",
    "                display)"
   ]
  },
  {
   "cell_type": "code",
   "execution_count": 50,
   "metadata": {
    "collapsed": true
   },
   "outputs": [],
   "source": [
    "def read_svg(cell):\n",
    "    return pipe(cell['outputs'],\n",
    "                select('display_data'),\n",
    "                select_data_type('image/svg+xml'),\n",
    "                SVG,\n",
    "                display)"
   ]
  },
  {
   "cell_type": "code",
   "execution_count": 51,
   "metadata": {
    "collapsed": true
   },
   "outputs": [],
   "source": [
    "def read_html_from_nb(notebook_name, cell_key):\n",
    "    \"\"\" Reads html from notebook\n",
    "    \"\"\"\n",
    "    return pipe(notebook_name,\n",
    "                read_notebook,\n",
    "                read_cell(cell_key),\n",
    "                read_html)"
   ]
  },
  {
   "cell_type": "code",
   "execution_count": 52,
   "metadata": {
    "collapsed": true
   },
   "outputs": [],
   "source": [
    "def read_svg_from_nb(notebook_name, cell_key):\n",
    "    \"\"\" Reads svg from notebook\n",
    "    \"\"\"\n",
    "    return pipe(notebook_name,\n",
    "                read_notebook,\n",
    "                read_cell(cell_key),\n",
    "                read_svg)"
   ]
  },
  {
   "cell_type": "markdown",
   "metadata": {},
   "source": [
    "## Airline\n",
    "\n",
    "In this dataset we have data of airline flights for more than 20 years. Training in the first 5 years and evaluating ont the following ones, will give us Accuracy train, plotted in blue. As it can be observed, the accuracy diminished with time. If we retrain with data until 2002 and then evaluate in the following years (green line), the accuracy is higher, almost at the same level as the initial training."
   ]
  },
  {
   "cell_type": "code",
   "execution_count": 21,
   "metadata": {},
   "outputs": [
    {
     "ename": "IndexError",
     "evalue": "list index out of range",
     "output_type": "error",
     "traceback": [
      "\u001b[0;31m---------------------------------------------------------------------------\u001b[0m",
      "\u001b[0;31mIndexError\u001b[0m                                Traceback (most recent call last)",
      "\u001b[0;32m<ipython-input-21-30fb4e119483>\u001b[0m in \u001b[0;36m<module>\u001b[0;34m()\u001b[0m\n\u001b[0;32m----> 1\u001b[0;31m \u001b[0mread_html_from_nb\u001b[0m\u001b[0;34m(\u001b[0m\u001b[0mairline_notebook\u001b[0m\u001b[0;34m,\u001b[0m \u001b[0;34m'# Airline Retrain Results'\u001b[0m\u001b[0;34m)\u001b[0m\u001b[0;34m\u001b[0m\u001b[0m\n\u001b[0m",
      "\u001b[0;32m<ipython-input-20-2015e4b5459f>\u001b[0m in \u001b[0;36mread_html_from_nb\u001b[0;34m(notebook_name, cell_key)\u001b[0m\n\u001b[1;32m      5\u001b[0m                 \u001b[0mread_notebook\u001b[0m\u001b[0;34m,\u001b[0m\u001b[0;34m\u001b[0m\u001b[0m\n\u001b[1;32m      6\u001b[0m                 \u001b[0mread_cell\u001b[0m\u001b[0;34m(\u001b[0m\u001b[0mcell_key\u001b[0m\u001b[0;34m)\u001b[0m\u001b[0;34m,\u001b[0m\u001b[0;34m\u001b[0m\u001b[0m\n\u001b[0;32m----> 7\u001b[0;31m                 read_html)\n\u001b[0m",
      "\u001b[0;32m/home/hoaphumanoid/anaconda3/envs/strata2/lib/python3.6/site-packages/toolz/functoolz.py\u001b[0m in \u001b[0;36mpipe\u001b[0;34m(data, *funcs)\u001b[0m\n\u001b[1;32m    550\u001b[0m     \"\"\"\n\u001b[1;32m    551\u001b[0m     \u001b[0;32mfor\u001b[0m \u001b[0mfunc\u001b[0m \u001b[0;32min\u001b[0m \u001b[0mfuncs\u001b[0m\u001b[0;34m:\u001b[0m\u001b[0;34m\u001b[0m\u001b[0m\n\u001b[0;32m--> 552\u001b[0;31m         \u001b[0mdata\u001b[0m \u001b[0;34m=\u001b[0m \u001b[0mfunc\u001b[0m\u001b[0;34m(\u001b[0m\u001b[0mdata\u001b[0m\u001b[0;34m)\u001b[0m\u001b[0;34m\u001b[0m\u001b[0m\n\u001b[0m\u001b[1;32m    553\u001b[0m     \u001b[0;32mreturn\u001b[0m \u001b[0mdata\u001b[0m\u001b[0;34m\u001b[0m\u001b[0m\n\u001b[1;32m    554\u001b[0m \u001b[0;34m\u001b[0m\u001b[0m\n",
      "\u001b[0;32m<ipython-input-19-ca16d5e20a8e>\u001b[0m in \u001b[0;36mread_html\u001b[0;34m(cell)\u001b[0m\n\u001b[1;32m      1\u001b[0m \u001b[0;32mdef\u001b[0m \u001b[0mread_html\u001b[0m\u001b[0;34m(\u001b[0m\u001b[0mcell\u001b[0m\u001b[0;34m)\u001b[0m\u001b[0;34m:\u001b[0m\u001b[0;34m\u001b[0m\u001b[0m\n\u001b[0;32m----> 2\u001b[0;31m     return pipe(cell['outputs'][0]['data']['text/html'],\n\u001b[0m\u001b[1;32m      3\u001b[0m                 \u001b[0mHTML\u001b[0m\u001b[0;34m,\u001b[0m\u001b[0;34m\u001b[0m\u001b[0m\n\u001b[1;32m      4\u001b[0m                 display)\n",
      "\u001b[0;31mIndexError\u001b[0m: list index out of range"
     ]
    }
   ],
   "source": [
    "read_html_from_nb(airline_notebook, '# Airline Retrain Results')"
   ]
  },
  {
   "cell_type": "markdown",
   "metadata": {},
   "source": [
    "## BCI\n",
    "In this dataset we likely have a mixture of virtual concept drift and true concept drift. This is due to number of factors including changes in electrode impedance as well as changes to the underlying neural phenomena observed. Since these changes are expected to occur gradually we also expect the concept drift to gradually change. In the example below we naiviley retrain at a regular interval. No effort is carried out to try and select samples to retrain with which would eventually lead to the model learning to model the noise as performance continues to degrade"
   ]
  },
  {
   "cell_type": "code",
   "execution_count": 34,
   "metadata": {},
   "outputs": [
    {
     "data": {
      "text/html": [
       "\n",
       "\n",
       "    <div class=\"bk-root\">\n",
       "        <div class=\"bk-plotdiv\" id=\"14e5c9ee-2d69-4507-a71e-d0804fd547f1\"></div>\n",
       "    </div>\n",
       "<script type=\"text/javascript\">\n",
       "  \n",
       "  (function(global) {\n",
       "    function now() {\n",
       "      return new Date();\n",
       "    }\n",
       "  \n",
       "    var force = false;\n",
       "  \n",
       "    if (typeof (window._bokeh_onload_callbacks) === \"undefined\" || force === true) {\n",
       "      window._bokeh_onload_callbacks = [];\n",
       "      window._bokeh_is_loading = undefined;\n",
       "    }\n",
       "  \n",
       "  \n",
       "    \n",
       "    if (typeof (window._bokeh_timeout) === \"undefined\" || force === true) {\n",
       "      window._bokeh_timeout = Date.now() + 0;\n",
       "      window._bokeh_failed_load = false;\n",
       "    }\n",
       "  \n",
       "    var NB_LOAD_WARNING = {'data': {'text/html':\n",
       "       \"<div style='background-color: #fdd'>\\n\"+\n",
       "       \"<p>\\n\"+\n",
       "       \"BokehJS does not appear to have successfully loaded. If loading BokehJS from CDN, this \\n\"+\n",
       "       \"may be due to a slow or bad network connection. Possible fixes:\\n\"+\n",
       "       \"</p>\\n\"+\n",
       "       \"<ul>\\n\"+\n",
       "       \"<li>re-rerun `output_notebook()` to attempt to load from CDN again, or</li>\\n\"+\n",
       "       \"<li>use INLINE resources instead, as so:</li>\\n\"+\n",
       "       \"</ul>\\n\"+\n",
       "       \"<code>\\n\"+\n",
       "       \"from bokeh.resources import INLINE\\n\"+\n",
       "       \"output_notebook(resources=INLINE)\\n\"+\n",
       "       \"</code>\\n\"+\n",
       "       \"</div>\"}};\n",
       "  \n",
       "    function display_loaded() {\n",
       "      if (window.Bokeh !== undefined) {\n",
       "        var el = document.getElementById(\"14e5c9ee-2d69-4507-a71e-d0804fd547f1\");\n",
       "        el.textContent = \"BokehJS \" + Bokeh.version + \" successfully loaded.\";\n",
       "      } else if (Date.now() < window._bokeh_timeout) {\n",
       "        setTimeout(display_loaded, 100)\n",
       "      }\n",
       "    }\n",
       "  \n",
       "    function run_callbacks() {\n",
       "      try {\n",
       "        window._bokeh_onload_callbacks.forEach(function(callback) { callback() });\n",
       "      }\n",
       "      finally {\n",
       "        delete window._bokeh_onload_callbacks\n",
       "      }\n",
       "      console.info(\"Bokeh: all callbacks have finished\");\n",
       "    }\n",
       "  \n",
       "    function load_libs(js_urls, callback) {\n",
       "      window._bokeh_onload_callbacks.push(callback);\n",
       "      if (window._bokeh_is_loading > 0) {\n",
       "        console.log(\"Bokeh: BokehJS is being loaded, scheduling callback at\", now());\n",
       "        return null;\n",
       "      }\n",
       "      if (js_urls == null || js_urls.length === 0) {\n",
       "        run_callbacks();\n",
       "        return null;\n",
       "      }\n",
       "      console.log(\"Bokeh: BokehJS not loaded, scheduling load and callback at\", now());\n",
       "      window._bokeh_is_loading = js_urls.length;\n",
       "      for (var i = 0; i < js_urls.length; i++) {\n",
       "        var url = js_urls[i];\n",
       "        var s = document.createElement('script');\n",
       "        s.src = url;\n",
       "        s.async = false;\n",
       "        s.onreadystatechange = s.onload = function() {\n",
       "          window._bokeh_is_loading--;\n",
       "          if (window._bokeh_is_loading === 0) {\n",
       "            console.log(\"Bokeh: all BokehJS libraries loaded\");\n",
       "            run_callbacks()\n",
       "          }\n",
       "        };\n",
       "        s.onerror = function() {\n",
       "          console.warn(\"failed to load library \" + url);\n",
       "        };\n",
       "        console.log(\"Bokeh: injecting script tag for BokehJS library: \", url);\n",
       "        document.getElementsByTagName(\"head\")[0].appendChild(s);\n",
       "      }\n",
       "    };var element = document.getElementById(\"14e5c9ee-2d69-4507-a71e-d0804fd547f1\");\n",
       "    if (element == null) {\n",
       "      console.log(\"Bokeh: ERROR: autoload.js configured with elementid '14e5c9ee-2d69-4507-a71e-d0804fd547f1' but no matching script tag was found. \")\n",
       "      return false;\n",
       "    }\n",
       "  \n",
       "    var js_urls = [];\n",
       "  \n",
       "    var inline_js = [\n",
       "      function(Bokeh) {\n",
       "        (function() {\n",
       "          var fn = function() {\n",
       "            var docs_json = {\"332b0378-706f-412a-8819-d300e8342a77\":{\"roots\":{\"references\":[{\"attributes\":{\"fill_color\":{\"value\":\"white\"},\"line_color\":{\"value\":\"#a1bae3\"},\"line_width\":{\"value\":1.5},\"size\":{\"units\":\"screen\",\"value\":6},\"x\":{\"field\":\"index\"},\"y\":{\"field\":\"Retrain AUC\"}},\"id\":\"ac0cc366-9849-4f45-84e2-53572e66908d\",\"type\":\"Circle\"},{\"attributes\":{},\"id\":\"6285d15a-9722-4449-b0c3-177cd97f1b30\",\"type\":\"BasicTickFormatter\"},{\"attributes\":{\"label\":{\"value\":\" Retrain AUC\"},\"renderers\":[{\"id\":\"5511354f-257b-427f-8578-534b482422ba\",\"type\":\"GlyphRenderer\"}]},\"id\":\"b1aab149-2f2d-4838-85f2-a1d0b2371112\",\"type\":\"LegendItem\"},{\"attributes\":{\"plot\":null,\"text\":\"\"},\"id\":\"a9bed674-e2c3-4b6f-a6b4-b400b0d52330\",\"type\":\"Title\"},{\"attributes\":{\"data_source\":{\"id\":\"aea8a3e7-3434-4518-b0aa-cf8011111436\",\"type\":\"ColumnDataSource\"},\"glyph\":{\"id\":\"95a4d410-0041-4584-8ae8-42574cd87b1e\",\"type\":\"Circle\"},\"hover_glyph\":null,\"muted_glyph\":null,\"nonselection_glyph\":{\"id\":\"8925e577-ca50-488f-81c5-f1bb207b4b31\",\"type\":\"Circle\"},\"selection_glyph\":null},\"id\":\"c884d35f-0e7f-4804-9f3a-21b6f1b5801a\",\"type\":\"GlyphRenderer\"},{\"attributes\":{\"data_source\":{\"id\":\"aea8a3e7-3434-4518-b0aa-cf8011111436\",\"type\":\"ColumnDataSource\"},\"glyph\":{\"id\":\"95b93008-1250-4c1c-a299-af22f3572619\",\"type\":\"Line\"},\"hover_glyph\":null,\"muted_glyph\":null,\"nonselection_glyph\":{\"id\":\"6c0c8488-c401-4b76-bd74-25b74973f972\",\"type\":\"Line\"},\"selection_glyph\":null},\"id\":\"5511354f-257b-427f-8578-534b482422ba\",\"type\":\"GlyphRenderer\"},{\"attributes\":{\"data_source\":{\"id\":\"aea8a3e7-3434-4518-b0aa-cf8011111436\",\"type\":\"ColumnDataSource\"},\"glyph\":{\"id\":\"ac0cc366-9849-4f45-84e2-53572e66908d\",\"type\":\"Circle\"},\"hover_glyph\":null,\"muted_glyph\":null,\"nonselection_glyph\":{\"id\":\"97c2071a-58f5-4bb0-8035-425902d455a8\",\"type\":\"Circle\"},\"selection_glyph\":null},\"id\":\"235a85df-5c59-4efc-8e7e-8ca7480c5df2\",\"type\":\"GlyphRenderer\"},{\"attributes\":{\"line_cap\":\"round\",\"line_color\":{\"value\":\"#a1bae3\"},\"line_width\":{\"value\":6},\"x\":{\"field\":\"index\"},\"y\":{\"field\":\"Retrain AUC\"}},\"id\":\"95b93008-1250-4c1c-a299-af22f3572619\",\"type\":\"Line\"},{\"attributes\":{\"fill_alpha\":{\"value\":0.1},\"fill_color\":{\"value\":\"#1f77b4\"},\"line_alpha\":{\"value\":0.1},\"line_color\":{\"value\":\"#1f77b4\"},\"line_width\":{\"value\":1.5},\"size\":{\"units\":\"screen\",\"value\":6},\"x\":{\"field\":\"index\"},\"y\":{\"field\":\"Retrain AUC\"}},\"id\":\"97c2071a-58f5-4bb0-8035-425902d455a8\",\"type\":\"Circle\"},{\"attributes\":{\"line_alpha\":{\"value\":0.1},\"line_cap\":\"round\",\"line_color\":{\"value\":\"#1f77b4\"},\"line_width\":{\"value\":6},\"x\":{\"field\":\"index\"},\"y\":{\"field\":\"Retrain AUC\"}},\"id\":\"6c0c8488-c401-4b76-bd74-25b74973f972\",\"type\":\"Line\"},{\"attributes\":{\"plot\":{\"id\":\"26cde138-8232-4324-977d-86b5a7fa51a1\",\"subtype\":\"Figure\",\"type\":\"Plot\"}},\"id\":\"fb68359d-bc30-436f-a8ba-6f857fabba05\",\"type\":\"PanTool\"},{\"attributes\":{\"fill_alpha\":{\"value\":0.1},\"fill_color\":{\"value\":\"#1f77b4\"},\"line_alpha\":{\"value\":0.1},\"line_color\":{\"value\":\"#1f77b4\"},\"line_width\":{\"value\":1.5},\"size\":{\"units\":\"screen\",\"value\":6},\"x\":{\"field\":\"index\"},\"y\":{\"field\":\"Train AUC\"}},\"id\":\"8925e577-ca50-488f-81c5-f1bb207b4b31\",\"type\":\"Circle\"},{\"attributes\":{\"items\":[{\"id\":\"37490d6c-983e-46a3-a856-f8b475e0e123\",\"type\":\"LegendItem\"},{\"id\":\"b1aab149-2f2d-4838-85f2-a1d0b2371112\",\"type\":\"LegendItem\"}],\"plot\":{\"id\":\"26cde138-8232-4324-977d-86b5a7fa51a1\",\"subtype\":\"Figure\",\"type\":\"Plot\"}},\"id\":\"ed7bf6b1-9dad-496a-a82b-9142247833a2\",\"type\":\"Legend\"},{\"attributes\":{\"callback\":null,\"mode\":\"vline\",\"plot\":{\"id\":\"26cde138-8232-4324-977d-86b5a7fa51a1\",\"subtype\":\"Figure\",\"type\":\"Plot\"},\"renderers\":[{\"id\":\"6d23f9fa-e7ef-4416-893d-a672713bc347\",\"type\":\"GlyphRenderer\"}],\"tooltips\":[[\"Train AUC\",\"@{Train AUC}{0.4f}\"],[\"Retrain AUC\",\"@{Retrain AUC}{0.4f}\"]]},\"id\":\"767e9200-d4f9-462b-94c7-0a4539f281ef\",\"type\":\"HoverTool\"},{\"attributes\":{\"callback\":null,\"column_names\":[\"Train AUC\",\"Retrain AUC\",\"index\"],\"data\":{\"Retrain AUC\":{\"__ndarray__\":\"VvppraUp6j+m9A79n87pP6qzQsR/suk/Anxk2y9r6T/dBmJBJ1DpPzp4PlSMKuk/Zg4kVIEl6T9y7C8v5CXpPz8bPY6J3+g/43Vw+CLg6D/iebbZzMHoPz8+CoEhveg/HTXqxcR76D+kFF3Hd4roPyWqoFLkceg/hPfcff566D9irGi+G2DoP/Z23AZNMeg/JteNJ45M6D8YWd83tFLoP28bX/lwdOg/vBESTY+e6D83NwbYBIHoPwgzo19cbOg/jwJUi5xa6D82OLXY3y/oPw==\",\"dtype\":\"float64\",\"shape\":[26]},\"Train AUC\":{\"__ndarray__\":\"dqghcxgp6j9A2Ldve/LpPzh28W2awek/CsBg8eaR6T8bmzB0/2vpP4DO4ZsoRuk/0c9AsmQp6T/qzXd3DQvpP8UT5eTQ7eg/gbeX2jXT6D/u2LxZ2rjoP6iYMPtymug/Ll1ovgN86D9QHMMVO2XoP3SA3pqEUeg/h2BQ9kU+6D+vaocMuyvoP5aX113rGOg/qoXnsjUG6D/6sBjC1vLnPw6Rih2Y3+c/qtP+8YbR5z82JfU9H8TnPxJGshoDuOc/+kSKwaGq5z/+p2FFU53nPw==\",\"dtype\":\"float64\",\"shape\":[26]},\"index\":[9,10,11,12,13,14,15,16,17,18,19,20,21,22,23,24,25,26,27,28,29,30,31,32,33,34]}},\"id\":\"aea8a3e7-3434-4518-b0aa-cf8011111436\",\"type\":\"ColumnDataSource\"},{\"attributes\":{\"line_alpha\":{\"value\":0.1},\"line_cap\":\"round\",\"line_color\":{\"value\":\"#1f77b4\"},\"line_width\":{\"value\":6},\"x\":{\"field\":\"index\"},\"y\":{\"field\":\"Train AUC\"}},\"id\":\"106499ef-d88e-481b-8be8-f9d1bfcaa57a\",\"type\":\"Line\"},{\"attributes\":{\"label\":{\"value\":\" Train AUC\"},\"renderers\":[{\"id\":\"6d23f9fa-e7ef-4416-893d-a672713bc347\",\"type\":\"GlyphRenderer\"}]},\"id\":\"37490d6c-983e-46a3-a856-f8b475e0e123\",\"type\":\"LegendItem\"},{\"attributes\":{\"callback\":null},\"id\":\"27b5441b-f558-4099-b2fb-b04ef830b4e6\",\"type\":\"DataRange1d\"},{\"attributes\":{\"bottom_units\":\"screen\",\"fill_alpha\":{\"value\":0.5},\"fill_color\":{\"value\":\"lightgrey\"},\"left_units\":\"screen\",\"level\":\"overlay\",\"line_alpha\":{\"value\":1.0},\"line_color\":{\"value\":\"black\"},\"line_dash\":[4,4],\"line_width\":{\"value\":2},\"plot\":null,\"render_mode\":\"css\",\"right_units\":\"screen\",\"top_units\":\"screen\"},\"id\":\"6ffbe079-3215-4254-93a3-5b7ea6c9eb87\",\"type\":\"BoxAnnotation\"},{\"attributes\":{},\"id\":\"abc822a4-cc50-4708-aa6f-e495455cbf38\",\"type\":\"BasicTicker\"},{\"attributes\":{},\"id\":\"e303de87-88a9-4f75-9c8f-7ada6844720f\",\"type\":\"BasicTicker\"},{\"attributes\":{},\"id\":\"f8942cea-0b9e-4595-8908-0e92cccd3e10\",\"type\":\"LinearScale\"},{\"attributes\":{},\"id\":\"a05bd345-d2b8-47aa-a0e0-e2a7b9ffbb44\",\"type\":\"LinearScale\"},{\"attributes\":{\"axis_label\":\"AUC\",\"formatter\":{\"id\":\"6285d15a-9722-4449-b0c3-177cd97f1b30\",\"type\":\"BasicTickFormatter\"},\"plot\":{\"id\":\"26cde138-8232-4324-977d-86b5a7fa51a1\",\"subtype\":\"Figure\",\"type\":\"Plot\"},\"ticker\":{\"id\":\"e303de87-88a9-4f75-9c8f-7ada6844720f\",\"type\":\"BasicTicker\"}},\"id\":\"6c3e42db-d567-41bf-87e7-f3eb7dbb0670\",\"type\":\"LinearAxis\"},{\"attributes\":{\"active_drag\":\"auto\",\"active_inspect\":\"auto\",\"active_scroll\":\"auto\",\"active_tap\":\"auto\",\"tools\":[{\"id\":\"fb68359d-bc30-436f-a8ba-6f857fabba05\",\"type\":\"PanTool\"},{\"id\":\"64d5acf0-8586-45c9-929c-576da573211a\",\"type\":\"WheelZoomTool\"},{\"id\":\"87486215-8bc8-40ea-8c11-dbcfa0abf355\",\"type\":\"BoxZoomTool\"},{\"id\":\"6072fa70-7e87-4190-8d5b-7bde523de8b5\",\"type\":\"ResetTool\"},{\"id\":\"767e9200-d4f9-462b-94c7-0a4539f281ef\",\"type\":\"HoverTool\"}]},\"id\":\"e38657fb-f5d8-4c84-a520-2cd354b661e0\",\"type\":\"Toolbar\"},{\"attributes\":{},\"id\":\"1ad204f1-7ad0-4082-8d62-0a0bdec34539\",\"type\":\"BasicTickFormatter\"},{\"attributes\":{\"plot\":{\"id\":\"26cde138-8232-4324-977d-86b5a7fa51a1\",\"subtype\":\"Figure\",\"type\":\"Plot\"},\"ticker\":{\"id\":\"abc822a4-cc50-4708-aa6f-e495455cbf38\",\"type\":\"BasicTicker\"}},\"id\":\"a0913304-97f4-40e5-a22d-8b8c8431c152\",\"type\":\"Grid\"},{\"attributes\":{\"fill_color\":{\"value\":\"white\"},\"line_color\":{\"value\":\"#5975a4\"},\"line_width\":{\"value\":1.5},\"size\":{\"units\":\"screen\",\"value\":6},\"x\":{\"field\":\"index\"},\"y\":{\"field\":\"Train AUC\"}},\"id\":\"95a4d410-0041-4584-8ae8-42574cd87b1e\",\"type\":\"Circle\"},{\"attributes\":{\"callback\":null},\"id\":\"63e7de33-70be-439a-a79f-aaf36d15cf3e\",\"type\":\"DataRange1d\"},{\"attributes\":{\"dimension\":1,\"plot\":{\"id\":\"26cde138-8232-4324-977d-86b5a7fa51a1\",\"subtype\":\"Figure\",\"type\":\"Plot\"},\"ticker\":{\"id\":\"e303de87-88a9-4f75-9c8f-7ada6844720f\",\"type\":\"BasicTicker\"}},\"id\":\"642ffd93-0dcc-4719-abb0-ac57c68ca013\",\"type\":\"Grid\"},{\"attributes\":{\"below\":[{\"id\":\"056e7fb7-b0df-426d-b66e-c3f8fd8eac5c\",\"type\":\"LinearAxis\"}],\"left\":[{\"id\":\"6c3e42db-d567-41bf-87e7-f3eb7dbb0670\",\"type\":\"LinearAxis\"}],\"plot_height\":350,\"plot_width\":700,\"renderers\":[{\"id\":\"056e7fb7-b0df-426d-b66e-c3f8fd8eac5c\",\"type\":\"LinearAxis\"},{\"id\":\"a0913304-97f4-40e5-a22d-8b8c8431c152\",\"type\":\"Grid\"},{\"id\":\"6c3e42db-d567-41bf-87e7-f3eb7dbb0670\",\"type\":\"LinearAxis\"},{\"id\":\"642ffd93-0dcc-4719-abb0-ac57c68ca013\",\"type\":\"Grid\"},{\"id\":\"6ffbe079-3215-4254-93a3-5b7ea6c9eb87\",\"type\":\"BoxAnnotation\"},{\"id\":\"ed7bf6b1-9dad-496a-a82b-9142247833a2\",\"type\":\"Legend\"},{\"id\":\"6d23f9fa-e7ef-4416-893d-a672713bc347\",\"type\":\"GlyphRenderer\"},{\"id\":\"c884d35f-0e7f-4804-9f3a-21b6f1b5801a\",\"type\":\"GlyphRenderer\"},{\"id\":\"5511354f-257b-427f-8578-534b482422ba\",\"type\":\"GlyphRenderer\"},{\"id\":\"235a85df-5c59-4efc-8e7e-8ca7480c5df2\",\"type\":\"GlyphRenderer\"}],\"title\":{\"id\":\"a9bed674-e2c3-4b6f-a6b4-b400b0d52330\",\"type\":\"Title\"},\"tool_events\":{\"id\":\"782387be-ef99-4d19-910e-1dc5d0455d0e\",\"type\":\"ToolEvents\"},\"toolbar\":{\"id\":\"e38657fb-f5d8-4c84-a520-2cd354b661e0\",\"type\":\"Toolbar\"},\"x_range\":{\"id\":\"63e7de33-70be-439a-a79f-aaf36d15cf3e\",\"type\":\"DataRange1d\"},\"x_scale\":{\"id\":\"a05bd345-d2b8-47aa-a0e0-e2a7b9ffbb44\",\"type\":\"LinearScale\"},\"y_range\":{\"id\":\"27b5441b-f558-4099-b2fb-b04ef830b4e6\",\"type\":\"DataRange1d\"},\"y_scale\":{\"id\":\"f8942cea-0b9e-4595-8908-0e92cccd3e10\",\"type\":\"LinearScale\"}},\"id\":\"26cde138-8232-4324-977d-86b5a7fa51a1\",\"subtype\":\"Figure\",\"type\":\"Plot\"},{\"attributes\":{\"plot\":{\"id\":\"26cde138-8232-4324-977d-86b5a7fa51a1\",\"subtype\":\"Figure\",\"type\":\"Plot\"}},\"id\":\"64d5acf0-8586-45c9-929c-576da573211a\",\"type\":\"WheelZoomTool\"},{\"attributes\":{\"formatter\":{\"id\":\"1ad204f1-7ad0-4082-8d62-0a0bdec34539\",\"type\":\"BasicTickFormatter\"},\"plot\":{\"id\":\"26cde138-8232-4324-977d-86b5a7fa51a1\",\"subtype\":\"Figure\",\"type\":\"Plot\"},\"ticker\":{\"id\":\"abc822a4-cc50-4708-aa6f-e495455cbf38\",\"type\":\"BasicTicker\"}},\"id\":\"056e7fb7-b0df-426d-b66e-c3f8fd8eac5c\",\"type\":\"LinearAxis\"},{\"attributes\":{\"data_source\":{\"id\":\"aea8a3e7-3434-4518-b0aa-cf8011111436\",\"type\":\"ColumnDataSource\"},\"glyph\":{\"id\":\"9a577320-78ef-4375-a9c1-cdf6a6d4daa3\",\"type\":\"Line\"},\"hover_glyph\":null,\"muted_glyph\":null,\"nonselection_glyph\":{\"id\":\"106499ef-d88e-481b-8be8-f9d1bfcaa57a\",\"type\":\"Line\"},\"selection_glyph\":null},\"id\":\"6d23f9fa-e7ef-4416-893d-a672713bc347\",\"type\":\"GlyphRenderer\"},{\"attributes\":{\"overlay\":{\"id\":\"6ffbe079-3215-4254-93a3-5b7ea6c9eb87\",\"type\":\"BoxAnnotation\"},\"plot\":{\"id\":\"26cde138-8232-4324-977d-86b5a7fa51a1\",\"subtype\":\"Figure\",\"type\":\"Plot\"}},\"id\":\"87486215-8bc8-40ea-8c11-dbcfa0abf355\",\"type\":\"BoxZoomTool\"},{\"attributes\":{\"plot\":{\"id\":\"26cde138-8232-4324-977d-86b5a7fa51a1\",\"subtype\":\"Figure\",\"type\":\"Plot\"}},\"id\":\"6072fa70-7e87-4190-8d5b-7bde523de8b5\",\"type\":\"ResetTool\"},{\"attributes\":{},\"id\":\"782387be-ef99-4d19-910e-1dc5d0455d0e\",\"type\":\"ToolEvents\"},{\"attributes\":{\"line_cap\":\"round\",\"line_color\":{\"value\":\"#5975a4\"},\"line_width\":{\"value\":6},\"x\":{\"field\":\"index\"},\"y\":{\"field\":\"Train AUC\"}},\"id\":\"9a577320-78ef-4375-a9c1-cdf6a6d4daa3\",\"type\":\"Line\"}],\"root_ids\":[\"26cde138-8232-4324-977d-86b5a7fa51a1\"]},\"title\":\"Bokeh Application\",\"version\":\"0.12.6\"}};\n",
       "            var render_items = [{\"docid\":\"332b0378-706f-412a-8819-d300e8342a77\",\"elementid\":\"14e5c9ee-2d69-4507-a71e-d0804fd547f1\",\"modelid\":\"26cde138-8232-4324-977d-86b5a7fa51a1\"}];\n",
       "            \n",
       "            Bokeh.embed.embed_items(docs_json, render_items);\n",
       "          };\n",
       "          if (document.readyState != \"loading\") fn();\n",
       "          else document.addEventListener(\"DOMContentLoaded\", fn);\n",
       "        })();\n",
       "      },\n",
       "      function(Bokeh) {\n",
       "      }\n",
       "    ];\n",
       "  \n",
       "    function run_inline_js() {\n",
       "      \n",
       "      if ((window.Bokeh !== undefined) || (force === true)) {\n",
       "        for (var i = 0; i < inline_js.length; i++) {\n",
       "          inline_js[i](window.Bokeh);\n",
       "        }if (force === true) {\n",
       "          display_loaded();\n",
       "        }} else if (Date.now() < window._bokeh_timeout) {\n",
       "        setTimeout(run_inline_js, 100);\n",
       "      } else if (!window._bokeh_failed_load) {\n",
       "        console.log(\"Bokeh: BokehJS failed to load within specified timeout.\");\n",
       "        window._bokeh_failed_load = true;\n",
       "      } else if (force !== true) {\n",
       "        var cell = $(document.getElementById(\"14e5c9ee-2d69-4507-a71e-d0804fd547f1\")).parents('.cell').data().cell;\n",
       "        cell.output_area.append_execute_result(NB_LOAD_WARNING)\n",
       "      }\n",
       "  \n",
       "    }\n",
       "  \n",
       "    if (window._bokeh_is_loading === 0) {\n",
       "      console.log(\"Bokeh: BokehJS loaded, going straight to plotting\");\n",
       "      run_inline_js();\n",
       "    } else {\n",
       "      load_libs(js_urls, function() {\n",
       "        console.log(\"Bokeh: BokehJS plotting callback run at\", now());\n",
       "        run_inline_js();\n",
       "      });\n",
       "    }\n",
       "  }(this));\n",
       "</script>"
      ],
      "text/plain": [
       "<IPython.core.display.HTML object>"
      ]
     },
     "metadata": {},
     "output_type": "display_data"
    }
   ],
   "source": [
    "read_html_from_nb(bci_notebook, '# XGB Retrain Results')"
   ]
  },
  {
   "cell_type": "code",
   "execution_count": 53,
   "metadata": {},
   "outputs": [
    {
     "data": {
      "image/svg+xml": [
       "<svg height=\"350\" style=\"width: 700px; height: 350px;\" version=\"1.1\" width=\"700\" xmlns=\"http://www.w3.org/2000/svg\" xmlns:xlink=\"http://www.w3.org/1999/xlink\"><defs/><g><g/><g transform=\"scale(1,1) translate(0.5,0.5)\"><rect fill=\"#FFFFFF\" height=\"350\" stroke=\"none\" width=\"700\" x=\"0\" y=\"0\"/><rect fill=\"#ffffff\" height=\"350\" stroke=\"none\" width=\"700\" x=\"0\" y=\"0\"/><rect fill=\"#FFFFFF\" height=\"320.815\" stroke=\"none\" width=\"614.895\" x=\"55.105000000000004\" y=\"4\"/><rect fill=\"#ffffff\" height=\"320.815\" stroke=\"none\" width=\"614.895\" x=\"55.105000000000004\" y=\"4\"/><g><rect fill=\"none\" height=\"320.815\" stroke=\"#e5e5e5\" stroke-miterlimit=\"10\" width=\"614.895\" x=\"55.105000000000004\" y=\"4\"/></g><g><g><path d=\" M 105 325 L 105 4\" fill=\"none\" paint-order=\"fill stroke markers\" stroke=\"#e5e5e5\" stroke-miterlimit=\"10\"/><path d=\" M 217 325 L 217 4\" fill=\"none\" paint-order=\"fill stroke markers\" stroke=\"#e5e5e5\" stroke-miterlimit=\"10\"/><path d=\" M 329 325 L 329 4\" fill=\"none\" paint-order=\"fill stroke markers\" stroke=\"#e5e5e5\" stroke-miterlimit=\"10\"/><path d=\" M 441 325 L 441 4\" fill=\"none\" paint-order=\"fill stroke markers\" stroke=\"#e5e5e5\" stroke-miterlimit=\"10\"/><path d=\" M 553 325 L 553 4\" fill=\"none\" paint-order=\"fill stroke markers\" stroke=\"#e5e5e5\" stroke-miterlimit=\"10\"/><path d=\" M 664 325 L 664 4\" fill=\"none\" paint-order=\"fill stroke markers\" stroke=\"#e5e5e5\" stroke-miterlimit=\"10\"/></g><g><path d=\" M 55 303 L 670 303\" fill=\"none\" paint-order=\"fill stroke markers\" stroke=\"#e5e5e5\" stroke-miterlimit=\"10\"/><path d=\" M 55 229 L 670 229\" fill=\"none\" paint-order=\"fill stroke markers\" stroke=\"#e5e5e5\" stroke-miterlimit=\"10\"/><path d=\" M 55 156 L 670 156\" fill=\"none\" paint-order=\"fill stroke markers\" stroke=\"#e5e5e5\" stroke-miterlimit=\"10\"/><path d=\" M 55 83 L 670 83\" fill=\"none\" paint-order=\"fill stroke markers\" stroke=\"#e5e5e5\" stroke-miterlimit=\"10\"/><path d=\" M 55 10 L 670 10\" fill=\"none\" paint-order=\"fill stroke markers\" stroke=\"#e5e5e5\" stroke-miterlimit=\"10\"/></g><g><path fill=\"none\" stroke=\"none\"/><path d=\" M 83.05477272727278 18.82914927219008 L 105.41459090909096 43.24650927322955 L 127.77440909090915 65.10004647416054 L 150.1342272727273 86.42698873070822 L 172.49404545454547 103.37379930285897 L 194.85386363636366 120.29154158929396 L 217.21368181818184 133.15236226064962 L 239.57350000000002 146.71756226122807 L 261.9333181818182 159.78911137456635 L 284.2931363636364 171.68435942476253 L 306.6529545454546 183.46864245383586 L 329.01277272727276 197.06202988298674 L 351.37259090909095 210.6691586835659 L 373.73240909090913 220.8556970690929 L 396.0922272727273 229.6692012980402 L 418.45204545454544 238.27341386983562 L 440.8118636363637 246.56373491366685 L 463.1716818181818 254.97415891402534 L 485.53150000000005 263.33914923017073 L 507.8913181818182 271.9997689101733 L 530.2511363636364 280.6039814819683 L 552.6109545454545 286.89330148223644 L 574.9707727272728 292.8866534824915 L 597.3305909090909 298.30093765663514 L 619.690409090909 304.2831908568901 L 642.0502272727273 310.2325000000001\" fill=\"none\" paint-order=\"fill stroke markers\" stroke=\"#5975a4\" stroke-linecap=\"round\" stroke-miterlimit=\"10\" stroke-width=\"6\"/></g><g><path fill=\"none\" stroke=\"none\"/><path d=\" M 466.1716818181818 254.97415891402534 A 3 3 0 1 1 466.1716803181819 254.97115891452535\" fill=\"white\" paint-order=\"fill stroke markers\" stroke=\"#5975a4\" stroke-miterlimit=\"10\" stroke-width=\"1.5\"/><path d=\" M 443.8118636363637 246.56373491366685 A 3 3 0 1 1 443.8118621363638 246.56073491416686\" fill=\"white\" paint-order=\"fill stroke markers\" stroke=\"#5975a4\" stroke-miterlimit=\"10\" stroke-width=\"1.5\"/><path d=\" M 421.45204545454544 238.27341386983562 A 3 3 0 1 1 421.45204395454556 238.27041387033563\" fill=\"white\" paint-order=\"fill stroke markers\" stroke=\"#5975a4\" stroke-miterlimit=\"10\" stroke-width=\"1.5\"/><path d=\" M 399.0922272727273 229.6692012980402 A 3 3 0 1 1 399.09222577272743 229.66620129854022\" fill=\"white\" paint-order=\"fill stroke markers\" stroke=\"#5975a4\" stroke-miterlimit=\"10\" stroke-width=\"1.5\"/><path d=\" M 376.73240909090913 220.8556970690929 A 3 3 0 1 1 376.73240759090925 220.85269706959292\" fill=\"white\" paint-order=\"fill stroke markers\" stroke=\"#5975a4\" stroke-miterlimit=\"10\" stroke-width=\"1.5\"/><path d=\" M 354.37259090909095 210.6691586835659 A 3 3 0 1 1 354.37258940909106 210.66615868406592\" fill=\"white\" paint-order=\"fill stroke markers\" stroke=\"#5975a4\" stroke-miterlimit=\"10\" stroke-width=\"1.5\"/><path d=\" M 332.01277272727276 197.06202988298674 A 3 3 0 1 1 332.0127712272729 197.05902988348674\" fill=\"white\" paint-order=\"fill stroke markers\" stroke=\"#5975a4\" stroke-miterlimit=\"10\" stroke-width=\"1.5\"/><path d=\" M 309.6529545454546 183.46864245383586 A 3 3 0 1 1 309.6529530454547 183.46564245433586\" fill=\"white\" paint-order=\"fill stroke markers\" stroke=\"#5975a4\" stroke-miterlimit=\"10\" stroke-width=\"1.5\"/><path d=\" M 287.2931363636364 171.68435942476253 A 3 3 0 1 1 287.2931348636365 171.68135942526254\" fill=\"white\" paint-order=\"fill stroke markers\" stroke=\"#5975a4\" stroke-miterlimit=\"10\" stroke-width=\"1.5\"/><path d=\" M 264.9333181818182 159.78911137456635 A 3 3 0 1 1 264.9333166818183 159.78611137506635\" fill=\"white\" paint-order=\"fill stroke markers\" stroke=\"#5975a4\" stroke-miterlimit=\"10\" stroke-width=\"1.5\"/><path d=\" M 242.57350000000002 146.71756226122807 A 3 3 0 1 1 242.57349850000014 146.71456226172808\" fill=\"white\" paint-order=\"fill stroke markers\" stroke=\"#5975a4\" stroke-miterlimit=\"10\" stroke-width=\"1.5\"/><path d=\" M 220.21368181818184 133.15236226064962 A 3 3 0 1 1 220.21368031818196 133.14936226114963\" fill=\"white\" paint-order=\"fill stroke markers\" stroke=\"#5975a4\" stroke-miterlimit=\"10\" stroke-width=\"1.5\"/><path d=\" M 197.85386363636366 120.29154158929396 A 3 3 0 1 1 197.85386213636377 120.28854158979395\" fill=\"white\" paint-order=\"fill stroke markers\" stroke=\"#5975a4\" stroke-miterlimit=\"10\" stroke-width=\"1.5\"/><path d=\" M 175.49404545454547 103.37379930285897 A 3 3 0 1 1 175.4940439545456 103.37079930335896\" fill=\"white\" paint-order=\"fill stroke markers\" stroke=\"#5975a4\" stroke-miterlimit=\"10\" stroke-width=\"1.5\"/><path d=\" M 153.1342272727273 86.42698873070822 A 3 3 0 1 1 153.1342257727274 86.42398873120821\" fill=\"white\" paint-order=\"fill stroke markers\" stroke=\"#5975a4\" stroke-miterlimit=\"10\" stroke-width=\"1.5\"/><path d=\" M 130.77440909090916 65.10004647416054 A 3 3 0 1 1 130.77440759090928 65.09704647466053\" fill=\"white\" paint-order=\"fill stroke markers\" stroke=\"#5975a4\" stroke-miterlimit=\"10\" stroke-width=\"1.5\"/><path d=\" M 108.41459090909096 43.24650927322955 A 3 3 0 1 1 108.41458940909109 43.24350927372955\" fill=\"white\" paint-order=\"fill stroke markers\" stroke=\"#5975a4\" stroke-miterlimit=\"10\" stroke-width=\"1.5\"/><path d=\" M 86.05477272727278 18.82914927219008 A 3 3 0 1 1 86.05477122727291 18.826149272690078\" fill=\"white\" paint-order=\"fill stroke markers\" stroke=\"#5975a4\" stroke-miterlimit=\"10\" stroke-width=\"1.5\"/><path d=\" M 488.53150000000005 263.33914923017073 A 3 3 0 1 1 488.53149850000017 263.33614923067074\" fill=\"white\" paint-order=\"fill stroke markers\" stroke=\"#5975a4\" stroke-miterlimit=\"10\" stroke-width=\"1.5\"/><path d=\" M 510.8913181818182 271.9997689101733 A 3 3 0 1 1 510.8913166818183 271.9967689106733\" fill=\"white\" paint-order=\"fill stroke markers\" stroke=\"#5975a4\" stroke-miterlimit=\"10\" stroke-width=\"1.5\"/><path d=\" M 533.2511363636364 280.6039814819683 A 3 3 0 1 1 533.2511348636366 280.6009814824683\" fill=\"white\" paint-order=\"fill stroke markers\" stroke=\"#5975a4\" stroke-miterlimit=\"10\" stroke-width=\"1.5\"/><path d=\" M 555.6109545454545 286.89330148223644 A 3 3 0 1 1 555.6109530454547 286.89030148273645\" fill=\"white\" paint-order=\"fill stroke markers\" stroke=\"#5975a4\" stroke-miterlimit=\"10\" stroke-width=\"1.5\"/><path d=\" M 577.9707727272728 292.8866534824915 A 3 3 0 1 1 577.970771227273 292.8836534829915\" fill=\"white\" paint-order=\"fill stroke markers\" stroke=\"#5975a4\" stroke-miterlimit=\"10\" stroke-width=\"1.5\"/><path d=\" M 600.3305909090909 298.30093765663514 A 3 3 0 1 1 600.3305894090911 298.29793765713515\" fill=\"white\" paint-order=\"fill stroke markers\" stroke=\"#5975a4\" stroke-miterlimit=\"10\" stroke-width=\"1.5\"/><path d=\" M 622.690409090909 304.2831908568901 A 3 3 0 1 1 622.6904075909092 304.2801908573901\" fill=\"white\" paint-order=\"fill stroke markers\" stroke=\"#5975a4\" stroke-miterlimit=\"10\" stroke-width=\"1.5\"/><path d=\" M 645.0502272727273 310.2325000000001 A 3 3 0 1 1 645.0502257727275 310.2295000005001\" fill=\"white\" paint-order=\"fill stroke markers\" stroke=\"#5975a4\" stroke-miterlimit=\"10\" stroke-width=\"1.5\"/></g><g><path fill=\"none\" stroke=\"none\"/><path d=\" M 83.05477272727278 18.582499999999982 L 105.41459090909096 59.27810000173349 L 127.77440909090915 71.85304040226856 L 150.1342272727273 103.73636010287464 L 172.49404545454547 115.82295330338911 L 194.85386363636366 132.63604976124816 L 217.21368181818184 134.89073766196498 L 239.57350000000002 134.7180896619575 L 261.9333181818182 166.17303462570362 L 284.2931363636364 165.90510086171662 L 306.6529545454546 179.46836297658 L 329.01277272727276 181.5559944052402 L 351.37259090909095 210.77913480648476 L 373.73240909090913 204.20717455775775 L 396.0922272727273 215.19498655822554 L 418.45204545454544 211.1254265580519 L 440.8118636363637 223.1459095150858 L 463.1716818181818 244.07331351597668 L 485.53150000000005 231.88799941019488 L 507.8913181818182 229.1389510988647 L 530.2511363636364 214.0551533839366 L 552.6109545454545 195.22418938313422 L 574.9707727272728 208.43176138369745 L 597.3305909090909 217.66789321017768 L 619.690409090909 225.60353521051593 L 642.0502272727273 244.71108835418636\" fill=\"none\" paint-order=\"fill stroke markers\" stroke=\"#a1bae3\" stroke-linecap=\"round\" stroke-miterlimit=\"10\" stroke-width=\"6\"/></g><g><path fill=\"none\" stroke=\"none\"/><path d=\" M 466.1716818181818 244.07331351597668 A 3 3 0 1 1 466.1716803181819 244.0703135164767\" fill=\"white\" paint-order=\"fill stroke markers\" stroke=\"#a1bae3\" stroke-miterlimit=\"10\" stroke-width=\"1.5\"/><path d=\" M 443.8118636363637 223.1459095150858 A 3 3 0 1 1 443.8118621363638 223.1429095155858\" fill=\"white\" paint-order=\"fill stroke markers\" stroke=\"#a1bae3\" stroke-miterlimit=\"10\" stroke-width=\"1.5\"/><path d=\" M 421.45204545454544 211.1254265580519 A 3 3 0 1 1 421.45204395454556 211.12242655855192\" fill=\"white\" paint-order=\"fill stroke markers\" stroke=\"#a1bae3\" stroke-miterlimit=\"10\" stroke-width=\"1.5\"/><path d=\" M 399.0922272727273 215.19498655822554 A 3 3 0 1 1 399.09222577272743 215.19198655872555\" fill=\"white\" paint-order=\"fill stroke markers\" stroke=\"#a1bae3\" stroke-miterlimit=\"10\" stroke-width=\"1.5\"/><path d=\" M 376.73240909090913 204.20717455775775 A 3 3 0 1 1 376.73240759090925 204.20417455825776\" fill=\"white\" paint-order=\"fill stroke markers\" stroke=\"#a1bae3\" stroke-miterlimit=\"10\" stroke-width=\"1.5\"/><path d=\" M 354.37259090909095 210.77913480648476 A 3 3 0 1 1 354.37258940909106 210.77613480698477\" fill=\"white\" paint-order=\"fill stroke markers\" stroke=\"#a1bae3\" stroke-miterlimit=\"10\" stroke-width=\"1.5\"/><path d=\" M 332.01277272727276 181.5559944052402 A 3 3 0 1 1 332.0127712272729 181.5529944057402\" fill=\"white\" paint-order=\"fill stroke markers\" stroke=\"#a1bae3\" stroke-miterlimit=\"10\" stroke-width=\"1.5\"/><path d=\" M 309.6529545454546 179.46836297658 A 3 3 0 1 1 309.6529530454547 179.46536297708002\" fill=\"white\" paint-order=\"fill stroke markers\" stroke=\"#a1bae3\" stroke-miterlimit=\"10\" stroke-width=\"1.5\"/><path d=\" M 264.9333181818182 166.17303462570362 A 3 3 0 1 1 264.9333166818183 166.17003462620363\" fill=\"white\" paint-order=\"fill stroke markers\" stroke=\"#a1bae3\" stroke-miterlimit=\"10\" stroke-width=\"1.5\"/><path d=\" M 287.2931363636364 165.90510086171662 A 3 3 0 1 1 287.2931348636365 165.90210086221663\" fill=\"white\" paint-order=\"fill stroke markers\" stroke=\"#a1bae3\" stroke-miterlimit=\"10\" stroke-width=\"1.5\"/><path d=\" M 242.57350000000002 134.7180896619575 A 3 3 0 1 1 242.57349850000014 134.7150896624575\" fill=\"white\" paint-order=\"fill stroke markers\" stroke=\"#a1bae3\" stroke-miterlimit=\"10\" stroke-width=\"1.5\"/><path d=\" M 220.21368181818184 134.89073766196498 A 3 3 0 1 1 220.21368031818196 134.88773766246499\" fill=\"white\" paint-order=\"fill stroke markers\" stroke=\"#a1bae3\" stroke-miterlimit=\"10\" stroke-width=\"1.5\"/><path d=\" M 197.85386363636366 132.63604976124816 A 3 3 0 1 1 197.85386213636377 132.63304976174817\" fill=\"white\" paint-order=\"fill stroke markers\" stroke=\"#a1bae3\" stroke-miterlimit=\"10\" stroke-width=\"1.5\"/><path d=\" M 175.49404545454547 115.82295330338911 A 3 3 0 1 1 175.4940439545456 115.81995330388911\" fill=\"white\" paint-order=\"fill stroke markers\" stroke=\"#a1bae3\" stroke-miterlimit=\"10\" stroke-width=\"1.5\"/><path d=\" M 153.1342272727273 103.73636010287464 A 3 3 0 1 1 153.1342257727274 103.73336010337464\" fill=\"white\" paint-order=\"fill stroke markers\" stroke=\"#a1bae3\" stroke-miterlimit=\"10\" stroke-width=\"1.5\"/><path d=\" M 130.77440909090916 71.85304040226856 A 3 3 0 1 1 130.77440759090928 71.85004040276856\" fill=\"white\" paint-order=\"fill stroke markers\" stroke=\"#a1bae3\" stroke-miterlimit=\"10\" stroke-width=\"1.5\"/><path d=\" M 108.41459090909096 59.27810000173349 A 3 3 0 1 1 108.41458940909109 59.27510000223349\" fill=\"white\" paint-order=\"fill stroke markers\" stroke=\"#a1bae3\" stroke-miterlimit=\"10\" stroke-width=\"1.5\"/><path d=\" M 86.05477272727278 18.582499999999982 A 3 3 0 1 1 86.05477122727291 18.57950000049998\" fill=\"white\" paint-order=\"fill stroke markers\" stroke=\"#a1bae3\" stroke-miterlimit=\"10\" stroke-width=\"1.5\"/><path d=\" M 488.53150000000005 231.88799941019488 A 3 3 0 1 1 488.53149850000017 231.8849994106949\" fill=\"white\" paint-order=\"fill stroke markers\" stroke=\"#a1bae3\" stroke-miterlimit=\"10\" stroke-width=\"1.5\"/><path d=\" M 510.8913181818182 229.1389510988647 A 3 3 0 1 1 510.8913166818183 229.13595109936472\" fill=\"white\" paint-order=\"fill stroke markers\" stroke=\"#a1bae3\" stroke-miterlimit=\"10\" stroke-width=\"1.5\"/><path d=\" M 533.2511363636364 214.0551533839366 A 3 3 0 1 1 533.2511348636366 214.05215338443662\" fill=\"white\" paint-order=\"fill stroke markers\" stroke=\"#a1bae3\" stroke-miterlimit=\"10\" stroke-width=\"1.5\"/><path d=\" M 555.6109545454545 195.22418938313422 A 3 3 0 1 1 555.6109530454547 195.22118938363423\" fill=\"white\" paint-order=\"fill stroke markers\" stroke=\"#a1bae3\" stroke-miterlimit=\"10\" stroke-width=\"1.5\"/><path d=\" M 577.9707727272728 208.43176138369745 A 3 3 0 1 1 577.970771227273 208.42876138419746\" fill=\"white\" paint-order=\"fill stroke markers\" stroke=\"#a1bae3\" stroke-miterlimit=\"10\" stroke-width=\"1.5\"/><path d=\" M 600.3305909090909 217.66789321017768 A 3 3 0 1 1 600.3305894090911 217.6648932106777\" fill=\"white\" paint-order=\"fill stroke markers\" stroke=\"#a1bae3\" stroke-miterlimit=\"10\" stroke-width=\"1.5\"/><path d=\" M 622.690409090909 225.60353521051593 A 3 3 0 1 1 622.6904075909092 225.60053521101594\" fill=\"white\" paint-order=\"fill stroke markers\" stroke=\"#a1bae3\" stroke-miterlimit=\"10\" stroke-width=\"1.5\"/><path d=\" M 645.0502272727273 244.71108835418636 A 3 3 0 1 1 645.0502257727275 244.70808835468637\" fill=\"white\" paint-order=\"fill stroke markers\" stroke=\"#a1bae3\" stroke-miterlimit=\"10\" stroke-width=\"1.5\"/></g></g><g><g/><g><path d=\" M 539.25 14 L 660 14 L 660 77 L 539.25 77 L 539.25 14 Z\" fill=\"#ffffff\" fill-opacity=\"0.95\" paint-order=\"fill stroke markers\" stroke=\"#e5e5e5\" stroke-miterlimit=\"10\" stroke-opacity=\"0.5\"/><text dominant-baseline=\"central\" fill=\"#444444\" font-family=\"helvetica\" font-size=\"10pt\" font-style=\"normal\" font-weight=\"normal\" stroke=\"none\" text-anchor=\"start\" text-decoration=\"normal\" x=\"574.25\" y=\"34\"> Train AUC</text><g><path d=\" M 549.25 34 L 569.25 34\" fill=\"none\" paint-order=\"fill stroke markers\" stroke=\"#5975a4\" stroke-linecap=\"round\" stroke-miterlimit=\"10\" stroke-width=\"6\"/></g><text dominant-baseline=\"central\" fill=\"#444444\" font-family=\"helvetica\" font-size=\"10pt\" font-style=\"normal\" font-weight=\"normal\" stroke=\"none\" text-anchor=\"start\" text-decoration=\"normal\" x=\"574.25\" y=\"57\"> Retrain AUC</text><g><path d=\" M 549.25 57 L 569.25 57\" fill=\"none\" paint-order=\"fill stroke markers\" stroke=\"#a1bae3\" stroke-linecap=\"round\" stroke-miterlimit=\"10\" stroke-width=\"6\"/></g></g></g><g><g><path d=\" M 55 325 L 670 325\" fill=\"none\" paint-order=\"fill stroke markers\" stroke=\"black\" stroke-miterlimit=\"10\"/><path d=\" M 105 331 L 105 323\" fill=\"none\" paint-order=\"fill stroke markers\" stroke=\"black\" stroke-miterlimit=\"10\"/><path d=\" M 217 331 L 217 323\" fill=\"none\" paint-order=\"fill stroke markers\" stroke=\"black\" stroke-miterlimit=\"10\"/><path d=\" M 329 331 L 329 323\" fill=\"none\" paint-order=\"fill stroke markers\" stroke=\"black\" stroke-miterlimit=\"10\"/><path d=\" M 441 331 L 441 323\" fill=\"none\" paint-order=\"fill stroke markers\" stroke=\"black\" stroke-miterlimit=\"10\"/><path d=\" M 553 331 L 553 323\" fill=\"none\" paint-order=\"fill stroke markers\" stroke=\"black\" stroke-miterlimit=\"10\"/><path d=\" M 664 331 L 664 323\" fill=\"none\" paint-order=\"fill stroke markers\" stroke=\"black\" stroke-miterlimit=\"10\"/><path d=\" M 83 329 L 83 325\" fill=\"none\" paint-order=\"fill stroke markers\" stroke=\"black\" stroke-miterlimit=\"10\"/><path d=\" M 61 329 L 61 325\" fill=\"none\" paint-order=\"fill stroke markers\" stroke=\"black\" stroke-miterlimit=\"10\"/><path d=\" M 105 329 L 105 325\" fill=\"none\" paint-order=\"fill stroke markers\" stroke=\"black\" stroke-miterlimit=\"10\"/><path d=\" M 128 329 L 128 325\" fill=\"none\" paint-order=\"fill stroke markers\" stroke=\"black\" stroke-miterlimit=\"10\"/><path d=\" M 150 329 L 150 325\" fill=\"none\" paint-order=\"fill stroke markers\" stroke=\"black\" stroke-miterlimit=\"10\"/><path d=\" M 172 329 L 172 325\" fill=\"none\" paint-order=\"fill stroke markers\" stroke=\"black\" stroke-miterlimit=\"10\"/><path d=\" M 195 329 L 195 325\" fill=\"none\" paint-order=\"fill stroke markers\" stroke=\"black\" stroke-miterlimit=\"10\"/><path d=\" M 217 329 L 217 325\" fill=\"none\" paint-order=\"fill stroke markers\" stroke=\"black\" stroke-miterlimit=\"10\"/><path d=\" M 240 329 L 240 325\" fill=\"none\" paint-order=\"fill stroke markers\" stroke=\"black\" stroke-miterlimit=\"10\"/><path d=\" M 262 329 L 262 325\" fill=\"none\" paint-order=\"fill stroke markers\" stroke=\"black\" stroke-miterlimit=\"10\"/><path d=\" M 284 329 L 284 325\" fill=\"none\" paint-order=\"fill stroke markers\" stroke=\"black\" stroke-miterlimit=\"10\"/><path d=\" M 307 329 L 307 325\" fill=\"none\" paint-order=\"fill stroke markers\" stroke=\"black\" stroke-miterlimit=\"10\"/><path d=\" M 329 329 L 329 325\" fill=\"none\" paint-order=\"fill stroke markers\" stroke=\"black\" stroke-miterlimit=\"10\"/><path d=\" M 351 329 L 351 325\" fill=\"none\" paint-order=\"fill stroke markers\" stroke=\"black\" stroke-miterlimit=\"10\"/><path d=\" M 374 329 L 374 325\" fill=\"none\" paint-order=\"fill stroke markers\" stroke=\"black\" stroke-miterlimit=\"10\"/><path d=\" M 396 329 L 396 325\" fill=\"none\" paint-order=\"fill stroke markers\" stroke=\"black\" stroke-miterlimit=\"10\"/><path d=\" M 418 329 L 418 325\" fill=\"none\" paint-order=\"fill stroke markers\" stroke=\"black\" stroke-miterlimit=\"10\"/><path d=\" M 441 329 L 441 325\" fill=\"none\" paint-order=\"fill stroke markers\" stroke=\"black\" stroke-miterlimit=\"10\"/><path d=\" M 463 329 L 463 325\" fill=\"none\" paint-order=\"fill stroke markers\" stroke=\"black\" stroke-miterlimit=\"10\"/><path d=\" M 486 329 L 486 325\" fill=\"none\" paint-order=\"fill stroke markers\" stroke=\"black\" stroke-miterlimit=\"10\"/><path d=\" M 508 329 L 508 325\" fill=\"none\" paint-order=\"fill stroke markers\" stroke=\"black\" stroke-miterlimit=\"10\"/><path d=\" M 530 329 L 530 325\" fill=\"none\" paint-order=\"fill stroke markers\" stroke=\"black\" stroke-miterlimit=\"10\"/><path d=\" M 553 329 L 553 325\" fill=\"none\" paint-order=\"fill stroke markers\" stroke=\"black\" stroke-miterlimit=\"10\"/><path d=\" M 575 329 L 575 325\" fill=\"none\" paint-order=\"fill stroke markers\" stroke=\"black\" stroke-miterlimit=\"10\"/><path d=\" M 597 329 L 597 325\" fill=\"none\" paint-order=\"fill stroke markers\" stroke=\"black\" stroke-miterlimit=\"10\"/><path d=\" M 620 329 L 620 325\" fill=\"none\" paint-order=\"fill stroke markers\" stroke=\"black\" stroke-miterlimit=\"10\"/><path d=\" M 642 329 L 642 325\" fill=\"none\" paint-order=\"fill stroke markers\" stroke=\"black\" stroke-miterlimit=\"10\"/><path d=\" M 664 329 L 664 325\" fill=\"none\" paint-order=\"fill stroke markers\" stroke=\"black\" stroke-miterlimit=\"10\"/><text dominant-baseline=\"hanging\" fill=\"#444444\" font-family=\"helvetica\" font-size=\"8pt\" font-style=\"normal\" font-weight=\"normal\" stroke=\"none\" text-anchor=\"middle\" text-decoration=\"normal\" x=\"105\" y=\"336\">10</text><text dominant-baseline=\"hanging\" fill=\"#444444\" font-family=\"helvetica\" font-size=\"8pt\" font-style=\"normal\" font-weight=\"normal\" stroke=\"none\" text-anchor=\"middle\" text-decoration=\"normal\" x=\"217\" y=\"336\">15</text><text dominant-baseline=\"hanging\" fill=\"#444444\" font-family=\"helvetica\" font-size=\"8pt\" font-style=\"normal\" font-weight=\"normal\" stroke=\"none\" text-anchor=\"middle\" text-decoration=\"normal\" x=\"329\" y=\"336\">20</text><text dominant-baseline=\"hanging\" fill=\"#444444\" font-family=\"helvetica\" font-size=\"8pt\" font-style=\"normal\" font-weight=\"normal\" stroke=\"none\" text-anchor=\"middle\" text-decoration=\"normal\" x=\"441\" y=\"336\">25</text><text dominant-baseline=\"hanging\" fill=\"#444444\" font-family=\"helvetica\" font-size=\"8pt\" font-style=\"normal\" font-weight=\"normal\" stroke=\"none\" text-anchor=\"middle\" text-decoration=\"normal\" x=\"553\" y=\"336\">30</text><text dominant-baseline=\"hanging\" fill=\"#444444\" font-family=\"helvetica\" font-size=\"8pt\" font-style=\"normal\" font-weight=\"normal\" stroke=\"none\" text-anchor=\"middle\" text-decoration=\"normal\" x=\"664\" y=\"336\">35</text><text dominant-baseline=\"hanging\" fill=\"#444444\" font-family=\"helvetica\" font-size=\"10pt\" font-style=\"italic\" font-weight=\"normal\" stroke=\"none\" text-anchor=\"middle\" text-decoration=\"normal\" x=\"362.5525\" y=\"354.00000000000006\"/></g><g><path d=\" M 55 325 L 55 4\" fill=\"none\" paint-order=\"fill stroke markers\" stroke=\"black\" stroke-miterlimit=\"10\"/><path d=\" M 49 303 L 57 303\" fill=\"none\" paint-order=\"fill stroke markers\" stroke=\"black\" stroke-miterlimit=\"10\"/><path d=\" M 49 229 L 57 229\" fill=\"none\" paint-order=\"fill stroke markers\" stroke=\"black\" stroke-miterlimit=\"10\"/><path d=\" M 49 156 L 57 156\" fill=\"none\" paint-order=\"fill stroke markers\" stroke=\"black\" stroke-miterlimit=\"10\"/><path d=\" M 49 83 L 57 83\" fill=\"none\" paint-order=\"fill stroke markers\" stroke=\"black\" stroke-miterlimit=\"10\"/><path d=\" M 49 10 L 57 10\" fill=\"none\" paint-order=\"fill stroke markers\" stroke=\"black\" stroke-miterlimit=\"10\"/><path d=\" M 51 317 L 55 317\" fill=\"none\" paint-order=\"fill stroke markers\" stroke=\"black\" stroke-miterlimit=\"10\"/><path d=\" M 51 303 L 55 303\" fill=\"none\" paint-order=\"fill stroke markers\" stroke=\"black\" stroke-miterlimit=\"10\"/><path d=\" M 51 288 L 55 288\" fill=\"none\" paint-order=\"fill stroke markers\" stroke=\"black\" stroke-miterlimit=\"10\"/><path d=\" M 51 273 L 55 273\" fill=\"none\" paint-order=\"fill stroke markers\" stroke=\"black\" stroke-miterlimit=\"10\"/><path d=\" M 51 259 L 55 259\" fill=\"none\" paint-order=\"fill stroke markers\" stroke=\"black\" stroke-miterlimit=\"10\"/><path d=\" M 51 244 L 55 244\" fill=\"none\" paint-order=\"fill stroke markers\" stroke=\"black\" stroke-miterlimit=\"10\"/><path d=\" M 51 229 L 55 229\" fill=\"none\" paint-order=\"fill stroke markers\" stroke=\"black\" stroke-miterlimit=\"10\"/><path d=\" M 51 215 L 55 215\" fill=\"none\" paint-order=\"fill stroke markers\" stroke=\"black\" stroke-miterlimit=\"10\"/><path d=\" M 51 200 L 55 200\" fill=\"none\" paint-order=\"fill stroke markers\" stroke=\"black\" stroke-miterlimit=\"10\"/><path d=\" M 51 186 L 55 186\" fill=\"none\" paint-order=\"fill stroke markers\" stroke=\"black\" stroke-miterlimit=\"10\"/><path d=\" M 51 171 L 55 171\" fill=\"none\" paint-order=\"fill stroke markers\" stroke=\"black\" stroke-miterlimit=\"10\"/><path d=\" M 51 156 L 55 156\" fill=\"none\" paint-order=\"fill stroke markers\" stroke=\"black\" stroke-miterlimit=\"10\"/><path d=\" M 51 142 L 55 142\" fill=\"none\" paint-order=\"fill stroke markers\" stroke=\"black\" stroke-miterlimit=\"10\"/><path d=\" M 51 127 L 55 127\" fill=\"none\" paint-order=\"fill stroke markers\" stroke=\"black\" stroke-miterlimit=\"10\"/><path d=\" M 51 112 L 55 112\" fill=\"none\" paint-order=\"fill stroke markers\" stroke=\"black\" stroke-miterlimit=\"10\"/><path d=\" M 51 98 L 55 98\" fill=\"none\" paint-order=\"fill stroke markers\" stroke=\"black\" stroke-miterlimit=\"10\"/><path d=\" M 51 83 L 55 83\" fill=\"none\" paint-order=\"fill stroke markers\" stroke=\"black\" stroke-miterlimit=\"10\"/><path d=\" M 51 68 L 55 68\" fill=\"none\" paint-order=\"fill stroke markers\" stroke=\"black\" stroke-miterlimit=\"10\"/><path d=\" M 51 54 L 55 54\" fill=\"none\" paint-order=\"fill stroke markers\" stroke=\"black\" stroke-miterlimit=\"10\"/><path d=\" M 51 39 L 55 39\" fill=\"none\" paint-order=\"fill stroke markers\" stroke=\"black\" stroke-miterlimit=\"10\"/><path d=\" M 51 24 L 55 24\" fill=\"none\" paint-order=\"fill stroke markers\" stroke=\"black\" stroke-miterlimit=\"10\"/><path d=\" M 51 10 L 55 10\" fill=\"none\" paint-order=\"fill stroke markers\" stroke=\"black\" stroke-miterlimit=\"10\"/><text dominant-baseline=\"central\" fill=\"#444444\" font-family=\"helvetica\" font-size=\"8pt\" font-style=\"normal\" font-weight=\"normal\" stroke=\"none\" text-anchor=\"end\" text-decoration=\"normal\" x=\"44\" y=\"303\">0.74</text><text dominant-baseline=\"central\" fill=\"#444444\" font-family=\"helvetica\" font-size=\"8pt\" font-style=\"normal\" font-weight=\"normal\" stroke=\"none\" text-anchor=\"end\" text-decoration=\"normal\" x=\"44\" y=\"229\">0.76</text><text dominant-baseline=\"central\" fill=\"#444444\" font-family=\"helvetica\" font-size=\"8pt\" font-style=\"normal\" font-weight=\"normal\" stroke=\"none\" text-anchor=\"end\" text-decoration=\"normal\" x=\"44\" y=\"156\">0.78</text><text dominant-baseline=\"central\" fill=\"#444444\" font-family=\"helvetica\" font-size=\"8pt\" font-style=\"normal\" font-weight=\"normal\" stroke=\"none\" text-anchor=\"end\" text-decoration=\"normal\" x=\"44\" y=\"83\">0.8</text><text dominant-baseline=\"central\" fill=\"#444444\" font-family=\"helvetica\" font-size=\"8pt\" font-style=\"normal\" font-weight=\"normal\" stroke=\"none\" text-anchor=\"end\" text-decoration=\"normal\" x=\"44\" y=\"10\">0.82</text><g transform=\"translate(15.592500000000001,164.40750000000003) rotate(-90,0,0)\"><text dominant-baseline=\"alphabetic\" fill=\"#444444\" font-family=\"helvetica\" font-size=\"10pt\" font-style=\"italic\" font-weight=\"normal\" stroke=\"none\" text-anchor=\"middle\" text-decoration=\"normal\" x=\"0\" y=\"0\">AUC</text><g transform=\"rotate(90,0,0) translate(-15.592500000000001,-164.40750000000003)\"/></g></g></g></g></g></svg>"
      ],
      "text/plain": [
       "<IPython.core.display.SVG object>"
      ]
     },
     "metadata": {},
     "output_type": "display_data"
    }
   ],
   "source": [
    "# Render SVG so that it is visible on Github\n",
    "read_svg_from_nb(bci_notebook, '# SVG: XGB Retrain Results')"
   ]
  },
  {
   "cell_type": "code",
   "execution_count": 54,
   "metadata": {},
   "outputs": [
    {
     "data": {
      "text/html": [
       "\n",
       "\n",
       "    <div class=\"bk-root\">\n",
       "        <div class=\"bk-plotdiv\" id=\"17434a6e-ff8f-451d-931c-e3a63412d59d\"></div>\n",
       "    </div>\n",
       "<script type=\"text/javascript\">\n",
       "  \n",
       "  (function(global) {\n",
       "    function now() {\n",
       "      return new Date();\n",
       "    }\n",
       "  \n",
       "    var force = false;\n",
       "  \n",
       "    if (typeof (window._bokeh_onload_callbacks) === \"undefined\" || force === true) {\n",
       "      window._bokeh_onload_callbacks = [];\n",
       "      window._bokeh_is_loading = undefined;\n",
       "    }\n",
       "  \n",
       "  \n",
       "    \n",
       "    if (typeof (window._bokeh_timeout) === \"undefined\" || force === true) {\n",
       "      window._bokeh_timeout = Date.now() + 0;\n",
       "      window._bokeh_failed_load = false;\n",
       "    }\n",
       "  \n",
       "    var NB_LOAD_WARNING = {'data': {'text/html':\n",
       "       \"<div style='background-color: #fdd'>\\n\"+\n",
       "       \"<p>\\n\"+\n",
       "       \"BokehJS does not appear to have successfully loaded. If loading BokehJS from CDN, this \\n\"+\n",
       "       \"may be due to a slow or bad network connection. Possible fixes:\\n\"+\n",
       "       \"</p>\\n\"+\n",
       "       \"<ul>\\n\"+\n",
       "       \"<li>re-rerun `output_notebook()` to attempt to load from CDN again, or</li>\\n\"+\n",
       "       \"<li>use INLINE resources instead, as so:</li>\\n\"+\n",
       "       \"</ul>\\n\"+\n",
       "       \"<code>\\n\"+\n",
       "       \"from bokeh.resources import INLINE\\n\"+\n",
       "       \"output_notebook(resources=INLINE)\\n\"+\n",
       "       \"</code>\\n\"+\n",
       "       \"</div>\"}};\n",
       "  \n",
       "    function display_loaded() {\n",
       "      if (window.Bokeh !== undefined) {\n",
       "        var el = document.getElementById(\"17434a6e-ff8f-451d-931c-e3a63412d59d\");\n",
       "        el.textContent = \"BokehJS \" + Bokeh.version + \" successfully loaded.\";\n",
       "      } else if (Date.now() < window._bokeh_timeout) {\n",
       "        setTimeout(display_loaded, 100)\n",
       "      }\n",
       "    }\n",
       "  \n",
       "    function run_callbacks() {\n",
       "      try {\n",
       "        window._bokeh_onload_callbacks.forEach(function(callback) { callback() });\n",
       "      }\n",
       "      finally {\n",
       "        delete window._bokeh_onload_callbacks\n",
       "      }\n",
       "      console.info(\"Bokeh: all callbacks have finished\");\n",
       "    }\n",
       "  \n",
       "    function load_libs(js_urls, callback) {\n",
       "      window._bokeh_onload_callbacks.push(callback);\n",
       "      if (window._bokeh_is_loading > 0) {\n",
       "        console.log(\"Bokeh: BokehJS is being loaded, scheduling callback at\", now());\n",
       "        return null;\n",
       "      }\n",
       "      if (js_urls == null || js_urls.length === 0) {\n",
       "        run_callbacks();\n",
       "        return null;\n",
       "      }\n",
       "      console.log(\"Bokeh: BokehJS not loaded, scheduling load and callback at\", now());\n",
       "      window._bokeh_is_loading = js_urls.length;\n",
       "      for (var i = 0; i < js_urls.length; i++) {\n",
       "        var url = js_urls[i];\n",
       "        var s = document.createElement('script');\n",
       "        s.src = url;\n",
       "        s.async = false;\n",
       "        s.onreadystatechange = s.onload = function() {\n",
       "          window._bokeh_is_loading--;\n",
       "          if (window._bokeh_is_loading === 0) {\n",
       "            console.log(\"Bokeh: all BokehJS libraries loaded\");\n",
       "            run_callbacks()\n",
       "          }\n",
       "        };\n",
       "        s.onerror = function() {\n",
       "          console.warn(\"failed to load library \" + url);\n",
       "        };\n",
       "        console.log(\"Bokeh: injecting script tag for BokehJS library: \", url);\n",
       "        document.getElementsByTagName(\"head\")[0].appendChild(s);\n",
       "      }\n",
       "    };var element = document.getElementById(\"17434a6e-ff8f-451d-931c-e3a63412d59d\");\n",
       "    if (element == null) {\n",
       "      console.log(\"Bokeh: ERROR: autoload.js configured with elementid '17434a6e-ff8f-451d-931c-e3a63412d59d' but no matching script tag was found. \")\n",
       "      return false;\n",
       "    }\n",
       "  \n",
       "    var js_urls = [];\n",
       "  \n",
       "    var inline_js = [\n",
       "      function(Bokeh) {\n",
       "        (function() {\n",
       "          var fn = function() {\n",
       "            var docs_json = {\"892d030a-a33d-4eef-8b53-322314f93283\":{\"roots\":{\"references\":[{\"attributes\":{\"line_alpha\":{\"value\":0.1},\"line_cap\":\"round\",\"line_color\":{\"value\":\"#1f77b4\"},\"line_width\":{\"value\":6},\"x\":{\"field\":\"index\"},\"y\":{\"field\":\"Train AUC\"}},\"id\":\"ce8f3d9d-03dd-486c-a416-5c8d001940e1\",\"type\":\"Line\"},{\"attributes\":{\"below\":[{\"id\":\"60255611-c8f9-4d58-9048-7ca877531e55\",\"type\":\"LinearAxis\"}],\"left\":[{\"id\":\"35aebc56-f212-49e9-b99a-044bc7889ffb\",\"type\":\"LinearAxis\"}],\"plot_height\":350,\"plot_width\":700,\"renderers\":[{\"id\":\"60255611-c8f9-4d58-9048-7ca877531e55\",\"type\":\"LinearAxis\"},{\"id\":\"ef01329c-b249-43e5-ade8-f5b6f310fe82\",\"type\":\"Grid\"},{\"id\":\"35aebc56-f212-49e9-b99a-044bc7889ffb\",\"type\":\"LinearAxis\"},{\"id\":\"4e40a651-b0b5-4282-aca8-326f531e5a7d\",\"type\":\"Grid\"},{\"id\":\"b340f9ad-4818-4f31-bd8d-1ed09d71b6c5\",\"type\":\"BoxAnnotation\"},{\"id\":\"c688c8b4-a9e8-4e83-a322-ce07566259cd\",\"type\":\"Legend\"},{\"id\":\"9ff2f442-f897-4200-8bf2-e8883acaa2c1\",\"type\":\"GlyphRenderer\"},{\"id\":\"8f69b42d-4a04-44a1-9d6d-88d8bb6cf676\",\"type\":\"GlyphRenderer\"},{\"id\":\"05fe9b89-8b35-4da3-92b2-e9ba73bb431e\",\"type\":\"GlyphRenderer\"},{\"id\":\"21755db6-d54a-43d7-ae44-b4960529d24e\",\"type\":\"GlyphRenderer\"}],\"title\":{\"id\":\"713135c8-3cff-4f38-8900-aba35e8fc75b\",\"type\":\"Title\"},\"tool_events\":{\"id\":\"eb8333b5-3b0f-41c7-b026-f1cfe60f10c7\",\"type\":\"ToolEvents\"},\"toolbar\":{\"id\":\"70cf5b5c-c975-40ff-9557-b343444845cc\",\"type\":\"Toolbar\"},\"x_range\":{\"id\":\"4f4af4fc-20f5-48a9-a924-89b70f31cbd9\",\"type\":\"DataRange1d\"},\"x_scale\":{\"id\":\"d4672997-fc3e-48b4-8ace-9e8f280e7724\",\"type\":\"LinearScale\"},\"y_range\":{\"id\":\"f4745164-eab6-466e-be9f-d273c06fbd26\",\"type\":\"DataRange1d\"},\"y_scale\":{\"id\":\"a95ca8b9-d853-4417-aaff-2fa157a7c208\",\"type\":\"LinearScale\"}},\"id\":\"eb6024af-a56b-41a9-b49a-e416fde1cb57\",\"subtype\":\"Figure\",\"type\":\"Plot\"},{\"attributes\":{\"data_source\":{\"id\":\"e272befc-366a-4270-afe4-3ae128ab78d1\",\"type\":\"ColumnDataSource\"},\"glyph\":{\"id\":\"7ad55ad1-dbec-4fb5-82bc-afc9fd6b20ee\",\"type\":\"Line\"},\"hover_glyph\":null,\"muted_glyph\":null,\"nonselection_glyph\":{\"id\":\"ce8f3d9d-03dd-486c-a416-5c8d001940e1\",\"type\":\"Line\"},\"selection_glyph\":null},\"id\":\"9ff2f442-f897-4200-8bf2-e8883acaa2c1\",\"type\":\"GlyphRenderer\"},{\"attributes\":{},\"id\":\"eb8333b5-3b0f-41c7-b026-f1cfe60f10c7\",\"type\":\"ToolEvents\"},{\"attributes\":{\"callback\":null},\"id\":\"4f4af4fc-20f5-48a9-a924-89b70f31cbd9\",\"type\":\"DataRange1d\"},{\"attributes\":{\"active_drag\":\"auto\",\"active_inspect\":\"auto\",\"active_scroll\":\"auto\",\"active_tap\":\"auto\",\"tools\":[{\"id\":\"ec0009ca-ce33-4743-8a2b-b67ab3edf36a\",\"type\":\"PanTool\"},{\"id\":\"b6410056-d55d-4d65-a7ac-a78d9cf208ca\",\"type\":\"WheelZoomTool\"},{\"id\":\"175be78a-5e27-420d-b94c-7b2ceceff840\",\"type\":\"BoxZoomTool\"},{\"id\":\"8eb961f1-cc4c-4965-9a66-5c6fea8e3f79\",\"type\":\"ResetTool\"},{\"id\":\"2fc64793-743b-48b3-9e19-66bd5dd108e0\",\"type\":\"HoverTool\"}]},\"id\":\"70cf5b5c-c975-40ff-9557-b343444845cc\",\"type\":\"Toolbar\"},{\"attributes\":{\"callback\":null},\"id\":\"f4745164-eab6-466e-be9f-d273c06fbd26\",\"type\":\"DataRange1d\"},{\"attributes\":{},\"id\":\"d4672997-fc3e-48b4-8ace-9e8f280e7724\",\"type\":\"LinearScale\"},{\"attributes\":{},\"id\":\"a95ca8b9-d853-4417-aaff-2fa157a7c208\",\"type\":\"LinearScale\"},{\"attributes\":{\"plot\":{\"id\":\"eb6024af-a56b-41a9-b49a-e416fde1cb57\",\"subtype\":\"Figure\",\"type\":\"Plot\"},\"ticker\":{\"id\":\"be72a971-8984-476b-ac80-195b083dbc2f\",\"type\":\"BasicTicker\"}},\"id\":\"ef01329c-b249-43e5-ade8-f5b6f310fe82\",\"type\":\"Grid\"},{\"attributes\":{\"formatter\":{\"id\":\"f5b4415f-2dd6-4571-b24c-eeca379cd18c\",\"type\":\"BasicTickFormatter\"},\"plot\":{\"id\":\"eb6024af-a56b-41a9-b49a-e416fde1cb57\",\"subtype\":\"Figure\",\"type\":\"Plot\"},\"ticker\":{\"id\":\"be72a971-8984-476b-ac80-195b083dbc2f\",\"type\":\"BasicTicker\"}},\"id\":\"60255611-c8f9-4d58-9048-7ca877531e55\",\"type\":\"LinearAxis\"},{\"attributes\":{},\"id\":\"be72a971-8984-476b-ac80-195b083dbc2f\",\"type\":\"BasicTicker\"},{\"attributes\":{\"axis_label\":\"AUC\",\"formatter\":{\"id\":\"5c4caae2-091a-4800-a630-cc43f1b4001f\",\"type\":\"BasicTickFormatter\"},\"plot\":{\"id\":\"eb6024af-a56b-41a9-b49a-e416fde1cb57\",\"subtype\":\"Figure\",\"type\":\"Plot\"},\"ticker\":{\"id\":\"adbb90e9-1b7c-47cd-9167-1c777daf7ed3\",\"type\":\"BasicTicker\"}},\"id\":\"35aebc56-f212-49e9-b99a-044bc7889ffb\",\"type\":\"LinearAxis\"},{\"attributes\":{},\"id\":\"adbb90e9-1b7c-47cd-9167-1c777daf7ed3\",\"type\":\"BasicTicker\"},{\"attributes\":{\"dimension\":1,\"plot\":{\"id\":\"eb6024af-a56b-41a9-b49a-e416fde1cb57\",\"subtype\":\"Figure\",\"type\":\"Plot\"},\"ticker\":{\"id\":\"adbb90e9-1b7c-47cd-9167-1c777daf7ed3\",\"type\":\"BasicTicker\"}},\"id\":\"4e40a651-b0b5-4282-aca8-326f531e5a7d\",\"type\":\"Grid\"},{\"attributes\":{},\"id\":\"f5b4415f-2dd6-4571-b24c-eeca379cd18c\",\"type\":\"BasicTickFormatter\"},{\"attributes\":{\"plot\":{\"id\":\"eb6024af-a56b-41a9-b49a-e416fde1cb57\",\"subtype\":\"Figure\",\"type\":\"Plot\"}},\"id\":\"ec0009ca-ce33-4743-8a2b-b67ab3edf36a\",\"type\":\"PanTool\"},{\"attributes\":{\"line_cap\":\"round\",\"line_color\":{\"value\":\"#5f9e6f\"},\"line_width\":{\"value\":6},\"x\":{\"field\":\"index\"},\"y\":{\"field\":\"Train AUC\"}},\"id\":\"7ad55ad1-dbec-4fb5-82bc-afc9fd6b20ee\",\"type\":\"Line\"},{\"attributes\":{\"plot\":{\"id\":\"eb6024af-a56b-41a9-b49a-e416fde1cb57\",\"subtype\":\"Figure\",\"type\":\"Plot\"}},\"id\":\"b6410056-d55d-4d65-a7ac-a78d9cf208ca\",\"type\":\"WheelZoomTool\"},{\"attributes\":{\"overlay\":{\"id\":\"b340f9ad-4818-4f31-bd8d-1ed09d71b6c5\",\"type\":\"BoxAnnotation\"},\"plot\":{\"id\":\"eb6024af-a56b-41a9-b49a-e416fde1cb57\",\"subtype\":\"Figure\",\"type\":\"Plot\"}},\"id\":\"175be78a-5e27-420d-b94c-7b2ceceff840\",\"type\":\"BoxZoomTool\"},{\"attributes\":{\"plot\":{\"id\":\"eb6024af-a56b-41a9-b49a-e416fde1cb57\",\"subtype\":\"Figure\",\"type\":\"Plot\"}},\"id\":\"8eb961f1-cc4c-4965-9a66-5c6fea8e3f79\",\"type\":\"ResetTool\"},{\"attributes\":{\"bottom_units\":\"screen\",\"fill_alpha\":{\"value\":0.5},\"fill_color\":{\"value\":\"lightgrey\"},\"left_units\":\"screen\",\"level\":\"overlay\",\"line_alpha\":{\"value\":1.0},\"line_color\":{\"value\":\"black\"},\"line_dash\":[4,4],\"line_width\":{\"value\":2},\"plot\":null,\"render_mode\":\"css\",\"right_units\":\"screen\",\"top_units\":\"screen\"},\"id\":\"b340f9ad-4818-4f31-bd8d-1ed09d71b6c5\",\"type\":\"BoxAnnotation\"},{\"attributes\":{\"callback\":null,\"column_names\":[\"Train AUC\",\"Retrain AUC\",\"index\"],\"data\":{\"Retrain AUC\":{\"__ndarray__\":\"VvppraUp6j+m9A79n87pP6qzQsR/suk/Anxk2y9r6T/dBmJBJ1DpPzp4PlSMKuk/Zg4kVIEl6T9y7C8v5CXpPz8bPY6J3+g/43Vw+CLg6D/iebbZzMHoPz8+CoEhveg/HTXqxcR76D+kFF3Hd4roPyWqoFLkceg/hPfcff566D9irGi+G2DoP/Z23AZNMeg/JteNJ45M6D8YWd83tFLoP28bX/lwdOg/vBESTY+e6D83NwbYBIHoPwgzo19cbOg/jwJUi5xa6D82OLXY3y/oPw==\",\"dtype\":\"float64\",\"shape\":[26]},\"Train AUC\":{\"__ndarray__\":\"dqghcxgp6j9A2Ldve/LpPzh28W2awek/CsBg8eaR6T8bmzB0/2vpP4DO4ZsoRuk/0c9AsmQp6T/qzXd3DQvpP8UT5eTQ7eg/gbeX2jXT6D/u2LxZ2rjoP6iYMPtymug/Ll1ovgN86D9QHMMVO2XoP3SA3pqEUeg/h2BQ9kU+6D+vaocMuyvoP5aX113rGOg/qoXnsjUG6D/6sBjC1vLnPw6Rih2Y3+c/qtP+8YbR5z82JfU9H8TnPxJGshoDuOc/+kSKwaGq5z/+p2FFU53nPw==\",\"dtype\":\"float64\",\"shape\":[26]},\"index\":[9,10,11,12,13,14,15,16,17,18,19,20,21,22,23,24,25,26,27,28,29,30,31,32,33,34]}},\"id\":\"e272befc-366a-4270-afe4-3ae128ab78d1\",\"type\":\"ColumnDataSource\"},{\"attributes\":{\"plot\":null,\"text\":\"\"},\"id\":\"713135c8-3cff-4f38-8900-aba35e8fc75b\",\"type\":\"Title\"},{\"attributes\":{},\"id\":\"5c4caae2-091a-4800-a630-cc43f1b4001f\",\"type\":\"BasicTickFormatter\"},{\"attributes\":{\"items\":[{\"id\":\"0a7844f8-644d-4b9f-9d4d-4da66997df4a\",\"type\":\"LegendItem\"},{\"id\":\"be208558-b6fd-4d26-97b3-aedde0cdb236\",\"type\":\"LegendItem\"}],\"plot\":{\"id\":\"eb6024af-a56b-41a9-b49a-e416fde1cb57\",\"subtype\":\"Figure\",\"type\":\"Plot\"}},\"id\":\"c688c8b4-a9e8-4e83-a322-ce07566259cd\",\"type\":\"Legend\"},{\"attributes\":{\"fill_color\":{\"value\":\"white\"},\"line_color\":{\"value\":\"#5975a4\"},\"line_width\":{\"value\":1.5},\"size\":{\"units\":\"screen\",\"value\":6},\"x\":{\"field\":\"index\"},\"y\":{\"field\":\"Train AUC\"}},\"id\":\"cd8fdf08-3d71-466e-a3c8-17c2e4705c9a\",\"type\":\"Circle\"},{\"attributes\":{\"label\":{\"value\":\" Train AUC\"},\"renderers\":[{\"id\":\"9ff2f442-f897-4200-8bf2-e8883acaa2c1\",\"type\":\"GlyphRenderer\"}]},\"id\":\"0a7844f8-644d-4b9f-9d4d-4da66997df4a\",\"type\":\"LegendItem\"},{\"attributes\":{\"line_cap\":\"round\",\"line_color\":{\"value\":\"#a2cfae\"},\"line_width\":{\"value\":6},\"x\":{\"field\":\"index\"},\"y\":{\"field\":\"Retrain AUC\"}},\"id\":\"e0462c4a-c719-484e-9f47-c377576a83c6\",\"type\":\"Line\"},{\"attributes\":{\"data_source\":{\"id\":\"e272befc-366a-4270-afe4-3ae128ab78d1\",\"type\":\"ColumnDataSource\"},\"glyph\":{\"id\":\"cd8fdf08-3d71-466e-a3c8-17c2e4705c9a\",\"type\":\"Circle\"},\"hover_glyph\":null,\"muted_glyph\":null,\"nonselection_glyph\":{\"id\":\"c9f877cc-409c-4f0a-bfd8-f0110d277ace\",\"type\":\"Circle\"},\"selection_glyph\":null},\"id\":\"8f69b42d-4a04-44a1-9d6d-88d8bb6cf676\",\"type\":\"GlyphRenderer\"},{\"attributes\":{\"fill_alpha\":{\"value\":0.1},\"fill_color\":{\"value\":\"#1f77b4\"},\"line_alpha\":{\"value\":0.1},\"line_color\":{\"value\":\"#1f77b4\"},\"line_width\":{\"value\":1.5},\"size\":{\"units\":\"screen\",\"value\":6},\"x\":{\"field\":\"index\"},\"y\":{\"field\":\"Train AUC\"}},\"id\":\"c9f877cc-409c-4f0a-bfd8-f0110d277ace\",\"type\":\"Circle\"},{\"attributes\":{\"line_alpha\":{\"value\":0.1},\"line_cap\":\"round\",\"line_color\":{\"value\":\"#1f77b4\"},\"line_width\":{\"value\":6},\"x\":{\"field\":\"index\"},\"y\":{\"field\":\"Retrain AUC\"}},\"id\":\"7334f57d-b709-4314-a959-71bca5d93a61\",\"type\":\"Line\"},{\"attributes\":{\"data_source\":{\"id\":\"e272befc-366a-4270-afe4-3ae128ab78d1\",\"type\":\"ColumnDataSource\"},\"glyph\":{\"id\":\"e0462c4a-c719-484e-9f47-c377576a83c6\",\"type\":\"Line\"},\"hover_glyph\":null,\"muted_glyph\":null,\"nonselection_glyph\":{\"id\":\"7334f57d-b709-4314-a959-71bca5d93a61\",\"type\":\"Line\"},\"selection_glyph\":null},\"id\":\"05fe9b89-8b35-4da3-92b2-e9ba73bb431e\",\"type\":\"GlyphRenderer\"},{\"attributes\":{\"label\":{\"value\":\" Retrain AUC\"},\"renderers\":[{\"id\":\"05fe9b89-8b35-4da3-92b2-e9ba73bb431e\",\"type\":\"GlyphRenderer\"}]},\"id\":\"be208558-b6fd-4d26-97b3-aedde0cdb236\",\"type\":\"LegendItem\"},{\"attributes\":{\"fill_color\":{\"value\":\"white\"},\"line_color\":{\"value\":\"#a1bae3\"},\"line_width\":{\"value\":1.5},\"size\":{\"units\":\"screen\",\"value\":6},\"x\":{\"field\":\"index\"},\"y\":{\"field\":\"Retrain AUC\"}},\"id\":\"72042f8a-b7b6-4125-aed7-ecd7738282f9\",\"type\":\"Circle\"},{\"attributes\":{\"callback\":null,\"mode\":\"vline\",\"plot\":{\"id\":\"eb6024af-a56b-41a9-b49a-e416fde1cb57\",\"subtype\":\"Figure\",\"type\":\"Plot\"},\"renderers\":[{\"id\":\"9ff2f442-f897-4200-8bf2-e8883acaa2c1\",\"type\":\"GlyphRenderer\"}],\"tooltips\":[[\"Train AUC\",\"@{Train AUC}{0.4f}\"],[\"Retrain AUC\",\"@{Retrain AUC}{0.4f}\"]]},\"id\":\"2fc64793-743b-48b3-9e19-66bd5dd108e0\",\"type\":\"HoverTool\"},{\"attributes\":{\"fill_alpha\":{\"value\":0.1},\"fill_color\":{\"value\":\"#1f77b4\"},\"line_alpha\":{\"value\":0.1},\"line_color\":{\"value\":\"#1f77b4\"},\"line_width\":{\"value\":1.5},\"size\":{\"units\":\"screen\",\"value\":6},\"x\":{\"field\":\"index\"},\"y\":{\"field\":\"Retrain AUC\"}},\"id\":\"b10279eb-a421-41c5-a7fa-fe398362ba6c\",\"type\":\"Circle\"},{\"attributes\":{\"data_source\":{\"id\":\"e272befc-366a-4270-afe4-3ae128ab78d1\",\"type\":\"ColumnDataSource\"},\"glyph\":{\"id\":\"72042f8a-b7b6-4125-aed7-ecd7738282f9\",\"type\":\"Circle\"},\"hover_glyph\":null,\"muted_glyph\":null,\"nonselection_glyph\":{\"id\":\"b10279eb-a421-41c5-a7fa-fe398362ba6c\",\"type\":\"Circle\"},\"selection_glyph\":null},\"id\":\"21755db6-d54a-43d7-ae44-b4960529d24e\",\"type\":\"GlyphRenderer\"}],\"root_ids\":[\"eb6024af-a56b-41a9-b49a-e416fde1cb57\"]},\"title\":\"Bokeh Application\",\"version\":\"0.12.6\"}};\n",
       "            var render_items = [{\"docid\":\"892d030a-a33d-4eef-8b53-322314f93283\",\"elementid\":\"17434a6e-ff8f-451d-931c-e3a63412d59d\",\"modelid\":\"eb6024af-a56b-41a9-b49a-e416fde1cb57\"}];\n",
       "            \n",
       "            Bokeh.embed.embed_items(docs_json, render_items);\n",
       "          };\n",
       "          if (document.readyState != \"loading\") fn();\n",
       "          else document.addEventListener(\"DOMContentLoaded\", fn);\n",
       "        })();\n",
       "      },\n",
       "      function(Bokeh) {\n",
       "      }\n",
       "    ];\n",
       "  \n",
       "    function run_inline_js() {\n",
       "      \n",
       "      if ((window.Bokeh !== undefined) || (force === true)) {\n",
       "        for (var i = 0; i < inline_js.length; i++) {\n",
       "          inline_js[i](window.Bokeh);\n",
       "        }if (force === true) {\n",
       "          display_loaded();\n",
       "        }} else if (Date.now() < window._bokeh_timeout) {\n",
       "        setTimeout(run_inline_js, 100);\n",
       "      } else if (!window._bokeh_failed_load) {\n",
       "        console.log(\"Bokeh: BokehJS failed to load within specified timeout.\");\n",
       "        window._bokeh_failed_load = true;\n",
       "      } else if (force !== true) {\n",
       "        var cell = $(document.getElementById(\"17434a6e-ff8f-451d-931c-e3a63412d59d\")).parents('.cell').data().cell;\n",
       "        cell.output_area.append_execute_result(NB_LOAD_WARNING)\n",
       "      }\n",
       "  \n",
       "    }\n",
       "  \n",
       "    if (window._bokeh_is_loading === 0) {\n",
       "      console.log(\"Bokeh: BokehJS loaded, going straight to plotting\");\n",
       "      run_inline_js();\n",
       "    } else {\n",
       "      load_libs(js_urls, function() {\n",
       "        console.log(\"Bokeh: BokehJS plotting callback run at\", now());\n",
       "        run_inline_js();\n",
       "      });\n",
       "    }\n",
       "  }(this));\n",
       "</script>"
      ],
      "text/plain": [
       "<IPython.core.display.HTML object>"
      ]
     },
     "metadata": {},
     "output_type": "display_data"
    }
   ],
   "source": [
    "read_html_from_nb(bci_notebook, '# LGBM Retrain Results')"
   ]
  },
  {
   "cell_type": "code",
   "execution_count": 55,
   "metadata": {},
   "outputs": [
    {
     "data": {
      "image/svg+xml": [
       "<svg height=\"350\" style=\"width: 700px; height: 350px;\" version=\"1.1\" width=\"700\" xmlns=\"http://www.w3.org/2000/svg\" xmlns:xlink=\"http://www.w3.org/1999/xlink\"><defs/><g><g/><g transform=\"scale(1,1) translate(0.5,0.5)\"><rect fill=\"#FFFFFF\" height=\"350\" stroke=\"none\" width=\"700\" x=\"0\" y=\"0\"/><rect fill=\"#ffffff\" height=\"350\" stroke=\"none\" width=\"700\" x=\"0\" y=\"0\"/><rect fill=\"#FFFFFF\" height=\"320.815\" stroke=\"none\" width=\"614.895\" x=\"55.105000000000004\" y=\"4\"/><rect fill=\"#ffffff\" height=\"320.815\" stroke=\"none\" width=\"614.895\" x=\"55.105000000000004\" y=\"4\"/><g><rect fill=\"none\" height=\"320.815\" stroke=\"#e5e5e5\" stroke-miterlimit=\"10\" width=\"614.895\" x=\"55.105000000000004\" y=\"4\"/></g><g><g><path d=\" M 105 325 L 105 4\" fill=\"none\" paint-order=\"fill stroke markers\" stroke=\"#e5e5e5\" stroke-miterlimit=\"10\"/><path d=\" M 217 325 L 217 4\" fill=\"none\" paint-order=\"fill stroke markers\" stroke=\"#e5e5e5\" stroke-miterlimit=\"10\"/><path d=\" M 329 325 L 329 4\" fill=\"none\" paint-order=\"fill stroke markers\" stroke=\"#e5e5e5\" stroke-miterlimit=\"10\"/><path d=\" M 441 325 L 441 4\" fill=\"none\" paint-order=\"fill stroke markers\" stroke=\"#e5e5e5\" stroke-miterlimit=\"10\"/><path d=\" M 553 325 L 553 4\" fill=\"none\" paint-order=\"fill stroke markers\" stroke=\"#e5e5e5\" stroke-miterlimit=\"10\"/><path d=\" M 664 325 L 664 4\" fill=\"none\" paint-order=\"fill stroke markers\" stroke=\"#e5e5e5\" stroke-miterlimit=\"10\"/></g><g><path d=\" M 55 303 L 670 303\" fill=\"none\" paint-order=\"fill stroke markers\" stroke=\"#e5e5e5\" stroke-miterlimit=\"10\"/><path d=\" M 55 229 L 670 229\" fill=\"none\" paint-order=\"fill stroke markers\" stroke=\"#e5e5e5\" stroke-miterlimit=\"10\"/><path d=\" M 55 156 L 670 156\" fill=\"none\" paint-order=\"fill stroke markers\" stroke=\"#e5e5e5\" stroke-miterlimit=\"10\"/><path d=\" M 55 83 L 670 83\" fill=\"none\" paint-order=\"fill stroke markers\" stroke=\"#e5e5e5\" stroke-miterlimit=\"10\"/><path d=\" M 55 10 L 670 10\" fill=\"none\" paint-order=\"fill stroke markers\" stroke=\"#e5e5e5\" stroke-miterlimit=\"10\"/></g><g><path fill=\"none\" stroke=\"none\"/><path d=\" M 83.05477272727278 18.82914927219008 L 105.41459090909096 43.24650927322955 L 127.77440909090915 65.10004647416054 L 150.1342272727273 86.42698873070822 L 172.49404545454547 103.37379930285897 L 194.85386363636366 120.29154158929396 L 217.21368181818184 133.15236226064962 L 239.57350000000002 146.71756226122807 L 261.9333181818182 159.78911137456635 L 284.2931363636364 171.68435942476253 L 306.6529545454546 183.46864245383586 L 329.01277272727276 197.06202988298674 L 351.37259090909095 210.6691586835659 L 373.73240909090913 220.8556970690929 L 396.0922272727273 229.6692012980402 L 418.45204545454544 238.27341386983562 L 440.8118636363637 246.56373491366685 L 463.1716818181818 254.97415891402534 L 485.53150000000005 263.33914923017073 L 507.8913181818182 271.9997689101733 L 530.2511363636364 280.6039814819683 L 552.6109545454545 286.89330148223644 L 574.9707727272728 292.8866534824915 L 597.3305909090909 298.30093765663514 L 619.690409090909 304.2831908568901 L 642.0502272727273 310.2325000000001\" fill=\"none\" paint-order=\"fill stroke markers\" stroke=\"#5f9e6f\" stroke-linecap=\"round\" stroke-miterlimit=\"10\" stroke-width=\"6\"/></g><g><path fill=\"none\" stroke=\"none\"/><path d=\" M 466.1716818181818 254.97415891402534 A 3 3 0 1 1 466.1716803181819 254.97115891452535\" fill=\"white\" paint-order=\"fill stroke markers\" stroke=\"#5975a4\" stroke-miterlimit=\"10\" stroke-width=\"1.5\"/><path d=\" M 443.8118636363637 246.56373491366685 A 3 3 0 1 1 443.8118621363638 246.56073491416686\" fill=\"white\" paint-order=\"fill stroke markers\" stroke=\"#5975a4\" stroke-miterlimit=\"10\" stroke-width=\"1.5\"/><path d=\" M 421.45204545454544 238.27341386983562 A 3 3 0 1 1 421.45204395454556 238.27041387033563\" fill=\"white\" paint-order=\"fill stroke markers\" stroke=\"#5975a4\" stroke-miterlimit=\"10\" stroke-width=\"1.5\"/><path d=\" M 399.0922272727273 229.6692012980402 A 3 3 0 1 1 399.09222577272743 229.66620129854022\" fill=\"white\" paint-order=\"fill stroke markers\" stroke=\"#5975a4\" stroke-miterlimit=\"10\" stroke-width=\"1.5\"/><path d=\" M 376.73240909090913 220.8556970690929 A 3 3 0 1 1 376.73240759090925 220.85269706959292\" fill=\"white\" paint-order=\"fill stroke markers\" stroke=\"#5975a4\" stroke-miterlimit=\"10\" stroke-width=\"1.5\"/><path d=\" M 354.37259090909095 210.6691586835659 A 3 3 0 1 1 354.37258940909106 210.66615868406592\" fill=\"white\" paint-order=\"fill stroke markers\" stroke=\"#5975a4\" stroke-miterlimit=\"10\" stroke-width=\"1.5\"/><path d=\" M 332.01277272727276 197.06202988298674 A 3 3 0 1 1 332.0127712272729 197.05902988348674\" fill=\"white\" paint-order=\"fill stroke markers\" stroke=\"#5975a4\" stroke-miterlimit=\"10\" stroke-width=\"1.5\"/><path d=\" M 309.6529545454546 183.46864245383586 A 3 3 0 1 1 309.6529530454547 183.46564245433586\" fill=\"white\" paint-order=\"fill stroke markers\" stroke=\"#5975a4\" stroke-miterlimit=\"10\" stroke-width=\"1.5\"/><path d=\" M 287.2931363636364 171.68435942476253 A 3 3 0 1 1 287.2931348636365 171.68135942526254\" fill=\"white\" paint-order=\"fill stroke markers\" stroke=\"#5975a4\" stroke-miterlimit=\"10\" stroke-width=\"1.5\"/><path d=\" M 264.9333181818182 159.78911137456635 A 3 3 0 1 1 264.9333166818183 159.78611137506635\" fill=\"white\" paint-order=\"fill stroke markers\" stroke=\"#5975a4\" stroke-miterlimit=\"10\" stroke-width=\"1.5\"/><path d=\" M 242.57350000000002 146.71756226122807 A 3 3 0 1 1 242.57349850000014 146.71456226172808\" fill=\"white\" paint-order=\"fill stroke markers\" stroke=\"#5975a4\" stroke-miterlimit=\"10\" stroke-width=\"1.5\"/><path d=\" M 220.21368181818184 133.15236226064962 A 3 3 0 1 1 220.21368031818196 133.14936226114963\" fill=\"white\" paint-order=\"fill stroke markers\" stroke=\"#5975a4\" stroke-miterlimit=\"10\" stroke-width=\"1.5\"/><path d=\" M 197.85386363636366 120.29154158929396 A 3 3 0 1 1 197.85386213636377 120.28854158979395\" fill=\"white\" paint-order=\"fill stroke markers\" stroke=\"#5975a4\" stroke-miterlimit=\"10\" stroke-width=\"1.5\"/><path d=\" M 175.49404545454547 103.37379930285897 A 3 3 0 1 1 175.4940439545456 103.37079930335896\" fill=\"white\" paint-order=\"fill stroke markers\" stroke=\"#5975a4\" stroke-miterlimit=\"10\" stroke-width=\"1.5\"/><path d=\" M 153.1342272727273 86.42698873070822 A 3 3 0 1 1 153.1342257727274 86.42398873120821\" fill=\"white\" paint-order=\"fill stroke markers\" stroke=\"#5975a4\" stroke-miterlimit=\"10\" stroke-width=\"1.5\"/><path d=\" M 130.77440909090916 65.10004647416054 A 3 3 0 1 1 130.77440759090928 65.09704647466053\" fill=\"white\" paint-order=\"fill stroke markers\" stroke=\"#5975a4\" stroke-miterlimit=\"10\" stroke-width=\"1.5\"/><path d=\" M 108.41459090909096 43.24650927322955 A 3 3 0 1 1 108.41458940909109 43.24350927372955\" fill=\"white\" paint-order=\"fill stroke markers\" stroke=\"#5975a4\" stroke-miterlimit=\"10\" stroke-width=\"1.5\"/><path d=\" M 86.05477272727278 18.82914927219008 A 3 3 0 1 1 86.05477122727291 18.826149272690078\" fill=\"white\" paint-order=\"fill stroke markers\" stroke=\"#5975a4\" stroke-miterlimit=\"10\" stroke-width=\"1.5\"/><path d=\" M 488.53150000000005 263.33914923017073 A 3 3 0 1 1 488.53149850000017 263.33614923067074\" fill=\"white\" paint-order=\"fill stroke markers\" stroke=\"#5975a4\" stroke-miterlimit=\"10\" stroke-width=\"1.5\"/><path d=\" M 510.8913181818182 271.9997689101733 A 3 3 0 1 1 510.8913166818183 271.9967689106733\" fill=\"white\" paint-order=\"fill stroke markers\" stroke=\"#5975a4\" stroke-miterlimit=\"10\" stroke-width=\"1.5\"/><path d=\" M 533.2511363636364 280.6039814819683 A 3 3 0 1 1 533.2511348636366 280.6009814824683\" fill=\"white\" paint-order=\"fill stroke markers\" stroke=\"#5975a4\" stroke-miterlimit=\"10\" stroke-width=\"1.5\"/><path d=\" M 555.6109545454545 286.89330148223644 A 3 3 0 1 1 555.6109530454547 286.89030148273645\" fill=\"white\" paint-order=\"fill stroke markers\" stroke=\"#5975a4\" stroke-miterlimit=\"10\" stroke-width=\"1.5\"/><path d=\" M 577.9707727272728 292.8866534824915 A 3 3 0 1 1 577.970771227273 292.8836534829915\" fill=\"white\" paint-order=\"fill stroke markers\" stroke=\"#5975a4\" stroke-miterlimit=\"10\" stroke-width=\"1.5\"/><path d=\" M 600.3305909090909 298.30093765663514 A 3 3 0 1 1 600.3305894090911 298.29793765713515\" fill=\"white\" paint-order=\"fill stroke markers\" stroke=\"#5975a4\" stroke-miterlimit=\"10\" stroke-width=\"1.5\"/><path d=\" M 622.690409090909 304.2831908568901 A 3 3 0 1 1 622.6904075909092 304.2801908573901\" fill=\"white\" paint-order=\"fill stroke markers\" stroke=\"#5975a4\" stroke-miterlimit=\"10\" stroke-width=\"1.5\"/><path d=\" M 645.0502272727273 310.2325000000001 A 3 3 0 1 1 645.0502257727275 310.2295000005001\" fill=\"white\" paint-order=\"fill stroke markers\" stroke=\"#5975a4\" stroke-miterlimit=\"10\" stroke-width=\"1.5\"/></g><g><path fill=\"none\" stroke=\"none\"/><path d=\" M 83.05477272727278 18.582499999999982 L 105.41459090909096 59.27810000173349 L 127.77440909090915 71.85304040226856 L 150.1342272727273 103.73636010287464 L 172.49404545454547 115.82295330338911 L 194.85386363636366 132.63604976124816 L 217.21368181818184 134.89073766196498 L 239.57350000000002 134.7180896619575 L 261.9333181818182 166.17303462570362 L 284.2931363636364 165.90510086171662 L 306.6529545454546 179.46836297658 L 329.01277272727276 181.5559944052402 L 351.37259090909095 210.77913480648476 L 373.73240909090913 204.20717455775775 L 396.0922272727273 215.19498655822554 L 418.45204545454544 211.1254265580519 L 440.8118636363637 223.1459095150858 L 463.1716818181818 244.07331351597668 L 485.53150000000005 231.88799941019488 L 507.8913181818182 229.1389510988647 L 530.2511363636364 214.0551533839366 L 552.6109545454545 195.22418938313422 L 574.9707727272728 208.43176138369745 L 597.3305909090909 217.66789321017768 L 619.690409090909 225.60353521051593 L 642.0502272727273 244.71108835418636\" fill=\"none\" paint-order=\"fill stroke markers\" stroke=\"#a2cfae\" stroke-linecap=\"round\" stroke-miterlimit=\"10\" stroke-width=\"6\"/></g><g><path fill=\"none\" stroke=\"none\"/><path d=\" M 466.1716818181818 244.07331351597668 A 3 3 0 1 1 466.1716803181819 244.0703135164767\" fill=\"white\" paint-order=\"fill stroke markers\" stroke=\"#a1bae3\" stroke-miterlimit=\"10\" stroke-width=\"1.5\"/><path d=\" M 443.8118636363637 223.1459095150858 A 3 3 0 1 1 443.8118621363638 223.1429095155858\" fill=\"white\" paint-order=\"fill stroke markers\" stroke=\"#a1bae3\" stroke-miterlimit=\"10\" stroke-width=\"1.5\"/><path d=\" M 421.45204545454544 211.1254265580519 A 3 3 0 1 1 421.45204395454556 211.12242655855192\" fill=\"white\" paint-order=\"fill stroke markers\" stroke=\"#a1bae3\" stroke-miterlimit=\"10\" stroke-width=\"1.5\"/><path d=\" M 399.0922272727273 215.19498655822554 A 3 3 0 1 1 399.09222577272743 215.19198655872555\" fill=\"white\" paint-order=\"fill stroke markers\" stroke=\"#a1bae3\" stroke-miterlimit=\"10\" stroke-width=\"1.5\"/><path d=\" M 376.73240909090913 204.20717455775775 A 3 3 0 1 1 376.73240759090925 204.20417455825776\" fill=\"white\" paint-order=\"fill stroke markers\" stroke=\"#a1bae3\" stroke-miterlimit=\"10\" stroke-width=\"1.5\"/><path d=\" M 354.37259090909095 210.77913480648476 A 3 3 0 1 1 354.37258940909106 210.77613480698477\" fill=\"white\" paint-order=\"fill stroke markers\" stroke=\"#a1bae3\" stroke-miterlimit=\"10\" stroke-width=\"1.5\"/><path d=\" M 332.01277272727276 181.5559944052402 A 3 3 0 1 1 332.0127712272729 181.5529944057402\" fill=\"white\" paint-order=\"fill stroke markers\" stroke=\"#a1bae3\" stroke-miterlimit=\"10\" stroke-width=\"1.5\"/><path d=\" M 309.6529545454546 179.46836297658 A 3 3 0 1 1 309.6529530454547 179.46536297708002\" fill=\"white\" paint-order=\"fill stroke markers\" stroke=\"#a1bae3\" stroke-miterlimit=\"10\" stroke-width=\"1.5\"/><path d=\" M 264.9333181818182 166.17303462570362 A 3 3 0 1 1 264.9333166818183 166.17003462620363\" fill=\"white\" paint-order=\"fill stroke markers\" stroke=\"#a1bae3\" stroke-miterlimit=\"10\" stroke-width=\"1.5\"/><path d=\" M 287.2931363636364 165.90510086171662 A 3 3 0 1 1 287.2931348636365 165.90210086221663\" fill=\"white\" paint-order=\"fill stroke markers\" stroke=\"#a1bae3\" stroke-miterlimit=\"10\" stroke-width=\"1.5\"/><path d=\" M 242.57350000000002 134.7180896619575 A 3 3 0 1 1 242.57349850000014 134.7150896624575\" fill=\"white\" paint-order=\"fill stroke markers\" stroke=\"#a1bae3\" stroke-miterlimit=\"10\" stroke-width=\"1.5\"/><path d=\" M 220.21368181818184 134.89073766196498 A 3 3 0 1 1 220.21368031818196 134.88773766246499\" fill=\"white\" paint-order=\"fill stroke markers\" stroke=\"#a1bae3\" stroke-miterlimit=\"10\" stroke-width=\"1.5\"/><path d=\" M 197.85386363636366 132.63604976124816 A 3 3 0 1 1 197.85386213636377 132.63304976174817\" fill=\"white\" paint-order=\"fill stroke markers\" stroke=\"#a1bae3\" stroke-miterlimit=\"10\" stroke-width=\"1.5\"/><path d=\" M 175.49404545454547 115.82295330338911 A 3 3 0 1 1 175.4940439545456 115.81995330388911\" fill=\"white\" paint-order=\"fill stroke markers\" stroke=\"#a1bae3\" stroke-miterlimit=\"10\" stroke-width=\"1.5\"/><path d=\" M 153.1342272727273 103.73636010287464 A 3 3 0 1 1 153.1342257727274 103.73336010337464\" fill=\"white\" paint-order=\"fill stroke markers\" stroke=\"#a1bae3\" stroke-miterlimit=\"10\" stroke-width=\"1.5\"/><path d=\" M 130.77440909090916 71.85304040226856 A 3 3 0 1 1 130.77440759090928 71.85004040276856\" fill=\"white\" paint-order=\"fill stroke markers\" stroke=\"#a1bae3\" stroke-miterlimit=\"10\" stroke-width=\"1.5\"/><path d=\" M 108.41459090909096 59.27810000173349 A 3 3 0 1 1 108.41458940909109 59.27510000223349\" fill=\"white\" paint-order=\"fill stroke markers\" stroke=\"#a1bae3\" stroke-miterlimit=\"10\" stroke-width=\"1.5\"/><path d=\" M 86.05477272727278 18.582499999999982 A 3 3 0 1 1 86.05477122727291 18.57950000049998\" fill=\"white\" paint-order=\"fill stroke markers\" stroke=\"#a1bae3\" stroke-miterlimit=\"10\" stroke-width=\"1.5\"/><path d=\" M 488.53150000000005 231.88799941019488 A 3 3 0 1 1 488.53149850000017 231.8849994106949\" fill=\"white\" paint-order=\"fill stroke markers\" stroke=\"#a1bae3\" stroke-miterlimit=\"10\" stroke-width=\"1.5\"/><path d=\" M 510.8913181818182 229.1389510988647 A 3 3 0 1 1 510.8913166818183 229.13595109936472\" fill=\"white\" paint-order=\"fill stroke markers\" stroke=\"#a1bae3\" stroke-miterlimit=\"10\" stroke-width=\"1.5\"/><path d=\" M 533.2511363636364 214.0551533839366 A 3 3 0 1 1 533.2511348636366 214.05215338443662\" fill=\"white\" paint-order=\"fill stroke markers\" stroke=\"#a1bae3\" stroke-miterlimit=\"10\" stroke-width=\"1.5\"/><path d=\" M 555.6109545454545 195.22418938313422 A 3 3 0 1 1 555.6109530454547 195.22118938363423\" fill=\"white\" paint-order=\"fill stroke markers\" stroke=\"#a1bae3\" stroke-miterlimit=\"10\" stroke-width=\"1.5\"/><path d=\" M 577.9707727272728 208.43176138369745 A 3 3 0 1 1 577.970771227273 208.42876138419746\" fill=\"white\" paint-order=\"fill stroke markers\" stroke=\"#a1bae3\" stroke-miterlimit=\"10\" stroke-width=\"1.5\"/><path d=\" M 600.3305909090909 217.66789321017768 A 3 3 0 1 1 600.3305894090911 217.6648932106777\" fill=\"white\" paint-order=\"fill stroke markers\" stroke=\"#a1bae3\" stroke-miterlimit=\"10\" stroke-width=\"1.5\"/><path d=\" M 622.690409090909 225.60353521051593 A 3 3 0 1 1 622.6904075909092 225.60053521101594\" fill=\"white\" paint-order=\"fill stroke markers\" stroke=\"#a1bae3\" stroke-miterlimit=\"10\" stroke-width=\"1.5\"/><path d=\" M 645.0502272727273 244.71108835418636 A 3 3 0 1 1 645.0502257727275 244.70808835468637\" fill=\"white\" paint-order=\"fill stroke markers\" stroke=\"#a1bae3\" stroke-miterlimit=\"10\" stroke-width=\"1.5\"/></g></g><g><g/><g><path d=\" M 539.25 14 L 660 14 L 660 77 L 539.25 77 L 539.25 14 Z\" fill=\"#ffffff\" fill-opacity=\"0.95\" paint-order=\"fill stroke markers\" stroke=\"#e5e5e5\" stroke-miterlimit=\"10\" stroke-opacity=\"0.5\"/><text dominant-baseline=\"central\" fill=\"#444444\" font-family=\"helvetica\" font-size=\"10pt\" font-style=\"normal\" font-weight=\"normal\" stroke=\"none\" text-anchor=\"start\" text-decoration=\"normal\" x=\"574.25\" y=\"34\"> Train AUC</text><g><path d=\" M 549.25 34 L 569.25 34\" fill=\"none\" paint-order=\"fill stroke markers\" stroke=\"#5f9e6f\" stroke-linecap=\"round\" stroke-miterlimit=\"10\" stroke-width=\"6\"/></g><text dominant-baseline=\"central\" fill=\"#444444\" font-family=\"helvetica\" font-size=\"10pt\" font-style=\"normal\" font-weight=\"normal\" stroke=\"none\" text-anchor=\"start\" text-decoration=\"normal\" x=\"574.25\" y=\"57\"> Retrain AUC</text><g><path d=\" M 549.25 57 L 569.25 57\" fill=\"none\" paint-order=\"fill stroke markers\" stroke=\"#a2cfae\" stroke-linecap=\"round\" stroke-miterlimit=\"10\" stroke-width=\"6\"/></g></g></g><g><g><path d=\" M 55 325 L 670 325\" fill=\"none\" paint-order=\"fill stroke markers\" stroke=\"black\" stroke-miterlimit=\"10\"/><path d=\" M 105 331 L 105 323\" fill=\"none\" paint-order=\"fill stroke markers\" stroke=\"black\" stroke-miterlimit=\"10\"/><path d=\" M 217 331 L 217 323\" fill=\"none\" paint-order=\"fill stroke markers\" stroke=\"black\" stroke-miterlimit=\"10\"/><path d=\" M 329 331 L 329 323\" fill=\"none\" paint-order=\"fill stroke markers\" stroke=\"black\" stroke-miterlimit=\"10\"/><path d=\" M 441 331 L 441 323\" fill=\"none\" paint-order=\"fill stroke markers\" stroke=\"black\" stroke-miterlimit=\"10\"/><path d=\" M 553 331 L 553 323\" fill=\"none\" paint-order=\"fill stroke markers\" stroke=\"black\" stroke-miterlimit=\"10\"/><path d=\" M 664 331 L 664 323\" fill=\"none\" paint-order=\"fill stroke markers\" stroke=\"black\" stroke-miterlimit=\"10\"/><path d=\" M 83 329 L 83 325\" fill=\"none\" paint-order=\"fill stroke markers\" stroke=\"black\" stroke-miterlimit=\"10\"/><path d=\" M 61 329 L 61 325\" fill=\"none\" paint-order=\"fill stroke markers\" stroke=\"black\" stroke-miterlimit=\"10\"/><path d=\" M 105 329 L 105 325\" fill=\"none\" paint-order=\"fill stroke markers\" stroke=\"black\" stroke-miterlimit=\"10\"/><path d=\" M 128 329 L 128 325\" fill=\"none\" paint-order=\"fill stroke markers\" stroke=\"black\" stroke-miterlimit=\"10\"/><path d=\" M 150 329 L 150 325\" fill=\"none\" paint-order=\"fill stroke markers\" stroke=\"black\" stroke-miterlimit=\"10\"/><path d=\" M 172 329 L 172 325\" fill=\"none\" paint-order=\"fill stroke markers\" stroke=\"black\" stroke-miterlimit=\"10\"/><path d=\" M 195 329 L 195 325\" fill=\"none\" paint-order=\"fill stroke markers\" stroke=\"black\" stroke-miterlimit=\"10\"/><path d=\" M 217 329 L 217 325\" fill=\"none\" paint-order=\"fill stroke markers\" stroke=\"black\" stroke-miterlimit=\"10\"/><path d=\" M 240 329 L 240 325\" fill=\"none\" paint-order=\"fill stroke markers\" stroke=\"black\" stroke-miterlimit=\"10\"/><path d=\" M 262 329 L 262 325\" fill=\"none\" paint-order=\"fill stroke markers\" stroke=\"black\" stroke-miterlimit=\"10\"/><path d=\" M 284 329 L 284 325\" fill=\"none\" paint-order=\"fill stroke markers\" stroke=\"black\" stroke-miterlimit=\"10\"/><path d=\" M 307 329 L 307 325\" fill=\"none\" paint-order=\"fill stroke markers\" stroke=\"black\" stroke-miterlimit=\"10\"/><path d=\" M 329 329 L 329 325\" fill=\"none\" paint-order=\"fill stroke markers\" stroke=\"black\" stroke-miterlimit=\"10\"/><path d=\" M 351 329 L 351 325\" fill=\"none\" paint-order=\"fill stroke markers\" stroke=\"black\" stroke-miterlimit=\"10\"/><path d=\" M 374 329 L 374 325\" fill=\"none\" paint-order=\"fill stroke markers\" stroke=\"black\" stroke-miterlimit=\"10\"/><path d=\" M 396 329 L 396 325\" fill=\"none\" paint-order=\"fill stroke markers\" stroke=\"black\" stroke-miterlimit=\"10\"/><path d=\" M 418 329 L 418 325\" fill=\"none\" paint-order=\"fill stroke markers\" stroke=\"black\" stroke-miterlimit=\"10\"/><path d=\" M 441 329 L 441 325\" fill=\"none\" paint-order=\"fill stroke markers\" stroke=\"black\" stroke-miterlimit=\"10\"/><path d=\" M 463 329 L 463 325\" fill=\"none\" paint-order=\"fill stroke markers\" stroke=\"black\" stroke-miterlimit=\"10\"/><path d=\" M 486 329 L 486 325\" fill=\"none\" paint-order=\"fill stroke markers\" stroke=\"black\" stroke-miterlimit=\"10\"/><path d=\" M 508 329 L 508 325\" fill=\"none\" paint-order=\"fill stroke markers\" stroke=\"black\" stroke-miterlimit=\"10\"/><path d=\" M 530 329 L 530 325\" fill=\"none\" paint-order=\"fill stroke markers\" stroke=\"black\" stroke-miterlimit=\"10\"/><path d=\" M 553 329 L 553 325\" fill=\"none\" paint-order=\"fill stroke markers\" stroke=\"black\" stroke-miterlimit=\"10\"/><path d=\" M 575 329 L 575 325\" fill=\"none\" paint-order=\"fill stroke markers\" stroke=\"black\" stroke-miterlimit=\"10\"/><path d=\" M 597 329 L 597 325\" fill=\"none\" paint-order=\"fill stroke markers\" stroke=\"black\" stroke-miterlimit=\"10\"/><path d=\" M 620 329 L 620 325\" fill=\"none\" paint-order=\"fill stroke markers\" stroke=\"black\" stroke-miterlimit=\"10\"/><path d=\" M 642 329 L 642 325\" fill=\"none\" paint-order=\"fill stroke markers\" stroke=\"black\" stroke-miterlimit=\"10\"/><path d=\" M 664 329 L 664 325\" fill=\"none\" paint-order=\"fill stroke markers\" stroke=\"black\" stroke-miterlimit=\"10\"/><text dominant-baseline=\"hanging\" fill=\"#444444\" font-family=\"helvetica\" font-size=\"8pt\" font-style=\"normal\" font-weight=\"normal\" stroke=\"none\" text-anchor=\"middle\" text-decoration=\"normal\" x=\"105\" y=\"336\">10</text><text dominant-baseline=\"hanging\" fill=\"#444444\" font-family=\"helvetica\" font-size=\"8pt\" font-style=\"normal\" font-weight=\"normal\" stroke=\"none\" text-anchor=\"middle\" text-decoration=\"normal\" x=\"217\" y=\"336\">15</text><text dominant-baseline=\"hanging\" fill=\"#444444\" font-family=\"helvetica\" font-size=\"8pt\" font-style=\"normal\" font-weight=\"normal\" stroke=\"none\" text-anchor=\"middle\" text-decoration=\"normal\" x=\"329\" y=\"336\">20</text><text dominant-baseline=\"hanging\" fill=\"#444444\" font-family=\"helvetica\" font-size=\"8pt\" font-style=\"normal\" font-weight=\"normal\" stroke=\"none\" text-anchor=\"middle\" text-decoration=\"normal\" x=\"441\" y=\"336\">25</text><text dominant-baseline=\"hanging\" fill=\"#444444\" font-family=\"helvetica\" font-size=\"8pt\" font-style=\"normal\" font-weight=\"normal\" stroke=\"none\" text-anchor=\"middle\" text-decoration=\"normal\" x=\"553\" y=\"336\">30</text><text dominant-baseline=\"hanging\" fill=\"#444444\" font-family=\"helvetica\" font-size=\"8pt\" font-style=\"normal\" font-weight=\"normal\" stroke=\"none\" text-anchor=\"middle\" text-decoration=\"normal\" x=\"664\" y=\"336\">35</text><text dominant-baseline=\"hanging\" fill=\"#444444\" font-family=\"helvetica\" font-size=\"10pt\" font-style=\"italic\" font-weight=\"normal\" stroke=\"none\" text-anchor=\"middle\" text-decoration=\"normal\" x=\"362.5525\" y=\"354.00000000000006\"/></g><g><path d=\" M 55 325 L 55 4\" fill=\"none\" paint-order=\"fill stroke markers\" stroke=\"black\" stroke-miterlimit=\"10\"/><path d=\" M 49 303 L 57 303\" fill=\"none\" paint-order=\"fill stroke markers\" stroke=\"black\" stroke-miterlimit=\"10\"/><path d=\" M 49 229 L 57 229\" fill=\"none\" paint-order=\"fill stroke markers\" stroke=\"black\" stroke-miterlimit=\"10\"/><path d=\" M 49 156 L 57 156\" fill=\"none\" paint-order=\"fill stroke markers\" stroke=\"black\" stroke-miterlimit=\"10\"/><path d=\" M 49 83 L 57 83\" fill=\"none\" paint-order=\"fill stroke markers\" stroke=\"black\" stroke-miterlimit=\"10\"/><path d=\" M 49 10 L 57 10\" fill=\"none\" paint-order=\"fill stroke markers\" stroke=\"black\" stroke-miterlimit=\"10\"/><path d=\" M 51 317 L 55 317\" fill=\"none\" paint-order=\"fill stroke markers\" stroke=\"black\" stroke-miterlimit=\"10\"/><path d=\" M 51 303 L 55 303\" fill=\"none\" paint-order=\"fill stroke markers\" stroke=\"black\" stroke-miterlimit=\"10\"/><path d=\" M 51 288 L 55 288\" fill=\"none\" paint-order=\"fill stroke markers\" stroke=\"black\" stroke-miterlimit=\"10\"/><path d=\" M 51 273 L 55 273\" fill=\"none\" paint-order=\"fill stroke markers\" stroke=\"black\" stroke-miterlimit=\"10\"/><path d=\" M 51 259 L 55 259\" fill=\"none\" paint-order=\"fill stroke markers\" stroke=\"black\" stroke-miterlimit=\"10\"/><path d=\" M 51 244 L 55 244\" fill=\"none\" paint-order=\"fill stroke markers\" stroke=\"black\" stroke-miterlimit=\"10\"/><path d=\" M 51 229 L 55 229\" fill=\"none\" paint-order=\"fill stroke markers\" stroke=\"black\" stroke-miterlimit=\"10\"/><path d=\" M 51 215 L 55 215\" fill=\"none\" paint-order=\"fill stroke markers\" stroke=\"black\" stroke-miterlimit=\"10\"/><path d=\" M 51 200 L 55 200\" fill=\"none\" paint-order=\"fill stroke markers\" stroke=\"black\" stroke-miterlimit=\"10\"/><path d=\" M 51 186 L 55 186\" fill=\"none\" paint-order=\"fill stroke markers\" stroke=\"black\" stroke-miterlimit=\"10\"/><path d=\" M 51 171 L 55 171\" fill=\"none\" paint-order=\"fill stroke markers\" stroke=\"black\" stroke-miterlimit=\"10\"/><path d=\" M 51 156 L 55 156\" fill=\"none\" paint-order=\"fill stroke markers\" stroke=\"black\" stroke-miterlimit=\"10\"/><path d=\" M 51 142 L 55 142\" fill=\"none\" paint-order=\"fill stroke markers\" stroke=\"black\" stroke-miterlimit=\"10\"/><path d=\" M 51 127 L 55 127\" fill=\"none\" paint-order=\"fill stroke markers\" stroke=\"black\" stroke-miterlimit=\"10\"/><path d=\" M 51 112 L 55 112\" fill=\"none\" paint-order=\"fill stroke markers\" stroke=\"black\" stroke-miterlimit=\"10\"/><path d=\" M 51 98 L 55 98\" fill=\"none\" paint-order=\"fill stroke markers\" stroke=\"black\" stroke-miterlimit=\"10\"/><path d=\" M 51 83 L 55 83\" fill=\"none\" paint-order=\"fill stroke markers\" stroke=\"black\" stroke-miterlimit=\"10\"/><path d=\" M 51 68 L 55 68\" fill=\"none\" paint-order=\"fill stroke markers\" stroke=\"black\" stroke-miterlimit=\"10\"/><path d=\" M 51 54 L 55 54\" fill=\"none\" paint-order=\"fill stroke markers\" stroke=\"black\" stroke-miterlimit=\"10\"/><path d=\" M 51 39 L 55 39\" fill=\"none\" paint-order=\"fill stroke markers\" stroke=\"black\" stroke-miterlimit=\"10\"/><path d=\" M 51 24 L 55 24\" fill=\"none\" paint-order=\"fill stroke markers\" stroke=\"black\" stroke-miterlimit=\"10\"/><path d=\" M 51 10 L 55 10\" fill=\"none\" paint-order=\"fill stroke markers\" stroke=\"black\" stroke-miterlimit=\"10\"/><text dominant-baseline=\"central\" fill=\"#444444\" font-family=\"helvetica\" font-size=\"8pt\" font-style=\"normal\" font-weight=\"normal\" stroke=\"none\" text-anchor=\"end\" text-decoration=\"normal\" x=\"44\" y=\"303\">0.74</text><text dominant-baseline=\"central\" fill=\"#444444\" font-family=\"helvetica\" font-size=\"8pt\" font-style=\"normal\" font-weight=\"normal\" stroke=\"none\" text-anchor=\"end\" text-decoration=\"normal\" x=\"44\" y=\"229\">0.76</text><text dominant-baseline=\"central\" fill=\"#444444\" font-family=\"helvetica\" font-size=\"8pt\" font-style=\"normal\" font-weight=\"normal\" stroke=\"none\" text-anchor=\"end\" text-decoration=\"normal\" x=\"44\" y=\"156\">0.78</text><text dominant-baseline=\"central\" fill=\"#444444\" font-family=\"helvetica\" font-size=\"8pt\" font-style=\"normal\" font-weight=\"normal\" stroke=\"none\" text-anchor=\"end\" text-decoration=\"normal\" x=\"44\" y=\"83\">0.8</text><text dominant-baseline=\"central\" fill=\"#444444\" font-family=\"helvetica\" font-size=\"8pt\" font-style=\"normal\" font-weight=\"normal\" stroke=\"none\" text-anchor=\"end\" text-decoration=\"normal\" x=\"44\" y=\"10\">0.82</text><g transform=\"translate(15.592500000000001,164.40750000000003) rotate(-90,0,0)\"><text dominant-baseline=\"alphabetic\" fill=\"#444444\" font-family=\"helvetica\" font-size=\"10pt\" font-style=\"italic\" font-weight=\"normal\" stroke=\"none\" text-anchor=\"middle\" text-decoration=\"normal\" x=\"0\" y=\"0\">AUC</text><g transform=\"rotate(90,0,0) translate(-15.592500000000001,-164.40750000000003)\"/></g></g></g></g></g></svg>"
      ],
      "text/plain": [
       "<IPython.core.display.SVG object>"
      ]
     },
     "metadata": {},
     "output_type": "display_data"
    }
   ],
   "source": [
    "# Render SVG so that it is visible on Github\n",
    "read_svg_from_nb(bci_notebook, '# SVG: LGBM Retrain Results')"
   ]
  },
  {
   "cell_type": "markdown",
   "metadata": {},
   "source": [
    "Overall we can see that naive retraining improves performance slightly especially in the later epochs. It also seems that XGBoost is able to achieve a slightly better AUC than LightGBM."
   ]
  },
  {
   "cell_type": "code",
   "execution_count": 56,
   "metadata": {},
   "outputs": [
    {
     "data": {
      "text/html": [
       "\n",
       "\n",
       "    <div class=\"bk-root\">\n",
       "        <div class=\"bk-plotdiv\" id=\"7e837298-a8a2-45e0-9f7f-5a75ecf5f3e2\"></div>\n",
       "    </div>\n",
       "<script type=\"text/javascript\">\n",
       "  \n",
       "  (function(global) {\n",
       "    function now() {\n",
       "      return new Date();\n",
       "    }\n",
       "  \n",
       "    var force = false;\n",
       "  \n",
       "    if (typeof (window._bokeh_onload_callbacks) === \"undefined\" || force === true) {\n",
       "      window._bokeh_onload_callbacks = [];\n",
       "      window._bokeh_is_loading = undefined;\n",
       "    }\n",
       "  \n",
       "  \n",
       "    \n",
       "    if (typeof (window._bokeh_timeout) === \"undefined\" || force === true) {\n",
       "      window._bokeh_timeout = Date.now() + 0;\n",
       "      window._bokeh_failed_load = false;\n",
       "    }\n",
       "  \n",
       "    var NB_LOAD_WARNING = {'data': {'text/html':\n",
       "       \"<div style='background-color: #fdd'>\\n\"+\n",
       "       \"<p>\\n\"+\n",
       "       \"BokehJS does not appear to have successfully loaded. If loading BokehJS from CDN, this \\n\"+\n",
       "       \"may be due to a slow or bad network connection. Possible fixes:\\n\"+\n",
       "       \"</p>\\n\"+\n",
       "       \"<ul>\\n\"+\n",
       "       \"<li>re-rerun `output_notebook()` to attempt to load from CDN again, or</li>\\n\"+\n",
       "       \"<li>use INLINE resources instead, as so:</li>\\n\"+\n",
       "       \"</ul>\\n\"+\n",
       "       \"<code>\\n\"+\n",
       "       \"from bokeh.resources import INLINE\\n\"+\n",
       "       \"output_notebook(resources=INLINE)\\n\"+\n",
       "       \"</code>\\n\"+\n",
       "       \"</div>\"}};\n",
       "  \n",
       "    function display_loaded() {\n",
       "      if (window.Bokeh !== undefined) {\n",
       "        var el = document.getElementById(\"7e837298-a8a2-45e0-9f7f-5a75ecf5f3e2\");\n",
       "        el.textContent = \"BokehJS \" + Bokeh.version + \" successfully loaded.\";\n",
       "      } else if (Date.now() < window._bokeh_timeout) {\n",
       "        setTimeout(display_loaded, 100)\n",
       "      }\n",
       "    }\n",
       "  \n",
       "    function run_callbacks() {\n",
       "      try {\n",
       "        window._bokeh_onload_callbacks.forEach(function(callback) { callback() });\n",
       "      }\n",
       "      finally {\n",
       "        delete window._bokeh_onload_callbacks\n",
       "      }\n",
       "      console.info(\"Bokeh: all callbacks have finished\");\n",
       "    }\n",
       "  \n",
       "    function load_libs(js_urls, callback) {\n",
       "      window._bokeh_onload_callbacks.push(callback);\n",
       "      if (window._bokeh_is_loading > 0) {\n",
       "        console.log(\"Bokeh: BokehJS is being loaded, scheduling callback at\", now());\n",
       "        return null;\n",
       "      }\n",
       "      if (js_urls == null || js_urls.length === 0) {\n",
       "        run_callbacks();\n",
       "        return null;\n",
       "      }\n",
       "      console.log(\"Bokeh: BokehJS not loaded, scheduling load and callback at\", now());\n",
       "      window._bokeh_is_loading = js_urls.length;\n",
       "      for (var i = 0; i < js_urls.length; i++) {\n",
       "        var url = js_urls[i];\n",
       "        var s = document.createElement('script');\n",
       "        s.src = url;\n",
       "        s.async = false;\n",
       "        s.onreadystatechange = s.onload = function() {\n",
       "          window._bokeh_is_loading--;\n",
       "          if (window._bokeh_is_loading === 0) {\n",
       "            console.log(\"Bokeh: all BokehJS libraries loaded\");\n",
       "            run_callbacks()\n",
       "          }\n",
       "        };\n",
       "        s.onerror = function() {\n",
       "          console.warn(\"failed to load library \" + url);\n",
       "        };\n",
       "        console.log(\"Bokeh: injecting script tag for BokehJS library: \", url);\n",
       "        document.getElementsByTagName(\"head\")[0].appendChild(s);\n",
       "      }\n",
       "    };var element = document.getElementById(\"7e837298-a8a2-45e0-9f7f-5a75ecf5f3e2\");\n",
       "    if (element == null) {\n",
       "      console.log(\"Bokeh: ERROR: autoload.js configured with elementid '7e837298-a8a2-45e0-9f7f-5a75ecf5f3e2' but no matching script tag was found. \")\n",
       "      return false;\n",
       "    }\n",
       "  \n",
       "    var js_urls = [];\n",
       "  \n",
       "    var inline_js = [\n",
       "      function(Bokeh) {\n",
       "        (function() {\n",
       "          var fn = function() {\n",
       "            var docs_json = {\"0158a3dd-61c1-409c-8793-08bdd820ec0b\":{\"roots\":{\"references\":[{\"attributes\":{\"bottom_units\":\"screen\",\"fill_alpha\":{\"value\":0.5},\"fill_color\":{\"value\":\"lightgrey\"},\"left_units\":\"screen\",\"level\":\"overlay\",\"line_alpha\":{\"value\":1.0},\"line_color\":{\"value\":\"black\"},\"line_dash\":[4,4],\"line_width\":{\"value\":2},\"plot\":null,\"render_mode\":\"css\",\"right_units\":\"screen\",\"top_units\":\"screen\"},\"id\":\"e17d307b-95e3-4825-956f-e479efe0dc49\",\"type\":\"BoxAnnotation\"},{\"attributes\":{\"plot\":{\"id\":\"497bc5b3-b83a-407e-bfca-4c80e2cb832a\",\"subtype\":\"Figure\",\"type\":\"Plot\"}},\"id\":\"3bac4d91-525f-4a6d-8cda-da11d46e42df\",\"type\":\"SaveTool\"},{\"attributes\":{\"plot\":{\"id\":\"497bc5b3-b83a-407e-bfca-4c80e2cb832a\",\"subtype\":\"Figure\",\"type\":\"Plot\"}},\"id\":\"c1756850-6357-496e-9f60-c3b0d1a17cc7\",\"type\":\"ResetTool\"},{\"attributes\":{\"plot\":{\"id\":\"497bc5b3-b83a-407e-bfca-4c80e2cb832a\",\"subtype\":\"Figure\",\"type\":\"Plot\"}},\"id\":\"b00647e8-617e-4a42-ad13-1d3d049f19ac\",\"type\":\"HelpTool\"},{\"attributes\":{},\"id\":\"f10ad4e4-0198-476d-8488-a51c8eb63754\",\"type\":\"CategoricalTickFormatter\"},{\"attributes\":{},\"id\":\"aab5777a-a0ee-4585-a1fa-581f367386a9\",\"type\":\"BasicTickFormatter\"},{\"attributes\":{\"below\":[{\"id\":\"f1890c3c-1269-417c-9cbc-d721a0b4d72d\",\"type\":\"CategoricalAxis\"}],\"left\":[{\"id\":\"460c799d-89f7-4e4b-aeee-27f3b8122f45\",\"type\":\"LinearAxis\"}],\"plot_height\":500,\"plot_width\":300,\"renderers\":[{\"id\":\"f1890c3c-1269-417c-9cbc-d721a0b4d72d\",\"type\":\"CategoricalAxis\"},{\"id\":\"b4493d13-2b85-471a-9585-5315d09ae842\",\"type\":\"Grid\"},{\"id\":\"460c799d-89f7-4e4b-aeee-27f3b8122f45\",\"type\":\"LinearAxis\"},{\"id\":\"f921c3de-53e7-4fed-be30-b35f24d87d66\",\"type\":\"Grid\"},{\"id\":\"e17d307b-95e3-4825-956f-e479efe0dc49\",\"type\":\"BoxAnnotation\"},{\"id\":\"b5662a07-0942-4d21-a400-8f86a418304e\",\"type\":\"GlyphRenderer\"}],\"title\":{\"id\":\"b31e01ef-3224-4900-987f-96de1c1841db\",\"type\":\"Title\"},\"tool_events\":{\"id\":\"f18eda11-a91b-45d4-8bbc-19d73fbb6e07\",\"type\":\"ToolEvents\"},\"toolbar\":{\"id\":\"93768649-f184-4f4c-aebc-3ad7bd7da958\",\"type\":\"Toolbar\"},\"x_range\":{\"id\":\"288aef22-03a3-431c-ac43-e4d977705714\",\"type\":\"FactorRange\"},\"x_scale\":{\"id\":\"a2365611-3086-46ba-941c-14937d76e230\",\"type\":\"CategoricalScale\"},\"y_range\":{\"id\":\"9aafcca7-0b1f-4971-83ab-33127cbe607b\",\"type\":\"DataRange1d\"},\"y_scale\":{\"id\":\"3d17006b-10a2-4110-9315-7edfa9ff6cbc\",\"type\":\"LinearScale\"}},\"id\":\"497bc5b3-b83a-407e-bfca-4c80e2cb832a\",\"subtype\":\"Figure\",\"type\":\"Plot\"},{\"attributes\":{},\"id\":\"f18eda11-a91b-45d4-8bbc-19d73fbb6e07\",\"type\":\"ToolEvents\"},{\"attributes\":{\"callback\":null,\"factors\":[\"XGBoost\",\"LightGBM\"]},\"id\":\"288aef22-03a3-431c-ac43-e4d977705714\",\"type\":\"FactorRange\"},{\"attributes\":{\"axis_label\":\"Time (minutes)\",\"formatter\":{\"id\":\"aab5777a-a0ee-4585-a1fa-581f367386a9\",\"type\":\"BasicTickFormatter\"},\"plot\":{\"id\":\"497bc5b3-b83a-407e-bfca-4c80e2cb832a\",\"subtype\":\"Figure\",\"type\":\"Plot\"},\"ticker\":{\"id\":\"fe859527-0d38-4ba5-84ae-cb20aa514580\",\"type\":\"BasicTicker\"}},\"id\":\"460c799d-89f7-4e4b-aeee-27f3b8122f45\",\"type\":\"LinearAxis\"},{\"attributes\":{\"active_drag\":\"auto\",\"active_inspect\":\"auto\",\"active_scroll\":\"auto\",\"active_tap\":\"auto\",\"tools\":[{\"id\":\"beff8566-c5ef-4821-85dc-2f5d75d973fe\",\"type\":\"PanTool\"},{\"id\":\"f9d64925-a820-409f-b214-41964580f440\",\"type\":\"WheelZoomTool\"},{\"id\":\"d179b2af-58d8-4f1a-9919-c8514dcd65d1\",\"type\":\"BoxZoomTool\"},{\"id\":\"3bac4d91-525f-4a6d-8cda-da11d46e42df\",\"type\":\"SaveTool\"},{\"id\":\"c1756850-6357-496e-9f60-c3b0d1a17cc7\",\"type\":\"ResetTool\"},{\"id\":\"b00647e8-617e-4a42-ad13-1d3d049f19ac\",\"type\":\"HelpTool\"}]},\"id\":\"93768649-f184-4f4c-aebc-3ad7bd7da958\",\"type\":\"Toolbar\"},{\"attributes\":{\"callback\":null},\"id\":\"9aafcca7-0b1f-4971-83ab-33127cbe607b\",\"type\":\"DataRange1d\"},{\"attributes\":{},\"id\":\"a2365611-3086-46ba-941c-14937d76e230\",\"type\":\"CategoricalScale\"},{\"attributes\":{},\"id\":\"3d17006b-10a2-4110-9315-7edfa9ff6cbc\",\"type\":\"LinearScale\"},{\"attributes\":{\"plot\":{\"id\":\"497bc5b3-b83a-407e-bfca-4c80e2cb832a\",\"subtype\":\"Figure\",\"type\":\"Plot\"},\"ticker\":{\"id\":\"67653ee5-8577-4313-bc33-abf509adb610\",\"type\":\"CategoricalTicker\"}},\"id\":\"b4493d13-2b85-471a-9585-5315d09ae842\",\"type\":\"Grid\"},{\"attributes\":{\"formatter\":{\"id\":\"f10ad4e4-0198-476d-8488-a51c8eb63754\",\"type\":\"CategoricalTickFormatter\"},\"plot\":{\"id\":\"497bc5b3-b83a-407e-bfca-4c80e2cb832a\",\"subtype\":\"Figure\",\"type\":\"Plot\"},\"ticker\":{\"id\":\"67653ee5-8577-4313-bc33-abf509adb610\",\"type\":\"CategoricalTicker\"}},\"id\":\"f1890c3c-1269-417c-9cbc-d721a0b4d72d\",\"type\":\"CategoricalAxis\"},{\"attributes\":{},\"id\":\"67653ee5-8577-4313-bc33-abf509adb610\",\"type\":\"CategoricalTicker\"},{\"attributes\":{\"fill_color\":{\"field\":\"color\"},\"line_color\":{\"field\":\"color\"},\"top\":{\"field\":\"Time(m)\"},\"width\":{\"value\":0.8},\"x\":{\"field\":\"Model\"}},\"id\":\"6402fe70-2791-4bc8-8c04-d0f2e832e915\",\"type\":\"VBar\"},{\"attributes\":{},\"id\":\"fe859527-0d38-4ba5-84ae-cb20aa514580\",\"type\":\"BasicTicker\"},{\"attributes\":{\"dimension\":1,\"plot\":{\"id\":\"497bc5b3-b83a-407e-bfca-4c80e2cb832a\",\"subtype\":\"Figure\",\"type\":\"Plot\"},\"ticker\":{\"id\":\"fe859527-0d38-4ba5-84ae-cb20aa514580\",\"type\":\"BasicTicker\"}},\"id\":\"f921c3de-53e7-4fed-be30-b35f24d87d66\",\"type\":\"Grid\"},{\"attributes\":{\"fill_alpha\":{\"value\":0.1},\"fill_color\":{\"value\":\"#1f77b4\"},\"line_alpha\":{\"value\":0.1},\"line_color\":{\"value\":\"#1f77b4\"},\"top\":{\"field\":\"Time(m)\"},\"width\":{\"value\":0.8},\"x\":{\"field\":\"Model\"}},\"id\":\"5317c941-1ae7-4e50-9a56-dc5f1a02b7cb\",\"type\":\"VBar\"},{\"attributes\":{\"plot\":null,\"text\":\"\"},\"id\":\"b31e01ef-3224-4900-987f-96de1c1841db\",\"type\":\"Title\"},{\"attributes\":{\"data_source\":{\"id\":\"18ac767a-d9a4-4053-a739-b8cf1148e992\",\"type\":\"ColumnDataSource\"},\"glyph\":{\"id\":\"6402fe70-2791-4bc8-8c04-d0f2e832e915\",\"type\":\"VBar\"},\"hover_glyph\":null,\"muted_glyph\":null,\"nonselection_glyph\":{\"id\":\"5317c941-1ae7-4e50-9a56-dc5f1a02b7cb\",\"type\":\"VBar\"},\"selection_glyph\":null},\"id\":\"b5662a07-0942-4d21-a400-8f86a418304e\",\"type\":\"GlyphRenderer\"},{\"attributes\":{\"callback\":null,\"column_names\":[\"Model\",\"Time(m)\",\"color\",\"index\"],\"data\":{\"Model\":[\"XGBoost\",\"LightGBM\"],\"Time(m)\":{\"__ndarray__\":\"EVFK9p2dIkC8u88wwT8QQA==\",\"dtype\":\"float64\",\"shape\":[2]},\"color\":[\"#5975a4\",\"#5f9e6f\"],\"index\":[0,1]}},\"id\":\"18ac767a-d9a4-4053-a739-b8cf1148e992\",\"type\":\"ColumnDataSource\"},{\"attributes\":{\"plot\":{\"id\":\"497bc5b3-b83a-407e-bfca-4c80e2cb832a\",\"subtype\":\"Figure\",\"type\":\"Plot\"}},\"id\":\"beff8566-c5ef-4821-85dc-2f5d75d973fe\",\"type\":\"PanTool\"},{\"attributes\":{\"overlay\":{\"id\":\"e17d307b-95e3-4825-956f-e479efe0dc49\",\"type\":\"BoxAnnotation\"},\"plot\":{\"id\":\"497bc5b3-b83a-407e-bfca-4c80e2cb832a\",\"subtype\":\"Figure\",\"type\":\"Plot\"}},\"id\":\"d179b2af-58d8-4f1a-9919-c8514dcd65d1\",\"type\":\"BoxZoomTool\"},{\"attributes\":{\"plot\":{\"id\":\"497bc5b3-b83a-407e-bfca-4c80e2cb832a\",\"subtype\":\"Figure\",\"type\":\"Plot\"}},\"id\":\"f9d64925-a820-409f-b214-41964580f440\",\"type\":\"WheelZoomTool\"}],\"root_ids\":[\"497bc5b3-b83a-407e-bfca-4c80e2cb832a\"]},\"title\":\"Bokeh Application\",\"version\":\"0.12.6\"}};\n",
       "            var render_items = [{\"docid\":\"0158a3dd-61c1-409c-8793-08bdd820ec0b\",\"elementid\":\"7e837298-a8a2-45e0-9f7f-5a75ecf5f3e2\",\"modelid\":\"497bc5b3-b83a-407e-bfca-4c80e2cb832a\"}];\n",
       "            \n",
       "            Bokeh.embed.embed_items(docs_json, render_items);\n",
       "          };\n",
       "          if (document.readyState != \"loading\") fn();\n",
       "          else document.addEventListener(\"DOMContentLoaded\", fn);\n",
       "        })();\n",
       "      },\n",
       "      function(Bokeh) {\n",
       "      }\n",
       "    ];\n",
       "  \n",
       "    function run_inline_js() {\n",
       "      \n",
       "      if ((window.Bokeh !== undefined) || (force === true)) {\n",
       "        for (var i = 0; i < inline_js.length; i++) {\n",
       "          inline_js[i](window.Bokeh);\n",
       "        }if (force === true) {\n",
       "          display_loaded();\n",
       "        }} else if (Date.now() < window._bokeh_timeout) {\n",
       "        setTimeout(run_inline_js, 100);\n",
       "      } else if (!window._bokeh_failed_load) {\n",
       "        console.log(\"Bokeh: BokehJS failed to load within specified timeout.\");\n",
       "        window._bokeh_failed_load = true;\n",
       "      } else if (force !== true) {\n",
       "        var cell = $(document.getElementById(\"7e837298-a8a2-45e0-9f7f-5a75ecf5f3e2\")).parents('.cell').data().cell;\n",
       "        cell.output_area.append_execute_result(NB_LOAD_WARNING)\n",
       "      }\n",
       "  \n",
       "    }\n",
       "  \n",
       "    if (window._bokeh_is_loading === 0) {\n",
       "      console.log(\"Bokeh: BokehJS loaded, going straight to plotting\");\n",
       "      run_inline_js();\n",
       "    } else {\n",
       "      load_libs(js_urls, function() {\n",
       "        console.log(\"Bokeh: BokehJS plotting callback run at\", now());\n",
       "        run_inline_js();\n",
       "      });\n",
       "    }\n",
       "  }(this));\n",
       "</script>"
      ],
      "text/plain": [
       "<IPython.core.display.HTML object>"
      ]
     },
     "metadata": {},
     "output_type": "display_data"
    }
   ],
   "source": [
    "read_html_from_nb(bci_notebook, '# XGB vs LGBM Retrain Time')"
   ]
  },
  {
   "cell_type": "code",
   "execution_count": 57,
   "metadata": {},
   "outputs": [
    {
     "data": {
      "image/svg+xml": [
       "<svg height=\"500\" style=\"width: 300px; height: 500px;\" version=\"1.1\" width=\"300\" xmlns=\"http://www.w3.org/2000/svg\" xmlns:xlink=\"http://www.w3.org/1999/xlink\"><defs/><g><g/><g transform=\"scale(1,1) translate(0.5,0.5)\"><rect fill=\"#FFFFFF\" height=\"500\" stroke=\"none\" width=\"300\" x=\"0\" y=\"0\"/><rect fill=\"#ffffff\" height=\"500\" stroke=\"none\" width=\"300\" x=\"0\" y=\"0\"/><rect fill=\"#FFFFFF\" height=\"470.815\" stroke=\"none\" width=\"231.6871875\" x=\"38.31281250000001\" y=\"4.000000000000057\"/><rect fill=\"#ffffff\" height=\"470.815\" stroke=\"none\" width=\"231.6871875\" x=\"38.31281250000001\" y=\"4.000000000000057\"/><g><rect fill=\"none\" height=\"470.815\" stroke=\"#e5e5e5\" stroke-miterlimit=\"10\" width=\"231.6871875\" x=\"38.31281250000001\" y=\"4.000000000000057\"/></g><g><g><path d=\" M 96 475 L 96 4\" fill=\"none\" paint-order=\"fill stroke markers\" stroke=\"#e5e5e5\" stroke-miterlimit=\"10\"/><path d=\" M 212 475 L 212 4\" fill=\"none\" paint-order=\"fill stroke markers\" stroke=\"#e5e5e5\" stroke-miterlimit=\"10\"/></g><g><path d=\" M 38 453 L 270 453\" fill=\"none\" paint-order=\"fill stroke markers\" stroke=\"#e5e5e5\" stroke-miterlimit=\"10\"/><path d=\" M 38 361 L 270 361\" fill=\"none\" paint-order=\"fill stroke markers\" stroke=\"#e5e5e5\" stroke-miterlimit=\"10\"/><path d=\" M 38 269 L 270 269\" fill=\"none\" paint-order=\"fill stroke markers\" stroke=\"#e5e5e5\" stroke-miterlimit=\"10\"/><path d=\" M 38 178 L 270 178\" fill=\"none\" paint-order=\"fill stroke markers\" stroke=\"#e5e5e5\" stroke-miterlimit=\"10\"/><path d=\" M 38 86 L 270 86\" fill=\"none\" paint-order=\"fill stroke markers\" stroke=\"#e5e5e5\" stroke-miterlimit=\"10\"/></g><g><path fill=\"none\" stroke=\"none\"/><rect fill=\"#5975a4\" height=\"428.0136363636363\" stroke=\"none\" width=\"92.6748750000006\" x=\"49.8971718749997\" y=\"25.40068181818185\"/><path d=\" M 49.8971718749997 25.40068181818185 L 142.5720468750003 25.40068181818185 L 142.5720468750003 453.41431818181815 L 49.8971718749997 453.41431818181815 L 49.8971718749997 25.40068181818185 Z\" fill=\"none\" paint-order=\"fill stroke markers\" stroke=\"#5975a4\" stroke-miterlimit=\"10\"/><rect fill=\"#5f9e6f\" height=\"186.7997050413427\" stroke=\"none\" width=\"92.67487500000061\" x=\"165.7407656249997\" y=\"266.61461314047546\"/><path d=\" M 165.7407656249997 266.61461314047546 L 258.4156406250003 266.61461314047546 L 258.4156406250003 453.41431818181815 L 165.7407656249997 453.41431818181815 L 165.7407656249997 266.61461314047546 Z\" fill=\"none\" paint-order=\"fill stroke markers\" stroke=\"#5f9e6f\" stroke-miterlimit=\"10\"/></g></g><g/><g><g><path d=\" M 38 475 L 270 475\" fill=\"none\" paint-order=\"fill stroke markers\" stroke=\"black\" stroke-miterlimit=\"10\"/><path d=\" M 96 481 L 96 473\" fill=\"none\" paint-order=\"fill stroke markers\" stroke=\"black\" stroke-miterlimit=\"10\"/><path d=\" M 212 481 L 212 473\" fill=\"none\" paint-order=\"fill stroke markers\" stroke=\"black\" stroke-miterlimit=\"10\"/><text dominant-baseline=\"hanging\" fill=\"#444444\" font-family=\"helvetica\" font-size=\"8pt\" font-style=\"normal\" font-weight=\"normal\" stroke=\"none\" text-anchor=\"middle\" text-decoration=\"normal\" x=\"96\" y=\"486\">XGBoost</text><text dominant-baseline=\"hanging\" fill=\"#444444\" font-family=\"helvetica\" font-size=\"8pt\" font-style=\"normal\" font-weight=\"normal\" stroke=\"none\" text-anchor=\"middle\" text-decoration=\"normal\" x=\"212\" y=\"486\">LightGBM</text><text dominant-baseline=\"hanging\" fill=\"#444444\" font-family=\"helvetica\" font-size=\"10pt\" font-style=\"italic\" font-weight=\"normal\" stroke=\"none\" text-anchor=\"middle\" text-decoration=\"normal\" x=\"154.15640625\" y=\"504\"/></g><g><path d=\" M 38 475 L 38 4\" fill=\"none\" paint-order=\"fill stroke markers\" stroke=\"black\" stroke-miterlimit=\"10\"/><path d=\" M 32 453 L 40 453\" fill=\"none\" paint-order=\"fill stroke markers\" stroke=\"black\" stroke-miterlimit=\"10\"/><path d=\" M 32 361 L 40 361\" fill=\"none\" paint-order=\"fill stroke markers\" stroke=\"black\" stroke-miterlimit=\"10\"/><path d=\" M 32 269 L 40 269\" fill=\"none\" paint-order=\"fill stroke markers\" stroke=\"black\" stroke-miterlimit=\"10\"/><path d=\" M 32 178 L 40 178\" fill=\"none\" paint-order=\"fill stroke markers\" stroke=\"black\" stroke-miterlimit=\"10\"/><path d=\" M 32 86 L 40 86\" fill=\"none\" paint-order=\"fill stroke markers\" stroke=\"black\" stroke-miterlimit=\"10\"/><path d=\" M 34 472 L 38 472\" fill=\"none\" paint-order=\"fill stroke markers\" stroke=\"black\" stroke-miterlimit=\"10\"/><path d=\" M 34 453 L 38 453\" fill=\"none\" paint-order=\"fill stroke markers\" stroke=\"black\" stroke-miterlimit=\"10\"/><path d=\" M 34 435 L 38 435\" fill=\"none\" paint-order=\"fill stroke markers\" stroke=\"black\" stroke-miterlimit=\"10\"/><path d=\" M 34 417 L 38 417\" fill=\"none\" paint-order=\"fill stroke markers\" stroke=\"black\" stroke-miterlimit=\"10\"/><path d=\" M 34 398 L 38 398\" fill=\"none\" paint-order=\"fill stroke markers\" stroke=\"black\" stroke-miterlimit=\"10\"/><path d=\" M 34 380 L 38 380\" fill=\"none\" paint-order=\"fill stroke markers\" stroke=\"black\" stroke-miterlimit=\"10\"/><path d=\" M 34 361 L 38 361\" fill=\"none\" paint-order=\"fill stroke markers\" stroke=\"black\" stroke-miterlimit=\"10\"/><path d=\" M 34 343 L 38 343\" fill=\"none\" paint-order=\"fill stroke markers\" stroke=\"black\" stroke-miterlimit=\"10\"/><path d=\" M 34 325 L 38 325\" fill=\"none\" paint-order=\"fill stroke markers\" stroke=\"black\" stroke-miterlimit=\"10\"/><path d=\" M 34 306 L 38 306\" fill=\"none\" paint-order=\"fill stroke markers\" stroke=\"black\" stroke-miterlimit=\"10\"/><path d=\" M 34 288 L 38 288\" fill=\"none\" paint-order=\"fill stroke markers\" stroke=\"black\" stroke-miterlimit=\"10\"/><path d=\" M 34 269 L 38 269\" fill=\"none\" paint-order=\"fill stroke markers\" stroke=\"black\" stroke-miterlimit=\"10\"/><path d=\" M 34 251 L 38 251\" fill=\"none\" paint-order=\"fill stroke markers\" stroke=\"black\" stroke-miterlimit=\"10\"/><path d=\" M 34 233 L 38 233\" fill=\"none\" paint-order=\"fill stroke markers\" stroke=\"black\" stroke-miterlimit=\"10\"/><path d=\" M 34 214 L 38 214\" fill=\"none\" paint-order=\"fill stroke markers\" stroke=\"black\" stroke-miterlimit=\"10\"/><path d=\" M 34 196 L 38 196\" fill=\"none\" paint-order=\"fill stroke markers\" stroke=\"black\" stroke-miterlimit=\"10\"/><path d=\" M 34 178 L 38 178\" fill=\"none\" paint-order=\"fill stroke markers\" stroke=\"black\" stroke-miterlimit=\"10\"/><path d=\" M 34 159 L 38 159\" fill=\"none\" paint-order=\"fill stroke markers\" stroke=\"black\" stroke-miterlimit=\"10\"/><path d=\" M 34 141 L 38 141\" fill=\"none\" paint-order=\"fill stroke markers\" stroke=\"black\" stroke-miterlimit=\"10\"/><path d=\" M 34 122 L 38 122\" fill=\"none\" paint-order=\"fill stroke markers\" stroke=\"black\" stroke-miterlimit=\"10\"/><path d=\" M 34 104 L 38 104\" fill=\"none\" paint-order=\"fill stroke markers\" stroke=\"black\" stroke-miterlimit=\"10\"/><path d=\" M 34 86 L 38 86\" fill=\"none\" paint-order=\"fill stroke markers\" stroke=\"black\" stroke-miterlimit=\"10\"/><path d=\" M 34 67 L 38 67\" fill=\"none\" paint-order=\"fill stroke markers\" stroke=\"black\" stroke-miterlimit=\"10\"/><path d=\" M 34 49 L 38 49\" fill=\"none\" paint-order=\"fill stroke markers\" stroke=\"black\" stroke-miterlimit=\"10\"/><path d=\" M 34 30 L 38 30\" fill=\"none\" paint-order=\"fill stroke markers\" stroke=\"black\" stroke-miterlimit=\"10\"/><path d=\" M 34 12 L 38 12\" fill=\"none\" paint-order=\"fill stroke markers\" stroke=\"black\" stroke-miterlimit=\"10\"/><text dominant-baseline=\"central\" fill=\"#444444\" font-family=\"helvetica\" font-size=\"8pt\" font-style=\"normal\" font-weight=\"normal\" stroke=\"none\" text-anchor=\"end\" text-decoration=\"normal\" x=\"27\" y=\"453\">0</text><text dominant-baseline=\"central\" fill=\"#444444\" font-family=\"helvetica\" font-size=\"8pt\" font-style=\"normal\" font-weight=\"normal\" stroke=\"none\" text-anchor=\"end\" text-decoration=\"normal\" x=\"27\" y=\"361\">2</text><text dominant-baseline=\"central\" fill=\"#444444\" font-family=\"helvetica\" font-size=\"8pt\" font-style=\"normal\" font-weight=\"normal\" stroke=\"none\" text-anchor=\"end\" text-decoration=\"normal\" x=\"27\" y=\"269\">4</text><text dominant-baseline=\"central\" fill=\"#444444\" font-family=\"helvetica\" font-size=\"8pt\" font-style=\"normal\" font-weight=\"normal\" stroke=\"none\" text-anchor=\"end\" text-decoration=\"normal\" x=\"27\" y=\"178\">6</text><text dominant-baseline=\"central\" fill=\"#444444\" font-family=\"helvetica\" font-size=\"8pt\" font-style=\"normal\" font-weight=\"normal\" stroke=\"none\" text-anchor=\"end\" text-decoration=\"normal\" x=\"27\" y=\"86\">8</text><g transform=\"translate(15.592500000000008,239.40750000000003) rotate(-90,0,0)\"><text dominant-baseline=\"alphabetic\" fill=\"#444444\" font-family=\"helvetica\" font-size=\"10pt\" font-style=\"italic\" font-weight=\"normal\" stroke=\"none\" text-anchor=\"middle\" text-decoration=\"normal\" x=\"0\" y=\"0\">Time (minutes)</text><g transform=\"rotate(90,0,0) translate(-15.592500000000008,-239.40750000000003)\"/></g></g></g></g></g></svg>"
      ],
      "text/plain": [
       "<IPython.core.display.SVG object>"
      ]
     },
     "metadata": {},
     "output_type": "display_data"
    }
   ],
   "source": [
    "# Render SVG so that it is visible on Github\n",
    "read_svg_from_nb(bci_notebook, '# SVG: XGB vs LGBM Retrain Time')"
   ]
  },
  {
   "cell_type": "markdown",
   "metadata": {},
   "source": [
    "Above is the total time taken to run the train retrain experiment. we can see that LightGBM is over twice as fast as XGBoost."
   ]
  },
  {
   "cell_type": "markdown",
   "metadata": {},
   "source": [
    "## Football\n",
    "\n",
    "The football dataset is highly noisy and the metrics are poor. However, we can see the beginnings of concept drift on in. In the plot it is represented the accuracy of both XGBoost and LightGBM libraries under the following conditions: the first label, 2014/2015, represents a model trained on data from 2008 season until 2014, and then evaluated in season 2014/2015. Then the same model is evaluated in season 2015/2016. Finally, the model is retrained with data from 2008 season until 2015 and evaluated in season 2015/2016. As it is shown, the retrained model performs better. "
   ]
  },
  {
   "cell_type": "code",
   "execution_count": 11,
   "metadata": {},
   "outputs": [
    {
     "data": {
      "image/png": "[encoded data removed]",
      "text/plain": [
       "<PIL.PngImagePlugin.PngImageFile image mode=RGBA size=665x445 at 0x7F35F9E13438>"
      ]
     },
     "execution_count": 11,
     "metadata": {},
     "output_type": "execute_result"
    }
   ],
   "source": [
    "read_img_from_nb(football_notebook, '# Football Retrain Results')"
   ]
  }
 ],
 "metadata": {
  "kernelspec": {
   "display_name": "Python 3",
   "language": "python",
   "name": "python3"
  },
  "language_info": {
   "codemirror_mode": {
    "name": "ipython",
    "version": 3
   },
   "file_extension": ".py",
   "mimetype": "text/x-python",
   "name": "python",
   "nbconvert_exporter": "python",
   "pygments_lexer": "ipython3",
   "version": "3.6.1"
  }
 },
 "nbformat": 4,
 "nbformat_minor": 2
}
