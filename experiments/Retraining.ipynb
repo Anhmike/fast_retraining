{
 "cells": [
  {
   "cell_type": "code",
   "execution_count": 72,
   "metadata": {
    "collapsed": false
   },
   "outputs": [
    {
     "name": "stdout",
     "output_type": "stream",
     "text": [
      "The autoreload extension is already loaded. To reload it, use:\n",
      "  %reload_ext autoreload\n"
     ]
    }
   ],
   "source": [
    "import pandas as pd\n",
    "from sklearn.preprocessing import StandardScaler\n",
    "\n",
    "from sklearn.pipeline import Pipeline, FeatureUnion\n",
    "\n",
    "from sklearn.model_selection import cross_val_score, cross_val_predict\n",
    "from xgboost import XGBClassifier\n",
    "import numpy as np\n",
    "import itertools\n",
    "import seaborn\n",
    "from sklearn.metrics import roc_auc_score\n",
    "from experiments.libs import loaders\n",
    "from sklearn.model_selection import StratifiedKFold\n",
    "\n",
    "from sklearn.metrics import roc_auc_score\n",
    "from xgboost import XGBModel\n",
    "\n",
    "from lightgbm import LGBMClassifier\n",
    "\n",
    "\n",
    "from libs.loaders import load_bci\n",
    "from itertools import zip_longest\n",
    "from copy import deepcopy\n",
    "\n",
    "from matplotlib import pyplot as plt\n",
    "%matplotlib inline\n",
    "%load_ext autoreload\n",
    "%autoreload 2"
   ]
  },
  {
   "cell_type": "code",
   "execution_count": 73,
   "metadata": {
    "collapsed": false
   },
   "outputs": [],
   "source": [
    "pipeline_steps = [('scale', StandardScaler())]\n",
    "continuous_pipeline = Pipeline(steps=pipeline_steps)"
   ]
  },
  {
   "cell_type": "code",
   "execution_count": 74,
   "metadata": {
    "collapsed": false
   },
   "outputs": [],
   "source": [
    "featurisers = [('continuous', continuous_pipeline)]"
   ]
  },
  {
   "cell_type": "code",
   "execution_count": 75,
   "metadata": {
    "collapsed": false
   },
   "outputs": [],
   "source": [
    "xgb_clf_pipeline = Pipeline(steps=[('features', FeatureUnion(featurisers)),\n",
    "                                          ('clf', XGBClassifier(max_depth=2, \n",
    "                                                                learning_rate=0.1, \n",
    "                                                                scale_pos_weight=2,\n",
    "                                                                n_estimators=100,\n",
    "                                                                gamma=0.1,\n",
    "                                                                subsample=1))]) "
   ]
  },
  {
   "cell_type": "code",
   "execution_count": 76,
   "metadata": {
    "collapsed": true
   },
   "outputs": [],
   "source": [
    "lgbm_clf_pipeline = Pipeline(steps=[('features', FeatureUnion(featurisers)),\n",
    "                                          ('clf', LGBMClassifier(max_depth=2, \n",
    "                                                                learning_rate=0.1, \n",
    "                                                                scale_pos_weight=2,\n",
    "                                                                n_estimators=100,\n",
    "                                                                subsample=1))]) "
   ]
  },
  {
   "cell_type": "code",
   "execution_count": 77,
   "metadata": {
    "collapsed": false
   },
   "outputs": [],
   "source": [
    "X, y, X_test, y_test = load_bci()"
   ]
  },
  {
   "cell_type": "code",
   "execution_count": 78,
   "metadata": {
    "collapsed": true
   },
   "outputs": [],
   "source": [
    "def grouper(iterable, n, fillvalue=None):\n",
    "    \"Collect data into fixed-length chunks or blocks\"\n",
    "    # grouper('ABCDEFG', 3, 'x') --> ABC DEF Gxx\n",
    "    args = [iter(iterable)] * n\n",
    "    return zip_longest(fillvalue=fillvalue, *args)"
   ]
  },
  {
   "cell_type": "code",
   "execution_count": 79,
   "metadata": {
    "collapsed": true
   },
   "outputs": [],
   "source": [
    "def run_train_retrain_comparison(model, X, y, X_test, y_test):\n",
    "    retrain_model = deepcopy(model)\n",
    "    historical_X = [X]\n",
    "    historical_y = [y]\n",
    "    prev_size = X.shape[0]\n",
    "    train_auc=[]\n",
    "    retrain_auc=[]\n",
    "    for X_chunk, y_chunk in  zip(grouper(X_test, 15*12), grouper(y_test, 15*12)):\n",
    "        X_chunk_array = np.array(X_chunk)\n",
    "        y_chunk_array = np.array(y_chunk)\n",
    "        \n",
    "        try: # TODO: Fix grouper\n",
    "            y_pred = model.predict_proba(X_chunk_array)\n",
    "            train_auc.append(roc_auc_score(y_chunk_array, y_pred[:, 1]))\n",
    "            print('Train ', train_auc[-1])\n",
    "\n",
    "            y_pred = retrain_model.predict_proba(X_chunk_array)\n",
    "            retrain_auc.append(roc_auc_score(y_chunk_array, y_pred[:, 1]))\n",
    "            print('Retrain ', retrain_auc[-1])\n",
    "\n",
    "            historical_X.append(X_chunk_array)\n",
    "            historical_y.append(y_chunk_array)\n",
    "\n",
    "            new_train_X  = np.concatenate(historical_X)\n",
    "            retrain_model.fit(new_train_X, np.concatenate(historical_y))\n",
    "        except:\n",
    "            print('Finished')\n",
    "            print(X_chunk_array.shape)\n",
    "            print(y_chunk_array.shape)\n",
    "        \n",
    "    return pd.DataFrame({\n",
    "        'train_auc':train_auc,\n",
    "        'retrain_auc':retrain_auc\n",
    "    })\n",
    "\n"
   ]
  },
  {
   "cell_type": "code",
   "execution_count": 80,
   "metadata": {
    "collapsed": false
   },
   "outputs": [
    {
     "data": {
      "text/plain": [
       "Pipeline(steps=[('features', FeatureUnion(n_jobs=1,\n",
       "       transformer_list=[('continuous', Pipeline(steps=[('scale', StandardScaler(copy=True, with_mean=True, with_std=True))]))],\n",
       "       transformer_weights=None)), ('clf', XGBClassifier(base_score=0.5, colsample_bylevel=1, colsample_bytree=1,\n",
       "       gamma=0...logistic', reg_alpha=0, reg_lambda=1,\n",
       "       scale_pos_weight=2, seed=0, silent=True, subsample=1))])"
      ]
     },
     "execution_count": 80,
     "metadata": {},
     "output_type": "execute_result"
    }
   ],
   "source": [
    "xgb_clf_pipeline.fit(X,y)"
   ]
  },
  {
   "cell_type": "code",
   "execution_count": 81,
   "metadata": {
    "collapsed": false
   },
   "outputs": [
    {
     "name": "stdout",
     "output_type": "stream",
     "text": [
      "Train  0.824853864473\n",
      "Retrain  0.824853864473\n",
      "Train  0.76726448155\n",
      "Retrain  0.75159760874\n",
      "Train  0.738666666667\n",
      "Retrain  0.742\n",
      "Train  0.728847703465\n",
      "Retrain  0.714544721998\n",
      "Train  0.77780016116\n",
      "Retrain  0.778807413376\n",
      "Train  0.757306776359\n",
      "Retrain  0.727430179693\n",
      "Train  0.723749729379\n",
      "Retrain  0.735007577398\n",
      "Train  0.832647759255\n",
      "Retrain  0.828967308941\n",
      "Train  0.796\n",
      "Retrain  0.808\n",
      "Train  0.759038752977\n",
      "Retrain  0.762069712059\n",
      "Train  0.754895897753\n",
      "Retrain  0.775097917955\n",
      "Train  0.692640692641\n",
      "Retrain  0.696557410843\n",
      "Train  0.727443609023\n",
      "Retrain  0.734727443609\n",
      "Train  0.815111495995\n",
      "Retrain  0.814462004763\n",
      "Train  0.705640280804\n",
      "Retrain  0.706366497216\n",
      "Train  0.752417405318\n",
      "Retrain  0.735092667204\n",
      "Train  0.769214527027\n",
      "Retrain  0.758234797297\n",
      "Train  0.690373118945\n",
      "Retrain  0.680890538033\n",
      "Train  0.746888888889\n",
      "Retrain  0.748666666667\n",
      "Train  0.619047619048\n",
      "Retrain  0.603174603175\n",
      "Train  0.727555555556\n",
      "Retrain  0.773555555556\n",
      "Train  0.756440788049\n",
      "Retrain  0.753842823122\n",
      "Train  0.729378653388\n",
      "Retrain  0.726347694306\n",
      "Train  0.704039408867\n",
      "Retrain  0.721379310345\n",
      "Train  0.649915540541\n",
      "Retrain  0.653716216216\n",
      "Train  0.726421557433\n",
      "Retrain  0.706097282485\n",
      "Train  0.715160472973\n",
      "Retrain  0.708192567568\n",
      "Train  0.708965517241\n",
      "Retrain  0.730049261084\n",
      "Train  0.746289107102\n",
      "Retrain  0.746745832382\n",
      "Train  0.692022263451\n",
      "Retrain  0.728097299526\n",
      "Train  0.707896857373\n",
      "Retrain  0.677477840451\n",
      "Train  0.740903225806\n",
      "Retrain  0.696\n",
      "Train  0.690147664004\n",
      "Retrain  0.700072621641\n",
      "Train  0.593692022263\n",
      "Retrain  0.561739847454\n",
      "Train  0.706486704271\n",
      "Retrain  0.719178082192\n",
      "Train  0.649879129734\n",
      "Retrain  0.696615632554\n",
      "Train  0.573268581081\n",
      "Retrain  0.596072635135\n",
      "Train  0.657111111111\n",
      "Retrain  0.644666666667\n",
      "Train  0.662359022556\n",
      "Retrain  0.679981203008\n",
      "Train  0.671031426269\n",
      "Retrain  0.65592264303\n",
      "Train  0.606885178314\n",
      "Retrain  0.625025767883\n",
      "Train  0.680902497985\n",
      "Retrain  0.720386784851\n",
      "Train  0.69170816194\n",
      "Retrain  0.74042000433\n",
      "Train  0.596444444444\n",
      "Retrain  0.609111111111\n",
      "Train  0.666588345865\n",
      "Retrain  0.684445488722\n",
      "Train  0.678210678211\n",
      "Retrain  0.717171717172\n",
      "Train  0.640008058018\n",
      "Retrain  0.591458501209\n",
      "Train  0.668874172185\n",
      "Retrain  0.661794930349\n",
      "Train  0.636501407231\n",
      "Retrain  0.680017319766\n",
      "Train  0.621831468372\n",
      "Retrain  0.578442566796\n",
      "Train  0.724366293674\n",
      "Retrain  0.716145238639\n",
      "Train  0.686044114616\n",
      "Retrain  0.755514326943\n",
      "Train  0.611098424298\n",
      "Retrain  0.622744918931\n",
      "Train  0.617555555556\n",
      "Retrain  0.629777777778\n",
      "Train  0.600700886415\n",
      "Retrain  0.616780045351\n",
      "Train  0.659657802515\n",
      "Retrain  0.695938981653\n",
      "Train  0.675253378378\n",
      "Retrain  0.629222972973\n",
      "Train  0.583111111111\n",
      "Retrain  0.581333333333\n",
      "Train  0.647487684729\n",
      "Retrain  0.645911330049\n",
      "Train  0.630965973967\n",
      "Retrain  0.677095227221\n",
      "Train  0.625333333333\n",
      "Retrain  0.629111111111\n",
      "Train  0.588235294118\n",
      "Retrain  0.647864625302\n",
      "Train  0.571428571429\n",
      "Retrain  0.65034965035\n",
      "Train  0.590604026846\n",
      "Retrain  0.604459839792\n",
      "Train  0.517419354839\n",
      "Retrain  0.554580645161\n",
      "Train  0.483660130719\n",
      "Retrain  0.419511014282\n",
      "Finished\n",
      "(180,)\n",
      "(180,)\n"
     ]
    }
   ],
   "source": [
    "df = run_train_retrain_comparison(xgb_clf_pipeline, X, y, X_test, y_test)"
   ]
  },
  {
   "cell_type": "code",
   "execution_count": 85,
   "metadata": {
    "collapsed": false
   },
   "outputs": [
    {
     "data": {
      "text/plain": [
       "<matplotlib.axes._subplots.AxesSubplot at 0x7f6172625908>"
      ]
     },
     "execution_count": 85,
     "metadata": {},
     "output_type": "execute_result"
    },
    {
     "data": {
      "image/png": "[encoded data removed]",
      "text/plain": [
       "<matplotlib.figure.Figure at 0x7f61725bf940>"
      ]
     },
     "metadata": {},
     "output_type": "display_data"
    }
   ],
   "source": [
    "df.plot()"
   ]
  },
  {
   "cell_type": "code",
   "execution_count": 86,
   "metadata": {
    "collapsed": false
   },
   "outputs": [
    {
     "data": {
      "text/plain": [
       "retrain_auc    0.689196\n",
       "train_auc      0.683177\n",
       "dtype: float64"
      ]
     },
     "execution_count": 86,
     "metadata": {},
     "output_type": "execute_result"
    }
   ],
   "source": [
    "df.mean()"
   ]
  },
  {
   "cell_type": "code",
   "execution_count": 87,
   "metadata": {
    "collapsed": false
   },
   "outputs": [
    {
     "name": "stderr",
     "output_type": "stream",
     "text": [
      "/home/hoaphumanoid/anaconda3/envs/strata/lib/python3.6/site-packages/ipykernel/__main__.py:1: FutureWarning: pd.rolling_mean is deprecated for DataFrame and will be removed in a future version, replace with \n",
      "\tDataFrame.rolling(window=10,center=False).mean()\n",
      "  if __name__ == '__main__':\n"
     ]
    },
    {
     "data": {
      "text/plain": [
       "<matplotlib.axes._subplots.AxesSubplot at 0x7f61725fda20>"
      ]
     },
     "execution_count": 87,
     "metadata": {},
     "output_type": "execute_result"
    },
    {
     "data": {
      "image/png": "[encoded data removed]",
      "text/plain": [
       "<matplotlib.figure.Figure at 0x7f61725e72b0>"
      ]
     },
     "metadata": {},
     "output_type": "display_data"
    }
   ],
   "source": [
    "pd.rolling_mean(df, 10).plot()"
   ]
  },
  {
   "cell_type": "code",
   "execution_count": 88,
   "metadata": {
    "collapsed": false
   },
   "outputs": [
    {
     "data": {
      "text/plain": [
       "Pipeline(steps=[('features', FeatureUnion(n_jobs=1,\n",
       "       transformer_list=[('continuous', Pipeline(steps=[('scale', StandardScaler(copy=True, with_mean=True, with_std=True))]))],\n",
       "       transformer_weights=None)), ('clf', LGBMClassifier(boosting_type='gbdt', colsample_bytree=1, drop_rate=0.1,\n",
       "        is_un...   subsample_for_bin=50000, subsample_freq=1, uniform_drop=False,\n",
       "        xgboost_dart_mode=False))])"
      ]
     },
     "execution_count": 88,
     "metadata": {},
     "output_type": "execute_result"
    }
   ],
   "source": [
    "lgbm_clf_pipeline.fit(X,y)"
   ]
  },
  {
   "cell_type": "code",
   "execution_count": 89,
   "metadata": {
    "collapsed": false
   },
   "outputs": [
    {
     "name": "stdout",
     "output_type": "stream",
     "text": [
      "Train  0.81705996969\n",
      "Retrain  0.81705996969\n",
      "Train  0.762935477221\n",
      "Retrain  0.75221603793\n",
      "Train  0.730222222222\n",
      "Retrain  0.756222222222\n",
      "Train  0.718372280419\n",
      "Retrain  0.728646253022\n",
      "Train  0.774174053183\n",
      "Retrain  0.770145044319\n",
      "Train  0.758172764668\n",
      "Retrain  0.737172548171\n",
      "Train  0.696254600563\n",
      "Retrain  0.707295951505\n",
      "Train  0.831348776792\n",
      "Retrain  0.81467850184\n",
      "Train  0.785777777778\n",
      "Retrain  0.811333333333\n",
      "Train  0.742151980948\n",
      "Retrain  0.757523273436\n",
      "Train  0.755720470006\n",
      "Retrain  0.754483611626\n",
      "Train  0.702535559678\n",
      "Retrain  0.691403834261\n",
      "Train  0.746240601504\n",
      "Retrain  0.722744360902\n",
      "Train  0.802121671357\n",
      "Retrain  0.823121887855\n",
      "Train  0.677075768579\n",
      "Retrain  0.691358024691\n",
      "Train  0.742546333602\n",
      "Retrain  0.745366639807\n",
      "Train  0.760768581081\n",
      "Retrain  0.760768581081\n",
      "Train  0.690579262008\n",
      "Retrain  0.704390847248\n",
      "Train  0.768888888889\n",
      "Retrain  0.760222222222\n",
      "Train  0.615749330035\n",
      "Retrain  0.588332302618\n",
      "Train  0.713555555556\n",
      "Retrain  0.754222222222\n",
      "Train  0.759688244209\n",
      "Retrain  0.735440571552\n",
      "Train  0.736956051093\n",
      "Retrain  0.747780904958\n",
      "Train  0.68315270936\n",
      "Retrain  0.71645320197\n",
      "Train  0.634501689189\n",
      "Retrain  0.662162162162\n",
      "Train  0.739438227906\n",
      "Retrain  0.719799040877\n",
      "Train  0.709037162162\n",
      "Retrain  0.708826013514\n",
      "Train  0.713694581281\n",
      "Retrain  0.734384236453\n",
      "Train  0.73190226079\n",
      "Retrain  0.754053436858\n",
      "Train  0.683776540919\n",
      "Retrain  0.709750566893\n",
      "Train  0.701651893634\n",
      "Retrain  0.672038678485\n",
      "Train  0.734451612903\n",
      "Retrain  0.700387096774\n",
      "Train  0.703703703704\n",
      "Retrain  0.708787218591\n",
      "Train  0.577612863327\n",
      "Retrain  0.546072974644\n",
      "Train  0.738114423852\n",
      "Retrain  0.722602739726\n",
      "Train  0.643634165995\n",
      "Retrain  0.68432715552\n",
      "Train  0.56566722973\n",
      "Retrain  0.57495777027\n",
      "Train  0.659555555556\n",
      "Retrain  0.647555555556\n",
      "Train  0.663533834586\n",
      "Retrain  0.669877819549\n",
      "Train  0.65592264303\n",
      "Retrain  0.636784850927\n",
      "Train  0.614512471655\n",
      "Retrain  0.620490620491\n",
      "Train  0.691780821918\n",
      "Retrain  0.73106365834\n",
      "Train  0.705563974886\n",
      "Retrain  0.736739554016\n",
      "Train  0.583333333333\n",
      "Retrain  0.604222222222\n",
      "Train  0.651785714286\n",
      "Retrain  0.679276315789\n",
      "Train  0.667903525046\n",
      "Retrain  0.69387755102\n",
      "Train  0.63638195004\n",
      "Retrain  0.595688960516\n",
      "Train  0.656999314912\n",
      "Retrain  0.674354875542\n",
      "Train  0.62459406798\n",
      "Retrain  0.691491664863\n",
      "Train  0.622744918931\n",
      "Retrain  0.576615665677\n",
      "Train  0.709522722083\n",
      "Retrain  0.712263073761\n",
      "Train  0.681096681097\n",
      "Retrain  0.7377860235\n",
      "Train  0.613153688057\n",
      "Retrain  0.635989952044\n",
      "Train  0.608666666667\n",
      "Retrain  0.636888888889\n",
      "Train  0.615955473098\n",
      "Retrain  0.622552051123\n",
      "Train  0.642135642136\n",
      "Retrain  0.691403834261\n",
      "Train  0.679898648649\n",
      "Retrain  0.65308277027\n",
      "Train  0.587777777778\n",
      "Retrain  0.578666666667\n",
      "Train  0.630147783251\n",
      "Retrain  0.653793103448\n",
      "Train  0.633934688285\n",
      "Retrain  0.672071249144\n",
      "Train  0.642222222222\n",
      "Retrain  0.637555555556\n",
      "Train  0.564464141821\n",
      "Retrain  0.646655922643\n",
      "Train  0.57967032967\n",
      "Retrain  0.658841158841\n",
      "Train  0.57350075774\n",
      "Retrain  0.598397921628\n",
      "Train  0.498322580645\n",
      "Retrain  0.578838709677\n",
      "Train  0.471556523844\n",
      "Retrain  0.415637860082\n",
      "Finished\n",
      "(180,)\n",
      "(180,)\n"
     ]
    }
   ],
   "source": [
    "df = run_train_retrain_comparison(lgbm_clf_pipeline, X, y, X_test, y_test)"
   ]
  },
  {
   "cell_type": "code",
   "execution_count": 90,
   "metadata": {
    "collapsed": false
   },
   "outputs": [
    {
     "data": {
      "text/plain": [
       "<matplotlib.axes._subplots.AxesSubplot at 0x7f61725bf7f0>"
      ]
     },
     "execution_count": 90,
     "metadata": {},
     "output_type": "execute_result"
    },
    {
     "data": {
      "image/png": "[encoded data removed]",
      "text/plain": [
       "<matplotlib.figure.Figure at 0x7f61725e8ac8>"
      ]
     },
     "metadata": {},
     "output_type": "display_data"
    }
   ],
   "source": [
    "df.plot()"
   ]
  },
  {
   "cell_type": "code",
   "execution_count": 91,
   "metadata": {
    "collapsed": false
   },
   "outputs": [
    {
     "data": {
      "text/plain": [
       "retrain_auc    0.688409\n",
       "train_auc      0.679028\n",
       "dtype: float64"
      ]
     },
     "execution_count": 91,
     "metadata": {},
     "output_type": "execute_result"
    }
   ],
   "source": [
    "df.mean()"
   ]
  },
  {
   "cell_type": "code",
   "execution_count": 95,
   "metadata": {
    "collapsed": false
   },
   "outputs": [
    {
     "name": "stderr",
     "output_type": "stream",
     "text": [
      "/home/hoaphumanoid/anaconda3/envs/strata/lib/python3.6/site-packages/ipykernel/__main__.py:1: FutureWarning: pd.rolling_mean is deprecated for DataFrame and will be removed in a future version, replace with \n",
      "\tDataFrame.rolling(window=10,min_periods=1,center=False).mean()\n",
      "  if __name__ == '__main__':\n"
     ]
    },
    {
     "data": {
      "text/plain": [
       "<matplotlib.axes._subplots.AxesSubplot at 0x7f615206b438>"
      ]
     },
     "execution_count": 95,
     "metadata": {},
     "output_type": "execute_result"
    },
    {
     "data": {
      "image/png": "[encoded data removed]",
      "text/plain": [
       "<matplotlib.figure.Figure at 0x7f6152052ba8>"
      ]
     },
     "metadata": {},
     "output_type": "display_data"
    }
   ],
   "source": [
    "pd.rolling_mean(df, 10, min_periods=1).plot()"
   ]
  }
 ],
 "metadata": {
  "kernelspec": {
   "display_name": "Python 3",
   "language": "python",
   "name": "python3"
  },
  "language_info": {
   "codemirror_mode": {
    "name": "ipython",
    "version": 3
   },
   "file_extension": ".py",
   "mimetype": "text/x-python",
   "name": "python",
   "nbconvert_exporter": "python",
   "pygments_lexer": "ipython3",
   "version": "3.6.0"
  }
 },
 "nbformat": 4,
 "nbformat_minor": 2
}
